{
 "cells": [
  {
   "cell_type": "markdown",
   "metadata": {},
   "source": [
    "# Глава 4 Итераторы и генераторы(Python Дэвид Бизли)"
   ]
  },
  {
   "cell_type": "markdown",
   "metadata": {},
   "source": [
    "Итерации – одна из сильнейших сторон Python. На высшем уровне абстракции вы можете рассматривать итерации как способ обработки элементов последовательности. Однако их возможности намного шире: они включают создание собственных объектов-итераторов, применение полезных паттернов итераций из модуля itertools, создание функций-генераторов и т. д. Эта глава рассматривает типичные задачи, связанные с итерациями. "
   ]
  },
  {
   "cell_type": "markdown",
   "metadata": {},
   "source": [
    "#  Ручное прохождение по итератору "
   ]
  },
  {
   "cell_type": "markdown",
   "metadata": {},
   "source": [
    "Вам нужно обработать элементы итерируемого объекта, но по какой-то причине вы не хотите использовать цикл. "
   ]
  },
  {
   "cell_type": "markdown",
   "metadata": {},
   "source": [
    "Чтобы вручную пройти по итерируемому объекту, используйте функцию next() и напишите код так, чтобы он ловил исключение StopIteration. Например, в этом случае мы вручную читаем строки из файла: "
   ]
  },
  {
   "cell_type": "code",
   "execution_count": 2,
   "metadata": {},
   "outputs": [
    {
     "name": "stdout",
     "output_type": "stream",
     "text": [
      "one 12345\n",
      "two 678910"
     ]
    }
   ],
   "source": [
    "with open('passwd.txt') as f:\n",
    "    try:\n",
    "        while True:\n",
    "            line = next(f)\n",
    "            print(line, end='')\n",
    "    except StopIteration:\n",
    "        pass"
   ]
  },
  {
   "cell_type": "markdown",
   "metadata": {},
   "source": [
    "Обычно StopIteration используется для передачи сигнала о конце итерирования. Однако если вы используете next() вручную, вы вместо этого можете запрограммировать возвращение конечного значения, такого как None. Например: "
   ]
  },
  {
   "cell_type": "code",
   "execution_count": 6,
   "metadata": {},
   "outputs": [
    {
     "name": "stdout",
     "output_type": "stream",
     "text": [
      "one 12345\n",
      "\n",
      "two 678910\n",
      "None\n"
     ]
    }
   ],
   "source": [
    "with open('passwd.txt') as f:\n",
    "    while True:\n",
    "        line = next(f, None)\n",
    "        print(line)\n",
    "        if line is None:\n",
    "            break\n",
    "        \n",
    "        "
   ]
  },
  {
   "cell_type": "markdown",
   "metadata": {},
   "source": [
    "В большинстве случаев для прохода по итерируемому объекту используется цикл for. Однако задачи иногда требуют более точного контроля лежащего в основе механизма итераций. Также это полезно, для того чтобы разобраться, как он работает. Следующий интерактивный пример иллюстрирует базовые механизмы того, что происходит во время итерирования: "
   ]
  },
  {
   "cell_type": "code",
   "execution_count": 7,
   "metadata": {},
   "outputs": [
    {
     "data": {
      "text/plain": [
       "1"
      ]
     },
     "execution_count": 7,
     "metadata": {},
     "output_type": "execute_result"
    }
   ],
   "source": [
    "items = [1, 2, 3]\n",
    "# Получаем итератор \n",
    "# Вызываем items.__iter__() \n",
    "it = iter(items)\n",
    "# Запускаем итератор \n",
    "next(it)\n",
    "# Вызываем it.__next__() "
   ]
  },
  {
   "cell_type": "code",
   "execution_count": 8,
   "metadata": {},
   "outputs": [
    {
     "data": {
      "text/plain": [
       "2"
      ]
     },
     "execution_count": 8,
     "metadata": {},
     "output_type": "execute_result"
    }
   ],
   "source": [
    "next(it)"
   ]
  },
  {
   "cell_type": "code",
   "execution_count": 9,
   "metadata": {},
   "outputs": [
    {
     "data": {
      "text/plain": [
       "3"
      ]
     },
     "execution_count": 9,
     "metadata": {},
     "output_type": "execute_result"
    }
   ],
   "source": [
    "next(it)"
   ]
  },
  {
   "cell_type": "code",
   "execution_count": 10,
   "metadata": {},
   "outputs": [
    {
     "ename": "StopIteration",
     "evalue": "",
     "output_type": "error",
     "traceback": [
      "\u001b[1;31m---------------------------------------------------------------------------\u001b[0m",
      "\u001b[1;31mStopIteration\u001b[0m                             Traceback (most recent call last)",
      "\u001b[1;32m<ipython-input-10-bc1ab118995a>\u001b[0m in \u001b[0;36m<module>\u001b[1;34m()\u001b[0m\n\u001b[1;32m----> 1\u001b[1;33m \u001b[0mnext\u001b[0m\u001b[1;33m(\u001b[0m\u001b[0mit\u001b[0m\u001b[1;33m)\u001b[0m\u001b[1;33m\u001b[0m\u001b[0m\n\u001b[0m",
      "\u001b[1;31mStopIteration\u001b[0m: "
     ]
    }
   ],
   "source": [
    "next(it)"
   ]
  },
  {
   "cell_type": "markdown",
   "metadata": {},
   "source": [
    "Последующие рецепты в этой главе раскрывают подробности о приемах итерирования, что предполагает знание базового протокола итераторов. Убедитесь, что этот первый рецепт прочно улегся у вас в памяти. "
   ]
  },
  {
   "cell_type": "markdown",
   "metadata": {},
   "source": [
    "# Делегирование итерации "
   ]
  },
  {
   "cell_type": "markdown",
   "metadata": {},
   "source": [
    "Вы создали нестандартный объект-контейнер, который внутри содержит список, кортеж или какой-то другой итерируемый объект. Вы хотите заставить ваш новый контейнер работать с итерациями. "
   ]
  },
  {
   "cell_type": "markdown",
   "metadata": {},
   "source": [
    "В типичном случае вам нужно определить метод __iter__(), который делегирует итерацию внутреннему содержимому контейнера. Например: "
   ]
  },
  {
   "cell_type": "code",
   "execution_count": 1,
   "metadata": {},
   "outputs": [
    {
     "name": "stdout",
     "output_type": "stream",
     "text": [
      "Node(1)\n",
      "Node(2)\n"
     ]
    }
   ],
   "source": [
    "class Node:\n",
    "    def __init__(self, value):\n",
    "        self._value = value\n",
    "        self._children = []\n",
    "        \n",
    "    def __repr__(self):\n",
    "        return 'Node({!r})'.format(self._value)\n",
    "    \n",
    "    def add_child(self, node):\n",
    "        self._children.append(node)\n",
    "        \n",
    "    def __iter__(self):\n",
    "        return iter(self._children)\n",
    "    \n",
    "    \n",
    "#Пример\n",
    "if __name__ == '__main__':\n",
    "    root = Node(0)\n",
    "    child1 = Node(1)\n",
    "    child2 = Node(2)\n",
    "    root.add_child(child1)\n",
    "    root.add_child(child2)\n",
    "    for ch in root:\n",
    "        print(ch)"
   ]
  },
  {
   "cell_type": "markdown",
   "metadata": {},
   "source": [
    "В этой программе метод __iter__() просто перенаправляет запрос на итерацию содержащемуся внутри атрибуту *_children*. "
   ]
  },
  {
   "cell_type": "markdown",
   "metadata": {},
   "source": [
    "Протокол итераций Python требует, чтобы __iter__() возвращал специальный объект-итератор, в котором реализован метод __next__(), который и выполняет итерацию. Если вы просто итерируете по содержимому другого контейнера, вам не стоит беспокоиться о деталях внутреннего механизма процесса. Вам нужно просто передать запрос на итерацию. Использование функции iter() здесь позволяет «срезать путь» и написать более чистый код. iter(s) просто возвращает внутренний итератор, вызывая s.__iter__(), – примерно так же, как len(s) вызывает s.__len__(). "
   ]
  },
  {
   "cell_type": "markdown",
   "metadata": {},
   "source": [
    "# Создание новых итерационных паттернов с помощью генераторов "
   ]
  },
  {
   "cell_type": "markdown",
   "metadata": {},
   "source": [
    "Вы хотите реализовать собственный паттерн итераций, который будет отличаться от обычных встроенных функций (таких как range(), reversed() и т. п.). "
   ]
  },
  {
   "cell_type": "markdown",
   "metadata": {},
   "source": [
    "Если вы хотите реализовать новый тип итерационного паттерна, определите его с помощью генератора. Вот, например, генератор, который создает диапазон чисел с плавающей точкой: "
   ]
  },
  {
   "cell_type": "code",
   "execution_count": 1,
   "metadata": {},
   "outputs": [],
   "source": [
    "def frange(start, stop, increment):\n",
    "    x = start\n",
    "    while x < stop:\n",
    "        yield x\n",
    "        x += increment"
   ]
  },
  {
   "cell_type": "markdown",
   "metadata": {},
   "source": [
    "Чтобы использовать такую функцию, вы должны проитерировать по ней в цикле или применить ее с какой-то другой функцией, которая потребляет итерируемый объект (например, sum(), list() и т. п.). Например:"
   ]
  },
  {
   "cell_type": "code",
   "execution_count": 2,
   "metadata": {},
   "outputs": [
    {
     "name": "stdout",
     "output_type": "stream",
     "text": [
      "0\n",
      "0.5\n",
      "1.0\n",
      "1.5\n",
      "2.0\n",
      "2.5\n",
      "3.0\n",
      "3.5\n"
     ]
    }
   ],
   "source": [
    "for n in frange(0, 4, 0.5):\n",
    "    print(n)"
   ]
  },
  {
   "cell_type": "code",
   "execution_count": 3,
   "metadata": {},
   "outputs": [
    {
     "data": {
      "text/plain": [
       "[0, 0.125, 0.25, 0.375, 0.5, 0.625, 0.75, 0.875]"
      ]
     },
     "execution_count": 3,
     "metadata": {},
     "output_type": "execute_result"
    }
   ],
   "source": [
    "list(frange(0, 1, 0.125))"
   ]
  },
  {
   "cell_type": "code",
   "execution_count": 4,
   "metadata": {},
   "outputs": [
    {
     "data": {
      "text/plain": [
       "3.5"
      ]
     },
     "execution_count": 4,
     "metadata": {},
     "output_type": "execute_result"
    }
   ],
   "source": [
    "sum(frange(0, 1, 0.125))"
   ]
  },
  {
   "cell_type": "markdown",
   "metadata": {},
   "source": [
    "Само присутствие инструкции yield в функции превращает ее в генератор. В отличие от обычной функции, генератор запускается только в ответ на итерацию. Вот эксперимент, который вы можете провести, чтобы понять внутренний механизм работы таких функций: "
   ]
  },
  {
   "cell_type": "code",
   "execution_count": 5,
   "metadata": {},
   "outputs": [],
   "source": [
    "def countdown(n):\n",
    "    print('Starting to count from', n)\n",
    "    while n > 0:\n",
    "        yield n\n",
    "        n -= 1\n",
    "    print('Done!')"
   ]
  },
  {
   "cell_type": "code",
   "execution_count": 6,
   "metadata": {},
   "outputs": [
    {
     "data": {
      "text/plain": [
       "<generator object countdown at 0x000001E7846A6A98>"
      ]
     },
     "execution_count": 6,
     "metadata": {},
     "output_type": "execute_result"
    }
   ],
   "source": [
    "# Создает генератор – обратите внимание на отсутствие вывода\n",
    "c = countdown(3)\n",
    "c"
   ]
  },
  {
   "cell_type": "code",
   "execution_count": 7,
   "metadata": {},
   "outputs": [
    {
     "name": "stdout",
     "output_type": "stream",
     "text": [
      "Starting to count from 3\n"
     ]
    },
    {
     "data": {
      "text/plain": [
       "3"
      ]
     },
     "execution_count": 7,
     "metadata": {},
     "output_type": "execute_result"
    }
   ],
   "source": [
    "# Выполняется до первого yield и выдает значение \n",
    "next(c)"
   ]
  },
  {
   "cell_type": "code",
   "execution_count": 8,
   "metadata": {},
   "outputs": [
    {
     "data": {
      "text/plain": [
       "2"
      ]
     },
     "execution_count": 8,
     "metadata": {},
     "output_type": "execute_result"
    }
   ],
   "source": [
    "# Выполняется до следующего yield \n",
    "next(c)"
   ]
  },
  {
   "cell_type": "code",
   "execution_count": 9,
   "metadata": {},
   "outputs": [
    {
     "data": {
      "text/plain": [
       "1"
      ]
     },
     "execution_count": 9,
     "metadata": {},
     "output_type": "execute_result"
    }
   ],
   "source": [
    "next(c)"
   ]
  },
  {
   "cell_type": "code",
   "execution_count": 10,
   "metadata": {},
   "outputs": [
    {
     "name": "stdout",
     "output_type": "stream",
     "text": [
      "Done!\n"
     ]
    },
    {
     "ename": "StopIteration",
     "evalue": "",
     "output_type": "error",
     "traceback": [
      "\u001b[1;31m---------------------------------------------------------------------------\u001b[0m",
      "\u001b[1;31mStopIteration\u001b[0m                             Traceback (most recent call last)",
      "\u001b[1;32m<ipython-input-10-e846efec376d>\u001b[0m in \u001b[0;36m<module>\u001b[1;34m()\u001b[0m\n\u001b[1;32m----> 1\u001b[1;33m \u001b[0mnext\u001b[0m\u001b[1;33m(\u001b[0m\u001b[0mc\u001b[0m\u001b[1;33m)\u001b[0m\u001b[1;33m\u001b[0m\u001b[0m\n\u001b[0m",
      "\u001b[1;31mStopIteration\u001b[0m: "
     ]
    }
   ],
   "source": [
    "next(c)"
   ]
  },
  {
   "cell_type": "markdown",
   "metadata": {},
   "source": [
    "Ключевая особенность функции-генератора состоит в том, что она запускается только в ответ на операции next в ходе итерирования. Когда генератор возвращает значение, итерирование останавливается. Однако цикл for, который обычно используется для выполнения итераций, сам заботится об этих деталях, поэтому в большинстве случаев вам не стоит волноваться о них. "
   ]
  },
  {
   "cell_type": "markdown",
   "metadata": {},
   "source": [
    "# Реализация протокола итератора "
   ]
  },
  {
   "cell_type": "markdown",
   "metadata": {},
   "source": [
    "Вы создаете собственные объекты, которые хотите сделать итерируемыми, и ищете простой способ реализовать протокол итератора. "
   ]
  },
  {
   "cell_type": "markdown",
   "metadata": {},
   "source": [
    "На текущий момент простейший способ реализации итерируемости в объекте – это использование генератора. В рецепте 4.2 был представлен класс Node, представляющий древовидные структуры. Возможно, вы захотите реализовать итератор, который будет обходить узлы поиском в глубину. Вот как можно это сделать: "
   ]
  },
  {
   "cell_type": "code",
   "execution_count": 15,
   "metadata": {},
   "outputs": [],
   "source": [
    "class Node:\n",
    "    '''Итератор, который обходит узлы поиском в глубину'''\n",
    "    def __init__(self, value):\n",
    "        self._value = value\n",
    "        self._children = []\n",
    "        \n",
    "    def __repr__(self):\n",
    "        return 'Node({!r})'.format(self._value)\n",
    "    \n",
    "    def add_child(self, node):\n",
    "        self._children.append(node)\n",
    "        \n",
    "    def __iter__ (self):\n",
    "        return iter(self._children)\n",
    "    \n",
    "    def depth_first(self):\n",
    "        yield self\n",
    "        for c in self:\n",
    "            yield from c.depth_first()"
   ]
  },
  {
   "cell_type": "code",
   "execution_count": 16,
   "metadata": {},
   "outputs": [
    {
     "name": "stdout",
     "output_type": "stream",
     "text": [
      "Node(0)\n",
      "Node(1)\n",
      "Node(3)\n",
      "Node(4)\n",
      "Node(2)\n",
      "Node(5)\n"
     ]
    }
   ],
   "source": [
    "#Пример\n",
    "#if __name__ = '__main__':\n",
    "\n",
    "root = Node(0)\n",
    "child1 = Node(1)\n",
    "child2 = Node(2)\n",
    "root.add_child(child1)\n",
    "root.add_child(child2)\n",
    "\n",
    "child1.add_child(Node(3))\n",
    "child1.add_child(Node(4))\n",
    "child2.add_child(Node(5))\n",
    "\n",
    "for ch in root.depth_first():\n",
    "    print(ch)"
   ]
  },
  {
   "cell_type": "markdown",
   "metadata": {},
   "source": [
    "В этой программе метод depth_first() может просто прочесть и описать. Сначала он выдает себя, а затем итерируется по каждому потомку, выдавая элементы, производимые методом depth_first() потомка (используя yield from). "
   ]
  },
  {
   "cell_type": "markdown",
   "metadata": {},
   "source": [
    "Протокол итератора Python требует __iter__(), чтобы вернуть специальный объект итератора, в котором реализована операция __next__(), а исключение StopIteration используется для подачи сигнала о завершении. Cледующая программа демонстрирует альтернативную реализацию метода depth_first(), использующую ассоциированный класс итератора: "
   ]
  },
  {
   "cell_type": "code",
   "execution_count": 17,
   "metadata": {},
   "outputs": [],
   "source": [
    "class NodeA:\n",
    "    '''Aссоциированный класс итератора'''\n",
    "    def __init__(self, value):\n",
    "        self._value = value\n",
    "        self._children = []\n",
    "        \n",
    "    def __repr__(self):\n",
    "        return 'Node({!r})'.format(self._value)\n",
    "    \n",
    "    def add_child(self, other_node):\n",
    "        self._children.append(other_node)\n",
    "        \n",
    "    def __iter__ (self):\n",
    "        return iter(self._children)\n",
    "    \n",
    "    def depth_first(self):\n",
    "        return DepthFirstIterator(self)"
   ]
  },
  {
   "cell_type": "code",
   "execution_count": 18,
   "metadata": {},
   "outputs": [],
   "source": [
    "class DepthFirstIterator():\n",
    "    '''Проход на первый уровень в глубину'''\n",
    "    def __init__(self, start_node):\n",
    "        self._node = start_node\n",
    "        self._children_iter = None\n",
    "        self._child_iter = None\n",
    "        \n",
    "    def __iter__(self):\n",
    "        return self\n",
    "    \n",
    "    def __next__(self):\n",
    "        \n",
    "        # Возвращает себя, если только что запущен, создает итератор для потомков \n",
    "        if self._children_iter is None:\n",
    "            self._children_iter = iter(self._node)\n",
    "            return self._node\n",
    "        \n",
    "        # Если обрабатывает потомка, возвращает его следующий элемент \n",
    "        elif self._child_iter:\n",
    "            try:\n",
    "                nextchild = next(self._child_iter)\n",
    "                return nextchild\n",
    "            except StopIteration:\n",
    "                self._child_iter = None\n",
    "                return next(self)\n",
    "            \n",
    "         # Переходим к следующему потомку и начинаем итерировать по нему \n",
    "        else:\n",
    "            self._child_iter = next(self._children_iter).depth_first()\n",
    "            return next(self)\n",
    "    "
   ]
  },
  {
   "cell_type": "code",
   "execution_count": 19,
   "metadata": {},
   "outputs": [
    {
     "name": "stdout",
     "output_type": "stream",
     "text": [
      "Node(0)\n",
      "Node(1)\n",
      "Node(3)\n",
      "Node(4)\n",
      "Node(2)\n",
      "Node(5)\n"
     ]
    }
   ],
   "source": [
    "root = NodeA(0)\n",
    "child1 = NodeA(1)\n",
    "child2 = NodeA(2)\n",
    "root.add_child(child1)\n",
    "root.add_child(child2)\n",
    "\n",
    "child1.add_child(NodeA(3))\n",
    "child1.add_child(NodeA(4))\n",
    "child2.add_child(NodeA(5))\n",
    "\n",
    "for ch in root.depth_first():\n",
    "    print(ch)"
   ]
  },
  {
   "cell_type": "markdown",
   "metadata": {},
   "source": [
    "Класс DepthFirstIterator работает так же, как и версия на основе генератора, но он беспорядочен и некрасив, поскольку итератор вынужден хранить много сложной информации о состоянии итерационного процесса. Откровенно говоря, никому не нравится писать такой мозговыносящий код. Реализуйте итератор на базе генератора и успокойтесь на этом. "
   ]
  },
  {
   "cell_type": "markdown",
   "metadata": {},
   "source": [
    "#  Итерирование в обратном порядке "
   ]
  },
  {
   "cell_type": "markdown",
   "metadata": {},
   "source": [
    "Вы хотите проитерировать по последовательности в обратном порядке. "
   ]
  },
  {
   "cell_type": "markdown",
   "metadata": {},
   "source": [
    "Используйте встроенную функцию reversed(). Например: "
   ]
  },
  {
   "cell_type": "code",
   "execution_count": 1,
   "metadata": {},
   "outputs": [
    {
     "name": "stdout",
     "output_type": "stream",
     "text": [
      "4\n",
      "3\n",
      "2\n",
      "1\n"
     ]
    }
   ],
   "source": [
    "#возвращает новый список\n",
    "a = [1, 2, 3, 4]\n",
    "for x in reversed(a):\n",
    "    print(x)"
   ]
  },
  {
   "cell_type": "code",
   "execution_count": 3,
   "metadata": {},
   "outputs": [
    {
     "data": {
      "text/plain": [
       "[4, 3, 2, 1]"
      ]
     },
     "execution_count": 3,
     "metadata": {},
     "output_type": "execute_result"
    }
   ],
   "source": [
    "#не меняет а\n",
    "a.reverse()\n",
    "a"
   ]
  },
  {
   "cell_type": "markdown",
   "metadata": {},
   "source": [
    "Обратная итерация сработает только в том случае, если объект имеет определенный размер или если в нем реализован специальный метод __reversed__(). Если ни одно из этих условий не выполнено, вы должны будете сначала конвертировать объект в список. Например: "
   ]
  },
  {
   "cell_type": "code",
   "execution_count": 6,
   "metadata": {},
   "outputs": [
    {
     "name": "stdout",
     "output_type": "stream",
     "text": [
      "passwordtext\n",
      "6789\n",
      "12345\n"
     ]
    }
   ],
   "source": [
    "# Выводит файл задом наперед \n",
    "f = open('somefile.txt')\n",
    "for line in reversed(list(f)):\n",
    "    print(line, end='')\n",
    "f.close()"
   ]
  },
  {
   "cell_type": "markdown",
   "metadata": {},
   "source": [
    " конвертирование итерируемого объекта в список может съесть много памяти, если список получится большим"
   ]
  },
  {
   "cell_type": "markdown",
   "metadata": {},
   "source": [
    " итерирование в обратном порядке может быть переопределено в собственном классе, если он реализует метод __reversed__(). "
   ]
  },
  {
   "cell_type": "code",
   "execution_count": 7,
   "metadata": {},
   "outputs": [],
   "source": [
    "class Countdown:\n",
    "    def __init__(self, start):\n",
    "        self.start = start\n",
    "        \n",
    "    def __iter__(self):\n",
    "        #прямой итератор\n",
    "        n = self.start\n",
    "        while n > 0:\n",
    "            yield n \n",
    "            n -= 1 \n",
    "            \n",
    "    def __reversed__(self):\n",
    "        #обратный итератор\n",
    "        n = 1\n",
    "        while n <= self.start:\n",
    "            yield n \n",
    "            n += 1 "
   ]
  },
  {
   "cell_type": "code",
   "execution_count": 8,
   "metadata": {},
   "outputs": [
    {
     "data": {
      "text/plain": [
       "[10, 9, 8, 7, 6, 5, 4, 3, 2, 1]"
      ]
     },
     "execution_count": 8,
     "metadata": {},
     "output_type": "execute_result"
    }
   ],
   "source": [
    "c = Countdown(10)\n",
    "list(c)"
   ]
  },
  {
   "cell_type": "code",
   "execution_count": 9,
   "metadata": {},
   "outputs": [
    {
     "data": {
      "text/plain": [
       "[1, 2, 3, 4, 5, 6, 7, 8, 9, 10]"
      ]
     },
     "execution_count": 9,
     "metadata": {},
     "output_type": "execute_result"
    }
   ],
   "source": [
    "c = Countdown(10)\n",
    "list(reversed(c))\n"
   ]
  },
  {
   "cell_type": "markdown",
   "metadata": {},
   "source": [
    "#  Определение генератора с дополнительным состоянием "
   ]
  },
  {
   "cell_type": "markdown",
   "metadata": {},
   "source": [
    "Вы хотите написать генератор, но функция работает с дополнительным состоянием, которое вам хотелось бы каким-то образом показать пользователю. "
   ]
  },
  {
   "cell_type": "markdown",
   "metadata": {},
   "source": [
    "Если вам нужен генератор, который показывает пользователю дополнительное состояние, не забудьте, что вы можете легко реализовать его в форме класса, поместив код генератора в метод __iter__(). Например: "
   ]
  },
  {
   "cell_type": "code",
   "execution_count": 1,
   "metadata": {},
   "outputs": [],
   "source": [
    "from collections import deque\n",
    "\n",
    "class linehistory:\n",
    "    def __init__(self, lines, histlen=3):\n",
    "        self.lines = lines\n",
    "        self.history = deque(maxlen=histlen)\n",
    "        \n",
    "    def __iter__(self):\n",
    "        for lineno, line in enumerate(self.lines, 1):\n",
    "            self.history.append((lineno, line))\n",
    "            yield line\n",
    "            \n",
    "    def clear(self):\n",
    "        self.history.clear()\n",
    "        "
   ]
  },
  {
   "cell_type": "markdown",
   "metadata": {},
   "source": [
    "Вы можете обращаться с этим классом так же, как с обычным генератором. Однако, поскольку он создает экземпляр, вы можете обращаться к внутренним атрибутам, таким как history или метод clear(). Например:"
   ]
  },
  {
   "cell_type": "code",
   "execution_count": 3,
   "metadata": {},
   "outputs": [
    {
     "name": "stdout",
     "output_type": "stream",
     "text": [
      "1:12345\n",
      "2:python\n",
      "2:python\n",
      "3:6789\n",
      "4:python\n",
      "5:text\n",
      "6:password\n",
      "7:python"
     ]
    }
   ],
   "source": [
    "with open('somefile.txt') as f:\n",
    "    lines = linehistory(f)\n",
    "    for line in lines:\n",
    "        if 'python' in line:\n",
    "            for lineno, hline in lines.history:\n",
    "                print('{}:{}'.format(lineno, hline), end='')"
   ]
  },
  {
   "cell_type": "markdown",
   "metadata": {},
   "source": [
    "С генераторами легко попасть в ловушку, если пытаться делать все только с помощью функций. В результате может получиться сложный код, если генератору нужно взаимодействовать с другими частями программы некими необычными способами (раскрытие атрибутов, разрешение на управление через вызов методов и т. п.). В этом случае просто используйте определение класса, как показано выше. Определение генератора в методе __iter__() не изменит ничего в том, как вы напишете алгоритм. Но тот факт, что генератор станет частью класса, упростит задачу предоставления пользователям атрибутов и методов для каких-то взаимодействий. Потенциальная хрупкость показанного приема заключается в том, что он может потребовать дополнительного шага: вызова iter(), если вы собираетесь провести итерацию не через цикл for. Например: "
   ]
  },
  {
   "cell_type": "code",
   "execution_count": 4,
   "metadata": {},
   "outputs": [
    {
     "ename": "TypeError",
     "evalue": "'linehistory' object is not an iterator",
     "output_type": "error",
     "traceback": [
      "\u001b[1;31m---------------------------------------------------------------------------\u001b[0m",
      "\u001b[1;31mTypeError\u001b[0m                                 Traceback (most recent call last)",
      "\u001b[1;32m<ipython-input-4-6295d819f1cf>\u001b[0m in \u001b[0;36m<module>\u001b[1;34m()\u001b[0m\n\u001b[0;32m      1\u001b[0m \u001b[0mf\u001b[0m \u001b[1;33m=\u001b[0m \u001b[0mopen\u001b[0m\u001b[1;33m(\u001b[0m\u001b[1;34m'somefile.txt'\u001b[0m\u001b[1;33m)\u001b[0m\u001b[1;33m\u001b[0m\u001b[0m\n\u001b[0;32m      2\u001b[0m \u001b[0mlines\u001b[0m \u001b[1;33m=\u001b[0m \u001b[0mlinehistory\u001b[0m\u001b[1;33m(\u001b[0m\u001b[0mf\u001b[0m\u001b[1;33m)\u001b[0m\u001b[1;33m\u001b[0m\u001b[0m\n\u001b[1;32m----> 3\u001b[1;33m \u001b[0mnext\u001b[0m\u001b[1;33m(\u001b[0m\u001b[0mlines\u001b[0m\u001b[1;33m)\u001b[0m\u001b[1;33m\u001b[0m\u001b[0m\n\u001b[0m",
      "\u001b[1;31mTypeError\u001b[0m: 'linehistory' object is not an iterator"
     ]
    }
   ],
   "source": [
    "f = open('somefile.txt') \n",
    "lines = linehistory(f)\n",
    "next(lines)"
   ]
  },
  {
   "cell_type": "code",
   "execution_count": 5,
   "metadata": {},
   "outputs": [
    {
     "data": {
      "text/plain": [
       "'12345\\n'"
      ]
     },
     "execution_count": 5,
     "metadata": {},
     "output_type": "execute_result"
    }
   ],
   "source": [
    "#сначала нужно вызвать iter(), затем итерирование\n",
    "it = iter(lines)\n",
    "next(it)"
   ]
  },
  {
   "cell_type": "code",
   "execution_count": 6,
   "metadata": {},
   "outputs": [
    {
     "data": {
      "text/plain": [
       "'python\\n'"
      ]
     },
     "execution_count": 6,
     "metadata": {},
     "output_type": "execute_result"
    }
   ],
   "source": [
    "next(it)"
   ]
  },
  {
   "cell_type": "code",
   "execution_count": 7,
   "metadata": {},
   "outputs": [
    {
     "data": {
      "text/plain": [
       "'6789\\n'"
      ]
     },
     "execution_count": 7,
     "metadata": {},
     "output_type": "execute_result"
    }
   ],
   "source": [
    "next(it)"
   ]
  },
  {
   "cell_type": "markdown",
   "metadata": {},
   "source": [
    "# Получение среза итератора "
   ]
  },
  {
   "cell_type": "markdown",
   "metadata": {},
   "source": [
    "Вы хотите получить срез данных, производимых итератором, но обычный оператор среза не работает. "
   ]
  },
  {
   "cell_type": "markdown",
   "metadata": {},
   "source": [
    "Функция itertools.islice() отлично подходит для получения срезов генераторов и итераторов. Например: "
   ]
  },
  {
   "cell_type": "code",
   "execution_count": 8,
   "metadata": {},
   "outputs": [],
   "source": [
    "def count(n):\n",
    "    while True:\n",
    "        yield n\n",
    "        n += 1"
   ]
  },
  {
   "cell_type": "code",
   "execution_count": 9,
   "metadata": {},
   "outputs": [],
   "source": [
    "c = count(0)"
   ]
  },
  {
   "cell_type": "code",
   "execution_count": 10,
   "metadata": {},
   "outputs": [
    {
     "ename": "TypeError",
     "evalue": "'generator' object is not subscriptable",
     "output_type": "error",
     "traceback": [
      "\u001b[1;31m---------------------------------------------------------------------------\u001b[0m",
      "\u001b[1;31mTypeError\u001b[0m                                 Traceback (most recent call last)",
      "\u001b[1;32m<ipython-input-10-d27b6259daf3>\u001b[0m in \u001b[0;36m<module>\u001b[1;34m()\u001b[0m\n\u001b[1;32m----> 1\u001b[1;33m \u001b[0mc\u001b[0m\u001b[1;33m[\u001b[0m\u001b[1;36m10\u001b[0m\u001b[1;33m:\u001b[0m\u001b[1;36m20\u001b[0m\u001b[1;33m]\u001b[0m\u001b[1;33m\u001b[0m\u001b[0m\n\u001b[0m",
      "\u001b[1;31mTypeError\u001b[0m: 'generator' object is not subscriptable"
     ]
    }
   ],
   "source": [
    "c[10:20]"
   ]
  },
  {
   "cell_type": "code",
   "execution_count": 11,
   "metadata": {},
   "outputs": [
    {
     "name": "stdout",
     "output_type": "stream",
     "text": [
      "10\n",
      "11\n",
      "12\n",
      "13\n",
      "14\n",
      "15\n",
      "16\n",
      "17\n",
      "18\n",
      "19\n"
     ]
    }
   ],
   "source": [
    "# Теперь используем islice()\n",
    "import itertools\n",
    "for x in itertools.islice(c, 10, 20):\n",
    "    print(x)\n",
    "    "
   ]
  },
  {
   "cell_type": "markdown",
   "metadata": {},
   "source": [
    "Из итераторов и генераторов получить срез напрямую нельзя, потому что отсутствует информация об их длине (и в них не реализовано индексирование). Результат islice() – это итератор, который создает элементы нужного среза, но делает это путем потребления и выбрасывания всех элементов до стартового индекса среза. Следующие элементы затем производятся объектом islice, пока не будет достигнут конечный индекс среза. Важно отметить, что islice() будет потреблять данные, предоставляемые итератором. Это важно, поскольку итераторы не могут быть отмотаны назад. Если вам нужно возвращаться назад, то вам, наверное, лучше сначала конвертировать данные в список. "
   ]
  },
  {
   "cell_type": "markdown",
   "metadata": {},
   "source": [
    "# Пропуск первой части итерируемого объекта "
   ]
  },
  {
   "cell_type": "markdown",
   "metadata": {},
   "source": [
    "Вы хотите итерировать по элементам в последовательности, но первые несколько элементов вам неинтересны, и вы хотите их опустить. "
   ]
  },
  {
   "cell_type": "markdown",
   "metadata": {},
   "source": [
    "В модуле itertools есть несколько функций, которые могут быть использованы для решения этой задачи. Первая – itertools.dropwhile(). Чтобы использовать ее, вы предоставляете функцию и итерируемый объект. Возвращаемый итератор отбрасывает первые элементы в последовательности до тех пор, пока предоставленная функция возвращает True. А затем выдается вся оставшаяся последовательность."
   ]
  },
  {
   "cell_type": "markdown",
   "metadata": {},
   "source": [
    "Предположим, что вы читаете файл, который начинается со строчек с комментариями: "
   ]
  },
  {
   "cell_type": "code",
   "execution_count": 1,
   "metadata": {},
   "outputs": [
    {
     "name": "stdout",
     "output_type": "stream",
     "text": [
      "#12345\n",
      "#\n",
      "###python\n",
      "##6789\n",
      "python\n",
      "text\n",
      "password\n",
      "python"
     ]
    }
   ],
   "source": [
    "with open('somefile.txt') as f:\n",
    "    for line in f:\n",
    "        print(line, end='')"
   ]
  },
  {
   "cell_type": "markdown",
   "metadata": {},
   "source": [
    "Если вы хотите пропустить все начальные закомментированные строчки, вот как это можно сделать: "
   ]
  },
  {
   "cell_type": "code",
   "execution_count": 2,
   "metadata": {},
   "outputs": [
    {
     "name": "stdout",
     "output_type": "stream",
     "text": [
      "python\n",
      "text\n",
      "password\n",
      "python"
     ]
    }
   ],
   "source": [
    "from itertools import dropwhile\n",
    "with open('somefile.txt') as f:\n",
    "    for line in dropwhile(lambda line: line.startswith('#'), f):\n",
    "        print(line, end='')"
   ]
  },
  {
   "cell_type": "markdown",
   "metadata": {},
   "source": [
    "Этот пример показывает, как можно пропустить первые элементы в соответствии с возвращаемым значением проверочной функции. Если так случилось, что вы знаете точное количество элементов, которые хотите пропустить, то вы можете вместо вышеописанного способа использовать itertools.islice(). Например: "
   ]
  },
  {
   "cell_type": "code",
   "execution_count": 3,
   "metadata": {},
   "outputs": [
    {
     "name": "stdout",
     "output_type": "stream",
     "text": [
      "1\n",
      "4\n",
      "10\n",
      "15\n"
     ]
    }
   ],
   "source": [
    "from itertools import islice\n",
    "items = ['a', 'b', 'c', 1, 4, 10, 15]\n",
    "for x in islice(items, 3, None):\n",
    "    print(x)"
   ]
  },
  {
   "cell_type": "markdown",
   "metadata": {},
   "source": [
    "В этом примере последний аргумент islice() None необходим для того, чтобы обозначить, что вам нужно все за пределами первых трех элементов (а не первые три элемента). То есть срез [3:], а не [:3]."
   ]
  },
  {
   "cell_type": "markdown",
   "metadata": {},
   "source": [
    "Главное преимущество функций dropwhile() и islice() в том, что они позволяют избежать написания грязного кода наподобие вот такого: "
   ]
  },
  {
   "cell_type": "code",
   "execution_count": null,
   "metadata": {},
   "outputs": [],
   "source": [
    "with open('somefile.txt') as f:     \n",
    "    # Пропускаем начальные комментарии     \n",
    "    while True:         \n",
    "        line = next(f, '')         \n",
    "        if not line.startswith('#'):             \n",
    "            break \n",
    " \n",
    "    # Обрабатываем оставшиеся строки     \n",
    "    while line:         \n",
    "        # Можно заменить полезной обработкой            \n",
    "        print(line, end='')         \n",
    "        line = next(f, None)"
   ]
  },
  {
   "cell_type": "markdown",
   "metadata": {},
   "source": [
    "Отбрасывание первой части итерируемого объекта также немного отличается от простого фильтрования. Например, первая часть этого рецепта может быть переписана вот так: "
   ]
  },
  {
   "cell_type": "code",
   "execution_count": null,
   "metadata": {},
   "outputs": [],
   "source": [
    "with open('somefile.txt') as f:     \n",
    "    lines = (line for line in f if not line.startswith('#'))     \n",
    "    for line in lines:         \n",
    "        print(line, end='') "
   ]
  },
  {
   "cell_type": "markdown",
   "metadata": {},
   "source": [
    "Очевидно, что это отбросит все закомментированные строчки в начале файла, но такое решение отбросит и все остальные такие строчки во всем файле. С другой стороны, решение, которое отбрасывает все элементы до тех пор, пока не будет встречен элемент, не соответствующий условиям отбрасывания, подходит под наши требования: все последующие элементы будут возвращены без фильтрования. Стоит отметить, что этот рецепт работает со всеми итерируемыми объектами, включая те, размер которых нельзя оценить предварительно: генераторами, файлами и другими подобными объектами. "
   ]
  },
  {
   "cell_type": "markdown",
   "metadata": {},
   "source": [
    "# Итерирование по всем возможным комбинациям и перестановкам "
   ]
  },
  {
   "cell_type": "markdown",
   "metadata": {},
   "source": [
    "Вы хотите проитерировать по всем возможным комбинациям и перестановкам коллекции элементов. "
   ]
  },
  {
   "cell_type": "markdown",
   "metadata": {},
   "source": [
    "Модуль itertools предоставляет три функции, подходящие для этой задачи. Первая, itertools.permutations(), принимает коллекцию элементов и создает последовательность кортежей со всеми возможными перестановками (то есть она перемешивает их во всех возможных конфигурациях). Например:"
   ]
  },
  {
   "cell_type": "code",
   "execution_count": 2,
   "metadata": {},
   "outputs": [],
   "source": [
    "items = ['a', 'b', 'c']"
   ]
  },
  {
   "cell_type": "code",
   "execution_count": 3,
   "metadata": {},
   "outputs": [
    {
     "name": "stdout",
     "output_type": "stream",
     "text": [
      "('a', 'b', 'c')\n",
      "('a', 'c', 'b')\n",
      "('b', 'a', 'c')\n",
      "('b', 'c', 'a')\n",
      "('c', 'a', 'b')\n",
      "('c', 'b', 'a')\n"
     ]
    }
   ],
   "source": [
    "from itertools import permutations\n",
    "for p in permutations(items):\n",
    "    print(p)"
   ]
  },
  {
   "cell_type": "markdown",
   "metadata": {},
   "source": [
    "Если вы хотите получить все возможные перестановки меньшей длины, то можете передать функции необязательный аргумент со значением длины. Например: "
   ]
  },
  {
   "cell_type": "code",
   "execution_count": 4,
   "metadata": {},
   "outputs": [
    {
     "name": "stdout",
     "output_type": "stream",
     "text": [
      "('a', 'b')\n",
      "('a', 'c')\n",
      "('b', 'a')\n",
      "('b', 'c')\n",
      "('c', 'a')\n",
      "('c', 'b')\n"
     ]
    }
   ],
   "source": [
    "for p in permutations(items, 2):\n",
    "    print(p)"
   ]
  },
  {
   "cell_type": "markdown",
   "metadata": {},
   "source": [
    "Используйте itertools.combinations(), чтобы создать последовательность комбинаций элементов входной последовательности. Например: "
   ]
  },
  {
   "cell_type": "code",
   "execution_count": 5,
   "metadata": {},
   "outputs": [
    {
     "name": "stdout",
     "output_type": "stream",
     "text": [
      "('a', 'b', 'c')\n"
     ]
    }
   ],
   "source": [
    "#порядок не важен\n",
    "from itertools import combinations\n",
    "for p in combinations(items, 3):\n",
    "    print(p)"
   ]
  },
  {
   "cell_type": "code",
   "execution_count": 6,
   "metadata": {},
   "outputs": [
    {
     "name": "stdout",
     "output_type": "stream",
     "text": [
      "('a', 'b')\n",
      "('a', 'c')\n",
      "('b', 'c')\n"
     ]
    }
   ],
   "source": [
    "for p in combinations(items, 2):\n",
    "    print(p)"
   ]
  },
  {
   "cell_type": "code",
   "execution_count": 7,
   "metadata": {},
   "outputs": [
    {
     "name": "stdout",
     "output_type": "stream",
     "text": [
      "('a',)\n",
      "('b',)\n",
      "('c',)\n"
     ]
    }
   ],
   "source": [
    "for p in combinations(items, 1):\n",
    "    print(p)"
   ]
  },
  {
   "cell_type": "markdown",
   "metadata": {},
   "source": [
    "Для функции combinations() порядок элементов не имеет значения. Комбинацию ('a', 'b') она считает аналогичной ('b', 'a') – поэтому вторая в выводимых результатах отсутствует."
   ]
  },
  {
   "cell_type": "markdown",
   "metadata": {},
   "source": [
    "При создании комбинаций выбранные элементы удаляются из коллекции возможных кандидатов (то есть если 'a' уже выбран, он больше не будет рассматриваться). А функция itertools.combinations_with_replacement() выбирает один и тот же элемент более одного раза. Например: "
   ]
  },
  {
   "cell_type": "code",
   "execution_count": 12,
   "metadata": {},
   "outputs": [
    {
     "name": "stdout",
     "output_type": "stream",
     "text": [
      "('a', 'a', 'a')\n",
      "('a', 'a', 'b')\n",
      "('a', 'a', 'с')\n",
      "('a', 'b', 'b')\n",
      "('a', 'b', 'с')\n",
      "('a', 'с', 'с')\n",
      "('b', 'b', 'b')\n",
      "('b', 'b', 'с')\n",
      "('b', 'с', 'с')\n",
      "('с', 'с', 'с')\n"
     ]
    }
   ],
   "source": [
    "from itertools import combinations_with_replacement\n",
    "items = ['a', 'b', 'с']\n",
    "for c in combinations_with_replacement(items, 3):\n",
    "    print(c)"
   ]
  },
  {
   "cell_type": "markdown",
   "metadata": {},
   "source": [
    "Этот рецепт показывает лишь небольшую часть мощи модуля itertools. Хотя вы могли бы самостоятельно написать код, который выполняет перестановки и комбинации, это, вероятно, отняло бы у вас больше пары секунд времени. Когда вы сталкиваетесь с нетривиальными задачами в сфере итераций, обратитесь к itertools, это всегда окупается. Если задача распространенная, велик шанс того, что вы найдете готовое решение. "
   ]
  },
  {
   "cell_type": "markdown",
   "metadata": {},
   "source": [
    "# Итерирование по парам «индекс–значение» последовательности "
   ]
  },
  {
   "cell_type": "markdown",
   "metadata": {},
   "source": [
    "Вы хотите проитерировать по последовательности и при этом хранить информацию о том, какой по счету элемент сейчас обрабатывается. "
   ]
  },
  {
   "cell_type": "markdown",
   "metadata": {},
   "source": [
    "Встроенная функция enumerate() изящно справляется с этой задачей:"
   ]
  },
  {
   "cell_type": "code",
   "execution_count": 13,
   "metadata": {},
   "outputs": [
    {
     "name": "stdout",
     "output_type": "stream",
     "text": [
      "0 a\n",
      "1 b\n",
      "2 c\n"
     ]
    }
   ],
   "source": [
    "my_list = ['a', 'b', 'c']\n",
    "for idx, val in enumerate(my_list):\n",
    "    print(idx, val)"
   ]
  },
  {
   "cell_type": "markdown",
   "metadata": {},
   "source": [
    "Для печати вывода с привычными номерами строк (то есть с нумерацией, начинающейся с 1, а не с 0) вы можете передать соответствующий аргумент start:"
   ]
  },
  {
   "cell_type": "code",
   "execution_count": 14,
   "metadata": {},
   "outputs": [
    {
     "name": "stdout",
     "output_type": "stream",
     "text": [
      "1 a\n",
      "2 b\n",
      "3 c\n"
     ]
    }
   ],
   "source": [
    "my_list = ['a', 'b', 'c']\n",
    "for idx, val in enumerate(my_list, 1):\n",
    "    print(idx, val)"
   ]
  },
  {
   "cell_type": "markdown",
   "metadata": {},
   "source": [
    "Этот прием особенно полезен для учета номеров строк в файлах, если нужно будет вывести номер строки в сообщении об ошибке: "
   ]
  },
  {
   "cell_type": "code",
   "execution_count": null,
   "metadata": {},
   "outputs": [],
   "source": [
    "def parse_data(filename):\n",
    "    with open(filename, 'rt') as f:\n",
    "        for lineno, line in enumerate(f, 1):\n",
    "            fields = line.split()\n",
    "            try:\n",
    "                count = int(fields[1])\n",
    "                #some code\n",
    "            except ValueError as e:\n",
    "                print('Line {}: Parse error: {}'.format(lineno, e))"
   ]
  },
  {
   "cell_type": "markdown",
   "metadata": {},
   "source": [
    "enumerate() удобна, например, для отслеживания смещения (offset) в списке для вхождений определенных значений. Так что если вы хотите отобразить слова в файле к строчкам, в которых они встречаются, это легко сделать с помощью enumerate() – функция отображает каждое слово на смещение строки в файле, где оно найдено: "
   ]
  },
  {
   "cell_type": "code",
   "execution_count": 17,
   "metadata": {},
   "outputs": [],
   "source": [
    "from collections import defaultdict\n",
    "word_summary = defaultdict(list)\n",
    "\n",
    "with open('somefile.txt', 'r') as f:\n",
    "    lines = f.readlines()\n",
    "    \n",
    "for idx, line in enumerate(lines):\n",
    "    #создает список слов в текущей строке\n",
    "    words = [w.strip().lower() for w in line.split()]\n",
    "    for word in words:\n",
    "        word_summary[word].append(idx)"
   ]
  },
  {
   "cell_type": "code",
   "execution_count": 20,
   "metadata": {},
   "outputs": [
    {
     "name": "stdout",
     "output_type": "stream",
     "text": [
      "#12345 [0]\n",
      "# [1]\n",
      "###python [2]\n",
      "##6789 [3]\n",
      "python [4, 7]\n",
      "text [5]\n",
      "password [6]\n"
     ]
    }
   ],
   "source": [
    "for word in word_summary:\n",
    "    print(word, word_summary[word])"
   ]
  },
  {
   "cell_type": "markdown",
   "metadata": {},
   "source": [
    "Если вы выведете word_summary после обработки файла, это будет словарь (default dict, если быть точными), и каждое слово будет ключом. Значение каждого ключа – список номеров строк, где встретилось это слово. Если слово встретилось дважды в одной строке, этот номер строки будет записан в список дважды, что делает возможным получение разнообразных простых метрик текста. "
   ]
  },
  {
   "cell_type": "markdown",
   "metadata": {},
   "source": [
    "enumerate() – симпатичное решение для ситуаций, где вы могли бы склоняться к использованию собственной переменной-счетчика. Вы могли бы написать такой код: "
   ]
  },
  {
   "cell_type": "code",
   "execution_count": null,
   "metadata": {},
   "outputs": [],
   "source": [
    "lineno = 1\n",
    "for line in f:\n",
    "    lineno += 1"
   ]
  },
  {
   "cell_type": "markdown",
   "metadata": {},
   "source": [
    "Но часто более элегантным (и менее подверженным ошибкам) способом становится использование enumerate():\n"
   ]
  },
  {
   "cell_type": "code",
   "execution_count": null,
   "metadata": {},
   "outputs": [],
   "source": [
    "for lineno, line in enumerate(f):"
   ]
  },
  {
   "cell_type": "markdown",
   "metadata": {},
   "source": [
    "Значение, возвращаемое функцией enumerate(), является объектом enumerate. Это итератор, который последовательно возвращает кортежи, состоящие из счетчика и значения, возвращаемого вызовом функции next() для последовательности, которую вы обходите. Стоит отметить, что иногда можно запутаться при применении enumerate() к последовательности кортежей, которые при этом распаковываются:\n"
   ]
  },
  {
   "cell_type": "code",
   "execution_count": null,
   "metadata": {},
   "outputs": [],
   "source": [
    "data = [(1, 2), (3, 4), (5, 6), (7, 8)]\n",
    "for n, (x, y) in enumerate(data):\n",
    "    #это верно!"
   ]
  },
  {
   "cell_type": "code",
   "execution_count": null,
   "metadata": {},
   "outputs": [],
   "source": [
    "data = [(1, 2), (3, 4), (5, 6), (7, 8)]\n",
    "for n, x, y in enumerate(data):\n",
    "    #это не верно!"
   ]
  },
  {
   "cell_type": "markdown",
   "metadata": {},
   "source": [
    "# Одновременное итерирование по нескольким последовательностям "
   ]
  },
  {
   "cell_type": "markdown",
   "metadata": {},
   "source": [
    "Вы хотите за один раз проитерировать по элементам, содержащимся более чем в одной последовательности. "
   ]
  },
  {
   "cell_type": "markdown",
   "metadata": {},
   "source": [
    "Чтобы итерировать по более чем одной последовательности за раз, используйте функцию zip(). Например:\n"
   ]
  },
  {
   "cell_type": "code",
   "execution_count": 1,
   "metadata": {},
   "outputs": [
    {
     "name": "stdout",
     "output_type": "stream",
     "text": [
      "1 101\n",
      "5 78\n",
      "4 37\n",
      "2 15\n",
      "10 62\n",
      "7 99\n"
     ]
    }
   ],
   "source": [
    "xpts = [1, 5, 4, 2, 10, 7]\n",
    "ypts = [101, 78, 37, 15, 62, 99]\n",
    "for x, y in zip(xpts, ypts):\n",
    "    print(x, y)"
   ]
  },
  {
   "cell_type": "markdown",
   "metadata": {},
   "source": [
    "zip(a, b) работает путем создания итератора, который производит кортежи (x, y), где x берется из a, а y – из b. Итерирование останавливается, когда заканчивается одна из последовательностей. Поэтому результат будет таким же по длине, как и самая короткая из входных последовательностей. Например: "
   ]
  },
  {
   "cell_type": "code",
   "execution_count": 2,
   "metadata": {},
   "outputs": [
    {
     "name": "stdout",
     "output_type": "stream",
     "text": [
      "(1, 'w')\n",
      "(2, 'x')\n",
      "(3, 'y')\n"
     ]
    }
   ],
   "source": [
    "a = [1, 2, 3]\n",
    "b = ['w',  'x', 'y', 'z']\n",
    "for i in zip(a, b):\n",
    "    print(i)"
   ]
  },
  {
   "cell_type": "markdown",
   "metadata": {},
   "source": [
    "Если такое поведение нежелательно, используйте функцию itertools.zip_longest(). Например: "
   ]
  },
  {
   "cell_type": "code",
   "execution_count": 3,
   "metadata": {},
   "outputs": [
    {
     "name": "stdout",
     "output_type": "stream",
     "text": [
      "(1, 'w')\n",
      "(2, 'x')\n",
      "(3, 'y')\n",
      "(None, 'z')\n"
     ]
    }
   ],
   "source": [
    "from itertools import zip_longest\n",
    "for i in zip_longest(a, b):\n",
    "    print(i)"
   ]
  },
  {
   "cell_type": "code",
   "execution_count": 4,
   "metadata": {},
   "outputs": [
    {
     "name": "stdout",
     "output_type": "stream",
     "text": [
      "(1, 'w')\n",
      "(2, 'x')\n",
      "(3, 'y')\n",
      "(0, 'z')\n"
     ]
    }
   ],
   "source": [
    "for i in zip_longest(a, b, fillvalue=0):\n",
    "    print(i)"
   ]
  },
  {
   "cell_type": "markdown",
   "metadata": {},
   "source": [
    "zip() обычно используется тогда, когда вам нужно создать пары из данных. Предположим, что у вас есть список заголовков столбцов и значения столбцов: "
   ]
  },
  {
   "cell_type": "code",
   "execution_count": 5,
   "metadata": {},
   "outputs": [],
   "source": [
    "headers = ['name', 'shares', 'price']\n",
    "values = ['ACME', 100, 490.1]\n"
   ]
  },
  {
   "cell_type": "markdown",
   "metadata": {},
   "source": [
    "Используя zip(), вы можете создать пары значений и поместить их в словарь: "
   ]
  },
  {
   "cell_type": "code",
   "execution_count": 6,
   "metadata": {},
   "outputs": [],
   "source": [
    "s = dict(zip(headers, values))"
   ]
  },
  {
   "cell_type": "markdown",
   "metadata": {},
   "source": [
    "Если вы хотите вывести результат"
   ]
  },
  {
   "cell_type": "code",
   "execution_count": 7,
   "metadata": {},
   "outputs": [
    {
     "name": "stdout",
     "output_type": "stream",
     "text": [
      "name = ACME\n",
      "shares = 100\n",
      "price = 490.1\n"
     ]
    }
   ],
   "source": [
    "for name, val in zip(headers, values):\n",
    "    print(name, '=', val)"
   ]
  },
  {
   "cell_type": "markdown",
   "metadata": {},
   "source": [
    "Менее распространенное применение zip() заключается в том, что функции может быть передано не две последовательности, а больше. В этом случае кортежи результата будут иметь такое количество элементов, каким было количество последовательностей. Например: "
   ]
  },
  {
   "cell_type": "code",
   "execution_count": 8,
   "metadata": {},
   "outputs": [
    {
     "name": "stdout",
     "output_type": "stream",
     "text": [
      "(1, 10, 'x')\n",
      "(2, 11, 'y')\n",
      "(3, 12, 'z')\n"
     ]
    }
   ],
   "source": [
    "a = [1, 2, 3]\n",
    "b = [10, 11, 12]\n",
    "c = ['x', 'y', 'z']\n",
    "\n",
    "for i in zip(a, b, c):\n",
    "    print(i)"
   ]
  },
  {
   "cell_type": "markdown",
   "metadata": {},
   "source": [
    "И последнее: важно подчеркнуть, что zip() возвращает итератор. Если вам нужны сохраненные в списке спаренные значения, используйте функцию list(). Например: "
   ]
  },
  {
   "cell_type": "code",
   "execution_count": 9,
   "metadata": {},
   "outputs": [
    {
     "data": {
      "text/plain": [
       "<zip at 0x29d5d0eab88>"
      ]
     },
     "execution_count": 9,
     "metadata": {},
     "output_type": "execute_result"
    }
   ],
   "source": [
    "zip(a, b)"
   ]
  },
  {
   "cell_type": "code",
   "execution_count": 10,
   "metadata": {},
   "outputs": [
    {
     "data": {
      "text/plain": [
       "[(1, 10), (2, 11), (3, 12)]"
      ]
     },
     "execution_count": 10,
     "metadata": {},
     "output_type": "execute_result"
    }
   ],
   "source": [
    "list(zip(a, b))"
   ]
  },
  {
   "cell_type": "markdown",
   "metadata": {},
   "source": [
    "#  Итерирование по элементам, находящимся в отдельных контейнерах "
   ]
  },
  {
   "cell_type": "markdown",
   "metadata": {},
   "source": [
    "Вам нужно выполнить одинаковую операцию над большим количеством объектов, но объекты находятся в различных контейнерах, а вам хотелось бы избежать написания вложенных циклов, причем без потери читабельности кода. "
   ]
  },
  {
   "cell_type": "markdown",
   "metadata": {},
   "source": [
    "Для упрощения этой задачи можно использовать метод itertools.chain(). Он принимает список итерируемых объектов и возвращает итератор, который скрывает тот факт, что вы на самом деле работаете с несколькими контейнерами. Рассмотрим пример: "
   ]
  },
  {
   "cell_type": "code",
   "execution_count": 11,
   "metadata": {},
   "outputs": [
    {
     "name": "stdout",
     "output_type": "stream",
     "text": [
      "1\n",
      "2\n",
      "3\n",
      "4\n",
      "x\n",
      "y\n",
      "z\n"
     ]
    }
   ],
   "source": [
    "from itertools import chain\n",
    "a = [1, 2, 3, 4]\n",
    "b = ['x', 'y', 'z']\n",
    "for x in chain(a, b):\n",
    "    print(x)"
   ]
  },
  {
   "cell_type": "markdown",
   "metadata": {},
   "source": [
    "Обычно chain() используется, если вы хотите выполнить некоторые операции над всеми элементами за один раз, но элементы разнесены по разным рабочим наборам. Например:"
   ]
  },
  {
   "cell_type": "code",
   "execution_count": null,
   "metadata": {},
   "outputs": [],
   "source": [
    "# Различные наборы элементов \n",
    "active_items = set() \n",
    "inactive_items = set() \n",
    " \n",
    "# Итерируем по всем элементам \n",
    "for item in chain(active_items, inactive_items):     \n",
    "    # Обработка элемента"
   ]
  },
  {
   "cell_type": "markdown",
   "metadata": {},
   "source": [
    "Это решение намного более элегантно, нежели использование двух отдельных циклов, как показано в этом примере: "
   ]
  },
  {
   "cell_type": "code",
   "execution_count": null,
   "metadata": {},
   "outputs": [],
   "source": [
    "for item in active_items:     \n",
    "    # Обработка элемента \n",
    "    \n",
    "for item in inactive_items:     \n",
    "    # Обработка элемента "
   ]
  },
  {
   "cell_type": "markdown",
   "metadata": {},
   "source": [
    "itertools.chain() принимает один или более итерируемых объектов в качестве аргументов. Далее она создает итератор, который последовательно потребляет и возвращает элементы, производимые каждым из предоставленных итерируемых объектов. Это тонкое различие, но chain() эффективнее, чем итерирование по предварительно объединенным последовательностям. Например: "
   ]
  },
  {
   "cell_type": "code",
   "execution_count": null,
   "metadata": {},
   "outputs": [],
   "source": [
    "# Неэффективно     \n",
    "for x in a + b: \n",
    "    \n",
    "# Уже лучше     \n",
    "for x in chain(a, b): "
   ]
  },
  {
   "cell_type": "markdown",
   "metadata": {},
   "source": [
    "В первом случае операция a + b создает новую последовательность и дополнительно требует, чтобы a и b относились к одному типу. chain() не выполняет такую операцию, намного эффективнее обращается с памятью, если входные последовательности большие, а также легко применяется к итерируемым объектам различных типов. "
   ]
  },
  {
   "cell_type": "markdown",
   "metadata": {},
   "source": [
    "# Создание каналов для обработки данных "
   ]
  },
  {
   "cell_type": "markdown",
   "metadata": {},
   "source": [
    "Вы хотите обрабатывать данные итеративно, в стиле обрабатывающего данные канала (похожего на канал Unix – он же конвейер). Например, у вас есть огромный объем данных для обработки, который просто не поместится в память целиком. Решение Генераторы хорошо подходят для реализации обрабатывающих каналов. Предположим, что у вас есть огромный каталог с файлами логов, который вы хотите "
   ]
  },
  {
   "cell_type": "markdown",
   "metadata": {},
   "source": [
    "Генераторы хорошо подходят для реализации обрабатывающих каналов. Предположим, что у вас есть огромный каталог с файлами логов, который вы хотите обработать:"
   ]
  },
  {
   "cell_type": "markdown",
   "metadata": {},
   "source": [
    "foo/     \n",
    "    access-log-012007.gz     \n",
    "    access-log-022007.gz     \n",
    "    access-log-032007.gz     \n",
    "    ...     \n",
    "    access-log-012008 \n",
    "    \n",
    "bar/     \n",
    "    access-log-092007.bz2     \n",
    "    ...     \n",
    "    access-log-022008"
   ]
  },
  {
   "cell_type": "markdown",
   "metadata": {},
   "source": [
    "Предположим, каждый файл содержит такие строки данных:\n"
   ]
  },
  {
   "cell_type": "markdown",
   "metadata": {},
   "source": [
    "124.115.6.12 - - [10/Jul/2012:00:18:50 -0500] \"GET /robots.txt ...\" 200 71\n",
    "\n",
    "210.212.209.67 - - [10/Jul/2012:00:18:51 -0500] \"GET /ply/ ...\" 200 11875 \n",
    "\n",
    "210.212.209.67 - - [10/Jul/2012:00:18:51 -0500] \"GET /favicon.ico ...\" 404 369 \n",
    "\n",
    "61.135.216.105 - - [10/Jul/2012:00:20:04 -0500] \"GET /blog/atom.xml ...\" 304 - ... "
   ]
  },
  {
   "cell_type": "markdown",
   "metadata": {},
   "source": [
    "Чтобы обработать эти файлы, вы могли бы создать коллекцию небольших генераторов, которые будут выполнять специфические замкнутые в себе задачи:\n"
   ]
  },
  {
   "cell_type": "code",
   "execution_count": 1,
   "metadata": {},
   "outputs": [],
   "source": [
    "import os\n",
    "import fnmatch\n",
    "import gzip\n",
    "import bz2\n",
    "import re"
   ]
  },
  {
   "cell_type": "code",
   "execution_count": 2,
   "metadata": {},
   "outputs": [],
   "source": [
    "def gen_find(filepat, top):\n",
    "    '''Находит все имена  файлов в дереве каталогов, которые совпадают с шаблоном маски оболочки '''\n",
    "    for path, dirlist, filelist in os.walk(top):\n",
    "        for name in fnmatch.filter(filelist, filepat):\n",
    "            yield os.path.join(path, name)"
   ]
  },
  {
   "cell_type": "code",
   "execution_count": 3,
   "metadata": {},
   "outputs": [],
   "source": [
    "def gen_opener(filenames):\n",
    "    ''' Открывает последовательность имен файлов, которая раз за разом производит файловый объект.     \n",
    "    Файл закрывается сразу же после перехода к следующему шагу итерации.'''\n",
    "    for filename in filenames:\n",
    "        if filename.endswith('.gz'):\n",
    "            f = gzip.open(filename, 'rt')\n",
    "        elif filename.endswith('.bz2'):\n",
    "            f = bz2.open(filename, 'rt')\n",
    "        else:\n",
    "            f = open(filename, 'rt')\n",
    "        yield f\n",
    "        f.close()"
   ]
  },
  {
   "cell_type": "code",
   "execution_count": 4,
   "metadata": {},
   "outputs": [],
   "source": [
    "def gen_concatenate(iterators):\n",
    "    '''Объединяет цепочкой последовательность     \n",
    "    итераторов в одну последовательность.'''\n",
    "    for it in iterators:\n",
    "        yield from it"
   ]
  },
  {
   "cell_type": "code",
   "execution_count": 5,
   "metadata": {},
   "outputs": [],
   "source": [
    "def gen_grep(pattern, lines):\n",
    "    ''' Ищет шаблон регулярного выражения    \n",
    "    в последовательности строк'''\n",
    "    pat = re.compile(pattern)\n",
    "    for line in lines:\n",
    "        if pat.search(line):\n",
    "            yield line"
   ]
  },
  {
   "cell_type": "markdown",
   "metadata": {},
   "source": [
    "Теперь вы можете легко совместить эти функции для создания обрабатывающего канала. Например, чтобы найти все файлы логов, которые содержат слово python, вы можете поступить так: "
   ]
  },
  {
   "cell_type": "code",
   "execution_count": 6,
   "metadata": {},
   "outputs": [],
   "source": [
    "lognames = gen_find('access-log*', 'www')\n",
    "files = gen_opener(lognames)\n",
    "lines = gen_concatenate(files)\n",
    "pylines = gen_grep('(?i)python', lines)\n",
    "for line in pylines:\n",
    "    print(line)"
   ]
  },
  {
   "cell_type": "markdown",
   "metadata": {},
   "source": [
    "Если вы хотите еще расширить функциональность канала, то можете скармливать данные выражениям-генераторам. Например, эта версия находит количество переданных байтов и подсчитывает общую сумму: "
   ]
  },
  {
   "cell_type": "code",
   "execution_count": null,
   "metadata": {},
   "outputs": [],
   "source": [
    "lognames = gen_find('access-log*', 'www') \n",
    "files = gen_opener(lognames) \n",
    "lines = gen_concatenate(files) \n",
    "pylines = gen_grep('(?i)python', lines) \n",
    "bytecolumn = (line.rsplit(None,1)[1] for line in pylines) \n",
    "bytes = (int(x) for x in bytecolumn if x != '-') \n",
    "print('Total', sum(bytes)) "
   ]
  },
  {
   "cell_type": "code",
   "execution_count": 10,
   "metadata": {},
   "outputs": [
    {
     "data": {
      "text/plain": [
       "['hello worlds', 'again']"
      ]
     },
     "execution_count": 10,
     "metadata": {},
     "output_type": "execute_result"
    }
   ],
   "source": [
    "\"hello worlds again\".rsplit(None, 1)"
   ]
  },
  {
   "cell_type": "markdown",
   "metadata": {},
   "source": [
    "Обработка данных в «каналообразной» манере отлично работает для решения широкого спектра задач: парсинга, чтения из источников данных в реальном времени, периодического опрашивания и т. д. Для понимания представленного выше кода главное – уловить, что инструкция yield действует как своего рода производитель данных для цикла for, который действует как потребитель данных. Когда генераторы соединены, каждый yield скармливает один элемент данных следующему этапу канала, который потребляет его, совершая итерацию. В последнем примере функция sum() управляет всей программой, вытягивая один элемент за другим из канала (конвейера) генераторов."
   ]
  },
  {
   "cell_type": "markdown",
   "metadata": {},
   "source": [
    "Приятная особенность этого подхода заключается в том, что каждый генератор является маленьким и замкнутым на себе, поэтому их легко писать и поддерживать. Во многих случаях они получаются настолько универсальными, что могут быть переиспользованы в других контекстах. Получающийся код, который «склеи вает» компоненты вместе, тоже обычно читается как простой для понимания рецепт. "
   ]
  },
  {
   "cell_type": "markdown",
   "metadata": {},
   "source": [
    "Есть небольшая тонкость с использованием функции gen_concatenate(). Ее назначение – конкатенировать входные последовательности в одну длинную последовательность строк. itertools.chain() выполняет похожую функцию, но требует, чтобы все объединяемые итерируемые объекты были определены в качестве аргументов. В случае этого конкретного рецепта такой подход потребовал бы инструкции типа lines = itertools.chain(*files), которая заставила бы генератор gen_opener() быть полностью потребленным. Поскольку генератор производит последовательность открытых файлов, которые немедленно закрываются на следующем шаге итерации, chain() использовать нельзя. Показанное решение позволяет решить эту проблему. "
   ]
  },
  {
   "cell_type": "markdown",
   "metadata": {},
   "source": [
    "Также в функции gen_concatenate() используется yield from для делегирования субгенератору. Объявление yield from it просто заставляет gen_concatenate() выдать все значения, произведенные генератором it. Это описано далее, в рецепте 4.14. "
   ]
  },
  {
   "cell_type": "markdown",
   "metadata": {},
   "source": [
    "И последнее: стоит отметить, что «конвейерный» («канальный») подход не сработает для всех на свете задач обработки данных. Иногда вам просто необходимо работать со всеми данными сразу. Однако даже в этом случае использование каналов генераторов может стать путем логического разбиения задачи. Дэвид Бизли подробно написал об этих приемах в обучающей презентации «Трюки с генераторами для системных программистов»1. Если вам нужны дополнительные примеры, обратитесь к ней. "
   ]
  },
  {
   "cell_type": "markdown",
   "metadata": {},
   "source": [
    "http://www.dabeaz.com/generators/Generators.pdf"
   ]
  },
  {
   "cell_type": "markdown",
   "metadata": {},
   "source": [
    "# Превращение вложенной последовательности в плоскую "
   ]
  },
  {
   "cell_type": "markdown",
   "metadata": {},
   "source": [
    "У вас есть вложенная последовательность, и вы хотите превратить ее в один плоский список значений. "
   ]
  },
  {
   "cell_type": "markdown",
   "metadata": {},
   "source": [
    "Это легко решается с помощью рекурсивного генератора с инструкцией yield from. Например:"
   ]
  },
  {
   "cell_type": "code",
   "execution_count": 8,
   "metadata": {},
   "outputs": [],
   "source": [
    "from collections.abc import Iterable"
   ]
  },
  {
   "cell_type": "code",
   "execution_count": 9,
   "metadata": {},
   "outputs": [],
   "source": [
    "def flatten(items, ignore_types=(str, bytes)):\n",
    "    for x in items:\n",
    "        if isinstance(x, Iterable) and not isinstance(x, ignore_types):\n",
    "            yield from flatten(x)\n",
    "        else:\n",
    "            yield x"
   ]
  },
  {
   "cell_type": "code",
   "execution_count": 10,
   "metadata": {},
   "outputs": [],
   "source": [
    "items = [1, 2, [3, 4, [5, 6], 7], 8]"
   ]
  },
  {
   "cell_type": "code",
   "execution_count": 11,
   "metadata": {},
   "outputs": [
    {
     "name": "stdout",
     "output_type": "stream",
     "text": [
      "1\n",
      "2\n",
      "3\n",
      "4\n",
      "5\n",
      "6\n",
      "7\n",
      "8\n"
     ]
    }
   ],
   "source": [
    "# Производит 1 2 3 4 5 6 7 8 \n",
    "for x in flatten(items):\n",
    "    print(x)"
   ]
  },
  {
   "cell_type": "markdown",
   "metadata": {},
   "source": [
    "В этой программе isinstance(x, Iterable) просто проверяет, является ли элемент итерируемым объектом. Если это так, то yield from используется в качестве некой подпрограммы, чтобы выдать все его значения. Конечный результат – одна последовательность без вложенности."
   ]
  },
  {
   "cell_type": "markdown",
   "metadata": {},
   "source": [
    "Дополнительный аргумент ignore_types и проверка not isinstance(x, ignore_types) нужны для предотвращения определения строк и байтов как итерируемых последовательностей,  разбиения их на отдельные символы. Это позволяет вложенным спискам строк работать так, как большинство людей этого и ожидает: "
   ]
  },
  {
   "cell_type": "code",
   "execution_count": 13,
   "metadata": {},
   "outputs": [
    {
     "name": "stdout",
     "output_type": "stream",
     "text": [
      "Dave\n",
      "Paula\n",
      "Thomas\n",
      "Lewis\n"
     ]
    }
   ],
   "source": [
    "items = ['Dave', 'Paula', ['Thomas', 'Lewis']]\n",
    "for x in flatten(items):\n",
    "    print(x)"
   ]
  },
  {
   "cell_type": "markdown",
   "metadata": {},
   "source": [
    "Инструкция yield from – отличный способ написания генераторов, которые вызывают другие генераторы в качестве подпроцедур. Без использования этой инструкции вам придется вставить в код дополнительный цикл. Например: "
   ]
  },
  {
   "cell_type": "code",
   "execution_count": null,
   "metadata": {},
   "outputs": [],
   "source": [
    "def flatten(items, ignore_types=(str, bytes)):     \n",
    "    for x in items:         \n",
    "        if isinstance(x, Iterable) and not isinstance(x, ignore_types):             \n",
    "            for i in flatten(x):                 \n",
    "                yield i         \n",
    "        else:             \n",
    "            yield x "
   ]
  },
  {
   "cell_type": "markdown",
   "metadata": {},
   "source": [
    "Хотя это незначительное изменение, инструкция yield from просто приятнее и делает код чище. Как было отмечено, дополнительная проверка на строки и байты нужна для предотвращения их разбивки на отдельные символы. Если есть еще какие-то типы, которые вы не хотите раскрывать, вы просто можете передать другие значения в ignore_types. Стоит отметить, что yield from играет более важную роль в продвинутых программах, использующих корутины (сопрограммы) и основанную на генераторах многопоточность. См. другой пример в рецепте"
   ]
  },
  {
   "cell_type": "markdown",
   "metadata": {},
   "source": [
    "# Последовательное итерирование по слитым отсортированным итерируемым  объектам  "
   ]
  },
  {
   "cell_type": "markdown",
   "metadata": {},
   "source": [
    "У вас есть коллекция отсортированных последовательностей, и вы хотите проитерировать по отсортированной последовательности этих последовательностей, слитых воедино. "
   ]
  },
  {
   "cell_type": "markdown",
   "metadata": {},
   "source": [
    "Функция heapq.merge() делает именно это: "
   ]
  },
  {
   "cell_type": "code",
   "execution_count": 3,
   "metadata": {},
   "outputs": [
    {
     "name": "stdout",
     "output_type": "stream",
     "text": [
      "1\n",
      "2\n",
      "4\n",
      "5\n",
      "6\n",
      "7\n",
      "10\n",
      "11\n"
     ]
    }
   ],
   "source": [
    "import heapq\n",
    "a = [1, 4, 7, 10]\n",
    "b = [2, 5, 6, 11]\n",
    "for c in heapq.merge(a, b):\n",
    "    print(c)\n"
   ]
  },
  {
   "cell_type": "markdown",
   "metadata": {},
   "source": [
    "Итеративная природа heapq.merge() подразумевает, что она никогда не читает ни одну из переданных ей последовательностей сразу до конца. Это значит, что вы можете использовать ее на длинных последовательностях с очень незначительным перерасходом ресурсов. Вот, например, как вы можете слить воедино два отсортированных файла: "
   ]
  },
  {
   "cell_type": "code",
   "execution_count": 5,
   "metadata": {},
   "outputs": [],
   "source": [
    "import heapq\n",
    "import pandas as pd\n"
   ]
  },
  {
   "cell_type": "code",
   "execution_count": 7,
   "metadata": {},
   "outputs": [],
   "source": [
    "with open('sorted_file_1.txt', 'rt') as file1, \\\n",
    "        open('sorted_file_2.txt', 'rt') as file2, \\\n",
    "        open('merged_file_.txt', 'wt') as outf:\n",
    "    for line in heapq.merge(file1, file2):\n",
    "        outf.write(line)\n"
   ]
  },
  {
   "cell_type": "markdown",
   "metadata": {},
   "source": [
    "Важно отметить, что heapq.merge() требует, чтобы все передаваемые ей последовательности уже были отсортированы. Она не читает предварительно данные в кучу, не выполняет предварительную сортировку. Также она не выполняет никакой валидации входных данных на соответствие требованиям упорядоченности. Она просто проверяет набор элементов из «голов» каждой переданной последовательности и выдает минимальный из найденных. Далее читается новый элемент из выбранной последовательности, и процесс повторяется до тех пор, пока все входные последовательности не будут полностью потреблены."
   ]
  },
  {
   "cell_type": "markdown",
   "metadata": {},
   "source": [
    "# Замена бесконечных циклов while итератором "
   ]
  },
  {
   "cell_type": "markdown",
   "metadata": {},
   "source": [
    "У вас есть код, который использует цикл while для итеративной обработки данных, потому что в программе присутствует функция или какое-то необычное проверочное условие, которое нельзя вместить в стандартный итерационный паттерн. "
   ]
  },
  {
   "cell_type": "markdown",
   "metadata": {},
   "source": [
    "Вполне обычный код для программ, работающих с вводом-выводом: "
   ]
  },
  {
   "cell_type": "code",
   "execution_count": 8,
   "metadata": {},
   "outputs": [],
   "source": [
    "CHUNKSIZE = 8192"
   ]
  },
  {
   "cell_type": "code",
   "execution_count": null,
   "metadata": {},
   "outputs": [],
   "source": [
    "def reader(s):\n",
    "    while True:\n",
    "        data = s.recv(CHUNKSIZE)\n",
    "        #сокет s принимает количество байт равное CHUNKSIZE\n",
    "        if data == b'':\n",
    "            break\n",
    "        process_data(data)\n",
    "        #process_data - функция обработки данных"
   ]
  },
  {
   "cell_type": "markdown",
   "metadata": {},
   "source": [
    "Такой код часто можно заменить использованием iter(), как показано ниже: "
   ]
  },
  {
   "cell_type": "code",
   "execution_count": null,
   "metadata": {},
   "outputs": [],
   "source": [
    "def reader(s):\n",
    "    for chunk in iter(lambda: s.recv(CHUNKSIZE), b''):\n",
    "        #функция iter будет возвращать строку/байты размера CHUNKSIZE\n",
    "        #до тех пор, пока она не пустая\n",
    "        process_data(data)\n",
    "        #process_data - функция обработки данных\n",
    "    \n",
    "        "
   ]
  },
  {
   "cell_type": "markdown",
   "metadata": {},
   "source": [
    "Если вы сомневаетесь, будет ли это работать, то можете попробовать похожий пример для обработки файлов: "
   ]
  },
  {
   "cell_type": "code",
   "execution_count": null,
   "metadata": {},
   "outputs": [],
   "source": [
    "import sys\n",
    "f = open('/etc/passwd')\n",
    "for chunk in iter(lambda: f.read(10), ''):\n",
    "    #из файла считывает 10 символов или байт\n",
    "    #до тех пор, пока не вернется пустая строка\n",
    "    n = sys.stdout.write(chunk)\n",
    "    #выводим chunk в стандартный поток вывода \n",
    "    #n - количество байт или символов, которое мы вывели"
   ]
  },
  {
   "cell_type": "markdown",
   "metadata": {},
   "source": [
    "Малоизвестная возможность встроенной функции iter() заключается в том, что она может опционально принимать вызываемый (callable) аргумент и пороговое значение. При таком использовании функция создает итератор, который снова и снова повторяет вызов предоставленного вызываемого объекта, пока он не вернет значение, равное пороговому значению."
   ]
  },
  {
   "cell_type": "markdown",
   "metadata": {},
   "source": [
    "Этот конкретный подход хорошо работает с некоторыми типами многократно вызываемых функций, таких как операции ввода-вывода. Например, если вы хотите читать данные кусочками (\"chunk\") из файлов или сокетов, то обычно должны многократно вызывать read() или recv() с последующей проверкой достижения конца файла. Представленный выше рецепт просто берет эти две функциональности и совмещает в единственном вызове iter(). Использование lambda в решении необходимо для создания вызываемого объекта, который не принимает аргументов, но при этом поставляет аргумент нужного размера в recv() или read()."
   ]
  }
 ],
 "metadata": {
  "kernelspec": {
   "display_name": "Python 3",
   "language": "python",
   "name": "python3"
  },
  "language_info": {
   "codemirror_mode": {
    "name": "ipython",
    "version": 3
   },
   "file_extension": ".py",
   "mimetype": "text/x-python",
   "name": "python",
   "nbconvert_exporter": "python",
   "pygments_lexer": "ipython3",
   "version": "3.7.0"
  }
 },
 "nbformat": 4,
 "nbformat_minor": 2
}
