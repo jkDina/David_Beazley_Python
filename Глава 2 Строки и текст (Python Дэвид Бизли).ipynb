{
 "cells": [
  {
   "cell_type": "markdown",
   "metadata": {},
   "source": [
    "# Глава 2 Строки и текст (Python Дэвид Бизли)"
   ]
  },
  {
   "cell_type": "markdown",
   "metadata": {},
   "source": [
    "# Разрезание строк различными разделителями"
   ]
  },
  {
   "cell_type": "code",
   "execution_count": null,
   "metadata": {},
   "outputs": [],
   "source": [
    "#нужно разделить строку на поля, но разделители (и пробелы вокруг них внутри строки разные)"
   ]
  },
  {
   "cell_type": "code",
   "execution_count": 11,
   "metadata": {},
   "outputs": [],
   "source": [
    "line = 'dqwdh dqwdj; dhqd, hhsq,jqw,     foo'"
   ]
  },
  {
   "cell_type": "code",
   "execution_count": 12,
   "metadata": {},
   "outputs": [
    {
     "data": {
      "text/plain": [
       "['dqwdh', 'dqwdj', 'dhqd', 'hhsq', 'jqw', 'foo']"
      ]
     },
     "execution_count": 12,
     "metadata": {},
     "output_type": "execute_result"
    }
   ],
   "source": [
    "import re\n",
    "re.split(r'[;,\\s]\\s*', line)"
   ]
  },
  {
   "cell_type": "code",
   "execution_count": 13,
   "metadata": {},
   "outputs": [
    {
     "data": {
      "text/plain": [
       "['dqwdh', ' ', 'dqwdj', ';', 'dhqd', ',', 'hhsq', ',', 'jqw', ',', 'foo']"
      ]
     },
     "execution_count": 13,
     "metadata": {},
     "output_type": "execute_result"
    }
   ],
   "source": [
    "fields = re.split(r'(;|,|\\s)\\s*', line)\n",
    "fields"
   ]
  },
  {
   "cell_type": "code",
   "execution_count": 14,
   "metadata": {},
   "outputs": [],
   "source": [
    "values = fields[::2]\n",
    "delimiters = fields[1::2] + ['']"
   ]
  },
  {
   "cell_type": "code",
   "execution_count": 15,
   "metadata": {},
   "outputs": [
    {
     "name": "stdout",
     "output_type": "stream",
     "text": [
      "values =  ['dqwdh', 'dqwdj', 'dhqd', 'hhsq', 'jqw', 'foo']\n",
      "delimiters =  [' ', ';', ',', ',', ',', '']\n"
     ]
    }
   ],
   "source": [
    "print('values = ', values)\n",
    "print('delimiters = ', delimiters)"
   ]
  },
  {
   "cell_type": "code",
   "execution_count": 16,
   "metadata": {},
   "outputs": [
    {
     "data": {
      "text/plain": [
       "'dqwdh dqwdj;dhqd,hhsq,jqw,foo'"
      ]
     },
     "execution_count": 16,
     "metadata": {},
     "output_type": "execute_result"
    }
   ],
   "source": [
    "#переформатируем строку, используя те же разделители\n",
    "''.join(v+d for v, d in zip(values, delimiters))"
   ]
  },
  {
   "cell_type": "code",
   "execution_count": 17,
   "metadata": {},
   "outputs": [
    {
     "data": {
      "text/plain": [
       "['dqwdh', 'dqwdj', 'dhqd', 'hhsq', 'jqw', 'foo']"
      ]
     },
     "execution_count": 17,
     "metadata": {},
     "output_type": "execute_result"
    }
   ],
   "source": [
    "re.split(r'(?:,|;|\\s)\\s*', line)"
   ]
  },
  {
   "cell_type": "markdown",
   "metadata": {},
   "source": [
    "# Поиск текста в начале и в конце строки"
   ]
  },
  {
   "cell_type": "code",
   "execution_count": null,
   "metadata": {},
   "outputs": [],
   "source": [
    "#вам нужно проверить начало и конец строки на присутствие неких текстовых шаблонов, \n",
    "#таких как расширения файлов, схемы URL]"
   ]
  },
  {
   "cell_type": "code",
   "execution_count": 1,
   "metadata": {},
   "outputs": [
    {
     "data": {
      "text/plain": [
       "True"
      ]
     },
     "execution_count": 1,
     "metadata": {},
     "output_type": "execute_result"
    }
   ],
   "source": [
    "filename = 'spam.txt'\n",
    "filename.endswith('.txt')"
   ]
  },
  {
   "cell_type": "code",
   "execution_count": 2,
   "metadata": {},
   "outputs": [
    {
     "data": {
      "text/plain": [
       "False"
      ]
     },
     "execution_count": 2,
     "metadata": {},
     "output_type": "execute_result"
    }
   ],
   "source": [
    "filename.startswith('file:')"
   ]
  },
  {
   "cell_type": "code",
   "execution_count": 4,
   "metadata": {},
   "outputs": [
    {
     "data": {
      "text/plain": [
       "True"
      ]
     },
     "execution_count": 4,
     "metadata": {},
     "output_type": "execute_result"
    }
   ],
   "source": [
    "url = 'http://www.python.org'\n",
    "url.startswith('http:')"
   ]
  },
  {
   "cell_type": "code",
   "execution_count": 5,
   "metadata": {},
   "outputs": [
    {
     "data": {
      "text/plain": [
       "['.anaconda',\n",
       " '.atom',\n",
       " '.babel.json',\n",
       " '.bash_history',\n",
       " '.conda',\n",
       " '.condarc',\n",
       " '.config',\n",
       " '.git',\n",
       " '.gitconfig',\n",
       " '.idea',\n",
       " '.idlerc',\n",
       " '.ipfs',\n",
       " '.ipynb_checkpoints',\n",
       " '.ipython',\n",
       " '.jupyter',\n",
       " '.keras',\n",
       " '.local',\n",
       " '.matplotlib',\n",
       " '.node-gyp',\n",
       " '.node_repl_history',\n",
       " '.PyCharm2017.2',\n",
       " '.PyCharmCE2017.2',\n",
       " '.ssh',\n",
       " '.surprise_data',\n",
       " '.viminfo',\n",
       " '.windows-build-tools',\n",
       " '001-colorspace.ipynb',\n",
       " '001-filtering.ipynb',\n",
       " '001-medianfilter.ipynb',\n",
       " '001-sobel.ipynb',\n",
       " '002-cbir.ipynb',\n",
       " '002-digit.ipynb',\n",
       " '002-digit_old.ipynb',\n",
       " '002-matching.ipynb',\n",
       " '002-pca.ipynb',\n",
       " '003-graphcut.ipynb',\n",
       " '003-tracking.ipynb',\n",
       " '003-viola-jones.ipynb',\n",
       " '003-watershed.ipynb',\n",
       " '004-classification.ipynb',\n",
       " '004-logic.ipynb',\n",
       " '004-mnist.ipynb',\n",
       " '004-regression.ipynb',\n",
       " '005-cnn-mnist.ipynb',\n",
       " '005-neural-style.ipynb',\n",
       " '006-dogs-vs-cats.ipynb',\n",
       " '007-detection.ipynb',\n",
       " '007-segmentation.ipynb',\n",
       " '1 decision trees.ipynb',\n",
       " '1. kNN.ipynb',\n",
       " '1_boston.ipynb',\n",
       " '1_intro.ipynb',\n",
       " '2 competition.ipynb',\n",
       " '2. barley-break.ipynb',\n",
       " '2_classification.ipynb',\n",
       " '2_newspapers.ipynb',\n",
       " '2_RussianNER.ipynb',\n",
       " '2_syntax.ipynb',\n",
       " '2_titanic.ipynb',\n",
       " '3 metrics.ipynb',\n",
       " '3. Levenshtein distance.ipynb',\n",
       " '3D Objects',\n",
       " '4 vedomosti parsing.ipynb',\n",
       " '4. Jaccard.ipynb',\n",
       " '5 vedomosti classifying.ipynb',\n",
       " '5. kNN NBA.ipynb',\n",
       " '6 homework.ipynb',\n",
       " '6. kNN regression.ipynb',\n",
       " '7. kNN digits.ipynb',\n",
       " 'abalone.csv',\n",
       " 'adult.csv',\n",
       " 'ad_campaign.csv',\n",
       " 'ad_campaigns.xlsx',\n",
       " 'affair_data.csv',\n",
       " 'aml-11.1cw',\n",
       " 'aml-11.2cw',\n",
       " 'aml-23hw.ipynb',\n",
       " 'aml-cw11-1.ipynb',\n",
       " 'aml-cw11-2.ipynb',\n",
       " 'aml-cw12-1.ipynb',\n",
       " 'aml-cw12-2.ipynb',\n",
       " 'aml-hw23.ipynb',\n",
       " 'aml-hw7.ipynb',\n",
       " 'aml-hw8.ipynb',\n",
       " 'aml-hw9.ipynb',\n",
       " 'Anaconda3',\n",
       " 'AppData',\n",
       " 'Application Data',\n",
       " 'arrays_xyz.npz',\n",
       " 'arrays_xyz_c.npz',\n",
       " 'array_x.csv',\n",
       " 'array_x.npy',\n",
       " 'array_x.txt',\n",
       " 'athletes.csv',\n",
       " 'athletes_classifier.ipynb',\n",
       " 'banki_responses.json',\n",
       " 'bd-cw4pandas.ipynb',\n",
       " 'bd-hw4.ipynb',\n",
       " 'bd-hw7 .ipynb',\n",
       " 'bd_hw1.ipynb',\n",
       " 'bigdata_final_hw.ipynb',\n",
       " 'blockchain',\n",
       " 'book.txt',\n",
       " 'brand-logo-detection-dataset',\n",
       " 'Chapter 1 - Linear Regression.ipynb',\n",
       " 'checkpoint.hdf5',\n",
       " 'clustering_inclass.ipynb',\n",
       " 'coins.jpg',\n",
       " 'Contacts',\n",
       " 'control.csv',\n",
       " 'Cookies',\n",
       " 'coursera_1week.ipynb',\n",
       " 'coursera_1week_2task.ipynb',\n",
       " 'Creative Cloud Files',\n",
       " 'credit_homework.csv',\n",
       " 'crimes.csv',\n",
       " 'cross_val_score.ipynb',\n",
       " 'CSV1.csv',\n",
       " 'CSV2.csv',\n",
       " 'CSV3.csv',\n",
       " 'CSV5.csv',\n",
       " 'CSVexel.xlsx',\n",
       " 'CSVnew.csv',\n",
       " 'csv_exel_files.ipynb',\n",
       " 'data',\n",
       " 'data.csv',\n",
       " 'data.tar.gz',\n",
       " 'data_clients.ipynb',\n",
       " 'data_description.txt',\n",
       " 'derby.log',\n",
       " 'Desktop',\n",
       " 'dl-hw7_2.ipynb',\n",
       " 'Documents',\n",
       " 'dog_cats.py',\n",
       " 'Downloads',\n",
       " 'Dropbox',\n",
       " 'edb_languagepack_10.exe',\n",
       " 'Favorites',\n",
       " 'gender_submission.csv',\n",
       " 'geo.xlsx',\n",
       " 'geo_comment.xlsx',\n",
       " 'Gradient_descent.ipynb',\n",
       " 'haarcascade_eye.xml',\n",
       " 'haarcascade_frontalface_default.xml',\n",
       " 'hackathon-final.ipynb',\n",
       " 'hash1',\n",
       " 'Homework 4.ipynb',\n",
       " 'homework clustering.ipynb',\n",
       " 'Homework Module 3 (1).ipynb',\n",
       " 'Homework.ipynb',\n",
       " 'Homework_8.ipynb',\n",
       " 'homework_l7.ipynb',\n",
       " 'house_prices.csv',\n",
       " 'HW1_banki_TM-and-classification.ipynb',\n",
       " 'hw6.ipynb',\n",
       " 'hw7.ipynb',\n",
       " 'hw_test',\n",
       " 'hw_train',\n",
       " 'img',\n",
       " 'IntelGraphicsProfiles',\n",
       " 'IntroductionToML - Homework.ipynb',\n",
       " 'Iris_dataset.ipynb',\n",
       " 'ItemsBasedSimilarity.ipynb',\n",
       " 'kernel769896d080.ipynb',\n",
       " 'lecture-1.ipynb',\n",
       " 'lecture-2.ipynb',\n",
       " 'lena.png',\n",
       " 'libs.ipynb',\n",
       " 'lightfm_data',\n",
       " 'Linear regression.ipynb',\n",
       " 'Links',\n",
       " 'Local Settings',\n",
       " 'Logistic_regression_athletes_classifier.ipynb',\n",
       " 'Logres_affair.ipynb',\n",
       " 'lstm_text_generation_solution.ipynb',\n",
       " 'LSTM_WKI.ipynb',\n",
       " 'messi5.jpg',\n",
       " 'metastore_db',\n",
       " 'MicrosoftEdgeBackups',\n",
       " 'ml-cw10-2.ipynb',\n",
       " 'ml-cw10.ipynb',\n",
       " 'ml-hw8.ipynb',\n",
       " 'mnist_intro.ipynb',\n",
       " 'monet.jpg',\n",
       " 'moscow.jpg',\n",
       " 'movies.csv',\n",
       " 'Music',\n",
       " 'my_object_detection_2.ipynb',\n",
       " 'my_object_detection_tutorial.ipynb',\n",
       " 'my_object_detection__.ipynb',\n",
       " 'my_train.ipynb',\n",
       " 'NetHood',\n",
       " 'neural_style_0.png',\n",
       " 'neural_style_1.png',\n",
       " 'neural_style_2.png',\n",
       " 'nlp-course-netology-master',\n",
       " 'nov2017',\n",
       " 'NTUSER.DAT',\n",
       " 'ntuser.dat.LOG1',\n",
       " 'ntuser.dat.LOG2',\n",
       " 'NTUSER.DAT{b49da1ff-d007-11e9-b55c-bae30c5e365f}.TM.blf',\n",
       " 'NTUSER.DAT{b49da1ff-d007-11e9-b55c-bae30c5e365f}.TMContainer00000000000000000001.regtrans-ms',\n",
       " 'NTUSER.DAT{b49da1ff-d007-11e9-b55c-bae30c5e365f}.TMContainer00000000000000000002.regtrans-ms',\n",
       " 'ntuser.ini',\n",
       " 'Numpy.ipynb',\n",
       " 'ocean.jpg',\n",
       " 'OneDrive',\n",
       " 'output.png',\n",
       " 'pd1.ipynb',\n",
       " 'pd2.ipynb',\n",
       " 'pd3.ipynb',\n",
       " 'picasso.jpg',\n",
       " 'Pictures',\n",
       " 'pipeline.config',\n",
       " 'pipeline_cube.config',\n",
       " 'plot_tree.py',\n",
       " 'power.csv',\n",
       " 'PrintHood',\n",
       " 'pycharm-community-2017.2.1.exe',\n",
       " 'pycharm-professional-2017.2.1.exe',\n",
       " 'PycharmProjects',\n",
       " 'PySpark_for_students.ipynb',\n",
       " 'python',\n",
       " 'Python_1.ipynb',\n",
       " 'Python_10.ipynb',\n",
       " 'Python_2.ipynb',\n",
       " 'Python_3.ipynb',\n",
       " 'Python_4.ipynb',\n",
       " 'Python_5.ipynb',\n",
       " 'Python_6.ipynb',\n",
       " 'Python_7.ipynb',\n",
       " 'Python_8.ipynb',\n",
       " 'Python_9.ipynb',\n",
       " 'Recent',\n",
       " 'RecommenderHackathon.ipynb',\n",
       " 'RecommenderSystem.ipynb',\n",
       " 'Regression_cars.ipynb',\n",
       " 'sample.db',\n",
       " 'sample_submission.csv',\n",
       " 'sample_submission_titanic.csv',\n",
       " 'sat.txt',\n",
       " 'SAT_model.ipynb',\n",
       " 'Saved Games',\n",
       " 'Searches',\n",
       " 'SendTo',\n",
       " 'sept2017',\n",
       " 'shelter',\n",
       " 'skillfactory-dl-2-screencast.ipynb',\n",
       " 'somefile.txt',\n",
       " 'Spark.ipynb',\n",
       " 'SparkDataframe.ipynb',\n",
       " 'styled_monet_0.png',\n",
       " 'submission.txt',\n",
       " 'submit.csv',\n",
       " 'submit.txt',\n",
       " 'submit2.csv',\n",
       " 'submit_titanic.csv',\n",
       " 'tags.csv',\n",
       " 'test',\n",
       " 'test.csv',\n",
       " 'test_hotdogs',\n",
       " 'test_titanic.csv',\n",
       " 'test_user_id.list',\n",
       " 'test_X.pickle',\n",
       " 'titanic.csv',\n",
       " 'titanic.ipynb',\n",
       " 'Tracing',\n",
       " 'train',\n",
       " 'train.csv',\n",
       " 'train_hotdogs',\n",
       " 'train_hotdogs.rar',\n",
       " 'train_titanic.csv',\n",
       " 'transactions.csv',\n",
       " 'unsupervised.json',\n",
       " 'Unsupervised_Text_SVD_KMeans.ipynb',\n",
       " 'Untitled.ipynb',\n",
       " 'Untitled1.ipynb',\n",
       " 'Untitled10.ipynb',\n",
       " 'Untitled11.ipynb',\n",
       " 'Untitled12.ipynb',\n",
       " 'Untitled13.ipynb',\n",
       " 'Untitled14.ipynb',\n",
       " 'Untitled15.ipynb',\n",
       " 'Untitled16.ipynb',\n",
       " 'Untitled17.ipynb',\n",
       " 'Untitled18.ipynb',\n",
       " 'Untitled19.ipynb',\n",
       " 'Untitled2.ipynb',\n",
       " 'Untitled20.ipynb',\n",
       " 'Untitled21.ipynb',\n",
       " 'Untitled22.ipynb',\n",
       " 'Untitled23.ipynb',\n",
       " 'Untitled24.ipynb',\n",
       " 'Untitled25.ipynb',\n",
       " 'Untitled26.ipynb',\n",
       " 'Untitled27.ipynb',\n",
       " 'Untitled28.ipynb',\n",
       " 'Untitled29.ipynb',\n",
       " 'Untitled3.ipynb',\n",
       " 'Untitled30.ipynb',\n",
       " 'Untitled31.ipynb',\n",
       " 'Untitled32.ipynb',\n",
       " 'Untitled33.ipynb',\n",
       " 'Untitled34.ipynb',\n",
       " 'Untitled35.ipynb',\n",
       " 'Untitled36.ipynb',\n",
       " 'Untitled37.ipynb',\n",
       " 'Untitled38.ipynb',\n",
       " 'Untitled39.ipynb',\n",
       " 'Untitled4.ipynb',\n",
       " 'Untitled40.ipynb',\n",
       " 'Untitled41.ipynb',\n",
       " 'Untitled42.ipynb',\n",
       " 'Untitled43.ipynb',\n",
       " 'Untitled44.ipynb',\n",
       " 'Untitled45.ipynb',\n",
       " 'Untitled46.ipynb',\n",
       " 'Untitled47.ipynb',\n",
       " 'Untitled48.ipynb',\n",
       " 'Untitled49.ipynb',\n",
       " 'Untitled5.ipynb',\n",
       " 'Untitled50.ipynb',\n",
       " 'Untitled51.ipynb',\n",
       " 'Untitled52.ipynb',\n",
       " 'Untitled53.ipynb',\n",
       " 'Untitled54.ipynb',\n",
       " 'Untitled6.ipynb',\n",
       " 'Untitled7.ipynb',\n",
       " 'Untitled8.ipynb',\n",
       " 'Untitled9.ipynb',\n",
       " 'Videos',\n",
       " 'wiki_math',\n",
       " 'wiki_math1',\n",
       " 'Word2Vec.ipynb',\n",
       " 'word_vecs.py',\n",
       " '__pycache__',\n",
       " 'Ансамбли (для Студентов).ipynb',\n",
       " 'Введение_в_Python.ipynb',\n",
       " 'Глава 1 Векторы, матрицы массивы.ipynb',\n",
       " 'Глава 1 Структуры данных и алгоритмы.ipynb',\n",
       " 'Глава 2 Загрузка данных (МО Крис Элбон).ipynb',\n",
       " 'Глава 2 Строки и текст (Python Дэвид Бизли).ipynb',\n",
       " 'Глава 3 Упорядочение данных(MO Крис Элбон).ipynb',\n",
       " 'Глава 4 Работа с числовыми данными(МО Крис Элбон).ipynb',\n",
       " 'Глава 5 Работа с категориальными данными (МО Крис Элбон).ipynb',\n",
       " 'Глава_4_Основы NumPy.ipynb',\n",
       " 'главное меню',\n",
       " 'Домашнее задание по градиентному бустингу.ipynb',\n",
       " 'Лабораторная BigData2.ipynb',\n",
       " 'Мои документы',\n",
       " 'Оптимизация (Студенты).ipynb',\n",
       " 'Подбор параметров и итоговая практика(студенты).ipynb',\n",
       " 'Подбор параметров и итоговая практика_slack.ipynb',\n",
       " 'Функции потерь и оптимизация.ipynb',\n",
       " 'Цвета.ipynb',\n",
       " 'Шаблоны']"
      ]
     },
     "execution_count": 5,
     "metadata": {},
     "output_type": "execute_result"
    }
   ],
   "source": [
    "import os\n",
    "filenames = os.listdir('.')\n",
    "filenames"
   ]
  },
  {
   "cell_type": "code",
   "execution_count": 8,
   "metadata": {},
   "outputs": [
    {
     "data": {
      "text/plain": [
       "['dog_cats.py', 'plot_tree.py', 'word_vecs.py']"
      ]
     },
     "execution_count": 8,
     "metadata": {},
     "output_type": "execute_result"
    }
   ],
   "source": [
    "[name for name in filenames if name.endswith(('.py', '.h'))]"
   ]
  },
  {
   "cell_type": "code",
   "execution_count": 9,
   "metadata": {},
   "outputs": [
    {
     "data": {
      "text/plain": [
       "True"
      ]
     },
     "execution_count": 9,
     "metadata": {},
     "output_type": "execute_result"
    }
   ],
   "source": [
    "any(name.endswith('.py') for name in filenames)"
   ]
  },
  {
   "cell_type": "code",
   "execution_count": 13,
   "metadata": {},
   "outputs": [
    {
     "data": {
      "text/plain": [
       "b'<!DOCTYPE html><html class=\"i-ua_js_no i-ua_css_standart i-ua_browser_ i-ua_browser_desktop i-ua_platform_other\" lang=\"ru\"><head xmlns:og=\"http://ogp.me/ns#\"><meta http-equiv=Content-Type content=\"text/html;charset=UTF-8\"><meta http-equiv=\"X-UA-Compatible\" content=\"IE=edge\"><title>\\xd0\\xaf\\xd0\\xbd\\xd0\\xb4\\xd0\\xb5\\xd0\\xba\\xd1\\x81</title><link rel=\"shortcut icon\" href=\"//yastatic.net/iconostasis/_/8lFaTHLDzmsEZz-5XaQg9iTWZGE.png\"><link rel=\"apple-touch-icon\" href=\"//yastatic.net/iconostasis/_/5mdPq4V7ghRgzBvMkCaTzd2fjYg.png\" sizes=\"76x76\"><link rel=\"apple-touch-icon\" href=\"//yastatic.net/iconostasis/_/s-hGoCQMUosTziuARBks08IUxmc.png\" sizes=\"120x120\"><link rel=\"apple-touch-icon\" href=\"//yastatic.net/iconostasis/_/KnU823iWwj_vrPra7x9aQ-4yjRw.png\" sizes=\"152x152\"><link rel=\"apple-touch-icon\" href=\"//yastatic.net/iconostasis/_/wT9gfGZZ80sP0VsoR6dgDyXJf2Y.png\" sizes=\"180x180\"><link rel=\"alternate\" type=\"application/rss+xml\" title=\"\\xd0\\x9d\\xd0\\xbe\\xd0\\xb2\\xd0\\xbe\\xd1\\x81\\xd1\\x82\\xd0\\xb8 \\xd0\\xaf\\xd0\\xbd\\xd0\\xb4\\xd0\\xb5\\xd0\\xba\\xd1\\x81\\xd0\\xb0\" href=\"https://yandex.ru/company/press_releases/news.rss\"><link rel=\"alternate\" type=\"application/rss+xml\" title=\"\\xd0\\x91\\xd0\\xbb\\xd0\\xbe\\xd0\\xb3 \\xd0\\xaf\\xd0\\xbd\\xd0\\xb4\\xd0\\xb5\\xd0\\xba\\xd1\\x81\\xd0\\xb0\" href=\"https://yandex.ru/blog/company/rss\"><link rel=\"search\" href=\"//yandex.ru/opensearch.xml\" title=\"\\xd0\\xaf\\xd0\\xbd\\xd0\\xb4\\xd0\\xb5\\xd0\\xba\\xd1\\x81\" type=\"application/opensearchdescription+xml\"><link rel=\"preload\" href=\"//yastatic.net/jquery/2.1.4/jquery.min.js\" as=\"script\" crossorigin=\"anonymous\"><link rel=\"preload\" href=\"//yastatic.net/s3/home-static/_/V/u/m2Z4cjxO38SF2amk1maIy6Hvk.js\" as=\"script\" crossorigin=\"anonymous\"><meta property=\"og:title\" content=\"\\xd0\\xaf\\xd0\\xbd\\xd0\\xb4\\xd0\\xb5\\xd0\\xba\\xd1\\x81\"><meta property=\"og:image\" content=\"https://yastatic.net/s3/home/logos/share/share-logo_ru.png\"><meta property=\"og:description\" content=\"\\xd0\\x9d\\xd0\\xb0\\xd0\\xb9\\xd0\\xb4\\xd1\\x91\\xd1\\x82\\xd1\\x81\\xd1\\x8f \\xd0\\xb2\\xd1\\x81\\xd1\\x91\"><meta property=\"og:url\" content=\"https://yandex.ru\"><meta property=\"og:type\" content=\"website\"><meta property=\"og:site_name\" content=\"\\xd0\\xaf\\xd0\\xbd\\xd0\\xb4\\xd0\\xb5\\xd0\\xba\\xd1\\x81\"><meta property=\"og:locale\" content=\"ru_RU\"><meta property=\"fb:app_id\" content=\"1524984910954255\"><meta property=\"og:locale:alternate\" content=\"be_BY\"><meta property=\"og:locale:alternate\" content=\"kk_KZ\"><meta property=\"og:locale:alternate\" content=\"tt_RU\"><meta property=\"og:locale:alternate\" content=\"uk_UA\"><meta name=\"yamm\" content=\"p\"><meta name=\"referrer\" content=\"origin\"><script>(function(window) { var home = window.home = window.home || {}, delta = +new Date() - 1569493369 * 1000; home.now = function() { return new Date(+new Date() - delta); }; })(window);</script><script>window.home=window.home||{},home.loadManager=function(){var n={},o={};return{subscribe:function(t,e){var i=0,r=function(){++i===t.length&&setTimeout(function(){e()},0)};\"object\"!=typeof t&&(t=[t]),t.forEach(function(t){o[t]?r():(n[t]||(n[t]=[]),n[t].push(r))})},trigger:function(t){if(!o[t]&&(o[t]=!0,n[t])){for(var e=0,i=n[t].length;e<i;e++)n[t][e]();n[t]=[]}}}}();</script><script>!function(e,t){if(e.Ya=e.Ya||{},Ya.Rum)throw new Error(\"Rum: interface is already defined\");var n=e.performance,i=n&&n.timing&&n.timing.navigationStart||Ya.startPageLoad||+new Date,s=e.requestAnimationFrame;Ya.Rum={enabled:!!n,vsStart:document.visibilityState,vsChanged:!1,_defTimes:[],_defRes:[],_deltaMarks:{},_settings:{},_vars:{},init:function(e,t){this._settings=e,this._vars=t},getTime:n&&n.now?function(){return n.now()}:Date.now?function(){return Date.now()-i}:function(){return new Date-i},time:function(e){this._deltaMarks[e]=[this.getTime()]},timeEnd:function(e,t){var n=this._deltaMarks[e];n&&0!==n.length&&n.push(this.getTime(),t)},sendTimeMark:function(e,t,n,i){void 0===t&&(t=this.getTime()),this._defTimes.push([e,t,i]),this.mark(e,t)},sendResTiming:function(e,t){this._defRes.push([e,t])},sendRaf:function(e){var t=this.getSetting(\"forceFirstPaintTimeSending\");if(s&&(t||!this.isVisibilityChanged())){var n=this,i=\"2616.\"+e;s(function(){!t&&n.isVisibilityChanged()||(n.sendTimeMark(i+\".205\"),s(function(){!t&&n.isVisibilityChanged()||n.sendTimeMark(i+\".1928\")}))})}},isVisibilityChanged:function(){return this.vsStart&&(\"visible\"!==this.vsStart||this.vsChanged)},mark:n&&n.mark?function(e,t){n.mark(e+(t?\": \"+t:\"\"))}:function(){},getSetting:function(e){var t=this._settings[e];return null===t?null:t||\"\"}},document.addEventListener&&document.addEventListener(\"visibilitychange\",function a(){Ya.Rum.vsChanged=!0,document.removeEventListener(\"visibilitychange\",a)})}(window),function(){\"use strict\";Ya.Rum.observeDOMNode=window.IntersectionObserver?function(e,t,n){var i=this,s=Ya.Rum.getSetting(\"forceFirstPaintTimeSending\");!function a(){if(s||!i.isVisibilityChanged()){var r=\"string\"==typeof t?document.querySelector(t):t;r?new IntersectionObserver(function(t,n){!s&&i.isVisibilityChanged()||(Ya.Rum.sendTimeMark(e),n.unobserve(r))},n).observe(r):setTimeout(a,100)}}()}:function(){}}(),function(){\"use strict\";if(window.PerformanceLongTaskTiming){var e=Ya.Rum._tti={events:[],observer:new PerformanceObserver(function(t){e.events=e.events.concat(t.getEntries()),e.events.length>100&&e.events.shift()})};e.observer.observe({entryTypes:[\"longtask\"]})}}(),function(){\"use strict\";var e,t=[];function n(){var n=Ya.Rum.getSetting(\"clck\"),i=t.join(\"\\\\r\\\\n\");if(t=[],e=null,n&&!(navigator.sendBeacon&&Ya.Rum.getSetting(\"beacon\")&&navigator.sendBeacon(n,i))){var s=new XMLHttpRequest;s.open(\"POST\",n),s.send(i)}}Ya.Rum.send=function(i,s,a,r,o,u,c){clearTimeout(e);var d=function(e,t,n,i,s,a){var r=Ya.Rum.getSetting(\"slots\");return[a?\"/\"+a.join(\"/\"):\"\",\"/path=\"+t,r?\"/slots=\"+r.join(\";\"):\"\",n?\"/vars=\"+n:\"\",\"/cts=\"+(new Date).getTime(),\"/*\"]}(0,s,a,0,0,c);t.push(\"/reqid=\"+Ya.Rum.getSetting(\"reqid\")+d.join(\"\")),t.length<42?e=setTimeout(n,15):n()}}();Ya.Rum.init({\"beacon\":true,\"reqid\":\"1569493369.47416.139808.274790\",\"slots\":[\"171253,0,54\",\"170197,0,16\",\"167875,0,47\",\"171247,0,63\",\"63207,0,23\",\"168305,0,22\"],\"clck\":\"https://yandex.ru/clck/click\",\"sendStaticLocation\":false,\"enablePaintPerformanceObserver\":1},{\"143\":\"28.15.899\",\"287\":\"10393\",\"1961\":0,\"1964\":0,\"1965\":1,\"-project\":\"morda\",\"-page\":\"plain\",\"-platform\":\"desktop\",\"-env\":\"production\",\"-version\":\"2.2249\",\"-blocker\":\"\"});Ya.Rum.observeDOMNode(\\'2876\\',\\'form.search2\\')</script><script>!function(e){if(!window.Ya||!Ya.Rum)throw new Error(\"Rum: interface is not defined\");var r=Ya.Rum;r.getSetting=function(e){var n=r._settings[e];return null===n?null:n||\"\"}}(),function(e){var r={client:[\"690.2354\",-1,100,0],uncaught:[\"690.2361\",100,10,0],external:[\"690.2854\",100,10,0],script:[\"690.2609\",100,10,0]},n={};e.ERROR_LEVEL={INFO:\"info\",DEBUG:\"debug\",WARN:\"warn\",ERROR:\"error\",FATAL:\"fatal\"},e._errorSettings={clck:\"https://yandex.ru/clck/click\",beacon:!0,project:\"unknown\",page:\"\",env:\"\",experiments:[],additional:{},platform:\"\",region:\"\",level:\"\",version:\"\",yandexuid:\"\",preventError:!1,unhandledRejection:!1,debug:!1,limits:{},silent:{},filters:{}};var t=!1;function o(e,r){for(var n in r)r.hasOwnProperty(n)&&(e[n]=r[n]);return e}function i(e){return\"boolean\"==typeof e&&(e=+e),\"number\"==typeof e?e+\"\":null}e.initErrors=function(r){o(e._errorSettings,r),t||(window.addEventListener?(window.addEventListener(\"error\",a),\"Promise\"in window&&e._errorSettings.unhandledRejection&&window.addEventListener(\"unhandledrejection\",function(e){var r,n,t=e.reason;t&&(t.stack&&t.message?r=t.message:\"[object Event]\"===(r=String(t))?r=\"event.type: \"+t.type:\"[object Object]\"===r&&(n={unhandledObject:t}),a({message:\"Unhandled rejection: \"+r,stack:t.stack,additional:n}))})):window.onerror=function(e,r,n,t,o){a({error:o||new Error(e||\"Empty error\"),message:e,lineno:n,colno:t,filename:r})},t=!0)},e.updateErrors=function(r){o(e._errorSettings,r)},e._handleError=function(t,i){var a,s,l=e._errorSettings;if(l.preventError&&t.preventDefault&&t.preventDefault(),i)a=t,s=\"client\";else{a=e._normalizeError(t),s=a.type;var c=l.onError;\"function\"==typeof c&&c(a);var u=l.transform;\"function\"==typeof u&&(a=u(a))}var d=r[s][1];\"number\"==typeof l.limits[s]&&(d=l.limits[s]);var m=r[s][2];\"number\"==typeof l.silent[s]&&(m=l.silent[s]);var f=r[s][3];if(f<d||-1===d){a.path=r[s][0];var g=\"\";try{var p=o({},l.additional);g=JSON.stringify(o(p,a.additional))}catch(e){l.debug&&window.console&&console.error(\"[error-counter] json.stringify:\",e)}var v=function(){n[a.message]=!1,e._sendError(a,{additional:g,silent:f<m||-1===m?\"no\":\"yes\",isCustom:Boolean(i)}),r[s][3]++}.bind(this);if(void 0===l.throttleSend)v();else{if(n[a.message])return;n[a.message]=!0,setTimeout(v,l.throttleSend)}}},e._baseNormalizeError=function(e){var r=(e=e||{}).filename||e.fileName||\"\",n=e.error&&e.error.stack||e.stack||\"\",t=e.message||\"\";return{file:r,line:e.lineno||e.lineNumber,col:e.colno||e.colNumber,stack:n,message:t,additional:e.additional}},e._normalizeError=function(r){var n=e._baseNormalizeError(r),t=\"uncaught\",o=e._isExternalError(n.file,n.message,n.stack),i=\"\",a=\"\";return o.hasExternal?(t=\"external\",i=o.common,a=o.custom):/^Script error\\\\.?$/.test(n.message)&&(t=\"script\"),n.external=i,n.externalCustom=a,n.type=t,n},e._sendError=function(r,n){n=n||{};var t=e._errorSettings,o=t.experiments.length?t.experiments.join(\";\"):\"\",a={\"-url\":r.file,\"-line\":r.line,\"-col\":r.col,\"-stack\":r.stack,\"-env\":t.env,\"-msg\":r.message,\"-external\":r.external,\"-externalCustom\":r.externalCustom,\"-project\":t.project,\"-service\":r.service,\"-page\":r.page||t.page,\"-platform\":t.platform,\"-level\":r.level,\"-experiments\":o,\"-version\":t.version,\"-region\":t.region,\"-yandexuid\":t.yandexuid,\"-source\":r.source,\"-sourceMethod\":r.sourceMethod,\"-type\":n.isCustom?r.type:\"\",\"-block\":r.block,\"-method\":r.method,\"-additional\":n.additional,\"-adb\":i(Ya.blocker)||i(t.blocker),\"-ua\":navigator.userAgent,\"-silent\":n.silent,\"-ts\":+new Date};t.debug&&window.console&&console.error(\"[error-counter]\",a),e.send(null,r.path,function(e){var r=[];for(var n in e)e.hasOwnProperty(n)&&(e[n]||0===e[n])&&r.push(n+\"=\"+encodeURIComponent(e[n]).replace(/\\\\*/g,\"%2A\"));return r.join(\",\")}(a),null,null,null,null)};var a=function(e){Ya.Rum._handleError(e,!1)}}(Ya.Rum),function(e){var r={url:{0:/(miscellaneous|extension)_bindings/,1:/^chrome:/,2:/kaspersky-labs\\\\.com\\\\//,3:/^(?:moz|chrome)-extension:\\\\/\\\\//,4:/^file:/,5:/^resource:\\\\/\\\\//,6:/webnetc\\\\.top/,7:/local\\\\.adguard\\\\.com/},message:{0:/__adgRemoveDirect/,1:/Content Security Policy/,2:/vid_mate_check/,3:/ucapi/,4:/Access is denied/i,5:/^Uncaught SecurityError/i,6:/__ybro/,7:/__show__deepen/,8:/ntp is not defined/,9:/Cannot set property \\'install\\' of undefined/,10:/NS_ERROR/,11:/Error loading script/,12:/^TypeError: undefined is not a function$/,13:/__firefox__\\\\.(?:favicons|metadata|reader|searchQueryForField|searchLoginField)/},stack:{0:/(?:moz|chrome)-extension:\\\\/\\\\//,1:/adguard.*\\\\.user\\\\.js/i}};function n(e,r){if(e&&r){var n=[];for(var t in r)if(r.hasOwnProperty(t)){var o=r[t];\"string\"==typeof o&&(o=new RegExp(o)),o instanceof RegExp&&o.test(e)&&n.push(t)}return n.join(\"_\")}}function t(e,t){var o,i=[];for(var a in r)r.hasOwnProperty(a)&&(o=n(e[a],t[a]))&&i.push(a+\"~\"+o);return i.join(\";\")}e._isExternalError=function(n,o,i){var a=e._errorSettings.filters||{},s={url:(n||\"\")+\"\",message:(o||\"\")+\"\",stack:(i||\"\")+\"\"},l=t(s,r),c=t(s,a);return{common:l,custom:c,hasExternal:!(!l&&!c)}}}(Ya.Rum),function(){\"use strict\";var e;(e=Ya.Rum).logError=function(r,n){r=r||{},\"string\"!=typeof n&&void 0!==n||((n=new Error(n)).justCreated=!0);var t=r.message||\"\",o=e._baseNormalizeError(n);o.message&&(t&&(t+=\"; \"),t+=o.message),o.message=t||\"Empty error\";for(var i=[\"service\",\"source\",\"type\",\"block\",\"additional\",\"level\",\"page\",\"method\",\"sourceMethod\"],a=0;a<i.length;a++){var s=i[a];r[s]?o[s]=r[s]:n&&n[s]&&(o[s]=n[s])}e._handleError(o,!0)}}(),function(){\"use strict\";var e;(e=Ya.Rum).logAjaxError=function(r,n,t,o){r.type=\"network\",r.additional=r.additional||{},\"timeout\"===t?r.additional.timeout=1:n.status&&(r.additional.status=n.status),e.logError(r,o)}}();Ya.Rum.initErrors({\"project\":\"morda\",\"page\":\"plain\",\"platform\":\"desktop\",\"region\":\"10393\",\"env\":\"production\",\"version\":\"2.2249\",\"preventError\":false,\"unhandledRejection\":true,\"throttleSend\":0,\"debug\":0,\"limits\":{\"client\":1000},\"silent\":{\"external\":3},\"filters\":{\"url\":{\"0\":\"suggest-ya.cgi\"}},\"blocker\":\"\"});</script><script>!function(i){window.home=window.home||{},home.reportOnVisible=function(e){function n(){navigator.sendBeacon&&navigator.sendBeacon(e,\" \")||((new Image).src=e)}var t=i.visibilityState;t&&\"visible\"!==t?i.addEventListener(\"visibilitychange\",function o(){\"visible\"===i.visibilityState&&(i.removeEventListener(\"visibilitychange\",o,!1),n())},!1):n()}}(document);</script><link rel=\"stylesheet\" href=\"//yastatic.net/s3/home-static/_/o/i/S69BHjoDZW5txnDUeJc_GnSdg.css\"><style>@font-face{font-family:\\'YS Text\\';font-weight:400;font-style:normal;font-stretch:normal;src:url(//yastatic.net/s3/home/fonts/ys/1/text-regular.woff2) format(\\'woff2\\'),url(//yastatic.net/s3/home/fonts/ys/1/text-regular.woff) format(\\'woff\\')}@font-face{font-family:\\'YS Text\\';font-weight:500;font-style:normal;font-stretch:normal;src:url(//yastatic.net/s3/home/fonts/ys/1/text-medium.woff2) format(\\'woff2\\'),url(//yastatic.net/s3/home/fonts/ys/1/text-medium.woff) format(\\'woff\\')}@font-face{font-family:\\'YS Text\\';font-weight:700;font-style:normal;font-stretch:normal;src:url(//yastatic.net/s3/home/fonts/ys/1/text-bold.woff2) format(\\'woff2\\'),url(//yastatic.net/s3/home/fonts/ys/1/text-bold.woff) format(\\'woff\\')}.font_loaded body{font-family:\\'YS Text\\',\\'Helvetica Neue\\',Arial,sans-serif;-webkit-font-feature-settings:\\'liga\\',\\'kern\\';-moz-font-feature-settings:\\'liga\\',\\'kern\\';font-feature-settings:\\'liga\\',\\'kern\\'}</style><style>.weather__icon_ovc{background-image:url(\"//yastatic.net/s3/home-static/2.2249/common/blocks/weather-icons/general/ovc.png\");}.i-ua_inlinesvg_yes .weather__icon_ovc{background-image:url(\"data:image/svg+xml;charset=utf8,%3Csvg xmlns=\\'http://www.w3.org/2000/svg\\' width=\\'36\\' height=\\'36\\'%3E%3Cdefs%3E%3CradialGradient cx=\\'88.2%25\\' cy=\\'11.31%25\\' fx=\\'88.2%25\\' fy=\\'11.31%25\\' r=\\'51.28%25\\' gradientTransform=\\'matrix(0 -.975 1 0 .77 .97)\\' id=\\'a\\'%3E%3Cstop stop-color=\\'%239699C7\\' offset=\\'0%25\\'/%3E%3Cstop stop-color=\\'%239499C9\\' stop-opacity=\\'0\\' offset=\\'100%25\\'/%3E%3C/radialGradient%3E%3CradialGradient cx=\\'8.17%25\\' cy=\\'-6.53%25\\' fx=\\'8.17%25\\' fy=\\'-6.53%25\\' r=\\'65.22%25\\' gradientTransform=\\'matrix(0 -.975 1 0 .15 .01)\\' id=\\'b\\'%3E%3Cstop stop-color=\\'%239699C7\\' offset=\\'0%25\\'/%3E%3Cstop stop-color=\\'%239499C9\\' stop-opacity=\\'0\\' offset=\\'100%25\\'/%3E%3C/radialGradient%3E%3ClinearGradient x1=\\'50%25\\' y1=\\'0%25\\' x2=\\'50%25\\' y2=\\'100%25\\' id=\\'c\\'%3E%3Cstop stop-color=\\'%23A4C5F4\\' offset=\\'0%25\\'/%3E%3Cstop stop-color=\\'%23A7C7F2\\' offset=\\'100%25\\'/%3E%3C/linearGradient%3E%3CradialGradient cx=\\'88.2%25\\' cy=\\'9.46%25\\' fx=\\'88.2%25\\' fy=\\'9.46%25\\' r=\\'49.38%25\\' gradientTransform=\\'matrix(0 -.975 1 0 .79 .95)\\' id=\\'d\\'%3E%3Cstop stop-color=\\'%23486DA8\\' offset=\\'0%25\\'/%3E%3Cstop stop-color=\\'%23486DA8\\' stop-opacity=\\'0\\' offset=\\'100%25\\'/%3E%3C/radialGradient%3E%3CradialGradient cx=\\'14.44%25\\' cy=\\'0%25\\' fx=\\'14.44%25\\' fy=\\'0%25\\' r=\\'51.28%25\\' gradientTransform=\\'matrix(0 -.975 1 0 .14 .14)\\' id=\\'e\\'%3E%3Cstop stop-color=\\'%23486DA8\\' offset=\\'0%25\\'/%3E%3Cstop stop-color=\\'%23486DA8\\' stop-opacity=\\'0\\' offset=\\'100%25\\'/%3E%3C/radialGradient%3E%3ClinearGradient x1=\\'50%25\\' y1=\\'0%25\\' x2=\\'50%25\\' y2=\\'122.37%25\\' id=\\'f\\'%3E%3Cstop stop-color=\\'%23A4C5F4\\' offset=\\'0%25\\'/%3E%3Cstop stop-color=\\'%23A7C7F2\\' offset=\\'100%25\\'/%3E%3C/linearGradient%3E%3C/defs%3E%3Cg fill=\\'none\\' fill-rule=\\'evenodd\\'%3E%3Cpath d=\\'M29.07 21.55a4.29 4.29 0 1 0-.04-8.57 5.71 5.71 0 0 0-11.07-2.59 5.71 5.71 0 1 0-1.75 11.16h12.86z\\' fill=\\'%2373A5E6\\' opacity=\\'.32\\'/%3E%3Cg transform=\\'translate(3 10.55)\\'%3E%3Cellipse fill=\\'url(%23a)\\' opacity=\\'.2\\' cx=\\'7.5\\' cy=\\'12.31\\' rx=\\'6\\' ry=\\'6.15\\'/%3E%3Cellipse fill=\\'url(%23b)\\' opacity=\\'.2\\' cx=\\'23.25\\' cy=\\'14.62\\' rx=\\'3.75\\' ry=\\'3.85\\'/%3E%3Cpath d=\\'M7.5 18.46c-3.31 0-6-2.75-6-6.15 0-3.4 2.69-6.16 6-6.16a6 6 0 0 1 1.8.28 6.78 6.78 0 0 1 6.45-4.9 6.84 6.84 0 0 1 6.67 8 4.4 4.4 0 0 1 1.58-.3c2.49 0 4.5 2.07 4.5 4.62a4.56 4.56 0 0 1-4.5 4.61H7.5z\\' fill=\\'url(%23c)\\'/%3E%3Cellipse fill=\\'url(%23d)\\' opacity=\\'.34\\' cx=\\'7.5\\' cy=\\'12.31\\' rx=\\'6\\' ry=\\'6.15\\'/%3E%3Cellipse fill=\\'url(%23e)\\' opacity=\\'.2\\' cx=\\'24\\' cy=\\'13.85\\' rx=\\'4.5\\' ry=\\'4.62\\'/%3E%3Cellipse fill=\\'url(%23f)\\' cx=\\'15.75\\' cy=\\'8.46\\' rx=\\'6.75\\' ry=\\'6.92\\'/%3E%3C/g%3E%3C/g%3E%3C/svg%3E \");}</style><script>function Detector(){\"use strict\";var e=document.documentElement;return{isPlaceholderSupported:function(){return\"placeholder\"in document.createElement(\"input\")},getCSS3TransformProperty:function(){for(var e=document.documentElement.style,t=[\"transform\",\"MozTransform\",\"MsTransform\",\"msTransform\",\"WebkitTransform\",\"OTransform\"],n=\"\",i=0,r=t.length;i<r;++i)if(e[t[i]]!==undefined){n=t[i];break}return this.getCSS3TransformProperty=function(){return n},n},checkDataURLSupport:function(e){var t=new Image;t.onload=t.onerror=function(){e(1===this.width&&1===this.height)},t.src=\"data:image/gif;base64,R0lGODlhAQABAIAAAAAAAP///ywAAAAAAQABAAACAUwAOw==\"},isActivexEnabled:function(){var e=!1;try{e=!!new window.ActiveXObject(\"htmlfile\")}catch(t){e=!1}return e},isWin64:function(){return window.navigator&&\"Win64\"===window.navigator.platform},isFullScreen:function(){return window.innerWidth&&window.screen&&window.screen.width&&window.screen.height&&window.innerHeight&&window.innerWidth===screen.width&&window.innerHeight===screen.height},isIEMetroMode:function(){return this.isFullScreen()&&this.isWin64()&&!this.isActivexEnabled()},isSVGSupported:function(){if(\"opera\"in window)return!1;var e=document.createElement(\"svg\");return e.innerHTML=\"<svg/>\",e.firstChild&&\"http://www.w3.org/2000/svg\"===e.firstChild.namespaceURI},isAnimationSupported:function(){if(\"opera\"in window)return!1;for(var e=document.documentElement.style,t=[\"animationName\",\"webkitAnimationName\"],n=0,i=t.length;n<i;n++)if(e[t[n]]!==undefined)return!0},getUserFontSize:function(){var t,n,i=[],r=\"i-ua_user-font-size_\",o=document.createElement(\"div\");return o.style.height=\"1em\",e.appendChild(o),t=parseInt(o.offsetHeight),e.removeChild(o),n=16===t?\"normal\":t<16?\"small\":\"large\",i.push(r+n),i.push(r+t+\"px\"),i.join(\" \")},isRetina:function(){return(\"devicePixelRatio\"in window?window.devicePixelRatio:1)>=1.25}}}function MyMap(){this.rules={},this.rulesData=[]}MyMap.prototype={add:function(e){return(e=e||null)&&!this.rules[e]&&(this.rulesData.push(e),this.rules[e]=this.rulesData.length-1),this},get:function(e){var t=this.rules[e];return t&&this.rulesData[t]||null},getAll:function(){return this.rulesData.join(\" \")}};var detector=new Detector;!function(){var e,t=new MyMap;t.add(\"js\").add(\"i-ua_placeholder_\"+(detector.isPlaceholderSupported()?\"yes\":\"no\")).add(detector.isIEMetroMode()&&\"m-ie10-metro\").add(detector.isSVGSupported()?\"i-ua_inlinesvg_yes m-svg\":\"i-ua_inlinesvg_no no-data-url\").add(detector.isAnimationSupported()&&\"i-ua_animation_yes\").add(this.device&&\"m-touch\").add(detector.getUserFontSize()).add(\"i-ua_retina_\"+(detector.isRetina()?\"yes\":\"no\")),detector.checkDataURLSupport(function(e){e||(document.documentElement.className+=\" no-data-url\")}),this.document&&this.document.documentElement&&((e=this.document.documentElement).className=e.className.replace(\"i-ua_js_no\",\"i-ua_js_yes\")+\" \"+t.getAll())}();</script></head><body class=\"not-logged i-ua i-bem b-page b-page_desk-notif_default b-page_alt-widgets_yes b-page_media-footer-collapsed_no b-page_media-footer-lifted_no b-page_media-footer-wide_yes\" data-bem=\"{&quot;i-ua&quot;:{}}\"><div class=\"rows-wrapper\"><div class=\"desk-notif__wrapper\"><div class=\"desk-notif i-bem\" data-bem=\"{&quot;desk-notif&quot;:{&quot;serverCards&quot;:[&quot;login&quot;]}}\" role=\"complementary\" aria-label=\"\\xd0\\xa3\\xd0\\xb2\\xd0\\xb5\\xd0\\xb4\\xd0\\xbe\\xd0\\xbc\\xd0\\xbb\\xd0\\xb5\\xd0\\xbd\\xd0\\xb8\\xd1\\x8f\"><div class=\"desk-notif-card desk-notif-card_type_login desk-notif-card_bg_default desk-notif-card_login_yes i-bem\" data-bem=\"{&quot;desk-notif-card&quot;:{&quot;save&quot;:{&quot;expanded&quot;:&quot;https://yandex.ru/portal/set/any/?sk=yf9ac971306383040237d86df88298cf4&amp;empty=1&amp;mv=0&quot;,&quot;minified&quot;:&quot;https://yandex.ru/portal/set/any/?sk=yf9ac971306383040237d86df88298cf4&amp;empty=1&amp;mv=1&quot;}}}\"><div class=\"desk-notif-card__card\" role=\"form\" aria-label=\"\\xd0\\x90\\xd0\\xb2\\xd1\\x82\\xd0\\xbe\\xd1\\x80\\xd0\\xb8\\xd0\\xb7\\xd0\\xb0\\xd1\\x86\\xd0\\xb8\\xd1\\x8f\"><div class=\"desk-notif-card__login-title\"><a class=\"home-link home-link_black_yes\" href=\"https://passport.yandex.ru/auth?origin=home_desktop_ru_text1&retpath=https%3A%2F%2Fmail.yandex.ru%2F&backpath=https%3A%2F%2Fyandex.ru\">\\xd0\\x9f\\xd0\\xbe\\xd1\\x87\\xd1\\x82\\xd0\\xb0</a><a class=\"home-link desk-notif-card__login-mail-promo\" href=\"https://passport.yandex.ru/registration/mail?from=mail&origin=home_desktop_ru&retpath=https%3A%2F%2Fmail.yandex.ru%2F\">\\xd0\\x97\\xd0\\xb0\\xd0\\xb2\\xd0\\xb5\\xd1\\x81\\xd1\\x82\\xd0\\xb8 \\xd0\\xbf\\xd0\\xbe\\xd1\\x87\\xd1\\x82\\xd1\\x83</a></div><a class=\"button desk-notif-card__login-enter-expanded button_theme_gray i-bem\" data-bem=\"{&quot;button&quot;:{}}\" role=\"button\" href=\"https://passport.yandex.ru/auth?origin=home_desktop_ru_text1&retpath=https%3A%2F%2Fmail.yandex.ru%2F&backpath=https%3A%2F%2Fyandex.ru\"><span class=\"button__text\">\\xd0\\x92\\xd0\\xbe\\xd0\\xb9\\xd1\\x82\\xd0\\xb8 \\xd0\\xb2 \\xd0\\xbf\\xd0\\xbe\\xd1\\x87\\xd1\\x82\\xd1\\x83</span></a></div></div></div></div><div class=\"container rows\"><div class=\"rows__bg\"><div class=\"skin__on-bg\"></div></div><div class=\"row rows__row rows__row_first\"><div class=\"col\" role=\"complementary\"><div class=\"container headline\"><div class=\"row\"><div class=\"col headline__item headline__leftcorner\"><a class=\"home-link geolink link_geosuggest_yes home-link_black_yes\" href=\"https://yandex.ru/tune/geo/?retpath=https%3A%2F%2Fyandex.ru%2F%3Fdomredir%3D1&amp;nosync=1\"><div class=\"geolink__button geolink__button_size_s\"></div><span class=\"geolink__reg\">\\xd0\\x9b\\xd0\\xbe\\xd0\\xbd\\xd0\\xb4\\xd0\\xbe\\xd0\\xbd</span></a><a class=\"home-link headline__privacy link_gray_yes\" href=\"https://yandex.ru/legal/confidential/\">\\xd0\\x9a\\xd0\\xbe\\xd0\\xbd\\xd1\\x84\\xd0\\xb8\\xd0\\xb4\\xd0\\xb5\\xd0\\xbd\\xd1\\x86\\xd0\\xb8\\xd0\\xb0\\xd0\\xbb\\xd1\\x8c\\xd0\\xbd\\xd0\\xbe\\xd1\\x81\\xd1\\x82\\xd1\\x8c</a></div><div class=\"col headline__item headline__center\"></div><div class=\"col headline__item headline__bar\"><div class=\"container headline__bar_stuff\"><div class=\"row headline__bar-items\"><div class=\"col headline__bar-item \"><div class=\"head-options2 i-bem\" data-bem=\"{&quot;head-options2&quot;:{}}\"><div class=\"dropdown2 dropdown2_switcher_link i-bem\" data-bem=\"{&quot;dropdown2&quot;:{}}\"><a class=\"link i-bem head-options2__link link_black_yes link_pseudo_yes\" href=\"https://yandex.ru/tune/search/?retpath=https%3A%2F%2Fyandex.ru%2F%3Fdomredir%3D1&amp;nosync=1\" role=\"button\" aria-expanded=\"false\" aria-haspopup=\"true\" data-bem=\"{&quot;link&quot;:{}}\"><span class=\"link__inner\">\\xd0\\x9d\\xd0\\xb0\\xd1\\x81\\xd1\\x82\\xd1\\x80\\xd0\\xbe\\xd0\\xb9\\xd0\\xba\\xd0\\xb0</span></a><div class=\"popup2 popup2_view_default popup2_theme_normal popup2_alt-shadow_yes popup2_autoclosable_yes popup2_target_anchor i-bem\" data-bem=\"{&quot;popup2&quot;:{&quot;mainOffset&quot;:10,&quot;directions&quot;:[&quot;bottom-center&quot;]}}\" ><div class=\"popup2__tail\"></div><ul class=\"menu menu_theme_normal menu_view_default menu_tone_default menu_size_sx menu_type_navigation i-bem\" data-bem=\"{&quot;menu&quot;:{}}\"><div class=\"menu__group\" role=\"group\"><li class=\"menu__list-item\"><a class=\"menu__item menu__item_type_link\" data-bem=\"{&quot;menu__item&quot;:{}}\" href=\"https://yandex.ru/themes\" target=\"_self\" role=\"link\" aria-label=\"\\xd0\\x9f\\xd0\\xbe\\xd1\\x81\\xd1\\x82\\xd0\\xb0\\xd0\\xb2\\xd0\\xb8\\xd1\\x82\\xd1\\x8c \\xd1\\x82\\xd0\\xb5\\xd0\\xbc\\xd1\\x83\"><span class=\"menu__text\">\\xd0\\x9f\\xd0\\xbe\\xd1\\x81\\xd1\\x82\\xd0\\xb0\\xd0\\xb2\\xd0\\xb8\\xd1\\x82\\xd1\\x8c \\xd1\\x82\\xd0\\xb5\\xd0\\xbc\\xd1\\x83</span></a></li><li class=\"menu__list-item\"><div class=\"menu__item menu__item_type_link\" data-bem=\"{&quot;menu__item&quot;:{}}\" role=\"menuitem\" data-type=\"hidden-blocks\" tabindex=\"0\" aria-label=\"\\xd0\\x9d\\xd0\\xb0\\xd1\\x81\\xd1\\x82\\xd1\\x80\\xd0\\xbe\\xd0\\xb8\\xd1\\x82\\xd1\\x8c \\xd0\\xb1\\xd0\\xbb\\xd0\\xbe\\xd0\\xba\\xd0\\xb8\"><span class=\"menu__text\">\\xd0\\x9d\\xd0\\xb0\\xd1\\x81\\xd1\\x82\\xd1\\x80\\xd0\\xbe\\xd0\\xb8\\xd1\\x82\\xd1\\x8c \\xd0\\xb1\\xd0\\xbb\\xd0\\xbe\\xd0\\xba\\xd0\\xb8</span></div></li></div><div class=\"menu__group\" role=\"group\"><li class=\"menu__list-item\"><a class=\"menu__item menu__item_type_link\" data-bem=\"{&quot;menu__item&quot;:{}}\" href=\"https://yandex.ru/tune/geo/?retpath=https%3A%2F%2Fyandex.ru%2F%3Fdomredir%3D1&amp;nosync=1\" target=\"_self\" role=\"link\" aria-label=\"\\xd0\\x98\\xd0\\xb7\\xd0\\xbc\\xd0\\xb5\\xd0\\xbd\\xd0\\xb8\\xd1\\x82\\xd1\\x8c \\xd0\\xb3\\xd0\\xbe\\xd1\\x80\\xd0\\xbe\\xd0\\xb4\"><span class=\"menu__text\">\\xd0\\x98\\xd0\\xb7\\xd0\\xbc\\xd0\\xb5\\xd0\\xbd\\xd0\\xb8\\xd1\\x82\\xd1\\x8c \\xd0\\xb3\\xd0\\xbe\\xd1\\x80\\xd0\\xbe\\xd0\\xb4</span></a></li><li class=\"menu__list-item\"><a class=\"menu__item menu__item_type_link\" data-bem=\"{&quot;menu__item&quot;:{}}\" href=\"https://yandex.ru/tune/search/?retpath=https%3A%2F%2Fyandex.ru%2F%3Fdomredir%3D1&amp;nosync=1\" target=\"_self\" role=\"link\" aria-label=\"\\xd0\\x9d\\xd0\\xb0\\xd1\\x81\\xd1\\x82\\xd1\\x80\\xd0\\xbe\\xd0\\xb9\\xd0\\xba\\xd0\\xb8 \\xd0\\xbf\\xd0\\xbe\\xd1\\x80\\xd1\\x82\\xd0\\xb0\\xd0\\xbb\\xd0\\xb0\"><span class=\"menu__text\">\\xd0\\x9d\\xd0\\xb0\\xd1\\x81\\xd1\\x82\\xd1\\x80\\xd0\\xbe\\xd0\\xb9\\xd0\\xba\\xd0\\xb8 \\xd0\\xbf\\xd0\\xbe\\xd1\\x80\\xd1\\x82\\xd0\\xb0\\xd0\\xbb\\xd0\\xb0</span></a></li></div></ul></div></div></div></div></div></div></div></div></div></div></div><div class=\"row rows__row rows__row_main\"><div class=\"col main widgets i-bem\" role=\"main\" data-bem=\"{&quot;widgets&quot;:{&quot;uniqId&quot;:&quot;widgets&quot;,&quot;yu&quot;:&quot;50efffb5a4eb14a7eb2245a537318180017b3103324351ba0fb34d012be6dc4e:1569493369&quot;,&quot;Logged&quot;:0,&quot;domain&quot;:&quot;ru&quot;,&quot;locale&quot;:&quot;ru&quot;,&quot;layoutType&quot;:&quot;columns&quot;,&quot;hidePromo&quot;:0,&quot;geoid&quot;:&quot;10393&quot;,&quot;statLogRoot&quot;:&quot;&quot;,&quot;settings&quot;:{},&quot;widgetStyle&quot;:{&quot;def&quot;:{&quot;bg&quot;:&quot;light&quot;,&quot;text&quot;:&quot;999&quot;,&quot;link&quot;:&quot;000&quot;,&quot;hover&quot;:&quot;ff0000&quot;,&quot;decor&quot;:&quot;1&quot;}},&quot;gsid&quot;:&quot;1569493369.47416.139808.274790&quot;,&quot;version&quot;:3}}\"><div class=\"container container__first container__line container_shrinkable_yes\"><div class=\"row first text_black_yes widgets__row widgets__row_tr_1\"><div class=\"col col_td_0 widgets__col widgets__col_td_1\"><div class=\"i-bem widget widget_mode_plain widget_id_topnews widget_name_topnews widgets__item b-widget-fixed\" data-bem=\"{&quot;widget&quot;:{&quot;id&quot;:&quot;_topnews&quot;,&quot;showPrefs&quot;:true}}\" id=\"wd-wrapper-_topnews\"><div id=\"wd-_topnews\" class=\"b-widget-data b-wrapper b-wrapper-\"><div class=\"news news_animation_yes i-bem mix-tabber_theme_link\" role=\"complementary\" aria-label=\"\\xd0\\x9d\\xd0\\xbe\\xd0\\xb2\\xd0\\xbe\\xd1\\x81\\xd1\\x82\\xd0\\xb8\" data-bem=\"{&quot;news&quot;:{&quot;uniqId&quot;:&quot;news&quot;,&quot;interval&quot;:8000,&quot;firstInterval&quot;:20000,&quot;data&quot;:{&quot;region&quot;:{&quot;showIcons&quot;:true,&quot;newTabLinks&quot;:true,&quot;statid&quot;:&quot;news.region&quot;,&quot;news&quot;:[{&quot;full&quot;:&quot;\\xd0\\x93\\xd0\\xb0\\xd0\\xbb\\xd0\\xba\\xd0\\xb8 \\xd0\\xbc\\xd0\\xbe\\xd0\\xb3\\xd1\\x83\\xd1\\x82 \\xd0\\xbf\\xd1\\x80\\xd0\\xb5\\xd0\\xb4\\xd1\\x83\\xd0\\xbf\\xd1\\x80\\xd0\\xb5\\xd0\\xb6\\xd0\\xb4\\xd0\\xb0\\xd1\\x82\\xd1\\x8c \\xd0\\xb4\\xd1\\x80\\xd1\\x83\\xd0\\xb3 \\xd0\\xb4\\xd1\\x80\\xd1\\x83\\xd0\\xb3\\xd0\\xb0 \\xd0\\xbe\\xd0\\xb1 \\xd0\\xbe\\xd0\\xbf\\xd0\\xb0\\xd1\\x81\\xd0\\xbd\\xd1\\x8b\\xd1\\x85 \\xd0\\xbb\\xd1\\x8e\\xd0\\xb4\\xd1\\x8f\\xd1\\x85&quot;,&quot;href&quot;:&quot;https://yandex.ru/news/story/Galki_mogut_preduprezhdat_drug_druga_ob_opasnykh_lyudyakh--8365573a30d444134a5044a4739b8eaf?lang=ru&amp;from=reg_portal&amp;stid=8o5vcDAN6HuI5pnQhp5v&amp;t=1569492480&amp;lr=10393&amp;msid=1569493369.47416.139808.274790&amp;mlid=1569492480.geo_102.8365573a&quot;,&quot;agency_logo&quot;:&quot;https://avatars.mds.yandex.net/get-ynews-logo/26056/254128925-1487229550883-square/logo-square&quot;,&quot;agency_name&quot;:&quot;\\xd0\\x9f\\xd0\\xbe\\xd0\\xbb\\xd0\\xb8\\xd1\\x82\\xd0\\xb8\\xd1\\x87\\xd0\\xb5\\xd1\\x81\\xd0\\xba\\xd0\\xb0\\xd1\\x8f \\xd0\\xad\\xd0\\xba\\xd1\\x81\\xd0\\xbf\\xd0\\xb5\\xd1\\x80\\xd1\\x82\\xd0\\xb8\\xd0\\xb7\\xd0\\xb0&quot;},{&quot;full&quot;:&quot;\\xd0\\x9c\\xd0\\xb5\\xd0\\xb4\\xd0\\xb8\\xd0\\xba\\xd0\\xb8 \\xd1\\x81\\xd0\\xbe\\xd0\\xb2\\xd0\\xb5\\xd1\\x82\\xd1\\x83\\xd1\\x8e\\xd1\\x82 \\xd0\\xbf\\xd0\\xb8\\xd1\\x82\\xd1\\x8c \\xd1\\x87\\xd0\\xb0\\xd0\\xb9 \\xd0\\xb8\\xd0\\xb7 \\xd0\\xbf\\xd0\\xbe\\xd0\\xbb\\xd1\\x8b\\xd0\\xbd\\xd0\\xb8 \\xd0\\xbe\\xd1\\x82 \\xd0\\xb2\\xd0\\xb7\\xd0\\xb4\\xd1\\x83\\xd1\\x82\\xd0\\xb8\\xd1\\x8f \\xd0\\xb6\\xd0\\xb8\\xd0\\xb2\\xd0\\xbe\\xd1\\x82\\xd0\\xb0&quot;,&quot;href&quot;:&quot;https://yandex.ru/news/story/Mediki_sovetuyut_pit_chaj_iz_polyni_ot_vzdutiya_zhivota--38c4bebb40809da4cb0a34c9f722bf75?lang=ru&amp;from=reg_portal&amp;stid=totO&amp;t=1569492480&amp;lr=10393&amp;msid=1569493369.47416.139808.274790&amp;mlid=1569492480.geo_102.38c4bebb&quot;,&quot;agency_logo&quot;:&quot;https://avatars.mds.yandex.net/get-ynews-logo/135513/254090515-1478693584999-square/logo-square&quot;,&quot;agency_name&quot;:&quot;\\xd0\\x90\\xd0\\xba\\xd1\\x82\\xd1\\x83\\xd0\\xb0\\xd0\\xbb\\xd1\\x8c\\xd0\\xbd\\xd1\\x8b\\xd0\\xb5 \\xd0\\x9d\\xd0\\xbe\\xd0\\xb2\\xd0\\xbe\\xd1\\x81\\xd1\\x82\\xd0\\xb8&quot;},{&quot;full&quot;:&quot;\\xd0\\x94\\xd0\\xbe\\xd0\\xbc \\xd0\\xb2 \\xd0\\x90\\xd0\\xbd\\xd0\\xb3\\xd0\\xbb\\xd0\\xb8\\xd0\\xb8 \\xd0\\xb2\\xd1\\x8b\\xd1\\x81\\xd1\\x82\\xd0\\xb0\\xd0\\xb2\\xd0\\xb8\\xd0\\xbb\\xd0\\xb8 \\xd0\\xbd\\xd0\\xb0 \\xd0\\xbf\\xd1\\x80\\xd0\\xbe\\xd0\\xb4\\xd0\\xb0\\xd0\\xb6\\xd1\\x83 \\xd0\\xb7\\xd0\\xb0 80 \\xd1\\x80\\xd1\\x83\\xd0\\xb1\\xd0\\xbb\\xd0\\xb5\\xd0\\xb9&quot;,&quot;href&quot;:&quot;https://yandex.ru/news/story/Dom_v_Anglii_vystavili_na_prodazhu_za_80_rublej--adc9d9449ef09c9c5230c9518828568e?lang=ru&amp;from=reg_portal&amp;stid=YXSMLFmZSOX3uHkZeVv8&amp;t=1569492480&amp;lr=10393&amp;msid=1569493369.47416.139808.274790&amp;mlid=1569492480.geo_102.adc9d944&quot;,&quot;agency_logo&quot;:&quot;https://avatars.mds.yandex.net/get-ynews-logo/26056/1047-1478692902215-square/logo-square&quot;,&quot;agency_name&quot;:&quot;Lenta.ru&quot;},{&quot;full&quot;:&quot;\\xd0\\xa0\\xd0\\xbe\\xd1\\x81\\xd1\\x81\\xd0\\xb8\\xd0\\xb9\\xd1\\x81\\xd0\\xba\\xd0\\xb8\\xd0\\xb9 \\xd0\\xb2\\xd1\\x80\\xd0\\xb0\\xd1\\x87 \\xd0\\xbe\\xd0\\xbf\\xd1\\x80\\xd0\\xbe\\xd0\\xb2\\xd0\\xb5\\xd1\\x80\\xd0\\xb3\\xd0\\xb0\\xd0\\xb5\\xd1\\x82 \\xd0\\xb2\\xd0\\xbb\\xd0\\xb8\\xd1\\x8f\\xd0\\xbd\\xd0\\xb8\\xd0\\xb5 \\xd1\\x81\\xd0\\xbc\\xd0\\xb0\\xd1\\x80\\xd1\\x82\\xd1\\x84\\xd0\\xbe\\xd0\\xbd\\xd0\\xbe\\xd0\\xb2 \\xd0\\xbd\\xd0\\xb0 \\xd1\\x80\\xd0\\xb0\\xd0\\xb7\\xd0\\xb2\\xd0\\xb8\\xd1\\x82\\xd0\\xb8\\xd0\\xb5 \\xd0\\xb3\\xd0\\xb5\\xd0\\xbc\\xd0\\xbe\\xd1\\x80\\xd1\\x80\\xd0\\xbe\\xd1\\x8f&quot;,&quot;href&quot;:&quot;https://yandex.ru/news/story/Rossijskij_vrach_oprovergaet_vliyanie_smartfonov_na_razvitie_gemorroya--3f5892aca0c3423fb960e4cb30934067?lang=ru&amp;from=reg_portal&amp;stid=QRiIPaovbSLA1PTknU9Z&amp;t=1569492480&amp;lr=10393&amp;msid=1569493369.47416.139808.274790&amp;mlid=1569492480.geo_102.3f5892ac&quot;,&quot;agency_logo&quot;:&quot;https://avatars.mds.yandex.net/get-ynews-logo/33291/12390-1478693191443-square/logo-square&quot;,&quot;agency_name&quot;:&quot;MedikForum.ru&quot;},{&quot;full&quot;:&quot;\\xd0\\x90\\xd0\\xb2\\xd1\\x82\\xd0\\xbe\\xd1\\x80 \\xd1\\x81\\xd0\\xb5\\xd1\\x80\\xd0\\xb8\\xd0\\xb0\\xd0\\xbb\\xd0\\xb0 \\xc2\\xab\\xd0\\x94\\xd1\\x80\\xd1\\x8f\\xd0\\xbd\\xd1\\x8c\\xc2\\xbb \\xd0\\xbf\\xd0\\xbe\\xd0\\xb4\\xd0\\xbf\\xd0\\xb8\\xd1\\x88\\xd0\\xb5\\xd1\\x82 \\xd0\\xba\\xd0\\xbe\\xd0\\xbd\\xd1\\x82\\xd1\\x80\\xd0\\xb0\\xd0\\xba\\xd1\\x82 \\xd1\\x81 Amazon&quot;,&quot;href&quot;:&quot;https://yandex.ru/news/story/Avtor_seriala_Dryan_podpishet_kontrakt_s_Amazon--6604b1174710451ea4a4483bfce2735c?lang=ru&amp;from=reg_portal&amp;stid=elF9KYwe&amp;t=1569492480&amp;lr=10393&amp;msid=1569493369.47416.139808.274790&amp;mlid=1569492480.geo_102.6604b117&quot;,&quot;agency_logo&quot;:&quot;https://avatars.mds.yandex.net/get-ynews-logo/50744/254154182-1550152741834-square/logo-square&quot;,&quot;agency_name&quot;:&quot;\\xd0\\x9a\\xd1\\x83\\xd0\\xbb\\xd1\\x8c\\xd1\\x82\\xd1\\x83\\xd1\\x80\\xd0\\xbe\\xd0\\xbc\\xd0\\xb0\\xd0\\xbd\\xd0\\xb8\\xd1\\x8f&quot;},{&quot;full&quot;:&quot;\\xd0\\x91\\xd1\\x83\\xd0\\xbc\\xd0\\xb0\\xd0\\xb3\\xd0\\xb8 \\xd0\\xba\\xd0\\xbe\\xd0\\xbc\\xd0\\xbf\\xd0\\xb0\\xd0\\xbd\\xd0\\xb8\\xd0\\xb9 \\xd0\\xa0\\xd0\\xa4 \\xd0\\xbf\\xd1\\x80\\xd0\\xb5\\xd0\\xb8\\xd0\\xbc\\xd1\\x83\\xd1\\x89\\xd0\\xb5\\xd1\\x81\\xd1\\x82\\xd0\\xb2\\xd0\\xb5\\xd0\\xbd\\xd0\\xbd\\xd0\\xbe \\xd0\\xb4\\xd0\\xbe\\xd1\\x80\\xd0\\xbe\\xd0\\xb6\\xd0\\xb0\\xd1\\x8e\\xd1\\x82 \\xd0\\xb2 \\xd0\\x9b\\xd0\\xbe\\xd0\\xbd\\xd0\\xb4\\xd0\\xbe\\xd0\\xbd\\xd0\\xb5&quot;,&quot;href&quot;:&quot;https://yandex.ru/news/story/Bumagi_kompanij_RF_preimushhestvenno_dorozhayut_v_Londone--e7630ea7ec308c713b44eacd8b364975?lang=ru&amp;from=reg_portal&amp;stid=oSJOa0H5wp_16unnJrF7&amp;t=1569492480&amp;lr=10393&amp;msid=1569493369.47416.139808.274790&amp;mlid=1569492480.geo_102.e7630ea7&quot;,&quot;agency_logo&quot;:&quot;https://avatars.mds.yandex.net/get-ynews-logo/56838/1058-1478692902420-square/logo-square&quot;,&quot;agency_name&quot;:&quot;\\xd0\\x9f\\xd0\\xa0\\xd0\\x90\\xd0\\x99\\xd0\\x9c&quot;},{&quot;full&quot;:&quot;\\xd0\\x94\\xd1\\x8d\\xd0\\xb2\\xd0\\xb8\\xd0\\xb4 \\xd0\\x9a\\xd1\\x8d\\xd0\\xbc\\xd0\\xb5\\xd1\\x80\\xd0\\xbe\\xd0\\xbd \\xd1\\x80\\xd0\\xb0\\xd0\\xb7\\xd0\\xbe\\xd0\\xb1\\xd0\\xbb\\xd0\\xb0\\xd1\\x87\\xd0\\xb8\\xd0\\xbb \\xd0\\x92\\xd0\\xbb\\xd0\\xb0\\xd0\\xb4\\xd0\\xb8\\xd0\\xbc\\xd0\\xb8\\xd1\\x80\\xd0\\xb0 \\xd0\\x9f\\xd1\\x83\\xd1\\x82\\xd0\\xb8\\xd0\\xbd\\xd0\\xb0&quot;,&quot;href&quot;:&quot;https://yandex.ru/news/story/Dehvid_Kehmeron_razoblachil_Vladimira_Putina--c6cebaee8912367e0040c8f75a237d46?lang=ru&amp;from=reg_portal&amp;stid=zNzG&amp;t=1569492480&amp;lr=10393&amp;msid=1569493369.47416.139808.274790&amp;mlid=1569492480.geo_102.c6cebaee&quot;,&quot;agency_logo&quot;:&quot;https://avatars.mds.yandex.net/get-ynews-logo/28627/254116501-1478693781609-square/logo-square&quot;,&quot;agency_name&quot;:&quot;\\xd0\\x93\\xd0\\xbe\\xd1\\x81\\xd0\\xbd\\xd0\\xbe\\xd0\\xb2\\xd0\\xbe\\xd1\\x81\\xd1\\x82\\xd0\\xb8&quot;},{&quot;full&quot;:&quot;\\xd0\\x94\\xd0\\xb6\\xd0\\xbe\\xd0\\xbd\\xd1\\x81\\xd0\\xbe\\xd0\\xbd \\xd0\\xb2 \\xd1\\x82\\xd1\\x80\\xd0\\xb5\\xd1\\x82\\xd0\\xb8\\xd0\\xb9 \\xd1\\x80\\xd0\\xb0\\xd0\\xb7 \\xd0\\xbf\\xd1\\x80\\xd0\\xb5\\xd0\\xb4\\xd0\\xbb\\xd0\\xbe\\xd0\\xb6\\xd0\\xb8\\xd1\\x82 \\xd0\\xbf\\xd0\\xb0\\xd1\\x80\\xd0\\xbb\\xd0\\xb0\\xd0\\xbc\\xd0\\xb5\\xd0\\xbd\\xd1\\x82\\xd1\\x83 \\xd0\\xbf\\xd1\\x80\\xd0\\xbe\\xd0\\xb2\\xd0\\xb5\\xd1\\x81\\xd1\\x82\\xd0\\xb8 \\xd0\\xb2\\xd1\\x81\\xd0\\xb5\\xd0\\xbe\\xd0\\xb1\\xd1\\x89\\xd0\\xb8\\xd0\\xb5 \\xd0\\xb2\\xd1\\x8b\\xd0\\xb1\\xd0\\xbe\\xd1\\x80\\xd1\\x8b&quot;,&quot;href&quot;:&quot;https://yandex.ru/news/story/Dzhonson_v_tretij_raz_predlozhit_parlamentu_provesti_vseobshhie_vybory--c8183347e125c73ab4a39c1f11760a1d?lang=ru&amp;from=reg_portal&amp;stid=CqVEsS200aexcZjA&amp;t=1569492480&amp;lr=10393&amp;msid=1569493369.47416.139808.274790&amp;mlid=1569492480.geo_102.c8183347&quot;,&quot;agency_logo&quot;:&quot;https://avatars.mds.yandex.net/get-ynews-logo/135513/1002-1544074003449-square/logo-square&quot;,&quot;agency_name&quot;:&quot;\\xd0\\xa0\\xd0\\x98\\xd0\\x90 \\xd0\\x9d\\xd0\\xbe\\xd0\\xb2\\xd0\\xbe\\xd1\\x81\\xd1\\x82\\xd0\\xb8&quot;},{&quot;full&quot;:&quot;\\xd0\\x94\\xd0\\xb6\\xd0\\xbe\\xd0\\xbd\\xd1\\x81\\xd0\\xbe\\xd0\\xbd \\xd0\\xb2\\xd1\\x8b\\xd1\\x80\\xd0\\xb0\\xd0\\xb7\\xd0\\xb8\\xd0\\xbb \\xd0\\xb3\\xd0\\xbe\\xd1\\x82\\xd0\\xbe\\xd0\\xb2\\xd0\\xbd\\xd0\\xbe\\xd1\\x81\\xd1\\x82\\xd1\\x8c \\xd0\\xbf\\xd1\\x80\\xd0\\xbe\\xd0\\xb2\\xd0\\xb5\\xd1\\x81\\xd1\\x82\\xd0\\xb8 Brexit \\xd0\\xb1\\xd0\\xb5\\xd0\\xb7 \\xd1\\x81\\xd0\\xbe\\xd0\\xb3\\xd0\\xbb\\xd0\\xb0\\xd1\\x88\\xd0\\xb5\\xd0\\xbd\\xd0\\xb8\\xd1\\x8f&quot;,&quot;href&quot;:&quot;https://yandex.ru/news/story/Dzhonson_vyrazil_gotovnost_provesti_Brexit_bez_soglasheniya--8c8f6426b8b570f0df68a0cfacab8798?lang=ru&amp;from=reg_portal&amp;stid=iK47&amp;t=1569492480&amp;lr=10393&amp;msid=1569493369.47416.139808.274790&amp;mlid=1569492480.geo_102.8c8f6426&quot;,&quot;agency_logo&quot;:&quot;https://avatars.mds.yandex.net/get-ynews-logo/41096/254156038-1557303731847-square/logo-square&quot;,&quot;agency_name&quot;:&quot;News.ru&quot;},{&quot;full&quot;:&quot;\\xd0\\xa4\\xd1\\x83\\xd0\\xbd\\xd1\\x82 \\xd0\\xbd\\xd0\\xb5\\xd0\\xb3\\xd0\\xb0\\xd1\\x82\\xd0\\xb8\\xd0\\xb2\\xd0\\xbd\\xd0\\xbe \\xd1\\x80\\xd0\\xb5\\xd0\\xb0\\xd0\\xb3\\xd0\\xb8\\xd1\\x80\\xd1\\x83\\xd0\\xb5\\xd1\\x82 \\xd0\\xbd\\xd0\\xb0 \\xd0\\xb1\\xd0\\xb0\\xd1\\x82\\xd0\\xb0\\xd0\\xbb\\xd0\\xb8\\xd0\\xb8 \\xd0\\xb2 \\xd0\\xb1\\xd1\\x80\\xd0\\xb8\\xd1\\x82\\xd0\\xb0\\xd0\\xbd\\xd1\\x81\\xd0\\xba\\xd0\\xbe\\xd0\\xbc \\xd0\\xbf\\xd0\\xb0\\xd1\\x80\\xd0\\xbb\\xd0\\xb0\\xd0\\xbc\\xd0\\xb5\\xd0\\xbd\\xd1\\x82\\xd0\\xb5&quot;,&quot;href&quot;:&quot;https://yandex.ru/news/story/Funt_negativno_reagiruet_na_batalii_v_britanskom_parlamente--b22a12de98b99fe1ff363b7c45fe2b9a?lang=ru&amp;from=reg_portal&amp;t=1569492480&amp;lr=10393&amp;msid=1569493369.47416.139808.274790&amp;mlid=1569492480.geo_102.b22a12de&quot;,&quot;agency_logo&quot;:&quot;https://avatars.mds.yandex.net/get-ynews-logo/62808/1527-1526662740609-square/logo-square&quot;,&quot;agency_name&quot;:&quot;Profinance.ru&quot;}]}},&quot;personalRotating&quot;:false,&quot;showIcons&quot;:true,&quot;newTabLinks&quot;:true}}\"><div class=\"news__header widget__content\"><div class=\"news__tabs\"><h1 class=\"news__tab-wrapper news__head-item\"><a class=\"home-link home-link_blue_yes news__tab news__tab_selected_yes mix-tabber__tab mix-tabber__tab_selected_yes\" tabindex=\"0\" aria-selected=\"true\" aria-controls=\"news_panel_news\" data-key=\"news\" id=\"news_tab_news\" data-stat-link=\"news.tab.link.news\" data-stat-select=\"news.tab.select.news\" target=\"_blank\" role=\"tab\" href=\"https://news.yandex.ru/?msid=1569493369.47416.139808.274790&mlid=1569492480.glob_225\" rel=\"noopener\">\\xd0\\xa1\\xd0\\xb5\\xd0\\xb9\\xd1\\x87\\xd0\\xb0\\xd1\\x81 \\xd0\\xb2 \\xd0\\xa1\\xd0\\x9c\\xd0\\x98</a></h1><h1 class=\"news__tab-wrapper news__head-item\"><a class=\"home-link home-link_blue_yes news__tab news__tab_selected_no mix-tabber__tab mix-tabber__tab_selected_no\" tabindex=\"-1\" aria-selected=\"false\" data-key=\"region\" id=\"news_tab_region\" data-stat-link=\"news.tab.link.region\" data-stat-select=\"news.tab.select.region\" data-tabs-stat=\"{&quot;idx_id&quot;:&quot;1569492480&quot;,&quot;story_id&quot;:&quot;8365573a,38c4bebb,adc9d944,3f5892ac,6604b117,e7630ea7,c6cebaee,c8183347,8c8f6426,b22a12de&quot;,&quot;tab_id&quot;:&quot;geo_102&quot;,&quot;msid&quot;:&quot;1569493369.47416.139808.274790&quot;,&quot;client&quot;:1,&quot;lang&quot;:&quot;ru&quot;}\" target=\"_blank\" role=\"tab\" href=\"https://news.yandex.ru/United_Kingdom?msid=1569493369.47416.139808.274790&mlid=1569492480.geo_102\" rel=\"noopener\">\\xd0\\xb2 \\xd0\\x92\\xd0\\xb5\\xd0\\xbb\\xd0\\xb8\\xd0\\xba\\xd0\\xbe\\xd0\\xb1\\xd1\\x80\\xd0\\xb8\\xd1\\x82\\xd0\\xb0\\xd0\\xbd\\xd0\\xb8\\xd0\\xb8</a></h1><span class=\"news__head-item\"><span class=\"datetime text_gray_yes i-bem\" data-bem=\"{&quot;datetime&quot;:{&quot;timestamp&quot;:&quot;September 26, 2019, 11:22:49&quot;}}\"><span class=\"datetime__date\"><span class=\"datetime__day\">26 </span><span class=\"datetime__month\">\\xd1\\x81\\xd0\\xb5\\xd0\\xbd\\xd1\\x82\\xd1\\x8f\\xd0\\xb1\\xd1\\x80\\xd1\\x8f, </span><span class=\"datetime__wday\">\\xd1\\x87\\xd0\\xb5\\xd1\\x82\\xd0\\xb2\\xd0\\xb5\\xd1\\x80\\xd0\\xb3 </span></span><span class=\"datetime__time\"><a class=\"home-link datetime__time-link home-link_gray_yes\" href=\"https://yandex.ru/time\"><span class=\"datetime__hour\">11</span><span class=\"datetime__flicker\">:</span><span class=\"datetime__min\">22</span></a></span></span></span></div><div class=\"news__panels mix-tabber-slide2__panels\"><div class=\"news__panel mix-tabber-slide2__panel\" role=\"tabpanel\" id=\"news_panel_news\" data-key=\"news\" aria-labelledby=\"news_tab_news\"><ol class=\"list news__list\"><li class=\"list__item  list__item_icon\" ><a class=\"home-link list__item-content list__item-content_with-icon home-link_black_yes\" aria-label=\"\\xd0\\x9b\\xd1\\x83\\xd0\\xba\\xd0\\xb0\\xd1\\x88\\xd0\\xb5\\xd0\\xbd\\xd0\\xba\\xd0\\xbe \\xd0\\xb7\\xd0\\xb0\\xd1\\x8f\\xd0\\xb2\\xd0\\xb8\\xd0\\xbb \\xd0\\xbe \\xd0\\xb3\\xd0\\xbe\\xd1\\x82\\xd0\\xbe\\xd0\\xb2\\xd0\\xbd\\xd0\\xbe\\xd1\\x81\\xd1\\x82\\xd0\\xb8 \\xd0\\xb2\\xd0\\xb2\\xd0\\xb5\\xd1\\x81\\xd1\\x82\\xd0\\xb8 \\xd0\\xbc\\xd0\\xb8\\xd1\\x80\\xd0\\xbe\\xd1\\x82\\xd0\\xb2\\xd0\\xbe\\xd1\\x80\\xd1\\x86\\xd0\\xb5\\xd0\\xb2 \\xd0\\xb2 \\xd0\\x94\\xd0\\xbe\\xd0\\xbd\\xd0\\xb1\\xd0\\xb0\\xd1\\x81\\xd1\\x81\" target=\"_blank\" href=\"https://yandex.ru/news/story/Lukashenko_zayavil_o_gotovnosti_vvesti_mirotvorcev_v_Donbass--5ccded6b887f31cd96bb28f24746ba99?lang=ru&from=main_portal&stid=KZ9r-go9mg3A1oRzFogH&t=1569492480&lr=10393&msid=1569493369.47416.139808.274790&mlid=1569492480.glob_225.5ccded6b\" rel=\"noopener\"><span class=\"news__item-inner\"><div class=\"news__agency-icon news__agency-icon_desktop news__agency-icon_image_yes\"><object class=\"news__agency-icon-image\" title=\"\\xd0\\x98\\xd0\\xb7\\xd0\\xb2\\xd0\\xb5\\xd1\\x81\\xd1\\x82\\xd0\\xb8\\xd1\\x8f\" data=\"https://avatars.mds.yandex.net/get-ynews-logo/50744/1013-1496416510291-square/logo-square\" type=\"image/png\"><div class=\"news__agency-icon-image-empty\"></div></object></div><span class=\"news__item-content\">\\xd0\\x9b\\xd1\\x83\\xd0\\xba\\xd0\\xb0\\xd1\\x88\\xd0\\xb5\\xd0\\xbd\\xd0\\xba\\xd0\\xbe \\xd0\\xb7\\xd0\\xb0\\xd1\\x8f\\xd0\\xb2\\xd0\\xb8\\xd0\\xbb \\xd0\\xbe \\xd0\\xb3\\xd0\\xbe\\xd1\\x82\\xd0\\xbe\\xd0\\xb2\\xd0\\xbd\\xd0\\xbe\\xd1\\x81\\xd1\\x82\\xd0\\xb8 \\xd0\\xb2\\xd0\\xb2\\xd0\\xb5\\xd1\\x81\\xd1\\x82\\xd0\\xb8 \\xd0\\xbc\\xd0\\xb8\\xd1\\x80\\xd0\\xbe\\xd1\\x82\\xd0\\xb2\\xd0\\xbe\\xd1\\x80\\xd1\\x86\\xd0\\xb5\\xd0\\xb2 \\xd0\\xb2 \\xd0\\x94\\xd0\\xbe\\xd0\\xbd\\xd0\\xb1\\xd0\\xb0\\xd1\\x81\\xd1\\x81</span></span></a></li><li class=\"list__item  list__item_icon\" ><a class=\"home-link list__item-content list__item-content_with-icon home-link_black_yes\" aria-label=\"\\xd0\\x92 \\xd0\\x9a\\xd1\\x80\\xd0\\xb5\\xd0\\xbc\\xd0\\xbb\\xd0\\xb5 \\xd0\\xbf\\xd1\\x80\\xd0\\xbe\\xd0\\xba\\xd0\\xbe\\xd0\\xbc\\xd0\\xbc\\xd0\\xb5\\xd0\\xbd\\xd1\\x82\\xd0\\xb8\\xd1\\x80\\xd0\\xbe\\xd0\\xb2\\xd0\\xb0\\xd0\\xbb\\xd0\\xb8 \\xd0\\xbf\\xd1\\x83\\xd0\\xb1\\xd0\\xbb\\xd0\\xb8\\xd0\\xba\\xd0\\xb0\\xd1\\x86\\xd0\\xb8\\xd1\\x8e \\xd1\\x80\\xd0\\xb0\\xd0\\xb7\\xd0\\xb3\\xd0\\xbe\\xd0\\xb2\\xd0\\xbe\\xd1\\x80\\xd0\\xb0 \\xd0\\xa2\\xd1\\x80\\xd0\\xb0\\xd0\\xbc\\xd0\\xbf\\xd0\\xb0 \\xd0\\xb8 \\xd0\\x97\\xd0\\xb5\\xd0\\xbb\\xd0\\xb5\\xd0\\xbd\\xd1\\x81\\xd0\\xba\\xd0\\xbe\\xd0\\xb3\\xd0\\xbe\" target=\"_blank\" href=\"https://yandex.ru/news/story/V_Kremle_prokommentirovali_publikaciyu_razgovora_Trampa_i_Zelenskogo--a2941e32a1410b774671cfccdfe8a1ef?lang=ru&from=main_portal&stid=egpyUG-lVUmv7fQE80AZ&t=1569492480&lr=10393&msid=1569493369.47416.139808.274790&mlid=1569492480.glob_225.a2941e32\" rel=\"noopener\"><span class=\"news__item-inner\"><div class=\"news__agency-icon news__agency-icon_desktop news__agency-icon_image_yes\"><object class=\"news__agency-icon-image\" title=\"\\xd0\\xa0\\xd0\\x98\\xd0\\x90 \\xd0\\x9d\\xd0\\xbe\\xd0\\xb2\\xd0\\xbe\\xd1\\x81\\xd1\\x82\\xd0\\xb8\" data=\"https://avatars.mds.yandex.net/get-ynews-logo/135513/1002-1544074003449-square/logo-square\" type=\"image/png\"><div class=\"news__agency-icon-image-empty\"></div></object></div><span class=\"news__item-content\">\\xd0\\x92 \\xd0\\x9a\\xd1\\x80\\xd0\\xb5\\xd0\\xbc\\xd0\\xbb\\xd0\\xb5 \\xd0\\xbf\\xd1\\x80\\xd0\\xbe\\xd0\\xba\\xd0\\xbe\\xd0\\xbc\\xd0\\xbc\\xd0\\xb5\\xd0\\xbd\\xd1\\x82\\xd0\\xb8\\xd1\\x80\\xd0\\xbe\\xd0\\xb2\\xd0\\xb0\\xd0\\xbb\\xd0\\xb8 \\xd0\\xbf\\xd1\\x83\\xd0\\xb1\\xd0\\xbb\\xd0\\xb8\\xd0\\xba\\xd0\\xb0\\xd1\\x86\\xd0\\xb8\\xd1\\x8e \\xd1\\x80\\xd0\\xb0\\xd0\\xb7\\xd0\\xb3\\xd0\\xbe\\xd0\\xb2\\xd0\\xbe\\xd1\\x80\\xd0\\xb0 \\xd0\\xa2\\xd1\\x80\\xd0\\xb0\\xd0\\xbc\\xd0\\xbf\\xd0\\xb0 \\xd0\\xb8 \\xd0\\x97\\xd0\\xb5\\xd0\\xbb\\xd0\\xb5\\xd0\\xbd\\xd1\\x81\\xd0\\xba\\xd0\\xbe\\xd0\\xb3\\xd0\\xbe</span></span></a></li><li class=\"list__item  list__item_icon\" ><a class=\"home-link list__item-content list__item-content_with-icon home-link_black_yes\" aria-label=\"\\xd0\\x97\\xd0\\xb5\\xd0\\xbb\\xd0\\xb5\\xd0\\xbd\\xd1\\x81\\xd0\\xba\\xd0\\xb8\\xd0\\xb9 \\xd0\\xbf\\xd0\\xb5\\xd1\\x80\\xd0\\xb5\\xd1\\x81\\xd0\\xba\\xd0\\xb0\\xd0\\xb7\\xd0\\xb0\\xd0\\xbb \\xd1\\x81\\xd0\\xb2\\xd0\\xbe\\xd0\\xb9 \\xd0\\xba\\xd1\\x80\\xd0\\xb0\\xd1\\x82\\xd0\\xba\\xd0\\xb8\\xd0\\xb9 \\xd1\\x80\\xd0\\xb0\\xd0\\xb7\\xd0\\xb3\\xd0\\xbe\\xd0\\xb2\\xd0\\xbe\\xd1\\x80 \\xd1\\x81 \\xd0\\x9b\\xd0\\xb0\\xd0\\xb2\\xd1\\x80\\xd0\\xbe\\xd0\\xb2\\xd1\\x8b\\xd0\\xbc\" target=\"_blank\" href=\"https://yandex.ru/news/story/Zelenskij_pereskazal_svoj_kratkij_razgovor_s_Lavrovym--4f9e01966436cdbf18301e4825224e9a?lang=ru&from=main_portal&stid=hHlAZTs9JltSbwyj1L1v&t=1569492480&lr=10393&msid=1569493369.47416.139808.274790&mlid=1569492480.glob_225.4f9e0196\" rel=\"noopener\"><span class=\"news__item-inner\"><div class=\"news__agency-icon news__agency-icon_desktop news__agency-icon_image_yes\"><object class=\"news__agency-icon-image\" title=\"\\xd0\\xa0\\xd0\\x91\\xd0\\x9a\" data=\"https://avatars.mds.yandex.net/get-ynews-logo/117671/1027-1530099491421-square/logo-square\" type=\"image/png\"><div class=\"news__agency-icon-image-empty\"></div></object></div><span class=\"news__item-content\">\\xd0\\x97\\xd0\\xb5\\xd0\\xbb\\xd0\\xb5\\xd0\\xbd\\xd1\\x81\\xd0\\xba\\xd0\\xb8\\xd0\\xb9 \\xd0\\xbf\\xd0\\xb5\\xd1\\x80\\xd0\\xb5\\xd1\\x81\\xd0\\xba\\xd0\\xb0\\xd0\\xb7\\xd0\\xb0\\xd0\\xbb \\xd1\\x81\\xd0\\xb2\\xd0\\xbe\\xd0\\xb9 \\xd0\\xba\\xd1\\x80\\xd0\\xb0\\xd1\\x82\\xd0\\xba\\xd0\\xb8\\xd0\\xb9 \\xd1\\x80\\xd0\\xb0\\xd0\\xb7\\xd0\\xb3\\xd0\\xbe\\xd0\\xb2\\xd0\\xbe\\xd1\\x80 \\xd1\\x81 \\xd0\\x9b\\xd0\\xb0\\xd0\\xb2\\xd1\\x80\\xd0\\xbe\\xd0\\xb2\\xd1\\x8b\\xd0\\xbc</span></span></a></li><li class=\"list__item  list__item_icon\" ><a class=\"home-link list__item-content list__item-content_with-icon home-link_black_yes\" aria-label=\"\\xd0\\xa0\\xd0\\xbe\\xd1\\x81\\xd1\\x81\\xd0\\xb8\\xd1\\x8f\\xd0\\xbd\\xd0\\xb0\\xd0\\xbc \\xd0\\xb7\\xd0\\xb0\\xd0\\xbf\\xd1\\x80\\xd0\\xb5\\xd1\\x82\\xd1\\x8f\\xd1\\x82 \\xd0\\xba\\xd1\\x83\\xd1\\x80\\xd0\\xb8\\xd1\\x82\\xd1\\x8c \\xd0\\xbd\\xd0\\xb0 \\xd0\\xb1\\xd0\\xb0\\xd0\\xbb\\xd0\\xba\\xd0\\xbe\\xd0\\xbd\\xd0\\xb0\\xd1\\x85\" target=\"_blank\" href=\"https://yandex.ru/news/story/Rossiyanam_zapretyat_kurit_na_balkonakh--fc24a41604ae368c5c96aa2c9b63ffd8?lang=ru&from=main_portal&stid=ZkHjFnsj1s1UNkUuXupE&t=1569492480&lr=10393&msid=1569493369.47416.139808.274790&mlid=1569492480.glob_225.fc24a416\" rel=\"noopener\"><span class=\"news__item-inner\"><div class=\"news__agency-icon news__agency-icon_desktop news__agency-icon_image_yes\"><object class=\"news__agency-icon-image\" title=\"Lenta.ru\" data=\"https://avatars.mds.yandex.net/get-ynews-logo/26056/1047-1478692902215-square/logo-square\" type=\"image/png\"><div class=\"news__agency-icon-image-empty\"></div></object></div><span class=\"news__item-content\">\\xd0\\xa0\\xd0\\xbe\\xd1\\x81\\xd1\\x81\\xd0\\xb8\\xd1\\x8f\\xd0\\xbd\\xd0\\xb0\\xd0\\xbc \\xd0\\xb7\\xd0\\xb0\\xd0\\xbf\\xd1\\x80\\xd0\\xb5\\xd1\\x82\\xd1\\x8f\\xd1\\x82 \\xd0\\xba\\xd1\\x83\\xd1\\x80\\xd0\\xb8\\xd1\\x82\\xd1\\x8c \\xd0\\xbd\\xd0\\xb0 \\xd0\\xb1\\xd0\\xb0\\xd0\\xbb\\xd0\\xba\\xd0\\xbe\\xd0\\xbd\\xd0\\xb0\\xd1\\x85</span></span></a></li></ol><ol class=\"list news__list news__animation-list\"><li class=\"list__item list__item_fade_in list__item_icon news__animated-item\" ><a class=\"home-link list__item-content list__item-content_with-icon home-link_black_yes\" aria-label=\"\\xd0\\xa1\\xd0\\xb0\\xd1\\x83\\xd0\\xb4\\xd0\\xbe\\xd0\\xb2\\xd1\\x81\\xd0\\xba\\xd0\\xb8\\xd0\\xb9 \\xd0\\xbf\\xd1\\x80\\xd0\\xb8\\xd0\\xbd\\xd1\\x86 \\xd0\\xbf\\xd1\\x80\\xd0\\xb8\\xd0\\xb7\\xd0\\xbd\\xd0\\xb0\\xd0\\xbb \\xd0\\xbe\\xd1\\x82\\xd0\\xb2\\xd0\\xb5\\xd1\\x82\\xd1\\x81\\xd1\\x82\\xd0\\xb2\\xd0\\xb5\\xd0\\xbd\\xd0\\xbd\\xd0\\xbe\\xd1\\x81\\xd1\\x82\\xd1\\x8c \\xd0\\xb7\\xd0\\xb0 \\xd1\\x83\\xd0\\xb1\\xd0\\xb8\\xd0\\xb9\\xd1\\x81\\xd1\\x82\\xd0\\xb2\\xd0\\xbe \\xd0\\xa5\\xd0\\xb0\\xd1\\x88\\xd0\\xba\\xd0\\xb0\\xd0\\xb4\\xd0\\xb6\\xd0\\xb8\" target=\"_blank\" href=\"https://yandex.ru/news/story/Saudovskij_princ_priznal_otvetstvennost_za_ubijstvo_KHashkadzhi--0bb54201b7145860d99b2a400dd161a2?lang=ru&from=main_portal&stid=QLMHzVs2MhhIUXZFwOpR&t=1569492480&lr=10393&msid=1569493369.47416.139808.274790&mlid=1569492480.glob_225.0bb54201\" rel=\"noopener\"><span class=\"news__item-inner\"><div class=\"news__agency-icon news__agency-icon_desktop news__agency-icon_image_yes\"><object class=\"news__agency-icon-image\" title=\"\\xd0\\xa2\\xd0\\x90\\xd0\\xa1\\xd0\\xa1\" data=\"https://avatars.mds.yandex.net/get-ynews-logo/50744/1551-1563808847385-square/logo-square\" type=\"image/png\"><div class=\"news__agency-icon-image-empty\"></div></object></div><span class=\"news__item-content\">\\xd0\\xa1\\xd0\\xb0\\xd1\\x83\\xd0\\xb4\\xd0\\xbe\\xd0\\xb2\\xd1\\x81\\xd0\\xba\\xd0\\xb8\\xd0\\xb9 \\xd0\\xbf\\xd1\\x80\\xd0\\xb8\\xd0\\xbd\\xd1\\x86 \\xd0\\xbf\\xd1\\x80\\xd0\\xb8\\xd0\\xb7\\xd0\\xbd\\xd0\\xb0\\xd0\\xbb \\xd0\\xbe\\xd1\\x82\\xd0\\xb2\\xd0\\xb5\\xd1\\x82\\xd1\\x81\\xd1\\x82\\xd0\\xb2\\xd0\\xb5\\xd0\\xbd\\xd0\\xbd\\xd0\\xbe\\xd1\\x81\\xd1\\x82\\xd1\\x8c \\xd0\\xb7\\xd0\\xb0 \\xd1\\x83\\xd0\\xb1\\xd0\\xb8\\xd0\\xb9\\xd1\\x81\\xd1\\x82\\xd0\\xb2\\xd0\\xbe \\xd0\\xa5\\xd0\\xb0\\xd1\\x88\\xd0\\xba\\xd0\\xb0\\xd0\\xb4\\xd0\\xb6\\xd0\\xb8</span></span></a></li><li class=\"list__item  list__item_icon news__animated-item\" ><a class=\"home-link list__item-content list__item-content_with-icon home-link_black_yes\" aria-label=\"\\xd0\\xa2\\xd1\\x80\\xd0\\xb5\\xd1\\x82\\xd1\\x8c \\xd0\\xb3\\xd0\\xb8\\xd0\\xbf\\xd0\\xb5\\xd1\\x80\\xd0\\xbc\\xd0\\xb0\\xd1\\x80\\xd0\\xba\\xd0\\xb5\\xd1\\x82\\xd0\\xbe\\xd0\\xb2 \\xc2\\xab\\xd0\\x9a\\xd0\\xb0\\xd1\\x80\\xd1\\x83\\xd1\\x81\\xd0\\xb5\\xd0\\xbb\\xd1\\x8c\\xc2\\xbb \\xd1\\x81\\xd1\\x82\\xd0\\xb0\\xd0\\xbd\\xd1\\x83\\xd1\\x82 \\xc2\\xab\\xd0\\x9f\\xd0\\xb5\\xd1\\x80\\xd0\\xb5\\xd0\\xba\\xd1\\x80\\xd0\\xb5\\xd1\\x81\\xd1\\x82\\xd0\\xba\\xd0\\xb0\\xd0\\xbc\\xd0\\xb8\\xc2\\xbb\" target=\"_blank\" href=\"https://yandex.ru/news/story/Tret_gipermarketov_Karusel_stanut_Perekrestkami--07a3864e5b2425c470ed2759f640bfc7?lang=ru&from=main_portal&stid=tO4ihwn0SZBHkkBLlPrS&t=1569492480&lr=10393&msid=1569493369.47416.139808.274790&mlid=1569492480.glob_225.07a3864e\" rel=\"noopener\"><span class=\"news__item-inner\"><div class=\"news__agency-icon news__agency-icon_desktop news__agency-icon_image_yes\"><object class=\"news__agency-icon-image\" title=\"\\xd0\\x92\\xd0\\xb5\\xd0\\xb4\\xd0\\xbe\\xd0\\xbc\\xd0\\xbe\\xd1\\x81\\xd1\\x82\\xd0\\xb8\" data=\"https://avatars.mds.yandex.net/get-ynews-logo/26056/1689-1478692927370-square/logo-square\" type=\"image/png\"><div class=\"news__agency-icon-image-empty\"></div></object></div><span class=\"news__item-content\">\\xd0\\xa2\\xd1\\x80\\xd0\\xb5\\xd1\\x82\\xd1\\x8c \\xd0\\xb3\\xd0\\xb8\\xd0\\xbf\\xd0\\xb5\\xd1\\x80\\xd0\\xbc\\xd0\\xb0\\xd1\\x80\\xd0\\xba\\xd0\\xb5\\xd1\\x82\\xd0\\xbe\\xd0\\xb2 \\xc2\\xab\\xd0\\x9a\\xd0\\xb0\\xd1\\x80\\xd1\\x83\\xd1\\x81\\xd0\\xb5\\xd0\\xbb\\xd1\\x8c\\xc2\\xbb \\xd1\\x81\\xd1\\x82\\xd0\\xb0\\xd0\\xbd\\xd1\\x83\\xd1\\x82 \\xc2\\xab\\xd0\\x9f\\xd0\\xb5\\xd1\\x80\\xd0\\xb5\\xd0\\xba\\xd1\\x80\\xd0\\xb5\\xd1\\x81\\xd1\\x82\\xd0\\xba\\xd0\\xb0\\xd0\\xbc\\xd0\\xb8\\xc2\\xbb</span></span></a></li><li class=\"list__item  list__item_icon news__animated-item\" ><a class=\"home-link list__item-content list__item-content_with-icon home-link_black_yes\" aria-label=\"\\xd0\\x95\\xd0\\xbb\\xd0\\xb5\\xd0\\xbd\\xd0\\xb0 \\xd0\\x97\\xd0\\xb5\\xd0\\xbb\\xd0\\xb5\\xd0\\xbd\\xd1\\x81\\xd0\\xba\\xd0\\xb0\\xd1\\x8f \\xd0\\xbf\\xd1\\x80\\xd0\\xb8\\xd1\\x88\\xd0\\xbb\\xd0\\xb0 \\xd0\\xbd\\xd0\\xb0 \\xd0\\xb2\\xd1\\x81\\xd1\\x82\\xd1\\x80\\xd0\\xb5\\xd1\\x87\\xd1\\x83 \\xd0\\xbf\\xd0\\xb5\\xd1\\x80\\xd0\\xb2\\xd1\\x8b\\xd1\\x85 \\xd0\\xbb\\xd0\\xb5\\xd0\\xb4\\xd0\\xb8 \\xd0\\xb2 \\xd0\\xb6\\xd0\\xb8\\xd0\\xbb\\xd0\\xb5\\xd1\\x82\\xd0\\xb5 \\xd0\\xbd\\xd0\\xb0 \\xd0\\xb3\\xd0\\xbe\\xd0\\xbb\\xd0\\xbe\\xd0\\xb5 \\xd1\\x82\\xd0\\xb5\\xd0\\xbb\\xd0\\xbe\" target=\"_blank\" href=\"https://yandex.ru/news/story/Elena_Zelenskaya_prishla_na_vstrechu_pervykh_ledi_v_zhilete_na_goloe_telo--c88aa83a065a52bd3d6d12870682efaa?lang=ru&from=main_portal&stid=L5G6w9JH5xEzStxf9Jrl&t=1569492480&lr=10393&msid=1569493369.47416.139808.274790&mlid=1569492480.glob_225.c88aa83a\" rel=\"noopener\"><span class=\"news__item-inner\"><div class=\"news__agency-icon news__agency-icon_desktop news__agency-icon_image_yes\"><object class=\"news__agency-icon-image\" title=\"\\xd0\\x93\\xd0\\xb0\\xd0\\xb7\\xd0\\xb5\\xd1\\x82\\xd0\\xb0.Ru\" data=\"https://avatars.mds.yandex.net/get-ynews-logo/135513/1040-1478692902361-square/logo-square\" type=\"image/png\"><div class=\"news__agency-icon-image-empty\"></div></object></div><span class=\"news__item-content\">\\xd0\\x95\\xd0\\xbb\\xd0\\xb5\\xd0\\xbd\\xd0\\xb0 \\xd0\\x97\\xd0\\xb5\\xd0\\xbb\\xd0\\xb5\\xd0\\xbd\\xd1\\x81\\xd0\\xba\\xd0\\xb0\\xd1\\x8f \\xd0\\xbf\\xd1\\x80\\xd0\\xb8\\xd1\\x88\\xd0\\xbb\\xd0\\xb0 \\xd0\\xbd\\xd0\\xb0 \\xd0\\xb2\\xd1\\x81\\xd1\\x82\\xd1\\x80\\xd0\\xb5\\xd1\\x87\\xd1\\x83 \\xd0\\xbf\\xd0\\xb5\\xd1\\x80\\xd0\\xb2\\xd1\\x8b\\xd1\\x85 \\xd0\\xbb\\xd0\\xb5\\xd0\\xb4\\xd0\\xb8 \\xd0\\xb2 \\xd0\\xb6\\xd0\\xb8\\xd0\\xbb\\xd0\\xb5\\xd1\\x82\\xd0\\xb5 \\xd0\\xbd\\xd0\\xb0 \\xd0\\xb3\\xd0\\xbe\\xd0\\xbb\\xd0\\xbe\\xd0\\xb5 \\xd1\\x82\\xd0\\xb5\\xd0\\xbb\\xd0\\xbe</span></span></a></li><li class=\"list__item  list__item_icon news__animated-item\" ><a class=\"home-link list__item-content list__item-content_with-icon home-link_black_yes\" aria-label=\"\\xd0\\x9f\\xd1\\x83\\xd1\\x88\\xd0\\xba\\xd0\\xbe\\xd0\\xb2 \\xd0\\xbe\\xd1\\x82\\xd0\\xb2\\xd0\\xb5\\xd1\\x82\\xd0\\xb8\\xd0\\xbb \\xd0\\xbd\\xd0\\xb0 \\xd0\\xbe\\xd1\\x82\\xd0\\xba\\xd0\\xb0\\xd0\\xb7 \\xd0\\x9d\\xd0\\x90\\xd0\\xa2\\xd0\\x9e \\xd0\\xbe\\xd1\\x82 \\xd0\\xbf\\xd1\\x80\\xd0\\xb5\\xd0\\xb4\\xd0\\xbb\\xd0\\xbe\\xd0\\xb6\\xd0\\xb5\\xd0\\xbd\\xd0\\xb8\\xd1\\x8f \\xd0\\xa0\\xd0\\xa4 \\xd0\\xbe \\xd0\\xbc\\xd0\\xbe\\xd1\\x80\\xd0\\xb0\\xd1\\x82\\xd0\\xbe\\xd1\\x80\\xd0\\xb8\\xd0\\xb8 \\xd0\\xbd\\xd0\\xb0 \\xd0\\xa0\\xd0\\xa1\\xd0\\x9c\\xd0\\x94\" target=\"_blank\" href=\"https://yandex.ru/news/story/Pushkov_otvetil_na_otkaz_NATO_ot_predlozheniya_RF_o_moratorii_na_RSMD--94fdb8c5fc2bdb628c8516afcbd3e35e?lang=ru&from=main_portal&stid=K3WrM0cELWrozMAbzAGp&t=1569492480&lr=10393&msid=1569493369.47416.139808.274790&mlid=1569492480.glob_225.94fdb8c5\" rel=\"noopener\"><span class=\"news__item-inner\"><div class=\"news__agency-icon news__agency-icon_desktop news__agency-icon_image_yes\"><object class=\"news__agency-icon-image\" title=\"\\xd0\\x93\\xd0\\xb0\\xd0\\xb7\\xd0\\xb5\\xd1\\x82\\xd0\\xb0.Ru\" data=\"https://avatars.mds.yandex.net/get-ynews-logo/135513/1040-1478692902361-square/logo-square\" type=\"image/png\"><div class=\"news__agency-icon-image-empty\"></div></object></div><span class=\"news__item-content\">\\xd0\\x9f\\xd1\\x83\\xd1\\x88\\xd0\\xba\\xd0\\xbe\\xd0\\xb2 \\xd0\\xbe\\xd1\\x82\\xd0\\xb2\\xd0\\xb5\\xd1\\x82\\xd0\\xb8\\xd0\\xbb \\xd0\\xbd\\xd0\\xb0 \\xd0\\xbe\\xd1\\x82\\xd0\\xba\\xd0\\xb0\\xd0\\xb7 \\xd0\\x9d\\xd0\\x90\\xd0\\xa2\\xd0\\x9e \\xd0\\xbe\\xd1\\x82 \\xd0\\xbf\\xd1\\x80\\xd0\\xb5\\xd0\\xb4\\xd0\\xbb\\xd0\\xbe\\xd0\\xb6\\xd0\\xb5\\xd0\\xbd\\xd0\\xb8\\xd1\\x8f \\xd0\\xa0\\xd0\\xa4 \\xd0\\xbe \\xd0\\xbc\\xd0\\xbe\\xd1\\x80\\xd0\\xb0\\xd1\\x82\\xd0\\xbe\\xd1\\x80\\xd0\\xb8\\xd0\\xb8 \\xd0\\xbd\\xd0\\xb0 \\xd0\\xa0\\xd0\\xa1\\xd0\\x9c\\xd0\\x94</span></span></a></li><li class=\"list__item  list__item_icon news__animated-item\" ><a class=\"home-link list__item-content list__item-content_with-icon home-link_black_yes\" aria-label=\"\\xd0\\xa1\\xd0\\xb2\\xd1\\x8f\\xd1\\x89\\xd0\\xb5\\xd0\\xbd\\xd0\\xbd\\xd0\\xb8\\xd0\\xba\\xd0\\xb0 \\xd0\\x9d\\xd0\\xb8\\xd0\\xba\\xd0\\xbe\\xd0\\xbb\\xd0\\xb0\\xd1\\x8f \\xd0\\xa1\\xd1\\x82\\xd1\\x80\\xd0\\xb5\\xd0\\xbc\\xd1\\x81\\xd0\\xba\\xd0\\xbe\\xd0\\xb3\\xd0\\xbe \\xd0\\xbe\\xd0\\xb1\\xd0\\xb2\\xd0\\xb8\\xd0\\xbd\\xd0\\xb8\\xd0\\xbb\\xd0\\xb8 \\xd0\\xb2 \\xd0\\xb8\\xd0\\xb7\\xd0\\xbd\\xd0\\xb0\\xd1\\x81\\xd0\\xb8\\xd0\\xbb\\xd0\\xbe\\xd0\\xb2\\xd0\\xb0\\xd0\\xbd\\xd0\\xb8\\xd0\\xb8 \\xd0\\xb4\\xd0\\xb5\\xd1\\x82\\xd0\\xb5\\xd0\\xb9\" target=\"_blank\" href=\"https://yandex.ru/news/story/Svyashhennika_Nikolaya_Stremskogo_obvinili_v_iznasilovanii_detej--fbfc107429ae6979d2828ac0f13cea75?lang=ru&from=main_portal&stid=EOSoQcohJYTwrjx4s0yK&t=1569492480&lr=10393&msid=1569493369.47416.139808.274790&mlid=1569492480.glob_225.fbfc1074\" rel=\"noopener\"><span class=\"news__item-inner\"><div class=\"news__agency-icon news__agency-icon_desktop news__agency-icon_image_yes\"><object class=\"news__agency-icon-image\" title=\"\\xd0\\xa2\\xd0\\x90\\xd0\\xa1\\xd0\\xa1\" data=\"https://avatars.mds.yandex.net/get-ynews-logo/50744/1551-1563808847385-square/logo-square\" type=\"image/png\"><div class=\"news__agency-icon-image-empty\"></div></object></div><span class=\"news__item-content\">\\xd0\\xa1\\xd0\\xb2\\xd1\\x8f\\xd1\\x89\\xd0\\xb5\\xd0\\xbd\\xd0\\xbd\\xd0\\xb8\\xd0\\xba\\xd0\\xb0 \\xd0\\x9d\\xd0\\xb8\\xd0\\xba\\xd0\\xbe\\xd0\\xbb\\xd0\\xb0\\xd1\\x8f \\xd0\\xa1\\xd1\\x82\\xd1\\x80\\xd0\\xb5\\xd0\\xbc\\xd1\\x81\\xd0\\xba\\xd0\\xbe\\xd0\\xb3\\xd0\\xbe \\xd0\\xbe\\xd0\\xb1\\xd0\\xb2\\xd0\\xb8\\xd0\\xbd\\xd0\\xb8\\xd0\\xbb\\xd0\\xb8 \\xd0\\xb2 \\xd0\\xb8\\xd0\\xb7\\xd0\\xbd\\xd0\\xb0\\xd1\\x81\\xd0\\xb8\\xd0\\xbb\\xd0\\xbe\\xd0\\xb2\\xd0\\xb0\\xd0\\xbd\\xd0\\xb8\\xd0\\xb8 \\xd0\\xb4\\xd0\\xb5\\xd1\\x82\\xd0\\xb5\\xd0\\xb9</span></span></a></li><li class=\"list__item  list__item_icon news__animated-item\" ><a class=\"home-link list__item-content list__item-content_with-icon home-link_black_yes\" aria-label=\"\\xd0\\xa1\\xd1\\x83\\xd0\\xb4 \\xd0\\xbf\\xd0\\xbe \\xd0\\xb4\\xd0\\xb5\\xd0\\xbb\\xd1\\x83 \\xd0\\xa3\\xd1\\x81\\xd1\\x82\\xd0\\xb8\\xd0\\xbd\\xd0\\xbe\\xd0\\xb2\\xd0\\xb0 \\xd0\\xbf\\xd0\\xb5\\xd1\\x80\\xd0\\xb5\\xd0\\xbd\\xd0\\xb5\\xd1\\x81\\xd0\\xbb\\xd0\\xb8 \\xd0\\xbd\\xd0\\xb0 30 \\xd1\\x81\\xd0\\xb5\\xd0\\xbd\\xd1\\x82\\xd1\\x8f\\xd0\\xb1\\xd1\\x80\\xd1\\x8f\" target=\"_blank\" href=\"https://yandex.ru/news/story/Sud_po_delu_Ustinova_perenesli_na_30_sentyabrya--13efb04e9dc0179da2910ffdf9d2745a?lang=ru&from=main_portal&stid=oAI5Js5yJr9qjOej_aQg&t=1569492480&lr=10393&msid=1569493369.47416.139808.274790&mlid=1569492480.glob_225.13efb04e\" rel=\"noopener\"><span class=\"news__item-inner\"><div class=\"news__agency-icon news__agency-icon_desktop news__agency-icon_image_yes\"><object class=\"news__agency-icon-image\" title=\"\\xd0\\x9a\\xd0\\xbe\\xd0\\xbc\\xd0\\xbc\\xd0\\xb5\\xd1\\x80\\xd1\\x81\\xd0\\xb0\\xd0\\xbd\\xd1\\x82\\xd1\\x8a\" data=\"https://avatars.mds.yandex.net/get-ynews-logo/26056/1048-1478692902313-square/logo-square\" type=\"image/png\"><div class=\"news__agency-icon-image-empty\"></div></object></div><span class=\"news__item-content\">\\xd0\\xa1\\xd1\\x83\\xd0\\xb4 \\xd0\\xbf\\xd0\\xbe \\xd0\\xb4\\xd0\\xb5\\xd0\\xbb\\xd1\\x83 \\xd0\\xa3\\xd1\\x81\\xd1\\x82\\xd0\\xb8\\xd0\\xbd\\xd0\\xbe\\xd0\\xb2\\xd0\\xb0 \\xd0\\xbf\\xd0\\xb5\\xd1\\x80\\xd0\\xb5\\xd0\\xbd\\xd0\\xb5\\xd1\\x81\\xd0\\xbb\\xd0\\xb8 \\xd0\\xbd\\xd0\\xb0 30 \\xd1\\x81\\xd0\\xb5\\xd0\\xbd\\xd1\\x82\\xd1\\x8f\\xd0\\xb1\\xd1\\x80\\xd1\\x8f</span></span></a></li><span aria-hidden=\"true\">&nbsp;</span></ol></div></div></div><div class=\"widget__collapsed news__collapsed\"><h1><a class=\"home-link home-link_blue_yes\" href=\"https://news.yandex.ru/?lang=ru&msid=1569493369.47416.139808.274790&mlid=1569492480\">\\xd0\\xa1\\xd0\\xb5\\xd0\\xb9\\xd1\\x87\\xd0\\xb0\\xd1\\x81 \\xd0\\xb2 \\xd0\\xa1\\xd0\\x9c\\xd0\\x98</a></h1><div class=\"widget__collapsed-text\">\\xd0\\x90\\xd0\\xba\\xd1\\x82\\xd1\\x83\\xd0\\xb0\\xd0\\xbb\\xd1\\x8c\\xd0\\xbd\\xd1\\x8b\\xd0\\xb5 \\xd0\\xbd\\xd0\\xbe\\xd0\\xb2\\xd0\\xbe\\xd1\\x81\\xd1\\x82\\xd0\\xb8 \\xd0\\xb8 \\xd1\\x81\\xd0\\xbe\\xd0\\xb1\\xd1\\x8b\\xd1\\x82\\xd0\\xb8\\xd1\\x8f \\xd0\\xb4\\xd0\\xbd\\xd1\\x8f</div></div><div class=\"inline-stocks i-bem inline-stocks_new_yes\"  aria-label=\"\\xd0\\x9a\\xd0\\xbe\\xd1\\x82\\xd0\\xb8\\xd1\\x80\\xd0\\xbe\\xd0\\xb2\\xd0\\xba\\xd0\\xb8\" role=\"complementary\" data-bem=\"{&quot;inline-stocks&quot;:{&quot;stocksUrl&quot;:&quot;/data/combined/?w=_stocks-1&amp;bll=stocks&amp;sens=1&quot;,&quot;editShow&quot;:1}}\"><div class=\"inline-stocks__content text_black_yes\"><style>.inline-stocks__nscale {display: none}</style><div class=\"b-inline inline-stocks__item inline-stocks__item_id_2002 hint__item inline-stocks__part\"><a class=\"home-link home-link_black_yes inline-stocks__link\" href=\"https://news.yandex.ru/quotes/2002.html\">USD\\xc2\\xa0MOEX</a><span class=\"inline-stocks__value\"><span class=\"inline-stocks__text\"><span class=\"inline-stocks__item__baloon b-inline\"><i class=\"inline-stocks__item__baloon__tail\"></i><span class=\"inline-stocks__item__baloon_inner\">\\xd0\\xba\\xd1\\x83\\xd1\\x80\\xd1\\x81 MOEX \\xd0\\xbd\\xd0\\xb0 26/09 13:03 \\xd0\\xbc\\xd1\\x81\\xd0\\xba</span></span></span><span class=\"inline-stocks__value_inner\">64,35</span></span><span class=\"inline-stocks__cell inline-stocks__cell_type_delta  inline-stocks__cell_change_small\" aria-hidden=\"true\">+0,21</span><div class=\"a11y-hidden inline-stocks__cell_type_delta-label\">+0,21</div></div><div class=\"b-inline inline-stocks__item inline-stocks__item_id_2000 hint__item inline-stocks__part\"><a class=\"home-link home-link_black_yes inline-stocks__link\" href=\"https://news.yandex.ru/quotes/2000.html\">EUR\\xc2\\xa0MOEX</a><span class=\"inline-stocks__value\"><span class=\"inline-stocks__text\"><span class=\"inline-stocks__item__baloon b-inline\"><i class=\"inline-stocks__item__baloon__tail\"></i><span class=\"inline-stocks__item__baloon_inner\">\\xd0\\xba\\xd1\\x83\\xd1\\x80\\xd1\\x81 MOEX \\xd0\\xbd\\xd0\\xb0 26/09 13:03 \\xd0\\xbc\\xd1\\x81\\xd0\\xba</span></span></span><span class=\"inline-stocks__value_inner\">70,34</span></span><span class=\"inline-stocks__cell inline-stocks__cell_type_delta  inline-stocks__cell_change_small\" aria-hidden=\"true\">+0,12</span><div class=\"a11y-hidden inline-stocks__cell_type_delta-label\">+0,12</div></div><div class=\"b-inline inline-stocks__nowrap inline-stocks__part\"><div class=\"b-inline inline-stocks__item inline-stocks__item_id_1006 hint__item\"><a class=\"home-link home-link_black_yes inline-stocks__link\" href=\"https://news.yandex.ru/quotes/1006.html\">\\xd0\\x9d\\xd0\\xb5\\xd1\\x84\\xd1\\x82\\xd1\\x8c</a><span class=\"inline-stocks__value\"><span class=\"inline-stocks__text\"><span class=\"inline-stocks__item__baloon b-inline\"><i class=\"inline-stocks__item__baloon__tail\"></i><span class=\"inline-stocks__item__baloon_inner\">\\xd1\\x86\\xd0\\xb5\\xd0\\xbd\\xd0\\xb0 \\xd0\\xbd\\xd0\\xb0 26/09 13:04</span></span></span><span class=\"inline-stocks__value_inner\">61,54</span></span><span class=\"inline-stocks__cell inline-stocks__cell_type_delta  inline-stocks__cell_change_small\" aria-hidden=\"true\">\\xe2\\x88\\x921,39<span class=\"inline-stocks__cell_type_delta-prc\">%</span></span><div class=\"a11y-hidden inline-stocks__cell_type_delta-label\">-1,39%</div></div><span class=\"link inline-stocks__more link_pseudo_yes\"title=\"\\xd0\\xb5\\xd1\\x89\\xd1\\x91\" tabindex=\"0\" aria-haspopup=\"true\" aria-expanded=\"false\" role=\"button\"><img aria-hidden=\"true\" class=\"b-icon inline-stocks__more-icon\" src=\"//yastatic.net/lego/_/La6qi18Z8LwgnZdsAr1qy1GwCwo.gif\"/><span class=\"link__inner\"></span></span></div><div class=\"inline-stocks__popup\"><h1 class=\"inline-stocks__title\">\\xd0\\x9a\\xd0\\xbe\\xd1\\x82\\xd0\\xb8\\xd1\\x80\\xd0\\xbe\\xd0\\xb2\\xd0\\xba\\xd0\\xb8</h1><div class=\"inline-stocks__tables\"></div><div class=\"inline-stocks__error\">\\xd0\\x94\\xd0\\xb0\\xd0\\xbd\\xd0\\xbd\\xd1\\x8b\\xd0\\xb5 \\xd0\\xbd\\xd0\\xb5\\xd0\\xb4\\xd0\\xbe\\xd1\\x81\\xd1\\x82\\xd1\\x83\\xd0\\xbf\\xd0\\xbd\\xd1\\x8b</div><div class=\"inline-stocks__loader\"><div class=\"spin2 spin2_view_default spin2_tone_default spin2_size_l spin2_progress_yes\"></div></div></div></div></div></div></div></div></div><div class=\"col col_td_1 widgets__col widgets__col_td_2\"><div class=\"i-bem widget widget_mode_plain widget_id_teaser widget_name_teaser widgets__item b-widget-fixed\" data-bem=\"{&quot;widget&quot;:{&quot;id&quot;:&quot;_teaser&quot;,&quot;showPrefs&quot;:true}}\" id=\"wd-wrapper-_teaser\"><div id=\"wd-_teaser\" class=\"b-widget-data b-wrapper b-wrapper-\"><div class=\"teaser teaser_source_yabs i-bem\" role=\"complementary\" aria-label=\"\\xd0\\xa0\\xd0\\xb5\\xd0\\xba\\xd0\\xbb\\xd0\\xb0\\xd0\\xbc\\xd0\\xb0\" data-bem=\"{&quot;teaser&quot;:{}}\"><div class=\"teaser__content\"><a class=\"home-link teaser__link\" target=\"_blank\" rel=\"noopener\" tabindex=\"-1\" href=\"https://yabs.yandex.ru/count/GWVxty8OQr4509W1488GCNcHZ5q00000EDgD5404I1PWl19mnlkJXmwG0RZinTWjc06uxCNOBRW1nlkJXmx00GBO0Tg_pmhe0QW2y0A-meRx0x031F050Q06p06e1im1oGPvMRFaSF4wBj46UUteMt7nEYxP1W00053E0000gGUDZioBX-TcJh07W82OBD070lW70O080T08W8Y0WO20W8200O0A0S4A00000000y3_O2WBW2e29UgeB46AXkzQDZW00IsB49dAJ1G302u2Z1SWBWDIJ0TaBZOxCYuVdPaxm2mNe31lW3GA93W0000000F0_a0x0X3sO3lcopQMEhhoTBg0Em8Gzi0u1eGy00000003mFzaF00000000y3_W3m604EtVfmMG49QyykNcyO3LTiWG2FWG4e0H48WH0P0H0wWHm8Gz-X4P3G00000L000001q000009G00000j000008WI0P0I0UaIPz8taFHZGl_m4XA84mMG4sIO4m704____________m7Q4me80100600W02W0\"><img class=\"image teaser__image\" srcset=\"https://avatars.mds.yandex.net/get-banana/64225/x25G_Jg8R53qYZ50bElMrXP9_banana_20161021_everesthd.png/optimize 1.25x\" src=\"https://avatars.mds.yandex.net/get-banana/26007/x25DUTxAJH18RH03uFv5lRC18_banana_20161021_everest.png/optimize\" alt=\"\\xd0\\xaf\\xd0\\xbd\\xd0\\xb4\\xd0\\xb5\\xd0\\xba\\xd1\\x81.\\xd0\\x9f\\xd0\\xb0\\xd0\\xbd\\xd0\\xbe\\xd1\\x80\\xd0\\xb0\\xd0\\xbc\\xd1\\x8b\" width=\"120\" height=\"90\"/></a><h1 class=\"teaser__title\"><a class=\"home-link home-link_blue_yes teaser__link\" target=\"_blank\" rel=\"noopener\" href=\"https://yabs.yandex.ru/count/GWVxty8OQr4509W1488GCNcHZ5q00000EDgD5404I1PWl19mnlkJXmwG0RZinTWjc06uxCNOBRW1nlkJXmx00GBO0Tg_pmhe0QW2y0A-meRx0x031F050Q06p06e1im1oGPvMRFaSF4wBj46UUteMt7nEYxP1W00053E0000gGUDZioBX-TcJh07W82OBD070lW70O080T08W8Y0WO20W8200O0A0S4A00000000y3_O2WBW2e29UgeB46AXkzQDZW00IsB49dAJ1G302u2Z1SWBWDIJ0TaBZOxCYuVdPaxm2mNe31lW3GA93W0000000F0_a0x0X3sO3lcopQMEhhoTBg0Em8Gzi0u1eGy00000003mFzaF00000000y3_W3m604EtVfmMG49QyykNcyO3LTiWG2FWG4e0H48WH0P0H0wWHm8Gz-X4P3G00000L000001q000009G00000j000008WI0P0I0UaIPz8taFHZGl_m4XA84mMG4sIO4m704____________m7Q4me80100600W02W0\"><span class=\"teaser__nowrap\">\\xd0\\x92\\xd0\\xbe\\xd1\\x81\\xd1\\x85\\xd0\\xbe\\xd0\\xb6\\xd0\\xb4\\xd0\\xb5\\xd0\\xbd\\xd0\\xb8\\xd0\\xb5</span><br><span class=\"teaser__nowrap\">\\xd0\\xbd\\xd0\\xb0 \\xd0\\xad\\xd0\\xb2\\xd0\\xb5\\xd1\\x80\\xd0\\xb5\\xd1\\x81\\xd1\\x82</span></a></h1><div class=\"teaser__description\"><span class=\"teaser__nowrap\">\\xd0\\xa1 \\xd0\\xbf\\xd0\\xb0\\xd0\\xbd\\xd0\\xbe\\xd1\\x80\\xd0\\xb0\\xd0\\xbc\\xd0\\xb0\\xd0\\xbc\\xd0\\xb8 \\xd0\\xaf\\xd0\\xbd\\xd0\\xb4\\xd0\\xb5\\xd0\\xba\\xd1\\x81\\xd0\\xb0</span></div></div></div></div></div></div><div class=\"col gap\"> </div></div></div><div class=\"container container__search container__line\"><div class=\"row second text_black_yes\"><div class=\"col col_home-logo\"><div class=\"home-logo\"><a class=\"home-link home-logo__link\" href=\"https://yandex.ru/\"><div class=\"home-logo__default\" role=\"img\" aria-label=\"\\xd0\\xaf\\xd0\\xbd\\xd0\\xb4\\xd0\\xb5\\xd0\\xba\\xd1\\x81\"></div></a></div></div><div class=\"col col_home-arrow\"><div class=\"home-arrow i-bem\" data-bem=\"{&quot;home-arrow&quot;:{}}\"><div class=\"home-arrow__tabs \"><div class=\"home-tabs stream-control dropdown2 dropdown2_switcher_elem i-bem\" role=\"navigation\" data-bem=\"{&quot;home-tabs&quot;:{&quot;href&quot;:{&quot;video&quot;:&quot;//yandex.ru/video&quot;,&quot;images&quot;:&quot;//yandex.ru/images/&quot;,&quot;news&quot;:&quot;https://news.yandex.ru/&quot;,&quot;maps&quot;:&quot;https://yandex.ru/maps&quot;,&quot;market&quot;:&quot;https://market.yandex.ru/?clid=505&amp;utm_source=face_abovesearch&amp;utm_campaign=face_abovesearch&quot;,&quot;translate&quot;:&quot;https://translate.yandex.ru/&quot;,&quot;pogoda&quot;:&quot;https://yandex.ru/pogoda&quot;,&quot;traffic&quot;:&quot;https://yandex.ru/maps/probki&quot;,&quot;rabota&quot;:&quot;https://rabota.yandex.ru/&quot;},&quot;search&quot;:{&quot;video&quot;:&quot;//yandex.ru/video/search?text=%s&quot;,&quot;images&quot;:&quot;//yandex.ru/images/search?text=%s&quot;,&quot;news&quot;:&quot;https://news.yandex.ru/yandsearch?grhow=clutop&amp;rpt=nnews2&amp;text=%s&quot;,&quot;maps&quot;:&quot;https://yandex.ru/maps/?source=morda&amp;text=%s&quot;,&quot;market&quot;:&quot;https://market.yandex.ru/search.xml?clid=527&amp;cvredirect=2&amp;text=%s&quot;,&quot;translate&quot;:&quot;https://translate.yandex.ru/?text=%s&quot;,&quot;pogoda&quot;:&quot;https://yandex.ru/pogoda/search?request=%s&quot;,&quot;traffic&quot;:&quot;https://yandex.ru/maps?text=%s&quot;,&quot;rabota&quot;:&quot;https://rabota.yandex.ru/search.xml/?text=%s&quot;}},&quot;stream-control&quot;:{},&quot;dropdown2&quot;:{}}\"><a class=\"home-link home-link_blue_yes home-tabs__link home-tabs__search\" data-id=\"video\" href=\"//yandex.ru/video\" target=\"_blank\" rel=\"noopener\">\\xd0\\x92\\xd0\\xb8\\xd0\\xb4\\xd0\\xb5\\xd0\\xbe</a><a class=\"home-link home-link_blue_yes home-tabs__link home-tabs__search\" data-id=\"images\" href=\"//yandex.ru/images/\">\\xd0\\x9a\\xd0\\xb0\\xd1\\x80\\xd1\\x82\\xd0\\xb8\\xd0\\xbd\\xd0\\xba\\xd0\\xb8</a><a class=\"home-link home-link_blue_yes home-tabs__link home-tabs__search\" data-id=\"news\" href=\"https://news.yandex.ru/\">\\xd0\\x9d\\xd0\\xbe\\xd0\\xb2\\xd0\\xbe\\xd1\\x81\\xd1\\x82\\xd0\\xb8</a><a class=\"home-link home-link_blue_yes home-tabs__link home-tabs__search\" data-id=\"maps\" href=\"https://yandex.ru/maps\">\\xd0\\x9a\\xd0\\xb0\\xd1\\x80\\xd1\\x82\\xd1\\x8b</a><a class=\"home-link home-link_blue_yes home-tabs__link home-tabs__search\" data-id=\"market\" href=\"https://market.yandex.ru/?clid=505&utm_source=face_abovesearch&utm_campaign=face_abovesearch\">\\xd0\\x9c\\xd0\\xb0\\xd1\\x80\\xd0\\xba\\xd0\\xb5\\xd1\\x82</a><a class=\"home-link home-link_blue_yes home-tabs__link home-tabs__search\" data-id=\"translate\" href=\"https://translate.yandex.ru/\">\\xd0\\x9f\\xd0\\xb5\\xd1\\x80\\xd0\\xb5\\xd0\\xb2\\xd0\\xbe\\xd0\\xb4\\xd1\\x87\\xd0\\xb8\\xd0\\xba</a><a class=\"home-link home-link_blue_yes home-tabs__link home-tabs__more-switcher dropdown2__switcher\" aria-expanded=\"false\" aria-haspopup=\"true\" href=\"https://yandex.ru/all\">\\xd0\\xb5\\xd1\\x89\\xd1\\x91</a></div></div><div class=\"home-arrow__search-wrapper\"><div class=\"home-arrow__search\"><form class=\"search2 suggest2-form suggest2-form__node suggest2-counter i-bem suggest2-form_stats_yes\" action=\"https://yandex.ru/search/\" role=\"search\" aria-label=\"\\xd0\\x9f\\xd0\\xbe\\xd0\\xb8\\xd1\\x81\\xd0\\xba \\xd0\\xb2 \\xd0\\xb8\\xd0\\xbd\\xd1\\x82\\xd0\\xb5\\xd1\\x80\\xd0\\xbd\\xd0\\xb5\\xd1\\x82\\xd0\\xb5\" data-bem=\"{&quot;suggest2-form&quot;:{},&quot;suggest2-counter&quot;:{&quot;service&quot;:&quot;morda_ru_desktop&quot;,&quot;host&quot;:&quot;//yandex.ru/clck&quot;,&quot;path&quot;:&quot;jclck&quot;,&quot;submitBySelect&quot;:true,&quot;preventSubmit&quot;:true,&quot;suggestReqID&quot;:true,&quot;params&quot;:{&quot;dtype&quot;:&quot;stred&quot;,&quot;pid&quot;:&quot;0&quot;,&quot;cid&quot;:&quot;2873&quot;,&quot;lr&quot;:&quot;10393&quot;}},&quot;search2&quot;:{&quot;cleanOnSubmit&quot;:false,&quot;nl&quot;:true,&quot;serpArg&quot;:&quot;all&quot;}}\" ><input type=\"hidden\" name=\"lr\" value=\"10393\"/><input type=\"hidden\" name=\"msid\" value=\"1569493369.47416.139808.274790\"/><div class=\"search2__input\"><span class=\"input suggest2-form__input input_size_ws-head input_theme_websearch input_search2-clear-hide_yes input_ahead_yes input_autofocus_capture input_keyboard_yes input_clear_yes i-bem\" data-bem=\"{&quot;input&quot;:{&quot;live&quot;:false,&quot;autoFocus&quot;:&quot;&quot;}}\"><span class=\"input__box\"><span class=\"input__clear\" unselectable=\"on\">&nbsp;</span><div class=\"keyboard-loader input__keyboard-button i-bem b-opacity b-opacity-hold-ie keyboard-loader_lang_ru\" data-bem=\"{&quot;keyboard-loader&quot;:{&quot;name&quot;:&quot;keyboard-loader&quot;}}\"><i class=\"b-ico keyboard-loader__icon b-ico-kbd\"></i></div><input class=\"input__control input__input\" tabindex=\"2\" autocomplete=\"off\" autocorrect=\"off\" autocapitalize=\"off\" spellcheck=\"false\" aria-autocomplete=\"list\" aria-label=\"\\xd0\\x97\\xd0\\xb0\\xd0\\xbf\\xd1\\x80\\xd0\\xbe\\xd1\\x81\" id=\"text\" maxlength=\"400\" autofocus name=\"text\"/></span></span></div><div class=\"search2__button\"><button class=\"button suggest2-form__button button_theme_websearch button_size_ws-head i-bem\" data-bem=\"{&quot;button&quot;:{}}\" tabindex=\"-1\" role=\"button\" type=\"submit\"><span class=\"button__text\">\\xd0\\x9d\\xd0\\xb0\\xd0\\xb9\\xd1\\x82\\xd0\\xb8</span></button></div><div class=\"i-bem popup suggest2 suggest2-history suggest2_theme_flat suggest2_size_m suggest2_adaptive_yes suggest2_type_advanced suggest2_ahead_yes suggest2_history_yes suggest2_rich_yes popup_adaptive_yes popup_animate_no popup_autoclosable_yes popup_no-return-focus_yes popup_theme_ffffff\" data-bem=\"{&quot;popup&quot;:{&quot;directions&quot;:&quot;bottom-left&quot;},&quot;suggest2&quot;:{&quot;url&quot;:&quot;//yandex.ru/suggest/suggest-ya.cgi?srv=morda_ru_desktop&amp;wiz=TrWth&amp;uil=ru&amp;fact=1&amp;v=4&amp;icon=1&amp;lr=10393&amp;hl=1&amp;bemjson=1&amp;history=1&amp;html=1&amp;platform=desktop&amp;rich_nav=1&amp;show_experiment=222&amp;show_experiment=224&amp;verified_nav=1&amp;rich_phone=1&amp;safeclick=1&amp;skip_clickdaemon_host=1&amp;yu=3331240341569493369&quot;,&quot;onFocus&quot;:&quot;show&quot;,&quot;aheadFromServer&quot;:true,&quot;submitBySelect&quot;:true,&quot;requestOnEmptyInput&quot;:true,&quot;deleteHistoryUrl&quot;:&quot;//yandex.ru/suggest-delete-text?srv=morda_ru_desktop&amp;text_to_delete=&quot;,&quot;providerMods&quot;:{&quot;history&quot;:&quot;yes&quot;},&quot;viewMods&quot;:{&quot;rich&quot;:&quot;yes&quot;},&quot;crossDomain&quot;:true,&quot;flow&quot;:&quot;&quot;,&quot;swytExp&quot;:false},&quot;suggest2-detect&quot;:{},&quot;suggest2-history&quot;:{&quot;other&quot;:[],&quot;running&quot;:[]}}\"><div class=\"popup__under\"></div><div class=\"popup__content\"> </div></div></form></div></div><div class=\"home-arrow__bottom\"><div class=\"home-arrow__sample\">\\xd0\\x9d\\xd0\\xb0\\xd0\\xb9\\xd0\\xb4\\xd1\\x91\\xd1\\x82\\xd1\\x81\\xd1\\x8f \\xd0\\xb2\\xd1\\x81\\xd1\\x91.&nbsp;<span class=\"home-arrow__sample-what\">\\xd0\\x9d\\xd0\\xb0\\xd0\\xbf\\xd1\\x80\\xd0\\xb8\\xd0\\xbc\\xd0\\xb5\\xd1\\x80,&nbsp;</span><span class=\"home-link home-link_pseudo_yes home-link_gray_yes home-arrow__sample-link\" tabindex=\"0\"><span class=\"home-arrow__sample-first-word\">\\xd0\\xbc\\xd1\\x83\\xd0\\xbb\\xd1\\x8c\\xd1\\x82\\xd0\\xb8\\xd0\\xba\\xd0\\xb8</span> \\xd0\\xbe\\xd0\\xbd\\xd0\\xbb\\xd0\\xb0\\xd0\\xb9\\xd0\\xbd</span></div></div></div></div></div></div><div class=\"container container__heap container__line heap heap_direction_column\"><div class=\"row text_black_yes heap__row widgets__row widgets__row_tr_2\"><div class=\"col text_black_yes heap__item widgets__col widgets__col_td_3\"><div class=\"i-bem widget widget_mode_plain widget_id_weather widget_name_weather widgets__item b-widget-fixed\" data-bem=\"{&quot;widget&quot;:{&quot;id&quot;:&quot;_weather&quot;,&quot;showPrefs&quot;:true}}\" id=\"wd-wrapper-_weather\"><div id=\"wd-_weather\" class=\"b-widget-data b-wrapper b-wrapper-\"><div class=\"weather\" role=\"complementary\" aria-label=\"\\xd0\\x9f\\xd0\\xbe\\xd0\\xb3\\xd0\\xbe\\xd0\\xb4\\xd0\\xb0\"><h1><a class=\"home-link home-link_blue_yes\" href=\"https://yandex.ru/pogoda/london\">\\xd0\\x9f\\xd0\\xbe\\xd0\\xb3\\xd0\\xbe\\xd0\\xb4\\xd0\\xb0</a></h1><div class=\"widget__content weather__content-outer\"><div class=\"weather__content\"><a class=\"home-link home-link_black_yes weather__grade\" aria-label=\"+17 \\xc2\\xb0C, \\xd0\\xbf\\xd0\\xb0\\xd1\\x81\\xd0\\xbc\\xd1\\x83\\xd1\\x80\\xd0\\xbd\\xd0\\xbe\" href=\"https://yandex.ru/pogoda/london\"><div class=\"weather__icon weather__icon_ovc\" title=\"\\xd0\\xbf\\xd0\\xb0\\xd1\\x81\\xd0\\xbc\\xd1\\x83\\xd1\\x80\\xd0\\xbd\\xd0\\xbe\"></div><div class=\"weather__temp\">+17\\xc2\\xb0</div></a><div class=\"weather__forecast\"><a class=\"home-link home-link_black_yes\" aria-label=\"\\xd0\\xb4\\xd0\\xbd\\xd1\\x91\\xd0\\xbc +18 \\xc2\\xb0C\" href=\"https://yandex.ru/pogoda/london\">\\xd0\\x94\\xd0\\xbd\\xd1\\x91\\xd0\\xbc&#160;+18</a>,<br><a class=\"home-link home-link_black_yes\" aria-label=\"\\xd0\\xb2\\xd0\\xb5\\xd1\\x87\\xd0\\xb5\\xd1\\x80\\xd0\\xbe\\xd0\\xbc +16 \\xc2\\xb0C\" href=\"https://yandex.ru/pogoda/london\">\\xd0\\xb2\\xd0\\xb5\\xd1\\x87\\xd0\\xb5\\xd1\\x80\\xd0\\xbe\\xd0\\xbc&#160;+16</a></div></div></div><div class=\"widget__collapsed-text widget__collapsed\">\\xd0\\x9f\\xd1\\x80\\xd0\\xbe\\xd0\\xb3\\xd0\\xbd\\xd0\\xbe\\xd0\\xb7 \\xd0\\xbf\\xd0\\xbe\\xd0\\xb3\\xd0\\xbe\\xd0\\xb4\\xd1\\x8b \\xd1\\x80\\xd1\\x8f\\xd0\\xb4\\xd0\\xbe\\xd0\\xbc \\xd1\\x81 \\xd0\\xb2\\xd0\\xb0\\xd0\\xbc\\xd0\\xb8</div></div></div></div><div class=\"i-bem widget widget_mode_plain widget_id_services widget_name_services widgets__item b-widget-fixed\" data-bem=\"{&quot;widget&quot;:{&quot;id&quot;:&quot;_services&quot;,&quot;showPrefs&quot;:true}}\" id=\"wd-wrapper-_services\"><div id=\"wd-_services\" class=\"b-widget-data b-wrapper b-wrapper-\"><div class=\"services\" aria-label=\"\\xd0\\x9f\\xd0\\xbe\\xd1\\x81\\xd0\\xb5\\xd1\\x89\\xd0\\xb0\\xd0\\xb5\\xd0\\xbc\\xd0\\xbe\\xd0\\xb5\" role=\"complementary\"><h1><a class=\"home-link home-link_blue_yes\" href=\"https://yandex.ru/all\">\\xd0\\x9f\\xd0\\xbe\\xd1\\x81\\xd0\\xb5\\xd1\\x89\\xd0\\xb0\\xd0\\xb5\\xd0\\xbc\\xd0\\xbe\\xd0\\xb5</a></h1><div class=\"widget__content\"><ul class=\"list\"><li class=\"list__item\" ><a class=\"home-link home-link_bold_yes home-link_black_yes\" href=\"https://auto.ru/?from=morda&utm_source=yandex_list_service&utm_medium=cpm&utm_campaign=yls_r10000_title&utm_content=wrdprc-13401_r10000&utm_term=avtomobili-do-900-000_wrdprc-13401\">\\xd0\\x90\\xd0\\xb2\\xd1\\x82\\xd0\\xbe.\\xd1\\x80\\xd1\\x83</a><span aria-hidden=\"true\">&nbsp;\\xe2\\x80\\x94&nbsp;</span><a class=\"home-link home-link_black_yes\" href=\"https://auto.ru/cars/all/?price_to=900000&from=morda&utm_source=yandex_list_service&utm_medium=cpm&utm_campaign=yls_r10000_subtitle&utm_content=wrdprc-13401_r10000&utm_term=avtomobili-do-900-000_wrdprc-13401\">\\xd0\\xb0\\xd0\\xb2\\xd1\\x82\\xd0\\xbe\\xd0\\xbc\\xd0\\xbe\\xd0\\xb1\\xd0\\xb8\\xd0\\xbb\\xd0\\xb8 \\xd0\\xb4\\xd0\\xbe&nbsp;900&nbsp;000</a></li><li class=\"list__item\" ><a class=\"home-link home-link_bold_yes home-link_black_yes\" href=\"https://travel.yandex.ru/?utm_source=yamain&utm_medium=service-list&utm_campaign=travel&utm_content=travel_ru_ru_text2\">\\xd0\\x9f\\xd1\\x83\\xd1\\x82\\xd0\\xb5\\xd1\\x88\\xd0\\xb5\\xd1\\x81\\xd1\\x82\\xd0\\xb2\\xd0\\xb8\\xd1\\x8f</a><span aria-hidden=\"true\">&nbsp;\\xe2\\x80\\x94&nbsp;</span><a class=\"home-link home-link_black_yes\" href=\"https://travel.yandex.ru/?utm_source=yamain&utm_medium=service-list&utm_campaign=travel&utm_content=travel_ru_ru_text2\">\\xd1\\x81\\xd0\\xbe\\xd1\\x81\\xd1\\x82\\xd0\\xb0\\xd0\\xb2\\xd0\\xb8\\xd1\\x82\\xd1\\x8c \\xd0\\xbf\\xd0\\xbb\\xd0\\xb0\\xd0\\xbd \\xd0\\xbf\\xd0\\xbe\\xd0\\xb5\\xd0\\xb7\\xd0\\xb4\\xd0\\xba\\xd0\\xb8</a></li><li class=\"list__item\" ><a class=\"home-link home-link_bold_yes home-link_black_yes\" href=\"https://avia.yandex.ru/?utm_source=yamain&utm_medium=service-list&utm_campaign=avia&utm_content=avia_ru-all_ru_text6\">\\xd0\\x90\\xd0\\xb2\\xd0\\xb8\\xd0\\xb0\\xd0\\xb1\\xd0\\xb8\\xd0\\xbb\\xd0\\xb5\\xd1\\x82\\xd1\\x8b</a><span aria-hidden=\"true\">&nbsp;\\xe2\\x80\\x94&nbsp;</span><a class=\"home-link home-link_black_yes\" href=\"https://avia.yandex.ru/?utm_source=yamain&utm_medium=service-list&utm_campaign=avia&utm_content=avia_ru-all_ru_text6\">\\xd1\\x82\\xd1\\x83\\xd0\\xb4\\xd0\\xb0 \\xd0\\xb8&nbsp;\\xd0\\xbe\\xd0\\xb1\\xd1\\x80\\xd0\\xb0\\xd1\\x82\\xd0\\xbd\\xd0\\xbe</a></li></ul></div><div class=\"widget__collapsed-text widget__collapsed\">\\xd0\\x9f\\xd0\\xbe\\xd0\\xbf\\xd1\\x83\\xd0\\xbb\\xd1\\x8f\\xd1\\x80\\xd0\\xbd\\xd1\\x8b\\xd0\\xb5 \\xd1\\x81\\xd0\\xb5\\xd1\\x80\\xd0\\xb2\\xd0\\xb8\\xd1\\x81\\xd1\\x8b \\xd0\\xaf\\xd0\\xbd\\xd0\\xb4\\xd0\\xb5\\xd0\\xba\\xd1\\x81\\xd0\\xb0</div></div></div></div></div><div class=\"col text_black_yes heap__item widgets__col widgets__col_td_4\"><div class=\"i-bem widget widget_mode_plain widget_id_geo widget_name_geo widgets__item b-widget-fixed\" data-bem=\"{&quot;widget&quot;:{&quot;id&quot;:&quot;_geo&quot;,&quot;showPrefs&quot;:true}}\" id=\"wd-wrapper-_geo\"><div id=\"wd-_geo\" class=\"b-widget-data b-wrapper b-wrapper-\"><div class=\"region\" role=\"complementary\" aria-label=\"\\xd0\\x9a\\xd0\\xb0\\xd1\\x80\\xd1\\x82\\xd0\\xb0 \\xd0\\x92\\xd0\\xb5\\xd0\\xbb\\xd0\\xb8\\xd0\\xba\\xd0\\xbe\\xd0\\xb1\\xd1\\x80\\xd0\\xb8\\xd1\\x82\\xd0\\xb0\\xd0\\xbd\\xd0\\xb8\\xd0\\xb8\"><h1 class=\"region__title\"><a class=\"home-link  b-inline region__setup region__setup_icon\" title=\"\\xd0\\x98\\xd0\\xb7\\xd0\\xbc\\xd0\\xb5\\xd0\\xbd\\xd0\\xb8\\xd1\\x82\\xd1\\x8c \\xd0\\xb3\\xd0\\xbe\\xd1\\x80\\xd0\\xbe\\xd0\\xb4\" target=\"_self\" href=\"https://yandex.ru/tune/geo/?retpath=https%3A%2F%2Fyandex.ru%2F%3Fdomredir%3D1&amp;nosync=1\"><i class=\"b-ico region__icon-inner\"></i></a><a class=\"home-link home-link_blue_yes\" href=\"https://yandex.ru/maps/102/united-kingdom?source=yamain_maps\">\\xd0\\x9a\\xd0\\xb0\\xd1\\x80\\xd1\\x82\\xd0\\xb0 <span class=\"region__cityname\"><span class=\"region__cityname_text\">\\xd0\\x92\\xd0\\xb5\\xd0\\xbb\\xd0\\xb8\\xd0\\xba\\xd0\\xbe\\xd0\\xb1\\xd1\\x80\\xd0\\xb8\\xd1\\x82\\xd0\\xb0\\xd0\\xbd\\xd0\\xb8\\xd0\\xb8</span></span></a></h1><ul class=\"list widget__content region__content list_inline_yes\"><li class=\"list__item\" ><a class=\"home-link home-link_black_yes region__link\" href=\"https://rasp.yandex.ru/?utm_source=yamain&utm_medium=geoblock&utm_campaign=main\">\\xd0\\xa0\\xd0\\xb0\\xd1\\x81\\xd0\\xbf\\xd0\\xb8\\xd1\\x81\\xd0\\xb0\\xd0\\xbd\\xd0\\xb8\\xd1\\x8f</a></li></ul><div class=\"widget__collapsed-text widget__collapsed\"> \\xd0\\x9d\\xd0\\xb0\\xd0\\xb2\\xd0\\xb8\\xd0\\xb3\\xd0\\xb0\\xd1\\x86\\xd0\\xb8\\xd1\\x8f \\xd0\\xb2 \\xd0\\xb3\\xd0\\xbe\\xd1\\x80\\xd0\\xbe\\xd0\\xb4\\xd0\\xb5</div></div></div></div><div class=\"i-bem widget widget_mode_plain widget_id_tv widget_name_tv widgets__item b-widget-fixed\" data-bem=\"{&quot;widget&quot;:{&quot;id&quot;:&quot;_tv&quot;,&quot;showPrefs&quot;:true}}\" id=\"wd-wrapper-_tv\"><div id=\"wd-_tv\" class=\"b-widget-data b-wrapper b-wrapper-\"><div class=\"tv\" data-bem=\"{}\" aria-label=\"\\xd0\\xa2\\xd0\\xb5\\xd0\\xbb\\xd0\\xb5\\xd0\\xbf\\xd1\\x80\\xd0\\xbe\\xd0\\xb3\\xd1\\x80\\xd0\\xb0\\xd0\\xbc\\xd0\\xbc\\xd0\\xb0\" role=\"complementary\"><h1><a class=\"home-link home-link_blue_yes\" href=\"https://tv.yandex.ru/?utm_source=yamain&utm_medium=informer&utm_campaign=title\">\\xd0\\xa2\\xd0\\xb5\\xd0\\xbb\\xd0\\xb5\\xd0\\xbf\\xd1\\x80\\xd0\\xbe\\xd0\\xb3\\xd1\\x80\\xd0\\xb0\\xd0\\xbc\\xd0\\xbc\\xd0\\xb0</a></h1><div class=\"widget__content\"><ul class=\"list tv__list\"><li class=\"list__item tv__item\" ><span class=\"tv__time\">11:25</span><span class=\"tv__title\"><a class=\"home-link tv__name home-link_black_yes\" href=\"https://tv.yandex.ru/program/3896647?eventId=143008798&utm_source=yamain&utm_medium=informer&utm_campaign=link\" title=\"\\xd0\\x9e\\xd0\\xb1\\xd0\\xb7\\xd0\\xbe\\xd1\\x80. \\xd0\\xa7\\xd1\\x80\\xd0\\xb5\\xd0\\xb7\\xd0\\xb2\\xd1\\x8b\\xd1\\x87\\xd0\\xb0\\xd0\\xb9\\xd0\\xbd\\xd0\\xbe\\xd0\\xb5 \\xd0\\xbf\\xd1\\x80\\xd0\\xbe\\xd0\\xb8\\xd1\\x81\\xd1\\x88\\xd0\\xb5\\xd1\\x81\\xd1\\x82\\xd0\\xb2\\xd0\\xb8\\xd0\\xb5\">\\xd0\\x9e\\xd0\\xb1\\xd0\\xb7\\xd0\\xbe\\xd1\\x80. \\xd0\\xa7\\xd1\\x80\\xd0\\xb5\\xd0\\xb7\\xd0\\xb2\\xd1\\x8b\\xd1\\x87\\xd0\\xb0\\xd0\\xb9\\xd0\\xbd\\xd0\\xbe\\xd0\\xb5\\xe2\\x80\\xa6</a> <a class=\"home-link tv__channel home-link_gray_yes\" href=\"https://tv.yandex.ru/channels/422?utm_source=yamain&utm_medium=informer&utm_campaign=channel\">\\xd0\\x9d\\xd0\\xa2\\xd0\\x92-\\xd0\\x9c\\xd0\\xb8\\xd1\\x80</a></span></li><li class=\"list__item tv__item\" ><span class=\"tv__time\">11:25</span><span class=\"tv__title\"><a class=\"home-link tv__name home-link_black_yes\" href=\"https://tv.yandex.ru/program/4112056?eventId=142965296&utm_source=yamain&utm_medium=informer&utm_campaign=link\">\\xd0\\xa7\\xd0\\xb8\\xd0\\xba-\\xd0\\xb7\\xd0\\xb0\\xd1\\x80\\xd1\\x8f\\xd0\\xb4\\xd0\\xba\\xd0\\xb0</a> <a class=\"home-link tv__channel home-link_gray_yes\" href=\"https://tv.yandex.ru/channels/465?utm_source=yamain&utm_medium=informer&utm_campaign=channel\">\\xd0\\x9a\\xd0\\xb0\\xd1\\x80\\xd1\\x83\\xd1\\x81\\xd0\\xb5\\xd0\\xbb\\xd1\\x8c INT</a></span></li><li class=\"list__item tv__item\" ><span class=\"tv__time\">11:30</span><span class=\"tv__title\"><a class=\"home-link tv__name home-link_black_yes\" href=\"https://tv.yandex.ru/program/3416116?eventId=142965297&utm_source=yamain&utm_medium=informer&utm_campaign=link\" title=\"\\xd0\\x9c\\xd0\\xb0\\xd0\\xbb\\xd1\\x8b\\xd1\\x88\\xd0\\xb8 \\xd0\\xb8 \\xd0\\xbb\\xd0\\xb5\\xd1\\x82\\xd0\\xb0\\xd1\\x8e\\xd1\\x89\\xd0\\xb8\\xd0\\xb5 \\xd0\\xb7\\xd0\\xb2\\xd0\\xb5\\xd1\\x80\\xd0\\xb8\">\\xd0\\x9c\\xd0\\xb0\\xd0\\xbb\\xd1\\x8b\\xd1\\x88\\xd0\\xb8 \\xd0\\xb8 \\xd0\\xbb\\xd0\\xb5\\xd1\\x82\\xd0\\xb0\\xd1\\x8e\\xd1\\x89\\xd0\\xb8\\xd0\\xb5\\xe2\\x80\\xa6</a> <a class=\"home-link tv__channel home-link_gray_yes\" href=\"https://tv.yandex.ru/channels/465?utm_source=yamain&utm_medium=informer&utm_campaign=channel\">\\xd0\\x9a\\xd0\\xb0\\xd1\\x80\\xd1\\x83\\xd1\\x81\\xd0\\xb5\\xd0\\xbb\\xd1\\x8c INT</a></span></li></ul></div><div class=\"widget__collapsed-text widget__collapsed\">\\xd0\\x9f\\xd1\\x80\\xd0\\xbe\\xd0\\xb3\\xd1\\x80\\xd0\\xb0\\xd0\\xbc\\xd0\\xbc\\xd0\\xb0 \\xd0\\xbf\\xd0\\xb5\\xd1\\x80\\xd0\\xb5\\xd0\\xb4\\xd0\\xb0\\xd1\\x87 \\xd0\\xbf\\xd0\\xbe \\xd0\\xba\\xd0\\xb0\\xd0\\xbd\\xd0\\xb0\\xd0\\xbb\\xd0\\xb0\\xd0\\xbc</div></div></div></div></div><div class=\"col text_black_yes heap__item widgets__col widgets__col_td_5\"><div class=\"i-bem widget widget_mode_plain widget_id_afisha widget_name_afisha widgets__item b-widget-fixed\" data-bem=\"{&quot;widget&quot;:{&quot;id&quot;:&quot;_afisha&quot;,&quot;showPrefs&quot;:true}}\" id=\"wd-wrapper-_afisha\"><div id=\"wd-_afisha\" class=\"b-widget-data b-wrapper b-wrapper-\"><div class=\"afisha\" aria-label=\"\\xd0\\x90\\xd1\\x84\\xd0\\xb8\\xd1\\x88\\xd0\\xb0\" role=\"complementary\"><h1><a class=\"home-link home-link_blue_yes\" href=\"https://afisha.yandex.ru/info?utm_source=yamain&utm_medium=yamain_afisha\">\\xd0\\x90\\xd1\\x84\\xd0\\xb8\\xd1\\x88\\xd0\\xb0</a></h1><ul class=\"list afisha__list widget__content\"><li class=\"list__item\" ><a class=\"home-link afisha__item home-link_black_yes\" href=\"https://afisha.yandex.ru/info/cinema/k-zviozdam?utm_source=yamain&amp;utm_medium=yamain_afisha_kp\">\\xd0\\x9a \\xd0\\xb7\\xd0\\xb2\\xd1\\x91\\xd0\\xb7\\xd0\\xb4\\xd0\\xb0\\xd0\\xbc</a> <span class=\"text_gray_yes\">\\xd0\\xbf\\xd1\\x80\\xd0\\xb5\\xd0\\xbc\\xd1\\x8c\\xd0\\xb5\\xd1\\x80\\xd0\\xb0</span></li><li class=\"list__item\" ><a class=\"home-link afisha__item home-link_black_yes\" href=\"https://afisha.yandex.ru/info/cinema/taina-pechati-drakona?utm_source=yamain&amp;utm_medium=yamain_afisha_kp\">\\xd0\\xa2\\xd0\\xb0\\xd0\\xb9\\xd0\\xbd\\xd0\\xb0 \\xd0\\xbf\\xd0\\xb5\\xd1\\x87\\xd0\\xb0\\xd1\\x82\\xd0\\xb8 \\xd0\\xb4\\xd1\\x80\\xd0\\xb0\\xd0\\xba\\xd0\\xbe\\xd0\\xbd\\xd0\\xb0</a> <span class=\"text_gray_yes\">\\xd0\\xbf\\xd1\\x80\\xd0\\xb8\\xd0\\xba\\xd0\\xbb\\xd1\\x8e\\xd1\\x87\\xd0\\xb5\\xd0\\xbd\\xd0\\xb8\\xd1\\x8f</span></li><li class=\"list__item\" ><a class=\"home-link afisha__item home-link_black_yes\" href=\"https://afisha.yandex.ru/info/cinema/geroi-2019?utm_source=yamain&amp;utm_medium=yamain_afisha_kp\">\\xd0\\x93\\xd0\\xb5\\xd1\\x80\\xd0\\xbe\\xd0\\xb9</a> <span class=\"text_gray_yes\">\\xd0\\xbf\\xd1\\x80\\xd0\\xb5\\xd0\\xbc\\xd1\\x8c\\xd0\\xb5\\xd1\\x80\\xd0\\xb0</span></li></ul><div class=\"widget__collapsed-text widget__collapsed\">\\xd0\\xa0\\xd0\\xb0\\xd1\\x81\\xd0\\xbf\\xd0\\xb8\\xd1\\x81\\xd0\\xb0\\xd0\\xbd\\xd0\\xb8\\xd0\\xb5 \\xd1\\x80\\xd0\\xb0\\xd0\\xb7\\xd0\\xb2\\xd0\\xbb\\xd0\\xb5\\xd1\\x87\\xd0\\xb5\\xd0\\xbd\\xd0\\xb8\\xd0\\xb9 \\xd0\\xb2 \\xd0\\xb2\\xd0\\xb0\\xd1\\x88\\xd0\\xb5\\xd0\\xbc \\xd0\\xb3\\xd0\\xbe\\xd1\\x80\\xd0\\xbe\\xd0\\xb4\\xd0\\xb5</div></div></div></div></div></div></div></div></div><div class=\"row gap gap_side_bottom\"> </div><div class=\"row rows__row rows__row_last\"><div class=\"col footer\" role=\"complementary\"><div class=\"media-grid media-grid_visible_no media-grid_theme_white i-bem font-regular\" data-bem=\"{&quot;media-grid&quot;:{&quot;counters&quot;:{&quot;expand&quot;:&quot;mediafooter.resize.expand&quot;,&quot;collapse&quot;:&quot;mediafooter.resize.collapse&quot;},&quot;layout&quot;:[&quot;zen&quot;,&quot;afisha_inserts&quot;,&quot;news_inserts&quot;,&quot;collections&quot;,&quot;games&quot;],&quot;collapseModSaveUrl&quot;:&quot;https://yandex.ru/portal/set/any/?sk=yf9ac971306383040237d86df88298cf4&amp;gif=1&amp;mfc=1&quot;,&quot;expandModSaveUrl&quot;:&quot;https://yandex.ru/portal/set/any/?sk=yf9ac971306383040237d86df88298cf4&amp;gif=1&amp;mfc=&quot;}}\"><div class=\"media-grid__media-content\"><div class=\"media-grid__row\"  data-blockname=\"zen\"><div class=\"i-bem zen zen_width_full media-service media-service_has-carousel_yes\"  role=\"complementary\" aria-label=\"\\xd0\\x94\\xd0\\xb7\\xd0\\xb5\\xd0\\xbd\" data-bem=\"{&quot;zen&quot;:{&quot;zenUrl&quot;:&quot;https://zen.yandex.ru/api/v3/desktop-morda/teasers?country_code=ru&amp;client_exps=zen_spok:ref&quot;,&quot;login&quot;:&quot;unauthorized&quot;,&quot;directUrl&quot;:&quot;https://direct.yandex.ru/?partner&quot;}}\"><div class=\"media-service__header media-service__header_valign_center\"><div class=\"media-service__title-wrapper\"><h1 class=\"media-service__title\"><a class=\"home-link zen__title media-service__title-text\" href=\"https://zen.yandex.ru/?clid=101&country_code=ru\" target=\"_blank\" rel=\"noopener\">\\xd0\\x94\\xd0\\xb7\\xd0\\xb5\\xd0\\xbd</a></h1><div class=\"media-service__desc zen__desc\">\\xd0\\x9f\\xd1\\x83\\xd0\\xb1\\xd0\\xbb\\xd0\\xb8\\xd0\\xba\\xd0\\xb0\\xd1\\x86\\xd0\\xb8\\xd0\\xb8 \\xd0\\xbd\\xd0\\xb0&nbsp;\\xd0\\xbe\\xd1\\x81\\xd0\\xbd\\xd0\\xbe\\xd0\\xb2\\xd0\\xb5 \\xd0\\xb2\\xd0\\xb0\\xd1\\x88\\xd0\\xb8\\xd1\\x85 \\xd0\\xb8\\xd0\\xbd\\xd1\\x82\\xd0\\xb5\\xd1\\x80\\xd0\\xb5\\xd1\\x81\\xd0\\xbe\\xd0\\xb2</div></div><a class=\"home-link media-promo  home-link_hover_inherit\" href=\"https://browser.yandex.ru/desktop/zen/?from=yamain_zen&banerid=0458000000\" target=\"_blank\" rel=\"noopener\"><span class=\"media-promo__title\">\\xd0\\xaf\\xd0\\xbd\\xd0\\xb4\\xd0\\xb5\\xd0\\xba\\xd1\\x81.\\xd0\\x91\\xd1\\x80\\xd0\\xb0\\xd1\\x83\\xd0\\xb7\\xd0\\xb5\\xd1\\x80</span><span class=\"media-promo__desc font-regular\">\\xd1\\x81\\xd0\\xbe&nbsp;\\xd0\\xb2\\xd1\\x81\\xd1\\x82\\xd1\\x80\\xd0\\xbe\\xd0\\xb5\\xd0\\xbd\\xd0\\xbd\\xd1\\x8b\\xd0\\xbc \\xd0\\x94\\xd0\\xb7\\xd0\\xb5\\xd0\\xbd\\xd0\\xbe\\xd0\\xbc</span></a></div><div class=\"zen__content media-service__content \"><div class=\"zen__panels media-service__panels\"><div class=\"zen__panel media-service__panel\"><div class=\"arrowed-list zen__list-wrapper media-service__list-wrapper imageloader imageloader_tracking_yes arrowed-list_theme_media arrowed-list_list-out_yes i-bem\" data-bem=\"{&quot;arrowed-list&quot;:{&quot;counter&quot;:&quot;mediafooter.zen&quot;},&quot;imageloader&quot;:{}}\"><div class=\"arrowed-list__content scroller zen__wrap media-service__wrap imageloader__scroller\"><div class=\"arrowed-list__list zen__list media-service__list\" role=\"list\"></div></div><div class=\"arrowed-list__shadow arrowed-list__shadow_left\"></div><div class=\"arrowed-list__shadow arrowed-list__shadow_right\"></div><div class=\"arrowed-list__left arrowed-list__control\" ></div><div class=\"arrowed-list__right arrowed-list__control\" ></div></div></div></div></div></div></div><div class=\"media-grid__row\"  data-blockname=\"afisha_inserts\"><div class=\"afisha-inserts i-bem media-grid__afisha-inserts media-service  mix-tabber_theme_media media-service_has-carousel_yes\"  role=\"complementary\" aria-label=\"\\xd0\\x90\\xd1\\x84\\xd0\\xb8\\xd1\\x88\\xd0\\xb0\" data-bem=\"{&quot;afisha-inserts&quot;:{&quot;selectedKey&quot;:&quot;cinema&quot;,&quot;retryButtonTheme&quot;:&quot;pseudo&quot;,&quot;live&quot;:true,&quot;uniqId&quot;:&quot;afisha-inserts_87676&quot;,&quot;logged&quot;:false,&quot;geoId&quot;:&quot;10393&quot;,&quot;locale&quot;:&quot;ru&quot;,&quot;geohelperHost&quot;:&quot;yandex.ru&quot;,&quot;nativeSelect&quot;:false}}\"><div class=\"media-service__header\"><div class=\"media-service__title-wrapper\"><h1 class=\"media-service__title\"><a class=\"home-link afisha-inserts__title media-service__title-text\" href=\"https://afisha.yandex.ru/info?utm_source=yamain&utm_medium=yamain_afisha\" target=\"_blank\" rel=\"noopener\">\\xd0\\x90\\xd1\\x84\\xd0\\xb8\\xd1\\x88\\xd0\\xb0</a></h1></div></div><div class=\"afisha-inserts__content media-service__content \"><div class=\"afisha-inserts__tabs media-service__tabs\" role=\"tablist\"> </div><div class=\"media-service__panels afisha-inserts__panels\" id=\"afisha-inserts_87676_panels\"><div class=\"afisha-inserts__panel media-service__panel\" role=\"tabpanel\" id=\"afisha-inserts_87676_panel_cinema\" data-key=\"cinema\" aria-labelledby=\"afisha-inserts_87676_tab_cinema\"><div class=\"arrowed-list afisha-inserts__list-wrapper media-service__list-wrapper arrowed-list_theme_media arrowed-list_arrow-position_weighted i-bem\" data-bem=\"{&quot;arrowed-list&quot;:{&quot;counter&quot;:&quot;afisha_inserts&quot;},&quot;imageloader&quot;:{}}\"><div class=\"arrowed-list__content scroller afisha-inserts__wrap media-service__wrap imageloader__scroller\"><div class=\"arrowed-list__list afisha-inserts__list media-service__list\" role=\"list\"><a class=\"home-link afisha-inserts__event afisha-inserts__event_type_film media-service__item home-link_hover_inherit imageloader__card afisha-event-film\" href=\"https://afisha.yandex.ru/info/cinema/k-zviozdam?utm_source=yamain&amp;utm_medium=yamain_afisha_kp\" target=\"_blank\" rel=\"noopener\"><span class=\"afisha-event-film__image-wrapper\"><span class=\"afisha-event-film__image media-service__shadow media-service__image imageloader__image\" data-image=\"{&quot;1&quot;:&quot;https://avatars.mds.yandex.net/get-afishanew/21626/fe10bfc78d95ddefd891f22e4608d938/120x180&quot;,&quot;2&quot;:&quot;https://avatars.mds.yandex.net/get-afishanew/21626/fe10bfc78d95ddefd891f22e4608d938/240x360&quot;}\"></span><span class=\"afisha-event-film__premiere\">\\xd0\\x9f\\xd1\\x80\\xd0\\xb5\\xd0\\xbc\\xd1\\x8c\\xd0\\xb5\\xd1\\x80\\xd0\\xb0</span></span><span class=\"afisha-event-film__content\"><span class=\"afisha-event-film__title\">\\xd0\\x9a&nbsp;\\xd0\\xb7\\xd0\\xb2\\xd1\\x91\\xd0\\xb7\\xd0\\xb4\\xd0\\xb0\\xd0\\xbc</span><span class=\"afisha-event-film__genre\">\\xd1\\x84\\xd0\\xb0\\xd0\\xbd\\xd1\\x82\\xd0\\xb0\\xd1\\x81\\xd1\\x82\\xd0\\xb8\\xd0\\xba\\xd0\\xb0</span></span></a><a class=\"home-link afisha-inserts__event afisha-inserts__event_type_film media-service__item home-link_hover_inherit imageloader__card afisha-event-film\" href=\"https://afisha.yandex.ru/info/cinema/taina-pechati-drakona?utm_source=yamain&amp;utm_medium=yamain_afisha_kp\" target=\"_blank\" rel=\"noopener\"><span class=\"afisha-event-film__image-wrapper\"><span class=\"afisha-event-film__image media-service__shadow media-service__image imageloader__image\" data-image=\"{&quot;1&quot;:&quot;https://avatars.mds.yandex.net/get-afishanew/34116/fae7136cbf0797388492dbeb961b2f09/120x180&quot;,&quot;2&quot;:&quot;https://avatars.mds.yandex.net/get-afishanew/34116/fae7136cbf0797388492dbeb961b2f09/240x360&quot;}\"></span></span><span class=\"afisha-event-film__content\"><span class=\"afisha-event-film__title\">\\xd0\\xa2\\xd0\\xb0\\xd0\\xb9\\xd0\\xbd\\xd0\\xb0 \\xd0\\xbf\\xd0\\xb5\\xd1\\x87\\xd0\\xb0\\xd1\\x82\\xd0\\xb8 \\xd0\\xb4\\xd1\\x80\\xd0\\xb0\\xd0\\xba\\xd0\\xbe\\xd0\\xbd\\xd0\\xb0</span><span class=\"afisha-event-film__genre\">\\xd0\\xbf\\xd1\\x80\\xd0\\xb8\\xd0\\xba\\xd0\\xbb\\xd1\\x8e\\xd1\\x87\\xd0\\xb5\\xd0\\xbd\\xd0\\xb8\\xd1\\x8f</span></span></a><a class=\"home-link afisha-inserts__event afisha-inserts__event_type_film media-service__item home-link_hover_inherit imageloader__card afisha-event-film\" href=\"https://afisha.yandex.ru/info/cinema/geroi-2019?utm_source=yamain&amp;utm_medium=yamain_afisha_kp\" target=\"_blank\" rel=\"noopener\"><span class=\"afisha-event-film__image-wrapper\"><span class=\"afisha-event-film__image media-service__shadow media-service__image imageloader__image\" data-image=\"{&quot;1&quot;:&quot;https://avatars.mds.yandex.net/get-afishanew/21422/cc2b22f7b883a09fb92ba352b09cd397/120x180&quot;,&quot;2&quot;:&quot;https://avatars.mds.yandex.net/get-afishanew/21422/cc2b22f7b883a09fb92ba352b09cd397/240x360&quot;}\"></span><span class=\"afisha-event-film__premiere\">\\xd0\\x9f\\xd1\\x80\\xd0\\xb5\\xd0\\xbc\\xd1\\x8c\\xd0\\xb5\\xd1\\x80\\xd0\\xb0</span></span><span class=\"afisha-event-film__content\"><span class=\"afisha-event-film__title\">\\xd0\\x93\\xd0\\xb5\\xd1\\x80\\xd0\\xbe\\xd0\\xb9</span><span class=\"afisha-event-film__genre\">\\xd1\\x82\\xd1\\x80\\xd0\\xb8\\xd0\\xbb\\xd0\\xbb\\xd0\\xb5\\xd1\\x80</span></span></a><a class=\"home-link afisha-inserts__event afisha-inserts__event_type_film media-service__item home-link_hover_inherit imageloader__card afisha-event-film\" href=\"https://afisha.yandex.ru/info/cinema/yesterday-2019?utm_source=yamain&amp;utm_medium=yamain_afisha_kp\" target=\"_blank\" rel=\"noopener\"><span class=\"afisha-event-film__image-wrapper\"><span class=\"afisha-event-film__image media-service__shadow media-service__image imageloader__image\" data-image=\"{&quot;1&quot;:&quot;https://avatars.mds.yandex.net/get-afishanew/34116/2891aab927f17ab34ae986f0d3035a21/120x180&quot;,&quot;2&quot;:&quot;https://avatars.mds.yandex.net/get-afishanew/34116/2891aab927f17ab34ae986f0d3035a21/240x360&quot;}\"></span></span><span class=\"afisha-event-film__content\"><span class=\"afisha-event-film__title\">Yesterday</span><span class=\"afisha-event-film__genre\">\\xd0\\xbc\\xd1\\x83\\xd0\\xb7\\xd1\\x8b\\xd0\\xba\\xd0\\xb0\\xd0\\xbb\\xd1\\x8c\\xd0\\xbd\\xd1\\x8b\\xd0\\xb9 \\xd1\\x84\\xd0\\xb8\\xd0\\xbb\\xd1\\x8c\\xd0\\xbc</span></span></a><a class=\"home-link afisha-inserts__event afisha-inserts__event_type_film media-service__item home-link_hover_inherit imageloader__card afisha-event-film\" href=\"https://afisha.yandex.ru/info/cinema/ono-2?utm_source=yamain&amp;utm_medium=yamain_afisha_kp\" target=\"_blank\" rel=\"noopener\"><span class=\"afisha-event-film__image-wrapper\"><span class=\"afisha-event-film__image media-service__shadow media-service__image imageloader__image\" data-image=\"{&quot;1&quot;:&quot;https://avatars.mds.yandex.net/get-afishanew/36842/96541b883ecd00ffc4c0f8a768b9da84/120x180&quot;,&quot;2&quot;:&quot;https://avatars.mds.yandex.net/get-afishanew/36842/96541b883ecd00ffc4c0f8a768b9da84/240x360&quot;}\"></span></span><span class=\"afisha-event-film__content\"><span class=\"afisha-event-film__title\">\\xd0\\x9e\\xd0\\xbd\\xd0\\xbe 2</span><span class=\"afisha-event-film__genre\">\\xd1\\x83\\xd0\\xb6\\xd0\\xb0\\xd1\\x81\\xd1\\x8b</span></span></a><a class=\"home-link afisha-inserts__event afisha-inserts__event_type_film media-service__item home-link_hover_inherit imageloader__card afisha-event-film\" href=\"https://afisha.yandex.ru/info/cinema/rambo-5?utm_source=yamain&amp;utm_medium=yamain_afisha_kp\" target=\"_blank\" rel=\"noopener\"><span class=\"afisha-event-film__image-wrapper\"><span class=\"afisha-event-film__image media-service__shadow media-service__image imageloader__image\" data-image=\"{&quot;1&quot;:&quot;https://avatars.mds.yandex.net/get-afishanew/29882/00a5ededd3bc548fe216957e854c1ca7/120x180&quot;,&quot;2&quot;:&quot;https://avatars.mds.yandex.net/get-afishanew/29882/00a5ededd3bc548fe216957e854c1ca7/240x360&quot;}\"></span></span><span class=\"afisha-event-film__content\"><span class=\"afisha-event-film__title\">\\xd0\\xa0\\xd1\\x8d\\xd0\\xbc\\xd0\\xb1\\xd0\\xbe: \\xd0\\x9f\\xd0\\xbe\\xd1\\x81\\xd0\\xbb\\xd0\\xb5\\xd0\\xb4\\xd0\\xbd\\xd1\\x8f\\xd1\\x8f \\xd0\\xba\\xd1\\x80\\xd0\\xbe\\xd0\\xb2\\xd1\\x8c</span><span class=\"afisha-event-film__genre\">\\xd0\\xb1\\xd0\\xbe\\xd0\\xb5\\xd0\\xb2\\xd0\\xb8\\xd0\\xba</span></span></a><a class=\"home-link afisha-inserts__event afisha-inserts__event_type_film media-service__item home-link_hover_inherit imageloader__card afisha-event-film\" href=\"https://afisha.yandex.ru/info/cinema/posle-svadby-2019?utm_source=yamain&amp;utm_medium=yamain_afisha_kp\" target=\"_blank\" rel=\"noopener\"><span class=\"afisha-event-film__image-wrapper\"><span class=\"afisha-event-film__image media-service__shadow media-service__image imageloader__image\" data-image=\"{&quot;1&quot;:&quot;https://avatars.mds.yandex.net/get-afishanew/23114/9bdf56106d30f3f34837bb4301a1bbf1/120x180&quot;,&quot;2&quot;:&quot;https://avatars.mds.yandex.net/get-afishanew/23114/9bdf56106d30f3f34837bb4301a1bbf1/240x360&quot;}\"></span><span class=\"afisha-event-film__premiere\">\\xd0\\x9f\\xd1\\x80\\xd0\\xb5\\xd0\\xbc\\xd1\\x8c\\xd0\\xb5\\xd1\\x80\\xd0\\xb0</span></span><span class=\"afisha-event-film__content\"><span class=\"afisha-event-film__title\">\\xd0\\x9f\\xd0\\xbe\\xd1\\x81\\xd0\\xbb\\xd0\\xb5 \\xd1\\x81\\xd0\\xb2\\xd0\\xb0\\xd0\\xb4\\xd1\\x8c\\xd0\\xb1\\xd1\\x8b</span><span class=\"afisha-event-film__genre\">\\xd0\\xb4\\xd1\\x80\\xd0\\xb0\\xd0\\xbc\\xd0\\xb0</span></span></a><a class=\"home-link afisha-inserts__event afisha-inserts__event_type_film media-service__item home-link_hover_inherit imageloader__card afisha-event-film\" href=\"https://afisha.yandex.ru/info/cinema/svyazannye-miry?utm_source=yamain&amp;utm_medium=yamain_afisha_kp\" target=\"_blank\" rel=\"noopener\"><span class=\"afisha-event-film__image-wrapper\"><span class=\"afisha-event-film__image media-service__shadow media-service__image imageloader__image\" data-image=\"{&quot;1&quot;:&quot;https://avatars.mds.yandex.net/get-afishanew/29882/3464c93e782fa7addde8f52e73d5496e/120x180&quot;,&quot;2&quot;:&quot;https://avatars.mds.yandex.net/get-afishanew/29882/3464c93e782fa7addde8f52e73d5496e/240x360&quot;}\"></span><span class=\"afisha-event-film__premiere\">\\xd0\\x9f\\xd1\\x80\\xd0\\xb5\\xd0\\xbc\\xd1\\x8c\\xd0\\xb5\\xd1\\x80\\xd0\\xb0</span></span><span class=\"afisha-event-film__content\"><span class=\"afisha-event-film__title\">\\xd0\\xa1\\xd0\\xb2\\xd1\\x8f\\xd0\\xb7\\xd0\\xb0\\xd0\\xbd\\xd0\\xbd\\xd1\\x8b\\xd0\\xb5 \\xd0\\xbc\\xd0\\xb8\\xd1\\x80\\xd1\\x8b</span><span class=\"afisha-event-film__genre\">\\xd0\\xb0\\xd0\\xbd\\xd0\\xb8\\xd0\\xbc\\xd0\\xb5</span></span></a><a class=\"home-link afisha-inserts__event afisha-inserts__event_type_film media-service__item home-link_hover_inherit imageloader__card afisha-event-film\" href=\"https://afisha.yandex.ru/info/cinema/deadtectives?utm_source=yamain&amp;utm_medium=yamain_afisha_kp\" target=\"_blank\" rel=\"noopener\"><span class=\"afisha-event-film__image-wrapper\"><span class=\"afisha-event-film__image media-service__shadow media-service__image imageloader__image\" data-image=\"{&quot;1&quot;:&quot;https://avatars.mds.yandex.net/get-afishanew/36842/42f86ea5e21d7a9fe26fe698c61bf6eb/120x180&quot;,&quot;2&quot;:&quot;https://avatars.mds.yandex.net/get-afishanew/36842/42f86ea5e21d7a9fe26fe698c61bf6eb/240x360&quot;}\"></span><span class=\"afisha-event-film__premiere\">\\xd0\\x9f\\xd1\\x80\\xd0\\xb5\\xd0\\xbc\\xd1\\x8c\\xd0\\xb5\\xd1\\x80\\xd0\\xb0</span></span><span class=\"afisha-event-film__content\"><span class=\"afisha-event-film__title\">\\xd0\\x9f\\xd1\\x80\\xd0\\xb8\\xd0\\xb7\\xd1\\x80\\xd0\\xb0\\xd1\\x87\\xd0\\xbd\\xd1\\x8b\\xd0\\xb9 \\xd0\\xbf\\xd0\\xb0\\xd1\\x82\\xd1\\x80\\xd1\\x83\\xd0\\xbb\\xd1\\x8c</span><span class=\"afisha-event-film__genre\">\\xd1\\x83\\xd0\\xb6\\xd0\\xb0\\xd1\\x81\\xd1\\x8b</span></span></a><a class=\"home-link afisha-inserts__event afisha-inserts__event_type_film media-service__item home-link_hover_inherit imageloader__card afisha-event-film\" href=\"https://afisha.yandex.ru/info/cinema/bozhe-moi-2019?utm_source=yamain&amp;utm_medium=yamain_afisha_kp\" target=\"_blank\" rel=\"noopener\"><span class=\"afisha-event-film__image-wrapper\"><span class=\"afisha-event-film__image media-service__shadow media-service__image imageloader__image\" data-image=\"{&quot;1&quot;:&quot;https://avatars.mds.yandex.net/get-afishanew/29882/6f120972b20d0aee3e671b81f066f5fc/120x180&quot;,&quot;2&quot;:&quot;https://avatars.mds.yandex.net/get-afishanew/29882/6f120972b20d0aee3e671b81f066f5fc/240x360&quot;}\"></span><span class=\"afisha-event-film__premiere\">\\xd0\\x9f\\xd1\\x80\\xd0\\xb5\\xd0\\xbc\\xd1\\x8c\\xd0\\xb5\\xd1\\x80\\xd0\\xb0</span></span><span class=\"afisha-event-film__content\"><span class=\"afisha-event-film__title\">\\xd0\\x91\\xd0\\xbe\\xd0\\xb6\\xd0\\xb5 \\xd0\\xbc\\xd0\\xbe\\xd0\\xb9!</span><span class=\"afisha-event-film__genre\">\\xd0\\xb4\\xd1\\x80\\xd0\\xb0\\xd0\\xbc\\xd0\\xb0</span></span></a></div></div><div class=\"arrowed-list__shadow arrowed-list__shadow_left\"></div><div class=\"arrowed-list__shadow arrowed-list__shadow_right\"></div><div class=\"arrowed-list__left arrowed-list__control\" ></div><div class=\"arrowed-list__right arrowed-list__control\" ></div></div></div></div></div></div></div><div class=\"media-grid__row\"  data-blockname=\"news_inserts\"><div class=\"news-inserts-loader news-inserts_divjson-etalon_yes news-inserts-loader_state_loading i-bem media-grid__news-inserts media-service media-service_has-carousel_yes\"  role=\"complementary\" aria-label=\"\\xd0\\x9d\\xd0\\xbe\\xd0\\xb2\\xd0\\xbe\\xd1\\x81\\xd1\\x82\\xd0\\xb8\" data-bem=\"{&quot;news-inserts-loader&quot;:{&quot;url&quot;:&quot;/portal/api/data/1/?block=news_inserts&amp;content=api_data_big&amp;lang=ru&amp;news_exp=exp_stub&quot;,&quot;divjsonEtalon&quot;:true}}\"><div class=\"media-service__header\"><div class=\"media-service__title-wrapper\"><h1 class=\"media-service__title\"><span class=\"home-link news-inserts__title media-service__title-text\">\\xd0\\x9d\\xd0\\xbe\\xd0\\xb2\\xd0\\xbe\\xd1\\x81\\xd1\\x82\\xd0\\xb8</span></h1></div></div><div class=\"news-inserts__content media-service__content \"><div class=\"media-service__panels news-inserts__panels\"><div class=\"media-service__panel news-inserts__panel\"><div class=\"arrowed-list news-inserts__list-wrapper media-service__list-wrapper imageloader arrowed-list_theme_media i-bem\" data-bem=\"{&quot;arrowed-list&quot;:{&quot;counter&quot;:&quot;news_inserts&quot;},&quot;imageloader&quot;:{}}\"><div class=\"arrowed-list__content scroller news-inserts__wrap media-service__wrap imageloader__scroller\"><div class=\"arrowed-list__list news-inserts__list media-service__list\" role=\"list\"><div class=\"news-inserts__item news-inserts__item_dummy_yes\"><span class=\"news-inserts__item-inner media-service__bg media-service__shadow\"><span class=\"news-inserts__item-img\"></span><span class=\"news-inserts__item-dummy-text\"></span></span></div><div class=\"news-inserts__item news-inserts__item_dummy_yes\"><span class=\"news-inserts__item-inner media-service__bg media-service__shadow\"><span class=\"news-inserts__item-img\"></span><span class=\"news-inserts__item-dummy-text\"></span></span></div><div class=\"news-inserts__item news-inserts__item_dummy_yes\"><span class=\"news-inserts__item-inner media-service__bg media-service__shadow\"><span class=\"news-inserts__item-img\"></span><span class=\"news-inserts__item-dummy-text\"></span></span></div><div class=\"news-inserts__item news-inserts__item_dummy_yes\"><span class=\"news-inserts__item-inner media-service__bg media-service__shadow\"><span class=\"news-inserts__item-img\"></span><span class=\"news-inserts__item-dummy-text\"></span></span></div><div class=\"news-inserts__item news-inserts__item_dummy_yes\"><span class=\"news-inserts__item-inner media-service__bg media-service__shadow\"><span class=\"news-inserts__item-img\"></span><span class=\"news-inserts__item-dummy-text\"></span></span></div></div></div><div class=\"arrowed-list__shadow arrowed-list__shadow_left\"></div><div class=\"arrowed-list__shadow arrowed-list__shadow_right\"></div><div class=\"arrowed-list__left arrowed-list__control\" ></div><div class=\"arrowed-list__right arrowed-list__control\" ></div></div></div></div></div></div></div><div class=\"media-grid__row\"  data-blockname=\"collections\"><div class=\"collections-loader collections-loader_state_loading i-bem media-grid__collections media-service  mix-tabber_theme_media media-service_has-carousel_yes media-service_tabs_yes\"  role=\"complementary\" aria-label=\"\\xd0\\x9a\\xd0\\xbe\\xd0\\xbb\\xd0\\xbb\\xd0\\xb5\\xd0\\xba\\xd1\\x86\\xd0\\xb8\\xd0\\xb8\" data-bem=\"{&quot;collections-loader&quot;:{&quot;api&quot;:&quot;//yandex.ru/collections/api/informers/v2?lang=ru&amp;msid=1569493369.47416.139808.274790&amp;pdb_informer_fr_br_exp_name=boards_portal_suitable_100k&quot;,&quot;source&quot;:&quot;collections&quot;,&quot;titleUrl&quot;:&quot;//yandex.ru/collections?utm_medium=informer&amp;utm_term=header&amp;utm_source=yandex&amp;utm_campaign=regular&quot;}}\"><div class=\"media-service__header\"><div class=\"media-service__title-wrapper\"><h1 class=\"media-service__title\"><a class=\"home-link collections__title media-service__title-text\" href=\"//yandex.ru/collections?utm_medium=informer&utm_term=header&utm_source=yandex&utm_campaign=regular\" target=\"_blank\" rel=\"noopener\">\\xd0\\x9a\\xd0\\xbe\\xd0\\xbb\\xd0\\xbb\\xd0\\xb5\\xd0\\xba\\xd1\\x86\\xd0\\xb8\\xd0\\xb8</a></h1></div></div><div class=\"collections__content media-service__content \"><div class=\"collections__tabs media-service__tabs\" role=\"tablist\"><span class=\"home-link geo-collections__tab geo-collections__tab_dummy_yes mix-tabber__tab\">&nbsp;</span><span class=\"home-link geo-collections__tab geo-collections__tab_dummy_yes mix-tabber__tab\">&nbsp;</span></div><div class=\"media-service__panels collections__panels\"><div class=\"collections__panel media-service__panel\" role=\"tabpanel\" id=\"collections_16287_panel_dummy\" data-key=\"dummy\" aria-labelledby=\"collections_16287_tab_dummy\"><div class=\"arrowed-list collections__list-wrapper media-service__list-wrapper imageloader imageloader_tracking_yes arrowed-list_theme_media arrowed-list_arrow-position_weighted i-bem\" data-bem=\"{&quot;imageloader&quot;:{}}\"><div class=\"arrowed-list__content scroller collections__wrap media-service__wrap imageloader__scroller\"><div class=\"arrowed-list__list collections__list media-service__list\" role=\"list\"><div class=\"collections__item collections__item_dummy_yes\"><div class=\"collections__item-shadows collections__item-shadows_2\"></div><div class=\"collections__item-shadows collections__item-shadows_1\"></div><div class=\"collections__item-img\"></div><div class=\"collections__item-title media-service__item-title i-multiline-overflow\"></div></div><div class=\"collections__item collections__item_dummy_yes\"><div class=\"collections__item-shadows collections__item-shadows_2\"></div><div class=\"collections__item-shadows collections__item-shadows_1\"></div><div class=\"collections__item-img\"></div><div class=\"collections__item-title media-service__item-title i-multiline-overflow\"></div></div><div class=\"collections__item collections__item_dummy_yes\"><div class=\"collections__item-shadows collections__item-shadows_2\"></div><div class=\"collections__item-shadows collections__item-shadows_1\"></div><div class=\"collections__item-img\"></div><div class=\"collections__item-title media-service__item-title i-multiline-overflow\"></div></div><div class=\"collections__item collections__item_dummy_yes\"><div class=\"collections__item-shadows collections__item-shadows_2\"></div><div class=\"collections__item-shadows collections__item-shadows_1\"></div><div class=\"collections__item-img\"></div><div class=\"collections__item-title media-service__item-title i-multiline-overflow\"></div></div><div class=\"collections__item collections__item_dummy_yes\"><div class=\"collections__item-shadows collections__item-shadows_2\"></div><div class=\"collections__item-shadows collections__item-shadows_1\"></div><div class=\"collections__item-img\"></div><div class=\"collections__item-title media-service__item-title i-multiline-overflow\"></div></div></div></div><div class=\"arrowed-list__shadow arrowed-list__shadow_left\"></div><div class=\"arrowed-list__shadow arrowed-list__shadow_right\"></div><div class=\"arrowed-list__left arrowed-list__control\" ></div><div class=\"arrowed-list__right arrowed-list__control\" ></div></div></div></div></div></div></div><div class=\"media-grid__row\"  data-blockname=\"games\"><div class=\"games-loader games-loader_state_loading i-bem media-grid__games media-service  mix-tabber_theme_media media-service_has-carousel_yes media-service_tabs_yes\"  role=\"complementary\" aria-label=\"\\xd0\\x98\\xd0\\xb3\\xd1\\x80\\xd1\\x8b\" data-bem=\"{&quot;games-loader&quot;:{&quot;url&quot;:&quot;//games.yandex.ru/api/v1/desktop/card?lang=ru&quot;}}\"><div class=\"media-service__header media-service__header_multyline_yes\"><div class=\"media-service__title-wrapper\"><h1 class=\"media-service__title\"><span class=\"home-link games__title media-service__title-text\" tabindex=\"0\">\\xd0\\x98\\xd0\\xb3\\xd1\\x80\\xd1\\x8b</span></h1></div></div><div class=\"games__content media-service__content \"><div class=\"games__tabs media-service__tabs\" role=\"tablist\"><span class=\"home-link games__tab games__tab_dummy_yes mix-tabber__tab\">&nbsp;</span><span class=\"home-link games__tab games__tab_dummy_yes mix-tabber__tab\">&nbsp;</span><span class=\"home-link games__tab games__tab_dummy_yes mix-tabber__tab\">&nbsp;</span><span class=\"home-link games__tab games__tab_dummy_yes mix-tabber__tab\">&nbsp;</span><span class=\"home-link games__tab games__tab_dummy_yes mix-tabber__tab\">&nbsp;</span><span class=\"home-link games__tab games__tab_dummy_yes mix-tabber__tab\">&nbsp;</span><span class=\"home-link games__tab games__tab_dummy_yes mix-tabber__tab\">&nbsp;</span></div><div class=\"media-service__panels games__panels\"><div class=\"games__panel media-service__panel\" role=\"tabpanel\" id=\"games_65544_panel_dummy\" data-key=\"dummy\" aria-labelledby=\"games_65544_tab_dummy\"><div class=\"arrowed-list games__list-wrapper media-service__list-wrapper imageloader arrowed-list_theme_media i-bem\" data-bem=\"{&quot;arrowed-list&quot;:{&quot;counter&quot;:&quot;games&quot;},&quot;imageloader&quot;:{}}\"><div class=\"arrowed-list__content scroller games__wrap media-service__wrap imageloader__scroller\"><div class=\"arrowed-list__list games__list media-service__list\" role=\"list\"><div class=\"games__item games__item_dummy_yes media-service__shadow\"><div class=\"games__item-header\"></div><div class=\"games__item-content games__item-content_dummy\"><div class=\"games__item-placeholder games__item-placeholder_title\"></div><div class=\"games__item-placeholder\"></div></div></div><div class=\"games__item games__item_dummy_yes media-service__shadow\"><div class=\"games__item-header\"></div><div class=\"games__item-content games__item-content_dummy\"><div class=\"games__item-placeholder games__item-placeholder_title\"></div><div class=\"games__item-placeholder\"></div></div></div><div class=\"games__item games__item_dummy_yes media-service__shadow\"><div class=\"games__item-header\"></div><div class=\"games__item-content games__item-content_dummy\"><div class=\"games__item-placeholder games__item-placeholder_title\"></div><div class=\"games__item-placeholder\"></div></div></div><div class=\"games__item games__item_dummy_yes media-service__shadow\"><div class=\"games__item-header\"></div><div class=\"games__item-content games__item-content_dummy\"><div class=\"games__item-placeholder games__item-placeholder_title\"></div><div class=\"games__item-placeholder\"></div></div></div><div class=\"games__item games__item_dummy_yes media-service__shadow\"><div class=\"games__item-header\"></div><div class=\"games__item-content games__item-content_dummy\"><div class=\"games__item-placeholder games__item-placeholder_title\"></div><div class=\"games__item-placeholder\"></div></div></div><div class=\"games__item games__item_dummy_yes media-service__shadow\"><div class=\"games__item-header\"></div><div class=\"games__item-content games__item-content_dummy\"><div class=\"games__item-placeholder games__item-placeholder_title\"></div><div class=\"games__item-placeholder\"></div></div></div><div class=\"games__item games__item_dummy_yes media-service__shadow\"><div class=\"games__item-header\"></div><div class=\"games__item-content games__item-content_dummy\"><div class=\"games__item-placeholder games__item-placeholder_title\"></div><div class=\"games__item-placeholder\"></div></div></div></div></div><div class=\"arrowed-list__shadow arrowed-list__shadow_left\"></div><div class=\"arrowed-list__shadow arrowed-list__shadow_right\"></div><div class=\"arrowed-list__left arrowed-list__control\" ></div><div class=\"arrowed-list__right arrowed-list__control\" ></div></div></div></div></div></div></div></div><div class=\"media-grid__toggle-line-wrap\"><div class=\"media-grid__toggle-line media-grid__row\"><span class=\"home-link media-grid__toggle-button home-link_pseudo_yes\" tabindex=\"0\" role=\"button\"><span class=\"media-grid__toggle-button-icon\" aria-hidden=\"true\"><svg class=\"media-grid__toggle-button-icon-svg\" width=\"12\" height=\"9\"><path class=\"media-grid__icon-arrow\" d=\"M6 7.5L.56 2.08l.88-.89L6 5.74l4.56-4.56.88.89z\"/></svg><span class=\"media-grid__toggle-button-icon-png\"></span></span><span class=\"media-grid__toggle-button-content\">\\xd0\\xa1\\xd0\\xb2\\xd0\\xb5\\xd1\\x80\\xd0\\xbd\\xd1\\x83\\xd1\\x82\\xd1\\x8c</span></span></div></div><div class=\"media-footer i-bem\" data-bem=\"{&quot;media-footer&quot;:{}}\" role=\"contentinfo\"><div class=\"media-footer__container \"><div class=\"media-footer__links\"><ul class=\"media-footer__links-list\"><li class=\"media-footer__links-item\"><a class=\"home-link media-footer__smart-link home-link_theme_media-white\" role=\"button\" tabindex=\"0\" data-scroll-to=\"zen\" href=\"https://zen.yandex.ru/?clid=101&country_code=ru\">\\xd0\\x94\\xd0\\xb7\\xd0\\xb5\\xd0\\xbd</a>&#160;&#8212;&#160;<a class=\"home-link media-footer__smart-link media-footer__zen home-link_theme_media-minor-white\" role=\"button\" tabindex=\"0\" data-scroll-to=\"zen\" href=\"https://zen.yandex.ru/?clid=101&country_code=ru\">\\xd0\\xbf\\xd0\\xb5\\xd1\\x80\\xd1\\x81\\xd0\\xbe\\xd0\\xbd\\xd0\\xb0\\xd0\\xbb\\xd1\\x8c\\xd0\\xbd\\xd0\\xb0\\xd1\\x8f \\xd0\\xbb\\xd0\\xb5\\xd0\\xbd\\xd1\\x82\\xd0\\xb0 \\xd0\\xbf\\xd1\\x83\\xd0\\xb1\\xd0\\xbb\\xd0\\xb8\\xd0\\xba\\xd0\\xb0\\xd1\\x86\\xd0\\xb8\\xd0\\xb9</a></li></ul><div class=\"media-footer__logo\"></div></div><div class=\"company-links__layout\"><div class=\"company-links__list-wrapper\"><ul class=\"company-links__list\"><li class=\"company-links__li\"><a class=\"home-link home-link_theme_media-white\" href=\"https://yandex.ru/jobs\">\\xd0\\x92\\xd0\\xb0\\xd0\\xba\\xd0\\xb0\\xd0\\xbd\\xd1\\x81\\xd0\\xb8\\xd0\\xb8</a></li><li class=\"company-links__li\"><a class=\"home-link home-link_theme_media-white\" href=\"https://yandex.ru/blog/company/\">\\xd0\\x91\\xd0\\xbb\\xd0\\xbe\\xd0\\xb3</a></li><li class=\"company-links__li\"><a class=\"home-link home-link_theme_media-white\" href=\"https://yandex.ru/company/\">\\xd0\\x9a\\xd0\\xbe\\xd0\\xbc\\xd0\\xbf\\xd0\\xb0\\xd0\\xbd\\xd0\\xb8\\xd1\\x8f</a></li><li class=\"company-links__li\"><a class=\"home-link home-link_theme_media-white\" href=\"https://yandex.ru/company/researches/?from=main_bottom\">\\xd0\\x98\\xd1\\x81\\xd1\\x81\\xd0\\xbb\\xd0\\xb5\\xd0\\xb4\\xd0\\xbe\\xd0\\xb2\\xd0\\xb0\\xd0\\xbd\\xd0\\xb8\\xd1\\x8f</a></li><li class=\"company-links__li\"><a class=\"home-link home-link_theme_media-white\" href=\"https://yandex.com/company/\">About</a></li></ul><div class=\"media-footer__logo company-links__logo\"></div></div><div class=\"company-links__list-wrapper\"><ul class=\"company-links__list\"><li class=\"company-links__li\"><a class=\"home-link home-link_theme_media-white\" href=\"https://yandex.ru/support/\">\\xd0\\x9f\\xd0\\xbe\\xd0\\xbc\\xd0\\xbe\\xd1\\x89\\xd1\\x8c</a></li><li class=\"company-links__li\"><a class=\"home-link home-link_theme_media-white\" href=\"https://yandex.ru/support/common/troubleshooting/main.html\">\\xd0\\x9e\\xd0\\xb1\\xd1\\x80\\xd0\\xb0\\xd1\\x82\\xd0\\xbd\\xd0\\xb0\\xd1\\x8f \\xd1\\x81\\xd0\\xb2\\xd1\\x8f\\xd0\\xb7\\xd1\\x8c</a></li><li class=\"company-links__li\"><a class=\"home-link home-link_theme_media-white\" href=\"https://yandex.ru/legal/confidential/\">\\xd0\\x9a\\xd0\\xbe\\xd0\\xbd\\xd1\\x84\\xd0\\xb8\\xd0\\xb4\\xd0\\xb5\\xd0\\xbd\\xd1\\x86\\xd0\\xb8\\xd0\\xb0\\xd0\\xbb\\xd1\\x8c\\xd0\\xbd\\xd0\\xbe\\xd1\\x81\\xd1\\x82\\xd1\\x8c</a></li><li class=\"company-links__li\"><a class=\"home-link home-link_theme_media-white\" href=\"https://yandex.ru/legal/rules/\">\\xd0\\x9f\\xd0\\xbe\\xd0\\xbb\\xd1\\x8c\\xd0\\xb7\\xd0\\xbe\\xd0\\xb2\\xd0\\xb0\\xd1\\x82\\xd0\\xb5\\xd0\\xbb\\xd1\\x8c\\xd1\\x81\\xd0\\xba\\xd0\\xbe\\xd0\\xb5 \\xd1\\x81\\xd0\\xbe\\xd0\\xb3\\xd0\\xbb\\xd0\\xb0\\xd1\\x88\\xd0\\xb5\\xd0\\xbd\\xd0\\xb8\\xd0\\xb5</a></li></ul></div></div><div class=\"business\"><ul class=\"business__list\"><li class=\"business__li\"><a class=\"home-link home-link_theme_media-white\" href=\"https://direct.yandex.ru/?from=maintest_ru_razmestitrekl\">\\xd0\\x94\\xd0\\xb8\\xd1\\x80\\xd0\\xb5\\xd0\\xba\\xd1\\x82</a><span class=\"business__item-dash\">&#160;&#8212;&#160;</span><a class=\"home-link home-link_theme_media-minor-white\" href=\"https://direct.yandex.ru/?from=maintest_ru_razmestitrekl\">\\xd1\\x80\\xd0\\xb0\\xd0\\xb7\\xd0\\xbc\\xd0\\xb5\\xd1\\x81\\xd1\\x82\\xd0\\xb8\\xd1\\x82\\xd1\\x8c \\xd1\\x80\\xd0\\xb5\\xd0\\xba\\xd0\\xbb\\xd0\\xb0\\xd0\\xbc\\xd1\\x83</a></li><li class=\"business__li\"><a class=\"home-link home-link_theme_media-white\" href=\"https://metrika.yandex.ru/?utm_source=yandexru.v14w&utm_medium=web&utm_campaign=static\">\\xd0\\x9c\\xd0\\xb5\\xd1\\x82\\xd1\\x80\\xd0\\xb8\\xd0\\xba\\xd0\\xb0</a><span class=\"business__item-dash\">&#160;&#8212;&#160;</span><a class=\"home-link home-link_theme_media-minor-white\" href=\"https://metrika.yandex.ru/?utm_source=yandexru.v14w&utm_medium=web&utm_campaign=static\">\\xd1\\x81\\xd0\\xb2\\xd0\\xb5\\xd0\\xb6\\xd0\\xb8\\xd0\\xb5 \\xd0\\xb4\\xd0\\xb0\\xd0\\xbd\\xd0\\xbd\\xd1\\x8b\\xd0\\xb5 \\xd0\\xbe \\xd1\\x81\\xd0\\xb0\\xd0\\xb9\\xd1\\x82\\xd0\\xb5</a></li><li class=\"business__li\"><a class=\"home-link home-link_theme_media-white\" href=\"https://yandex.ru/adv/?from=main_bottom\">\\xd0\\xa0\\xd0\\xb5\\xd0\\xba\\xd0\\xbb\\xd0\\xb0\\xd0\\xbc\\xd0\\xb0</a><span class=\"business__item-dash\">&#160;&#8212;&#160;</span><a class=\"home-link home-link_theme_media-minor-white\" href=\"https://yandex.ru/adv/?from=main_bottom\">\\xd0\\xb2\\xd1\\x81\\xd0\\xb5 \\xd0\\xb2\\xd0\\xbe\\xd0\\xb7\\xd0\\xbc\\xd0\\xbe\\xd0\\xb6\\xd0\\xbd\\xd0\\xbe\\xd1\\x81\\xd1\\x82\\xd0\\xb8</a></li><li class=\"business__li\"><a class=\"home-link home-link_theme_media-white\" href=\"https://kassa.yandex.ru/?_openstat=promo;yandex;\">\\xd0\\x9a\\xd0\\xb0\\xd1\\x81\\xd1\\x81\\xd0\\xb0</a><span class=\"business__item-dash\">&#160;&#8212;&#160;</span><a class=\"home-link home-link_theme_media-minor-white\" href=\"https://kassa.yandex.ru/?_openstat=promo;yandex;\">\\xd0\\xbf\\xd1\\x80\\xd0\\xb8\\xd0\\xb5\\xd0\\xbc \\xd0\\xbf\\xd0\\xbb\\xd0\\xb0\\xd1\\x82\\xd0\\xb5\\xd0\\xb6\\xd0\\xb5\\xd0\\xb9 \\xd0\\xb4\\xd0\\xbb\\xd1\\x8f \\xd1\\x81\\xd0\\xb0\\xd0\\xb9\\xd1\\x82\\xd0\\xbe\\xd0\\xb2</a></li></ul></div></div></div></div></div></div></div></div><script>window.home=window.home||{};window.home[\\'export\\']={\"bundles\":{\"data\":{\"jsSuffix\":\"\",\"cssSuffix\":\"\",\"host\":\"//yastatic.net\",\"root\":\"//yastatic.net/s3/home-static/2.2249/white/pages\",\"page\":\"bender\",\"locale\":\"ru\"},\"placed\":[]},\"common\":{\"reportVisibilityCheck\":true,\"req\":{\"MordaZone\":\"ru\",\"blocks_folded\":{\"div_news\":0,\"services\":0,\"infinity_zen\":0,\"kinopoisk\":0,\"afisha_inserts\":0,\"collections\":0,\"cashback\":0,\"tv_online\":0,\"stream_inserts_films\":0,\"broadcast\":0,\"stream_inserts_platform\":0,\"stream_now\":0,\"stream_inserts_anim_films\":0,\"media_event_2\":0,\"video\":0,\"market_media\":0,\"tutor\":0,\"news_inserts\":0,\"answers\":0,\"div_sport\":0,\"banner_inserts\":0,\"district_inserts\":0,\"geo_collections\":0,\"afisha\":0,\"games\":0,\"edadeal\":0,\"stream_inserts_anim_series\":0,\"traffic\":0,\"media_event\":0,\"zen\":0,\"autoru_inserts\":0,\"stream_inserts_mixed\":0,\"tv_vods\":0,\"geo\":0,\"widgets_list\":0,\"weather\":0,\"stream_inserts_series\":0,\"media_event_carousel\":0,\"tv\":0,\"topnews\":0},\"tabs_theme\":\"mix-tabber_theme_media\",\"media_footer\":{\"new_tab_links\":true}},\"click-href\":\"https://yandex.ru/clck/\"},\"statlog\":{\"config\":{\"statRoot\":\"\",\"showId\":\"1569493369.47416.139808.274790\",\"enabled\":false,\"redirHost\":\"https://yandex.ru/clck/\",\"clckDemonHost\":\"https://yandex.ru/clck/\",\"useBeacon\":0}},\"request\":{\"blockErrorEnabled\":1,\"clientErrorPath\":\"/instant/log\",\"Requestid\":\"1569493369.47416.139808.274790\",\"mordaContent\":\"big\"},\"csp\":{\"ratio\":\"0.1\",\"page\":\"big.v14.ru\",\"report\":true},\"timing\":{\"reqid\":\"1569493369.47416.139808.274790\",\"exp\":\"171253,0,54;170197,0,16;167875,0,47;171247,0,63;63207,0,23;168305,0,22\",\"page\":\"28.15.899\"},\"fingerprint\":{\"data\":{\"enabled\":true,\"cookieUrl\":\"https://yandex.ru/portal/set/any/?sk=yf9ac971306383040237d86df88298cf4\\\\u0026gif=1\"}},\"i-yandexuid\":{\"data\":{\"prefix\":\"v1.0_\",\"cb_url\":\"https://yandex.ru/jcb/lsychk/?rz=ru\\\\u0026sk=yf9ac971306383040237d86df88298cf4\",\"ls\":{\"value\":\"v1.0_3331240341569493369:1569493369\",\"key\":\"yandexuid\"}}},\"i-mda-auth\":{\"url\":\"https://yandex.ru/portal/set/any/?sk=yf9ac971306383040237d86df88298cf4\\\\u0026mda=0\\\\u0026empty=1\"},\"consistency\":{\"data\":{\"type\":\"none\",\"content\":\"bender\",\"timeout\":14596.738487935612,\"custom\":{},\"url\":\"https://yandex.ru/portal/set/any/?sk=yf9ac971306383040237d86df88298cf4\\\\u0026empty=1\",\"csc\":\"\"}},\"promo-curtain\":{\"langs\":{\"header\":\"\\xd0\\x9d\\xd0\\xb0\\xd0\\xb6\\xd0\\xbc\\xd0\\xb8\\xd1\\x82\\xd0\\xb5 \\xc2\\xab\\xd0\\xa3\\xd1\\x81\\xd1\\x82\\xd0\\xb0\\xd0\\xbd\\xd0\\xbe\\xd0\\xb2\\xd0\\xb8\\xd1\\x82\\xd1\\x8c \\xd1\\x80\\xd0\\xb0\\xd1\\x81\\xd1\\x88\\xd0\\xb8\\xd1\\x80\\xd0\\xb5\\xd0\\xbd\\xd0\\xb8\\xd0\\xb5\\xc2\\xbb\",\"line1\":\"\\xd0\\x98 \\xd0\\xaf\\xd0\\xbd\\xd0\\xb4\\xd0\\xb5\\xd0\\xba\\xd1\\x81 \\xd0\\xbf\\xd0\\xbe\\xd1\\x8f\\xd0\\xb2\\xd0\\xb8\\xd1\\x82\\xd1\\x81\\xd1\\x8f \\xd0\\xb2 \\xd0\\xb1\\xd1\\x80\\xd0\\xb0\\xd1\\x83\\xd0\\xb7\\xd0\\xb5\\xd1\\x80\\xd0\\xb5.\",\"line2\":\"\\xd0\\xad\\xd1\\x82\\xd0\\xbe \\xd0\\xb1\\xd0\\xb5\\xd0\\xb7\\xd0\\xbe\\xd0\\xbf\\xd0\\xb0\\xd1\\x81\\xd0\\xbd\\xd0\\xbe. \\xd0\\x9f\\xd1\\x80\\xd0\\xb8 \\xd0\\xb6\\xd0\\xb5\\xd0\\xbb\\xd0\\xb0\\xd0\\xbd\\xd0\\xb8\\xd0\\xb8 \\xd0\\xbc\\xd0\\xbe\\xd0\\xb6\\xd0\\xbd\\xd0\\xbe \\xd0\\xb2\\xd0\\xb5\\xd1\\x80\\xd0\\xbd\\xd1\\x83\\xd1\\x82\\xd1\\x8c \\xd0\\xba\\xd0\\xb0\\xd0\\xba \\xd0\\xb1\\xd1\\x8b\\xd0\\xbb\\xd0\\xbe.\",\"agreement\":\"\\xd0\\xa3\\xd1\\x81\\xd1\\x82\\xd0\\xb0\\xd0\\xbd\\xd0\\xb0\\xd0\\xb2\\xd0\\xbb\\xd0\\xb8\\xd0\\xb2\\xd0\\xb0\\xd1\\x8f \\xd1\\x80\\xd0\\xb0\\xd1\\x81\\xd1\\x88\\xd0\\xb8\\xd1\\x80\\xd0\\xb5\\xd0\\xbd\\xd0\\xb8\\xd0\\xb5, \\xd0\\xb2\\xd1\\x8b \\xd0\\xbf\\xd1\\x80\\xd0\\xb8\\xd0\\xbd\\xd0\\xb8\\xd0\\xbc\\xd0\\xb0\\xd0\\xb5\\xd1\\x82\\xd0\\xb5 \\xd1\\x83\\xd1\\x81\\xd0\\xbb\\xd0\\xbe\\xd0\\xb2\\xd0\\xb8\\xd1\\x8f \\xd0\\xbb\\xd0\\xb8\\xd1\\x86\\xd0\\xb5\\xd0\\xbd\\xd0\\xb7\\xd0\\xb8\\xd0\\xbe\\xd0\\xbd\\xd0\\xbd\\xd0\\xbe\\xd0\\xb3\\xd0\\xbe \\xd1\\x81\\xd0\\xbe\\xd0\\xb3\\xd0\\xbb\\xd0\\xb0\\xd1\\x88\\xd0\\xb5\\xd0\\xbd\\xd0\\xb8\\xd1\\x8f https://yandex.ru/legal/desktop_software_agreement/\"}},\"ga-counter\":{\"morda\":\"\",\"ether\":{\"id\":796521919,\"customLabels\":{\"ether\":[\"i6KYCPiJ-4UBEL_r5_sC\"]},\"remarketingOnly\":false,\"timeout\":30000,\"iframeSrc\":\"https://yastatic.net/s3/home/ga-counter/9/index.html\"}},\"szm\":{\"data\":{\"url\":\"https://yandex.ru/portal/set/any/?sk=yf9ac971306383040237d86df88298cf4\\\\u0026gif=1\\\\u0026szm=\",\"timeout\":2000,\"szm\":{},\"swap\":\"\"}},\"yandcache\":{\"data\":{\"url\":\"//yandex.ru/search/yandcache.js\",\"timeout\":5500}},\"datetime\":{\"data\":{\"monthArr\":[\"\\xd1\\x8f\\xd0\\xbd\\xd0\\xb2\\xd0\\xb0\\xd1\\x80\\xd1\\x8f\",\"\\xd1\\x84\\xd0\\xb5\\xd0\\xb2\\xd1\\x80\\xd0\\xb0\\xd0\\xbb\\xd1\\x8f\",\"\\xd0\\xbc\\xd0\\xb0\\xd1\\x80\\xd1\\x82\\xd0\\xb0\",\"\\xd0\\xb0\\xd0\\xbf\\xd1\\x80\\xd0\\xb5\\xd0\\xbb\\xd1\\x8f\",\"\\xd0\\xbc\\xd0\\xb0\\xd1\\x8f\",\"\\xd0\\xb8\\xd1\\x8e\\xd0\\xbd\\xd1\\x8f\",\"\\xd0\\xb8\\xd1\\x8e\\xd0\\xbb\\xd1\\x8f\",\"\\xd0\\xb0\\xd0\\xb2\\xd0\\xb3\\xd1\\x83\\xd1\\x81\\xd1\\x82\\xd0\\xb0\",\"\\xd1\\x81\\xd0\\xb5\\xd0\\xbd\\xd1\\x82\\xd1\\x8f\\xd0\\xb1\\xd1\\x80\\xd1\\x8f\",\"\\xd0\\xbe\\xd0\\xba\\xd1\\x82\\xd1\\x8f\\xd0\\xb1\\xd1\\x80\\xd1\\x8f\",\"\\xd0\\xbd\\xd0\\xbe\\xd1\\x8f\\xd0\\xb1\\xd1\\x80\\xd1\\x8f\",\"\\xd0\\xb4\\xd0\\xb5\\xd0\\xba\\xd0\\xb0\\xd0\\xb1\\xd1\\x80\\xd1\\x8f\"],\"monthShortArr\":[\"\\xd1\\x8f\\xd0\\xbd\\xd0\\xb2.\",\"\\xd1\\x84\\xd0\\xb5\\xd0\\xb2\\xd1\\x80.\",\"\\xd0\\xbc\\xd0\\xb0\\xd1\\x80\\xd1\\x82\\xd0\\xb0\",\"\\xd0\\xb0\\xd0\\xbf\\xd1\\x80.\",\"\\xd0\\xbc\\xd0\\xb0\\xd1\\x8f\",\"\\xd0\\xb8\\xd1\\x8e\\xd0\\xbd\\xd1\\x8f\",\"\\xd0\\xb8\\xd1\\x8e\\xd0\\xbb\\xd1\\x8f\",\"\\xd0\\xb0\\xd0\\xb2\\xd0\\xb3.\",\"\\xd1\\x81\\xd0\\xb5\\xd0\\xbd\\xd1\\x82.\",\"\\xd0\\xbe\\xd0\\xba\\xd1\\x82.\",\"\\xd0\\xbd\\xd0\\xbe\\xd1\\x8f\\xd0\\xb1.\",\"\\xd0\\xb4\\xd0\\xb5\\xd0\\xba.\"],\"weekArr\":[\"\\xd0\\xb2\\xd0\\xbe\\xd1\\x81\\xd0\\xba\\xd1\\x80\\xd0\\xb5\\xd1\\x81\\xd0\\xb5\\xd0\\xbd\\xd1\\x8c\\xd0\\xb5\",\"\\xd0\\xbf\\xd0\\xbe\\xd0\\xbd\\xd0\\xb5\\xd0\\xb4\\xd0\\xb5\\xd0\\xbb\\xd1\\x8c\\xd0\\xbd\\xd0\\xb8\\xd0\\xba\",\"\\xd0\\xb2\\xd1\\x82\\xd0\\xbe\\xd1\\x80\\xd0\\xbd\\xd0\\xb8\\xd0\\xba\",\"\\xd1\\x81\\xd1\\x80\\xd0\\xb5\\xd0\\xb4\\xd0\\xb0\",\"\\xd1\\x87\\xd0\\xb5\\xd1\\x82\\xd0\\xb2\\xd0\\xb5\\xd1\\x80\\xd0\\xb3\",\"\\xd0\\xbf\\xd1\\x8f\\xd1\\x82\\xd0\\xbd\\xd0\\xb8\\xd1\\x86\\xd0\\xb0\",\"\\xd1\\x81\\xd1\\x83\\xd0\\xb1\\xd0\\xb1\\xd0\\xbe\\xd1\\x82\\xd0\\xb0\"]}},\"i-bannerid\":{\"csl\":\"https://yandex.ru/portal/set/any/?sk=yf9ac971306383040237d86df88298cf4\\\\u0026empty=1\\\\u0026bnrd=%s\"},\"b-rss\":{\"linkTheme\":\"link link_black_yes\"},\"geo\":{\"sk\":\"yf9ac971306383040237d86df88298cf4\",\"gpsaveUrl\":\"https://yandex.ru/gpsave?sk=yf9ac971306383040237d86df88298cf4\\\\u0026no_mda=1\",\"laas\":1,\"latlong\":[51.507351,-0.12766]},\"i-xiva\":{\"url\":\"portal-xiva.yandex.net\"},\"adb\":{\"data\":{\"adb\":0,\"skin\":\"\",\"domain\":\"ru\",\"timeout\":1746,\"adg\":{\"str\":\"\\\\u003cdiv class=\\\\\"dist-popup\\\\\"\\\\u003e\\\\u003cdiv class=\\\\\"ad-card\\\\\"\\\\u003e\\\\u003c/div\\\\u003e\\\\u003c/div\\\\u003e\",\"check\":\".dist-popup .ad-card\"},\"desktopKubr\":true,\"cookie\":\"specific\"}},\"delayed-reporter\":{\"strm-check\":{\"timeout\":5,\"url\":\"https://strm.yandex.ru/probe/get\"},\"banner-inventory\":{\"timeout\":2,\"stat\":{\"type\":\"show\",\"name\":\"banner-inventory\"}}},\"media-grid\":{\"blocks_fold_url\":\"https://yandex.ru/portal/blocks/fold?sk=yf9ac971306383040237d86df88298cf4\\\\u0026blocks=\",\"blocks_unfold_url\":\"https://yandex.ru/portal/blocks/unfold?sk=yf9ac971306383040237d86df88298cf4\\\\u0026blocks=\",\"layoutMap\":{\"afisha_inserts\":1,\"news_inserts\":1,\"collections\":1,\"games\":1}},\"zen-inserter\":{\"blocks\":[]},\"region\":{\"tuneUrl\":\"https://yandex.ru/tune/geo/?retpath=https%3A%2F%2Fyandex.ru%2F%3Fdomredir%3D1\\\\u0026amp;nosync=1\"},\"i-sw-reporter\":{\"on\":1},\"hidden-blocks-popup\":{\"changeUrl\":\"https://yandex.ru/portal/blocks/change?sk=yf9ac971306383040237d86df88298cf4\",\"blocks\":[{\"layoutName\":\"afisha_inserts\",\"isHidden\":false,\"title\":\"\\xd0\\x90\\xd1\\x84\\xd0\\xb8\\xd1\\x88\\xd0\\xb0\",\"desc\":\"\\xd0\\xa0\\xd0\\xb0\\xd1\\x81\\xd0\\xbf\\xd0\\xb8\\xd1\\x81\\xd0\\xb0\\xd0\\xbd\\xd0\\xb8\\xd0\\xb5 \\xd1\\x80\\xd0\\xb0\\xd0\\xb7\\xd0\\xb2\\xd0\\xbb\\xd0\\xb5\\xd1\\x87\\xd0\\xb5\\xd0\\xbd\\xd0\\xb8\\xd0\\xb9 \\xd0\\xb2 \\xd0\\xb2\\xd0\\xb0\\xd1\\x88\\xd0\\xb5\\xd0\\xbc \\xd0\\xb3\\xd0\\xbe\\xd1\\x80\\xd0\\xbe\\xd0\\xb4\\xd0\\xb5\"},{\"layoutName\":\"collections\",\"isHidden\":false,\"title\":\"\\xd0\\x9a\\xd0\\xbe\\xd0\\xbb\\xd0\\xbb\\xd0\\xb5\\xd0\\xba\\xd1\\x86\\xd0\\xb8\\xd0\\xb8\",\"desc\":\"\\xd0\\x98\\xd0\\xb4\\xd0\\xb5\\xd0\\xb8 \\xd0\\xb4\\xd0\\xbb\\xd1\\x8f \\xd0\\xb2\\xd0\\xb4\\xd0\\xbe\\xd1\\x85\\xd0\\xbd\\xd0\\xbe\\xd0\\xb2\\xd0\\xb5\\xd0\\xbd\\xd0\\xb8\\xd1\\x8f\"},{\"layoutName\":\"games\",\"isHidden\":false,\"title\":\"\\xd0\\x98\\xd0\\xb3\\xd1\\x80\\xd1\\x8b\",\"desc\":\"\\xd0\\x9a\\xd0\\xb0\\xd1\\x82\\xd0\\xb0\\xd0\\xbb\\xd0\\xbe\\xd0\\xb3 \\xd0\\xb1\\xd1\\x80\\xd0\\xb0\\xd1\\x83\\xd0\\xb7\\xd0\\xb5\\xd1\\x80\\xd0\\xbd\\xd1\\x8b\\xd1\\x85 \\xd0\\xb8\\xd0\\xb3\\xd1\\x80\"},{\"layoutName\":\"news_inserts\",\"isHidden\":false,\"title\":\"\\xd0\\x9d\\xd0\\xbe\\xd0\\xb2\\xd0\\xbe\\xd1\\x81\\xd1\\x82\\xd0\\xb8\",\"desc\":\"\\xd0\\x9f\\xd0\\xb5\\xd1\\x80\\xd1\\x81\\xd0\\xbe\\xd0\\xbd\\xd0\\xb0\\xd0\\xbb\\xd1\\x8c\\xd0\\xbd\\xd0\\xb0\\xd1\\x8f \\xd0\\xbf\\xd0\\xbe\\xd0\\xb4\\xd0\\xb1\\xd0\\xbe\\xd1\\x80\\xd0\\xba\\xd0\\xb0 \\xd0\\xbc\\xd0\\xb0\\xd1\\x82\\xd0\\xb5\\xd1\\x80\\xd0\\xb8\\xd0\\xb0\\xd0\\xbb\\xd0\\xbe\\xd0\\xb2 \\xd0\\xa1\\xd0\\x9c\\xd0\\x98\"},{\"layoutName\":\"zen\",\"isHidden\":false,\"title\":\"\\xd0\\x94\\xd0\\xb7\\xd0\\xb5\\xd0\\xbd\",\"desc\":\"\\xd0\\xbf\\xd0\\xb5\\xd1\\x80\\xd1\\x81\\xd0\\xbe\\xd0\\xbd\\xd0\\xb0\\xd0\\xbb\\xd1\\x8c\\xd0\\xbd\\xd0\\xb0\\xd1\\x8f \\xd0\\xbb\\xd0\\xb5\\xd0\\xbd\\xd1\\x82\\xd0\\xb0 \\xd0\\xbf\\xd1\\x83\\xd0\\xb1\\xd0\\xbb\\xd0\\xb8\\xd0\\xba\\xd0\\xb0\\xd1\\x86\\xd0\\xb8\\xd0\\xb9\"}]},\"messenger\":{\"data\":{\"unreadUrl\":\"https://yandex.ru/messenger/api/unread_count\",\"url\":\"https://yastatic.net/s3/chat/1.9.0/widget_ya.js\",\"theme\":\"light\"}},\"geohelper\":{\"disabled\":false},\"inline-stocks\":{\"xivas\":[{\"ch\":\"XDATA.stocks_2002_10000\",\"ts\":1569492239},{\"ch\":\"XDATA.stocks_2000_10000\",\"ts\":1569492237},{\"ch\":\"XDATA.stocks_1006_10000\",\"ts\":1569492240}],\"alts\":{\"1006\":\"\\xd1\\x86\\xd0\\xb5\\xd0\\xbd\\xd0\\xb0 \\xd0\\xbd\\xd0\\xb0 %d %t\",\"2000\":\"\\xd0\\xba\\xd1\\x83\\xd1\\x80\\xd1\\x81 MOEX \\xd0\\xbd\\xd0\\xb0 %d %t \\xd0\\xbc\\xd1\\x81\\xd0\\xba\",\"2002\":\"\\xd0\\xba\\xd1\\x83\\xd1\\x80\\xd1\\x81 MOEX \\xd0\\xbd\\xd0\\xb0 %d %t \\xd0\\xbc\\xd1\\x81\\xd0\\xba\"}},\"widgets\":{\"alt\":1},\"home-tabs\":{\"additionalTabs\":{\"top\":[{\"id\":\"avia\",\"href\":\"//avia.yandex.ru/?utm_source=yamain\\\\u0026utm_medium=popup\\\\u0026utm_campaign=allmordaru\",\"title\":\"\\xd0\\x90\\xd0\\xb2\\xd0\\xb8\\xd0\\xb0\\xd0\\xb1\\xd0\\xb8\\xd0\\xbb\\xd0\\xb5\\xd1\\x82\\xd1\\x8b\"},{\"id\":\"autoru\",\"href\":\"https://auto.ru/?from=tab-yandex-glavnaya\",\"title\":\"\\xd0\\x90\\xd0\\xb2\\xd1\\x82\\xd0\\xbe.\\xd1\\x80\\xd1\\x83\"},{\"id\":\"afisha\",\"href\":\"https://afisha.yandex.ru/\",\"title\":\"\\xd0\\x90\\xd1\\x84\\xd0\\xb8\\xd1\\x88\\xd0\\xb0\"},{\"id\":\"money\",\"href\":\"https://money.yandex.ru/\",\"title\":\"\\xd0\\x94\\xd0\\xb5\\xd0\\xbd\\xd1\\x8c\\xd0\\xb3\\xd0\\xb8\"},{\"id\":\"disk\",\"href\":\"https://disk.yandex.ru/\",\"title\":\"\\xd0\\x94\\xd0\\xb8\\xd1\\x81\\xd0\\xba\"},{\"id\":\"trains\",\"href\":\"https://travel.yandex.ru/trains?utm_source=yamain\\\\u0026utm_medium=popup\\\\u0026utm_campaign=main\",\"title\":\"\\xd0\\x96/\\xd0\\xb4 \\xd0\\xb1\\xd0\\xb8\\xd0\\xbb\\xd0\\xb5\\xd1\\x82\\xd1\\x8b\"},{\"id\":\"znatoki\",\"href\":\"https://yandex.ru/znatoki?utm_source=yandex\\\\u0026utm_medium=morda_tab\",\"title\":\"\\xd0\\x97\\xd0\\xbd\\xd0\\xb0\\xd1\\x82\\xd0\\xbe\\xd0\\xba\\xd0\\xb8\"},{\"id\":\"kinopoisk_old\",\"href\":\"https://kinopoisk.ru/\",\"title\":\"\\xd0\\x9a\\xd0\\xb8\\xd0\\xbd\\xd0\\xbe\\xd0\\xbf\\xd0\\xbe\\xd0\\xb8\\xd1\\x81\\xd0\\xba\"},{\"id\":\"collections\",\"href\":\"https://yandex.ru/collections/\",\"title\":\"\\xd0\\x9a\\xd0\\xbe\\xd0\\xbb\\xd0\\xbb\\xd0\\xb5\\xd0\\xba\\xd1\\x86\\xd0\\xb8\\xd0\\xb8\"},{\"id\":\"realty\",\"href\":\"//realty.yandex.ru/?from=morda_tab\",\"title\":\"\\xd0\\x9d\\xd0\\xb5\\xd0\\xb4\\xd0\\xb2\\xd0\\xb8\\xd0\\xb6\\xd0\\xb8\\xd0\\xbc\\xd0\\xbe\\xd1\\x81\\xd1\\x82\\xd1\\x8c\"},{\"id\":\"pogoda\",\"href\":\"https://yandex.ru/pogoda\",\"search\":\"https://yandex.ru/pogoda/search?request=%s\",\"title\":\"\\xd0\\x9f\\xd0\\xbe\\xd0\\xb3\\xd0\\xbe\\xd0\\xb4\\xd0\\xb0\"},{\"id\":\"mail\",\"href\":\"https://mail.yandex.ru/\",\"title\":\"\\xd0\\x9f\\xd0\\xbe\\xd1\\x87\\xd1\\x82\\xd0\\xb0\"},{\"id\":\"traffic\",\"href\":\"https://yandex.ru/maps/probki\",\"search\":\"https://yandex.ru/maps?text=%s\",\"title\":\"\\xd0\\x9f\\xd1\\x80\\xd0\\xbe\\xd0\\xb1\\xd0\\xba\\xd0\\xb8\"},{\"id\":\"travel\",\"href\":\"https://travel.yandex.ru/?eeom=morda\\\\u0026utm_source=yandex_morda_tab\\\\u0026utm_medium=cpm\\\\u0026utm_campaign=yandex\\\\u0026utm_content=tab_exp\",\"title\":\"\\xd0\\x9f\\xd1\\x83\\xd1\\x82\\xd0\\xb5\\xd1\\x88\\xd0\\xb5\\xd1\\x81\\xd1\\x82\\xd0\\xb2\\xd0\\xb8\\xd1\\x8f\"},{\"id\":\"rabota\",\"href\":\"https://rabota.yandex.ru/\",\"search\":\"https://rabota.yandex.ru/search.xml/?text=%s\",\"title\":\"\\xd0\\xa0\\xd0\\xb0\\xd0\\xb1\\xd0\\xbe\\xd1\\x82\\xd0\\xb0\"},{\"id\":\"rasp\",\"href\":\"https://rasp.yandex.ru/?utm_source=yamain\\\\u0026utm_medium=popup\\\\u0026utm_campaign=main\",\"title\":\"\\xd0\\xa0\\xd0\\xb0\\xd1\\x81\\xd0\\xbf\\xd0\\xb8\\xd1\\x81\\xd0\\xb0\\xd0\\xbd\\xd0\\xb8\\xd1\\x8f\"},{\"id\":\"tv\",\"href\":\"https://tv.yandex.ru/\",\"title\":\"\\xd0\\xa2\\xd0\\xb5\\xd0\\xbb\\xd0\\xb5\\xd0\\xbf\\xd1\\x80\\xd0\\xbe\\xd0\\xb3\\xd1\\x80\\xd0\\xb0\\xd0\\xbc\\xd0\\xbc\\xd0\\xb0\"},{\"id\":\"uslugi\",\"href\":\"https://yandex.ru/uslugi?utm_source=yamain\\\\u0026utm_medium=popup\\\\u0026utm_campaign=main\",\"title\":\"\\xd0\\xa3\\xd1\\x81\\xd0\\xbb\\xd1\\x83\\xd0\\xb3\\xd0\\xb8\"}],\"bottom\":[{\"id\":\"mobile\",\"href\":\"//mobile.yandex.ru/?from=desktop_morda_more\",\"title\":\"\\xd0\\x94\\xd0\\xbb\\xd1\\x8f\\\\u0026nbsp;\\xd0\\xbc\\xd0\\xbe\\xd0\\xb1\\xd0\\xb8\\xd0\\xbb\\xd1\\x8c\\xd0\\xbd\\xd0\\xbe\\xd0\\xb3\\xd0\\xbe\"},{\"id\":\"soft\",\"href\":\"https://yandex.ru/soft/?from=prov_all\",\"title\":\"\\xd0\\x9f\\xd1\\x80\\xd0\\xbe\\xd0\\xb3\\xd1\\x80\\xd0\\xb0\\xd0\\xbc\\xd0\\xbc\\xd1\\x8b\"},{\"id\":\"all\",\"href\":\"//yandex.ru/all\",\"title\":\"\\xd0\\x92\\xd1\\x81\\xd0\\xb5\\\\u0026nbsp;\\xd1\\x81\\xd0\\xb5\\xd1\\x80\\xd0\\xb2\\xd0\\xb8\\xd1\\x81\\xd1\\x8b\"}]}},\"stream\":{\"stream\":{\"disabled\":true}}};home.dataCallbacks&&home.dataCallbacks.forEach(function(callback){callback();});</script><script src=\"//yastatic.net/jquery/2.1.4/jquery.min.js\" crossorigin=\"anonymous\"></script><script src=\"//yastatic.net/s3/home-static/_/V/u/m2Z4cjxO38SF2amk1maIy6Hvk.js\" crossorigin=\"anonymous\"></script><script>BEM.DOM.scope=$(\\'body\\');Lego.init({\"locale\":\"ru\",\"geohelperHost\":\"yandex.ru\",\"geoid\":\"10393\",\"mailHost\":\"https://mail.yandex.ru/\",\"mordaZone\":\"ru\",\"msid\":\"1569493369.47416.139808.274790\",\"mda-auth-url\":\"https://yandex.ru/portal/set/any/?sk=yf9ac971306383040237d86df88298cf4&mda=0&empty=1\",\"social-host\":\"//social.yandex.ru\",\"social-retpath\":\"https://yandex.ru/i-social__closer.html\",\"social-providers\":\"[{\\\\\"code\\\\\":\\\\\"vk\\\\\",\\\\\"id\\\\\":\\\\\"1\\\\\",\\\\\"display_name\\\\\":\\\\\"\\xd0\\x92\\xd0\\x9a\\xd0\\xbe\\xd0\\xbd\\xd1\\x82\\xd0\\xb0\\xd0\\xba\\xd1\\x82\\xd0\\xb5\\\\\",\\\\\"primary\\\\\":1,\\\\\"enabled\\\\\":1},{\\\\\"code\\\\\":\\\\\"fb\\\\\",\\\\\"id\\\\\":\\\\\"2\\\\\",\\\\\"display_name\\\\\":\\\\\"Facebook\\\\\",\\\\\"primary\\\\\":1,\\\\\"enabled\\\\\":1},{\\\\\"code\\\\\":\\\\\"tw\\\\\",\\\\\"enabled\\\\\":1,\\\\\"display_name\\\\\":\\\\\"Twitter\\\\\",\\\\\"id\\\\\":\\\\\"3\\\\\",\\\\\"primary\\\\\":1},{\\\\\"enabled\\\\\":1,\\\\\"display_name\\\\\":\\\\\"Mail.ru\\\\\",\\\\\"primary\\\\\":0,\\\\\"id\\\\\":\\\\\"4\\\\\",\\\\\"code\\\\\":\\\\\"mr\\\\\"},{\\\\\"code\\\\\":\\\\\"gg\\\\\",\\\\\"enabled\\\\\":1,\\\\\"display_name\\\\\":\\\\\"Google\\\\\",\\\\\"primary\\\\\":0,\\\\\"id\\\\\":\\\\\"5\\\\\"},{\\\\\"code\\\\\":\\\\\"ok\\\\\",\\\\\"id\\\\\":\\\\\"6\\\\\",\\\\\"display_name\\\\\":\\\\\"\\xd0\\x9e\\xd0\\xb4\\xd0\\xbd\\xd0\\xbe\\xd0\\xba\\xd0\\xbb\\xd0\\xb0\\xd1\\x81\\xd1\\x81\\xd0\\xbd\\xd0\\xb8\\xd0\\xba\\xd0\\xb8\\\\\",\\\\\"primary\\\\\":0,\\\\\"enabled\\\\\":1}]\",\"social-sprites\":{\"16\":\"//yastatic.net/social/current/sprites/ico-16.png\"},\"lego-static-host\":\"//yastatic.net/lego/2.10-169/\",\"retpath\":\"https://mail.yandex.ru/\",\"statRoot\":\"\",\"statEnabled\":false,\"click-host\":\"//yandex.ru/clck\",\"click-href\":\"https://yandex.ru/clck/\",\"keyboard-path\":\"//yastatic.net/s3/home-static/2.2249/common/blocks/\",\"reqid\":\"1569493369.47416.139808.274790\"});BEM.channel(\\'i-bem\\').trigger(\\'start-init\\');BEM.DOM.init(function() {BEM.channel(\\'i-bem\\').trigger(\\'init\\');});</script><div class=\"resources__bem-init-wrapper\"><script>getcss(\\'//yastatic.net/s3/home-static/_/A/k/W9JtI-hj64K31HYXAbo98XybY.css\\');</script><noscript><link type=\"text/css\" rel=\"stylesheet\" href=\"//yastatic.net/s3/home-static/_/A/k/W9JtI-hj64K31HYXAbo98XybY.css\"></noscript><script>var cb=function(){if(!home.disabledLS&&home&&home.getData){var a=home.localStorage,e=home.getData(\"i-yandexuid.data\")||{},l=e.cb_url,s=function(e){if(e.ls){var s,o,t=\"yandexuid\"===e.ls.key?\"yu\":e.ls.key,d=e.ls.value,i=a.getItem(t)||null,n=(s=e.ls.key,(o=document.cookie.match(new RegExp(s+\"=(\\\\\\\\d+)\")))&&o[1]);if(i&&e.prefix+n!==i.split(\":\")[0]||e.ls.force||!n){var u=e.ls;u.old=n,e.ls.force||(u.value=i),$.ajax({url:l,data:u,type:\"POST\",dataType:\"json\",crossDomain:!0,xhrFields:{withCredentials:!0},success:function(e){e.jsmda_url&&BEM&&BEM.blocks&&BEM.blocks[\"i-mda-auth\"]&&(window.Lego||(window.Lego={}),window.Lego.params||(window.Lego.params={}),Lego.params[\"mda-auth-url\"]=e.jsmda_url,BEM.blocks[\"i-mda-auth\"].authenticate()),e.clean_ls&&a.setItem(t,\"\"),e.update_ls&&a.setItem(t,d)}})}else a.setItem(t,d)}};!e.ls&&e.ls_data_url?$.ajax({dataType:\"jsonp\",url:e.ls_data_url}).then(function(a){e.ls=a,s(e)}):s(e)}};\"home\"in window&&home.loadManager?home.loadManager.subscribe(\"js\",cb):$(cb);</script><script>BEM && BEM.blocks[\\'i-mda-auth\\'] && BEM.blocks[\\'i-mda-auth\\'].authenticate(function(){});</script><script>!function(){\"use strict\";\"undefined\"!=typeof window?window:\"undefined\"!=typeof global?global:\"undefined\"!=typeof self&&self;var e,i=(function(e,t){var u,p,o,m,w,i;e.exports=(u=\"sans-serif\",p=\"serif\",o={tolerance:2,delay:100,glyphs:\"\",success:function(){},error:function(){},timeout:5e3,weight:\"400\",style:\"normal\",window:window},m=[\"display:block\",\"position:absolute\",\"top:-999px\",\"left:-999px\",\"font-size:48px\",\"width:auto\",\"height:auto\",\"line-height:normal\",\"margin:0\",\"padding:0\",\"font-variant:normal\",\"white-space:nowrap\"],w=\\'<div style=\"%s\" aria-hidden=\"true\">AxmTYklsjo190QW</div>\\',(i=function(){this.fontFamily=\"\",this.appended=!1,this.serif=void 0,this.sansSerif=void 0,this.parent=void 0,this.options={}}).prototype.getMeasurements=function(){return{sansSerif:{width:this.sansSerif.offsetWidth,height:this.sansSerif.offsetHeight},serif:{width:this.serif.offsetWidth,height:this.serif.offsetHeight}}},i.prototype.load=function(){var t,n=new Date,i=this,o=i.serif,s=i.sansSerif,a=i.parent,r=i.appended,f=i.options,c=f.reference;function e(e){return m.concat([\"font-weight:\"+f.weight,\"font-style:\"+f.style]).concat(\"font-family:\"+e).join(\";\")}var d=w.replace(/\\\\%s/,e(u)),l=w.replace(/\\\\%s/,e(p));function h(e,t,n){return Math.abs(e.width-t.offsetWidth)>n||Math.abs(e.height-t.offsetHeight)>n}a||(a=i.parent=f.window.document.createElement(\"div\")),a.innerHTML=d+l,s=i.sansSerif=a.firstChild,o=i.serif=s.nextSibling,f.glyphs&&(s.innerHTML+=f.glyphs,o.innerHTML+=f.glyphs),function e(){c||(c=f.window.document.body),!r&&c&&(c.appendChild(a),r=i.appended=!0,t=i.getMeasurements(),s.style.fontFamily=i.fontFamily+\", \"+u,o.style.fontFamily=i.fontFamily+\", \"+p),r&&t&&(h(t.sansSerif,s,f.tolerance)||h(t.serif,o,f.tolerance))?f.success():(new Date).getTime()-n.getTime()>f.timeout?f.error():!r&&\"requestAnimationFrame\"in f.window?f.window.requestAnimationFrame(e):f.window.setTimeout(e,f.delay)}()},i.prototype.cleanFamilyName=function(e){return e.replace(/[\\\\\\'\\\\\"]/g,\"\").toLowerCase()},i.prototype.cleanWeight=function(e){return\"\"+({normal:\"400\",bold:\"700\"}[e]||e)},i.prototype.checkFontFaces=function(t){var n=this;n.options.window.document.fonts.forEach(function(e){n.cleanFamilyName(e.family)===n.cleanFamilyName(n.fontFamily)&&n.cleanWeight(e.weight)===n.cleanWeight(n.options.weight)&&e.style===n.options.style&&e.load().then(function(){n.options.success(e),n.options.window.clearTimeout(t)})})},i.prototype.init=function(e,t){var n;for(var i in o)t.hasOwnProperty(i)||(t[i]=o[i]);this.options=t,this.fontFamily=e,!t.glyphs&&\"fonts\"in t.window.document?(t.timeout&&(n=t.window.setTimeout(function(){t.error()},t.timeout)),this.checkFontFaces(n)):this.load()},function(e,t){var n=new i;return n.init(e,t),n})}(e={exports:{}},e.exports),e.exports),t=\"YSv1\";function n(){document.documentElement.className+=\" font_loaded\"}var o,s,a=\"hidden\",r=\"\";function f(){var e;e=t,document.cookie=\"font_loaded=\"+e+\"; path=/; Max-Age=315360000\",function(){for(var e,t=[\"\",\"moz\",\"webkit\",\"ms\"],n=0;n<t.length;n++)if((e=t[n])&&(a=e+\"Hidden\"),a in document)return r=e+\"visibilitychange\",!0}()&&(document[a]?n():document.addEventListener(r,c))}function c(){document[a]&&(n(),document.removeEventListener(r,c))}o=document.cookie,((s=o.match(new RegExp(\"(?:^|; )\"+\"font_loaded\".replace(/([\\\\.$?*|{}\\\\(\\\\)\\\\[\\\\]\\\\\\\\\\\\/\\\\+^])/g,\"\\\\\\\\$1\")+\"=([^;]*)\")))?s[1]:void 0)===t?n():function(){for(var e=[{weight:400},{weight:500},{weight:700}],t=0,n=0;n<e.length;++n)i(\"YS Text\",{weight:e[n].weight,timeout:1e4,success:function(){++t===e.length&&f()}})}()}();\\n</script><script>AwapsJsonAPI.Json.prototype.sendCounts({\"stat_delay_sec\":2,\"bnCounts\":[\"https://awaps.yandex.net/99/c1/tx21lszVAoU5vGvVMTT5HdZERv2r9iSDrNklH+KEivNHhTuBiTO3tKarderqf_tPQRryjJ16-yO4jiU3q3iSp9Tymqf7OiMZlOzRSK97IllSSjSI51pU6MEULP8_tX2ujlTQaUpub1lfAuUPNjpFmLpz5g9KEE3aYrQM4VSvTKjnz5F4NAfwLatAl_t+VghGeSAQNJWhR6dNovS9wED6b6vF5L7Ag7WXSr7x4GcsBG17BkRpbZf7whU_t69+nBTwU2zjHif1b2cwK21shMRnAAFra5Dv23-xfYAodfTstX-vNEyThMk6e_fqf9zxZD5RJxXTyKxYkQmGIVyNDZQzmkzh44JH5lxuwAA_A_.gif?locale=ru&morda_rid=1569493369.47416.139808.274790&pageview_id=1569493369.47416.139808.274790&slots=171253%2C0%2C54%3B170197%2C0%2C16%3B167875%2C0%2C47%3B171247%2C0%2C63%3B63207%2C0%2C23%3B168305%2C0%2C22\"],\"win_notice\":[\"\"]});</script></div><script>BEM.DOM.init($(\".resources__bem-init-wrapper\"));</script><script src=\"https://mc.yandex.ru/metrika/watch.js\"  type=\"text/javascript\"></script><script type=\"text/javascript\">!function(t){\"use strict\";try{var e=[{\"id\":722545,\"accurateTrackBounce\":10000,\"trackLinks\":true,\"experiments\":\"zfIMd6ph0a1JB0sKpmIXfzOBi08X2ueWpHQJ3EWtEHf6nqm1TbZOr_xbkfM8Z7Rc3lOACqmEWhZBmweb8CfLm-ESCpx9Xyxf\"}];t.metrikaCounterInstances={};for(var r=0;r<e.length;r++){var a=e[r],n=t[\"yaCounter\"+a.id]=new Ya.Metrika(a);r||(t.defaultMetrikaCounter=n),t.metrikaCounterInstances[a.id]=n}}catch(i){}}(window);</script><noscript><img class=\"image a11y-hidden\" src=\"https://mc.yandex.ru/watch/722545\"/></noscript><script>(function(d){var s=d.visibilityState;if(s&&s!==\"visible\"){d.addEventListener(\"visibilitychange\",function c(){if(d.visibilityState===\"visible\"){d.removeEventListener(\"visibilitychange\",c,false);i()}},false)}else{i()}function i(){(new Image).src=\"https://yabs.yandex.ru/count/GWVxtzSc3zC50Eu0488GCNcHZ5q00000EDgD5F02liA6-mFm1G6W1im1oGPvMRFaSF4wBj46UUteMt7nEYxP1W00053E0000gGUDZioBX-TcJe0A0OWA0QeB46AXkzQDZW00IsB49dAJ1G302u2Z1SWBWDIJ0V0B1U0D0fWE-RBDfOwkl9qku0y1a12MlFBbvl60rNRu41A04H284G6G4GEe4S24FVeH6Gq000005G00000T000002K00000BG00003f4cVIDv3qOqB_y18IY1C5a1Dam1F___________y1sXCA200G01W0800e0000=KENP3Ca0G0H85c2y4d36-vE73f01kEp5s2sO0RZinTWjk076-vE73jW1sh_F2kW1g0Am0mAe1im1i0U0W9Wiq0S2yGS0000000000FW70O080T08W8Y0WO20W8200O0A0S4A00000000y3_O2WBW2e29UjaBZOxCYuVdPaxe31k93W0000000F0_a0x0X3sW3i24FQ4F00000000y3_P3m0000000F0_W13jtwS5o108g170X3s84W6G4W7f4cVIDv3qOqB_c1C1?wmode=0\"}})(document);</script><noscript><img src=\"https://yabs.yandex.ru/count/GWVxtzSc3zC50Eu0488GCNcHZ5q00000EDgD5F02liA6-mFm1G6W1im1oGPvMRFaSF4wBj46UUteMt7nEYxP1W00053E0000gGUDZioBX-TcJe0A0OWA0QeB46AXkzQDZW00IsB49dAJ1G302u2Z1SWBWDIJ0V0B1U0D0fWE-RBDfOwkl9qku0y1a12MlFBbvl60rNRu41A04H284G6G4GEe4S24FVeH6Gq000005G00000T000002K00000BG00003f4cVIDv3qOqB_y18IY1C5a1Dam1F___________y1sXCA200G01W0800e0000=KENP3Ca0G0H85c2y4d36-vE73f01kEp5s2sO0RZinTWjk076-vE73jW1sh_F2kW1g0Am0mAe1im1i0U0W9Wiq0S2yGS0000000000FW70O080T08W8Y0WO20W8200O0A0S4A00000000y3_O2WBW2e29UjaBZOxCYuVdPaxe31k93W0000000F0_a0x0X3sW3i24FQ4F00000000y3_P3m0000000F0_W13jtwS5o108g170X3s84W6G4W7f4cVIDv3qOqB_c1C1?wmode=0\" style=\"display:none;position:absolute;\"/></noscript><!--noindex--><div style=\"display:none\" class=\"page-info\">{&quot;static&quot;:&quot;2.2249&quot;,&quot;skins&quot;:&quot;1.627&quot;}</div><!--/noindex--><!--vla1-9634-663-vla-portal-morda-31387.gencfg-c.yandex.net--></body></html>'"
      ]
     },
     "execution_count": 13,
     "metadata": {},
     "output_type": "execute_result"
    }
   ],
   "source": [
    "from urllib.request import urlopen\n",
    "def read_data(name):\n",
    "    if name.startswith(('http:', 'https:', 'ftp:')):\n",
    "        return urlopen(name).read()\n",
    "    else:\n",
    "        with open(name) as f:\n",
    "            return f.read()\n",
    "read_data('https://yandex.ru')"
   ]
  },
  {
   "cell_type": "code",
   "execution_count": 17,
   "metadata": {},
   "outputs": [
    {
     "ename": "TypeError",
     "evalue": "startswith first arg must be str or a tuple of str, not list",
     "output_type": "error",
     "traceback": [
      "\u001b[1;31m---------------------------------------------------------------------------\u001b[0m",
      "\u001b[1;31mTypeError\u001b[0m                                 Traceback (most recent call last)",
      "\u001b[1;32m<ipython-input-17-25e4786c96e2>\u001b[0m in \u001b[0;36m<module>\u001b[1;34m()\u001b[0m\n\u001b[0;32m      1\u001b[0m \u001b[0mchoices\u001b[0m \u001b[1;33m=\u001b[0m \u001b[1;33m[\u001b[0m\u001b[1;34m'http:'\u001b[0m\u001b[1;33m,\u001b[0m \u001b[1;34m'ftp:'\u001b[0m\u001b[1;33m]\u001b[0m\u001b[1;33m\u001b[0m\u001b[0m\n\u001b[0;32m      2\u001b[0m \u001b[0murl\u001b[0m \u001b[1;33m=\u001b[0m \u001b[1;34m'http://www.python.org'\u001b[0m\u001b[1;33m\u001b[0m\u001b[0m\n\u001b[1;32m----> 3\u001b[1;33m \u001b[0murl\u001b[0m\u001b[1;33m.\u001b[0m\u001b[0mstartswith\u001b[0m\u001b[1;33m(\u001b[0m\u001b[0mchoices\u001b[0m\u001b[1;33m)\u001b[0m\u001b[1;33m\u001b[0m\u001b[0m\n\u001b[0m",
      "\u001b[1;31mTypeError\u001b[0m: startswith first arg must be str or a tuple of str, not list"
     ]
    }
   ],
   "source": [
    "choices = ['http:', 'ftp:']\n",
    "url = 'http://www.python.org'\n",
    "url.startswith(choices)"
   ]
  },
  {
   "cell_type": "code",
   "execution_count": 18,
   "metadata": {},
   "outputs": [
    {
     "data": {
      "text/plain": [
       "True"
      ]
     },
     "execution_count": 18,
     "metadata": {},
     "output_type": "execute_result"
    }
   ],
   "source": [
    "url.startswith(tuple(choices))"
   ]
  },
  {
   "cell_type": "code",
   "execution_count": 19,
   "metadata": {},
   "outputs": [
    {
     "data": {
      "text/plain": [
       "True"
      ]
     },
     "execution_count": 19,
     "metadata": {},
     "output_type": "execute_result"
    }
   ],
   "source": [
    "#через срезы\n",
    "filename = 'spam.txt'\n",
    "filename[-4:] == '.txt'"
   ]
  },
  {
   "cell_type": "code",
   "execution_count": 20,
   "metadata": {},
   "outputs": [
    {
     "data": {
      "text/plain": [
       "True"
      ]
     },
     "execution_count": 20,
     "metadata": {},
     "output_type": "execute_result"
    }
   ],
   "source": [
    "url = 'http://www.python.org'\n",
    "url[:5] == 'http:' or url[:6] == 'https:' or url[:4] == 'ftp:'"
   ]
  },
  {
   "cell_type": "code",
   "execution_count": 21,
   "metadata": {},
   "outputs": [
    {
     "data": {
      "text/plain": [
       "<re.Match object; span=(0, 5), match='http:'>"
      ]
     },
     "execution_count": 21,
     "metadata": {},
     "output_type": "execute_result"
    }
   ],
   "source": [
    "#через регулярные выражения\n",
    "import re\n",
    "url = 'http://www.python.org'\n",
    "re.match('http:|https:|ftp:', url)"
   ]
  },
  {
   "cell_type": "markdown",
   "metadata": {},
   "source": [
    "# Поиск строк с использованием масок оболочки(shell)"
   ]
  },
  {
   "cell_type": "code",
   "execution_count": null,
   "metadata": {},
   "outputs": [],
   "source": [
    "#Вы хотите найти текст, используя те же маски, которые обычно применяются \n",
    "#в оболочках Unix(*.py, Dat[0-9]*.csv)\n"
   ]
  },
  {
   "cell_type": "code",
   "execution_count": 4,
   "metadata": {},
   "outputs": [
    {
     "data": {
      "text/plain": [
       "True"
      ]
     },
     "execution_count": 4,
     "metadata": {},
     "output_type": "execute_result"
    }
   ],
   "source": [
    "from fnmatch import fnmatch, fnmatchcase\n",
    "fnmatch('foo.txt', '*.txt')"
   ]
  },
  {
   "cell_type": "code",
   "execution_count": 5,
   "metadata": {},
   "outputs": [
    {
     "data": {
      "text/plain": [
       "True"
      ]
     },
     "execution_count": 5,
     "metadata": {},
     "output_type": "execute_result"
    }
   ],
   "source": [
    "fnmatch('foo.txt', '?oo.txt')"
   ]
  },
  {
   "cell_type": "code",
   "execution_count": 6,
   "metadata": {},
   "outputs": [
    {
     "data": {
      "text/plain": [
       "True"
      ]
     },
     "execution_count": 6,
     "metadata": {},
     "output_type": "execute_result"
    }
   ],
   "source": [
    "fnmatch('Dat45.csv', 'Dat[0-9]*')"
   ]
  },
  {
   "cell_type": "code",
   "execution_count": 7,
   "metadata": {},
   "outputs": [
    {
     "data": {
      "text/plain": [
       "['Dat1.csv', 'Dat2.csv']"
      ]
     },
     "execution_count": 7,
     "metadata": {},
     "output_type": "execute_result"
    }
   ],
   "source": [
    "names = ['Dat1.csv', 'Dat2.csv', 'config.ini', 'foo.py']\n",
    "[name for name in names if fnmatch(name, 'Dat*.csv')]"
   ]
  },
  {
   "cell_type": "code",
   "execution_count": null,
   "metadata": {},
   "outputs": [],
   "source": [
    "#по умолчанию fnmatch() использует те же чувствительные к регистру правила, \n",
    "#что и файловая система текущей операционной системы(правила меняются от системы к системе)"
   ]
  },
  {
   "cell_type": "code",
   "execution_count": 8,
   "metadata": {},
   "outputs": [
    {
     "data": {
      "text/plain": [
       "True"
      ]
     },
     "execution_count": 8,
     "metadata": {},
     "output_type": "execute_result"
    }
   ],
   "source": [
    "fnmatch('foo.txt', '*.TXT')"
   ]
  },
  {
   "cell_type": "code",
   "execution_count": null,
   "metadata": {},
   "outputs": [],
   "source": [
    "#если это различие важно, используйте метод fnmatchcase()\n",
    "#он ищет такие совпадения заглавных и строчных букв, которые вы предоставите"
   ]
  },
  {
   "cell_type": "code",
   "execution_count": 9,
   "metadata": {},
   "outputs": [
    {
     "data": {
      "text/plain": [
       "False"
      ]
     },
     "execution_count": 9,
     "metadata": {},
     "output_type": "execute_result"
    }
   ],
   "source": [
    "fnmatchcase('foo.txt', '*.TXT')"
   ]
  },
  {
   "cell_type": "code",
   "execution_count": 11,
   "metadata": {},
   "outputs": [],
   "source": [
    "addresses = [\n",
    "    '5412 N CLARK ST',\n",
    "    '1060 W ADDISON ST',\n",
    "    '1039 W GRANVILLE AVE',\n",
    "    '2122 N CLARK ST',\n",
    "    '4802 N BROADWAY'\n",
    "]"
   ]
  },
  {
   "cell_type": "code",
   "execution_count": 12,
   "metadata": {},
   "outputs": [
    {
     "data": {
      "text/plain": [
       "['5412 N CLARK ST', '1060 W ADDISON ST', '2122 N CLARK ST']"
      ]
     },
     "execution_count": 12,
     "metadata": {},
     "output_type": "execute_result"
    }
   ],
   "source": [
    "from fnmatch import fnmatchcase\n",
    "[addr for addr in addresses if fnmatchcase(addr, '*ST')]"
   ]
  },
  {
   "cell_type": "code",
   "execution_count": 14,
   "metadata": {},
   "outputs": [
    {
     "data": {
      "text/plain": [
       "['5412 N CLARK ST']"
      ]
     },
     "execution_count": 14,
     "metadata": {},
     "output_type": "execute_result"
    }
   ],
   "source": [
    "[addr for addr in addresses if fnmatchcase(addr, '54[0-9][0-9] *CLARK*')]"
   ]
  },
  {
   "cell_type": "markdown",
   "metadata": {},
   "source": [
    "# Поиск совпадений и поиск текстовых паттернов"
   ]
  },
  {
   "cell_type": "code",
   "execution_count": null,
   "metadata": {},
   "outputs": [],
   "source": [
    "#отыскать сопадение или провести поиск по определенному шаблону"
   ]
  },
  {
   "cell_type": "code",
   "execution_count": 1,
   "metadata": {},
   "outputs": [
    {
     "data": {
      "text/plain": [
       "False"
      ]
     },
     "execution_count": 1,
     "metadata": {},
     "output_type": "execute_result"
    }
   ],
   "source": [
    "text = 'yeah, but no, but yeah, but no, but yeah'\n",
    "text == 'yeah'"
   ]
  },
  {
   "cell_type": "code",
   "execution_count": 2,
   "metadata": {},
   "outputs": [
    {
     "data": {
      "text/plain": [
       "True"
      ]
     },
     "execution_count": 2,
     "metadata": {},
     "output_type": "execute_result"
    }
   ],
   "source": [
    "text.startswith('yeah')"
   ]
  },
  {
   "cell_type": "code",
   "execution_count": 4,
   "metadata": {},
   "outputs": [
    {
     "data": {
      "text/plain": [
       "False"
      ]
     },
     "execution_count": 4,
     "metadata": {},
     "output_type": "execute_result"
    }
   ],
   "source": [
    "text.endswith('no')"
   ]
  },
  {
   "cell_type": "code",
   "execution_count": 5,
   "metadata": {},
   "outputs": [
    {
     "data": {
      "text/plain": [
       "10"
      ]
     },
     "execution_count": 5,
     "metadata": {},
     "output_type": "execute_result"
    }
   ],
   "source": [
    "text.find('no')"
   ]
  },
  {
   "cell_type": "code",
   "execution_count": 6,
   "metadata": {},
   "outputs": [],
   "source": [
    "text1 = '11/27/2012'\n",
    "text2 = 'Nov 27, 2012'"
   ]
  },
  {
   "cell_type": "code",
   "execution_count": 7,
   "metadata": {},
   "outputs": [],
   "source": [
    "import re"
   ]
  },
  {
   "cell_type": "code",
   "execution_count": null,
   "metadata": {},
   "outputs": [],
   "source": [
    "#match() пытается найти совпадения в начале строки"
   ]
  },
  {
   "cell_type": "code",
   "execution_count": 9,
   "metadata": {},
   "outputs": [
    {
     "name": "stdout",
     "output_type": "stream",
     "text": [
      "yes\n"
     ]
    }
   ],
   "source": [
    "if re.match(r'\\d+/\\d+/\\d+', text1):\n",
    "    print('yes')\n",
    "else:\n",
    "    print('no')"
   ]
  },
  {
   "cell_type": "code",
   "execution_count": 10,
   "metadata": {},
   "outputs": [
    {
     "name": "stdout",
     "output_type": "stream",
     "text": [
      "no\n"
     ]
    }
   ],
   "source": [
    "if re.match(r'\\d+/\\d+/\\d+', text2):\n",
    "    print('yes')\n",
    "else:\n",
    "    print('no')"
   ]
  },
  {
   "cell_type": "code",
   "execution_count": 11,
   "metadata": {},
   "outputs": [
    {
     "name": "stdout",
     "output_type": "stream",
     "text": [
      "yes\n"
     ]
    }
   ],
   "source": [
    "datepat = re.compile(r'\\d+/\\d+/\\d+')\n",
    "if datepat.match(text1):\n",
    "    print('yes')\n",
    "else:\n",
    "    print('no')"
   ]
  },
  {
   "cell_type": "code",
   "execution_count": 12,
   "metadata": {},
   "outputs": [
    {
     "name": "stdout",
     "output_type": "stream",
     "text": [
      "no\n"
     ]
    }
   ],
   "source": [
    "datepat = re.compile(r'\\d+/\\d+/\\d+')\n",
    "if datepat.match(text2):\n",
    "    print('yes')\n",
    "else:\n",
    "    print('no')"
   ]
  },
  {
   "cell_type": "code",
   "execution_count": null,
   "metadata": {},
   "outputs": [],
   "source": [
    "# findall() поиск по всем случаям соответствия шаблону"
   ]
  },
  {
   "cell_type": "code",
   "execution_count": 13,
   "metadata": {},
   "outputs": [
    {
     "data": {
      "text/plain": [
       "['11/27/2012', '3/13/2013']"
      ]
     },
     "execution_count": 13,
     "metadata": {},
     "output_type": "execute_result"
    }
   ],
   "source": [
    "text = 'Today is 11/27/2012. PyCon starts 3/13/2013.'\n",
    "datepat.findall(text)"
   ]
  },
  {
   "cell_type": "code",
   "execution_count": 15,
   "metadata": {},
   "outputs": [
    {
     "data": {
      "text/plain": [
       "re.compile(r'(\\d+)/(\\d+)/(\\d+)', re.UNICODE)"
      ]
     },
     "execution_count": 15,
     "metadata": {},
     "output_type": "execute_result"
    }
   ],
   "source": [
    "datepat = re.compile(r'(\\d+)/(\\d+)/(\\d+)')\n",
    "datepat"
   ]
  },
  {
   "cell_type": "code",
   "execution_count": 16,
   "metadata": {},
   "outputs": [
    {
     "data": {
      "text/plain": [
       "<re.Match object; span=(0, 10), match='11/27/2012'>"
      ]
     },
     "execution_count": 16,
     "metadata": {},
     "output_type": "execute_result"
    }
   ],
   "source": [
    "m = datepat.match('11/27/2012')\n",
    "m"
   ]
  },
  {
   "cell_type": "code",
   "execution_count": 17,
   "metadata": {},
   "outputs": [
    {
     "data": {
      "text/plain": [
       "'11/27/2012'"
      ]
     },
     "execution_count": 17,
     "metadata": {},
     "output_type": "execute_result"
    }
   ],
   "source": [
    "#извлекаем содержимое каждой группы\n",
    "m.group(0)"
   ]
  },
  {
   "cell_type": "code",
   "execution_count": 18,
   "metadata": {},
   "outputs": [
    {
     "data": {
      "text/plain": [
       "'11'"
      ]
     },
     "execution_count": 18,
     "metadata": {},
     "output_type": "execute_result"
    }
   ],
   "source": [
    "m.group(1)"
   ]
  },
  {
   "cell_type": "code",
   "execution_count": 19,
   "metadata": {},
   "outputs": [
    {
     "data": {
      "text/plain": [
       "'27'"
      ]
     },
     "execution_count": 19,
     "metadata": {},
     "output_type": "execute_result"
    }
   ],
   "source": [
    "m.group(2)"
   ]
  },
  {
   "cell_type": "code",
   "execution_count": 20,
   "metadata": {},
   "outputs": [
    {
     "data": {
      "text/plain": [
       "'2012'"
      ]
     },
     "execution_count": 20,
     "metadata": {},
     "output_type": "execute_result"
    }
   ],
   "source": [
    "m.group(3)"
   ]
  },
  {
   "cell_type": "code",
   "execution_count": 21,
   "metadata": {},
   "outputs": [
    {
     "data": {
      "text/plain": [
       "'11/27/2012'"
      ]
     },
     "execution_count": 21,
     "metadata": {},
     "output_type": "execute_result"
    }
   ],
   "source": [
    "m.group()"
   ]
  },
  {
   "cell_type": "code",
   "execution_count": 23,
   "metadata": {},
   "outputs": [],
   "source": [
    "month, day, year = m.groups()"
   ]
  },
  {
   "cell_type": "code",
   "execution_count": 24,
   "metadata": {},
   "outputs": [
    {
     "data": {
      "text/plain": [
       "'11'"
      ]
     },
     "execution_count": 24,
     "metadata": {},
     "output_type": "execute_result"
    }
   ],
   "source": [
    "month"
   ]
  },
  {
   "cell_type": "code",
   "execution_count": 25,
   "metadata": {},
   "outputs": [
    {
     "data": {
      "text/plain": [
       "'27'"
      ]
     },
     "execution_count": 25,
     "metadata": {},
     "output_type": "execute_result"
    }
   ],
   "source": [
    "day"
   ]
  },
  {
   "cell_type": "code",
   "execution_count": 26,
   "metadata": {},
   "outputs": [
    {
     "data": {
      "text/plain": [
       "'2012'"
      ]
     },
     "execution_count": 26,
     "metadata": {},
     "output_type": "execute_result"
    }
   ],
   "source": [
    "year"
   ]
  },
  {
   "cell_type": "code",
   "execution_count": 27,
   "metadata": {},
   "outputs": [
    {
     "data": {
      "text/plain": [
       "'Today is 11/27/2012. PyCon starts 3/13/2013.'"
      ]
     },
     "execution_count": 27,
     "metadata": {},
     "output_type": "execute_result"
    }
   ],
   "source": [
    "#найти все совпадения\n",
    "text"
   ]
  },
  {
   "cell_type": "code",
   "execution_count": 31,
   "metadata": {},
   "outputs": [
    {
     "data": {
      "text/plain": [
       "[('11', '27', '2012'), ('3', '13', '2013')]"
      ]
     },
     "execution_count": 31,
     "metadata": {},
     "output_type": "execute_result"
    }
   ],
   "source": [
    "datepat.findall(text)"
   ]
  },
  {
   "cell_type": "code",
   "execution_count": 32,
   "metadata": {},
   "outputs": [
    {
     "name": "stdout",
     "output_type": "stream",
     "text": [
      "2012-11-27\n",
      "2013-3-13\n"
     ]
    }
   ],
   "source": [
    "for month, day, year in datepat.findall(text):\n",
    "    print(f'{year}-{month}-{day}')"
   ]
  },
  {
   "cell_type": "code",
   "execution_count": 33,
   "metadata": {},
   "outputs": [
    {
     "name": "stdout",
     "output_type": "stream",
     "text": [
      "2012-11-2012\n",
      "2013-3-2013\n"
     ]
    }
   ],
   "source": [
    "for month, day, year in datepat.findall(text):\n",
    "    print('{}-{}-{}'.format(year, month, year))"
   ]
  },
  {
   "cell_type": "code",
   "execution_count": 34,
   "metadata": {},
   "outputs": [
    {
     "name": "stdout",
     "output_type": "stream",
     "text": [
      "('11', '27', '2012')\n",
      "('3', '13', '2013')\n"
     ]
    }
   ],
   "source": [
    "# finditer() искать совпадения итеративно\n",
    "for m in datepat.finditer(text):\n",
    "    print(m.groups())"
   ]
  },
  {
   "cell_type": "markdown",
   "metadata": {},
   "source": [
    "# Поиск и замена текста"
   ]
  },
  {
   "cell_type": "code",
   "execution_count": null,
   "metadata": {},
   "outputs": [],
   "source": [
    "#Вы хотите найти в строке и заменить текст, соответствующий некому шаблону"
   ]
  },
  {
   "cell_type": "code",
   "execution_count": 1,
   "metadata": {},
   "outputs": [
    {
     "data": {
      "text/plain": [
       "'yep, but no, but yep, but no, but yep'"
      ]
     },
     "execution_count": 1,
     "metadata": {},
     "output_type": "execute_result"
    }
   ],
   "source": [
    "text = 'yeah, but no, but yeah, but no, but yeah'\n",
    "text.replace('yeah', 'yep')"
   ]
  },
  {
   "cell_type": "code",
   "execution_count": 2,
   "metadata": {},
   "outputs": [
    {
     "data": {
      "text/plain": [
       "'Today is 2012-11-27. PyCon starts 2013-3-13.'"
      ]
     },
     "execution_count": 2,
     "metadata": {},
     "output_type": "execute_result"
    }
   ],
   "source": [
    "text = 'Today is 11/27/2012. PyCon starts 3/13/2013.'\n",
    "import re\n",
    "re.sub(r'(\\d+)/(\\d+)/(\\d+)', r'\\3-\\1-\\2', text)"
   ]
  },
  {
   "cell_type": "code",
   "execution_count": 3,
   "metadata": {},
   "outputs": [
    {
     "data": {
      "text/plain": [
       "'Today is 2012-11-27. PyCon starts 2013-3-13.'"
      ]
     },
     "execution_count": 3,
     "metadata": {},
     "output_type": "execute_result"
    }
   ],
   "source": [
    "import re\n",
    "datepat = re.compile(r'(\\d+)/(\\d+)/(\\d+)')\n",
    "datepat.sub(r'\\3-\\1-\\2', text)"
   ]
  },
  {
   "cell_type": "code",
   "execution_count": 7,
   "metadata": {},
   "outputs": [
    {
     "name": "stdout",
     "output_type": "stream",
     "text": [
      "m =  <re.Match object; span=(9, 19), match='11/27/2012'>\n",
      "m.group(1) =  11\n",
      "mon_name =  Nov\n",
      "m =  <re.Match object; span=(34, 43), match='3/13/2013'>\n",
      "m.group(1) =  3\n",
      "mon_name =  Mar\n"
     ]
    },
    {
     "data": {
      "text/plain": [
       "'Today is 27 Nov 2012. PyCon starts 13 Mar 2013.'"
      ]
     },
     "execution_count": 7,
     "metadata": {},
     "output_type": "execute_result"
    }
   ],
   "source": [
    "from calendar import month_abbr\n",
    "def change_date(m):\n",
    "    mon_name = month_abbr[int(m.group(1))]\n",
    "    print('m = ', m)\n",
    "    print('m.group(1) = ', m.group(1))\n",
    "    print('mon_name = ', mon_name)\n",
    "    return '{} {} {}'.format(m.group(2), mon_name, m.group(3))\n",
    "\n",
    "datepat.sub(change_date, text)"
   ]
  },
  {
   "cell_type": "code",
   "execution_count": 9,
   "metadata": {},
   "outputs": [
    {
     "data": {
      "text/plain": [
       "'Today is 2012-11-27. PyCon starts 2013-3-13.'"
      ]
     },
     "execution_count": 9,
     "metadata": {},
     "output_type": "execute_result"
    }
   ],
   "source": [
    "newtext, n = datepat.subn(r'\\3-\\1-\\2', text)\n",
    "newtext"
   ]
  },
  {
   "cell_type": "code",
   "execution_count": 10,
   "metadata": {},
   "outputs": [
    {
     "data": {
      "text/plain": [
       "2"
      ]
     },
     "execution_count": 10,
     "metadata": {},
     "output_type": "execute_result"
    }
   ],
   "source": [
    "n"
   ]
  },
  {
   "cell_type": "markdown",
   "metadata": {},
   "source": [
    "# Поиск и замена текста без учета регистра"
   ]
  },
  {
   "cell_type": "code",
   "execution_count": null,
   "metadata": {},
   "outputs": [],
   "source": [
    "#необходимо найти и заменить текст не обращая внимание на регистр"
   ]
  },
  {
   "cell_type": "code",
   "execution_count": 1,
   "metadata": {},
   "outputs": [],
   "source": [
    "import re\n",
    "text = 'UPPER PYTHON, lower python, Mixed Python'"
   ]
  },
  {
   "cell_type": "code",
   "execution_count": 2,
   "metadata": {},
   "outputs": [
    {
     "data": {
      "text/plain": [
       "['PYTHON', 'python', 'Python']"
      ]
     },
     "execution_count": 2,
     "metadata": {},
     "output_type": "execute_result"
    }
   ],
   "source": [
    "re.findall('python', text, flags=re.IGNORECASE)"
   ]
  },
  {
   "cell_type": "code",
   "execution_count": 3,
   "metadata": {},
   "outputs": [
    {
     "data": {
      "text/plain": [
       "'UPPER snake, lower snake, Mixed snake'"
      ]
     },
     "execution_count": 3,
     "metadata": {},
     "output_type": "execute_result"
    }
   ],
   "source": [
    "re.sub('python', 'snake', text, flags=re.IGNORECASE)"
   ]
  },
  {
   "cell_type": "code",
   "execution_count": 6,
   "metadata": {},
   "outputs": [],
   "source": [
    "def matchcase(word):\n",
    "    def replace(m):\n",
    "        text = m.group()\n",
    "        if text.isupper():\n",
    "            return word.upper()\n",
    "        elif text.islower():\n",
    "            return word.lower()\n",
    "        elif text[0].isupper():\n",
    "            return word.capitalize()\n",
    "        else:\n",
    "            return word\n",
    "    return replace"
   ]
  },
  {
   "cell_type": "code",
   "execution_count": 8,
   "metadata": {},
   "outputs": [
    {
     "data": {
      "text/plain": [
       "'UPPER SNAKE, lower snake, Mixed Snake'"
      ]
     },
     "execution_count": 8,
     "metadata": {},
     "output_type": "execute_result"
    }
   ],
   "source": [
    "re.sub('python', matchcase('snake'), text, flags=re.IGNORECASE)"
   ]
  },
  {
   "cell_type": "markdown",
   "metadata": {},
   "source": [
    "# Определение регулярных выражений для поиска кратчайшего совпадения"
   ]
  },
  {
   "cell_type": "code",
   "execution_count": 9,
   "metadata": {},
   "outputs": [
    {
     "data": {
      "text/plain": [
       "['no']"
      ]
     },
     "execution_count": 9,
     "metadata": {},
     "output_type": "execute_result"
    }
   ],
   "source": [
    "str_pat = re.compile(r'\\\"(.*)\\\"')\n",
    "text1 = 'Computer says \"no\"'\n",
    "str_pat.findall(text1)"
   ]
  },
  {
   "cell_type": "code",
   "execution_count": 10,
   "metadata": {},
   "outputs": [
    {
     "data": {
      "text/plain": [
       "['no\". Phone says \"yes.']"
      ]
     },
     "execution_count": 10,
     "metadata": {},
     "output_type": "execute_result"
    }
   ],
   "source": [
    "text2 = 'Computer says \"no\". Phone says \"yes.\"'\n",
    "str_pat.findall(text2)"
   ]
  },
  {
   "cell_type": "code",
   "execution_count": 11,
   "metadata": {},
   "outputs": [
    {
     "data": {
      "text/plain": [
       "['no', 'yes.']"
      ]
     },
     "execution_count": 11,
     "metadata": {},
     "output_type": "execute_result"
    }
   ],
   "source": [
    "str_pat = re.compile(r'\\\"(.*?)\\\"')\n",
    "text2 = 'Computer says \"no\". Phone says \"yes.\"'\n",
    "str_pat.findall(text2)"
   ]
  },
  {
   "cell_type": "markdown",
   "metadata": {},
   "source": [
    "# Написание регулярного выражения для многострочных шаблонов"
   ]
  },
  {
   "cell_type": "code",
   "execution_count": null,
   "metadata": {},
   "outputs": [],
   "source": [
    "#вы пытаетесь провести поиск по блоку текстов с использованием регулярного выражения, но вам нужно\n",
    "#чтобы совпадение охватывало несколько строк"
   ]
  },
  {
   "cell_type": "code",
   "execution_count": 5,
   "metadata": {},
   "outputs": [],
   "source": [
    "import re\n",
    "comment = re.compile(r'/\\*(.*?)\\*/')\n",
    "text1 = '/*this is a comment */'\n",
    "text2 = '''/* this is a \n",
    "multiline comment */'''"
   ]
  },
  {
   "cell_type": "code",
   "execution_count": 6,
   "metadata": {},
   "outputs": [
    {
     "data": {
      "text/plain": [
       "['this is a comment ']"
      ]
     },
     "execution_count": 6,
     "metadata": {},
     "output_type": "execute_result"
    }
   ],
   "source": [
    "comment.findall(text1)"
   ]
  },
  {
   "cell_type": "code",
   "execution_count": 7,
   "metadata": {},
   "outputs": [
    {
     "data": {
      "text/plain": [
       "[]"
      ]
     },
     "execution_count": 7,
     "metadata": {},
     "output_type": "execute_result"
    }
   ],
   "source": [
    "comment.findall(text2)"
   ]
  },
  {
   "cell_type": "code",
   "execution_count": 10,
   "metadata": {},
   "outputs": [
    {
     "data": {
      "text/plain": [
       "[' this is a \\nmultiline comment ']"
      ]
     },
     "execution_count": 10,
     "metadata": {},
     "output_type": "execute_result"
    }
   ],
   "source": [
    "#поддержка символов новой строки\n",
    "comment = re.compile(r'/\\*((?:.|\\n)*?)\\*/')\n",
    "text2 = '''/* this is a \n",
    "multiline comment */'''\n",
    "comment.findall(text2)"
   ]
  },
  {
   "cell_type": "code",
   "execution_count": 13,
   "metadata": {},
   "outputs": [
    {
     "data": {
      "text/plain": [
       "[' this is a \\nmultiline comment ']"
      ]
     },
     "execution_count": 13,
     "metadata": {},
     "output_type": "execute_result"
    }
   ],
   "source": [
    "# работает в простых случаях. проблемы с очень сложными шаблонами или сочетанием регулярных выражений\n",
    "comment = re.compile(r'/\\*(.*?)\\*/', re.DOTALL)\n",
    "comment.findall(text2)"
   ]
  },
  {
   "cell_type": "markdown",
   "metadata": {},
   "source": [
    "# Нормализация текста в Unicode к стандартному представлению"
   ]
  },
  {
   "cell_type": "code",
   "execution_count": null,
   "metadata": {},
   "outputs": [],
   "source": [
    "#вы работаете со строками Unicode и хотите убедиться, \n",
    "#что все эти строки имеют одинаковое внутреннее представление"
   ]
  },
  {
   "cell_type": "code",
   "execution_count": 1,
   "metadata": {},
   "outputs": [],
   "source": [
    "s1 = 'Spicy Jalape\\u00f1o'\n",
    "s2 = 'Spicy Jalapen\\u0303o'"
   ]
  },
  {
   "cell_type": "code",
   "execution_count": 2,
   "metadata": {},
   "outputs": [
    {
     "data": {
      "text/plain": [
       "'Spicy Jalapeño'"
      ]
     },
     "execution_count": 2,
     "metadata": {},
     "output_type": "execute_result"
    }
   ],
   "source": [
    "s1"
   ]
  },
  {
   "cell_type": "code",
   "execution_count": 3,
   "metadata": {},
   "outputs": [
    {
     "data": {
      "text/plain": [
       "'Spicy Jalapeño'"
      ]
     },
     "execution_count": 3,
     "metadata": {},
     "output_type": "execute_result"
    }
   ],
   "source": [
    "s2"
   ]
  },
  {
   "cell_type": "code",
   "execution_count": 4,
   "metadata": {},
   "outputs": [
    {
     "data": {
      "text/plain": [
       "False"
      ]
     },
     "execution_count": 4,
     "metadata": {},
     "output_type": "execute_result"
    }
   ],
   "source": [
    "s1 == s2"
   ]
  },
  {
   "cell_type": "code",
   "execution_count": 5,
   "metadata": {},
   "outputs": [
    {
     "data": {
      "text/plain": [
       "14"
      ]
     },
     "execution_count": 5,
     "metadata": {},
     "output_type": "execute_result"
    }
   ],
   "source": [
    "len(s1)"
   ]
  },
  {
   "cell_type": "code",
   "execution_count": 6,
   "metadata": {},
   "outputs": [
    {
     "data": {
      "text/plain": [
       "15"
      ]
     },
     "execution_count": 6,
     "metadata": {},
     "output_type": "execute_result"
    }
   ],
   "source": [
    "len(s2)"
   ]
  },
  {
   "cell_type": "code",
   "execution_count": 7,
   "metadata": {},
   "outputs": [
    {
     "data": {
      "text/plain": [
       "'鱀'"
      ]
     },
     "execution_count": 7,
     "metadata": {},
     "output_type": "execute_result"
    }
   ],
   "source": [
    "chr(40000)"
   ]
  },
  {
   "cell_type": "code",
   "execution_count": 8,
   "metadata": {},
   "outputs": [
    {
     "data": {
      "text/plain": [
       "'\\uea60'"
      ]
     },
     "execution_count": 8,
     "metadata": {},
     "output_type": "execute_result"
    }
   ],
   "source": [
    "chr(60000)"
   ]
  },
  {
   "cell_type": "code",
   "execution_count": null,
   "metadata": {},
   "outputs": [],
   "source": [
    "#множественные представления становятся проблемой\n",
    "#нужно нормализовать текст, привести к стандартному представлению с помощью unicodedata"
   ]
  },
  {
   "cell_type": "code",
   "execution_count": 9,
   "metadata": {},
   "outputs": [],
   "source": [
    "import unicodedata\n",
    "t1 = unicodedata.normalize('NFC', s1)\n",
    "t2 = unicodedata.normalize('NFC', s2)"
   ]
  },
  {
   "cell_type": "code",
   "execution_count": 10,
   "metadata": {},
   "outputs": [
    {
     "data": {
      "text/plain": [
       "True"
      ]
     },
     "execution_count": 10,
     "metadata": {},
     "output_type": "execute_result"
    }
   ],
   "source": [
    "t1 == t2"
   ]
  },
  {
   "cell_type": "code",
   "execution_count": 11,
   "metadata": {},
   "outputs": [
    {
     "name": "stdout",
     "output_type": "stream",
     "text": [
      "'Spicy Jalape\\xf1o'\n"
     ]
    }
   ],
   "source": [
    "print(ascii(t1))"
   ]
  },
  {
   "cell_type": "code",
   "execution_count": 12,
   "metadata": {},
   "outputs": [],
   "source": [
    "t3 = unicodedata.normalize('NFD', s1)\n",
    "t4 = unicodedata.normalize('NFD', s2)"
   ]
  },
  {
   "cell_type": "code",
   "execution_count": 13,
   "metadata": {},
   "outputs": [
    {
     "data": {
      "text/plain": [
       "True"
      ]
     },
     "execution_count": 13,
     "metadata": {},
     "output_type": "execute_result"
    }
   ],
   "source": [
    "t3 == t4"
   ]
  },
  {
   "cell_type": "code",
   "execution_count": 14,
   "metadata": {},
   "outputs": [
    {
     "name": "stdout",
     "output_type": "stream",
     "text": [
      "'Spicy Jalapen\\u0303o'\n"
     ]
    }
   ],
   "source": [
    "print(ascii(t3))"
   ]
  },
  {
   "cell_type": "code",
   "execution_count": null,
   "metadata": {},
   "outputs": [],
   "source": [
    "# режимынормализации: NFC, NFD, NFKC, NFKD"
   ]
  },
  {
   "cell_type": "code",
   "execution_count": 16,
   "metadata": {},
   "outputs": [
    {
     "data": {
      "text/plain": [
       "'ﬁ'"
      ]
     },
     "execution_count": 16,
     "metadata": {},
     "output_type": "execute_result"
    }
   ],
   "source": [
    "s = '\\ufb01'\n",
    "s"
   ]
  },
  {
   "cell_type": "code",
   "execution_count": 17,
   "metadata": {},
   "outputs": [
    {
     "data": {
      "text/plain": [
       "'ﬁ'"
      ]
     },
     "execution_count": 17,
     "metadata": {},
     "output_type": "execute_result"
    }
   ],
   "source": [
    "unicodedata.normalize('NFD', s)"
   ]
  },
  {
   "cell_type": "code",
   "execution_count": 18,
   "metadata": {},
   "outputs": [
    {
     "data": {
      "text/plain": [
       "'fi'"
      ]
     },
     "execution_count": 18,
     "metadata": {},
     "output_type": "execute_result"
    }
   ],
   "source": [
    "unicodedata.normalize('NFKD', s)"
   ]
  },
  {
   "cell_type": "code",
   "execution_count": 19,
   "metadata": {},
   "outputs": [
    {
     "data": {
      "text/plain": [
       "'fi'"
      ]
     },
     "execution_count": 19,
     "metadata": {},
     "output_type": "execute_result"
    }
   ],
   "source": [
    "unicodedata.normalize('NFKC', s)"
   ]
  },
  {
   "cell_type": "code",
   "execution_count": 20,
   "metadata": {},
   "outputs": [
    {
     "data": {
      "text/plain": [
       "'Spicy Jalapeno'"
      ]
     },
     "execution_count": 20,
     "metadata": {},
     "output_type": "execute_result"
    }
   ],
   "source": [
    "t1 = unicodedata.normalize('NFD', s1)\n",
    "''.join(c for c in t1 if not unicodedata.combining(c))"
   ]
  },
  {
   "cell_type": "markdown",
   "metadata": {},
   "source": [
    "# Срезание нежелательных символов из строк"
   ]
  },
  {
   "cell_type": "code",
   "execution_count": null,
   "metadata": {},
   "outputs": [],
   "source": [
    "#вы хотите срезать ненужные символы, такие как пробелы в начале, в конце или в середие строки"
   ]
  },
  {
   "cell_type": "code",
   "execution_count": 1,
   "metadata": {},
   "outputs": [],
   "source": [
    "s = '   hello world   \\n'"
   ]
  },
  {
   "cell_type": "code",
   "execution_count": 2,
   "metadata": {},
   "outputs": [
    {
     "data": {
      "text/plain": [
       "'hello world'"
      ]
     },
     "execution_count": 2,
     "metadata": {},
     "output_type": "execute_result"
    }
   ],
   "source": [
    "s.strip()"
   ]
  },
  {
   "cell_type": "code",
   "execution_count": 3,
   "metadata": {},
   "outputs": [
    {
     "data": {
      "text/plain": [
       "'hello world   \\n'"
      ]
     },
     "execution_count": 3,
     "metadata": {},
     "output_type": "execute_result"
    }
   ],
   "source": [
    "s.lstrip()"
   ]
  },
  {
   "cell_type": "code",
   "execution_count": 4,
   "metadata": {},
   "outputs": [
    {
     "data": {
      "text/plain": [
       "'   hello world'"
      ]
     },
     "execution_count": 4,
     "metadata": {},
     "output_type": "execute_result"
    }
   ],
   "source": [
    "s.rstrip()"
   ]
  },
  {
   "cell_type": "code",
   "execution_count": 5,
   "metadata": {},
   "outputs": [],
   "source": [
    "t = '------hello======'"
   ]
  },
  {
   "cell_type": "code",
   "execution_count": 7,
   "metadata": {},
   "outputs": [
    {
     "data": {
      "text/plain": [
       "'hello======'"
      ]
     },
     "execution_count": 7,
     "metadata": {},
     "output_type": "execute_result"
    }
   ],
   "source": [
    "t.lstrip('-')"
   ]
  },
  {
   "cell_type": "code",
   "execution_count": 8,
   "metadata": {},
   "outputs": [
    {
     "data": {
      "text/plain": [
       "'------hello'"
      ]
     },
     "execution_count": 8,
     "metadata": {},
     "output_type": "execute_result"
    }
   ],
   "source": [
    "t.rstrip('=')"
   ]
  },
  {
   "cell_type": "code",
   "execution_count": 9,
   "metadata": {},
   "outputs": [
    {
     "data": {
      "text/plain": [
       "'hello'"
      ]
     },
     "execution_count": 9,
     "metadata": {},
     "output_type": "execute_result"
    }
   ],
   "source": [
    "t.strip('-=')"
   ]
  },
  {
   "cell_type": "code",
   "execution_count": 10,
   "metadata": {},
   "outputs": [],
   "source": [
    "s = '   hello       world   \\n'"
   ]
  },
  {
   "cell_type": "code",
   "execution_count": 11,
   "metadata": {},
   "outputs": [
    {
     "data": {
      "text/plain": [
       "'hello       world'"
      ]
     },
     "execution_count": 11,
     "metadata": {},
     "output_type": "execute_result"
    }
   ],
   "source": [
    "s.strip()"
   ]
  },
  {
   "cell_type": "code",
   "execution_count": 12,
   "metadata": {},
   "outputs": [
    {
     "data": {
      "text/plain": [
       "'helloworld\\n'"
      ]
     },
     "execution_count": 12,
     "metadata": {},
     "output_type": "execute_result"
    }
   ],
   "source": [
    "s.replace(' ', '')"
   ]
  },
  {
   "cell_type": "code",
   "execution_count": 13,
   "metadata": {},
   "outputs": [
    {
     "data": {
      "text/plain": [
       "' hello world '"
      ]
     },
     "execution_count": 13,
     "metadata": {},
     "output_type": "execute_result"
    }
   ],
   "source": [
    "import re\n",
    "re.sub('\\s+', ' ', s)"
   ]
  },
  {
   "cell_type": "code",
   "execution_count": null,
   "metadata": {},
   "outputs": [],
   "source": [
    "with open(filename) as f:\n",
    "    lines = (line.strip() for line in f)\n",
    "    for line in lines:"
   ]
  },
  {
   "cell_type": "markdown",
   "metadata": {},
   "source": [
    "# Чистка строк"
   ]
  },
  {
   "cell_type": "code",
   "execution_count": 1,
   "metadata": {},
   "outputs": [
    {
     "data": {
      "text/plain": [
       "'pýthòn\\x0cis\\tawesome\\r\\n'"
      ]
     },
     "execution_count": 1,
     "metadata": {},
     "output_type": "execute_result"
    }
   ],
   "source": [
    "s = 'pýthòn\\fis\\tawesome\\r\\n'\n",
    "s"
   ]
  },
  {
   "cell_type": "code",
   "execution_count": 2,
   "metadata": {},
   "outputs": [],
   "source": [
    "#удалить пробел\n",
    "remap = {\n",
    "    ord('\\t'): ' ',\n",
    "    ord('\\f'): ' ',\n",
    "    ord('\\r'): None\n",
    "    \n",
    "}"
   ]
  },
  {
   "cell_type": "code",
   "execution_count": 3,
   "metadata": {},
   "outputs": [
    {
     "data": {
      "text/plain": [
       "'pýthònisawesome\\n'"
      ]
     },
     "execution_count": 3,
     "metadata": {},
     "output_type": "execute_result"
    }
   ],
   "source": [
    "a = s.translate(remap)\n",
    "a"
   ]
  },
  {
   "cell_type": "code",
   "execution_count": 14,
   "metadata": {},
   "outputs": [
    {
     "name": "stdout",
     "output_type": "stream",
     "text": [
      "cmb_chrs_num =  [7649, 7650, 7651, 7652, 7653, 7654, 7655, 7656, 7657, 7658, 7659, 7660, 7661, 7662, 7663, 7664, 7665, 7666, 7667, 7668, 7669, 7670, 7671, 7672, 7673, 7675, 7676, 7677, 7678, 7679, 8400, 8401, 8402, 8403, 8404, 8405, 8406, 8407, 8408, 8409, 8410, 8411, 8412, 8417, 8421, 8422, 8423, 8424, 8425, 8426]\n",
      "cmb_chrs =  ['ᷡ', 'ᷢ', 'ᷣ', 'ᷤ', 'ᷥ', 'ᷦ', 'ᷧ', 'ᷨ', 'ᷩ', 'ᷪ', 'ᷫ', 'ᷬ', 'ᷭ', 'ᷮ', 'ᷯ', 'ᷰ', 'ᷱ', 'ᷲ', 'ᷳ', 'ᷴ', '᷵', '᷶', '᷷', '᷸', '᷹', '᷻', '᷼', '᷽', '᷾', '᷿', '⃐', '⃑', '⃒', '⃓', '⃔', '⃕', '⃖', '⃗', '⃘', '⃙', '⃚', '⃛', '⃜', '⃡', '⃥', '⃦', '⃧', '⃨', '⃩', '⃪']\n"
     ]
    },
    {
     "data": {
      "text/plain": [
       "'pýthònisawesome\\n'"
      ]
     },
     "execution_count": 14,
     "metadata": {},
     "output_type": "execute_result"
    }
   ],
   "source": [
    "import unicodedata\n",
    "import sys\n",
    "cmb_chrs = dict.fromkeys(c for c in range(sys.maxunicode) if unicodedata.combining(chr(c)))\n",
    "print('cmb_chrs_num = ', list(cmb_chrs.keys())[500:550])\n",
    "print('cmb_chrs = ', [chr(x) for x in list(cmb_chrs.keys())[500:550]])\n",
    "b = unicodedata.normalize('NFD', a)\n",
    "b"
   ]
  },
  {
   "cell_type": "code",
   "execution_count": 5,
   "metadata": {},
   "outputs": [
    {
     "data": {
      "text/plain": [
       "'pythonisawesome\\n'"
      ]
     },
     "execution_count": 5,
     "metadata": {},
     "output_type": "execute_result"
    }
   ],
   "source": [
    "b.translate(cmb_chrs)"
   ]
  },
  {
   "cell_type": "code",
   "execution_count": 17,
   "metadata": {},
   "outputs": [
    {
     "data": {
      "text/plain": [
       "610"
      ]
     },
     "execution_count": 17,
     "metadata": {},
     "output_type": "execute_result"
    }
   ],
   "source": [
    "digitmap = {c: ord('0') + unicodedata.digit(chr(c))\n",
    "for c in range(sys.maxunicode) if unicodedata.category(chr(c)) == 'Nd'}\n",
    "len(digitmap)\n"
   ]
  },
  {
   "cell_type": "code",
   "execution_count": 18,
   "metadata": {},
   "outputs": [
    {
     "data": {
      "text/plain": [
       "'123'"
      ]
     },
     "execution_count": 18,
     "metadata": {},
     "output_type": "execute_result"
    }
   ],
   "source": [
    "x = '\\u0661\\u0662\\u0663'\n",
    "x.translate(digitmap)"
   ]
  },
  {
   "cell_type": "code",
   "execution_count": 19,
   "metadata": {},
   "outputs": [
    {
     "data": {
      "text/plain": [
       "'pýthònisawesome\\n'"
      ]
     },
     "execution_count": 19,
     "metadata": {},
     "output_type": "execute_result"
    }
   ],
   "source": [
    "a"
   ]
  },
  {
   "cell_type": "code",
   "execution_count": 20,
   "metadata": {},
   "outputs": [],
   "source": [
    "b = unicodedata.normalize('NFD', a)"
   ]
  },
  {
   "cell_type": "code",
   "execution_count": 21,
   "metadata": {},
   "outputs": [
    {
     "data": {
      "text/plain": [
       "'pythonisawesome\\n'"
      ]
     },
     "execution_count": 21,
     "metadata": {},
     "output_type": "execute_result"
    }
   ],
   "source": [
    "b.encode('ascii', 'ignore').decode('ascii')"
   ]
  },
  {
   "cell_type": "code",
   "execution_count": 24,
   "metadata": {},
   "outputs": [
    {
     "data": {
      "text/plain": [
       "'pythonisawesome\\n'"
      ]
     },
     "execution_count": 24,
     "metadata": {},
     "output_type": "execute_result"
    }
   ],
   "source": [
    "def clean_spaces(s):\n",
    "    s = s.replace('\\r', '')\n",
    "    s = s.replace('\\t', '')\n",
    "    s = s.replace('\\f', '')\n",
    "    return s\n",
    "clean_spaces('python\\tis\\fawesome\\n')"
   ]
  },
  {
   "cell_type": "markdown",
   "metadata": {},
   "source": [
    "# Выравнивание текстовых строк"
   ]
  },
  {
   "cell_type": "code",
   "execution_count": null,
   "metadata": {},
   "outputs": [],
   "source": [
    "#нужно отформатировать текст с применением некоего выравнивания\n",
    "# методы ljust(), rjust(), center()"
   ]
  },
  {
   "cell_type": "code",
   "execution_count": 1,
   "metadata": {},
   "outputs": [
    {
     "data": {
      "text/plain": [
       "'Hello World         '"
      ]
     },
     "execution_count": 1,
     "metadata": {},
     "output_type": "execute_result"
    }
   ],
   "source": [
    "text = 'Hello World'\n",
    "text.ljust(20)"
   ]
  },
  {
   "cell_type": "code",
   "execution_count": 2,
   "metadata": {},
   "outputs": [
    {
     "data": {
      "text/plain": [
       "'    Hello World     '"
      ]
     },
     "execution_count": 2,
     "metadata": {},
     "output_type": "execute_result"
    }
   ],
   "source": [
    "text.center(20)"
   ]
  },
  {
   "cell_type": "code",
   "execution_count": 3,
   "metadata": {},
   "outputs": [
    {
     "data": {
      "text/plain": [
       "'Hello World========='"
      ]
     },
     "execution_count": 3,
     "metadata": {},
     "output_type": "execute_result"
    }
   ],
   "source": [
    "text.ljust(20, '=')"
   ]
  },
  {
   "cell_type": "code",
   "execution_count": 4,
   "metadata": {},
   "outputs": [
    {
     "data": {
      "text/plain": [
       "'****Hello World*****'"
      ]
     },
     "execution_count": 4,
     "metadata": {},
     "output_type": "execute_result"
    }
   ],
   "source": [
    "text.center(20, '*')"
   ]
  },
  {
   "cell_type": "code",
   "execution_count": null,
   "metadata": {},
   "outputs": [],
   "source": [
    "# format()"
   ]
  },
  {
   "cell_type": "code",
   "execution_count": 5,
   "metadata": {},
   "outputs": [
    {
     "data": {
      "text/plain": [
       "'         Hello World'"
      ]
     },
     "execution_count": 5,
     "metadata": {},
     "output_type": "execute_result"
    }
   ],
   "source": [
    "format(text, '>20')"
   ]
  },
  {
   "cell_type": "code",
   "execution_count": 6,
   "metadata": {},
   "outputs": [
    {
     "data": {
      "text/plain": [
       "'Hello World         '"
      ]
     },
     "execution_count": 6,
     "metadata": {},
     "output_type": "execute_result"
    }
   ],
   "source": [
    "format(text, '<20')"
   ]
  },
  {
   "cell_type": "code",
   "execution_count": 7,
   "metadata": {},
   "outputs": [
    {
     "data": {
      "text/plain": [
       "'    Hello World     '"
      ]
     },
     "execution_count": 7,
     "metadata": {},
     "output_type": "execute_result"
    }
   ],
   "source": [
    "format(text, '^20')"
   ]
  },
  {
   "cell_type": "code",
   "execution_count": 8,
   "metadata": {},
   "outputs": [
    {
     "data": {
      "text/plain": [
       "'=========Hello World'"
      ]
     },
     "execution_count": 8,
     "metadata": {},
     "output_type": "execute_result"
    }
   ],
   "source": [
    "format(text, '=>20s')"
   ]
  },
  {
   "cell_type": "code",
   "execution_count": 9,
   "metadata": {},
   "outputs": [
    {
     "data": {
      "text/plain": [
       "'=========Hello World'"
      ]
     },
     "execution_count": 9,
     "metadata": {},
     "output_type": "execute_result"
    }
   ],
   "source": [
    "format(text, '=>20')"
   ]
  },
  {
   "cell_type": "code",
   "execution_count": 10,
   "metadata": {},
   "outputs": [
    {
     "data": {
      "text/plain": [
       "'****Hello World*****'"
      ]
     },
     "execution_count": 10,
     "metadata": {},
     "output_type": "execute_result"
    }
   ],
   "source": [
    "format(text, '*^20')"
   ]
  },
  {
   "cell_type": "code",
   "execution_count": 11,
   "metadata": {},
   "outputs": [
    {
     "data": {
      "text/plain": [
       "'     Hello      World'"
      ]
     },
     "execution_count": 11,
     "metadata": {},
     "output_type": "execute_result"
    }
   ],
   "source": [
    "'{:>10s} {:>10s}'.format('Hello', 'World')"
   ]
  },
  {
   "cell_type": "code",
   "execution_count": null,
   "metadata": {},
   "outputs": [],
   "source": [
    "# format() работает не только со строками"
   ]
  },
  {
   "cell_type": "code",
   "execution_count": 13,
   "metadata": {},
   "outputs": [
    {
     "data": {
      "text/plain": [
       "'    1.2345'"
      ]
     },
     "execution_count": 13,
     "metadata": {},
     "output_type": "execute_result"
    }
   ],
   "source": [
    "x = 1.2345\n",
    "format(x,'>10')"
   ]
  },
  {
   "cell_type": "code",
   "execution_count": 14,
   "metadata": {},
   "outputs": [
    {
     "data": {
      "text/plain": [
       "'   1.23   '"
      ]
     },
     "execution_count": 14,
     "metadata": {},
     "output_type": "execute_result"
    }
   ],
   "source": [
    "format(x,'^10.2f')"
   ]
  },
  {
   "cell_type": "code",
   "execution_count": 17,
   "metadata": {},
   "outputs": [
    {
     "data": {
      "text/plain": [
       "'Hello World         '"
      ]
     },
     "execution_count": 17,
     "metadata": {},
     "output_type": "execute_result"
    }
   ],
   "source": [
    "text = 'Hello World'\n",
    "'%-20s' %text"
   ]
  },
  {
   "cell_type": "code",
   "execution_count": 18,
   "metadata": {},
   "outputs": [
    {
     "data": {
      "text/plain": [
       "'         Hello World'"
      ]
     },
     "execution_count": 18,
     "metadata": {},
     "output_type": "execute_result"
    }
   ],
   "source": [
    "'%20s' %text"
   ]
  },
  {
   "cell_type": "markdown",
   "metadata": {},
   "source": [
    "# Объединение и конкатенация строк"
   ]
  },
  {
   "cell_type": "markdown",
   "metadata": {},
   "source": [
    "Нужно объединить много небольших строк в длинную строку"
   ]
  },
  {
   "cell_type": "code",
   "execution_count": 3,
   "metadata": {},
   "outputs": [
    {
     "data": {
      "text/plain": [
       "'Is Chicago Not Chicago?'"
      ]
     },
     "execution_count": 3,
     "metadata": {},
     "output_type": "execute_result"
    }
   ],
   "source": [
    "parts = ['Is', 'Chicago', 'Not', 'Chicago?']\n",
    "' '.join(parts)"
   ]
  },
  {
   "cell_type": "code",
   "execution_count": 2,
   "metadata": {},
   "outputs": [
    {
     "data": {
      "text/plain": [
       "'Is,Chicago,Not,Chicago?'"
      ]
     },
     "execution_count": 2,
     "metadata": {},
     "output_type": "execute_result"
    }
   ],
   "source": [
    "','.join(parts)"
   ]
  },
  {
   "cell_type": "code",
   "execution_count": 4,
   "metadata": {},
   "outputs": [
    {
     "data": {
      "text/plain": [
       "'IsChicagoNotChicago?'"
      ]
     },
     "execution_count": 4,
     "metadata": {},
     "output_type": "execute_result"
    }
   ],
   "source": [
    "''.join(parts)"
   ]
  },
  {
   "cell_type": "code",
   "execution_count": 5,
   "metadata": {},
   "outputs": [
    {
     "data": {
      "text/plain": [
       "'Is Chicago Not Chocago?'"
      ]
     },
     "execution_count": 5,
     "metadata": {},
     "output_type": "execute_result"
    }
   ],
   "source": [
    "a = \"Is Chicago\"\n",
    "b = \"Not Chocago?\"\n",
    "a + ' ' + b"
   ]
  },
  {
   "cell_type": "code",
   "execution_count": 6,
   "metadata": {},
   "outputs": [
    {
     "name": "stdout",
     "output_type": "stream",
     "text": [
      "Is Chicago Not Chocago?\n"
     ]
    }
   ],
   "source": [
    "print('{} {}'.format(a, b))"
   ]
  },
  {
   "cell_type": "code",
   "execution_count": 8,
   "metadata": {},
   "outputs": [
    {
     "name": "stdout",
     "output_type": "stream",
     "text": [
      "Is Chicago Not Chocago?\n"
     ]
    }
   ],
   "source": [
    "print(a + ' ' + b)"
   ]
  },
  {
   "cell_type": "code",
   "execution_count": 9,
   "metadata": {},
   "outputs": [
    {
     "data": {
      "text/plain": [
       "'HelloWorld'"
      ]
     },
     "execution_count": 9,
     "metadata": {},
     "output_type": "execute_result"
    }
   ],
   "source": [
    "a = \"Hello\" \"World\"\n",
    "a"
   ]
  },
  {
   "cell_type": "code",
   "execution_count": 10,
   "metadata": {},
   "outputs": [
    {
     "data": {
      "text/plain": [
       "'ACME,50,91.1'"
      ]
     },
     "execution_count": 10,
     "metadata": {},
     "output_type": "execute_result"
    }
   ],
   "source": [
    "data = ['ACME', 50, 91.1]\n",
    "','.join(str(d) for d in data)"
   ]
  },
  {
   "cell_type": "code",
   "execution_count": 14,
   "metadata": {},
   "outputs": [],
   "source": [
    "c = \"New York\""
   ]
  },
  {
   "cell_type": "code",
   "execution_count": 15,
   "metadata": {},
   "outputs": [
    {
     "name": "stdout",
     "output_type": "stream",
     "text": [
      "HelloWorld:Not Chocago?:New York\n"
     ]
    }
   ],
   "source": [
    "print(a + ':' + b + ':' + c)  #Плохо"
   ]
  },
  {
   "cell_type": "code",
   "execution_count": 16,
   "metadata": {},
   "outputs": [
    {
     "name": "stdout",
     "output_type": "stream",
     "text": [
      "HelloWorld:Not Chocago?:New York\n"
     ]
    }
   ],
   "source": [
    "print(':'.join([a,b,c]))  #Все еще плохо"
   ]
  },
  {
   "cell_type": "code",
   "execution_count": 17,
   "metadata": {},
   "outputs": [
    {
     "name": "stdout",
     "output_type": "stream",
     "text": [
      "HelloWorld:Not Chocago?:New York\n"
     ]
    }
   ],
   "source": [
    "print(a, b, c, sep=':')  #Лучше"
   ]
  },
  {
   "cell_type": "code",
   "execution_count": null,
   "metadata": {},
   "outputs": [],
   "source": [
    "#версия1(конкатенация строк)\n",
    "f.write(chunk1 + chunk2)\n",
    "\n",
    "#версия2(отдельные операции ввода-вывода)\n",
    "f.write(chunk1)\n",
    "f.write(chunk2)"
   ]
  },
  {
   "cell_type": "code",
   "execution_count": 20,
   "metadata": {},
   "outputs": [
    {
     "data": {
      "text/plain": [
       "['Is', 'Chicago', 'Not', 'Chicago?']"
      ]
     },
     "execution_count": 20,
     "metadata": {},
     "output_type": "execute_result"
    }
   ],
   "source": [
    "def sample():\n",
    "    yield 'Is'\n",
    "    yield 'Chicago'\n",
    "    yield 'Not'\n",
    "    yield 'Chicago?'\n",
    "    \n",
    "one_sample = sample()\n",
    "list(one_sample) "
   ]
  },
  {
   "cell_type": "code",
   "execution_count": 23,
   "metadata": {},
   "outputs": [
    {
     "data": {
      "text/plain": [
       "'Is Chicago Not Chicago?'"
      ]
     },
     "execution_count": 23,
     "metadata": {},
     "output_type": "execute_result"
    }
   ],
   "source": [
    "def sample():\n",
    "    yield 'Is'\n",
    "    yield 'Chicago'\n",
    "    yield 'Not'\n",
    "    yield 'Chicago?'\n",
    "    \n",
    "text = ' '.join(sample())\n",
    "text"
   ]
  },
  {
   "cell_type": "code",
   "execution_count": null,
   "metadata": {},
   "outputs": [],
   "source": [
    "# перенаправить фрагменты на вывод\n",
    "for part in sample():\n",
    "    f.write(part)"
   ]
  },
  {
   "cell_type": "code",
   "execution_count": null,
   "metadata": {},
   "outputs": [],
   "source": [
    "# получение текста по частям, размером не более, чем maxsize\n",
    "def combine(source, maxsize):\n",
    "    parts = []\n",
    "    size = 0\n",
    "    for part in source:\n",
    "        parts.append(part)\n",
    "        size += len(part)\n",
    "        if size > maxsize:\n",
    "            yield ''.join(parts)\n",
    "            parts = []\n",
    "            size = 0\n",
    "    yield ''.join(parts)\n",
    "        \n",
    "for part in combine(sample(), 32768):\n",
    "    f.write(part)\n",
    "    "
   ]
  },
  {
   "cell_type": "markdown",
   "metadata": {},
   "source": [
    "Ключевой момент - первоначальный генератор не обязан вникать в детали: он просто выдает части."
   ]
  },
  {
   "cell_type": "markdown",
   "metadata": {},
   "source": [
    "# Интерполяция переменных в строках"
   ]
  },
  {
   "cell_type": "markdown",
   "metadata": {},
   "source": [
    "вы хотите создать строку, в которой на место переменных будут подставляться строковые представления значений этих переменных"
   ]
  },
  {
   "cell_type": "code",
   "execution_count": 1,
   "metadata": {},
   "outputs": [
    {
     "data": {
      "text/plain": [
       "'Guido has 37 messages'"
      ]
     },
     "execution_count": 1,
     "metadata": {},
     "output_type": "execute_result"
    }
   ],
   "source": [
    "s = '{name} has {n} messages'\n",
    "s.format(name='Guido', n=37)"
   ]
  },
  {
   "cell_type": "code",
   "execution_count": 3,
   "metadata": {},
   "outputs": [
    {
     "data": {
      "text/plain": [
       "'Guido has 37 messages'"
      ]
     },
     "execution_count": 3,
     "metadata": {},
     "output_type": "execute_result"
    }
   ],
   "source": [
    "name = 'Guido'\n",
    "n = 37\n",
    "s.format_map(vars())"
   ]
  },
  {
   "cell_type": "code",
   "execution_count": 4,
   "metadata": {},
   "outputs": [
    {
     "data": {
      "text/plain": [
       "'Guido has 37 messages'"
      ]
     },
     "execution_count": 4,
     "metadata": {},
     "output_type": "execute_result"
    }
   ],
   "source": [
    "class Info:\n",
    "    def __init__(self, name, n):\n",
    "        self.name = name\n",
    "        self.n = n\n",
    "        \n",
    "a = Info('Guido', 37)\n",
    "s.format_map(vars(a))"
   ]
  },
  {
   "cell_type": "code",
   "execution_count": 5,
   "metadata": {},
   "outputs": [
    {
     "ename": "KeyError",
     "evalue": "'n'",
     "output_type": "error",
     "traceback": [
      "\u001b[1;31m---------------------------------------------------------------------------\u001b[0m",
      "\u001b[1;31mKeyError\u001b[0m                                  Traceback (most recent call last)",
      "\u001b[1;32m<ipython-input-5-78f2bd676fa0>\u001b[0m in \u001b[0;36m<module>\u001b[1;34m()\u001b[0m\n\u001b[1;32m----> 1\u001b[1;33m \u001b[0ms\u001b[0m\u001b[1;33m.\u001b[0m\u001b[0mformat\u001b[0m\u001b[1;33m(\u001b[0m\u001b[0mname\u001b[0m\u001b[1;33m=\u001b[0m\u001b[1;34m'Guido'\u001b[0m\u001b[1;33m)\u001b[0m\u001b[1;33m\u001b[0m\u001b[0m\n\u001b[0m",
      "\u001b[1;31mKeyError\u001b[0m: 'n'"
     ]
    }
   ],
   "source": [
    "s.format(name='Guido')"
   ]
  },
  {
   "cell_type": "code",
   "execution_count": 6,
   "metadata": {},
   "outputs": [],
   "source": [
    "class safesub(dict):\n",
    "    def __missing__(self, key):\n",
    "        return '{' + key + '}'"
   ]
  },
  {
   "cell_type": "code",
   "execution_count": 7,
   "metadata": {},
   "outputs": [
    {
     "data": {
      "text/plain": [
       "'Guido has {n} messages'"
      ]
     },
     "execution_count": 7,
     "metadata": {},
     "output_type": "execute_result"
    }
   ],
   "source": [
    "del n\n",
    "s.format_map(safesub(vars()))"
   ]
  },
  {
   "cell_type": "code",
   "execution_count": 8,
   "metadata": {},
   "outputs": [
    {
     "data": {
      "text/plain": [
       "'Guido has 17 messages'"
      ]
     },
     "execution_count": 8,
     "metadata": {},
     "output_type": "execute_result"
    }
   ],
   "source": [
    "n = 17\n",
    "s.format_map(safesub(vars()))"
   ]
  },
  {
   "cell_type": "code",
   "execution_count": 9,
   "metadata": {},
   "outputs": [],
   "source": [
    "import sys\n",
    "def sub(text):\n",
    "    return text.format_map(safesub(sys._getframe(1).f_locals))"
   ]
  },
  {
   "cell_type": "code",
   "execution_count": 10,
   "metadata": {},
   "outputs": [
    {
     "name": "stdout",
     "output_type": "stream",
     "text": [
      "Hello Guido\n"
     ]
    }
   ],
   "source": [
    "name = 'Guido'\n",
    "n = 37\n",
    "print(sub('Hello {name}'))"
   ]
  },
  {
   "cell_type": "code",
   "execution_count": 11,
   "metadata": {},
   "outputs": [
    {
     "name": "stdout",
     "output_type": "stream",
     "text": [
      "You have 37 messages.\n"
     ]
    }
   ],
   "source": [
    "print(sub('You have {n} messages.'))"
   ]
  },
  {
   "cell_type": "code",
   "execution_count": 12,
   "metadata": {},
   "outputs": [
    {
     "name": "stdout",
     "output_type": "stream",
     "text": [
      "You favorite color is {color}.\n"
     ]
    }
   ],
   "source": [
    "print(sub('You favorite color is {color}.'))"
   ]
  },
  {
   "cell_type": "code",
   "execution_count": 20,
   "metadata": {},
   "outputs": [
    {
     "data": {
      "text/plain": [
       "\"'Guido's 37sages\""
      ]
     },
     "execution_count": 20,
     "metadata": {},
     "output_type": "execute_result"
    }
   ],
   "source": [
    "name = 'Guido'\n",
    "n = 37\n",
    "'%(name) has %(n) ssages' % vars()"
   ]
  },
  {
   "cell_type": "code",
   "execution_count": 18,
   "metadata": {},
   "outputs": [
    {
     "data": {
      "text/plain": [
       "'Guido has 37 messages'"
      ]
     },
     "execution_count": 18,
     "metadata": {},
     "output_type": "execute_result"
    }
   ],
   "source": [
    "import string\n",
    "name = 'Guido'\n",
    "n = 37\n",
    "s = string.Template('$name has $n messages')\n",
    "s.substitute(vars())"
   ]
  },
  {
   "cell_type": "code",
   "execution_count": 24,
   "metadata": {},
   "outputs": [
    {
     "data": {
      "text/plain": [
       "'His name is Guido'"
      ]
     },
     "execution_count": 24,
     "metadata": {},
     "output_type": "execute_result"
    }
   ],
   "source": [
    "name = 'Guido'\n",
    "n = 37\n",
    "f'His name is {name}'"
   ]
  },
  {
   "cell_type": "code",
   "execution_count": 25,
   "metadata": {},
   "outputs": [
    {
     "data": {
      "text/plain": [
       "'Guido has 37 messages'"
      ]
     },
     "execution_count": 25,
     "metadata": {},
     "output_type": "execute_result"
    }
   ],
   "source": [
    "f'{name} has {n} messages'"
   ]
  },
  {
   "cell_type": "markdown",
   "metadata": {},
   "source": [
    "# Разбивка текста на фиксированное количество колонок"
   ]
  },
  {
   "cell_type": "markdown",
   "metadata": {},
   "source": [
    "Есть длинные строки, которые Вы хотите переформатировать, таким образом, чтобы они распределились по заданному пользователем количеству колонок"
   ]
  },
  {
   "cell_type": "markdown",
   "metadata": {},
   "source": [
    "Используйте модуль textwrap"
   ]
  },
  {
   "cell_type": "code",
   "execution_count": 3,
   "metadata": {},
   "outputs": [],
   "source": [
    "s = \"Look into my eyes, look into my eyes, the eyes, the eyes, \\\n",
    "the eyes, not around the eyes, don't look around the eyes, \\\n",
    "look into my eyes, you're under.\" "
   ]
  },
  {
   "cell_type": "code",
   "execution_count": 4,
   "metadata": {},
   "outputs": [
    {
     "name": "stdout",
     "output_type": "stream",
     "text": [
      "Look into my eyes, look into my eyes, the eyes, the eyes, the eyes,\n",
      "not around the eyes, don't look around the eyes, look into my eyes,\n",
      "you're under.\n"
     ]
    }
   ],
   "source": [
    "import textwrap\n",
    "print(textwrap.fill(s, 70))"
   ]
  },
  {
   "cell_type": "code",
   "execution_count": 5,
   "metadata": {},
   "outputs": [
    {
     "name": "stdout",
     "output_type": "stream",
     "text": [
      "Look into my eyes, look into my eyes,\n",
      "the eyes, the eyes, the eyes, not around\n",
      "the eyes, don't look around the eyes,\n",
      "look into my eyes, you're under.\n"
     ]
    }
   ],
   "source": [
    "print(textwrap.fill(s, 40))"
   ]
  },
  {
   "cell_type": "code",
   "execution_count": 6,
   "metadata": {},
   "outputs": [
    {
     "name": "stdout",
     "output_type": "stream",
     "text": [
      " Look into my eyes, look into my eyes,\n",
      "the eyes, the eyes, the eyes, not around\n",
      "the eyes, don't look around the eyes,\n",
      "look into my eyes, you're under.\n"
     ]
    }
   ],
   "source": [
    "print(textwrap.fill(s, 40, initial_indent=' '))"
   ]
  },
  {
   "cell_type": "code",
   "execution_count": 7,
   "metadata": {},
   "outputs": [
    {
     "name": "stdout",
     "output_type": "stream",
     "text": [
      "Look into my eyes, look into my eyes,\n",
      " the eyes, the eyes, the eyes, not\n",
      " around the eyes, don't look around the\n",
      " eyes, look into my eyes, you're under.\n"
     ]
    }
   ],
   "source": [
    "print(textwrap.fill(s, 40, subsequent_indent= ' '))"
   ]
  },
  {
   "cell_type": "code",
   "execution_count": 8,
   "metadata": {},
   "outputs": [
    {
     "ename": "OSError",
     "evalue": "[WinError 6] Неверный дескриптор",
     "output_type": "error",
     "traceback": [
      "\u001b[1;31m---------------------------------------------------------------------------\u001b[0m",
      "\u001b[1;31mOSError\u001b[0m                                   Traceback (most recent call last)",
      "\u001b[1;32m<ipython-input-8-ff27f2edeb0b>\u001b[0m in \u001b[0;36m<module>\u001b[1;34m()\u001b[0m\n\u001b[0;32m      1\u001b[0m \u001b[1;32mimport\u001b[0m \u001b[0mos\u001b[0m\u001b[1;33m\u001b[0m\u001b[0m\n\u001b[1;32m----> 2\u001b[1;33m \u001b[0mos\u001b[0m\u001b[1;33m.\u001b[0m\u001b[0mget_terminal_size\u001b[0m\u001b[1;33m(\u001b[0m\u001b[1;33m)\u001b[0m\u001b[1;33m.\u001b[0m\u001b[0mcolumns\u001b[0m\u001b[1;33m\u001b[0m\u001b[0m\n\u001b[0m",
      "\u001b[1;31mOSError\u001b[0m: [WinError 6] Неверный дескриптор"
     ]
    }
   ],
   "source": [
    "import os\n",
    "os.get_terminal_size().columns"
   ]
  },
  {
   "cell_type": "markdown",
   "metadata": {},
   "source": [
    "# Работа с HTML и XML сущностями в тексте"
   ]
  },
  {
   "cell_type": "markdown",
   "metadata": {},
   "source": [
    "Вы хотите заменить HTML- и XML- сущности, такие как &entity; или &#code;, соответствующим текстом. Или же вам нужно произвести текст, но экранировать некоторые символы (например, <, > или &). "
   ]
  },
  {
   "cell_type": "markdown",
   "metadata": {},
   "source": [
    "Спецсимволы можно заменить с помощью функции:  html.escape(). "
   ]
  },
  {
   "cell_type": "code",
   "execution_count": 9,
   "metadata": {},
   "outputs": [
    {
     "name": "stdout",
     "output_type": "stream",
     "text": [
      "Elements are written as \"<tag>text</tag>\".\n"
     ]
    }
   ],
   "source": [
    "s = 'Elements are written as \"<tag>text</tag>\".' \n",
    "import html\n",
    "print(s)"
   ]
  },
  {
   "cell_type": "code",
   "execution_count": 11,
   "metadata": {},
   "outputs": [
    {
     "name": "stdout",
     "output_type": "stream",
     "text": [
      "Elements are written as &quot;&lt;tag&gt;text&lt;/tag&gt;&quot;.\n"
     ]
    }
   ],
   "source": [
    "#функция html.escape() экранировала символы\n",
    "print(html.escape(s))"
   ]
  },
  {
   "cell_type": "code",
   "execution_count": 12,
   "metadata": {},
   "outputs": [
    {
     "name": "stdout",
     "output_type": "stream",
     "text": [
      "Elements are written as \"&lt;tag&gt;text&lt;/tag&gt;\".\n"
     ]
    }
   ],
   "source": [
    "#отключим экранирование кавычек\n",
    "print(html.escape(s, quote=False))"
   ]
  },
  {
   "cell_type": "markdown",
   "metadata": {},
   "source": [
    "Если вы хотите произвести текст в кодировке ASCII и вставить коды символов вместо отсутствующих в ASCII символов, вы можете использовать аргумент errors='xmlcharrefreplace' с различными функциями ввода-вывода."
   ]
  },
  {
   "cell_type": "code",
   "execution_count": 13,
   "metadata": {},
   "outputs": [
    {
     "data": {
      "text/plain": [
       "b'Spicy Jalape&#241;o'"
      ]
     },
     "execution_count": 13,
     "metadata": {},
     "output_type": "execute_result"
    }
   ],
   "source": [
    "s = 'Spicy Jalapeño' \n",
    "s.encode('ascii', errors='xmlcharrefreplace') "
   ]
  },
  {
   "cell_type": "markdown",
   "metadata": {},
   "source": [
    "парсер HTML или XML"
   ]
  },
  {
   "cell_type": "markdown",
   "metadata": {},
   "source": [
    "эти инструменты автоматически позаботятся о замене значений во время парсинга"
   ]
  },
  {
   "cell_type": "markdown",
   "metadata": {},
   "source": [
    " вы хотите заменить их вручную (некие сущности), то сможете сделать это с помощью различных функций и методов, связанных с парсерами HTML и XML"
   ]
  },
  {
   "cell_type": "code",
   "execution_count": 14,
   "metadata": {},
   "outputs": [
    {
     "name": "stderr",
     "output_type": "stream",
     "text": [
      "C:\\Users\\user\\Anaconda3\\lib\\site-packages\\ipykernel_launcher.py:4: DeprecationWarning: The unescape method is deprecated and will be removed in 3.5, use html.unescape() instead.\n",
      "  after removing the cwd from sys.path.\n"
     ]
    },
    {
     "data": {
      "text/plain": [
       "'Spicy \"Jalapeño\".'"
      ]
     },
     "execution_count": 14,
     "metadata": {},
     "output_type": "execute_result"
    }
   ],
   "source": [
    "s = 'Spicy &quot;Jalape&#241;o&quot.' \n",
    "from html.parser import HTMLParser\n",
    "p = HTMLParser()\n",
    "p.unescape(s)"
   ]
  },
  {
   "cell_type": "code",
   "execution_count": 15,
   "metadata": {},
   "outputs": [
    {
     "data": {
      "text/plain": [
       "'The prompt is >>>'"
      ]
     },
     "execution_count": 15,
     "metadata": {},
     "output_type": "execute_result"
    }
   ],
   "source": [
    "t = 'The prompt is &gt;&gt;&gt;'\n",
    "from xml.sax.saxutils import unescape \n",
    "unescape(t)"
   ]
  },
  {
   "cell_type": "markdown",
   "metadata": {},
   "source": [
    "для XML есть парсер xml.etree.ElementTree"
   ]
  },
  {
   "cell_type": "markdown",
   "metadata": {},
   "source": [
    "# Токенизация текста"
   ]
  },
  {
   "cell_type": "markdown",
   "metadata": {},
   "source": [
    "У Вас есть строчка, которую Вы хотите распарсить в поток токенов слева на право"
   ]
  },
  {
   "cell_type": "code",
   "execution_count": null,
   "metadata": {},
   "outputs": [],
   "source": [
    "text = 'foo = 23 + 42 * 10'"
   ]
  },
  {
   "cell_type": "markdown",
   "metadata": {},
   "source": [
    "Чтобы токенизировать строку, нужно нечто большее, чем простой поиск по шаблонам. Нужен способ определить тип шаблона."
   ]
  },
  {
   "cell_type": "markdown",
   "metadata": {},
   "source": [
    " Мы хотим - превратить строку в последовательность пар:"
   ]
  },
  {
   "cell_type": "markdown",
   "metadata": {},
   "source": [
    "tokens = [('NAME', 'foo'), ('EQ', '='), ('NUM', '23'), ('PLUS', '+'), ('NUM', '42'), ('TIMES', '*'), ('NUM', '10')]"
   ]
  },
  {
   "cell_type": "markdown",
   "metadata": {},
   "source": [
    "Для разрезания такого типа первым шагом должно быть определение всех возможных токенов, включая пробелы, с помощью шаблонов регулярных выражений, использующих именованные захватывающие группы: "
   ]
  },
  {
   "cell_type": "code",
   "execution_count": 1,
   "metadata": {},
   "outputs": [],
   "source": [
    "import re\n",
    "NAME = r'(?P<NAME>[a-zA-Z_][a-zA-Z_0-9]*)'  # имя переменной\n",
    "NUM = r'(?P<NUM>\\d+)'     # число\n",
    "PLUS = r'(?P<PLUS>\\+)'    # сложение\n",
    "TIMES = r'(?P<TIMES>\\*)'  # умножение\n",
    "EQ = r'(?P<EQ>\\=)'        # равно\n",
    "WS = r'(?P<WS>\\s+)'       # пробел"
   ]
  },
  {
   "cell_type": "code",
   "execution_count": 3,
   "metadata": {},
   "outputs": [],
   "source": [
    "master_pat = re.compile('|'.join([NAME, NUM, PLUS, TIMES, EQ, WS]))"
   ]
  },
  {
   "cell_type": "raw",
   "metadata": {},
   "source": [
    "В этих шаблонах условие ?P<TOKENNAME> используется для присваивания имени шаблону. "
   ]
  },
  {
   "cell_type": "markdown",
   "metadata": {},
   "source": [
    " Для токенизации, используем малоизвестный метод шаблонных объектов scanner(). Этот метод создает объект сканера, в котором повторно вызывается шаг match() для предоставленного текста, выполняя один поиск совпадения за раз. "
   ]
  },
  {
   "cell_type": "markdown",
   "metadata": {},
   "source": [
    " интерактивный сеанс работы объекта сканера: "
   ]
  },
  {
   "cell_type": "code",
   "execution_count": 5,
   "metadata": {},
   "outputs": [],
   "source": [
    "scanner = master_pat.scanner('foo = 42') #ищем значение \"42\""
   ]
  },
  {
   "cell_type": "code",
   "execution_count": 6,
   "metadata": {},
   "outputs": [
    {
     "data": {
      "text/plain": [
       "<re.Match object; span=(0, 3), match='foo'>"
      ]
     },
     "execution_count": 6,
     "metadata": {},
     "output_type": "execute_result"
    }
   ],
   "source": [
    "scanner.match()   # ищем первое совпадение с шаблонами"
   ]
  },
  {
   "cell_type": "code",
   "execution_count": 7,
   "metadata": {},
   "outputs": [
    {
     "data": {
      "text/plain": [
       "('NAME', 'foo')"
      ]
     },
     "execution_count": 7,
     "metadata": {},
     "output_type": "execute_result"
    }
   ],
   "source": [
    "_.lastgroup, _.group()"
   ]
  },
  {
   "cell_type": "code",
   "execution_count": 9,
   "metadata": {},
   "outputs": [
    {
     "data": {
      "text/plain": [
       "<re.Match object; span=(4, 5), match='='>"
      ]
     },
     "execution_count": 9,
     "metadata": {},
     "output_type": "execute_result"
    }
   ],
   "source": [
    "scanner.match()"
   ]
  },
  {
   "cell_type": "code",
   "execution_count": 10,
   "metadata": {},
   "outputs": [
    {
     "data": {
      "text/plain": [
       "('EQ', '=')"
      ]
     },
     "execution_count": 10,
     "metadata": {},
     "output_type": "execute_result"
    }
   ],
   "source": [
    "_.lastgroup, _.group()"
   ]
  },
  {
   "cell_type": "code",
   "execution_count": 11,
   "metadata": {},
   "outputs": [
    {
     "data": {
      "text/plain": [
       "<re.Match object; span=(5, 6), match=' '>"
      ]
     },
     "execution_count": 11,
     "metadata": {},
     "output_type": "execute_result"
    }
   ],
   "source": [
    "scanner.match()"
   ]
  },
  {
   "cell_type": "code",
   "execution_count": 12,
   "metadata": {},
   "outputs": [
    {
     "data": {
      "text/plain": [
       "('WS', ' ')"
      ]
     },
     "execution_count": 12,
     "metadata": {},
     "output_type": "execute_result"
    }
   ],
   "source": [
    "_.lastgroup, _.group()"
   ]
  },
  {
   "cell_type": "code",
   "execution_count": 13,
   "metadata": {},
   "outputs": [
    {
     "data": {
      "text/plain": [
       "<re.Match object; span=(6, 8), match='42'>"
      ]
     },
     "execution_count": 13,
     "metadata": {},
     "output_type": "execute_result"
    }
   ],
   "source": [
    "scanner.match()"
   ]
  },
  {
   "cell_type": "code",
   "execution_count": 14,
   "metadata": {},
   "outputs": [
    {
     "data": {
      "text/plain": [
       "('NUM', '42')"
      ]
     },
     "execution_count": 14,
     "metadata": {},
     "output_type": "execute_result"
    }
   ],
   "source": [
    "_.lastgroup, _.group()"
   ]
  },
  {
   "cell_type": "markdown",
   "metadata": {},
   "source": [
    "Этот прием для использования в программе: очищаем  и упаковываем в генератор"
   ]
  },
  {
   "cell_type": "code",
   "execution_count": 18,
   "metadata": {},
   "outputs": [],
   "source": [
    "from collections import namedtuple\n",
    "Token = namedtuple('Token', ['type', 'value'])\n",
    "def generate_tokens(pat, text):\n",
    "    scanner = pat.scanner(text)\n",
    "    for m in iter(scanner.match, None):\n",
    "        yield Token(m.lastgroup, m.group())"
   ]
  },
  {
   "cell_type": "code",
   "execution_count": 19,
   "metadata": {},
   "outputs": [
    {
     "name": "stdout",
     "output_type": "stream",
     "text": [
      "Token(type='NAME', value='foo')\n",
      "Token(type='WS', value=' ')\n",
      "Token(type='EQ', value='=')\n",
      "Token(type='WS', value=' ')\n",
      "Token(type='NUM', value='42')\n"
     ]
    }
   ],
   "source": [
    "# пример использования\n",
    "for tok in generate_tokens(master_pat, 'foo = 42'):\n",
    "    print(tok)"
   ]
  },
  {
   "cell_type": "markdown",
   "metadata": {},
   "source": [
    "Чтобы отфильтровать поток токенов, можно либо определить больше генераторов, либо использовать выражение-генератор. "
   ]
  },
  {
   "cell_type": "markdown",
   "metadata": {},
   "source": [
    "вот так можно отфильтровать все токены-пробелы: "
   ]
  },
  {
   "cell_type": "code",
   "execution_count": 21,
   "metadata": {},
   "outputs": [
    {
     "name": "stdout",
     "output_type": "stream",
     "text": [
      "Token(type='NAME', value='foo')\n",
      "Token(type='EQ', value='=')\n",
      "Token(type='NUM', value='42')\n"
     ]
    }
   ],
   "source": [
    "tokens = (tok for tok in generate_tokens(master_pat, 'foo = 42') if tok.type != 'WS')\n",
    "for tok in tokens:\n",
    "    print(tok)"
   ]
  },
  {
   "cell_type": "markdown",
   "metadata": {},
   "source": [
    "Токенизация часто является первым шагом более продвинутого парсинга и обработки текста. "
   ]
  },
  {
   "cell_type": "markdown",
   "metadata": {},
   "source": [
    "несколько важных моментов"
   ]
  },
  {
   "cell_type": "markdown",
   "metadata": {},
   "source": [
    "Во-первых, вы должны убедиться, что вы определили соответствующие шаблоны регулярных выражений для всех возможных текстовых последовательностей, которые могут встретиться во входных данных. Если встретится текст, для которого нельзя найти совпадение, сканирование просто остановится. Вот почему необходимо было определить токен пробела (WS) в примере выше. "
   ]
  },
  {
   "cell_type": "markdown",
   "metadata": {},
   "source": [
    "Порядок токенов в главном регулярном выражении также важен. При поиске совпадений регулярное выражение пытается отыскать совпадения с шаблонами в заданном порядке. Поэтому если шаблон окажется подстрокой более длинного шаблона, вы должны убедиться, что более длинный шаблон вписан в выражение первым. "
   ]
  },
  {
   "cell_type": "code",
   "execution_count": null,
   "metadata": {},
   "outputs": [],
   "source": [
    "LT = r'(?P<LT><)'\n",
    "LE = r'(?P<LE><=)'\n",
    "EQ = r'(?P<EQ>>=)'"
   ]
  },
  {
   "cell_type": "code",
   "execution_count": null,
   "metadata": {},
   "outputs": [],
   "source": [
    "master_pat = re.compile('|'.join()[LE,LT,EQ]) # Правильно\n",
    "# master_pat = re.compile('|'.join([LT, LE, EQ])) # Неправильно "
   ]
  },
  {
   "cell_type": "markdown",
   "metadata": {},
   "source": [
    "Второй шаблон неправильный, потому что он будет отыскивать совпадение с <=, поскольку за токеном LT следует токен EQ, а не LE. "
   ]
  },
  {
   "cell_type": "markdown",
   "metadata": {},
   "source": [
    "И еще: нужно  следить за шаблонами, формирующими подстроки. "
   ]
  },
  {
   "cell_type": "markdown",
   "metadata": {},
   "source": [
    "пусть есть два шаблона:"
   ]
  },
  {
   "cell_type": "code",
   "execution_count": 29,
   "metadata": {},
   "outputs": [],
   "source": [
    "PRINT = r'(?P<PRINT>print)'\n",
    "NAME = r'(?P<NAME>[a-zA-Z_][a-zA-Z_0-9]*)'"
   ]
  },
  {
   "cell_type": "code",
   "execution_count": 30,
   "metadata": {},
   "outputs": [],
   "source": [
    "master_pat = re.compile('|'.join([PRINT, NAME]))"
   ]
  },
  {
   "cell_type": "code",
   "execution_count": 31,
   "metadata": {},
   "outputs": [
    {
     "name": "stdout",
     "output_type": "stream",
     "text": [
      "Token(type='PRINT', value='print')\n",
      "Token(type='NAME', value='er')\n"
     ]
    }
   ],
   "source": [
    "for tok in generate_tokens(master_pat, 'printer'):   # строка для парсинга 'printer'\n",
    "    print(tok)"
   ]
  },
  {
   "cell_type": "markdown",
   "metadata": {},
   "source": [
    "Для более продвинутой токенизации можно обратиться к пакетам PyParsing или PLY"
   ]
  },
  {
   "cell_type": "markdown",
   "metadata": {},
   "source": [
    "# Написание простого парсера на основе метода рекурсивного спуска"
   ]
  },
  {
   "cell_type": "markdown",
   "metadata": {},
   "source": [
    "Вам нужно распарсить текст в соответствии с грамматическими правилами и выполнить действия или построить абстрактное синтаксическое дерево, представляющее входные данные. "
   ]
  },
  {
   "cell_type": "markdown",
   "metadata": {},
   "source": [
    "В этой задаче мы сосредоточены на парсинге текста в соответствии с некоторой определенной грамматикой. Чтобы это сделать, вы должны начать с формальной спецификации грамматики в форме BNF (БНФ, форма Бэкуса–Наура) или EBNF (РБНФ, расширенная форма Бэкуса–Наура). "
   ]
  },
  {
   "cell_type": "markdown",
   "metadata": {},
   "source": [
    "https://ru.wikipedia.org/wiki/%D0%90%D0%B1%D1%81%D1%82%D1%80%D0%B0%D0%BA%D1%82%D0%BD%D0%BE%D0%B5_%D1%81%D0%B8%D0%BD%D1%82%D0%B0%D0%BA%D1%81%D0%B8%D1%87%D0%B5%D1%81%D0%BA%D0%BE%D0%B5_%D0%B4%D0%B5%D1%80%D0%B5%D0%B2%D0%BE"
   ]
  },
  {
   "cell_type": "markdown",
   "metadata": {},
   "source": [
    "https://ru.wikipedia.org/wiki/%D0%A4%D0%BE%D1%80%D0%BC%D0%B0_%D0%91%D1%8D%D0%BA%D1%83%D1%81%D0%B0_%E2%80%94_%D0%9D%D0%B0%D1%83%D1%80%D0%B0"
   ]
  },
  {
   "cell_type": "markdown",
   "metadata": {},
   "source": [
    "https://ru.wikipedia.org/wiki/%D0%A0%D0%B0%D1%81%D1%88%D0%B8%D1%80%D0%B5%D0%BD%D0%BD%D0%B0%D1%8F_%D1%84%D0%BE%D1%80%D0%BC%D0%B0_%D0%91%D1%8D%D0%BA%D1%83%D1%81%D0%B0_%E2%80%94_%D0%9D%D0%B0%D1%83%D1%80%D0%B0"
   ]
  },
  {
   "cell_type": "markdown",
   "metadata": {},
   "source": [
    "https://ru.wikipedia.org/wiki/%D0%A4%D0%BE%D1%80%D0%BC%D0%B0%D0%BB%D1%8C%D0%BD%D0%B0%D1%8F_%D0%B3%D1%80%D0%B0%D0%BC%D0%BC%D0%B0%D1%82%D0%B8%D0%BA%D0%B0"
   ]
  },
  {
   "cell_type": "markdown",
   "metadata": {},
   "source": [
    "Форма Бэкуса — Наура (сокр. БНФ, Бэкуса — Наура форма) — формальная система описания синтаксиса, в которой одни синтаксические категории последовательно определяются через другие категории. "
   ]
  },
  {
   "cell_type": "markdown",
   "metadata": {},
   "source": [
    "Терминальные символы — это минимальные элементы грамматики, не имеющие собственной грамматической структуры. В РБНФ терминальные символы — это либо предопределённые идентификаторы (имена, считающиеся заданными для данного описания грамматики), либо цепочки — последовательности символов в кавычках или апострофах."
   ]
  },
  {
   "cell_type": "markdown",
   "metadata": {},
   "source": [
    "Нетерминальные символы — это элементы грамматики, имеющие собственные имена и структуру. Каждый нетерминальный символ состоит из одного или более терминальных и/или нетерминальных символов, сочетание которых определяется правилами грамматики. В РБНФ каждый нетерминальный символ имеет имя, которое представляет собой строку символов."
   ]
  },
  {
   "cell_type": "markdown",
   "metadata": {},
   "source": [
    "Правило в РБНФ имеет вид:\n",
    "\n",
    "идентификатор = выражение.\n",
    "\n",
    "где идентификатор — имя нетерминального символа, а выражение — соответствующая правилам РБНФ комбинация терминальных и нетерминальных символов и специальных знаков. Точка в конце — специальный символ, указывающий на завершение правила.\n",
    "\n",
    "Семантика правила РБНФ — нетерминальный символ, заданный идентификатором слева от знака «равно», представляет собой определяемую выражением комбинацию терминальных и нетерминальных символов.\n",
    "\n",
    "Полное описание грамматики представляет собой набор правил, который последовательно определяет все нетерминальные символы грамматики так, что каждый нетерминальный символ может быть сведён к комбинации терминальных символов путём последовательного (рекурсивного) применения правил. В определении РБНФ нет никаких специальных предписаний относительно порядка записи правил, хотя такие предписания могут вводиться при использовании РБНФ программными средствами, обеспечивающими автоматическую генерацию программ синтаксического разбора по описанию грамматики."
   ]
  },
  {
   "cell_type": "markdown",
   "metadata": {},
   "source": [
    "Набор возможных конструкций РБНФ очень невелик. Это конкатенация, выбор, условное вхождение и повторение."
   ]
  },
  {
   "cell_type": "markdown",
   "metadata": {},
   "source": [
    "лексема «::=» её описание (или «=»)\n",
    "\n",
    "'…' — текстовый элемент — символ или группа символов\n",
    "\n",
    "A B — элемент A, за которым следует элемент B (конкатенация)\n",
    "\n",
    "A | B — либо элемент A либо B (выбор)\n",
    "\n",
    "[A] — элемент A входит или не входит (условное вхождение)\n",
    "\n",
    "{A} — ноль или более элементов A (повторение)\n",
    "\n",
    "(A B) — группировка элементов"
   ]
  },
  {
   "cell_type": "markdown",
   "metadata": {},
   "source": [
    "Например, грамматика для простых арифметических выражений может выглядеть так: "
   ]
  },
  {
   "cell_type": "markdown",
   "metadata": {},
   "source": [
    "expr - выражение (определяемый символ), нетерминальный символ\n",
    "\n",
    "term - терминальный символ"
   ]
  },
  {
   "cell_type": "markdown",
   "metadata": {},
   "source": [
    "expr ::= expr + term "
   ]
  },
  {
   "cell_type": "markdown",
   "metadata": {},
   "source": [
    " | expr - term "
   ]
  },
  {
   "cell_type": "markdown",
   "metadata": {},
   "source": [
    "| term"
   ]
  },
  {
   "cell_type": "markdown",
   "metadata": {},
   "source": [
    "factor - символ или выражение"
   ]
  },
  {
   "cell_type": "markdown",
   "metadata": {},
   "source": [
    "term ::= term * factor\n",
    "        \n",
    "        | term / factor    \n",
    "        \n",
    "        | factor "
   ]
  },
  {
   "cell_type": "markdown",
   "metadata": {},
   "source": [
    "factor ::= ( expr )     \n",
    "        | NUM "
   ]
  },
  {
   "cell_type": "markdown",
   "metadata": {},
   "source": [
    "А вот альтернативная форма РБНФ: "
   ]
  },
  {
   "cell_type": "markdown",
   "metadata": {},
   "source": [
    "expr ::= term { (+|-) term }* "
   ]
  },
  {
   "cell_type": "markdown",
   "metadata": {},
   "source": [
    "term ::= factor { (*|/) factor }* "
   ]
  },
  {
   "cell_type": "markdown",
   "metadata": {},
   "source": [
    "factor ::= ( expr )\n",
    "    | NUM "
   ]
  },
  {
   "cell_type": "markdown",
   "metadata": {},
   "source": [
    "В EBNF части правил, заключенные в { ... }*, являются необязательными. * означает ноль и более повторений (то есть имеет такое значение, как и в регулярных выражениях). "
   ]
  },
  {
   "cell_type": "markdown",
   "metadata": {},
   "source": [
    "Думайте о BNF как об определении правил замены или подстановки, где символы слева могут быть заменены символами справа (или наоборот). В общем, во время парсинга вы пытаетесь сопоставить входящий текст с грамматикой, делая различные подстановки и расширения с использованием BNF."
   ]
  },
  {
   "cell_type": "markdown",
   "metadata": {},
   "source": [
    "Чтобы проиллюстрировать это, предположим, что вы парсите выражение 3 + 4 * 5. "
   ]
  },
  {
   "cell_type": "markdown",
   "metadata": {},
   "source": [
    " Это выражение должно быть сначала разбито на поток токенов"
   ]
  },
  {
   "cell_type": "markdown",
   "metadata": {},
   "source": [
    "NUM + NUM * NUM "
   ]
  },
  {
   "cell_type": "markdown",
   "metadata": {},
   "source": [
    "С этого момента парсинг начинает пытаться сопоставить грамматику с входящими токенами, делая подстановки: "
   ]
  },
  {
   "cell_type": "markdown",
   "metadata": {},
   "source": [
    "expr"
   ]
  },
  {
   "cell_type": "markdown",
   "metadata": {},
   "source": [
    "expr ::= term { (+|-) term }* "
   ]
  },
  {
   "cell_type": "markdown",
   "metadata": {},
   "source": [
    "expr ::= factor { (*|/) factor }* { (+|-) term }* "
   ]
  },
  {
   "cell_type": "markdown",
   "metadata": {},
   "source": [
    "expr ::= NUM { (*|/) factor }* { (+|-) term }* "
   ]
  },
  {
   "cell_type": "markdown",
   "metadata": {},
   "source": [
    "expr ::= NUM { (+|-) term }* "
   ]
  },
  {
   "cell_type": "markdown",
   "metadata": {},
   "source": [
    "expr ::= NUM + term { (+|-) term }* "
   ]
  },
  {
   "cell_type": "markdown",
   "metadata": {},
   "source": [
    "expr ::= NUM + factor { (*|/) factor }* { (+|-) term }* "
   ]
  },
  {
   "cell_type": "markdown",
   "metadata": {},
   "source": [
    "expr ::= NUM + NUM { (*|/) factor}* { (+|-) term }* "
   ]
  },
  {
   "cell_type": "markdown",
   "metadata": {},
   "source": [
    "expr ::= NUM + NUM * factor { (*|/) factor }* { (+|-) term }* "
   ]
  },
  {
   "cell_type": "markdown",
   "metadata": {},
   "source": [
    "expr ::= NUM + NUM * NUM { (*|/) factor }* { (+|-) term }* "
   ]
  },
  {
   "cell_type": "markdown",
   "metadata": {},
   "source": [
    "expr ::= NUM + NUM * NUM { (+|-) term }* "
   ]
  },
  {
   "cell_type": "markdown",
   "metadata": {},
   "source": [
    "expr ::= NUM + NUM * NUM "
   ]
  },
  {
   "cell_type": "markdown",
   "metadata": {},
   "source": [
    "Чтобы пройти по всем шагам подстановки и разобраться, придется потратить время, но в целом они работают так: смотрят на входящие данные и пытаются сопоставить их с правилами грамматики. "
   ]
  },
  {
   "cell_type": "markdown",
   "metadata": {},
   "source": [
    " Первый входящий токен – это NUM, поэтому подстановки сначала сосредоточиваются на поиске совпадений с этой частью. Когда совпадение найдено, внимание переходит к следующему токену + и т. д. Некоторые части правой стороны (например, {  (*/) factor }*) иcчезают, когда определено, что они не совпадают со следующим токеном."
   ]
  },
  {
   "cell_type": "markdown",
   "metadata": {},
   "source": [
    " Парсинг проходит успешно, если правая сторона достаточно полна, чтобы охватить все входящие токены. "
   ]
  },
  {
   "cell_type": "markdown",
   "metadata": {},
   "source": [
    "Перейдем к простому рецепту построения парсера выражений, работающего по методу рекурсивного спуска: "
   ]
  },
  {
   "cell_type": "code",
   "execution_count": 1,
   "metadata": {},
   "outputs": [],
   "source": [
    "import re\n",
    "import collections"
   ]
  },
  {
   "cell_type": "markdown",
   "metadata": {},
   "source": [
    "Определение токенов "
   ]
  },
  {
   "cell_type": "code",
   "execution_count": 2,
   "metadata": {},
   "outputs": [],
   "source": [
    "NUM  = r'(?P<NUM>\\d+)' \n",
    "PLUS  = r'(?P<PLUS>\\+)' \n",
    "MINUS  = r'(?P<MINUS>-)' \n",
    "TIMES  = r'(?P<TIMES>\\*)' \n",
    "DIVIDE = r'(?P<DIVIDE>/)' \n",
    "LPAREN = r'(?P<LPAREN>\\()' \n",
    "RPAREN = r'(?P<RPAREN>\\))' \n",
    "WS  = r'(?P<WS>\\s+)' "
   ]
  },
  {
   "cell_type": "code",
   "execution_count": 3,
   "metadata": {},
   "outputs": [],
   "source": [
    "master_pat = re.compile('|'.join([NUM, PLUS, MINUS, TIMES, DIVIDE, LPAREN, RPAREN, WS])) "
   ]
  },
  {
   "cell_type": "markdown",
   "metadata": {},
   "source": [
    "Токенизатор "
   ]
  },
  {
   "cell_type": "code",
   "execution_count": 4,
   "metadata": {},
   "outputs": [],
   "source": [
    "Token = collections.namedtuple('Token', ['type','value']) "
   ]
  },
  {
   "cell_type": "code",
   "execution_count": 6,
   "metadata": {},
   "outputs": [],
   "source": [
    "def generate_tokens(text): \n",
    "    scanner = master_pat.scanner(text) \n",
    "    for m in iter(scanner.match, None):\n",
    "        tok = Token(m.lastgroup, m.group())\n",
    "        if tok.type != 'WS':\n",
    "            yield tok \n",
    "        "
   ]
  },
  {
   "cell_type": "markdown",
   "metadata": {},
   "source": [
    "Парсер "
   ]
  },
  {
   "cell_type": "code",
   "execution_count": 16,
   "metadata": {},
   "outputs": [],
   "source": [
    "class ExpressionEvaluator: \n",
    "    \"\"\"\n",
    "    Реализация парсера на базе рекурсивного спуска.     \n",
    "    Каждый метод реализует одно правило грамматики.     \n",
    "    Использует метод ._accept(), чтобы протестировать     \n",
    "    и принять текущий токен предварительного просмотра.     \n",
    "    Использует метод ._expect() для точного совпадения     \n",
    "    и отбрасывания следующего токена на входе     \n",
    "    (или возбуждает SyntaxError, если он не совпадает). \n",
    "    \"\"\"\n",
    "    def parse(self,text): \n",
    "        self.tokens = generate_tokens(text) \n",
    "        # Последний потребленный символ \n",
    "        self.tok = None \n",
    "        # Следующий токенизированный символ \n",
    "        self.nexttok = None\n",
    "        # Загрузить первый токен предварительного просмотра\n",
    "        self._advance()\n",
    "        return self.expr() \n",
    "    \n",
    "    def _advance(self):\n",
    "        'Продвинуться на один токен вперед'\n",
    "        self.tok, self.nexttok = self.nexttok, next(self.tokens, None) \n",
    "\n",
    "    def _accept(self,toktype): \n",
    "        'Проверить и потребить следующий токен, если он совпадает с toktype'\n",
    "        if self.nexttok and self.nexttok.type == toktype: \n",
    "            self._advance() \n",
    "            return True\n",
    "        else:\n",
    "            return False\n",
    "        \n",
    "    def _expect(self,toktype):\n",
    "        'Потребить следующий токен, если он совпадает с toktype, или возбудить SyntaxError' \n",
    "        if not self._accept(toktype): \n",
    "            raise SyntaxError('Expected ' + toktype) \n",
    "            \n",
    "        \n",
    "        \n",
    "    # Далее следуют правила грамматики\n",
    "    \n",
    "    def expr(self):\n",
    "        \"expression ::= term { ('+'|'-') term }*\" \n",
    "        \n",
    "        exprval = self.term()\n",
    "        while self._accept('PLUS') or self._accept('MINUS'):\n",
    "            opp = self.tok.type\n",
    "            right = self.term()\n",
    "            if opp == 'PLUS':\n",
    "                exprval += right\n",
    "            elif op == 'MINUS':\n",
    "                exprval -= right\n",
    "        return exprval \n",
    "        \n",
    "    def term(self):\n",
    "        \"term ::= factor { ('*'|'/') factor }*\" \n",
    "        \n",
    "        termval = self.factor() \n",
    "        while self._accept('TIMES') or self._accept('DIVIDE'):\n",
    "            op = self.tok.type \n",
    "            right = self.factor() \n",
    "            if op == 'TIMES': \n",
    "                termval *= right \n",
    "            elif op == 'DIVIDE': \n",
    "                termval /= right \n",
    "        return termval \n",
    "        \n",
    "    def factor(self): \n",
    "        \"factor ::= NUM | ( expr )\" \n",
    "        if self._accept('NUM'): \n",
    "            return int(self.tok.value)\n",
    "        elif self._accept('LPAREN'):\n",
    "            exprval = self.expr()\n",
    "            self._expect('RPAREN')\n",
    "            return exprval\n",
    "        else:\n",
    "            raise SyntaxError('Expected NUMBER or LPAREN') \n",
    "        \n"
   ]
  },
  {
   "cell_type": "markdown",
   "metadata": {},
   "source": [
    "Вот пример интерактивного использования класса ExpressionEvaluator: "
   ]
  },
  {
   "cell_type": "code",
   "execution_count": 17,
   "metadata": {},
   "outputs": [
    {
     "data": {
      "text/plain": [
       "2"
      ]
     },
     "execution_count": 17,
     "metadata": {},
     "output_type": "execute_result"
    }
   ],
   "source": [
    "e = ExpressionEvaluator() \n",
    "e.parse('2') "
   ]
  },
  {
   "cell_type": "code",
   "execution_count": 18,
   "metadata": {},
   "outputs": [
    {
     "data": {
      "text/plain": [
       "5"
      ]
     },
     "execution_count": 18,
     "metadata": {},
     "output_type": "execute_result"
    }
   ],
   "source": [
    " e.parse('2 + 3') "
   ]
  },
  {
   "cell_type": "code",
   "execution_count": 19,
   "metadata": {},
   "outputs": [
    {
     "data": {
      "text/plain": [
       "14"
      ]
     },
     "execution_count": 19,
     "metadata": {},
     "output_type": "execute_result"
    }
   ],
   "source": [
    "e.parse('2 + 3 * 4') "
   ]
  },
  {
   "cell_type": "code",
   "execution_count": 20,
   "metadata": {},
   "outputs": [
    {
     "data": {
      "text/plain": [
       "37"
      ]
     },
     "execution_count": 20,
     "metadata": {},
     "output_type": "execute_result"
    }
   ],
   "source": [
    "e.parse('2 + (3 + 4) * 5') "
   ]
  },
  {
   "cell_type": "code",
   "execution_count": 21,
   "metadata": {},
   "outputs": [
    {
     "ename": "SyntaxError",
     "evalue": "Expected NUMBER or LPAREN (<string>)",
     "output_type": "error",
     "traceback": [
      "Traceback \u001b[1;36m(most recent call last)\u001b[0m:\n",
      "  File \u001b[0;32m\"C:\\Users\\user\\Anaconda3\\lib\\site-packages\\IPython\\core\\interactiveshell.py\"\u001b[0m, line \u001b[0;32m2961\u001b[0m, in \u001b[0;35mrun_code\u001b[0m\n    exec(code_obj, self.user_global_ns, self.user_ns)\n",
      "  File \u001b[0;32m\"<ipython-input-21-7c19172d7034>\"\u001b[0m, line \u001b[0;32m1\u001b[0m, in \u001b[0;35m<module>\u001b[0m\n    e.parse('2 + (3 + * 4)')\n",
      "  File \u001b[0;32m\"<ipython-input-16-f0fc03b36e67>\"\u001b[0m, line \u001b[0;32m19\u001b[0m, in \u001b[0;35mparse\u001b[0m\n    return self.expr()\n",
      "  File \u001b[0;32m\"<ipython-input-16-f0fc03b36e67>\"\u001b[0m, line \u001b[0;32m48\u001b[0m, in \u001b[0;35mexpr\u001b[0m\n    right = self.term()\n",
      "  File \u001b[0;32m\"<ipython-input-16-f0fc03b36e67>\"\u001b[0m, line \u001b[0;32m58\u001b[0m, in \u001b[0;35mterm\u001b[0m\n    termval = self.factor()\n",
      "  File \u001b[0;32m\"<ipython-input-16-f0fc03b36e67>\"\u001b[0m, line \u001b[0;32m73\u001b[0m, in \u001b[0;35mfactor\u001b[0m\n    exprval = self.expr()\n",
      "  File \u001b[0;32m\"<ipython-input-16-f0fc03b36e67>\"\u001b[0m, line \u001b[0;32m48\u001b[0m, in \u001b[0;35mexpr\u001b[0m\n    right = self.term()\n",
      "  File \u001b[0;32m\"<ipython-input-16-f0fc03b36e67>\"\u001b[0m, line \u001b[0;32m58\u001b[0m, in \u001b[0;35mterm\u001b[0m\n    termval = self.factor()\n",
      "\u001b[1;36m  File \u001b[1;32m\"<ipython-input-16-f0fc03b36e67>\"\u001b[1;36m, line \u001b[1;32m77\u001b[1;36m, in \u001b[1;35mfactor\u001b[1;36m\u001b[0m\n\u001b[1;33m    raise SyntaxError('Expected NUMBER or LPAREN')\u001b[0m\n",
      "\u001b[1;36m  File \u001b[1;32m\"<string>\"\u001b[1;36m, line \u001b[1;32munknown\u001b[0m\n\u001b[1;31mSyntaxError\u001b[0m\u001b[1;31m:\u001b[0m Expected NUMBER or LPAREN\n"
     ]
    }
   ],
   "source": [
    "e.parse('2 + (3 + * 4)') "
   ]
  },
  {
   "cell_type": "markdown",
   "metadata": {},
   "source": [
    "Если не только произвести простое вычисление, то нужно изменить класс ExpressionEvaluator. Например, вот альтернативная реализация, которая конструирует простое дерево парсинга: "
   ]
  },
  {
   "cell_type": "code",
   "execution_count": 23,
   "metadata": {},
   "outputs": [],
   "source": [
    "class ExpressionTreeBuilder(ExpressionEvaluator):\n",
    "    def expr(self):\n",
    "        \"expression ::= term { ('+'|'-') term }\" \n",
    "        \n",
    "        exprval = self.term()\n",
    "        while self._accept('PLUS') or self._accept('MINUS'):\n",
    "            op = self.tok.type\n",
    "            right = self.term()\n",
    "            if op == 'PLUS':\n",
    "                exprval = ('+', exprval, right)\n",
    "            elif op == 'MINUS':\n",
    "                exprval = ('-', exprval, right)\n",
    "        return exprval\n",
    "        \n",
    "    def term(self):\n",
    "        \"term ::= factor { ('*'|'/') factor }\" \n",
    "        \n",
    "        termval = self.factor() \n",
    "        while self._accept('TIMES') or self._accept('DIVIDE'):\n",
    "            op = self.tok.type \n",
    "            right = self.factor()\n",
    "            if op == 'TIMES':\n",
    "                termval = ('*', termval, right) \n",
    "            elif op == 'DIVIDE': \n",
    "                termval = ('/', termval, right)  \n",
    "        return termval \n",
    "    \n",
    "    def factor(self):\n",
    "        'factor ::= NUM | ( expr )'\n",
    "        if self._accept('NUM'): \n",
    "            return int(self.tok.value)\n",
    "        elif self._accept('LPAREN'): \n",
    "            exprval = self.expr() \n",
    "            self._expect('RPAREN') \n",
    "            return exprval\n",
    "        else:\n",
    "            raise SyntaxError('Expected NUMBER or LPAREN')\n",
    "                    \n",
    "                "
   ]
  },
  {
   "cell_type": "markdown",
   "metadata": {},
   "source": [
    "Вот как это работает: "
   ]
  },
  {
   "cell_type": "code",
   "execution_count": 24,
   "metadata": {},
   "outputs": [],
   "source": [
    "e = ExpressionTreeBuilder() "
   ]
  },
  {
   "cell_type": "code",
   "execution_count": 25,
   "metadata": {},
   "outputs": [
    {
     "data": {
      "text/plain": [
       "('+', 2, 3)"
      ]
     },
     "execution_count": 25,
     "metadata": {},
     "output_type": "execute_result"
    }
   ],
   "source": [
    "e.parse('2 + 3') "
   ]
  },
  {
   "cell_type": "code",
   "execution_count": 26,
   "metadata": {},
   "outputs": [
    {
     "data": {
      "text/plain": [
       "('+', 2, ('*', 3, 4))"
      ]
     },
     "execution_count": 26,
     "metadata": {},
     "output_type": "execute_result"
    }
   ],
   "source": [
    "e.parse('2 + 3 * 4') "
   ]
  },
  {
   "cell_type": "code",
   "execution_count": 27,
   "metadata": {},
   "outputs": [
    {
     "data": {
      "text/plain": [
       "('+', 2, ('*', ('+', 3, 4), 5))"
      ]
     },
     "execution_count": 27,
     "metadata": {},
     "output_type": "execute_result"
    }
   ],
   "source": [
    "e.parse('2 + (3 + 4) * 5') "
   ]
  },
  {
   "cell_type": "code",
   "execution_count": 28,
   "metadata": {},
   "outputs": [
    {
     "data": {
      "text/plain": [
       "('+', ('+', 2, 3), 4)"
      ]
     },
     "execution_count": 28,
     "metadata": {},
     "output_type": "execute_result"
    }
   ],
   "source": [
    "e.parse('2 + 3 + 4') "
   ]
  },
  {
   "cell_type": "markdown",
   "metadata": {},
   "source": [
    "# Обсуждение"
   ]
  },
  {
   "cell_type": "markdown",
   "metadata": {},
   "source": [
    "Берите каждое правило грамматики и превращаете его в функцию или метод."
   ]
  },
  {
   "cell_type": "code",
   "execution_count": null,
   "metadata": {},
   "outputs": [],
   "source": [
    "Если грамматика выглядит так:"
   ]
  },
  {
   "cell_type": "markdown",
   "metadata": {},
   "source": [
    "expr ::= term { ('+'|'-') term }* "
   ]
  },
  {
   "cell_type": "markdown",
   "metadata": {},
   "source": [
    "term ::= factor { ('*'|'/') factor }* "
   ]
  },
  {
   "cell_type": "markdown",
   "metadata": {},
   "source": [
    "factor ::= '(' expr ')' "
   ]
  },
  {
   "cell_type": "markdown",
   "metadata": {},
   "source": [
    "| NUM"
   ]
  },
  {
   "cell_type": "markdown",
   "metadata": {},
   "source": [
    "то нужно начать с превращения ее в такой набор методов: "
   ]
  },
  {
   "cell_type": "code",
   "execution_count": null,
   "metadata": {},
   "outputs": [],
   "source": [
    "class ExpressionEvaluator: \n",
    "    ...\n",
    "     def expr(self): \n",
    "            ...\n",
    "     def term(self): \n",
    "        ...\n",
    "     def factor(self): \n",
    "        ...\n",
    "        "
   ]
  },
  {
   "cell_type": "markdown",
   "metadata": {},
   "source": [
    "Задача каждого метода проста: он должен пройти слева направо по каждой части грамматического правила, потребляя токены в процессе. Цель метода – либо потребить правило, либо сгенерировать синтаксическую ошибку в случае застревания."
   ]
  },
  {
   "cell_type": "markdown",
   "metadata": {},
   "source": [
    " Чтобы реализовать это, применяются следующие приемы:\t"
   ]
  },
  {
   "cell_type": "markdown",
   "metadata": {},
   "source": [
    "1)если следующий символ в правиле является именем другого грамматического правила (например, term или factor), вы просто вызываете метод с этим именем. Это «спуск» алгоритма – управление спускается в другое грамматическое правило. Иногда правила могут использовать вызовы методов, которые уже выполняются (например, вызов expr в правиле factor ::= '(' expr ')'). Это «рекурсивность» алгоритма;\t"
   ]
  },
  {
   "cell_type": "markdown",
   "metadata": {},
   "source": [
    "2)если следующий символ в правиле должен быть конкретным символом (например, ( ), вы смотрите на следующий токен и проверяете на точное совпадение. Если он не совпадает, то это синтаксическая ошибка. В данном рецепте для выполнения этих шагов используется метод _expect();"
   ]
  },
  {
   "cell_type": "markdown",
   "metadata": {},
   "source": [
    "3)если следующий символ в правиле может соответствовать нескольким возможным выборам (например, + или ­), вы должны проверить следующий токен на каждую из этих возможностей и продвигаться вперед только в том случае, если совпадение найдено. В данном рецепте за это отвечает метод _accept(). Он похож на более слабую версию метода _expect() – в том отношении, что он продвинется вперед, только если совпадение найдено, но если нет, то он просто отступает, не возбуждая ошибку (что позволяет сделать другие проверки);\t"
   ]
  },
  {
   "cell_type": "markdown",
   "metadata": {},
   "source": [
    "4) для грамматических правил с повторяющимися частями (как, например, в правиле expr ::= term { ('+'|'-') term }*) повторение реализуется циклом while. Тело цикла будет в общем собирать или обрабатывать все повторяющиеся значения, пока они не закончатся;\t"
   ]
  },
  {
   "cell_type": "markdown",
   "metadata": {},
   "source": [
    "5)если грамматическое правило потреблено, каждый метод возвращает некий результат тому, кто его вызывал. Так значения распространяются во время парсинга. Например, в  «вычислителе» выражений возвращаемые значения будут представлять частичные результаты разбираемого выражения. В конце концов, они все объединятся в высшем методе грамматического правила, который будет выполнен. "
   ]
  },
  {
   "cell_type": "markdown",
   "metadata": {},
   "source": [
    "Код самого Python интерпретируется парсером на основе метода рекурсивного спуска. (файл Grammar/Grammar в исходном коде Python)."
   ]
  },
  {
   "cell_type": "markdown",
   "metadata": {},
   "source": [
    "Одно из ограничений парсеров на основе рекурсивного спуска заключается в том, что они не могут быть написаны для грамматических правил, использующих левую рекурсию. Предположим, нужно перевести такое правило: "
   ]
  },
  {
   "cell_type": "markdown",
   "metadata": {},
   "source": [
    "items ::= items ',' item \n",
    "         | item "
   ]
  },
  {
   "cell_type": "markdown",
   "metadata": {},
   "source": [
    "Чтобы сделать это, можно использовать метод items(): "
   ]
  },
  {
   "cell_type": "code",
   "execution_count": null,
   "metadata": {},
   "outputs": [],
   "source": [
    "def items(self):\n",
    "    itemsval = self.items() \n",
    "    if itemsval and self._accept(','): \n",
    "        itemsval.append(self.item()) \n",
    "    else:\n",
    "        itemsval = [ self.item() ] "
   ]
  },
  {
   "cell_type": "markdown",
   "metadata": {},
   "source": [
    "Это не работает. Такой код вылетит с ошибкой бесконечной рекурсии. "
   ]
  },
  {
   "cell_type": "markdown",
   "metadata": {},
   "source": [
    "Могут быть проблемамы, касающиеся самих грамматических правил. Например, можно поразмышлять над тем, могут ли выражения быть описаны вот такой более простой грамматикой: "
   ]
  },
  {
   "cell_type": "markdown",
   "metadata": {},
   "source": [
    "expr ::= factor { ('+'|'-'|'*'|'/') factor }* \n",
    "factor ::= '(' expression ')' \n",
    "    | NUM "
   ]
  },
  {
   "cell_type": "markdown",
   "metadata": {},
   "source": [
    "Эта грамматика технически «работает», но она не соблюдает стандартные правила порядка вычисления арифметических выражений. Например, для выражения “3 + 4 * 5” оно выдаст результат 35 вместо правильного 23. Чтобы решить эту проблему, нужно использовать отдельные правила expr и term. "
   ]
  },
  {
   "cell_type": "markdown",
   "metadata": {},
   "source": [
    "#  Инструменты парсинга типа PyParsing или PLY"
   ]
  },
  {
   "cell_type": "markdown",
   "metadata": {},
   "source": [
    "https://github.com/dabeaz/ply"
   ]
  },
  {
   "cell_type": "markdown",
   "metadata": {},
   "source": [
    "https://ru.wikipedia.org/wiki/Yacc"
   ]
  },
  {
   "cell_type": "code",
   "execution_count": 1,
   "metadata": {},
   "outputs": [],
   "source": [
    "from ply.lex import lex \n",
    "from ply.yacc import yacc "
   ]
  },
  {
   "cell_type": "code",
   "execution_count": 2,
   "metadata": {},
   "outputs": [],
   "source": [
    "# Список токенов \n",
    "tokens = [ 'NUM', 'PLUS', 'MINUS', 'TIMES', 'DIVIDE', 'LPAREN', 'RPAREN' ] "
   ]
  },
  {
   "cell_type": "code",
   "execution_count": 3,
   "metadata": {},
   "outputs": [],
   "source": [
    "# Игнорируемые символы \n",
    "t_ignore = ' \\t\\n' "
   ]
  },
  {
   "cell_type": "code",
   "execution_count": 4,
   "metadata": {},
   "outputs": [],
   "source": [
    "# Определения токенов (в форме регулярных выражений) \n",
    "t_PLUS  = r'\\+' \n",
    "t_MINUS  = r'-' \n",
    "t_TIMES  = r'\\*' \n",
    "t_DIVIDE = r'/'\n",
    "t_LPAREN = r'\\(' \n",
    "t_RPAREN = r'\\)' "
   ]
  },
  {
   "cell_type": "code",
   "execution_count": 5,
   "metadata": {},
   "outputs": [],
   "source": [
    "# Функции обработки токенов \n",
    "def t_NUM(t):\n",
    "    r'\\d+'\n",
    "    t.value = int(t.value)\n",
    "    return t "
   ]
  },
  {
   "cell_type": "code",
   "execution_count": 6,
   "metadata": {},
   "outputs": [],
   "source": [
    "# Обработчик ошибок \n",
    "def t_error(t):\n",
    "    print('Bad character: {!r}'.format(t.value[0]))     \n",
    "    t.skip(1) "
   ]
  },
  {
   "cell_type": "code",
   "execution_count": null,
   "metadata": {},
   "outputs": [],
   "source": [
    "# Создание лексера \n",
    "lexer = lex() "
   ]
  },
  {
   "cell_type": "code",
   "execution_count": null,
   "metadata": {},
   "outputs": [],
   "source": [
    "# Правила грамматики и функции-обработчики \n",
    "def p_expr(p):\n",
    "    '''     expr : expr PLUS term     | expr MINUS term     '''     \n",
    "    if p[2] == '+': \n",
    "        p[0] = p[1] + p[3] \n",
    "    elif p[2] == '-':  \n",
    "        p[0] = p[1] - p[3] \n",
    " "
   ]
  },
  {
   "cell_type": "code",
   "execution_count": null,
   "metadata": {},
   "outputs": [],
   "source": [
    "def p_expr_term(p): \n",
    "    '''     expr : term     ''' \n",
    "    p[0] = p[1] "
   ]
  },
  {
   "cell_type": "code",
   "execution_count": null,
   "metadata": {},
   "outputs": [],
   "source": [
    "def p_term(p):  \n",
    "    '''     term : term TIMES factor     | term DIVIDE factor     '''     \n",
    "    if p[2] == '*':         \n",
    "        p[0] = p[1] * p[3]     \n",
    "    elif p[2] == '/':         \n",
    "        p[0] = p[1] / p[3] \n",
    " "
   ]
  },
  {
   "cell_type": "code",
   "execution_count": null,
   "metadata": {},
   "outputs": [],
   "source": [
    "def p_term_factor(p):     \n",
    "    '''     term : factor     '''     \n",
    "    p[0] = p[1] "
   ]
  },
  {
   "cell_type": "code",
   "execution_count": null,
   "metadata": {},
   "outputs": [],
   "source": [
    "def p_factor(p):     \n",
    "    '''     factor : NUM  '''\n",
    "    p[0] = p[1] "
   ]
  },
  {
   "cell_type": "code",
   "execution_count": null,
   "metadata": {},
   "outputs": [],
   "source": [
    "def p_factor_group(p):     \n",
    "    '''     factor : LPAREN expr RPAREN     '''     \n",
    "    p[0] = p[2] "
   ]
  },
  {
   "cell_type": "code",
   "execution_count": null,
   "metadata": {},
   "outputs": [],
   "source": [
    "def p_error(p):     \n",
    "    print('Syntax error') "
   ]
  },
  {
   "cell_type": "code",
   "execution_count": null,
   "metadata": {},
   "outputs": [],
   "source": [
    "parser = yacc() "
   ]
  },
  {
   "cell_type": "markdown",
   "metadata": {},
   "source": [
    "В этой программе вы обнаружите, что все определено так же, как и в ранее написанном парсере, но на намного более высоком уровне. Вы просто пишете регулярные выражения для токенов и высокоуровневые функции­обработчики, которые выполняются, когда возникают совпадения по различным правилам грамматики. А вся механика работы парсера, приема токенов и т. д. полностью реализована в библиотеке. "
   ]
  },
  {
   "cell_type": "markdown",
   "metadata": {},
   "source": [
    " пример использования созданного объекта парсера: "
   ]
  },
  {
   "cell_type": "code",
   "execution_count": null,
   "metadata": {},
   "outputs": [],
   "source": [
    "parser.parse('2')"
   ]
  },
  {
   "cell_type": "code",
   "execution_count": null,
   "metadata": {},
   "outputs": [],
   "source": [
    "parser.parse('2+3') "
   ]
  },
  {
   "cell_type": "code",
   "execution_count": null,
   "metadata": {},
   "outputs": [],
   "source": [
    "parser.parse('2+(3+4)*5') "
   ]
  },
  {
   "cell_type": "markdown",
   "metadata": {},
   "source": [
    "В Python есть модуль ast, на который тоже стоит посмотреть"
   ]
  },
  {
   "cell_type": "markdown",
   "metadata": {},
   "source": [
    "# Выполнение текстовых операций над байтовыми строками"
   ]
  },
  {
   "cell_type": "markdown",
   "metadata": {},
   "source": [
    "Вы хотите выполнить стандартные текстовые операции (срезание символов, поиск, замену) над строками байтов."
   ]
  },
  {
   "cell_type": "markdown",
   "metadata": {},
   "source": [
    "Байтовые строки поддерживают большую часть тех же встроенных операций, что и текстовые строки. "
   ]
  },
  {
   "cell_type": "code",
   "execution_count": 1,
   "metadata": {},
   "outputs": [],
   "source": [
    "data = b'Hello World' "
   ]
  },
  {
   "cell_type": "code",
   "execution_count": 2,
   "metadata": {},
   "outputs": [
    {
     "data": {
      "text/plain": [
       "b'Hello'"
      ]
     },
     "execution_count": 2,
     "metadata": {},
     "output_type": "execute_result"
    }
   ],
   "source": [
    "data[0:5]"
   ]
  },
  {
   "cell_type": "code",
   "execution_count": 3,
   "metadata": {},
   "outputs": [
    {
     "data": {
      "text/plain": [
       "True"
      ]
     },
     "execution_count": 3,
     "metadata": {},
     "output_type": "execute_result"
    }
   ],
   "source": [
    "data.startswith(b'Hello')"
   ]
  },
  {
   "cell_type": "code",
   "execution_count": 4,
   "metadata": {},
   "outputs": [
    {
     "data": {
      "text/plain": [
       "[b'Hello', b'World']"
      ]
     },
     "execution_count": 4,
     "metadata": {},
     "output_type": "execute_result"
    }
   ],
   "source": [
    "data.split()"
   ]
  },
  {
   "cell_type": "code",
   "execution_count": 5,
   "metadata": {},
   "outputs": [
    {
     "data": {
      "text/plain": [
       "b'Hello Cruel World'"
      ]
     },
     "execution_count": 5,
     "metadata": {},
     "output_type": "execute_result"
    }
   ],
   "source": [
    "data.replace(b'Hello', b'Hello Cruel')"
   ]
  },
  {
   "cell_type": "markdown",
   "metadata": {},
   "source": [
    "Такие операции можно проделать и над байтовыми массивами"
   ]
  },
  {
   "cell_type": "code",
   "execution_count": 6,
   "metadata": {},
   "outputs": [],
   "source": [
    " data = bytearray(b'Hello World') "
   ]
  },
  {
   "cell_type": "code",
   "execution_count": 7,
   "metadata": {},
   "outputs": [
    {
     "data": {
      "text/plain": [
       "bytearray(b'Hello')"
      ]
     },
     "execution_count": 7,
     "metadata": {},
     "output_type": "execute_result"
    }
   ],
   "source": [
    "data[0:5]"
   ]
  },
  {
   "cell_type": "code",
   "execution_count": 8,
   "metadata": {},
   "outputs": [
    {
     "data": {
      "text/plain": [
       "True"
      ]
     },
     "execution_count": 8,
     "metadata": {},
     "output_type": "execute_result"
    }
   ],
   "source": [
    "data.startswith(b'Hello')"
   ]
  },
  {
   "cell_type": "code",
   "execution_count": 9,
   "metadata": {},
   "outputs": [
    {
     "data": {
      "text/plain": [
       "[bytearray(b'Hello'), bytearray(b'World')]"
      ]
     },
     "execution_count": 9,
     "metadata": {},
     "output_type": "execute_result"
    }
   ],
   "source": [
    "data.split()"
   ]
  },
  {
   "cell_type": "code",
   "execution_count": 10,
   "metadata": {},
   "outputs": [
    {
     "data": {
      "text/plain": [
       "bytearray(b'Hello Cruel World')"
      ]
     },
     "execution_count": 10,
     "metadata": {},
     "output_type": "execute_result"
    }
   ],
   "source": [
    "data.replace(b'Hello', b'Hello Cruel') "
   ]
  },
  {
   "cell_type": "markdown",
   "metadata": {},
   "source": [
    "Вы можете просто применить к байтовым строкам поиск совпадений с помощью регулярных выражений, но сами шаблоны должны быть определены как байты. "
   ]
  },
  {
   "cell_type": "code",
   "execution_count": 11,
   "metadata": {},
   "outputs": [],
   "source": [
    "data = b'FOO:BAR,SPAM' \n",
    "import re "
   ]
  },
  {
   "cell_type": "code",
   "execution_count": 12,
   "metadata": {},
   "outputs": [
    {
     "ename": "TypeError",
     "evalue": "cannot use a string pattern on a bytes-like object",
     "output_type": "error",
     "traceback": [
      "\u001b[1;31m---------------------------------------------------------------------------\u001b[0m",
      "\u001b[1;31mTypeError\u001b[0m                                 Traceback (most recent call last)",
      "\u001b[1;32m<ipython-input-12-090a0c6cce12>\u001b[0m in \u001b[0;36m<module>\u001b[1;34m()\u001b[0m\n\u001b[1;32m----> 1\u001b[1;33m \u001b[0mre\u001b[0m\u001b[1;33m.\u001b[0m\u001b[0msplit\u001b[0m\u001b[1;33m(\u001b[0m\u001b[1;34m'[:,]'\u001b[0m\u001b[1;33m,\u001b[0m\u001b[0mdata\u001b[0m\u001b[1;33m)\u001b[0m\u001b[1;33m\u001b[0m\u001b[0m\n\u001b[0m",
      "\u001b[1;32m~\\Anaconda3\\lib\\re.py\u001b[0m in \u001b[0;36msplit\u001b[1;34m(pattern, string, maxsplit, flags)\u001b[0m\n\u001b[0;32m    211\u001b[0m     \u001b[1;32mand\u001b[0m \u001b[0mthe\u001b[0m \u001b[0mremainder\u001b[0m \u001b[0mof\u001b[0m \u001b[0mthe\u001b[0m \u001b[0mstring\u001b[0m \u001b[1;32mis\u001b[0m \u001b[0mreturned\u001b[0m \u001b[1;32mas\u001b[0m \u001b[0mthe\u001b[0m \u001b[0mfinal\u001b[0m \u001b[0melement\u001b[0m\u001b[1;33m\u001b[0m\u001b[0m\n\u001b[0;32m    212\u001b[0m     of the list.\"\"\"\n\u001b[1;32m--> 213\u001b[1;33m     \u001b[1;32mreturn\u001b[0m \u001b[0m_compile\u001b[0m\u001b[1;33m(\u001b[0m\u001b[0mpattern\u001b[0m\u001b[1;33m,\u001b[0m \u001b[0mflags\u001b[0m\u001b[1;33m)\u001b[0m\u001b[1;33m.\u001b[0m\u001b[0msplit\u001b[0m\u001b[1;33m(\u001b[0m\u001b[0mstring\u001b[0m\u001b[1;33m,\u001b[0m \u001b[0mmaxsplit\u001b[0m\u001b[1;33m)\u001b[0m\u001b[1;33m\u001b[0m\u001b[0m\n\u001b[0m\u001b[0;32m    214\u001b[0m \u001b[1;33m\u001b[0m\u001b[0m\n\u001b[0;32m    215\u001b[0m \u001b[1;32mdef\u001b[0m \u001b[0mfindall\u001b[0m\u001b[1;33m(\u001b[0m\u001b[0mpattern\u001b[0m\u001b[1;33m,\u001b[0m \u001b[0mstring\u001b[0m\u001b[1;33m,\u001b[0m \u001b[0mflags\u001b[0m\u001b[1;33m=\u001b[0m\u001b[1;36m0\u001b[0m\u001b[1;33m)\u001b[0m\u001b[1;33m:\u001b[0m\u001b[1;33m\u001b[0m\u001b[0m\n",
      "\u001b[1;31mTypeError\u001b[0m: cannot use a string pattern on a bytes-like object"
     ]
    }
   ],
   "source": [
    "# здесь будет ошибка\n",
    "re.split('[:,]',data) "
   ]
  },
  {
   "cell_type": "code",
   "execution_count": 13,
   "metadata": {},
   "outputs": [
    {
     "data": {
      "text/plain": [
       "[b'FOO', b'BAR', b'SPAM']"
      ]
     },
     "execution_count": 13,
     "metadata": {},
     "output_type": "execute_result"
    }
   ],
   "source": [
    "re.split(b'[:,]',data)  # Обратите внимание: шаблон в байтах "
   ]
  },
  {
   "cell_type": "markdown",
   "metadata": {},
   "source": [
    "Практически все доступные для текстовых строк операции будут работать и на байтовых строках. Однако есть несколько заметных отличий, о которых нужно знать. Во-первых, при индексировании байтовых строк мы получаем целые числа, а не символы."
   ]
  },
  {
   "cell_type": "code",
   "execution_count": 14,
   "metadata": {},
   "outputs": [],
   "source": [
    "a = 'Hello World'  # Текстовая строка "
   ]
  },
  {
   "cell_type": "code",
   "execution_count": 15,
   "metadata": {},
   "outputs": [
    {
     "data": {
      "text/plain": [
       "'H'"
      ]
     },
     "execution_count": 15,
     "metadata": {},
     "output_type": "execute_result"
    }
   ],
   "source": [
    "a[0]"
   ]
  },
  {
   "cell_type": "code",
   "execution_count": 16,
   "metadata": {},
   "outputs": [
    {
     "data": {
      "text/plain": [
       "'e'"
      ]
     },
     "execution_count": 16,
     "metadata": {},
     "output_type": "execute_result"
    }
   ],
   "source": [
    "a[1]"
   ]
  },
  {
   "cell_type": "code",
   "execution_count": 17,
   "metadata": {},
   "outputs": [],
   "source": [
    "b = b'Hello World'  # Байтовая строка "
   ]
  },
  {
   "cell_type": "code",
   "execution_count": 19,
   "metadata": {},
   "outputs": [
    {
     "data": {
      "text/plain": [
       "72"
      ]
     },
     "execution_count": 19,
     "metadata": {},
     "output_type": "execute_result"
    }
   ],
   "source": [
    "#получаем число, а не букву (число - соответствует значению байта)\n",
    "b[0]"
   ]
  },
  {
   "cell_type": "code",
   "execution_count": 20,
   "metadata": {},
   "outputs": [
    {
     "data": {
      "text/plain": [
       "101"
      ]
     },
     "execution_count": 20,
     "metadata": {},
     "output_type": "execute_result"
    }
   ],
   "source": [
    "b[1]"
   ]
  },
  {
   "cell_type": "markdown",
   "metadata": {},
   "source": [
    "Эта разница в семантике может влиять на программы, которые пытаются обработать байтовые данные так же, как и текстовые. "
   ]
  },
  {
   "cell_type": "markdown",
   "metadata": {},
   "source": [
    "Во-вторых, байтовые строки не предоставляют красивые строковые представления и не выводятся в симпатичном виде, если сначала не проведено декодирование в текстовую строку. "
   ]
  },
  {
   "cell_type": "code",
   "execution_count": 21,
   "metadata": {},
   "outputs": [],
   "source": [
    "s = b'Hello World' "
   ]
  },
  {
   "cell_type": "code",
   "execution_count": 22,
   "metadata": {},
   "outputs": [
    {
     "name": "stdout",
     "output_type": "stream",
     "text": [
      "b'Hello World'\n"
     ]
    }
   ],
   "source": [
    "print(s) "
   ]
  },
  {
   "cell_type": "code",
   "execution_count": 23,
   "metadata": {},
   "outputs": [
    {
     "name": "stdout",
     "output_type": "stream",
     "text": [
      "Hello World\n"
     ]
    }
   ],
   "source": [
    "print(s.decode('ascii'))"
   ]
  },
  {
   "cell_type": "markdown",
   "metadata": {},
   "source": [
    "Строковые операции форматирования также недоступны для байтовых строк. "
   ]
  },
  {
   "cell_type": "code",
   "execution_count": 24,
   "metadata": {},
   "outputs": [
    {
     "data": {
      "text/plain": [
       "b'      ACME        100     490.10'"
      ]
     },
     "execution_count": 24,
     "metadata": {},
     "output_type": "execute_result"
    }
   ],
   "source": [
    " b'%10s %10d %10.2f' % (b'ACME', 100, 490.1) "
   ]
  },
  {
   "cell_type": "code",
   "execution_count": 25,
   "metadata": {},
   "outputs": [
    {
     "ename": "AttributeError",
     "evalue": "'bytes' object has no attribute 'format'",
     "output_type": "error",
     "traceback": [
      "\u001b[1;31m---------------------------------------------------------------------------\u001b[0m",
      "\u001b[1;31mAttributeError\u001b[0m                            Traceback (most recent call last)",
      "\u001b[1;32m<ipython-input-25-1d86a24fb678>\u001b[0m in \u001b[0;36m<module>\u001b[1;34m()\u001b[0m\n\u001b[1;32m----> 1\u001b[1;33m \u001b[1;34mb'{} {} {}'\u001b[0m\u001b[1;33m.\u001b[0m\u001b[0mformat\u001b[0m\u001b[1;33m(\u001b[0m\u001b[1;34mb'ACME'\u001b[0m\u001b[1;33m,\u001b[0m \u001b[1;36m100\u001b[0m\u001b[1;33m,\u001b[0m \u001b[1;36m490.1\u001b[0m\u001b[1;33m)\u001b[0m\u001b[1;33m\u001b[0m\u001b[0m\n\u001b[0m",
      "\u001b[1;31mAttributeError\u001b[0m: 'bytes' object has no attribute 'format'"
     ]
    }
   ],
   "source": [
    " b'{} {} {}'.format(b'ACME', 100, 490.1) "
   ]
  },
  {
   "cell_type": "code",
   "execution_count": 30,
   "metadata": {},
   "outputs": [
    {
     "data": {
      "text/plain": [
       "'ACME 100 490.1'"
      ]
     },
     "execution_count": 30,
     "metadata": {},
     "output_type": "execute_result"
    }
   ],
   "source": [
    "b'{} {} {}'.decode('ascii').format(b'ACME'.decode('ascii'), 100, 490.1)"
   ]
  },
  {
   "cell_type": "code",
   "execution_count": 31,
   "metadata": {},
   "outputs": [
    {
     "data": {
      "text/plain": [
       "b'ACME              100     490.10'"
      ]
     },
     "execution_count": 31,
     "metadata": {},
     "output_type": "execute_result"
    }
   ],
   "source": [
    "'{:10s} {:10d} {:10.2f}'.format('ACME', 100, 490.1).encode('ascii') "
   ]
  },
  {
   "cell_type": "markdown",
   "metadata": {},
   "source": [
    "И наконец, вы должны знать, что использование байтовых строк может изменить семантику некоторых операций, особенно тех, что относятся к файловой системе. Например, если вы предоставляете имя файла закодированным в байтовую строку, а не в текстовую, это обычно отключает кодирование и декодирование имени файла. "
   ]
  },
  {
   "cell_type": "code",
   "execution_count": 33,
   "metadata": {},
   "outputs": [],
   "source": [
    "# Запишем имя файла в UTF-8 \n",
    "with open('jalape\\xf1o.txt', 'w') as f: \n",
    "    f.write('spicy')"
   ]
  },
  {
   "cell_type": "code",
   "execution_count": 34,
   "metadata": {},
   "outputs": [
    {
     "data": {
      "text/plain": [
       "['.anaconda',\n",
       " '.atom',\n",
       " '.babel.json',\n",
       " '.bash_history',\n",
       " '.conda',\n",
       " '.condarc',\n",
       " '.config',\n",
       " '.git',\n",
       " '.gitconfig',\n",
       " '.idea',\n",
       " '.idlerc',\n",
       " '.ipfs',\n",
       " '.ipynb_checkpoints',\n",
       " '.ipython',\n",
       " '.jupyter',\n",
       " '.keras',\n",
       " '.local',\n",
       " '.matplotlib',\n",
       " '.node-gyp',\n",
       " '.node_repl_history',\n",
       " '.PyCharm2017.2',\n",
       " '.PyCharmCE2017.2',\n",
       " '.ssh',\n",
       " '.surprise_data',\n",
       " '.viminfo',\n",
       " '.windows-build-tools',\n",
       " '001-colorspace.ipynb',\n",
       " '001-filtering.ipynb',\n",
       " '001-medianfilter.ipynb',\n",
       " '001-sobel.ipynb',\n",
       " '002-cbir.ipynb',\n",
       " '002-digit.ipynb',\n",
       " '002-digit_old.ipynb',\n",
       " '002-matching.ipynb',\n",
       " '002-pca.ipynb',\n",
       " '003-graphcut.ipynb',\n",
       " '003-tracking.ipynb',\n",
       " '003-viola-jones.ipynb',\n",
       " '003-watershed.ipynb',\n",
       " '004-classification.ipynb',\n",
       " '004-logic.ipynb',\n",
       " '004-mnist.ipynb',\n",
       " '004-regression.ipynb',\n",
       " '005-cnn-mnist.ipynb',\n",
       " '005-neural-style.ipynb',\n",
       " '006-dogs-vs-cats.ipynb',\n",
       " '007-detection.ipynb',\n",
       " '007-segmentation.ipynb',\n",
       " '1 decision trees.ipynb',\n",
       " '1. kNN.ipynb',\n",
       " '1_boston.ipynb',\n",
       " '1_intro.ipynb',\n",
       " '2 competition.ipynb',\n",
       " '2. barley-break.ipynb',\n",
       " '2_classification.ipynb',\n",
       " '2_newspapers.ipynb',\n",
       " '2_RussianNER.ipynb',\n",
       " '2_syntax.ipynb',\n",
       " '2_titanic.ipynb',\n",
       " '3 metrics.ipynb',\n",
       " '3. Levenshtein distance.ipynb',\n",
       " '3D Objects',\n",
       " '4 vedomosti parsing.ipynb',\n",
       " '4. Jaccard.ipynb',\n",
       " '5 vedomosti classifying.ipynb',\n",
       " '5. kNN NBA.ipynb',\n",
       " '6 homework.ipynb',\n",
       " '6. kNN regression.ipynb',\n",
       " '7. kNN digits.ipynb',\n",
       " 'abalone.csv',\n",
       " 'adult.csv',\n",
       " 'ad_campaign.csv',\n",
       " 'ad_campaigns.xlsx',\n",
       " 'affair_data.csv',\n",
       " 'aml-11.1cw',\n",
       " 'aml-11.2cw',\n",
       " 'aml-23hw.ipynb',\n",
       " 'aml-cw11-1.ipynb',\n",
       " 'aml-cw11-2.ipynb',\n",
       " 'aml-cw12-1.ipynb',\n",
       " 'aml-cw12-2.ipynb',\n",
       " 'aml-hw23.ipynb',\n",
       " 'aml-hw7.ipynb',\n",
       " 'aml-hw8.ipynb',\n",
       " 'aml-hw9.ipynb',\n",
       " 'Anaconda3',\n",
       " 'AppData',\n",
       " 'Application Data',\n",
       " 'arrays_xyz.npz',\n",
       " 'arrays_xyz_c.npz',\n",
       " 'array_archive.npz',\n",
       " 'array_x.csv',\n",
       " 'array_x.npy',\n",
       " 'array_x.txt',\n",
       " 'athletes.csv',\n",
       " 'athletes_classifier.ipynb',\n",
       " 'banki_responses.json',\n",
       " 'bd-cw4pandas.ipynb',\n",
       " 'bd-hw4.ipynb',\n",
       " 'bd-hw7 .ipynb',\n",
       " 'bd_hw1.ipynb',\n",
       " 'bigdata_final_hw.ipynb',\n",
       " 'blockchain',\n",
       " 'book.txt',\n",
       " 'brand-logo-detection-dataset',\n",
       " 'Chapter 1 - Linear Regression.ipynb',\n",
       " 'checkpoint.hdf5',\n",
       " 'clustering_inclass.ipynb',\n",
       " 'coins.jpg',\n",
       " 'Contacts',\n",
       " 'control.csv',\n",
       " 'Cookies',\n",
       " 'coursera_1week.ipynb',\n",
       " 'coursera_1week_2task.ipynb',\n",
       " 'Creative Cloud Files',\n",
       " 'credit_homework.csv',\n",
       " 'crimes.csv',\n",
       " 'cross_val_score.ipynb',\n",
       " 'CSV1.csv',\n",
       " 'CSV2.csv',\n",
       " 'CSV3.csv',\n",
       " 'CSV5.csv',\n",
       " 'CSVexel.xlsx',\n",
       " 'CSVnew.csv',\n",
       " 'csv_exel_files.ipynb',\n",
       " 'data',\n",
       " 'data.csv',\n",
       " 'data.tar.gz',\n",
       " 'dataset.1.2.1.tsv',\n",
       " 'data_clients.ipynb',\n",
       " 'data_description.txt',\n",
       " 'data_sample_example1.3.2.tsv',\n",
       " 'derby.log',\n",
       " 'Desktop',\n",
       " 'dl-hw7_2.ipynb',\n",
       " 'Documents',\n",
       " 'dog_cats.py',\n",
       " 'Downloads',\n",
       " 'Dropbox',\n",
       " 'edb_languagepack_10.exe',\n",
       " 'Favorites',\n",
       " 'gender_submission.csv',\n",
       " 'geo.xlsx',\n",
       " 'geo_comment.xlsx',\n",
       " 'Gradient_descent.ipynb',\n",
       " 'haarcascade_eye.xml',\n",
       " 'haarcascade_frontalface_default.xml',\n",
       " 'hackathon-final.ipynb',\n",
       " 'hash1',\n",
       " 'Homework 4.ipynb',\n",
       " 'homework clustering.ipynb',\n",
       " 'Homework Module 3 (1).ipynb',\n",
       " 'Homework.ipynb',\n",
       " 'Homework_8.ipynb',\n",
       " 'homework_l7.ipynb',\n",
       " 'house_prices.csv',\n",
       " 'HW1_banki_TM-and-classification.ipynb',\n",
       " 'hw6.ipynb',\n",
       " 'hw7.ipynb',\n",
       " 'hw_test',\n",
       " 'hw_train',\n",
       " 'img',\n",
       " 'IntelGraphicsProfiles',\n",
       " 'IntroductionToML - Homework.ipynb',\n",
       " 'Iris_dataset.ipynb',\n",
       " 'ItemsBasedSimilarity.ipynb',\n",
       " 'jalapeño.txt',\n",
       " 'kernel769896d080.ipynb',\n",
       " 'Learning_to_Program_in_Python1_Data_types_operators_I-O.ipynb',\n",
       " 'lecture-1.ipynb',\n",
       " 'lecture-2.ipynb',\n",
       " 'lena.png',\n",
       " 'libs.ipynb',\n",
       " 'lightfm_data',\n",
       " 'Linear regression.ipynb',\n",
       " 'Links',\n",
       " 'Local Settings',\n",
       " 'Logistic_regression_athletes_classifier.ipynb',\n",
       " 'Logres_affair.ipynb',\n",
       " 'lstm_text_generation_solution.ipynb',\n",
       " 'LSTM_WKI.ipynb',\n",
       " 'messi5.jpg',\n",
       " 'metastore_db',\n",
       " 'MicrosoftEdgeBackups',\n",
       " 'ml-cw10-2.ipynb',\n",
       " 'ml-cw10.ipynb',\n",
       " 'ml-hw8.ipynb',\n",
       " 'mnist_intro.ipynb',\n",
       " 'monet.jpg',\n",
       " 'moscow.jpg',\n",
       " 'movies.csv',\n",
       " 'Music',\n",
       " 'my_object_detection_2.ipynb',\n",
       " 'my_object_detection_tutorial.ipynb',\n",
       " 'my_object_detection__.ipynb',\n",
       " 'my_train.ipynb',\n",
       " 'NetHood',\n",
       " 'neural_style_0.png',\n",
       " 'neural_style_1.png',\n",
       " 'neural_style_2.png',\n",
       " 'nlp-course-netology-master',\n",
       " 'nov2017',\n",
       " 'NTUSER.DAT',\n",
       " 'ntuser.dat.LOG1',\n",
       " 'ntuser.dat.LOG2',\n",
       " 'NTUSER.DAT{b49da1ff-d007-11e9-b55c-bae30c5e365f}.TM.blf',\n",
       " 'NTUSER.DAT{b49da1ff-d007-11e9-b55c-bae30c5e365f}.TMContainer00000000000000000001.regtrans-ms',\n",
       " 'NTUSER.DAT{b49da1ff-d007-11e9-b55c-bae30c5e365f}.TMContainer00000000000000000002.regtrans-ms',\n",
       " 'ntuser.ini',\n",
       " 'Numpy.ipynb',\n",
       " 'ocean.jpg',\n",
       " 'OneDrive',\n",
       " 'output.png',\n",
       " 'pandas_dataframe1.2.1.ipynb',\n",
       " 'pandas_indexing_selection1.3.2.ipynb',\n",
       " 'pd1.ipynb',\n",
       " 'pd2.ipynb',\n",
       " 'pd3.ipynb',\n",
       " 'picasso.jpg',\n",
       " 'Pictures',\n",
       " 'pipeline.config',\n",
       " 'pipeline_cube.config',\n",
       " 'plot_tree.py',\n",
       " 'power.csv',\n",
       " 'PrintHood',\n",
       " 'pycharm-community-2017.2.1.exe',\n",
       " 'pycharm-professional-2017.2.1.exe',\n",
       " 'PycharmProjects',\n",
       " 'PySpark_for_students.ipynb',\n",
       " 'python',\n",
       " 'Python_1.ipynb',\n",
       " 'Python_10.ipynb',\n",
       " 'Python_11.ipynb',\n",
       " 'Python_12.ipynb',\n",
       " 'Python_14.ipynb',\n",
       " 'Python_15.ipynb',\n",
       " 'Python_16.ipynb',\n",
       " 'Python_17.ipynb',\n",
       " 'Python_18.ipynb',\n",
       " 'Python_19.ipynb',\n",
       " 'Python_2.ipynb',\n",
       " 'Python_20.ipynb',\n",
       " 'Python_3.ipynb',\n",
       " 'Python_4.ipynb',\n",
       " 'Python_5.ipynb',\n",
       " 'Python_6.ipynb',\n",
       " 'Python_7.ipynb',\n",
       " 'Python_8.ipynb',\n",
       " 'Python_9.ipynb',\n",
       " 'Question.ipynb',\n",
       " 'Recent',\n",
       " 'RecommenderHackathon.ipynb',\n",
       " 'RecommenderSystem.ipynb',\n",
       " 'Regression_cars.ipynb',\n",
       " 'sample.db',\n",
       " 'sample_submission.csv',\n",
       " 'sample_submission_titanic.csv',\n",
       " 'sat.txt',\n",
       " 'SAT_model.ipynb',\n",
       " 'Saved Games',\n",
       " 'SciPy-Optimization1.3.4.ipynb',\n",
       " 'Searches',\n",
       " 'SendTo',\n",
       " 'sept2017',\n",
       " 'shelter',\n",
       " 'skillfactory-dl-2-screencast.ipynb',\n",
       " 'somefile.txt',\n",
       " 'some_array.npy',\n",
       " 'Spark.ipynb',\n",
       " 'SparkDataframe.ipynb',\n",
       " 'styled_monet_0.png',\n",
       " 'submission.txt',\n",
       " 'submit.csv',\n",
       " 'submit.txt',\n",
       " 'submit2.csv',\n",
       " 'submit_titanic.csv',\n",
       " 'tags.csv',\n",
       " 'test',\n",
       " 'test.csv',\n",
       " 'test.out',\n",
       " 'test1.out',\n",
       " 'test_hotdogs',\n",
       " 'test_titanic.csv',\n",
       " 'test_user_id.list',\n",
       " 'test_X.pickle',\n",
       " 'titanic.csv',\n",
       " 'titanic.ipynb',\n",
       " 'Tracing',\n",
       " 'train',\n",
       " 'train.csv',\n",
       " 'train_hotdogs',\n",
       " 'train_hotdogs.rar',\n",
       " 'train_titanic.csv',\n",
       " 'transactions.csv',\n",
       " 'unsupervised.json',\n",
       " 'Unsupervised_Text_SVD_KMeans.ipynb',\n",
       " 'Untitled.ipynb',\n",
       " 'Untitled1.ipynb',\n",
       " 'updated_dataset.csv',\n",
       " 'vector_operations.ipynb',\n",
       " 'Videos',\n",
       " 'wiki_math',\n",
       " 'wiki_math1',\n",
       " 'Word2Vec.ipynb',\n",
       " 'word_vecs.py',\n",
       " '__pycache__',\n",
       " 'Ансамбли (для Студентов).ipynb',\n",
       " 'Введение_в_Python.ipynb',\n",
       " 'Глава 1 Векторы, матрицы массивы.ipynb',\n",
       " 'Глава 1 Структуры данных и алгоритмы.ipynb',\n",
       " 'Глава 2 Загрузка данных (МО Крис Элбон).ipynb',\n",
       " 'Глава 2 Строки и текст (Python Дэвид Бизли).ipynb',\n",
       " 'Глава 3 Упорядочение данных(MO Крис Элбон).ipynb',\n",
       " 'Глава 4 Работа с числовыми данными(МО Крис Элбон).ipynb',\n",
       " 'Глава 5 Работа с категориальными данными (МО Крис Элбон).ipynb',\n",
       " 'Глава 6 Работа с текстом(МО Крис Элбон).ipynb',\n",
       " 'Глава 7 Работа с датами и временем(МО Крис Элбон).ipynb',\n",
       " 'Глава 8 Работа с изображениями(МО Крис Элбон).ipynb',\n",
       " 'Глава 9 Снижение размерности с помощью выделения признаков(МО Крис Элбон).ipynb',\n",
       " 'Глава_4_Основы NumPy.ipynb',\n",
       " 'Глава_5_Pandas.ipynb',\n",
       " 'главное меню',\n",
       " 'Домашнее задание по градиентному бустингу.ipynb',\n",
       " 'Лабораторная BigData2.ipynb',\n",
       " 'Мои документы',\n",
       " 'Оптимизация (Студенты).ipynb',\n",
       " 'Подбор параметров и итоговая практика(студенты).ipynb',\n",
       " 'Подбор параметров и итоговая практика_slack.ipynb',\n",
       " 'Функции потерь и оптимизация.ipynb',\n",
       " 'Цвета.ipynb',\n",
       " 'Шаблоны']"
      ]
     },
     "execution_count": 34,
     "metadata": {},
     "output_type": "execute_result"
    }
   ],
   "source": [
    "# Получим содержимое каталога \n",
    "import os \n",
    "os.listdir('.')  # Текстовая строка (имена декодированы) "
   ]
  },
  {
   "cell_type": "code",
   "execution_count": 35,
   "metadata": {},
   "outputs": [
    {
     "data": {
      "text/plain": [
       "[b'.anaconda',\n",
       " b'.atom',\n",
       " b'.babel.json',\n",
       " b'.bash_history',\n",
       " b'.conda',\n",
       " b'.condarc',\n",
       " b'.config',\n",
       " b'.git',\n",
       " b'.gitconfig',\n",
       " b'.idea',\n",
       " b'.idlerc',\n",
       " b'.ipfs',\n",
       " b'.ipynb_checkpoints',\n",
       " b'.ipython',\n",
       " b'.jupyter',\n",
       " b'.keras',\n",
       " b'.local',\n",
       " b'.matplotlib',\n",
       " b'.node-gyp',\n",
       " b'.node_repl_history',\n",
       " b'.PyCharm2017.2',\n",
       " b'.PyCharmCE2017.2',\n",
       " b'.ssh',\n",
       " b'.surprise_data',\n",
       " b'.viminfo',\n",
       " b'.windows-build-tools',\n",
       " b'001-colorspace.ipynb',\n",
       " b'001-filtering.ipynb',\n",
       " b'001-medianfilter.ipynb',\n",
       " b'001-sobel.ipynb',\n",
       " b'002-cbir.ipynb',\n",
       " b'002-digit.ipynb',\n",
       " b'002-digit_old.ipynb',\n",
       " b'002-matching.ipynb',\n",
       " b'002-pca.ipynb',\n",
       " b'003-graphcut.ipynb',\n",
       " b'003-tracking.ipynb',\n",
       " b'003-viola-jones.ipynb',\n",
       " b'003-watershed.ipynb',\n",
       " b'004-classification.ipynb',\n",
       " b'004-logic.ipynb',\n",
       " b'004-mnist.ipynb',\n",
       " b'004-regression.ipynb',\n",
       " b'005-cnn-mnist.ipynb',\n",
       " b'005-neural-style.ipynb',\n",
       " b'006-dogs-vs-cats.ipynb',\n",
       " b'007-detection.ipynb',\n",
       " b'007-segmentation.ipynb',\n",
       " b'1 decision trees.ipynb',\n",
       " b'1. kNN.ipynb',\n",
       " b'1_boston.ipynb',\n",
       " b'1_intro.ipynb',\n",
       " b'2 competition.ipynb',\n",
       " b'2. barley-break.ipynb',\n",
       " b'2_classification.ipynb',\n",
       " b'2_newspapers.ipynb',\n",
       " b'2_RussianNER.ipynb',\n",
       " b'2_syntax.ipynb',\n",
       " b'2_titanic.ipynb',\n",
       " b'3 metrics.ipynb',\n",
       " b'3. Levenshtein distance.ipynb',\n",
       " b'3D Objects',\n",
       " b'4 vedomosti parsing.ipynb',\n",
       " b'4. Jaccard.ipynb',\n",
       " b'5 vedomosti classifying.ipynb',\n",
       " b'5. kNN NBA.ipynb',\n",
       " b'6 homework.ipynb',\n",
       " b'6. kNN regression.ipynb',\n",
       " b'7. kNN digits.ipynb',\n",
       " b'abalone.csv',\n",
       " b'adult.csv',\n",
       " b'ad_campaign.csv',\n",
       " b'ad_campaigns.xlsx',\n",
       " b'affair_data.csv',\n",
       " b'aml-11.1cw',\n",
       " b'aml-11.2cw',\n",
       " b'aml-23hw.ipynb',\n",
       " b'aml-cw11-1.ipynb',\n",
       " b'aml-cw11-2.ipynb',\n",
       " b'aml-cw12-1.ipynb',\n",
       " b'aml-cw12-2.ipynb',\n",
       " b'aml-hw23.ipynb',\n",
       " b'aml-hw7.ipynb',\n",
       " b'aml-hw8.ipynb',\n",
       " b'aml-hw9.ipynb',\n",
       " b'Anaconda3',\n",
       " b'AppData',\n",
       " b'Application Data',\n",
       " b'arrays_xyz.npz',\n",
       " b'arrays_xyz_c.npz',\n",
       " b'array_archive.npz',\n",
       " b'array_x.csv',\n",
       " b'array_x.npy',\n",
       " b'array_x.txt',\n",
       " b'athletes.csv',\n",
       " b'athletes_classifier.ipynb',\n",
       " b'banki_responses.json',\n",
       " b'bd-cw4pandas.ipynb',\n",
       " b'bd-hw4.ipynb',\n",
       " b'bd-hw7 .ipynb',\n",
       " b'bd_hw1.ipynb',\n",
       " b'bigdata_final_hw.ipynb',\n",
       " b'blockchain',\n",
       " b'book.txt',\n",
       " b'brand-logo-detection-dataset',\n",
       " b'Chapter 1 - Linear Regression.ipynb',\n",
       " b'checkpoint.hdf5',\n",
       " b'clustering_inclass.ipynb',\n",
       " b'coins.jpg',\n",
       " b'Contacts',\n",
       " b'control.csv',\n",
       " b'Cookies',\n",
       " b'coursera_1week.ipynb',\n",
       " b'coursera_1week_2task.ipynb',\n",
       " b'Creative Cloud Files',\n",
       " b'credit_homework.csv',\n",
       " b'crimes.csv',\n",
       " b'cross_val_score.ipynb',\n",
       " b'CSV1.csv',\n",
       " b'CSV2.csv',\n",
       " b'CSV3.csv',\n",
       " b'CSV5.csv',\n",
       " b'CSVexel.xlsx',\n",
       " b'CSVnew.csv',\n",
       " b'csv_exel_files.ipynb',\n",
       " b'data',\n",
       " b'data.csv',\n",
       " b'data.tar.gz',\n",
       " b'dataset.1.2.1.tsv',\n",
       " b'data_clients.ipynb',\n",
       " b'data_description.txt',\n",
       " b'data_sample_example1.3.2.tsv',\n",
       " b'derby.log',\n",
       " b'Desktop',\n",
       " b'dl-hw7_2.ipynb',\n",
       " b'Documents',\n",
       " b'dog_cats.py',\n",
       " b'Downloads',\n",
       " b'Dropbox',\n",
       " b'edb_languagepack_10.exe',\n",
       " b'Favorites',\n",
       " b'gender_submission.csv',\n",
       " b'geo.xlsx',\n",
       " b'geo_comment.xlsx',\n",
       " b'Gradient_descent.ipynb',\n",
       " b'haarcascade_eye.xml',\n",
       " b'haarcascade_frontalface_default.xml',\n",
       " b'hackathon-final.ipynb',\n",
       " b'hash1',\n",
       " b'Homework 4.ipynb',\n",
       " b'homework clustering.ipynb',\n",
       " b'Homework Module 3 (1).ipynb',\n",
       " b'Homework.ipynb',\n",
       " b'Homework_8.ipynb',\n",
       " b'homework_l7.ipynb',\n",
       " b'house_prices.csv',\n",
       " b'HW1_banki_TM-and-classification.ipynb',\n",
       " b'hw6.ipynb',\n",
       " b'hw7.ipynb',\n",
       " b'hw_test',\n",
       " b'hw_train',\n",
       " b'img',\n",
       " b'IntelGraphicsProfiles',\n",
       " b'IntroductionToML - Homework.ipynb',\n",
       " b'Iris_dataset.ipynb',\n",
       " b'ItemsBasedSimilarity.ipynb',\n",
       " b'jalape\\xc3\\xb1o.txt',\n",
       " b'kernel769896d080.ipynb',\n",
       " b'Learning_to_Program_in_Python1_Data_types_operators_I-O.ipynb',\n",
       " b'lecture-1.ipynb',\n",
       " b'lecture-2.ipynb',\n",
       " b'lena.png',\n",
       " b'libs.ipynb',\n",
       " b'lightfm_data',\n",
       " b'Linear regression.ipynb',\n",
       " b'Links',\n",
       " b'Local Settings',\n",
       " b'Logistic_regression_athletes_classifier.ipynb',\n",
       " b'Logres_affair.ipynb',\n",
       " b'lstm_text_generation_solution.ipynb',\n",
       " b'LSTM_WKI.ipynb',\n",
       " b'messi5.jpg',\n",
       " b'metastore_db',\n",
       " b'MicrosoftEdgeBackups',\n",
       " b'ml-cw10-2.ipynb',\n",
       " b'ml-cw10.ipynb',\n",
       " b'ml-hw8.ipynb',\n",
       " b'mnist_intro.ipynb',\n",
       " b'monet.jpg',\n",
       " b'moscow.jpg',\n",
       " b'movies.csv',\n",
       " b'Music',\n",
       " b'my_object_detection_2.ipynb',\n",
       " b'my_object_detection_tutorial.ipynb',\n",
       " b'my_object_detection__.ipynb',\n",
       " b'my_train.ipynb',\n",
       " b'NetHood',\n",
       " b'neural_style_0.png',\n",
       " b'neural_style_1.png',\n",
       " b'neural_style_2.png',\n",
       " b'nlp-course-netology-master',\n",
       " b'nov2017',\n",
       " b'NTUSER.DAT',\n",
       " b'ntuser.dat.LOG1',\n",
       " b'ntuser.dat.LOG2',\n",
       " b'NTUSER.DAT{b49da1ff-d007-11e9-b55c-bae30c5e365f}.TM.blf',\n",
       " b'NTUSER.DAT{b49da1ff-d007-11e9-b55c-bae30c5e365f}.TMContainer00000000000000000001.regtrans-ms',\n",
       " b'NTUSER.DAT{b49da1ff-d007-11e9-b55c-bae30c5e365f}.TMContainer00000000000000000002.regtrans-ms',\n",
       " b'ntuser.ini',\n",
       " b'Numpy.ipynb',\n",
       " b'ocean.jpg',\n",
       " b'OneDrive',\n",
       " b'output.png',\n",
       " b'pandas_dataframe1.2.1.ipynb',\n",
       " b'pandas_indexing_selection1.3.2.ipynb',\n",
       " b'pd1.ipynb',\n",
       " b'pd2.ipynb',\n",
       " b'pd3.ipynb',\n",
       " b'picasso.jpg',\n",
       " b'Pictures',\n",
       " b'pipeline.config',\n",
       " b'pipeline_cube.config',\n",
       " b'plot_tree.py',\n",
       " b'power.csv',\n",
       " b'PrintHood',\n",
       " b'pycharm-community-2017.2.1.exe',\n",
       " b'pycharm-professional-2017.2.1.exe',\n",
       " b'PycharmProjects',\n",
       " b'PySpark_for_students.ipynb',\n",
       " b'python',\n",
       " b'Python_1.ipynb',\n",
       " b'Python_10.ipynb',\n",
       " b'Python_11.ipynb',\n",
       " b'Python_12.ipynb',\n",
       " b'Python_14.ipynb',\n",
       " b'Python_15.ipynb',\n",
       " b'Python_16.ipynb',\n",
       " b'Python_17.ipynb',\n",
       " b'Python_18.ipynb',\n",
       " b'Python_19.ipynb',\n",
       " b'Python_2.ipynb',\n",
       " b'Python_20.ipynb',\n",
       " b'Python_3.ipynb',\n",
       " b'Python_4.ipynb',\n",
       " b'Python_5.ipynb',\n",
       " b'Python_6.ipynb',\n",
       " b'Python_7.ipynb',\n",
       " b'Python_8.ipynb',\n",
       " b'Python_9.ipynb',\n",
       " b'Question.ipynb',\n",
       " b'Recent',\n",
       " b'RecommenderHackathon.ipynb',\n",
       " b'RecommenderSystem.ipynb',\n",
       " b'Regression_cars.ipynb',\n",
       " b'sample.db',\n",
       " b'sample_submission.csv',\n",
       " b'sample_submission_titanic.csv',\n",
       " b'sat.txt',\n",
       " b'SAT_model.ipynb',\n",
       " b'Saved Games',\n",
       " b'SciPy-Optimization1.3.4.ipynb',\n",
       " b'Searches',\n",
       " b'SendTo',\n",
       " b'sept2017',\n",
       " b'shelter',\n",
       " b'skillfactory-dl-2-screencast.ipynb',\n",
       " b'somefile.txt',\n",
       " b'some_array.npy',\n",
       " b'Spark.ipynb',\n",
       " b'SparkDataframe.ipynb',\n",
       " b'styled_monet_0.png',\n",
       " b'submission.txt',\n",
       " b'submit.csv',\n",
       " b'submit.txt',\n",
       " b'submit2.csv',\n",
       " b'submit_titanic.csv',\n",
       " b'tags.csv',\n",
       " b'test',\n",
       " b'test.csv',\n",
       " b'test.out',\n",
       " b'test1.out',\n",
       " b'test_hotdogs',\n",
       " b'test_titanic.csv',\n",
       " b'test_user_id.list',\n",
       " b'test_X.pickle',\n",
       " b'titanic.csv',\n",
       " b'titanic.ipynb',\n",
       " b'Tracing',\n",
       " b'train',\n",
       " b'train.csv',\n",
       " b'train_hotdogs',\n",
       " b'train_hotdogs.rar',\n",
       " b'train_titanic.csv',\n",
       " b'transactions.csv',\n",
       " b'unsupervised.json',\n",
       " b'Unsupervised_Text_SVD_KMeans.ipynb',\n",
       " b'Untitled.ipynb',\n",
       " b'Untitled1.ipynb',\n",
       " b'updated_dataset.csv',\n",
       " b'vector_operations.ipynb',\n",
       " b'Videos',\n",
       " b'wiki_math',\n",
       " b'wiki_math1',\n",
       " b'Word2Vec.ipynb',\n",
       " b'word_vecs.py',\n",
       " b'__pycache__',\n",
       " b'\\xd0\\x90\\xd0\\xbd\\xd1\\x81\\xd0\\xb0\\xd0\\xbc\\xd0\\xb1\\xd0\\xbb\\xd0\\xb8 (\\xd0\\xb4\\xd0\\xbb\\xd1\\x8f \\xd0\\xa1\\xd1\\x82\\xd1\\x83\\xd0\\xb4\\xd0\\xb5\\xd0\\xbd\\xd1\\x82\\xd0\\xbe\\xd0\\xb2).ipynb',\n",
       " b'\\xd0\\x92\\xd0\\xb2\\xd0\\xb5\\xd0\\xb4\\xd0\\xb5\\xd0\\xbd\\xd0\\xb8\\xd0\\xb5_\\xd0\\xb2_Python.ipynb',\n",
       " b'\\xd0\\x93\\xd0\\xbb\\xd0\\xb0\\xd0\\xb2\\xd0\\xb0 1 \\xd0\\x92\\xd0\\xb5\\xd0\\xba\\xd1\\x82\\xd0\\xbe\\xd1\\x80\\xd1\\x8b, \\xd0\\xbc\\xd0\\xb0\\xd1\\x82\\xd1\\x80\\xd0\\xb8\\xd1\\x86\\xd1\\x8b \\xd0\\xbc\\xd0\\xb0\\xd1\\x81\\xd1\\x81\\xd0\\xb8\\xd0\\xb2\\xd1\\x8b.ipynb',\n",
       " b'\\xd0\\x93\\xd0\\xbb\\xd0\\xb0\\xd0\\xb2\\xd0\\xb0 1 \\xd0\\xa1\\xd1\\x82\\xd1\\x80\\xd1\\x83\\xd0\\xba\\xd1\\x82\\xd1\\x83\\xd1\\x80\\xd1\\x8b \\xd0\\xb4\\xd0\\xb0\\xd0\\xbd\\xd0\\xbd\\xd1\\x8b\\xd1\\x85 \\xd0\\xb8 \\xd0\\xb0\\xd0\\xbb\\xd0\\xb3\\xd0\\xbe\\xd1\\x80\\xd0\\xb8\\xd1\\x82\\xd0\\xbc\\xd1\\x8b.ipynb',\n",
       " b'\\xd0\\x93\\xd0\\xbb\\xd0\\xb0\\xd0\\xb2\\xd0\\xb0 2 \\xd0\\x97\\xd0\\xb0\\xd0\\xb3\\xd1\\x80\\xd1\\x83\\xd0\\xb7\\xd0\\xba\\xd0\\xb0 \\xd0\\xb4\\xd0\\xb0\\xd0\\xbd\\xd0\\xbd\\xd1\\x8b\\xd1\\x85 (\\xd0\\x9c\\xd0\\x9e \\xd0\\x9a\\xd1\\x80\\xd0\\xb8\\xd1\\x81 \\xd0\\xad\\xd0\\xbb\\xd0\\xb1\\xd0\\xbe\\xd0\\xbd).ipynb',\n",
       " b'\\xd0\\x93\\xd0\\xbb\\xd0\\xb0\\xd0\\xb2\\xd0\\xb0 2 \\xd0\\xa1\\xd1\\x82\\xd1\\x80\\xd0\\xbe\\xd0\\xba\\xd0\\xb8 \\xd0\\xb8 \\xd1\\x82\\xd0\\xb5\\xd0\\xba\\xd1\\x81\\xd1\\x82 (Python \\xd0\\x94\\xd1\\x8d\\xd0\\xb2\\xd0\\xb8\\xd0\\xb4 \\xd0\\x91\\xd0\\xb8\\xd0\\xb7\\xd0\\xbb\\xd0\\xb8).ipynb',\n",
       " b'\\xd0\\x93\\xd0\\xbb\\xd0\\xb0\\xd0\\xb2\\xd0\\xb0 3 \\xd0\\xa3\\xd0\\xbf\\xd0\\xbe\\xd1\\x80\\xd1\\x8f\\xd0\\xb4\\xd0\\xbe\\xd1\\x87\\xd0\\xb5\\xd0\\xbd\\xd0\\xb8\\xd0\\xb5 \\xd0\\xb4\\xd0\\xb0\\xd0\\xbd\\xd0\\xbd\\xd1\\x8b\\xd1\\x85(MO \\xd0\\x9a\\xd1\\x80\\xd0\\xb8\\xd1\\x81 \\xd0\\xad\\xd0\\xbb\\xd0\\xb1\\xd0\\xbe\\xd0\\xbd).ipynb',\n",
       " b'\\xd0\\x93\\xd0\\xbb\\xd0\\xb0\\xd0\\xb2\\xd0\\xb0 4 \\xd0\\xa0\\xd0\\xb0\\xd0\\xb1\\xd0\\xbe\\xd1\\x82\\xd0\\xb0 \\xd1\\x81 \\xd1\\x87\\xd0\\xb8\\xd1\\x81\\xd0\\xbb\\xd0\\xbe\\xd0\\xb2\\xd1\\x8b\\xd0\\xbc\\xd0\\xb8 \\xd0\\xb4\\xd0\\xb0\\xd0\\xbd\\xd0\\xbd\\xd1\\x8b\\xd0\\xbc\\xd0\\xb8(\\xd0\\x9c\\xd0\\x9e \\xd0\\x9a\\xd1\\x80\\xd0\\xb8\\xd1\\x81 \\xd0\\xad\\xd0\\xbb\\xd0\\xb1\\xd0\\xbe\\xd0\\xbd).ipynb',\n",
       " b'\\xd0\\x93\\xd0\\xbb\\xd0\\xb0\\xd0\\xb2\\xd0\\xb0 5 \\xd0\\xa0\\xd0\\xb0\\xd0\\xb1\\xd0\\xbe\\xd1\\x82\\xd0\\xb0 \\xd1\\x81 \\xd0\\xba\\xd0\\xb0\\xd1\\x82\\xd0\\xb5\\xd0\\xb3\\xd0\\xbe\\xd1\\x80\\xd0\\xb8\\xd0\\xb0\\xd0\\xbb\\xd1\\x8c\\xd0\\xbd\\xd1\\x8b\\xd0\\xbc\\xd0\\xb8 \\xd0\\xb4\\xd0\\xb0\\xd0\\xbd\\xd0\\xbd\\xd1\\x8b\\xd0\\xbc\\xd0\\xb8 (\\xd0\\x9c\\xd0\\x9e \\xd0\\x9a\\xd1\\x80\\xd0\\xb8\\xd1\\x81 \\xd0\\xad\\xd0\\xbb\\xd0\\xb1\\xd0\\xbe\\xd0\\xbd).ipynb',\n",
       " b'\\xd0\\x93\\xd0\\xbb\\xd0\\xb0\\xd0\\xb2\\xd0\\xb0 6 \\xd0\\xa0\\xd0\\xb0\\xd0\\xb1\\xd0\\xbe\\xd1\\x82\\xd0\\xb0 \\xd1\\x81 \\xd1\\x82\\xd0\\xb5\\xd0\\xba\\xd1\\x81\\xd1\\x82\\xd0\\xbe\\xd0\\xbc(\\xd0\\x9c\\xd0\\x9e \\xd0\\x9a\\xd1\\x80\\xd0\\xb8\\xd1\\x81 \\xd0\\xad\\xd0\\xbb\\xd0\\xb1\\xd0\\xbe\\xd0\\xbd).ipynb',\n",
       " b'\\xd0\\x93\\xd0\\xbb\\xd0\\xb0\\xd0\\xb2\\xd0\\xb0 7 \\xd0\\xa0\\xd0\\xb0\\xd0\\xb1\\xd0\\xbe\\xd1\\x82\\xd0\\xb0 \\xd1\\x81 \\xd0\\xb4\\xd0\\xb0\\xd1\\x82\\xd0\\xb0\\xd0\\xbc\\xd0\\xb8 \\xd0\\xb8 \\xd0\\xb2\\xd1\\x80\\xd0\\xb5\\xd0\\xbc\\xd0\\xb5\\xd0\\xbd\\xd0\\xb5\\xd0\\xbc(\\xd0\\x9c\\xd0\\x9e \\xd0\\x9a\\xd1\\x80\\xd0\\xb8\\xd1\\x81 \\xd0\\xad\\xd0\\xbb\\xd0\\xb1\\xd0\\xbe\\xd0\\xbd).ipynb',\n",
       " b'\\xd0\\x93\\xd0\\xbb\\xd0\\xb0\\xd0\\xb2\\xd0\\xb0 8 \\xd0\\xa0\\xd0\\xb0\\xd0\\xb1\\xd0\\xbe\\xd1\\x82\\xd0\\xb0 \\xd1\\x81 \\xd0\\xb8\\xd0\\xb7\\xd0\\xbe\\xd0\\xb1\\xd1\\x80\\xd0\\xb0\\xd0\\xb6\\xd0\\xb5\\xd0\\xbd\\xd0\\xb8\\xd1\\x8f\\xd0\\xbc\\xd0\\xb8(\\xd0\\x9c\\xd0\\x9e \\xd0\\x9a\\xd1\\x80\\xd0\\xb8\\xd1\\x81 \\xd0\\xad\\xd0\\xbb\\xd0\\xb1\\xd0\\xbe\\xd0\\xbd).ipynb',\n",
       " b'\\xd0\\x93\\xd0\\xbb\\xd0\\xb0\\xd0\\xb2\\xd0\\xb0 9 \\xd0\\xa1\\xd0\\xbd\\xd0\\xb8\\xd0\\xb6\\xd0\\xb5\\xd0\\xbd\\xd0\\xb8\\xd0\\xb5 \\xd1\\x80\\xd0\\xb0\\xd0\\xb7\\xd0\\xbc\\xd0\\xb5\\xd1\\x80\\xd0\\xbd\\xd0\\xbe\\xd1\\x81\\xd1\\x82\\xd0\\xb8 \\xd1\\x81 \\xd0\\xbf\\xd0\\xbe\\xd0\\xbc\\xd0\\xbe\\xd1\\x89\\xd1\\x8c\\xd1\\x8e \\xd0\\xb2\\xd1\\x8b\\xd0\\xb4\\xd0\\xb5\\xd0\\xbb\\xd0\\xb5\\xd0\\xbd\\xd0\\xb8\\xd1\\x8f \\xd0\\xbf\\xd1\\x80\\xd0\\xb8\\xd0\\xb7\\xd0\\xbd\\xd0\\xb0\\xd0\\xba\\xd0\\xbe\\xd0\\xb2(\\xd0\\x9c\\xd0\\x9e \\xd0\\x9a\\xd1\\x80\\xd0\\xb8\\xd1\\x81 \\xd0\\xad\\xd0\\xbb\\xd0\\xb1\\xd0\\xbe\\xd0\\xbd).ipynb',\n",
       " b'\\xd0\\x93\\xd0\\xbb\\xd0\\xb0\\xd0\\xb2\\xd0\\xb0_4_\\xd0\\x9e\\xd1\\x81\\xd0\\xbd\\xd0\\xbe\\xd0\\xb2\\xd1\\x8b NumPy.ipynb',\n",
       " b'\\xd0\\x93\\xd0\\xbb\\xd0\\xb0\\xd0\\xb2\\xd0\\xb0_5_Pandas.ipynb',\n",
       " b'\\xd0\\xb3\\xd0\\xbb\\xd0\\xb0\\xd0\\xb2\\xd0\\xbd\\xd0\\xbe\\xd0\\xb5 \\xd0\\xbc\\xd0\\xb5\\xd0\\xbd\\xd1\\x8e',\n",
       " b'\\xd0\\x94\\xd0\\xbe\\xd0\\xbc\\xd0\\xb0\\xd1\\x88\\xd0\\xbd\\xd0\\xb5\\xd0\\xb5 \\xd0\\xb7\\xd0\\xb0\\xd0\\xb4\\xd0\\xb0\\xd0\\xbd\\xd0\\xb8\\xd0\\xb5 \\xd0\\xbf\\xd0\\xbe \\xd0\\xb3\\xd1\\x80\\xd0\\xb0\\xd0\\xb4\\xd0\\xb8\\xd0\\xb5\\xd0\\xbd\\xd1\\x82\\xd0\\xbd\\xd0\\xbe\\xd0\\xbc\\xd1\\x83 \\xd0\\xb1\\xd1\\x83\\xd1\\x81\\xd1\\x82\\xd0\\xb8\\xd0\\xbd\\xd0\\xb3\\xd1\\x83.ipynb',\n",
       " b'\\xd0\\x9b\\xd0\\xb0\\xd0\\xb1\\xd0\\xbe\\xd1\\x80\\xd0\\xb0\\xd1\\x82\\xd0\\xbe\\xd1\\x80\\xd0\\xbd\\xd0\\xb0\\xd1\\x8f BigData2.ipynb',\n",
       " b'\\xd0\\x9c\\xd0\\xbe\\xd0\\xb8 \\xd0\\xb4\\xd0\\xbe\\xd0\\xba\\xd1\\x83\\xd0\\xbc\\xd0\\xb5\\xd0\\xbd\\xd1\\x82\\xd1\\x8b',\n",
       " b'\\xd0\\x9e\\xd0\\xbf\\xd1\\x82\\xd0\\xb8\\xd0\\xbc\\xd0\\xb8\\xd0\\xb7\\xd0\\xb0\\xd1\\x86\\xd0\\xb8\\xd1\\x8f (\\xd0\\xa1\\xd1\\x82\\xd1\\x83\\xd0\\xb4\\xd0\\xb5\\xd0\\xbd\\xd1\\x82\\xd1\\x8b).ipynb',\n",
       " b'\\xd0\\x9f\\xd0\\xbe\\xd0\\xb4\\xd0\\xb1\\xd0\\xbe\\xd1\\x80 \\xd0\\xbf\\xd0\\xb0\\xd1\\x80\\xd0\\xb0\\xd0\\xbc\\xd0\\xb5\\xd1\\x82\\xd1\\x80\\xd0\\xbe\\xd0\\xb2 \\xd0\\xb8 \\xd0\\xb8\\xd1\\x82\\xd0\\xbe\\xd0\\xb3\\xd0\\xbe\\xd0\\xb2\\xd0\\xb0\\xd1\\x8f \\xd0\\xbf\\xd1\\x80\\xd0\\xb0\\xd0\\xba\\xd1\\x82\\xd0\\xb8\\xd0\\xba\\xd0\\xb0(\\xd1\\x81\\xd1\\x82\\xd1\\x83\\xd0\\xb4\\xd0\\xb5\\xd0\\xbd\\xd1\\x82\\xd1\\x8b).ipynb',\n",
       " b'\\xd0\\x9f\\xd0\\xbe\\xd0\\xb4\\xd0\\xb1\\xd0\\xbe\\xd1\\x80 \\xd0\\xbf\\xd0\\xb0\\xd1\\x80\\xd0\\xb0\\xd0\\xbc\\xd0\\xb5\\xd1\\x82\\xd1\\x80\\xd0\\xbe\\xd0\\xb2 \\xd0\\xb8 \\xd0\\xb8\\xd1\\x82\\xd0\\xbe\\xd0\\xb3\\xd0\\xbe\\xd0\\xb2\\xd0\\xb0\\xd1\\x8f \\xd0\\xbf\\xd1\\x80\\xd0\\xb0\\xd0\\xba\\xd1\\x82\\xd0\\xb8\\xd0\\xba\\xd0\\xb0_slack.ipynb',\n",
       " b'\\xd0\\xa4\\xd1\\x83\\xd0\\xbd\\xd0\\xba\\xd1\\x86\\xd0\\xb8\\xd0\\xb8 \\xd0\\xbf\\xd0\\xbe\\xd1\\x82\\xd0\\xb5\\xd1\\x80\\xd1\\x8c \\xd0\\xb8 \\xd0\\xbe\\xd0\\xbf\\xd1\\x82\\xd0\\xb8\\xd0\\xbc\\xd0\\xb8\\xd0\\xb7\\xd0\\xb0\\xd1\\x86\\xd0\\xb8\\xd1\\x8f.ipynb',\n",
       " b'\\xd0\\xa6\\xd0\\xb2\\xd0\\xb5\\xd1\\x82\\xd0\\xb0.ipynb',\n",
       " b'\\xd0\\xa8\\xd0\\xb0\\xd0\\xb1\\xd0\\xbb\\xd0\\xbe\\xd0\\xbd\\xd1\\x8b']"
      ]
     },
     "execution_count": 35,
     "metadata": {},
     "output_type": "execute_result"
    }
   ],
   "source": [
    "os.listdir(b'.')  # Байтовая строка (имена остались байтами) "
   ]
  },
  {
   "cell_type": "markdown",
   "metadata": {},
   "source": [
    "Передача имени каталога в виде байтовой строки вызывает возврат имен файлов в виде недекодированных байтов."
   ]
  },
  {
   "cell_type": "markdown",
   "metadata": {},
   "source": [
    " Имя файла, показанное в списке содержимого каталога, содержит «сырую» кодировку UTF­8. "
   ]
  },
  {
   "cell_type": "markdown",
   "metadata": {},
   "source": [
    "Некоторые программисты могут склоняться к использованию байтовых строк в качестве альтернативы текстовым из­за возможного выигрыша в производительности. Да, операции над байтами могут быть немного более эффективными, чем работа с текстом (из­за расходов на Unicode), однако такой подход приводит к грязному и неидиоматическому коду. Вы будете часто сталкиваться с тем, что байтовые строки не очень хорошо сочетаются с другими частями Python, и закончите тем, что будете вручную выполнять всевозможные операции кодированиядекодирования, чтобы все работало. Так что если вы работаете с текстом, используйте обычные текстовые строки, а не байтовые."
   ]
  },
  {
   "cell_type": "code",
   "execution_count": null,
   "metadata": {},
   "outputs": [],
   "source": []
  }
 ],
 "metadata": {
  "kernelspec": {
   "display_name": "Python 3",
   "language": "python",
   "name": "python3"
  },
  "language_info": {
   "codemirror_mode": {
    "name": "ipython",
    "version": 3
   },
   "file_extension": ".py",
   "mimetype": "text/x-python",
   "name": "python",
   "nbconvert_exporter": "python",
   "pygments_lexer": "ipython3",
   "version": "3.7.0"
  }
 },
 "nbformat": 4,
 "nbformat_minor": 2
}
