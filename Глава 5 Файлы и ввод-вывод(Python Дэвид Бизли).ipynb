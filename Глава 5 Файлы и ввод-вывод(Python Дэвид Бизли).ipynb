{
 "cells": [
  {
   "cell_type": "markdown",
   "metadata": {},
   "source": [
    "# Глава 5 Файлы и ввод-вывод(Python Дэвид Бизли)"
   ]
  },
  {
   "cell_type": "markdown",
   "metadata": {},
   "source": [
    "# Чтение и запись текстовых данных "
   ]
  },
  {
   "cell_type": "markdown",
   "metadata": {},
   "source": [
    "Вам нужно прочитать или записать текстовые данные, представленные, возможно, в различных кодировках, таких как ASCII, UTF­8 или UTF­16. "
   ]
  },
  {
   "cell_type": "markdown",
   "metadata": {},
   "source": [
    "Используйте функцию open() в режиме rt для чтения текстового файла. Например:"
   ]
  },
  {
   "cell_type": "code",
   "execution_count": 2,
   "metadata": {},
   "outputs": [],
   "source": [
    "# Прочесть остаток файла в одну строку\n",
    "with open('somefile.txt', 'rt') as f:\n",
    "    data = f.read()"
   ]
  },
  {
   "cell_type": "code",
   "execution_count": 5,
   "metadata": {},
   "outputs": [
    {
     "name": "stdout",
     "output_type": "stream",
     "text": [
      "#12345\n",
      "\n",
      "#\n",
      "\n",
      "###python\n",
      "\n",
      "##6789\n",
      "\n",
      "python\n",
      "\n",
      "text\n",
      "\n",
      "password\n",
      "\n",
      "python\n"
     ]
    }
   ],
   "source": [
    "# Итерируем по строчкам файла\n",
    "with open('somefile.txt', 'rt') as f:\n",
    "    for line in f:\n",
    "        print(line)"
   ]
  },
  {
   "cell_type": "markdown",
   "metadata": {},
   "source": [
    "Похожим образом для записи в текстовый файл используйте open() в режиме wt (стирает и перезаписывает любое предыдущее содержание файла, если оно было): "
   ]
  },
  {
   "cell_type": "code",
   "execution_count": 23,
   "metadata": {},
   "outputs": [],
   "source": [
    "# Пишем чанки (кусочки) текстовых данных \n",
    "with open('somefile.txt', 'wt') as f:\n",
    "    f.write('10.12.19\\n')\n",
    "    f.write('План работы\\n')\n",
    "    f.write('Прочитать книгу')"
   ]
  },
  {
   "cell_type": "code",
   "execution_count": 9,
   "metadata": {},
   "outputs": [
    {
     "name": "stdout",
     "output_type": "stream",
     "text": [
      "10.12.19\n",
      "\n",
      "План работы\n",
      "\n",
      "Прочитать книгу\n"
     ]
    }
   ],
   "source": [
    "with open('somefile.txt', 'rt') as f:\n",
    "    for line in f:\n",
    "        print(line)"
   ]
  },
  {
   "cell_type": "code",
   "execution_count": 13,
   "metadata": {},
   "outputs": [],
   "source": [
    "# Перенаправленная инструкция print \n",
    "with open('somefile1.txt', 'wt') as f1:\n",
    "    print(\"line1\", file=f1)\n",
    "    print(\"line2\", file=f1)\n",
    "    print(\"line3\", file=f1)"
   ]
  },
  {
   "cell_type": "code",
   "execution_count": 14,
   "metadata": {},
   "outputs": [
    {
     "name": "stdout",
     "output_type": "stream",
     "text": [
      "line1\n",
      "\n",
      "line2\n",
      "\n",
      "line3\n",
      "\n"
     ]
    }
   ],
   "source": [
    "with open('somefile1.txt', 'rt') as f1:\n",
    "    for line in f1:\n",
    "        print(line)"
   ]
  },
  {
   "cell_type": "markdown",
   "metadata": {},
   "source": [
    "Чтобы добавить записываемый текст к концу существующего файла, используйте open() в режиме at. "
   ]
  },
  {
   "cell_type": "markdown",
   "metadata": {},
   "source": [
    "По умолчанию файлы читаются и записываются в дефолтной системной кодировке, информацию о которой можно получить из sys.getdefaultencoding(). На большинстве компьютеров это будет utf-8. Если вы знаете, что текст, который вы читаете или пишете, представлен в другой кодировке, передайте необязательный параметр encoding функции open(). "
   ]
  },
  {
   "cell_type": "code",
   "execution_count": 16,
   "metadata": {},
   "outputs": [
    {
     "data": {
      "text/plain": [
       "'utf-8'"
      ]
     },
     "execution_count": 16,
     "metadata": {},
     "output_type": "execute_result"
    }
   ],
   "source": [
    "import sys\n",
    "sys.getdefaultencoding()"
   ]
  },
  {
   "cell_type": "code",
   "execution_count": 24,
   "metadata": {},
   "outputs": [
    {
     "name": "stdout",
     "output_type": "stream",
     "text": [
      "10.12.19\n",
      "\n",
      "План работы\n",
      "\n",
      "Прочитать книгу\n"
     ]
    }
   ],
   "source": [
    "with open('somefile.txt', 'rt') as f:\n",
    "    for line in f:\n",
    "        print(line)\n",
    "    "
   ]
  },
  {
   "cell_type": "code",
   "execution_count": 29,
   "metadata": {},
   "outputs": [
    {
     "name": "stdout",
     "output_type": "stream",
     "text": [
      "['10.12.19\\n', 'Ïëàí ðàáîòû\\n', 'Ïðî÷èòàòü êíèãó']\n"
     ]
    }
   ],
   "source": [
    "with open('somefile.txt', 'rt', encoding='latin-1') as f:\n",
    "    print(f.readlines())"
   ]
  },
  {
   "cell_type": "markdown",
   "metadata": {},
   "source": [
    "Python понимает несколько сотен текстовых кодировок. Однако самые распространенные – ascii, latin-1, utf-8 и utf-16. \n",
    "\n",
    "UTF-8 обычно является безопасным выбором для работы с веб-приложениями. \n",
    "\n",
    "ascii соответствует 7-битным символам в диапазоне от U+0000 до U+007F. \n",
    "\n",
    "latin-1 – это прямое отображение байтов 0–255 на символы Unicode от U-0000 до U-00FF. latin-1 известна тем, что она никогда не вызовет ошибку декодирования при чтении текста в потенциально неизвестной кодировке. Чтение файла как latin-1 может не привести к получению полностью правильно декодированного текста, но этого бывает достаточно для извлечения полезных данных. Также если вы позже запишете данные обратно, первоначальные данные будут сохранены. "
   ]
  },
  {
   "cell_type": "markdown",
   "metadata": {},
   "source": [
    "Чтение и запись файлов в большинстве случаев совершенно бесхитростны. Однако есть и тонкости. \n",
    "\n",
    "Во-первых, использование инструкции with в примере устанавливает контекст, в котором будут использованы файлы. Когда поток управления покидает блок with, файл будет автоматически закрыт. Вы не обязаны использовать инструкцию with, но если вы ее не применяете, то не забудьте закрыть файл: "
   ]
  },
  {
   "cell_type": "code",
   "execution_count": 30,
   "metadata": {},
   "outputs": [],
   "source": [
    "f = open('somefile.txt', 'rt')\n",
    "data = f.read()\n",
    "f.close()"
   ]
  },
  {
   "cell_type": "markdown",
   "metadata": {},
   "source": [
    "Еще одна небольшая сложность касается распознавания новых строк, символы которых отличаются в Unix и Windows (\\n и \\r\\n). По умолчанию Python работает в так называемом «универсальном режиме новых строк». В этом режиме все распространенные символы новой строки распознаются, и все они конвертируются в единственный \\n при чтении. Похожим образом символ новой строки \\n конвертируется в дефолтный системный символ при выводе. Если вы не хотите использовать такую трансляцию, передайте функции open() аргумент newline='': "
   ]
  },
  {
   "cell_type": "markdown",
   "metadata": {},
   "source": [
    "Чтобы продемонстрировать разницу, покажем, что вы увидите на компьютере с Unix, если вы читаете содержание файла в Windows-кодировке, в котором присутствуют сырые данные hello world!\\r\\n: "
   ]
  },
  {
   "cell_type": "code",
   "execution_count": 31,
   "metadata": {},
   "outputs": [
    {
     "name": "stdout",
     "output_type": "stream",
     "text": [
      "['10.12.19\\r\\n', 'План работы\\r\\n', 'Прочитать книгу']\n"
     ]
    }
   ],
   "source": [
    "#Читаем с отключенной трансляцией новой строки \n",
    "with open('somefile.txt', 'rt', newline='') as f:  \n",
    "    print(f.readlines())"
   ]
  },
  {
   "cell_type": "code",
   "execution_count": 32,
   "metadata": {},
   "outputs": [
    {
     "name": "stdout",
     "output_type": "stream",
     "text": [
      "['10.12.19\\n', 'План работы\\n', 'Прочитать книгу']\n"
     ]
    }
   ],
   "source": [
    "#Читаем с отключенной трансляцией новой строки \n",
    "with open('somefile.txt', 'rt') as f:  \n",
    "    print(f.readlines())"
   ]
  },
  {
   "cell_type": "markdown",
   "metadata": {},
   "source": [
    "Последняя проблема касается возможных ошибок кодировки в текстовых файлах. При чтении или записи текстового файла вы можете натолкнуться на ошибку кодирования или декодирования. Например: "
   ]
  },
  {
   "cell_type": "code",
   "execution_count": 33,
   "metadata": {},
   "outputs": [
    {
     "ename": "FileNotFoundError",
     "evalue": "[Errno 2] No such file or directory: 'sample.txt'",
     "output_type": "error",
     "traceback": [
      "\u001b[1;31m---------------------------------------------------------------------------\u001b[0m",
      "\u001b[1;31mFileNotFoundError\u001b[0m                         Traceback (most recent call last)",
      "\u001b[1;32m<ipython-input-33-1a97881e2bd5>\u001b[0m in \u001b[0;36m<module>\u001b[1;34m()\u001b[0m\n\u001b[1;32m----> 1\u001b[1;33m \u001b[0mf\u001b[0m \u001b[1;33m=\u001b[0m \u001b[0mopen\u001b[0m\u001b[1;33m(\u001b[0m\u001b[1;34m'sample.txt'\u001b[0m\u001b[1;33m,\u001b[0m \u001b[1;34m'rt'\u001b[0m\u001b[1;33m,\u001b[0m \u001b[0mencoding\u001b[0m\u001b[1;33m=\u001b[0m\u001b[1;34m'ascii'\u001b[0m\u001b[1;33m)\u001b[0m\u001b[1;33m\u001b[0m\u001b[0m\n\u001b[0m\u001b[0;32m      2\u001b[0m \u001b[0mf\u001b[0m\u001b[1;33m.\u001b[0m\u001b[0mread\u001b[0m\u001b[1;33m(\u001b[0m\u001b[1;33m)\u001b[0m\u001b[1;33m\u001b[0m\u001b[0m\n",
      "\u001b[1;31mFileNotFoundError\u001b[0m: [Errno 2] No such file or directory: 'sample.txt'"
     ]
    }
   ],
   "source": [
    "f = open('sample.txt', 'rt', encoding='ascii') \n",
    "f.read()"
   ]
  },
  {
   "cell_type": "markdown",
   "metadata": {},
   "source": [
    "Если вы получили эту ошибку, это обычно означает, что вы не используете правильную кодировку для чтения файла. Вы должны внимательно прочитать спецификацию того, что вы пытаетесь прочесть, и удостовериться, что вы делаете это правильно (то есть не читаете данные как UTF-8 вместо Latin-1 и т. п.). Если ошибки кодирования все еще возникают, вы можете передать необязательный аргумент errors функции open(), чтобы обрабатывать ошибки. Вот несколько примеров типичных схем обработки ошибок: "
   ]
  },
  {
   "cell_type": "code",
   "execution_count": 34,
   "metadata": {},
   "outputs": [
    {
     "data": {
      "text/plain": [
       "'10.12.19\\n���� ������\\n��������� �����'"
      ]
     },
     "execution_count": 34,
     "metadata": {},
     "output_type": "execute_result"
    }
   ],
   "source": [
    "# Заменяем плохие символы символом замены Unicode U+fffd \n",
    "f = open('somefile.txt', 'rt', encoding='ascii', errors='replace')\n",
    "f.read()"
   ]
  },
  {
   "cell_type": "code",
   "execution_count": 35,
   "metadata": {},
   "outputs": [
    {
     "data": {
      "text/plain": [
       "'10.12.19\\n \\n '"
      ]
     },
     "execution_count": 35,
     "metadata": {},
     "output_type": "execute_result"
    }
   ],
   "source": [
    "# Полностью игнорируем плохие символы \n",
    "g = open('somefile.txt', 'rt', encoding='ascii', errors='ignore')\n",
    "g.read()"
   ]
  },
  {
   "cell_type": "markdown",
   "metadata": {},
   "source": [
    "Если вы постоянно ловите блох с кодировками, аргументом errors функции open() и изобретаете хаки, вы, вероятно, зря усложняете себе жизнь. \n",
    "\n",
    "Первое правило работы с текстом: убедитесь, что вы используете правильную кодировку. А если сомневаетесь, какую выбрать, используйте системную установку по умолчанию (обычно это UTF-8). "
   ]
  },
  {
   "cell_type": "markdown",
   "metadata": {},
   "source": [
    "# Перенаправление вывода в файл "
   ]
  },
  {
   "cell_type": "markdown",
   "metadata": {},
   "source": [
    "Вы хотите перенаправить в файл вывод функции print()."
   ]
  },
  {
   "cell_type": "markdown",
   "metadata": {},
   "source": [
    "Используйте print() c именованным аргументом file:\n"
   ]
  },
  {
   "cell_type": "code",
   "execution_count": 37,
   "metadata": {},
   "outputs": [],
   "source": [
    "with open('somefile.txt', 'wt') as f:     \n",
    "    print('Hello World!', file=f) "
   ]
  },
  {
   "cell_type": "code",
   "execution_count": 38,
   "metadata": {},
   "outputs": [
    {
     "name": "stdout",
     "output_type": "stream",
     "text": [
      "['Hello World!\\n']\n"
     ]
    }
   ],
   "source": [
    "with open('somefile.txt', 'rt') as f:  \n",
    "    print(f.readlines())"
   ]
  },
  {
   "cell_type": "markdown",
   "metadata": {},
   "source": [
    "Про вывод в файл добавить больше и нечего. Разве что убедитесь, что файл открыт в текстовом режиме. Выводить в бинарном режиме так нельзя. "
   ]
  },
  {
   "cell_type": "markdown",
   "metadata": {},
   "source": [
    "#  Вывод с другим разделителем или символом конца строки "
   ]
  },
  {
   "cell_type": "markdown",
   "metadata": {},
   "source": [
    "Вы хотите вывести данные с помощью print(), но вы также хотите поменять символ-разделитель или символ конца строки. "
   ]
  },
  {
   "cell_type": "markdown",
   "metadata": {},
   "source": [
    "Используйте именнованные аргументы sep и end с функцией print(), чтобы изменить вывод так, как вам нужно. Например:\n"
   ]
  },
  {
   "cell_type": "code",
   "execution_count": 1,
   "metadata": {},
   "outputs": [
    {
     "name": "stdout",
     "output_type": "stream",
     "text": [
      "ACME 50 91.5\n"
     ]
    }
   ],
   "source": [
    "print('ACME', 50, 91.5)"
   ]
  },
  {
   "cell_type": "code",
   "execution_count": 2,
   "metadata": {},
   "outputs": [
    {
     "name": "stdout",
     "output_type": "stream",
     "text": [
      "ACME,50,91.5\n"
     ]
    }
   ],
   "source": [
    "print('ACME', 50, 91.5, sep=',')"
   ]
  },
  {
   "cell_type": "code",
   "execution_count": 3,
   "metadata": {},
   "outputs": [
    {
     "name": "stdout",
     "output_type": "stream",
     "text": [
      "ACME,50,91.5!!\n"
     ]
    }
   ],
   "source": [
    "print('ACME', 50, 91.5, sep=',', end='!!\\n')"
   ]
  },
  {
   "cell_type": "markdown",
   "metadata": {},
   "source": [
    "Использование аргумента end также позволяет подавить добавление символа новой строки при выводе. Например:\n"
   ]
  },
  {
   "cell_type": "code",
   "execution_count": 4,
   "metadata": {},
   "outputs": [
    {
     "name": "stdout",
     "output_type": "stream",
     "text": [
      "0 1 2 3 4 "
     ]
    }
   ],
   "source": [
    "for i in range(5):\n",
    "    print(i, end=' ')"
   ]
  },
  {
   "cell_type": "markdown",
   "metadata": {},
   "source": [
    "Использование print() с разными разделителями элементов часто является самым простым способом вывести данные, когда вам нужно сделать это с другим разделителем элементов. \n",
    "\n",
    "Однако иногда вы можете увидеть, как программисты используют str.join() для выполнения этой же задачи: "
   ]
  },
  {
   "cell_type": "code",
   "execution_count": 6,
   "metadata": {},
   "outputs": [
    {
     "name": "stdout",
     "output_type": "stream",
     "text": [
      "ACME,50,91.5\n"
     ]
    }
   ],
   "source": [
    "print(','.join(('ACME', '50', '91.5')))"
   ]
  },
  {
   "cell_type": "markdown",
   "metadata": {},
   "source": [
    "Проблема str.join() в том, что он работает только со строками. Это значит, что часто необходимо выполнить различные акробатические трюки, чтобы заставить его работать. Например: "
   ]
  },
  {
   "cell_type": "code",
   "execution_count": 8,
   "metadata": {},
   "outputs": [
    {
     "ename": "TypeError",
     "evalue": "sequence item 1: expected str instance, int found",
     "output_type": "error",
     "traceback": [
      "\u001b[1;31m---------------------------------------------------------------------------\u001b[0m",
      "\u001b[1;31mTypeError\u001b[0m                                 Traceback (most recent call last)",
      "\u001b[1;32m<ipython-input-8-72ffd8911901>\u001b[0m in \u001b[0;36m<module>\u001b[1;34m()\u001b[0m\n\u001b[0;32m      1\u001b[0m \u001b[0mrow\u001b[0m \u001b[1;33m=\u001b[0m \u001b[1;33m(\u001b[0m\u001b[1;34m'ACME'\u001b[0m\u001b[1;33m,\u001b[0m \u001b[1;36m50\u001b[0m\u001b[1;33m,\u001b[0m \u001b[1;36m91.5\u001b[0m\u001b[1;33m)\u001b[0m\u001b[1;33m\u001b[0m\u001b[0m\n\u001b[1;32m----> 2\u001b[1;33m \u001b[0mprint\u001b[0m\u001b[1;33m(\u001b[0m\u001b[1;34m','\u001b[0m\u001b[1;33m.\u001b[0m\u001b[0mjoin\u001b[0m\u001b[1;33m(\u001b[0m\u001b[0mrow\u001b[0m\u001b[1;33m)\u001b[0m\u001b[1;33m)\u001b[0m\u001b[1;33m\u001b[0m\u001b[0m\n\u001b[0m",
      "\u001b[1;31mTypeError\u001b[0m: sequence item 1: expected str instance, int found"
     ]
    }
   ],
   "source": [
    "row = ('ACME', 50, 91.5)\n",
    "print(','.join(row))"
   ]
  },
  {
   "cell_type": "code",
   "execution_count": 9,
   "metadata": {},
   "outputs": [
    {
     "name": "stdout",
     "output_type": "stream",
     "text": [
      "ACME,50,91.5\n"
     ]
    }
   ],
   "source": [
    "print(','.join(str(x) for x in row))"
   ]
  },
  {
   "cell_type": "markdown",
   "metadata": {},
   "source": [
    "Вместо этого вы могли бы просто написать так: "
   ]
  },
  {
   "cell_type": "code",
   "execution_count": 10,
   "metadata": {},
   "outputs": [
    {
     "name": "stdout",
     "output_type": "stream",
     "text": [
      "ACME,50,91.5\n"
     ]
    }
   ],
   "source": [
    "print(*row, sep=',')"
   ]
  },
  {
   "cell_type": "markdown",
   "metadata": {},
   "source": [
    "# Чтение и запись бинарных данных "
   ]
  },
  {
   "cell_type": "markdown",
   "metadata": {},
   "source": [
    "Вам нужно прочесть или записать бинарные данные, такие как содержимое картинок, звуковых файлов и т. п. "
   ]
  },
  {
   "cell_type": "code",
   "execution_count": 12,
   "metadata": {},
   "outputs": [],
   "source": [
    "# Прочесть весь файл как одну байтовую строку \n",
    "with open('somefile.txt', 'rb') as f:\n",
    "    data = f.read()"
   ]
  },
  {
   "cell_type": "code",
   "execution_count": 16,
   "metadata": {},
   "outputs": [],
   "source": [
    "# Записать бинарные данные в файл\n",
    "with open('somefile.bin', 'wb') as f:\n",
    "    f.write(b'Hello Word!')"
   ]
  },
  {
   "cell_type": "code",
   "execution_count": 18,
   "metadata": {},
   "outputs": [
    {
     "name": "stdout",
     "output_type": "stream",
     "text": [
      "b'Hello Word!'\n"
     ]
    }
   ],
   "source": [
    "# Прочесть весь файл как одну байтовую строку \n",
    "with open('somefile.bin', 'rb') as f:\n",
    "    data = f.read()\n",
    "    print(data)\n"
   ]
  },
  {
   "cell_type": "markdown",
   "metadata": {},
   "source": [
    "При чтении бинарных данных важно подчеркнуть, что все получаемые данные будут в форме байтовых, а не текстовых строк. Похожим образом при записи вы должны предоставить данные в форме объектов, которые представляют данные в форме байтов (байтовые строки, объекты bytearray и т. д.). "
   ]
  },
  {
   "cell_type": "markdown",
   "metadata": {},
   "source": [
    "При чтении бинарных данных тонкие сематические различия между байтовыми и текстовыми строками могут привести к проблемам. Нужно помнить, что индексирование и итерирование возвращают целочисленное байтовое значение, а не байтовые строки. Например: "
   ]
  },
  {
   "cell_type": "code",
   "execution_count": 19,
   "metadata": {},
   "outputs": [
    {
     "data": {
      "text/plain": [
       "'H'"
      ]
     },
     "execution_count": 19,
     "metadata": {},
     "output_type": "execute_result"
    }
   ],
   "source": [
    "# Текстовая строка \n",
    "t = 'Hello World'\n",
    "t[0]"
   ]
  },
  {
   "cell_type": "code",
   "execution_count": 20,
   "metadata": {},
   "outputs": [
    {
     "name": "stdout",
     "output_type": "stream",
     "text": [
      "H\n",
      "e\n",
      "l\n",
      "l\n",
      "o\n",
      " \n",
      "W\n",
      "o\n",
      "r\n",
      "l\n",
      "d\n"
     ]
    }
   ],
   "source": [
    "for c in t:\n",
    "    print(c)"
   ]
  },
  {
   "cell_type": "code",
   "execution_count": 21,
   "metadata": {},
   "outputs": [
    {
     "data": {
      "text/plain": [
       "72"
      ]
     },
     "execution_count": 21,
     "metadata": {},
     "output_type": "execute_result"
    }
   ],
   "source": [
    "# Байтовая строка\n",
    "b = b'Hello World'\n",
    "b[0]"
   ]
  },
  {
   "cell_type": "code",
   "execution_count": 22,
   "metadata": {},
   "outputs": [
    {
     "name": "stdout",
     "output_type": "stream",
     "text": [
      "72\n",
      "101\n",
      "108\n",
      "108\n",
      "111\n",
      "32\n",
      "87\n",
      "111\n",
      "114\n",
      "108\n",
      "100\n"
     ]
    }
   ],
   "source": [
    "for c in b:\n",
    "    print(c)"
   ]
  },
  {
   "cell_type": "markdown",
   "metadata": {},
   "source": [
    "Если вам когда-либо потребуется прочесть текст из или записать в открытый в бинарном режиме файл, убедитесь, что не забыли декодировать или закодировать его. Например: "
   ]
  },
  {
   "cell_type": "code",
   "execution_count": 24,
   "metadata": {},
   "outputs": [
    {
     "name": "stdout",
     "output_type": "stream",
     "text": [
      "Hello Word!\n"
     ]
    }
   ],
   "source": [
    "with open('somefile.bin', 'rb') as f:\n",
    "    data = f.read(16)\n",
    "    text = data.decode('utf-8')\n",
    "    print(text)"
   ]
  },
  {
   "cell_type": "code",
   "execution_count": 25,
   "metadata": {},
   "outputs": [
    {
     "name": "stdout",
     "output_type": "stream",
     "text": [
      "Hello World111\n"
     ]
    }
   ],
   "source": [
    "with open('somefile.bin', 'wb') as f:\n",
    "    text = 'Hello World111'\n",
    "    f.write(text.encode('utf-8'))\n",
    "    \n",
    "with open('somefile.bin', 'rb') as f:\n",
    "    data = f.read(16)\n",
    "    text = data.decode('utf-8')\n",
    "    print(text)"
   ]
  },
  {
   "cell_type": "markdown",
   "metadata": {},
   "source": [
    "Менее известный аспект бинарного ввода-вывода заключается в том, что такие объекты, как массивы и структуры языка C, могут быть использованы для записи без какого-либо промежуточного преобразования в объект bytes. Например: "
   ]
  },
  {
   "cell_type": "code",
   "execution_count": 26,
   "metadata": {},
   "outputs": [],
   "source": [
    "import array\n",
    "nums = array.array('i', [1, 2, 3, 4])\n",
    "with open('data.bin', 'wb') as f:\n",
    "    f.write(nums)"
   ]
  },
  {
   "cell_type": "code",
   "execution_count": 28,
   "metadata": {},
   "outputs": [
    {
     "name": "stdout",
     "output_type": "stream",
     "text": [
      "b'\\x01\\x00\\x00\\x00\\x02\\x00\\x00\\x00\\x03\\x00\\x00\\x00\\x04\\x00\\x00\\x00'\n"
     ]
    }
   ],
   "source": [
    "with open('data.bin', 'rb') as f:\n",
    "    data = f.read()\n",
    "    print(data)"
   ]
  },
  {
   "cell_type": "markdown",
   "metadata": {},
   "source": [
    "Это применимо к любому объекту, в котором реализован так называемый «буферный интерфейс», который напрямую дает доступ к собственному буферу памяти операциям, которые могут с ним работать. Запись бинарных данных – одна из таких операций. \n",
    "\n",
    "Многие объекты также позволяют бинарным данным напрямую быть прочитанными в их память с помощью файлового метода readinto(). Например: "
   ]
  },
  {
   "cell_type": "code",
   "execution_count": 30,
   "metadata": {},
   "outputs": [
    {
     "name": "stdout",
     "output_type": "stream",
     "text": [
      "16\n"
     ]
    }
   ],
   "source": [
    "import array\n",
    "a = array.array('i', [0, 0, 0, 0, 0, 0, 0, 0])\n",
    "with open('data.bin', 'rb') as f:\n",
    "    print(f.readinto(a))"
   ]
  },
  {
   "cell_type": "code",
   "execution_count": 31,
   "metadata": {},
   "outputs": [
    {
     "data": {
      "text/plain": [
       "array('i', [1, 2, 3, 4, 0, 0, 0, 0])"
      ]
     },
     "execution_count": 31,
     "metadata": {},
     "output_type": "execute_result"
    }
   ],
   "source": [
    "a"
   ]
  },
  {
   "cell_type": "markdown",
   "metadata": {},
   "source": [
    "Однако нужно принять все меры предосторожности при использовании этого приема, поскольку он часто является платформозависимым и зависит от таких вещей, как размер слова, порядок следования байтов (big-endian или littleendian). Далее приведен другой пример чтения бинарных данных в изменяемый (mutable) буфер. "
   ]
  },
  {
   "cell_type": "markdown",
   "metadata": {},
   "source": [
    "# Запись в файл, которого еще нет "
   ]
  },
  {
   "cell_type": "markdown",
   "metadata": {},
   "source": [
    "Вы хотите записать данные в файл, но только в том случае, если его еще нет в файловой системе. "
   ]
  },
  {
   "cell_type": "markdown",
   "metadata": {},
   "source": [
    "Эта задача легко решается с помощью использования малоизвестного режима x работы open() (вместо обычного режима w): "
   ]
  },
  {
   "cell_type": "code",
   "execution_count": 1,
   "metadata": {},
   "outputs": [],
   "source": [
    "with open('somefile8.txt', 'wt') as f:\n",
    "    f.write('Helli\\n')"
   ]
  },
  {
   "cell_type": "code",
   "execution_count": 2,
   "metadata": {},
   "outputs": [
    {
     "ename": "FileExistsError",
     "evalue": "[Errno 17] File exists: 'somefile8.txt'",
     "output_type": "error",
     "traceback": [
      "\u001b[1;31m---------------------------------------------------------------------------\u001b[0m",
      "\u001b[1;31mFileExistsError\u001b[0m                           Traceback (most recent call last)",
      "\u001b[1;32m<ipython-input-2-135e62c1b778>\u001b[0m in \u001b[0;36m<module>\u001b[1;34m()\u001b[0m\n\u001b[1;32m----> 1\u001b[1;33m \u001b[1;32mwith\u001b[0m \u001b[0mopen\u001b[0m\u001b[1;33m(\u001b[0m\u001b[1;34m'somefile8.txt'\u001b[0m\u001b[1;33m,\u001b[0m \u001b[1;34m'xt'\u001b[0m\u001b[1;33m)\u001b[0m \u001b[1;32mas\u001b[0m \u001b[0mf\u001b[0m\u001b[1;33m:\u001b[0m\u001b[1;33m\u001b[0m\u001b[0m\n\u001b[0m\u001b[0;32m      2\u001b[0m     \u001b[0mf\u001b[0m\u001b[1;33m.\u001b[0m\u001b[0mwrite\u001b[0m\u001b[1;33m(\u001b[0m\u001b[1;34m'Hello\\n'\u001b[0m\u001b[1;33m)\u001b[0m\u001b[1;33m\u001b[0m\u001b[0m\n",
      "\u001b[1;31mFileExistsError\u001b[0m: [Errno 17] File exists: 'somefile8.txt'"
     ]
    }
   ],
   "source": [
    "#уже записать нельзя\n",
    "#проверили, что такой файл есть и больше не записываем\n",
    "with open('somefile8.txt', 'xt') as f:\n",
    "    f.write('Hello\\n')"
   ]
  },
  {
   "cell_type": "markdown",
   "metadata": {},
   "source": [
    "Если файл в бинарном режиме, используйте режим xb вместо xt. "
   ]
  },
  {
   "cell_type": "markdown",
   "metadata": {},
   "source": [
    "Этот рецепт демонстрирует удивительно элегантное решение проблемы, иногда возникающей при записи в файлы (например, случайной перезаписи существующего файла). Альтернативное решение – предварительная проверка:"
   ]
  },
  {
   "cell_type": "code",
   "execution_count": 4,
   "metadata": {},
   "outputs": [
    {
     "name": "stdout",
     "output_type": "stream",
     "text": [
      "File already exists!\n"
     ]
    }
   ],
   "source": [
    "import os\n",
    "if not os.path.exists('somefile9.txt'):\n",
    "    with open('somefile9.txt', 'wt') as f:\n",
    "        f.write('Hello\\n')\n",
    "else:\n",
    "    print('File already exists!')"
   ]
  },
  {
   "cell_type": "markdown",
   "metadata": {},
   "source": [
    "Очевидно, что использование режима x намного проще. Важно отметить, что режим x доступен для функции open() только в Python 3. Этот режим не существовал в ранних версиях Python или низкоуровневневых библиотеках на языке C, использованных в реализации Python. "
   ]
  },
  {
   "cell_type": "markdown",
   "metadata": {},
   "source": [
    "# Выполнение операций ввода-вывода над строками"
   ]
  },
  {
   "cell_type": "markdown",
   "metadata": {},
   "source": [
    "Вы хотите скормить текст или бинарную строку программе, которая способна работать с файлоподобными объектами. "
   ]
  },
  {
   "cell_type": "markdown",
   "metadata": {},
   "source": [
    "Используйте классы io.StringIO() и io.BytesIO() для создания файлоподобных объектов, которые могут работать со строковыми данными. Например: "
   ]
  },
  {
   "cell_type": "code",
   "execution_count": 6,
   "metadata": {},
   "outputs": [
    {
     "data": {
      "text/plain": [
       "12"
      ]
     },
     "execution_count": 6,
     "metadata": {},
     "output_type": "execute_result"
    }
   ],
   "source": [
    "import io\n",
    "s = io.StringIO()\n",
    "s.write('Hello World\\n')"
   ]
  },
  {
   "cell_type": "code",
   "execution_count": 7,
   "metadata": {},
   "outputs": [],
   "source": [
    "print('This is a test', file=s) "
   ]
  },
  {
   "cell_type": "code",
   "execution_count": 8,
   "metadata": {},
   "outputs": [
    {
     "data": {
      "text/plain": [
       "'Hello World\\nThis is a test\\n'"
      ]
     },
     "execution_count": 8,
     "metadata": {},
     "output_type": "execute_result"
    }
   ],
   "source": [
    "#Получить все уже записанные данные\n",
    "s.getvalue()"
   ]
  },
  {
   "cell_type": "code",
   "execution_count": 9,
   "metadata": {},
   "outputs": [
    {
     "data": {
      "text/plain": [
       "'Hell'"
      ]
     },
     "execution_count": 9,
     "metadata": {},
     "output_type": "execute_result"
    }
   ],
   "source": [
    "#Обернуть существующую строку файловым интерфейсом \n",
    "s = io.StringIO('Hello\\nWorld\\n')\n",
    "s.read(4)"
   ]
  },
  {
   "cell_type": "code",
   "execution_count": 10,
   "metadata": {},
   "outputs": [
    {
     "data": {
      "text/plain": [
       "'o\\nWorld\\n'"
      ]
     },
     "execution_count": 10,
     "metadata": {},
     "output_type": "execute_result"
    }
   ],
   "source": [
    "s.read()"
   ]
  },
  {
   "cell_type": "markdown",
   "metadata": {},
   "source": [
    "Класс io.StringIO должен быть использован только для работы с текстом. Если вы работаете с бинарными данными, используйте io.BytesIO."
   ]
  },
  {
   "cell_type": "code",
   "execution_count": 11,
   "metadata": {},
   "outputs": [
    {
     "data": {
      "text/plain": [
       "b'binary data'"
      ]
     },
     "execution_count": 11,
     "metadata": {},
     "output_type": "execute_result"
    }
   ],
   "source": [
    "s = io.BytesIO() \n",
    "s.write(b'binary data')\n",
    "s.getvalue()"
   ]
  },
  {
   "cell_type": "markdown",
   "metadata": {},
   "source": [
    "Классы StringIO и BytesIO наиболее полезны в случаях, когда вам нужно подменить обычный файл. Например, в юнит-тестах вы могли бы использовать StringIO для создания файлоподобного объекта, содержащего тестовые данные, которые скармливаются функции, предназначенной для работы с файлами. Обратите внимание, что экземпляры StringIO и BytesIO не имеют настоящего целочисленного файлового дескриптора. Поэтому они не будут работать с программами, которые требуют использования настоящих системных файлов (файлов, каналов, сокетов). "
   ]
  },
  {
   "cell_type": "markdown",
   "metadata": {},
   "source": [
    "#  Чтение и запись сжатых файлов с данными "
   ]
  },
  {
   "cell_type": "markdown",
   "metadata": {},
   "source": [
    "Вам нужно прочесть или записать данные в файл, сжатый gzip или bz2. "
   ]
  },
  {
   "cell_type": "markdown",
   "metadata": {},
   "source": [
    "Модули gzip и bz2 делают работу с такими файлами очень легкой. Оба модуля предо ставляют альтернативную реализацию функции open(). Например, чтобы прочесть сжатые файлы как текст, сделайте так: "
   ]
  },
  {
   "cell_type": "code",
   "execution_count": null,
   "metadata": {},
   "outputs": [],
   "source": [
    "# Сжатие с помощью gzip \n",
    "import gzip\n",
    "with gzip.open('somefile.gz', 'rt') as f:\n",
    "    text = f.read()"
   ]
  },
  {
   "cell_type": "code",
   "execution_count": null,
   "metadata": {},
   "outputs": [],
   "source": [
    "# Сжатие с помощью bz2 \n",
    "import bz2\n",
    "with bz2.open('somefile.bz2', 'rt') as f:\n",
    "    text = f.read()"
   ]
  },
  {
   "cell_type": "markdown",
   "metadata": {},
   "source": [
    "Как показано выше, весь ввод и вывод будет использовать текст и проводить кодирование/декодирование в Unicode. Если же вы хотите работать с бинарными данными, используйте файловый режим rb или wb. "
   ]
  },
  {
   "cell_type": "markdown",
   "metadata": {},
   "source": [
    "Чтение и запись сжатых данных по большей части просты. Однако стоит знать, что выбор правильного файлового режима критически важен. Если вы не обозначите режим явно, то будет выбран режим по умолчанию, то есть бинарный, а это сломает программы, которые ожидают получить текст. gzip.open() и bz2.open() принимают те же параметры, что и встроенная функция open(), включая encoding, errors, newline и т. д. При записи сжатых данных с помощью необязательного именованного аргумента compresslevel может быть установлен уровень компрессии."
   ]
  },
  {
   "cell_type": "code",
   "execution_count": null,
   "metadata": {},
   "outputs": [],
   "source": [
    "with gzip.open('somefile.gz', 'wt', compresslevel=5) as f:     \n",
    "    f.write(text)"
   ]
  },
  {
   "cell_type": "markdown",
   "metadata": {},
   "source": [
    "Уровень по умолчанию – это 9, то есть наивысший. Более низкие уровни увеличивают скорость, но снижают степень сжатия данных."
   ]
  },
  {
   "cell_type": "markdown",
   "metadata": {},
   "source": [
    "И последнее: малоизвестная особенность gzip.open() и bz2.open() заключается в том, что они могут работать уровнем выше существующего файла, открытого в бинарном режиме. Например, такой код работает:\n"
   ]
  },
  {
   "cell_type": "code",
   "execution_count": null,
   "metadata": {},
   "outputs": [],
   "source": [
    "import \n",
    " \n",
    "f = open('somefile.gz', 'rb') \n",
    "with gzip.open(f, 'rt') as g:     \n",
    "    text = g.read() "
   ]
  },
  {
   "cell_type": "markdown",
   "metadata": {},
   "source": [
    "Это позволяет модулям gzip и bz2 работать с различными файлоподобными объектами, такими как сокеты, каналы и файлы в оперативной памяти. "
   ]
  },
  {
   "cell_type": "markdown",
   "metadata": {},
   "source": [
    "#  Итерирование по записям фиксированного размера "
   ]
  },
  {
   "cell_type": "markdown",
   "metadata": {},
   "source": [
    "Вместо того чтобы итерировать по файлу построчно, вы хотите итерировать по коллекции записей фиксированного размера или кусочкам (\"chunk\"). "
   ]
  },
  {
   "cell_type": "markdown",
   "metadata": {},
   "source": [
    "Используйте функции iter() и functools.partial(), чтобы выполнить этот клевый фокус:\n"
   ]
  },
  {
   "cell_type": "code",
   "execution_count": 3,
   "metadata": {},
   "outputs": [],
   "source": [
    " with open('somefile777.data', 'w') as f:     \n",
    "    f.write(\"Малоизвестная возможность функции iter() заключается в том, что она может создать итератор, если вы передадите ей вызываемый объект и пороговое значение. Получившийся итератор просто снова и снова вызывает предоставленный вызываемый объект, пока он не вернет пороговое значение, что приведет к завершению итерирования. В вышеприведенном решении functools.partial используется для создания вызываемого объекта, который читает фиксированное количество байтов из файла каждый раз, когда вызывается. Пороговое значение b'' – то, что будет возвращено при попытке чтения файла, когда будет достигнут его конец.\")"
   ]
  },
  {
   "cell_type": "code",
   "execution_count": 4,
   "metadata": {},
   "outputs": [
    {
     "name": "stdout",
     "output_type": "stream",
     "text": [
      "b'\\xcc\\xe0\\xeb\\xee\\xe8\\xe7\\xe2\\xe5\\xf1\\xf2\\xed\\xe0\\xff \\xe2\\xee\\xe7\\xec\\xee\\xe6\\xed\\xee\\xf1\\xf2\\xfc \\xf4\\xf3\\xed\\xea\\xf6\\xe8'\n",
      "b'\\xe8 iter() \\xe7\\xe0\\xea\\xeb\\xfe\\xf7\\xe0\\xe5\\xf2\\xf1\\xff \\xe2\\xa0\\xf2\\xee\\xec, \\xf7\\xf2\\xee '\n",
      "b'\\xee\\xed\\xe0 \\xec\\xee\\xe6\\xe5\\xf2 \\xf1\\xee\\xe7\\xe4\\xe0\\xf2\\xfc \\xe8\\xf2\\xe5\\xf0\\xe0\\xf2\\xee\\xf0, \\xe5\\xf1\\xeb\\xe8'\n",
      "b' \\xe2\\xfb \\xef\\xe5\\xf0\\xe5\\xe4\\xe0\\xe4\\xe8\\xf2\\xe5 \\xe5\\xe9 \\xe2\\xfb\\xe7\\xfb\\xe2\\xe0\\xe5\\xec\\xfb\\xe9 \\xee\\xe1\\xfa'\n",
      "b'\\xe5\\xea\\xf2 \\xe8\\xa0\\xef\\xee\\xf0\\xee\\xe3\\xee\\xe2\\xee\\xe5 \\xe7\\xed\\xe0\\xf7\\xe5\\xed\\xe8\\xe5. \\xcf\\xee\\xeb\\xf3\\xf7\\xe8'\n",
      "b'\\xe2\\xf8\\xe8\\xe9\\xf1\\xff \\xe8\\xf2\\xe5\\xf0\\xe0\\xf2\\xee\\xf0 \\xef\\xf0\\xee\\xf1\\xf2\\xee \\xf1\\xed\\xee\\xe2\\xe0 \\xe8\\xa0\\xf1'\n",
      "b'\\xed\\xee\\xe2\\xe0 \\xe2\\xfb\\xe7\\xfb\\xe2\\xe0\\xe5\\xf2 \\xef\\xf0\\xe5\\xe4\\xee\\xf1\\xf2\\xe0\\xe2\\xeb\\xe5\\xed\\xed\\xfb\\xe9 \\xe2\\xfb'\n",
      "b'\\xe7\\xfb\\xe2\\xe0\\xe5\\xec\\xfb\\xe9 \\xee\\xe1\\xfa\\xe5\\xea\\xf2, \\xef\\xee\\xea\\xe0 \\xee\\xed \\xed\\xe5 \\xe2\\xe5\\xf0\\xed'\n",
      "b'\\xe5\\xf2 \\xef\\xee\\xf0\\xee\\xe3\\xee\\xe2\\xee\\xe5 \\xe7\\xed\\xe0\\xf7\\xe5\\xed\\xe8\\xe5, \\xf7\\xf2\\xee \\xef\\xf0\\xe8\\xe2\\xe5'\n",
      "b'\\xe4\\xe5\\xf2 \\xea\\xa0\\xe7\\xe0\\xe2\\xe5\\xf0\\xf8\\xe5\\xed\\xe8\\xfe \\xe8\\xf2\\xe5\\xf0\\xe8\\xf0\\xee\\xe2\\xe0\\xed\\xe8\\xff. \\xc2'\n",
      "b' \\xe2\\xfb\\xf8\\xe5\\xef\\xf0\\xe8\\xe2\\xe5\\xe4\\xe5\\xed\\xed\\xee\\xec \\xf0\\xe5\\xf8\\xe5\\xed\\xe8\\xe8 functoo'\n",
      "b'ls.partial \\xe8\\xf1\\xef\\xee\\xeb\\xfc\\xe7\\xf3\\xe5\\xf2\\xf1\\xff \\xe4\\xeb\\xff \\xf1\\xee\\xe7\\xe4'\n",
      "b'\\xe0\\xed\\xe8\\xff \\xe2\\xfb\\xe7\\xfb\\xe2\\xe0\\xe5\\xec\\xee\\xe3\\xee \\xee\\xe1\\xfa\\xe5\\xea\\xf2\\xe0, \\xea\\xee\\xf2\\xee\\xf0\\xfb'\n",
      "b'\\xe9 \\xf7\\xe8\\xf2\\xe0\\xe5\\xf2 \\xf4\\xe8\\xea\\xf1\\xe8\\xf0\\xee\\xe2\\xe0\\xed\\xed\\xee\\xe5 \\xea\\xee\\xeb\\xe8\\xf7\\xe5\\xf1\\xf2\\xe2'\n",
      "b'\\xee \\xe1\\xe0\\xe9\\xf2\\xee\\xe2 \\xe8\\xe7 \\xf4\\xe0\\xe9\\xeb\\xe0 \\xea\\xe0\\xe6\\xe4\\xfb\\xe9 \\xf0\\xe0\\xe7, \\xea\\xee'\n",
      "b'\\xe3\\xe4\\xe0 \\xe2\\xfb\\xe7\\xfb\\xe2\\xe0\\xe5\\xf2\\xf1\\xff. \\xcf\\xee\\xf0\\xee\\xe3\\xee\\xe2\\xee\\xe5 \\xe7\\xed\\xe0\\xf7\\xe5\\xed'\n",
      "b\"\\xe8\\xe5 b''\\xa0\\x96 \\xf2\\xee, \\xf7\\xf2\\xee \\xe1\\xf3\\xe4\\xe5\\xf2 \\xe2\\xee\\xe7\\xe2\\xf0\\xe0\\xf9\\xe5\\xed\"\n",
      "b'\\xee \\xef\\xf0\\xe8 \\xef\\xee\\xef\\xfb\\xf2\\xea\\xe5 \\xf7\\xf2\\xe5\\xed\\xe8\\xff \\xf4\\xe0\\xe9\\xeb\\xe0, \\xea\\xee\\xe3\\xe4'\n",
      "b'\\xe0 \\xe1\\xf3\\xe4\\xe5\\xf2 \\xe4\\xee\\xf1\\xf2\\xe8\\xe3\\xed\\xf3\\xf2 \\xe5\\xe3\\xee \\xea\\xee\\xed\\xe5\\xf6.'\n"
     ]
    }
   ],
   "source": [
    "from functools import partial \n",
    " \n",
    "RECORD_SIZE = 32 \n",
    " \n",
    "with open('somefile777.data', 'rb') as f:     \n",
    "    records = iter(partial(f.read, RECORD_SIZE), b'')     \n",
    "    for r in records:  \n",
    "        print(r)"
   ]
  },
  {
   "cell_type": "code",
   "execution_count": 6,
   "metadata": {},
   "outputs": [
    {
     "name": "stdout",
     "output_type": "stream",
     "text": [
      "Малоизвест\n",
      "ная возмож\n",
      "ность функ\n",
      "ции iter()\n",
      " заключает\n",
      "ся в том, \n",
      "что она мо\n",
      "жет создат\n",
      "ь итератор\n",
      ", если вы \n",
      "передадите\n",
      " ей вызыва\n",
      "емый объек\n",
      "т и порого\n",
      "вое значен\n",
      "ие. Получи\n",
      "вшийся ите\n",
      "ратор прос\n",
      "то снова и\n",
      " снова выз\n",
      "ывает пред\n",
      "оставленны\n",
      "й вызываем\n",
      "ый объект,\n",
      " пока он н\n",
      "е вернет п\n",
      "ороговое з\n",
      "начение, ч\n",
      "то приведе\n",
      "т к заверш\n",
      "ению итери\n",
      "рования. В\n",
      " вышеприве\n",
      "денном реш\n",
      "ении funct\n",
      "ools.parti\n",
      "al использ\n",
      "уется для \n",
      "создания в\n",
      "ызываемого\n",
      " объекта, \n",
      "который чи\n",
      "тает фикси\n",
      "рованное к\n",
      "оличество \n",
      "байтов из \n",
      "файла кажд\n",
      "ый раз, ко\n",
      "гда вызыва\n",
      "ется. Поро\n",
      "говое знач\n",
      "ение b'' –\n",
      " то, что б\n",
      "удет возвр\n",
      "ащено при \n",
      "попытке чт\n",
      "ения файла\n",
      ", когда бу\n",
      "дет достиг\n",
      "нут его ко\n",
      "нец.\n"
     ]
    }
   ],
   "source": [
    "from functools import partial \n",
    " \n",
    "RECORD_SIZE = 10 \n",
    " \n",
    "with open('somefile777.data', 'r') as f:     \n",
    "    records = iter(partial(f.read, RECORD_SIZE), '')     \n",
    "    for r in records:  \n",
    "        print(r)"
   ]
  },
  {
   "cell_type": "markdown",
   "metadata": {},
   "source": [
    "Объект records в этом примере является итерируемым; он будет производить кусочки фиксированного размера, пока не будет достигнут конец файла. Однако стоит отметить, что в последнем элементе может быть на несколько байтов меньше, чем ожидается, если размер файла не делится на точную длину размера записи. "
   ]
  },
  {
   "cell_type": "markdown",
   "metadata": {},
   "source": [
    "Малоизвестная возможность функции iter() заключается в том, что она может создать итератор, если вы передадите ей вызываемый объект и пороговое значение. Получившийся итератор просто снова и снова вызывает предоставленный вызываемый объект, пока он не вернет пороговое значение, что приведет к завершению итерирования. \n",
    "\n",
    "В вышеприведенном решении functools.partial используется для создания вызываемого объекта, который читает фиксированное количество байтов из файла каждый раз, когда вызывается. Пороговое значение b'' – то, что будет возвращено при попытке чтения файла, когда будет достигнут его конец. \n",
    "\n",
    "И последнее: в показанном выше решении файл был открыт в бинарном режиме. Для чтений записей фиксированного размера это является наиболее распространенным случаем. В случае же текстовых файлов более распространенным будет построчное чтение (итератор выполняет его по умолчанию). "
   ]
  },
  {
   "cell_type": "markdown",
   "metadata": {},
   "source": [
    "#  Чтение бинарных данных в изменяемый(мутабельный) буфер"
   ]
  },
  {
   "cell_type": "markdown",
   "metadata": {},
   "source": [
    "Вы хотите читать бинарные данные непосредственно в изменяемый буфер без какого-либо промежуточного копирования. Возможно, вы хотите изменить данные\n",
    "на месте и записать их обратно в файл."
   ]
  },
  {
   "cell_type": "markdown",
   "metadata": {},
   "source": [
    "Чтобы прочесть данные в  изменяемый массив, используйте файловый метод\n",
    "readinto(). Например:"
   ]
  },
  {
   "cell_type": "code",
   "execution_count": 6,
   "metadata": {},
   "outputs": [],
   "source": [
    "import os.path"
   ]
  },
  {
   "cell_type": "code",
   "execution_count": 10,
   "metadata": {},
   "outputs": [],
   "source": [
    "def read_into_buffer(filename):\n",
    "    buf =  bytearray(os.path.getsize(filename))\n",
    "    with open(filename, 'rb') as f:\n",
    "        f.readinto(buf)\n",
    "        return buf"
   ]
  },
  {
   "cell_type": "markdown",
   "metadata": {},
   "source": [
    "Вот пример использования:\n"
   ]
  },
  {
   "cell_type": "code",
   "execution_count": 11,
   "metadata": {},
   "outputs": [],
   "source": [
    "# Записываем файл примера\n",
    "with open('somefile555.txt', 'wb') as f:\n",
    "    f.write(b'Hello Word')"
   ]
  },
  {
   "cell_type": "code",
   "execution_count": 12,
   "metadata": {},
   "outputs": [
    {
     "data": {
      "text/plain": [
       "bytearray(b'Hello Word')"
      ]
     },
     "execution_count": 12,
     "metadata": {},
     "output_type": "execute_result"
    }
   ],
   "source": [
    "buf = read_into_buffer('somefile555.txt')\n",
    "buf"
   ]
  },
  {
   "cell_type": "code",
   "execution_count": 13,
   "metadata": {},
   "outputs": [
    {
     "data": {
      "text/plain": [
       "bytearray(b'Hello')"
      ]
     },
     "execution_count": 13,
     "metadata": {},
     "output_type": "execute_result"
    }
   ],
   "source": [
    "buf[0:5]"
   ]
  },
  {
   "cell_type": "code",
   "execution_count": 14,
   "metadata": {},
   "outputs": [
    {
     "data": {
      "text/plain": [
       "bytearray(b'Hello Word')"
      ]
     },
     "execution_count": 14,
     "metadata": {},
     "output_type": "execute_result"
    }
   ],
   "source": [
    "buf"
   ]
  },
  {
   "cell_type": "code",
   "execution_count": 16,
   "metadata": {},
   "outputs": [],
   "source": [
    "with open('newsomefile555.txt', 'wb') as f:\n",
    "    f.write(buf)"
   ]
  },
  {
   "cell_type": "markdown",
   "metadata": {},
   "source": [
    "Метод readinto() может быть использован для заполнения данными любого предварительно выделенного (preallocated) массива. Это даже включает массивы, созданные с помощью модуля array или библиотек типа numpy. В отличие от обычного метода read(), метод readinto() заполняет содержание текущего буфера вместо\n",
    "выделения и возвращения новых объектов. Так что вы можете использовать его,\n",
    "чтобы избежать излишних выделений памяти. Например, если вы читаете бинарный файл, состоящий из записей одинакового размера, то можете написать такую программу:"
   ]
  },
  {
   "cell_type": "code",
   "execution_count": null,
   "metadata": {},
   "outputs": [],
   "source": [
    "record_size = 32\n",
    "\n",
    "buf = bytearray(record_size)\n",
    "with open('somefile', 'rb') as f:\n",
    "    while True:\n",
    "        n = f.readinto(buf)\n",
    "        if n < record_size:\n",
    "            break\n",
    "            \n",
    "        #Используем содержимое буфера\n",
    "        "
   ]
  },
  {
   "cell_type": "markdown",
   "metadata": {},
   "source": [
    "Еще одна интересная возможность – функция memoryview(), которая позволяет\n",
    "делать срезы zero-copy1\n",
    " существующего буфера и даже менять его содержимое.\n",
    "Например:"
   ]
  },
  {
   "cell_type": "markdown",
   "metadata": {},
   "source": [
    "https://ru.wikipedia.org/wiki/Zero-copy"
   ]
  },
  {
   "cell_type": "code",
   "execution_count": 17,
   "metadata": {},
   "outputs": [
    {
     "data": {
      "text/plain": [
       "bytearray(b'Hello Word')"
      ]
     },
     "execution_count": 17,
     "metadata": {},
     "output_type": "execute_result"
    }
   ],
   "source": [
    "buf"
   ]
  },
  {
   "cell_type": "code",
   "execution_count": 18,
   "metadata": {},
   "outputs": [],
   "source": [
    "m1 = memoryview(buf)"
   ]
  },
  {
   "cell_type": "code",
   "execution_count": 19,
   "metadata": {},
   "outputs": [
    {
     "data": {
      "text/plain": [
       "<memory at 0x03DBE5E0>"
      ]
     },
     "execution_count": 19,
     "metadata": {},
     "output_type": "execute_result"
    }
   ],
   "source": [
    "m2 = m1[-5:]\n",
    "m2"
   ]
  },
  {
   "cell_type": "code",
   "execution_count": 23,
   "metadata": {},
   "outputs": [
    {
     "data": {
      "text/plain": [
       "bytearray(b'HelloWORLD')"
      ]
     },
     "execution_count": 23,
     "metadata": {},
     "output_type": "execute_result"
    }
   ],
   "source": [
    "m2[:] = b'WORLD'\n",
    "buf"
   ]
  },
  {
   "cell_type": "markdown",
   "metadata": {},
   "source": [
    "При использовании метода f.readinto() нужно соблюдать осторожность: вы\n",
    "должны всегда проверять его код возврата, который является количеством фактически прочтенных байтов.\n",
    "Если число байтов меньше размера предоставленного буфера, это может указывать на повреждение данных (например, если вы ожидали, что будет прочитано\n",
    "точное количество байтов).\n",
    "\n",
    "И последнее: посмотрите на другие функции типа «into» в различных библиотечных модулях (например, recv_into(), pack_into() и т. д.). \n",
    "\n",
    "Многие другие компоненты Python имеют поддержку прямого ввода-вывода и доступа к данным, которая\n",
    "может быть использована для заполнения или изменения содержания массивов и буферов.\n",
    "\n",
    "Далее будет приведен значительно более продвинутый пример интерпретации бинарных структур и использования представлений памяти (memoryviews)"
   ]
  },
  {
   "cell_type": "markdown",
   "metadata": {},
   "source": [
    "https://stackoverflow.com/questions/15962119/using-bytearray-with-socket-recv-into"
   ]
  },
  {
   "cell_type": "markdown",
   "metadata": {},
   "source": [
    "#  Отображаемые в память бинарные файлы"
   ]
  },
  {
   "cell_type": "markdown",
   "metadata": {},
   "source": [
    "https://ru.wikipedia.org/wiki/%D0%9E%D1%82%D0%BE%D0%B1%D1%80%D0%B0%D0%B6%D0%B5%D0%BD%D0%B8%D0%B5_%D1%84%D0%B0%D0%B9%D0%BB%D0%B0_%D0%B2_%D0%BF%D0%B0%D0%BC%D1%8F%D1%82%D1%8C"
   ]
  },
  {
   "cell_type": "markdown",
   "metadata": {},
   "source": [
    "Вы хотите отобразить в  память бинарный файл в  форме изменяемого массива\n",
    "байтов – вероятно, для произвольного доступа к его содержимому или изменений\n",
    "прямо на месте."
   ]
  },
  {
   "cell_type": "markdown",
   "metadata": {},
   "source": [
    "Используйте модуль mmap для отображения файлов в память. Вот полезная функция, с помощью которой можно открыть файл и отобразить его в память переносимым способом:"
   ]
  },
  {
   "cell_type": "code",
   "execution_count": 2,
   "metadata": {},
   "outputs": [],
   "source": [
    "import os\n",
    "import mmap"
   ]
  },
  {
   "cell_type": "code",
   "execution_count": 6,
   "metadata": {},
   "outputs": [],
   "source": [
    "def memory_map(filename, access=mmap.ACCESS_WRITE):\n",
    "    size = os.path.getsize(filename)\n",
    "    fd = os.open(filename, os.O_RDWR)\n",
    "    return mmap.mmap(fd, size, access=access)"
   ]
  },
  {
   "cell_type": "markdown",
   "metadata": {},
   "source": [
    "Чтобы использовать эту функцию, вам нужен уже созданный и наполненный\n",
    "данными файл. Вот пример того, как вы можете сначала создать файл и увеличить\n",
    "его до нужного размера:"
   ]
  },
  {
   "cell_type": "markdown",
   "metadata": {},
   "source": [
    "https://www.tutorialspoint.com/python/os_open.htm"
   ]
  },
  {
   "cell_type": "code",
   "execution_count": 7,
   "metadata": {},
   "outputs": [],
   "source": [
    "size = 1000000\n",
    "with open('data', 'wb') as f:\n",
    "    f.seek(size-1)\n",
    "    f.write(b'x00')"
   ]
  },
  {
   "cell_type": "markdown",
   "metadata": {},
   "source": [
    "А вот пример отображения содержимого в память с помощью функции memory_\n",
    "map():"
   ]
  },
  {
   "cell_type": "code",
   "execution_count": 8,
   "metadata": {},
   "outputs": [
    {
     "data": {
      "text/plain": [
       "1000002"
      ]
     },
     "execution_count": 8,
     "metadata": {},
     "output_type": "execute_result"
    }
   ],
   "source": [
    "m = memory_map('data')\n",
    "len(m)"
   ]
  },
  {
   "cell_type": "code",
   "execution_count": 9,
   "metadata": {},
   "outputs": [
    {
     "data": {
      "text/plain": [
       "b'\\x00\\x00\\x00\\x00\\x00\\x00\\x00\\x00\\x00\\x00'"
      ]
     },
     "execution_count": 9,
     "metadata": {},
     "output_type": "execute_result"
    }
   ],
   "source": [
    "m[0:10]"
   ]
  },
  {
   "cell_type": "code",
   "execution_count": 10,
   "metadata": {},
   "outputs": [
    {
     "data": {
      "text/plain": [
       "0"
      ]
     },
     "execution_count": 10,
     "metadata": {},
     "output_type": "execute_result"
    }
   ],
   "source": [
    "m[0]"
   ]
  },
  {
   "cell_type": "code",
   "execution_count": 12,
   "metadata": {},
   "outputs": [],
   "source": [
    "# Переприсваивание среза\n",
    "m[0:11] = b'Hello World'"
   ]
  },
  {
   "cell_type": "code",
   "execution_count": 13,
   "metadata": {},
   "outputs": [],
   "source": [
    "m.close()"
   ]
  },
  {
   "cell_type": "code",
   "execution_count": 14,
   "metadata": {},
   "outputs": [
    {
     "name": "stdout",
     "output_type": "stream",
     "text": [
      "b'Hello World'\n"
     ]
    }
   ],
   "source": [
    "# Проверка того, что изменения были сделаны\n",
    "with open('data', 'rb') as f:\n",
    "    print(f.read(11))"
   ]
  },
  {
   "cell_type": "markdown",
   "metadata": {},
   "source": [
    "Объект mmap, возвращаемый функцией mmap(), может быть также использован в качестве менеджера контекста. В этом случае отображенный файл закрывается автоматически. Например:"
   ]
  },
  {
   "cell_type": "code",
   "execution_count": 15,
   "metadata": {},
   "outputs": [
    {
     "name": "stdout",
     "output_type": "stream",
     "text": [
      "1000002\n",
      "b'Hello Worl'\n"
     ]
    }
   ],
   "source": [
    "with memory_map('data') as m:\n",
    "    print(len(m))\n",
    "    print(m[0:10])"
   ]
  },
  {
   "cell_type": "code",
   "execution_count": 16,
   "metadata": {},
   "outputs": [
    {
     "data": {
      "text/plain": [
       "<function mmap.close>"
      ]
     },
     "execution_count": 16,
     "metadata": {},
     "output_type": "execute_result"
    }
   ],
   "source": [
    "m.close"
   ]
  },
  {
   "cell_type": "markdown",
   "metadata": {},
   "source": [
    "По умолчанию показанная функция memory_map() открывает файл и на чтение,\n",
    "и на запись. Любые изменения данных копируются в исходный файл. Если требуется организовать доступ только для чтения, предоставьте mmap.ACCESS_READ\n",
    "в качестве аргумента access. Например:\n"
   ]
  },
  {
   "cell_type": "code",
   "execution_count": null,
   "metadata": {},
   "outputs": [],
   "source": [
    "#filename это 'data'\n",
    "m = memory_map(filename, mmap.ACCESS_READ)"
   ]
  },
  {
   "cell_type": "markdown",
   "metadata": {},
   "source": [
    "Если вы намерены локально изменять данные, но не хотите, чтобы изменения\n",
    "записывались в исходный файл, используйте mmap.ACCESS_COPY:"
   ]
  },
  {
   "cell_type": "code",
   "execution_count": null,
   "metadata": {},
   "outputs": [],
   "source": [
    "m = memory_map(filename, mmap.ACCESS_COPY)"
   ]
  },
  {
   "cell_type": "markdown",
   "metadata": {},
   "source": [
    "Использование mmap для отображения файлов в память может стать элегантным\n",
    "и эффективным решением для произвольного доступа к содержимому файла. Например, вместо открытия файла и выполнения различных комбинаций вызовов\n",
    "seek(), read() и write() вы просто отображаете файл и получаете доступ к любым\n",
    "данным через операции извлечения срезов.\n",
    "Обычно память, выделяемая mmap(), выглядит как объект bytearray. Однако вы\n",
    "можете интерпретировать данные по-разному, используя функцию memoryview.\n",
    "Например:"
   ]
  },
  {
   "cell_type": "code",
   "execution_count": 18,
   "metadata": {},
   "outputs": [],
   "source": [
    "m = memory_map('data')"
   ]
  },
  {
   "cell_type": "code",
   "execution_count": null,
   "metadata": {},
   "outputs": [],
   "source": [
    "# Представление памяти беззнаковых целых чисел\n",
    "v = memoryview(m).cast('I')\n",
    "v[0] = 7\n",
    "m[0:4]"
   ]
  },
  {
   "cell_type": "code",
   "execution_count": null,
   "metadata": {},
   "outputs": [],
   "source": [
    "m[0:4] = b'\\x07\\x01\\x00\\x00'\n",
    "v[0]\n",
    "#263"
   ]
  },
  {
   "cell_type": "markdown",
   "metadata": {},
   "source": [
    "Стоит отметить, что отображение файла в память не вызывает чтения файла\n",
    "в память целиком. Он не копируется в некий буфер памяти или массив. Вместо\n",
    "этого операционная система выделяет участок виртуальной памяти под содержимое файла. По мере того как вы обращаетесь к различным участкам, эти куски\n",
    "файла будут читаться и отображаться в участок памяти по мере необходимости.\n",
    "Однако части файла, к  которым никогда не производился доступ, останутся на\n",
    "диске.\n",
    "Если не единственный интерпретатор Python отображает в память один и тот\n",
    "же файл, получившийся объект mmap может быть использован для обмена данными между интерпретаторами. Интерпретаторы могут читать и  записывать\n",
    "данные одновременно, и изменения, которые были сделаны в одном интерпретаторе, автоматически будут доступны в других. Очевидно, что синхронизация требует дополнительного внимания, но этот подход иногда используется в качестве\n",
    "альтернативы передаче данных через каналы или сокеты."
   ]
  },
  {
   "cell_type": "markdown",
   "metadata": {},
   "source": [
    "Показанный выше рецепт написан максимально обобщенно, он работает\n",
    "и в Windows, и в Unix. Однако стоит отметить, что есть специфические для каждой\n",
    "платформы отличия в том, как «под капотом» работает mmap(). Также есть возможности по созданию анонимно отображенных участков памяти. Если вас это\n",
    "интересует, прочтите соответствующий раздел документации Python1\n",
    "."
   ]
  },
  {
   "cell_type": "markdown",
   "metadata": {},
   "source": [
    "https://docs.python.org/3/library/mmap.html"
   ]
  },
  {
   "cell_type": "markdown",
   "metadata": {},
   "source": [
    "# Манипулирование путями к файлам"
   ]
  },
  {
   "cell_type": "markdown",
   "metadata": {},
   "source": [
    "Вам нужно манипулировать путями к файлам, чтобы найти имя файла, название\n",
    "каталога, абсолютный путь и т. д."
   ]
  },
  {
   "cell_type": "markdown",
   "metadata": {},
   "source": [
    "Для работы с  файловыми путями используйте функции из модуля os.path. Вот\n",
    "пример, который иллюстрирует несколько ключевых возможностей:"
   ]
  },
  {
   "cell_type": "code",
   "execution_count": 1,
   "metadata": {},
   "outputs": [],
   "source": [
    "import os"
   ]
  },
  {
   "cell_type": "code",
   "execution_count": 3,
   "metadata": {},
   "outputs": [],
   "source": [
    "path = r'C:\\Users\\user\\data'"
   ]
  },
  {
   "cell_type": "code",
   "execution_count": 4,
   "metadata": {},
   "outputs": [
    {
     "data": {
      "text/plain": [
       "'data'"
      ]
     },
     "execution_count": 4,
     "metadata": {},
     "output_type": "execute_result"
    }
   ],
   "source": [
    "# Получение последнего компонента пути\n",
    "os.path.basename(path)\n",
    "    "
   ]
  },
  {
   "cell_type": "code",
   "execution_count": 5,
   "metadata": {},
   "outputs": [
    {
     "data": {
      "text/plain": [
       "'C:\\\\Users\\\\user'"
      ]
     },
     "execution_count": 5,
     "metadata": {},
     "output_type": "execute_result"
    }
   ],
   "source": [
    "# Получение имени каталога\n",
    "os.path.dirname(path)"
   ]
  },
  {
   "cell_type": "code",
   "execution_count": 6,
   "metadata": {},
   "outputs": [
    {
     "data": {
      "text/plain": [
       "'tmp\\\\data\\\\data'"
      ]
     },
     "execution_count": 6,
     "metadata": {},
     "output_type": "execute_result"
    }
   ],
   "source": [
    "# Соединение компонентов пути\n",
    "os.path.join('tmp', 'data', os.path.basename(path))"
   ]
  },
  {
   "cell_type": "code",
   "execution_count": null,
   "metadata": {},
   "outputs": [],
   "source": [
    "# Раскрытие домашнего каталога пользователя\n",
    "path = '~/user/data'"
   ]
  },
  {
   "cell_type": "code",
   "execution_count": 7,
   "metadata": {},
   "outputs": [
    {
     "data": {
      "text/plain": [
       "'C:\\\\Users\\\\user\\\\data'"
      ]
     },
     "execution_count": 7,
     "metadata": {},
     "output_type": "execute_result"
    }
   ],
   "source": [
    "os.path.expanduser(path)"
   ]
  },
  {
   "cell_type": "code",
   "execution_count": 9,
   "metadata": {},
   "outputs": [
    {
     "data": {
      "text/plain": [
       "('C:\\\\Users\\\\user\\\\data', '')"
      ]
     },
     "execution_count": 9,
     "metadata": {},
     "output_type": "execute_result"
    }
   ],
   "source": [
    "# Отделение расширения файла\n",
    "os.path.splitext(path)"
   ]
  },
  {
   "cell_type": "markdown",
   "metadata": {},
   "source": [
    "Для любых манипуляций с  именами файлов вы должны использовать модуль\n",
    "os.path, а  не изобретать собственный код из стандартных строковых операций.\n",
    "Во-первых, это важно для переносимости. Модуль os.path понимает различия\n",
    "между Unix и Windows и  может надежно работать с  именами типа Data/data.csv\n",
    "и Data\\data.csv. Во-вторых, вы не должны тратить время на изобретение колеса.\n",
    "Обычно лучше использовать готовые решения."
   ]
  },
  {
   "cell_type": "markdown",
   "metadata": {},
   "source": [
    "Стоит отметить, что в модуле os.path намного больше возможностей, чем показано в этом рецепте. Обратитесь к документации, чтобы узнать о функциях для\n",
    "тестирования файлов, работы с символическими ссылками и тд"
   ]
  },
  {
   "cell_type": "markdown",
   "metadata": {},
   "source": [
    "# Проверка существования файла\n"
   ]
  },
  {
   "cell_type": "markdown",
   "metadata": {},
   "source": [
    "Вам нужно выяснить, существует ли файл или каталог"
   ]
  },
  {
   "cell_type": "markdown",
   "metadata": {},
   "source": [
    "Используйте os.path, чтобы проверить, существует ли файл или каталог. Например:"
   ]
  },
  {
   "cell_type": "code",
   "execution_count": 10,
   "metadata": {},
   "outputs": [
    {
     "data": {
      "text/plain": [
       "False"
      ]
     },
     "execution_count": 10,
     "metadata": {},
     "output_type": "execute_result"
    }
   ],
   "source": [
    "import os\n",
    "os.path.exists('/etc/passwd')"
   ]
  },
  {
   "cell_type": "code",
   "execution_count": 12,
   "metadata": {},
   "outputs": [
    {
     "data": {
      "text/plain": [
       "True"
      ]
     },
     "execution_count": 12,
     "metadata": {},
     "output_type": "execute_result"
    }
   ],
   "source": [
    "os.path.exists(r'C:\\Users\\user\\data')"
   ]
  },
  {
   "cell_type": "markdown",
   "metadata": {},
   "source": [
    "Вы можете выполнить дополнительные тесты, чтобы проверить тип файла. Эти\n",
    "проверки возвращают False, если файл не существует:"
   ]
  },
  {
   "cell_type": "code",
   "execution_count": 13,
   "metadata": {},
   "outputs": [
    {
     "data": {
      "text/plain": [
       "True"
      ]
     },
     "execution_count": 13,
     "metadata": {},
     "output_type": "execute_result"
    }
   ],
   "source": [
    "# Это обычный файл?\n",
    "os.path.isfile(r'C:\\Users\\user\\data')"
   ]
  },
  {
   "cell_type": "code",
   "execution_count": 14,
   "metadata": {},
   "outputs": [
    {
     "data": {
      "text/plain": [
       "False"
      ]
     },
     "execution_count": 14,
     "metadata": {},
     "output_type": "execute_result"
    }
   ],
   "source": [
    "# Это каталог?\n",
    "os.path.isdir(r'C:\\Users\\user\\data')"
   ]
  },
  {
   "cell_type": "code",
   "execution_count": 15,
   "metadata": {},
   "outputs": [
    {
     "data": {
      "text/plain": [
       "False"
      ]
     },
     "execution_count": 15,
     "metadata": {},
     "output_type": "execute_result"
    }
   ],
   "source": [
    "# Это символическая ссылка?\n",
    "os.path.islink(r'C:\\Users\\user\\data')"
   ]
  },
  {
   "cell_type": "code",
   "execution_count": 16,
   "metadata": {},
   "outputs": [
    {
     "data": {
      "text/plain": [
       "'C:\\\\Users\\\\user\\\\data'"
      ]
     },
     "execution_count": 16,
     "metadata": {},
     "output_type": "execute_result"
    }
   ],
   "source": [
    "# Получить прилинкованный файл\n",
    "os.path.realpath(r'C:\\Users\\user\\data')"
   ]
  },
  {
   "cell_type": "markdown",
   "metadata": {},
   "source": [
    "Если вам нужно получить метаданные (например, размер или дату изменения\n",
    "файла), это тоже можно сделать с помощью модуля os.path:"
   ]
  },
  {
   "cell_type": "code",
   "execution_count": 17,
   "metadata": {},
   "outputs": [
    {
     "data": {
      "text/plain": [
       "1000002"
      ]
     },
     "execution_count": 17,
     "metadata": {},
     "output_type": "execute_result"
    }
   ],
   "source": [
    "os.path.getsize(r'C:\\Users\\user\\data')"
   ]
  },
  {
   "cell_type": "code",
   "execution_count": 18,
   "metadata": {},
   "outputs": [
    {
     "data": {
      "text/plain": [
       "1576584624.7296865"
      ]
     },
     "execution_count": 18,
     "metadata": {},
     "output_type": "execute_result"
    }
   ],
   "source": [
    "os.path.getmtime(r'C:\\Users\\user\\data')"
   ]
  },
  {
   "cell_type": "code",
   "execution_count": 21,
   "metadata": {},
   "outputs": [
    {
     "data": {
      "text/plain": [
       "'Tue Dec 17 12:10:24 2019'"
      ]
     },
     "execution_count": 21,
     "metadata": {},
     "output_type": "execute_result"
    }
   ],
   "source": [
    "import time\n",
    "time.ctime(os.path.getmtime(r'C:\\Users\\user\\data'))"
   ]
  },
  {
   "cell_type": "markdown",
   "metadata": {},
   "source": [
    "Проверка файлов с помощью os.path становится очень простой операцией. Единственное, о чем стоит помнить, – так это о разрешениях, особенно при операциях\n",
    "получения метаданных. Например:\n"
   ]
  },
  {
   "cell_type": "code",
   "execution_count": null,
   "metadata": {},
   "outputs": [],
   "source": [
    "#os.path.getsize('/Users/guido/Desktop/foo.txt')"
   ]
  },
  {
   "cell_type": "markdown",
   "metadata": {},
   "source": [
    "# Получение содержимого каталога"
   ]
  },
  {
   "cell_type": "markdown",
   "metadata": {},
   "source": [
    "Вы хотите получить список файлов, содержащихся в каталоге файловой системы."
   ]
  },
  {
   "cell_type": "markdown",
   "metadata": {},
   "source": [
    "Используйте функцию os.listdir() для получения списка файлов в каталоге:"
   ]
  },
  {
   "cell_type": "code",
   "execution_count": 1,
   "metadata": {},
   "outputs": [],
   "source": [
    "import os\n",
    "names = os.listdir(r'C:\\Users\\user\\Desktop\\tocit')"
   ]
  },
  {
   "cell_type": "markdown",
   "metadata": {},
   "source": [
    "Вы получите «сырой» список содержимого каталога, включающий все файлы,\n",
    "подкаталоги, символические ссылки и т. п. Если вам нужно как-то отфильтровать\n",
    "эти данные, используйте генератор списков вместе с  различными функциями\n",
    "библиотеки os.path(). Например:"
   ]
  },
  {
   "cell_type": "code",
   "execution_count": 2,
   "metadata": {},
   "outputs": [],
   "source": [
    "import os.path\n",
    "tocit = r'C:\\Users\\user\\Desktop\\tocit'\n",
    "#Получить все обычные файлы\n",
    "names = [name for name in os.listdir(tocit)\n",
    "        if os.path.isfile(os.path.join(tocit, name))]"
   ]
  },
  {
   "cell_type": "code",
   "execution_count": 4,
   "metadata": {},
   "outputs": [
    {
     "data": {
      "text/plain": [
       "['.DS_Store',\n",
       " '.gitignore',\n",
       " 'about.txt',\n",
       " 'admin.py',\n",
       " 'api.py',\n",
       " 'index.py',\n",
       " 'init-db',\n",
       " 'models.py',\n",
       " 'run.py',\n",
       " 'settings.py',\n",
       " 'test.py']"
      ]
     },
     "execution_count": 4,
     "metadata": {},
     "output_type": "execute_result"
    }
   ],
   "source": [
    "names"
   ]
  },
  {
   "cell_type": "code",
   "execution_count": 3,
   "metadata": {},
   "outputs": [],
   "source": [
    "# Получить все каталоги\n",
    "dirnames = [name for name in os.listdir(tocit)\n",
    "           if os.path.isdir(os.path.join(tocit, name))]"
   ]
  },
  {
   "cell_type": "code",
   "execution_count": 5,
   "metadata": {},
   "outputs": [
    {
     "data": {
      "text/plain": [
       "['.git', 'static', 'templates', 'utils', '__pycache__']"
      ]
     },
     "execution_count": 5,
     "metadata": {},
     "output_type": "execute_result"
    }
   ],
   "source": [
    "dirnames"
   ]
  },
  {
   "cell_type": "markdown",
   "metadata": {},
   "source": [
    "Строковые методы startswith() и endswith() также могут быть полезны для фильтрации содержимого каталога. Например:"
   ]
  },
  {
   "cell_type": "code",
   "execution_count": 6,
   "metadata": {},
   "outputs": [
    {
     "data": {
      "text/plain": [
       "['admin.py',\n",
       " 'api.py',\n",
       " 'index.py',\n",
       " 'models.py',\n",
       " 'run.py',\n",
       " 'settings.py',\n",
       " 'test.py']"
      ]
     },
     "execution_count": 6,
     "metadata": {},
     "output_type": "execute_result"
    }
   ],
   "source": [
    "pyfiles = [name for name in os.listdir(tocit)\n",
    "          if name.endswith('.py')]\n",
    "pyfiles"
   ]
  },
  {
   "cell_type": "markdown",
   "metadata": {},
   "source": [
    "Для поиска совпадений по имени файла вы можете использовать модули glob\n",
    "или fnmatch. Например:"
   ]
  },
  {
   "cell_type": "code",
   "execution_count": 11,
   "metadata": {},
   "outputs": [
    {
     "data": {
      "text/plain": [
       "['C:\\\\Users\\\\user\\\\Desktop\\\\tocit\\\\admin.py',\n",
       " 'C:\\\\Users\\\\user\\\\Desktop\\\\tocit\\\\api.py',\n",
       " 'C:\\\\Users\\\\user\\\\Desktop\\\\tocit\\\\index.py',\n",
       " 'C:\\\\Users\\\\user\\\\Desktop\\\\tocit\\\\models.py',\n",
       " 'C:\\\\Users\\\\user\\\\Desktop\\\\tocit\\\\run.py',\n",
       " 'C:\\\\Users\\\\user\\\\Desktop\\\\tocit\\\\settings.py',\n",
       " 'C:\\\\Users\\\\user\\\\Desktop\\\\tocit\\\\test.py']"
      ]
     },
     "execution_count": 11,
     "metadata": {},
     "output_type": "execute_result"
    }
   ],
   "source": [
    "import glob\n",
    "pyfiles = glob.glob(os.path.join(tocit, '*.py'))\n",
    "pyfiles"
   ]
  },
  {
   "cell_type": "code",
   "execution_count": 12,
   "metadata": {},
   "outputs": [
    {
     "data": {
      "text/plain": [
       "['admin.py',\n",
       " 'api.py',\n",
       " 'index.py',\n",
       " 'models.py',\n",
       " 'run.py',\n",
       " 'settings.py',\n",
       " 'test.py']"
      ]
     },
     "execution_count": 12,
     "metadata": {},
     "output_type": "execute_result"
    }
   ],
   "source": [
    "from fnmatch import fnmatch\n",
    "pyfile = [name for name in os.listdir(tocit)\n",
    "         if fnmatch(name, '*.py')]\n",
    "pyfile"
   ]
  },
  {
   "cell_type": "code",
   "execution_count": 14,
   "metadata": {},
   "outputs": [
    {
     "data": {
      "text/plain": [
       "['settings.py']"
      ]
     },
     "execution_count": 14,
     "metadata": {},
     "output_type": "execute_result"
    }
   ],
   "source": [
    "from fnmatch import fnmatch\n",
    "pyfile = [name for name in os.listdir(tocit)\n",
    "         if fnmatch(name, 'set*')]\n",
    "pyfile"
   ]
  },
  {
   "cell_type": "code",
   "execution_count": 16,
   "metadata": {},
   "outputs": [
    {
     "data": {
      "text/plain": [
       "['test.py']"
      ]
     },
     "execution_count": 16,
     "metadata": {},
     "output_type": "execute_result"
    }
   ],
   "source": [
    "from fnmatch import fnmatch\n",
    "pyfile = [name for name in os.listdir(tocit)\n",
    "         if fnmatch(name, 'test*')]\n",
    "pyfile"
   ]
  },
  {
   "cell_type": "markdown",
   "metadata": {},
   "source": [
    "Получить содержимое каталога просто, но эта операция дает вам просто имена\n",
    "элементов в каталоге. Если вы хотите получить дополнительные метаданные, такие как размеры файлов, даты изменений и т. д., вам нужны либо дополнительные функции модуля os.path, либо функция os.stat(). Например:\n"
   ]
  },
  {
   "cell_type": "code",
   "execution_count": 22,
   "metadata": {},
   "outputs": [],
   "source": [
    "# Пример получения содержимого каталога\n",
    "import os\n",
    "import os.path\n",
    "import glob\n",
    "\n",
    "\n",
    "pyfiles = glob.glob(os.path.join(tocit, '*.py'))"
   ]
  },
  {
   "cell_type": "markdown",
   "metadata": {},
   "source": [
    "Получение размеров файлов и дат модификации"
   ]
  },
  {
   "cell_type": "code",
   "execution_count": 24,
   "metadata": {},
   "outputs": [
    {
     "name": "stdout",
     "output_type": "stream",
     "text": [
      "C:\\Users\\user\\Desktop\\tocit\\admin.py 4933 1575554599.9916384\n",
      "C:\\Users\\user\\Desktop\\tocit\\api.py 19560 1575554599.9926395\n",
      "C:\\Users\\user\\Desktop\\tocit\\index.py 4811 1575554599.9926395\n",
      "C:\\Users\\user\\Desktop\\tocit\\models.py 7830 1575554599.9936404\n",
      "C:\\Users\\user\\Desktop\\tocit\\run.py 3350 1575554599.9946408\n",
      "C:\\Users\\user\\Desktop\\tocit\\settings.py 257 1575554599.9946408\n",
      "C:\\Users\\user\\Desktop\\tocit\\test.py 421 1575554600.0366712\n"
     ]
    }
   ],
   "source": [
    "name_sz_date = [(name, os.path.getsize(name), os.path.getmtime(name))\n",
    "    for name in pyfiles]\n",
    "\n",
    "for name, size, mtime in name_sz_date:\n",
    "    print(name, size, mtime)\n",
    "    \n",
    "#print(pyfiles)"
   ]
  },
  {
   "cell_type": "code",
   "execution_count": 25,
   "metadata": {},
   "outputs": [
    {
     "name": "stdout",
     "output_type": "stream",
     "text": [
      "C:\\Users\\user\\Desktop\\tocit\\admin.py 4933 1575554599.9916384\n",
      "C:\\Users\\user\\Desktop\\tocit\\api.py 19560 1575554599.9926395\n",
      "C:\\Users\\user\\Desktop\\tocit\\index.py 4811 1575554599.9926395\n",
      "C:\\Users\\user\\Desktop\\tocit\\models.py 7830 1575554599.9936404\n",
      "C:\\Users\\user\\Desktop\\tocit\\run.py 3350 1575554599.9946408\n",
      "C:\\Users\\user\\Desktop\\tocit\\settings.py 257 1575554599.9946408\n",
      "C:\\Users\\user\\Desktop\\tocit\\test.py 421 1575554600.0366712\n"
     ]
    }
   ],
   "source": [
    "# Альтернатива: получение метаданных\n",
    "file_metadata = [(name, os.stat(name)) for name in pyfiles]\n",
    "for name, meta in file_metadata:\n",
    "    print(name, meta.st_size, meta.st_mtime)"
   ]
  },
  {
   "cell_type": "markdown",
   "metadata": {},
   "source": [
    "И последнее: в работе с именами файлов есть тонкие моменты, связанные с кодировками. Обычно записи, возвращаемые функциями типа os.listdir(), декодируются согласно установленной по умолчанию в системе кодировке имен файлов.\n",
    "Однако возможно, что при некоторых обстоятельствах вам придется столкнуться\n",
    "с недекодируемыми именами файлов. "
   ]
  },
  {
   "cell_type": "markdown",
   "metadata": {},
   "source": [
    "https://www.tutorialspoint.com/python/os_stat.htm"
   ]
  },
  {
   "cell_type": "markdown",
   "metadata": {},
   "source": [
    "#  Обход кодировки имен файлов"
   ]
  },
  {
   "cell_type": "markdown",
   "metadata": {},
   "source": [
    "Вы хотите выполнить операции ввода-вывода, используя «сырые» имена файлов, которые не декодируются и не кодируются с помощью системной кодировки\n",
    "имен файлов по умолчанию."
   ]
  },
  {
   "cell_type": "markdown",
   "metadata": {},
   "source": [
    "По умолчанию все имена файлов кодируются и декодируются согласно кодировке,\n",
    "возвращаемой sys.getfilesystemencoding(). Например:"
   ]
  },
  {
   "cell_type": "code",
   "execution_count": 15,
   "metadata": {},
   "outputs": [
    {
     "data": {
      "text/plain": [
       "'utf-8'"
      ]
     },
     "execution_count": 15,
     "metadata": {},
     "output_type": "execute_result"
    }
   ],
   "source": [
    "import sys\n",
    "sys.getfilesystemencoding()"
   ]
  },
  {
   "cell_type": "markdown",
   "metadata": {},
   "source": [
    "Если вы по какой-то причине хотите обойти эту кодировку, определите имя\n",
    "файла, используя «сырую» строку байтов. Например:"
   ]
  },
  {
   "cell_type": "code",
   "execution_count": 16,
   "metadata": {},
   "outputs": [],
   "source": [
    "# Запись файла с использованием имени в Unicode\n",
    "with open('jalape\\xf1o.txt', 'w') as f:\n",
    "    f.write('Spicy')"
   ]
  },
  {
   "cell_type": "code",
   "execution_count": 17,
   "metadata": {},
   "outputs": [
    {
     "data": {
      "text/plain": [
       "['.anaconda',\n",
       " '.atom',\n",
       " '.conda',\n",
       " '.condarc',\n",
       " '.gitconfig',\n",
       " '.idlerc',\n",
       " '.ipynb_checkpoints',\n",
       " '.ipython',\n",
       " '.jupyter',\n",
       " '.pgAdmin4.1057243102.addr',\n",
       " '.pgAdmin4.1057243102.log',\n",
       " '.pgAdmin4.startup.log',\n",
       " 'AppData',\n",
       " 'Application Data',\n",
       " 'Contacts',\n",
       " 'Cookies',\n",
       " 'data',\n",
       " 'Desktop',\n",
       " 'Documents',\n",
       " 'Downloads',\n",
       " 'Favorites',\n",
       " 'GCSE_Computer_Science_10_The_internet.ipynb',\n",
       " 'GCSE_Computer_Science_11_Software.ipynb',\n",
       " 'GCSE_Computer_Science_12_Systems_software.ipynb',\n",
       " 'GCSE_Computer_Science_13_Computational_thinking_and_algorithms.ipynb',\n",
       " 'GCSE_Computer_Science_14_Programming_techniques.ipynb',\n",
       " 'GCSE_Computer_Science_15_Writing_reliable_programs.ipynb',\n",
       " 'GCSE_Computer_Science_16_Data_representation_conversion_and_arithmetic.ipynb',\n",
       " 'GCSE_Computer_Science_17_Logic.ipynb',\n",
       " 'GCSE_Computer_Science_18_Translators_and_proogramming_tools.ipynb',\n",
       " 'GCSE_Computer_Science_19_Legal_ethical_cultural_and_environmental_issues.ipynb',\n",
       " 'GCSE_Computer_Science_1_The importance_of_computational_thinking.ipynb',\n",
       " 'GCSE_Computer_Science_2_Systems_architecture.ipynb',\n",
       " 'GCSE_Computer_Science_3_Primary_storage.ipynb',\n",
       " 'GCSE_Computer_Science_4_Secondary_storage.ipynb',\n",
       " 'GCSE_Computer_Science_5_Networks_introductions.ipynb',\n",
       " 'GCSE_Computer_Science_6_Networks_topologies_and_protocols.ipynb',\n",
       " 'GCSE_Computer_Science_7_Networks_layering.ipynb',\n",
       " 'GCSE_Computer_Science_8_Connections.ipynb',\n",
       " 'GCSE_Computer_Science_9_security.ipynb',\n",
       " 'jalapeño.txt',\n",
       " 'Learning_to_Program_in_Python10_Databases_and_SQL.ipynb',\n",
       " \"Learning_to_Program_in_Python11_Python's_SQLite_module.ipynb\",\n",
       " 'Learning_to_Program_in_Python12_Introduction_to_Tkinter.ipynb',\n",
       " 'Learning_to_Program_in_Python13_Developing_an_application_using_Tkinter.ipynb',\n",
       " 'Learning_to_Program_in_Python14_Program_design.ipynb',\n",
       " 'Learning_to_Program_in_Python15_Testing_and_debugging.ipynb',\n",
       " 'Learning_to_Program_in_Python1_Data_types_operators_I-O.ipynb',\n",
       " 'Learning_to_Program_in_Python2_String_and_numbers.ipynb',\n",
       " 'Learning_to_Program_in_Python3_Selection.ipynb',\n",
       " 'Learning_to_Program_in_Python3_Selection_withAns.ipynb',\n",
       " 'Learning_to_Program_in_Python4_Iteration.ipynb',\n",
       " 'Learning_to_Program_in_Python5_Lists_and_tuples.ipynb',\n",
       " 'Learning_to_Program_in_Python6_Validating_user_input.ipynb',\n",
       " 'Learning_to_Program_in_Python7_Searching_and_sorting.ipynb',\n",
       " 'Learning_to_Program_in_Python8_Functions.ipynb',\n",
       " 'Learning_to_Program_in_Python9_Reading_and_writing_files.ipynb',\n",
       " 'Links',\n",
       " 'Local Settings',\n",
       " 'Music',\n",
       " 'mydata.csv',\n",
       " 'NetHood',\n",
       " 'newfile.csv',\n",
       " 'newsomefile555.txt',\n",
       " 'NTUSER.DAT',\n",
       " 'ntuser.dat.LOG1',\n",
       " 'ntuser.dat.LOG2',\n",
       " 'NTUSER.DAT{bbed3e3b-0b41-11e3-8249-d6927d06400b}.TM.blf',\n",
       " 'NTUSER.DAT{bbed3e3b-0b41-11e3-8249-d6927d06400b}.TMContainer00000000000000000001.regtrans-ms',\n",
       " 'NTUSER.DAT{bbed3e3b-0b41-11e3-8249-d6927d06400b}.TMContainer00000000000000000002.regtrans-ms',\n",
       " 'ntuser.ini',\n",
       " 'OneDrive',\n",
       " 'Pictures',\n",
       " 'PrintHood',\n",
       " 'Python_11.ipynb',\n",
       " 'Python_13.ipynb',\n",
       " 'Question.ipynb',\n",
       " 'Recent',\n",
       " 'Roaming',\n",
       " 'Saved Games',\n",
       " 'Searches',\n",
       " 'SendTo',\n",
       " 'SkyDrive',\n",
       " 'somefile555.txt',\n",
       " 'Untitled Folder',\n",
       " 'Untitled.ipynb',\n",
       " 'Videos',\n",
       " '__pycache__',\n",
       " 'Глава 1 Структуры данных и алгоритмы.ipynb',\n",
       " 'Глава 14 Деревья и леса(МО Крис Элбон).ipynb',\n",
       " 'Глава 5 Файлы и ввод-вывод(Python Дэвид Бизли).ipynb',\n",
       " 'Глава _6_Загрузка, хранение и форматы файлов.ipynb',\n",
       " 'Глава_5_Pandas.ipynb',\n",
       " 'главное меню',\n",
       " 'Мои документы',\n",
       " 'Шаблоны']"
      ]
     },
     "execution_count": 17,
     "metadata": {},
     "output_type": "execute_result"
    }
   ],
   "source": [
    "# Содержимое каталога (декодировано)\n",
    "import os\n",
    "os.listdir('.')"
   ]
  },
  {
   "cell_type": "code",
   "execution_count": 19,
   "metadata": {
    "scrolled": false
   },
   "outputs": [
    {
     "data": {
      "text/plain": [
       "[b'.anaconda',\n",
       " b'.atom',\n",
       " b'.conda',\n",
       " b'.condarc',\n",
       " b'.gitconfig',\n",
       " b'.idlerc',\n",
       " b'.ipynb_checkpoints',\n",
       " b'.ipython',\n",
       " b'.jupyter',\n",
       " b'.pgAdmin4.1057243102.addr',\n",
       " b'.pgAdmin4.1057243102.log',\n",
       " b'.pgAdmin4.startup.log',\n",
       " b'AppData',\n",
       " b'Application Data',\n",
       " b'Contacts',\n",
       " b'Cookies',\n",
       " b'data',\n",
       " b'Desktop',\n",
       " b'Documents',\n",
       " b'Downloads',\n",
       " b'Favorites',\n",
       " b'GCSE_Computer_Science_10_The_internet.ipynb',\n",
       " b'GCSE_Computer_Science_11_Software.ipynb',\n",
       " b'GCSE_Computer_Science_12_Systems_software.ipynb',\n",
       " b'GCSE_Computer_Science_13_Computational_thinking_and_algorithms.ipynb',\n",
       " b'GCSE_Computer_Science_14_Programming_techniques.ipynb',\n",
       " b'GCSE_Computer_Science_15_Writing_reliable_programs.ipynb',\n",
       " b'GCSE_Computer_Science_16_Data_representation_conversion_and_arithmetic.ipynb',\n",
       " b'GCSE_Computer_Science_17_Logic.ipynb',\n",
       " b'GCSE_Computer_Science_18_Translators_and_proogramming_tools.ipynb',\n",
       " b'GCSE_Computer_Science_19_Legal_ethical_cultural_and_environmental_issues.ipynb',\n",
       " b'GCSE_Computer_Science_1_The importance_of_computational_thinking.ipynb',\n",
       " b'GCSE_Computer_Science_2_Systems_architecture.ipynb',\n",
       " b'GCSE_Computer_Science_3_Primary_storage.ipynb',\n",
       " b'GCSE_Computer_Science_4_Secondary_storage.ipynb',\n",
       " b'GCSE_Computer_Science_5_Networks_introductions.ipynb',\n",
       " b'GCSE_Computer_Science_6_Networks_topologies_and_protocols.ipynb',\n",
       " b'GCSE_Computer_Science_7_Networks_layering.ipynb',\n",
       " b'GCSE_Computer_Science_8_Connections.ipynb',\n",
       " b'GCSE_Computer_Science_9_security.ipynb',\n",
       " b'jalape\\xc3\\xb1o.txt',\n",
       " b'Learning_to_Program_in_Python10_Databases_and_SQL.ipynb',\n",
       " b\"Learning_to_Program_in_Python11_Python's_SQLite_module.ipynb\",\n",
       " b'Learning_to_Program_in_Python12_Introduction_to_Tkinter.ipynb',\n",
       " b'Learning_to_Program_in_Python13_Developing_an_application_using_Tkinter.ipynb',\n",
       " b'Learning_to_Program_in_Python14_Program_design.ipynb',\n",
       " b'Learning_to_Program_in_Python15_Testing_and_debugging.ipynb',\n",
       " b'Learning_to_Program_in_Python1_Data_types_operators_I-O.ipynb',\n",
       " b'Learning_to_Program_in_Python2_String_and_numbers.ipynb',\n",
       " b'Learning_to_Program_in_Python3_Selection.ipynb',\n",
       " b'Learning_to_Program_in_Python3_Selection_withAns.ipynb',\n",
       " b'Learning_to_Program_in_Python4_Iteration.ipynb',\n",
       " b'Learning_to_Program_in_Python5_Lists_and_tuples.ipynb',\n",
       " b'Learning_to_Program_in_Python6_Validating_user_input.ipynb',\n",
       " b'Learning_to_Program_in_Python7_Searching_and_sorting.ipynb',\n",
       " b'Learning_to_Program_in_Python8_Functions.ipynb',\n",
       " b'Learning_to_Program_in_Python9_Reading_and_writing_files.ipynb',\n",
       " b'Links',\n",
       " b'Local Settings',\n",
       " b'Music',\n",
       " b'mydata.csv',\n",
       " b'NetHood',\n",
       " b'newfile.csv',\n",
       " b'newsomefile555.txt',\n",
       " b'NTUSER.DAT',\n",
       " b'ntuser.dat.LOG1',\n",
       " b'ntuser.dat.LOG2',\n",
       " b'NTUSER.DAT{bbed3e3b-0b41-11e3-8249-d6927d06400b}.TM.blf',\n",
       " b'NTUSER.DAT{bbed3e3b-0b41-11e3-8249-d6927d06400b}.TMContainer00000000000000000001.regtrans-ms',\n",
       " b'NTUSER.DAT{bbed3e3b-0b41-11e3-8249-d6927d06400b}.TMContainer00000000000000000002.regtrans-ms',\n",
       " b'ntuser.ini',\n",
       " b'OneDrive',\n",
       " b'Pictures',\n",
       " b'PrintHood',\n",
       " b'Python_11.ipynb',\n",
       " b'Python_13.ipynb',\n",
       " b'Question.ipynb',\n",
       " b'Recent',\n",
       " b'Roaming',\n",
       " b'Saved Games',\n",
       " b'Searches',\n",
       " b'SendTo',\n",
       " b'SkyDrive',\n",
       " b'somefile555.txt',\n",
       " b'Untitled Folder',\n",
       " b'Untitled.ipynb',\n",
       " b'Videos',\n",
       " b'__pycache__',\n",
       " b'\\xd0\\x93\\xd0\\xbb\\xd0\\xb0\\xd0\\xb2\\xd0\\xb0 1 \\xd0\\xa1\\xd1\\x82\\xd1\\x80\\xd1\\x83\\xd0\\xba\\xd1\\x82\\xd1\\x83\\xd1\\x80\\xd1\\x8b \\xd0\\xb4\\xd0\\xb0\\xd0\\xbd\\xd0\\xbd\\xd1\\x8b\\xd1\\x85 \\xd0\\xb8 \\xd0\\xb0\\xd0\\xbb\\xd0\\xb3\\xd0\\xbe\\xd1\\x80\\xd0\\xb8\\xd1\\x82\\xd0\\xbc\\xd1\\x8b.ipynb',\n",
       " b'\\xd0\\x93\\xd0\\xbb\\xd0\\xb0\\xd0\\xb2\\xd0\\xb0 14 \\xd0\\x94\\xd0\\xb5\\xd1\\x80\\xd0\\xb5\\xd0\\xb2\\xd1\\x8c\\xd1\\x8f \\xd0\\xb8 \\xd0\\xbb\\xd0\\xb5\\xd1\\x81\\xd0\\xb0(\\xd0\\x9c\\xd0\\x9e \\xd0\\x9a\\xd1\\x80\\xd0\\xb8\\xd1\\x81 \\xd0\\xad\\xd0\\xbb\\xd0\\xb1\\xd0\\xbe\\xd0\\xbd).ipynb',\n",
       " b'\\xd0\\x93\\xd0\\xbb\\xd0\\xb0\\xd0\\xb2\\xd0\\xb0 5 \\xd0\\xa4\\xd0\\xb0\\xd0\\xb9\\xd0\\xbb\\xd1\\x8b \\xd0\\xb8 \\xd0\\xb2\\xd0\\xb2\\xd0\\xbe\\xd0\\xb4-\\xd0\\xb2\\xd1\\x8b\\xd0\\xb2\\xd0\\xbe\\xd0\\xb4(Python \\xd0\\x94\\xd1\\x8d\\xd0\\xb2\\xd0\\xb8\\xd0\\xb4 \\xd0\\x91\\xd0\\xb8\\xd0\\xb7\\xd0\\xbb\\xd0\\xb8).ipynb',\n",
       " b'\\xd0\\x93\\xd0\\xbb\\xd0\\xb0\\xd0\\xb2\\xd0\\xb0 _6_\\xd0\\x97\\xd0\\xb0\\xd0\\xb3\\xd1\\x80\\xd1\\x83\\xd0\\xb7\\xd0\\xba\\xd0\\xb0, \\xd1\\x85\\xd1\\x80\\xd0\\xb0\\xd0\\xbd\\xd0\\xb5\\xd0\\xbd\\xd0\\xb8\\xd0\\xb5 \\xd0\\xb8 \\xd1\\x84\\xd0\\xbe\\xd1\\x80\\xd0\\xbc\\xd0\\xb0\\xd1\\x82\\xd1\\x8b \\xd1\\x84\\xd0\\xb0\\xd0\\xb9\\xd0\\xbb\\xd0\\xbe\\xd0\\xb2.ipynb',\n",
       " b'\\xd0\\x93\\xd0\\xbb\\xd0\\xb0\\xd0\\xb2\\xd0\\xb0_5_Pandas.ipynb',\n",
       " b'\\xd0\\xb3\\xd0\\xbb\\xd0\\xb0\\xd0\\xb2\\xd0\\xbd\\xd0\\xbe\\xd0\\xb5 \\xd0\\xbc\\xd0\\xb5\\xd0\\xbd\\xd1\\x8e',\n",
       " b'\\xd0\\x9c\\xd0\\xbe\\xd0\\xb8 \\xd0\\xb4\\xd0\\xbe\\xd0\\xba\\xd1\\x83\\xd0\\xbc\\xd0\\xb5\\xd0\\xbd\\xd1\\x82\\xd1\\x8b',\n",
       " b'\\xd0\\xa8\\xd0\\xb0\\xd0\\xb1\\xd0\\xbb\\xd0\\xbe\\xd0\\xbd\\xd1\\x8b']"
      ]
     },
     "execution_count": 19,
     "metadata": {},
     "output_type": "execute_result"
    }
   ],
   "source": [
    "# Содержимое каталога (сырое)\n",
    "os.listdir(b'.')   #байтовая строка"
   ]
  },
  {
   "cell_type": "code",
   "execution_count": 21,
   "metadata": {},
   "outputs": [
    {
     "name": "stdout",
     "output_type": "stream",
     "text": [
      "Spicy\n"
     ]
    }
   ],
   "source": [
    "with open(b'jalape\\xc3\\xb1o.txt') as f:\n",
    "    print(f.read())"
   ]
  },
  {
   "cell_type": "markdown",
   "metadata": {},
   "source": [
    "Как вы можете видеть в двух последних операциях, обращение с именами файлов немного меняется, когда байтовые строки передаются связанным с файлами\n",
    "функциям, таким как open() и os.listdir()."
   ]
  },
  {
   "cell_type": "markdown",
   "metadata": {},
   "source": [
    "В обычных обстоятельствах вам не нужно волноваться о кодировании и декодировании имен файлов – обычные операции с именами файлов «просто работают».\n",
    "Однако многие операционные системы могут позволить пользователю случайно\n",
    "или по злому умыслу создать файлы, которые не соответствуют ожидаемым правилам кодировки. Такие имена файлов могут загадочным образом сломать программы на Python, которые работают с большим количеством файлов.\n",
    "Чтение каталогов и работа с именами файлов как сырыми недекодированными\n",
    "байтами может решить эту проблему, хотя и за счет некоторых неудобств при программировании"
   ]
  },
  {
   "cell_type": "markdown",
   "metadata": {},
   "source": [
    "# Вывод \"плохих\" имен файлов"
   ]
  },
  {
   "cell_type": "markdown",
   "metadata": {},
   "source": [
    "Ваша программа получила список содержимого каталога, но когда она попыталась вывести эти имена файлов, то упала с исключением UnicodeEncodeError и загадочным сообщением “surrogates not allowed”. "
   ]
  },
  {
   "cell_type": "markdown",
   "metadata": {},
   "source": [
    "При выводе имен файлов неизвестного происхождения используйте преобразование, чтобы избежать ошибок:"
   ]
  },
  {
   "cell_type": "code",
   "execution_count": null,
   "metadata": {},
   "outputs": [],
   "source": [
    "def bad_filename(filename):\n",
    "    return repr(filename)[1:-1]\n",
    "\n",
    "try: \n",
    "    print(filename)\n",
    "except UnicodeEncodeError:\n",
    "    print(bad_filename(filename))"
   ]
  },
  {
   "cell_type": "markdown",
   "metadata": {},
   "source": [
    "Этот рецепт решает редкую, но очень раздражающую проблему, которая касается программ, работающих с файловой системой. По умолчанию Python предполагает, что все имена файлов закодированы согласно установке, которая возвращается функцией sys.getfilesystemencoding(). \n",
    "\n",
    "Однако некоторые файловые системы не заставляют соблюдать это ограничение, позволяя создавать файлы с неправильной кодировкой. Это не частый случай, но все же есть опасность, что некий пользователь сделает что-то глупое и случайно создаст такой файл (например, передаст неправильное имя файла функции open() в какой-то забагованной программе). \n",
    "\n",
    "При выполнении команд типа os.listdir() неправильные имена файлов загоняют Python в безвыходную ситуацию. С одной стороны, он не может просто отбросить неправильное имя. С другой стороны, он не может превратить имя файла в правильную текстовую строку. Python действует так: берет недекодируемое байтовое значение \\xhh в имени файла и отображает его в так называемую «суррогатную кодировку», представленную символом Unicode \\udchh. \n",
    "\n",
    "Вот пример того, как неправильный список содержимого каталога может выглядеть, если он содержит имя файла bäd.txt, закодированное в Latin-1 вместо UTF-8: "
   ]
  },
  {
   "cell_type": "code",
   "execution_count": 1,
   "metadata": {},
   "outputs": [
    {
     "data": {
      "text/plain": [
       "['.anaconda',\n",
       " '.atom',\n",
       " '.babel.json',\n",
       " '.bash_history',\n",
       " '.conda',\n",
       " '.condarc',\n",
       " '.config',\n",
       " '.git',\n",
       " '.gitconfig',\n",
       " '.idea',\n",
       " '.idlerc',\n",
       " '.ipfs',\n",
       " '.ipynb_checkpoints',\n",
       " '.ipython',\n",
       " '.jupyter',\n",
       " '.keras',\n",
       " '.local',\n",
       " '.matplotlib',\n",
       " '.node-gyp',\n",
       " '.node_repl_history',\n",
       " '.PyCharm2017.2',\n",
       " '.PyCharmCE2017.2',\n",
       " '.ssh',\n",
       " '.surprise_data',\n",
       " '.viminfo',\n",
       " '.windows-build-tools',\n",
       " '001-colorspace.ipynb',\n",
       " '001-filtering.ipynb',\n",
       " '001-medianfilter.ipynb',\n",
       " '001-sobel.ipynb',\n",
       " '002-cbir.ipynb',\n",
       " '002-digit.ipynb',\n",
       " '002-digit_old.ipynb',\n",
       " '002-matching.ipynb',\n",
       " '002-pca.ipynb',\n",
       " '003-graphcut.ipynb',\n",
       " '003-tracking.ipynb',\n",
       " '003-viola-jones.ipynb',\n",
       " '003-watershed.ipynb',\n",
       " '004-classification.ipynb',\n",
       " '004-logic.ipynb',\n",
       " '004-mnist.ipynb',\n",
       " '004-regression.ipynb',\n",
       " '005-cnn-mnist.ipynb',\n",
       " '005-neural-style.ipynb',\n",
       " '006-dogs-vs-cats.ipynb',\n",
       " '007-detection.ipynb',\n",
       " '007-segmentation.ipynb',\n",
       " '1 decision trees.ipynb',\n",
       " '1. kNN.ipynb',\n",
       " '1_boston.ipynb',\n",
       " '1_intro.ipynb',\n",
       " '2 competition.ipynb',\n",
       " '2. barley-break.ipynb',\n",
       " '2_classification.ipynb',\n",
       " '2_newspapers.ipynb',\n",
       " '2_RussianNER.ipynb',\n",
       " '2_syntax.ipynb',\n",
       " '2_titanic.ipynb',\n",
       " '3 metrics.ipynb',\n",
       " '3. Levenshtein distance.ipynb',\n",
       " '3D Objects',\n",
       " '4 vedomosti parsing.ipynb',\n",
       " '4. Jaccard.ipynb',\n",
       " '5 vedomosti classifying.ipynb',\n",
       " '5. kNN NBA.ipynb',\n",
       " '6 homework.ipynb',\n",
       " '6. kNN regression.ipynb',\n",
       " '7. kNN digits.ipynb',\n",
       " 'abalone.csv',\n",
       " 'adult.csv',\n",
       " 'adult1.csv',\n",
       " 'ad_campaign.csv',\n",
       " 'ad_campaigns.xlsx',\n",
       " 'affair_data.csv',\n",
       " 'aml-11.1cw',\n",
       " 'aml-11.2cw',\n",
       " 'aml-23hw.ipynb',\n",
       " 'aml-cw11-1.ipynb',\n",
       " 'aml-cw11-2.ipynb',\n",
       " 'aml-cw12-1.ipynb',\n",
       " 'aml-cw12-2.ipynb',\n",
       " 'aml-hw23.ipynb',\n",
       " 'aml-hw7.ipynb',\n",
       " 'aml-hw8.ipynb',\n",
       " 'aml-hw9.ipynb',\n",
       " 'Anaconda3',\n",
       " 'Anaconda_help.ipynb',\n",
       " 'AppData',\n",
       " 'Application Data',\n",
       " 'arrays_xyz.npz',\n",
       " 'arrays_xyz_c.npz',\n",
       " 'array_archive.npz',\n",
       " 'array_x.csv',\n",
       " 'array_x.npy',\n",
       " 'array_x.txt',\n",
       " 'athletes.csv',\n",
       " 'athletes_classifier.ipynb',\n",
       " 'banki_responses.json',\n",
       " 'bd-cw4pandas.ipynb',\n",
       " 'bd-hw4.ipynb',\n",
       " 'bd-hw7 .ipynb',\n",
       " 'bd_hw1.ipynb',\n",
       " 'bigdata_final_hw.ipynb',\n",
       " 'blockchain',\n",
       " 'book.txt',\n",
       " 'brand-logo-detection-dataset',\n",
       " 'Chapter 1 - Linear Regression.ipynb',\n",
       " 'checkpoint.hdf5',\n",
       " 'clustering_inclass.ipynb',\n",
       " 'coins.jpg',\n",
       " 'Contacts',\n",
       " 'control.csv',\n",
       " 'Cookies',\n",
       " 'coursera_1week.ipynb',\n",
       " 'coursera_1week_2task.ipynb',\n",
       " 'Creative Cloud Files',\n",
       " 'credit_homework.csv',\n",
       " 'crimes.csv',\n",
       " 'cross_val_score.ipynb',\n",
       " 'CSV1.csv',\n",
       " 'CSV2.csv',\n",
       " 'CSV3.csv',\n",
       " 'CSV5.csv',\n",
       " 'CSVexel.xlsx',\n",
       " 'CSVnew.csv',\n",
       " 'csv_exel_files.ipynb',\n",
       " 'data',\n",
       " 'data.bin',\n",
       " 'data.csv',\n",
       " 'data.tar.gz',\n",
       " 'dataset.1.2.1.tsv',\n",
       " 'data_clients.ipynb',\n",
       " 'data_description.txt',\n",
       " 'data_sample_example1.3.2.tsv',\n",
       " 'derby.log',\n",
       " 'Desktop',\n",
       " 'dl-hw7_2.ipynb',\n",
       " 'Documents',\n",
       " 'dog_cats.py',\n",
       " 'Downloads',\n",
       " 'Dropbox',\n",
       " 'edb_languagepack_10.exe',\n",
       " 'example.csv',\n",
       " 'Favorites',\n",
       " 'gender_submission.csv',\n",
       " 'geo.xlsx',\n",
       " 'geo_comment.xlsx',\n",
       " 'Gradient_descent.ipynb',\n",
       " 'haarcascade_eye.xml',\n",
       " 'haarcascade_frontalface_default.xml',\n",
       " 'hackathon-final.ipynb',\n",
       " 'hash1',\n",
       " 'Homework 4.ipynb',\n",
       " 'homework clustering.ipynb',\n",
       " 'Homework Module 3 (1).ipynb',\n",
       " 'Homework.ipynb',\n",
       " 'Homework_8.ipynb',\n",
       " 'homework_l7.ipynb',\n",
       " 'house_prices.csv',\n",
       " 'HW1_banki_TM-and-classification.ipynb',\n",
       " 'hw6.ipynb',\n",
       " 'hw7.ipynb',\n",
       " 'hw_test',\n",
       " 'hw_train',\n",
       " 'img',\n",
       " 'IntelGraphicsProfiles',\n",
       " 'IntroductionToML - Homework.ipynb',\n",
       " 'Iris_dataset.ipynb',\n",
       " 'ItemsBasedSimilarity.ipynb',\n",
       " 'jalapeño.txt',\n",
       " 'kernel769896d080.ipynb',\n",
       " 'Learning_to_Program_in_Python1_Data_types_operators_I-O.ipynb',\n",
       " 'lecture-1.ipynb',\n",
       " 'lecture-2.ipynb',\n",
       " 'lena.png',\n",
       " 'libs.ipynb',\n",
       " 'lightfm_data',\n",
       " 'Linear regression.ipynb',\n",
       " 'Links',\n",
       " 'Local Settings',\n",
       " 'Logistic_regression_athletes_classifier.ipynb',\n",
       " 'Logres_affair.ipynb',\n",
       " 'lstm_text_generation_solution.ipynb',\n",
       " 'LSTM_WKI.ipynb',\n",
       " 'merged_file_.txt',\n",
       " 'messi5.jpg',\n",
       " 'metastore_db',\n",
       " 'MicrosoftEdgeBackups',\n",
       " 'ml-cw10-2.ipynb',\n",
       " 'ml-cw10.ipynb',\n",
       " 'ml-hw8.ipynb',\n",
       " 'mnist_intro.ipynb',\n",
       " 'monet.jpg',\n",
       " 'moscow.jpg',\n",
       " 'movies.csv',\n",
       " 'Music',\n",
       " 'my_object_detection_2.ipynb',\n",
       " 'my_object_detection_tutorial.ipynb',\n",
       " 'my_object_detection__.ipynb',\n",
       " 'my_train.ipynb',\n",
       " 'NetHood',\n",
       " 'neural_style_0.png',\n",
       " 'neural_style_1.png',\n",
       " 'neural_style_2.png',\n",
       " 'nlp-course-netology-master',\n",
       " 'nov2017',\n",
       " 'NTUSER.DAT',\n",
       " 'ntuser.dat.LOG1',\n",
       " 'ntuser.dat.LOG2',\n",
       " 'NTUSER.DAT{b49da1ff-d007-11e9-b55c-bae30c5e365f}.TM.blf',\n",
       " 'NTUSER.DAT{b49da1ff-d007-11e9-b55c-bae30c5e365f}.TMContainer00000000000000000001.regtrans-ms',\n",
       " 'NTUSER.DAT{b49da1ff-d007-11e9-b55c-bae30c5e365f}.TMContainer00000000000000000002.regtrans-ms',\n",
       " 'ntuser.ini',\n",
       " 'Numpy(Дж_Вандер_Плас).ipynb',\n",
       " 'Numpy.ipynb',\n",
       " 'ocean.jpg',\n",
       " 'OneDrive',\n",
       " 'output.png',\n",
       " 'pandas_dataframe1.2.1.ipynb',\n",
       " 'pandas_indexing_selection1.3.2.ipynb',\n",
       " 'passwd.txt',\n",
       " 'pd1.ipynb',\n",
       " 'pd2.ipynb',\n",
       " 'pd3.ipynb',\n",
       " 'picasso.jpg',\n",
       " 'Pictures',\n",
       " 'pipeline.config',\n",
       " 'pipeline_cube.config',\n",
       " 'plot_tree.py',\n",
       " 'power.csv',\n",
       " 'PrintHood',\n",
       " 'pycharm-community-2017.2.1.exe',\n",
       " 'pycharm-professional-2017.2.1.exe',\n",
       " 'PycharmProjects',\n",
       " 'PySpark_for_students.ipynb',\n",
       " 'python',\n",
       " 'Python_1.ipynb',\n",
       " 'Python_10.ipynb',\n",
       " 'Python_11.ipynb',\n",
       " 'Python_12.ipynb',\n",
       " 'Python_14.ipynb',\n",
       " 'Python_15.ipynb',\n",
       " 'Python_16.ipynb',\n",
       " 'Python_17.ipynb',\n",
       " 'Python_18.ipynb',\n",
       " 'Python_19.ipynb',\n",
       " 'Python_2.ipynb',\n",
       " 'Python_20.ipynb',\n",
       " 'Python_3.ipynb',\n",
       " 'Python_4.ipynb',\n",
       " 'Python_5.ipynb',\n",
       " 'Python_6.ipynb',\n",
       " 'Python_7.ipynb',\n",
       " 'Python_8.ipynb',\n",
       " 'Python_9.ipynb',\n",
       " 'Question.ipynb',\n",
       " 'Recent',\n",
       " 'RecommenderHackathon.ipynb',\n",
       " 'RecommenderSystem.ipynb',\n",
       " 'Regression_cars.ipynb',\n",
       " 'sample.db',\n",
       " 'sample_submission.csv',\n",
       " 'sample_submission_titanic.csv',\n",
       " 'sat.txt',\n",
       " 'SAT_model.ipynb',\n",
       " 'Saved Games',\n",
       " 'SciPy-Optimization1.3.4.ipynb',\n",
       " 'Searches',\n",
       " 'SendTo',\n",
       " 'sept2017',\n",
       " 'shelter',\n",
       " 'skillfactory-dl-2-screencast.ipynb',\n",
       " 'somefile.bin',\n",
       " 'somefile.txt',\n",
       " 'somefile1.txt',\n",
       " 'somefile777.data',\n",
       " 'somefile8.txt',\n",
       " 'somefile9.txt',\n",
       " 'some_array.npy',\n",
       " 'sorted_file_1.txt',\n",
       " 'sorted_file_2.txt',\n",
       " 'Spark.ipynb',\n",
       " 'SparkDataframe.ipynb',\n",
       " 'styled_monet_0.png',\n",
       " 'submission.txt',\n",
       " 'submit.csv',\n",
       " 'submit.txt',\n",
       " 'submit2.csv',\n",
       " 'submit_titanic.csv',\n",
       " 'tags.csv',\n",
       " 'test',\n",
       " 'test.csv',\n",
       " 'test.out',\n",
       " 'test1.out',\n",
       " 'test_hotdogs',\n",
       " 'test_titanic.csv',\n",
       " 'test_user_id.list',\n",
       " 'test_X.pickle',\n",
       " 'titanic.csv',\n",
       " 'titanic.ipynb',\n",
       " 'Tracing',\n",
       " 'train',\n",
       " 'train.csv',\n",
       " 'train_hotdogs',\n",
       " 'train_hotdogs.rar',\n",
       " 'train_titanic.csv',\n",
       " 'transactions.csv',\n",
       " 'unsupervised.json',\n",
       " 'Unsupervised_Text_SVD_KMeans.ipynb',\n",
       " 'Untitled.ipynb',\n",
       " 'Untitled1.ipynb',\n",
       " 'Untitled10.ipynb',\n",
       " 'Untitled11.ipynb',\n",
       " 'Untitled12.ipynb',\n",
       " 'Untitled13.ipynb',\n",
       " 'Untitled14.ipynb',\n",
       " 'Untitled15.ipynb',\n",
       " 'Untitled16.ipynb',\n",
       " 'Untitled17.ipynb',\n",
       " 'Untitled18.ipynb',\n",
       " 'Untitled19.ipynb',\n",
       " 'Untitled2.ipynb',\n",
       " 'Untitled3.ipynb',\n",
       " 'Untitled4.ipynb',\n",
       " 'Untitled5.ipynb',\n",
       " 'Untitled6.ipynb',\n",
       " 'Untitled7.ipynb',\n",
       " 'Untitled8.ipynb',\n",
       " 'Untitled9.ipynb',\n",
       " 'updated_dataset.csv',\n",
       " 'vector_operations.ipynb',\n",
       " 'Videos',\n",
       " 'wiki_math',\n",
       " 'wiki_math1',\n",
       " 'Word2Vec.ipynb',\n",
       " 'word_vecs.py',\n",
       " '__pycache__',\n",
       " 'Ансамбли (для Студентов).ipynb',\n",
       " 'Введение_в_Python.ipynb',\n",
       " 'Глава 1 Векторы, матрицы массивы.ipynb',\n",
       " 'Глава 1 Структуры данных и алгоритмы.ipynb',\n",
       " 'Глава 10 Снижение размерности с помощью отбора признаков(МО Крис Элбон).ipynb',\n",
       " 'Глава 11 Оценивание моделей(МО Крис Элбон).ipynb',\n",
       " 'Глава 12 Отбор моделей(МО Крис Элбон).ipynb',\n",
       " 'Глава 13 Линейная регрессия(МО Крис Элбон).ipynb',\n",
       " 'Глава 14 Деревья и леса(МО Крис Элбон).ipynb',\n",
       " 'Глава 15 К ближайших соседей(МО Крис Элбон).ipynb',\n",
       " 'Глава 16 Логистическая регрессия(МО Крис Элбон).ipynb',\n",
       " 'Глава 17 Опорно-векторные машины(МО Крис Элбон).ipynb',\n",
       " 'Глава 18 Наивный Байес(МО Крис Элбон).ipynb',\n",
       " 'Глава 19 Кластеризация(МО Крис Элбон).ipynb',\n",
       " 'Глава 2 Загрузка данных (МО Крис Элбон).ipynb',\n",
       " 'Глава 2 Строки и текст (Python Дэвид Бизли).ipynb',\n",
       " 'Глава 20 Нейронные сети(МО Крис Элбон).ipynb',\n",
       " 'Глава 21 Сохранение и загрузка натренированных моделей(МО Крис Элбон).ipynb',\n",
       " 'Глава 3 Упорядочение данных(MO Крис Элбон).ipynb',\n",
       " 'Глава 3 Числа, даты и время(Python Дэвид Бизли).ipynb',\n",
       " 'Глава 4 Итераторы и генераторы(Python Дэвид Бизли).ipynb',\n",
       " 'Глава 4 Работа с числовыми данными(МО Крис Элбон).ipynb',\n",
       " 'Глава 5 Работа с категориальными данными (МО Крис Элбон).ipynb',\n",
       " 'Глава 5 Файлы и ввод-вывод(Python Дэвид Бизли).ipynb',\n",
       " 'Глава 6 Работа с текстом(МО Крис Элбон).ipynb',\n",
       " 'Глава 7 Работа с датами и временем(МО Крис Элбон).ipynb',\n",
       " 'Глава 8 Работа с изображениями(МО Крис Элбон).ipynb',\n",
       " 'Глава 9 Снижение размерности с помощью выделения признаков(МО Крис Элбон).ipynb',\n",
       " 'Глава _6_Загрузка, хранение и форматы файлов.ipynb',\n",
       " 'Глава_4_Основы NumPy.ipynb',\n",
       " 'Глава_5_Pandas.ipynb',\n",
       " 'главное меню',\n",
       " 'Домашнее задание по градиентному бустингу.ipynb',\n",
       " 'Лабораторная BigData2.ipynb',\n",
       " 'Мои документы',\n",
       " 'Оптимизация (Студенты).ipynb',\n",
       " 'Подбор параметров и итоговая практика(студенты).ipynb',\n",
       " 'Подбор параметров и итоговая практика_slack.ipynb',\n",
       " 'Функции потерь и оптимизация.ipynb',\n",
       " 'Цвета.ipynb',\n",
       " 'Шаблоны']"
      ]
     },
     "execution_count": 1,
     "metadata": {},
     "output_type": "execute_result"
    }
   ],
   "source": [
    "import os\n",
    "files = os.listdir('.')\n",
    "files"
   ]
  },
  {
   "cell_type": "markdown",
   "metadata": {},
   "source": [
    "Если у вас есть код, который манипулирует именами файлов или даже передает их функциям (таким как open()), все работает нормально. Вы попадете в неприятности только в ситуациях, где вы хотите вывести имя файла (вывод, логирование и т. п.). Ваша программа упадет, если вы захотите вывести показанный выше список: "
   ]
  },
  {
   "cell_type": "code",
   "execution_count": 2,
   "metadata": {},
   "outputs": [
    {
     "name": "stdout",
     "output_type": "stream",
     "text": [
      ".anaconda\n",
      ".atom\n",
      ".babel.json\n",
      ".bash_history\n",
      ".conda\n",
      ".condarc\n",
      ".config\n",
      ".git\n",
      ".gitconfig\n",
      ".idea\n",
      ".idlerc\n",
      ".ipfs\n",
      ".ipynb_checkpoints\n",
      ".ipython\n",
      ".jupyter\n",
      ".keras\n",
      ".local\n",
      ".matplotlib\n",
      ".node-gyp\n",
      ".node_repl_history\n",
      ".PyCharm2017.2\n",
      ".PyCharmCE2017.2\n",
      ".ssh\n",
      ".surprise_data\n",
      ".viminfo\n",
      ".windows-build-tools\n",
      "001-colorspace.ipynb\n",
      "001-filtering.ipynb\n",
      "001-medianfilter.ipynb\n",
      "001-sobel.ipynb\n",
      "002-cbir.ipynb\n",
      "002-digit.ipynb\n",
      "002-digit_old.ipynb\n",
      "002-matching.ipynb\n",
      "002-pca.ipynb\n",
      "003-graphcut.ipynb\n",
      "003-tracking.ipynb\n",
      "003-viola-jones.ipynb\n",
      "003-watershed.ipynb\n",
      "004-classification.ipynb\n",
      "004-logic.ipynb\n",
      "004-mnist.ipynb\n",
      "004-regression.ipynb\n",
      "005-cnn-mnist.ipynb\n",
      "005-neural-style.ipynb\n",
      "006-dogs-vs-cats.ipynb\n",
      "007-detection.ipynb\n",
      "007-segmentation.ipynb\n",
      "1 decision trees.ipynb\n",
      "1. kNN.ipynb\n",
      "1_boston.ipynb\n",
      "1_intro.ipynb\n",
      "2 competition.ipynb\n",
      "2. barley-break.ipynb\n",
      "2_classification.ipynb\n",
      "2_newspapers.ipynb\n",
      "2_RussianNER.ipynb\n",
      "2_syntax.ipynb\n",
      "2_titanic.ipynb\n",
      "3 metrics.ipynb\n",
      "3. Levenshtein distance.ipynb\n",
      "3D Objects\n",
      "4 vedomosti parsing.ipynb\n",
      "4. Jaccard.ipynb\n",
      "5 vedomosti classifying.ipynb\n",
      "5. kNN NBA.ipynb\n",
      "6 homework.ipynb\n",
      "6. kNN regression.ipynb\n",
      "7. kNN digits.ipynb\n",
      "abalone.csv\n",
      "adult.csv\n",
      "adult1.csv\n",
      "ad_campaign.csv\n",
      "ad_campaigns.xlsx\n",
      "affair_data.csv\n",
      "aml-11.1cw\n",
      "aml-11.2cw\n",
      "aml-23hw.ipynb\n",
      "aml-cw11-1.ipynb\n",
      "aml-cw11-2.ipynb\n",
      "aml-cw12-1.ipynb\n",
      "aml-cw12-2.ipynb\n",
      "aml-hw23.ipynb\n",
      "aml-hw7.ipynb\n",
      "aml-hw8.ipynb\n",
      "aml-hw9.ipynb\n",
      "Anaconda3\n",
      "Anaconda_help.ipynb\n",
      "AppData\n",
      "Application Data\n",
      "arrays_xyz.npz\n",
      "arrays_xyz_c.npz\n",
      "array_archive.npz\n",
      "array_x.csv\n",
      "array_x.npy\n",
      "array_x.txt\n",
      "athletes.csv\n",
      "athletes_classifier.ipynb\n",
      "banki_responses.json\n",
      "bd-cw4pandas.ipynb\n",
      "bd-hw4.ipynb\n",
      "bd-hw7 .ipynb\n",
      "bd_hw1.ipynb\n",
      "bigdata_final_hw.ipynb\n",
      "blockchain\n",
      "book.txt\n",
      "brand-logo-detection-dataset\n",
      "Chapter 1 - Linear Regression.ipynb\n",
      "checkpoint.hdf5\n",
      "clustering_inclass.ipynb\n",
      "coins.jpg\n",
      "Contacts\n",
      "control.csv\n",
      "Cookies\n",
      "coursera_1week.ipynb\n",
      "coursera_1week_2task.ipynb\n",
      "Creative Cloud Files\n",
      "credit_homework.csv\n",
      "crimes.csv\n",
      "cross_val_score.ipynb\n",
      "CSV1.csv\n",
      "CSV2.csv\n",
      "CSV3.csv\n",
      "CSV5.csv\n",
      "CSVexel.xlsx\n",
      "CSVnew.csv\n",
      "csv_exel_files.ipynb\n",
      "data\n",
      "data.bin\n",
      "data.csv\n",
      "data.tar.gz\n",
      "dataset.1.2.1.tsv\n",
      "data_clients.ipynb\n",
      "data_description.txt\n",
      "data_sample_example1.3.2.tsv\n",
      "derby.log\n",
      "Desktop\n",
      "dl-hw7_2.ipynb\n",
      "Documents\n",
      "dog_cats.py\n",
      "Downloads\n",
      "Dropbox\n",
      "edb_languagepack_10.exe\n",
      "example.csv\n",
      "Favorites\n",
      "gender_submission.csv\n",
      "geo.xlsx\n",
      "geo_comment.xlsx\n",
      "Gradient_descent.ipynb\n",
      "haarcascade_eye.xml\n",
      "haarcascade_frontalface_default.xml\n",
      "hackathon-final.ipynb\n",
      "hash1\n",
      "Homework 4.ipynb\n",
      "homework clustering.ipynb\n",
      "Homework Module 3 (1).ipynb\n",
      "Homework.ipynb\n",
      "Homework_8.ipynb\n",
      "homework_l7.ipynb\n",
      "house_prices.csv\n",
      "HW1_banki_TM-and-classification.ipynb\n",
      "hw6.ipynb\n",
      "hw7.ipynb\n",
      "hw_test\n",
      "hw_train\n",
      "img\n",
      "IntelGraphicsProfiles\n",
      "IntroductionToML - Homework.ipynb\n",
      "Iris_dataset.ipynb\n",
      "ItemsBasedSimilarity.ipynb\n",
      "jalapeño.txt\n",
      "kernel769896d080.ipynb\n",
      "Learning_to_Program_in_Python1_Data_types_operators_I-O.ipynb\n",
      "lecture-1.ipynb\n",
      "lecture-2.ipynb\n",
      "lena.png\n",
      "libs.ipynb\n",
      "lightfm_data\n",
      "Linear regression.ipynb\n",
      "Links\n",
      "Local Settings\n",
      "Logistic_regression_athletes_classifier.ipynb\n",
      "Logres_affair.ipynb\n",
      "lstm_text_generation_solution.ipynb\n",
      "LSTM_WKI.ipynb\n",
      "merged_file_.txt\n",
      "messi5.jpg\n",
      "metastore_db\n",
      "MicrosoftEdgeBackups\n",
      "ml-cw10-2.ipynb\n",
      "ml-cw10.ipynb\n",
      "ml-hw8.ipynb\n",
      "mnist_intro.ipynb\n",
      "monet.jpg\n",
      "moscow.jpg\n",
      "movies.csv\n",
      "Music\n",
      "my_object_detection_2.ipynb\n",
      "my_object_detection_tutorial.ipynb\n",
      "my_object_detection__.ipynb\n",
      "my_train.ipynb\n",
      "NetHood\n",
      "neural_style_0.png\n",
      "neural_style_1.png\n",
      "neural_style_2.png\n",
      "nlp-course-netology-master\n",
      "nov2017\n",
      "NTUSER.DAT\n",
      "ntuser.dat.LOG1\n",
      "ntuser.dat.LOG2\n",
      "NTUSER.DAT{b49da1ff-d007-11e9-b55c-bae30c5e365f}.TM.blf\n",
      "NTUSER.DAT{b49da1ff-d007-11e9-b55c-bae30c5e365f}.TMContainer00000000000000000001.regtrans-ms\n",
      "NTUSER.DAT{b49da1ff-d007-11e9-b55c-bae30c5e365f}.TMContainer00000000000000000002.regtrans-ms\n",
      "ntuser.ini\n",
      "Numpy(Дж_Вандер_Плас).ipynb\n",
      "Numpy.ipynb\n",
      "ocean.jpg\n",
      "OneDrive\n",
      "output.png\n",
      "pandas_dataframe1.2.1.ipynb\n",
      "pandas_indexing_selection1.3.2.ipynb\n",
      "passwd.txt\n",
      "pd1.ipynb\n",
      "pd2.ipynb\n",
      "pd3.ipynb\n",
      "picasso.jpg\n",
      "Pictures\n",
      "pipeline.config\n",
      "pipeline_cube.config\n",
      "plot_tree.py\n",
      "power.csv\n",
      "PrintHood\n",
      "pycharm-community-2017.2.1.exe\n",
      "pycharm-professional-2017.2.1.exe\n",
      "PycharmProjects\n",
      "PySpark_for_students.ipynb\n",
      "python\n",
      "Python_1.ipynb\n",
      "Python_10.ipynb\n",
      "Python_11.ipynb\n",
      "Python_12.ipynb\n",
      "Python_14.ipynb\n",
      "Python_15.ipynb\n",
      "Python_16.ipynb\n",
      "Python_17.ipynb\n",
      "Python_18.ipynb\n",
      "Python_19.ipynb\n",
      "Python_2.ipynb\n",
      "Python_20.ipynb\n",
      "Python_3.ipynb\n",
      "Python_4.ipynb\n",
      "Python_5.ipynb\n",
      "Python_6.ipynb\n",
      "Python_7.ipynb\n",
      "Python_8.ipynb\n",
      "Python_9.ipynb\n",
      "Question.ipynb\n",
      "Recent\n",
      "RecommenderHackathon.ipynb\n",
      "RecommenderSystem.ipynb\n",
      "Regression_cars.ipynb\n",
      "sample.db\n",
      "sample_submission.csv\n",
      "sample_submission_titanic.csv\n",
      "sat.txt\n",
      "SAT_model.ipynb\n",
      "Saved Games\n",
      "SciPy-Optimization1.3.4.ipynb\n",
      "Searches\n",
      "SendTo\n",
      "sept2017\n",
      "shelter\n",
      "skillfactory-dl-2-screencast.ipynb\n",
      "somefile.bin\n",
      "somefile.txt\n",
      "somefile1.txt\n",
      "somefile777.data\n",
      "somefile8.txt\n",
      "somefile9.txt\n",
      "some_array.npy\n",
      "sorted_file_1.txt\n",
      "sorted_file_2.txt\n",
      "Spark.ipynb\n",
      "SparkDataframe.ipynb\n",
      "styled_monet_0.png\n",
      "submission.txt\n",
      "submit.csv\n",
      "submit.txt\n",
      "submit2.csv\n",
      "submit_titanic.csv\n",
      "tags.csv\n",
      "test\n",
      "test.csv\n",
      "test.out\n",
      "test1.out\n",
      "test_hotdogs\n",
      "test_titanic.csv\n",
      "test_user_id.list\n",
      "test_X.pickle\n",
      "titanic.csv\n",
      "titanic.ipynb\n",
      "Tracing\n",
      "train\n",
      "train.csv\n",
      "train_hotdogs\n",
      "train_hotdogs.rar\n",
      "train_titanic.csv\n",
      "transactions.csv\n",
      "unsupervised.json\n",
      "Unsupervised_Text_SVD_KMeans.ipynb\n",
      "Untitled.ipynb\n",
      "Untitled1.ipynb\n",
      "Untitled10.ipynb\n",
      "Untitled11.ipynb\n",
      "Untitled12.ipynb\n",
      "Untitled13.ipynb\n",
      "Untitled14.ipynb\n",
      "Untitled15.ipynb\n",
      "Untitled16.ipynb\n",
      "Untitled17.ipynb\n",
      "Untitled18.ipynb\n",
      "Untitled19.ipynb\n",
      "Untitled2.ipynb\n",
      "Untitled3.ipynb\n",
      "Untitled4.ipynb\n",
      "Untitled5.ipynb\n",
      "Untitled6.ipynb\n",
      "Untitled7.ipynb\n",
      "Untitled8.ipynb\n",
      "Untitled9.ipynb\n",
      "updated_dataset.csv\n",
      "vector_operations.ipynb\n",
      "Videos\n",
      "wiki_math\n",
      "wiki_math1\n",
      "Word2Vec.ipynb\n",
      "word_vecs.py\n",
      "__pycache__\n",
      "Ансамбли (для Студентов).ipynb\n",
      "Введение_в_Python.ipynb\n",
      "Глава 1 Векторы, матрицы массивы.ipynb\n",
      "Глава 1 Структуры данных и алгоритмы.ipynb\n",
      "Глава 10 Снижение размерности с помощью отбора признаков(МО Крис Элбон).ipynb\n",
      "Глава 11 Оценивание моделей(МО Крис Элбон).ipynb\n",
      "Глава 12 Отбор моделей(МО Крис Элбон).ipynb\n",
      "Глава 13 Линейная регрессия(МО Крис Элбон).ipynb\n",
      "Глава 14 Деревья и леса(МО Крис Элбон).ipynb\n",
      "Глава 15 К ближайших соседей(МО Крис Элбон).ipynb\n",
      "Глава 16 Логистическая регрессия(МО Крис Элбон).ipynb\n",
      "Глава 17 Опорно-векторные машины(МО Крис Элбон).ipynb\n",
      "Глава 18 Наивный Байес(МО Крис Элбон).ipynb\n",
      "Глава 19 Кластеризация(МО Крис Элбон).ipynb\n",
      "Глава 2 Загрузка данных (МО Крис Элбон).ipynb\n",
      "Глава 2 Строки и текст (Python Дэвид Бизли).ipynb\n",
      "Глава 20 Нейронные сети(МО Крис Элбон).ipynb\n",
      "Глава 21 Сохранение и загрузка натренированных моделей(МО Крис Элбон).ipynb\n",
      "Глава 3 Упорядочение данных(MO Крис Элбон).ipynb\n",
      "Глава 3 Числа, даты и время(Python Дэвид Бизли).ipynb\n",
      "Глава 4 Итераторы и генераторы(Python Дэвид Бизли).ipynb\n",
      "Глава 4 Работа с числовыми данными(МО Крис Элбон).ipynb\n",
      "Глава 5 Работа с категориальными данными (МО Крис Элбон).ipynb\n",
      "Глава 5 Файлы и ввод-вывод(Python Дэвид Бизли).ipynb\n",
      "Глава 6 Работа с текстом(МО Крис Элбон).ipynb\n",
      "Глава 7 Работа с датами и временем(МО Крис Элбон).ipynb\n",
      "Глава 8 Работа с изображениями(МО Крис Элбон).ipynb\n",
      "Глава 9 Снижение размерности с помощью выделения признаков(МО Крис Элбон).ipynb\n",
      "Глава _6_Загрузка, хранение и форматы файлов.ipynb\n",
      "Глава_4_Основы NumPy.ipynb\n",
      "Глава_5_Pandas.ipynb\n",
      "главное меню\n",
      "Домашнее задание по градиентному бустингу.ipynb\n",
      "Лабораторная BigData2.ipynb\n",
      "Мои документы\n",
      "Оптимизация (Студенты).ipynb\n",
      "Подбор параметров и итоговая практика(студенты).ipynb\n",
      "Подбор параметров и итоговая практика_slack.ipynb\n",
      "Функции потерь и оптимизация.ipynb\n",
      "Цвета.ipynb\n",
      "Шаблоны\n"
     ]
    }
   ],
   "source": [
    "for name in files:\n",
    "    print(name)"
   ]
  },
  {
   "cell_type": "markdown",
   "metadata": {},
   "source": [
    "Причина падения в том, что символ \\udce4 не является валидным в Unicode. Это вторая половина двухсимвольной комбинации, известной как «суррогатная пара». Поскольку первая часть отсутствует, это не валидный Unicode. Поэтому единственный способ успешно произвести вывод – предпринять корректирующее действие, если встретится неправильное имя файла. Например: "
   ]
  },
  {
   "cell_type": "code",
   "execution_count": 3,
   "metadata": {},
   "outputs": [
    {
     "name": "stdout",
     "output_type": "stream",
     "text": [
      ".anaconda\n",
      ".atom\n",
      ".babel.json\n",
      ".bash_history\n",
      ".conda\n",
      ".condarc\n",
      ".config\n",
      ".git\n",
      ".gitconfig\n",
      ".idea\n",
      ".idlerc\n",
      ".ipfs\n",
      ".ipynb_checkpoints\n",
      ".ipython\n",
      ".jupyter\n",
      ".keras\n",
      ".local\n",
      ".matplotlib\n",
      ".node-gyp\n",
      ".node_repl_history\n",
      ".PyCharm2017.2\n",
      ".PyCharmCE2017.2\n",
      ".ssh\n",
      ".surprise_data\n",
      ".viminfo\n",
      ".windows-build-tools\n",
      "001-colorspace.ipynb\n",
      "001-filtering.ipynb\n",
      "001-medianfilter.ipynb\n",
      "001-sobel.ipynb\n",
      "002-cbir.ipynb\n",
      "002-digit.ipynb\n",
      "002-digit_old.ipynb\n",
      "002-matching.ipynb\n",
      "002-pca.ipynb\n",
      "003-graphcut.ipynb\n",
      "003-tracking.ipynb\n",
      "003-viola-jones.ipynb\n",
      "003-watershed.ipynb\n",
      "004-classification.ipynb\n",
      "004-logic.ipynb\n",
      "004-mnist.ipynb\n",
      "004-regression.ipynb\n",
      "005-cnn-mnist.ipynb\n",
      "005-neural-style.ipynb\n",
      "006-dogs-vs-cats.ipynb\n",
      "007-detection.ipynb\n",
      "007-segmentation.ipynb\n",
      "1 decision trees.ipynb\n",
      "1. kNN.ipynb\n",
      "1_boston.ipynb\n",
      "1_intro.ipynb\n",
      "2 competition.ipynb\n",
      "2. barley-break.ipynb\n",
      "2_classification.ipynb\n",
      "2_newspapers.ipynb\n",
      "2_RussianNER.ipynb\n",
      "2_syntax.ipynb\n",
      "2_titanic.ipynb\n",
      "3 metrics.ipynb\n",
      "3. Levenshtein distance.ipynb\n",
      "3D Objects\n",
      "4 vedomosti parsing.ipynb\n",
      "4. Jaccard.ipynb\n",
      "5 vedomosti classifying.ipynb\n",
      "5. kNN NBA.ipynb\n",
      "6 homework.ipynb\n",
      "6. kNN regression.ipynb\n",
      "7. kNN digits.ipynb\n",
      "abalone.csv\n",
      "adult.csv\n",
      "adult1.csv\n",
      "ad_campaign.csv\n",
      "ad_campaigns.xlsx\n",
      "affair_data.csv\n",
      "aml-11.1cw\n",
      "aml-11.2cw\n",
      "aml-23hw.ipynb\n",
      "aml-cw11-1.ipynb\n",
      "aml-cw11-2.ipynb\n",
      "aml-cw12-1.ipynb\n",
      "aml-cw12-2.ipynb\n",
      "aml-hw23.ipynb\n",
      "aml-hw7.ipynb\n",
      "aml-hw8.ipynb\n",
      "aml-hw9.ipynb\n",
      "Anaconda3\n",
      "Anaconda_help.ipynb\n",
      "AppData\n",
      "Application Data\n",
      "arrays_xyz.npz\n",
      "arrays_xyz_c.npz\n",
      "array_archive.npz\n",
      "array_x.csv\n",
      "array_x.npy\n",
      "array_x.txt\n",
      "athletes.csv\n",
      "athletes_classifier.ipynb\n",
      "banki_responses.json\n",
      "bd-cw4pandas.ipynb\n",
      "bd-hw4.ipynb\n",
      "bd-hw7 .ipynb\n",
      "bd_hw1.ipynb\n",
      "bigdata_final_hw.ipynb\n",
      "blockchain\n",
      "book.txt\n",
      "brand-logo-detection-dataset\n",
      "Chapter 1 - Linear Regression.ipynb\n",
      "checkpoint.hdf5\n",
      "clustering_inclass.ipynb\n",
      "coins.jpg\n",
      "Contacts\n",
      "control.csv\n",
      "Cookies\n",
      "coursera_1week.ipynb\n",
      "coursera_1week_2task.ipynb\n",
      "Creative Cloud Files\n",
      "credit_homework.csv\n",
      "crimes.csv\n",
      "cross_val_score.ipynb\n",
      "CSV1.csv\n",
      "CSV2.csv\n",
      "CSV3.csv\n",
      "CSV5.csv\n",
      "CSVexel.xlsx\n",
      "CSVnew.csv\n",
      "csv_exel_files.ipynb\n",
      "data\n",
      "data.bin\n",
      "data.csv\n",
      "data.tar.gz\n",
      "dataset.1.2.1.tsv\n",
      "data_clients.ipynb\n",
      "data_description.txt\n",
      "data_sample_example1.3.2.tsv\n",
      "derby.log\n",
      "Desktop\n",
      "dl-hw7_2.ipynb\n",
      "Documents\n",
      "dog_cats.py\n",
      "Downloads\n",
      "Dropbox\n",
      "edb_languagepack_10.exe\n",
      "example.csv\n",
      "Favorites\n",
      "gender_submission.csv\n",
      "geo.xlsx\n",
      "geo_comment.xlsx\n",
      "Gradient_descent.ipynb\n",
      "haarcascade_eye.xml\n",
      "haarcascade_frontalface_default.xml\n",
      "hackathon-final.ipynb\n",
      "hash1\n",
      "Homework 4.ipynb\n",
      "homework clustering.ipynb\n",
      "Homework Module 3 (1).ipynb\n",
      "Homework.ipynb\n",
      "Homework_8.ipynb\n",
      "homework_l7.ipynb\n",
      "house_prices.csv\n",
      "HW1_banki_TM-and-classification.ipynb\n",
      "hw6.ipynb\n",
      "hw7.ipynb\n",
      "hw_test\n",
      "hw_train\n",
      "img\n",
      "IntelGraphicsProfiles\n",
      "IntroductionToML - Homework.ipynb\n",
      "Iris_dataset.ipynb\n",
      "ItemsBasedSimilarity.ipynb\n",
      "jalapeño.txt\n",
      "kernel769896d080.ipynb\n",
      "Learning_to_Program_in_Python1_Data_types_operators_I-O.ipynb\n",
      "lecture-1.ipynb\n",
      "lecture-2.ipynb\n",
      "lena.png\n",
      "libs.ipynb\n",
      "lightfm_data\n",
      "Linear regression.ipynb\n",
      "Links\n",
      "Local Settings\n",
      "Logistic_regression_athletes_classifier.ipynb\n",
      "Logres_affair.ipynb\n",
      "lstm_text_generation_solution.ipynb\n",
      "LSTM_WKI.ipynb\n",
      "merged_file_.txt\n",
      "messi5.jpg\n",
      "metastore_db\n",
      "MicrosoftEdgeBackups\n",
      "ml-cw10-2.ipynb\n",
      "ml-cw10.ipynb\n",
      "ml-hw8.ipynb\n",
      "mnist_intro.ipynb\n",
      "monet.jpg\n",
      "moscow.jpg\n",
      "movies.csv\n",
      "Music\n",
      "my_object_detection_2.ipynb\n",
      "my_object_detection_tutorial.ipynb\n",
      "my_object_detection__.ipynb\n",
      "my_train.ipynb\n",
      "NetHood\n",
      "neural_style_0.png\n",
      "neural_style_1.png\n",
      "neural_style_2.png\n",
      "nlp-course-netology-master\n",
      "nov2017\n",
      "NTUSER.DAT\n",
      "ntuser.dat.LOG1\n",
      "ntuser.dat.LOG2\n",
      "NTUSER.DAT{b49da1ff-d007-11e9-b55c-bae30c5e365f}.TM.blf\n",
      "NTUSER.DAT{b49da1ff-d007-11e9-b55c-bae30c5e365f}.TMContainer00000000000000000001.regtrans-ms\n",
      "NTUSER.DAT{b49da1ff-d007-11e9-b55c-bae30c5e365f}.TMContainer00000000000000000002.regtrans-ms\n",
      "ntuser.ini\n",
      "Numpy(Дж_Вандер_Плас).ipynb\n",
      "Numpy.ipynb\n",
      "ocean.jpg\n",
      "OneDrive\n",
      "output.png\n",
      "pandas_dataframe1.2.1.ipynb\n",
      "pandas_indexing_selection1.3.2.ipynb\n",
      "passwd.txt\n",
      "pd1.ipynb\n",
      "pd2.ipynb\n",
      "pd3.ipynb\n",
      "picasso.jpg\n",
      "Pictures\n",
      "pipeline.config\n",
      "pipeline_cube.config\n",
      "plot_tree.py\n",
      "power.csv\n",
      "PrintHood\n",
      "pycharm-community-2017.2.1.exe\n",
      "pycharm-professional-2017.2.1.exe\n",
      "PycharmProjects\n",
      "PySpark_for_students.ipynb\n",
      "python\n",
      "Python_1.ipynb\n",
      "Python_10.ipynb\n",
      "Python_11.ipynb\n",
      "Python_12.ipynb\n",
      "Python_14.ipynb\n",
      "Python_15.ipynb\n",
      "Python_16.ipynb\n",
      "Python_17.ipynb\n",
      "Python_18.ipynb\n",
      "Python_19.ipynb\n",
      "Python_2.ipynb\n",
      "Python_20.ipynb\n",
      "Python_3.ipynb\n",
      "Python_4.ipynb\n",
      "Python_5.ipynb\n",
      "Python_6.ipynb\n",
      "Python_7.ipynb\n",
      "Python_8.ipynb\n",
      "Python_9.ipynb\n",
      "Question.ipynb\n",
      "Recent\n",
      "RecommenderHackathon.ipynb\n",
      "RecommenderSystem.ipynb\n",
      "Regression_cars.ipynb\n",
      "sample.db\n",
      "sample_submission.csv\n",
      "sample_submission_titanic.csv\n",
      "sat.txt\n",
      "SAT_model.ipynb\n",
      "Saved Games\n",
      "SciPy-Optimization1.3.4.ipynb\n",
      "Searches\n",
      "SendTo\n",
      "sept2017\n",
      "shelter\n",
      "skillfactory-dl-2-screencast.ipynb\n",
      "somefile.bin\n",
      "somefile.txt\n",
      "somefile1.txt\n",
      "somefile777.data\n",
      "somefile8.txt\n",
      "somefile9.txt\n",
      "some_array.npy\n",
      "sorted_file_1.txt\n",
      "sorted_file_2.txt\n",
      "Spark.ipynb\n",
      "SparkDataframe.ipynb\n",
      "styled_monet_0.png\n",
      "submission.txt\n",
      "submit.csv\n",
      "submit.txt\n",
      "submit2.csv\n",
      "submit_titanic.csv\n",
      "tags.csv\n",
      "test\n",
      "test.csv\n",
      "test.out\n",
      "test1.out\n",
      "test_hotdogs\n",
      "test_titanic.csv\n",
      "test_user_id.list\n",
      "test_X.pickle\n",
      "titanic.csv\n",
      "titanic.ipynb\n",
      "Tracing\n",
      "train\n",
      "train.csv\n",
      "train_hotdogs\n",
      "train_hotdogs.rar\n",
      "train_titanic.csv\n",
      "transactions.csv\n",
      "unsupervised.json\n",
      "Unsupervised_Text_SVD_KMeans.ipynb\n",
      "Untitled.ipynb\n",
      "Untitled1.ipynb\n",
      "Untitled10.ipynb\n",
      "Untitled11.ipynb\n",
      "Untitled12.ipynb\n",
      "Untitled13.ipynb\n",
      "Untitled14.ipynb\n",
      "Untitled15.ipynb\n",
      "Untitled16.ipynb\n",
      "Untitled17.ipynb\n",
      "Untitled18.ipynb\n",
      "Untitled19.ipynb\n",
      "Untitled2.ipynb\n",
      "Untitled3.ipynb\n",
      "Untitled4.ipynb\n",
      "Untitled5.ipynb\n",
      "Untitled6.ipynb\n",
      "Untitled7.ipynb\n",
      "Untitled8.ipynb\n",
      "Untitled9.ipynb\n",
      "updated_dataset.csv\n",
      "vector_operations.ipynb\n",
      "Videos\n",
      "wiki_math\n",
      "wiki_math1\n",
      "Word2Vec.ipynb\n",
      "word_vecs.py\n",
      "__pycache__\n",
      "Ансамбли (для Студентов).ipynb\n",
      "Введение_в_Python.ipynb\n",
      "Глава 1 Векторы, матрицы массивы.ipynb\n",
      "Глава 1 Структуры данных и алгоритмы.ipynb\n",
      "Глава 10 Снижение размерности с помощью отбора признаков(МО Крис Элбон).ipynb\n",
      "Глава 11 Оценивание моделей(МО Крис Элбон).ipynb\n",
      "Глава 12 Отбор моделей(МО Крис Элбон).ipynb\n",
      "Глава 13 Линейная регрессия(МО Крис Элбон).ipynb\n",
      "Глава 14 Деревья и леса(МО Крис Элбон).ipynb\n",
      "Глава 15 К ближайших соседей(МО Крис Элбон).ipynb\n",
      "Глава 16 Логистическая регрессия(МО Крис Элбон).ipynb\n",
      "Глава 17 Опорно-векторные машины(МО Крис Элбон).ipynb\n",
      "Глава 18 Наивный Байес(МО Крис Элбон).ipynb\n",
      "Глава 19 Кластеризация(МО Крис Элбон).ipynb\n",
      "Глава 2 Загрузка данных (МО Крис Элбон).ipynb\n",
      "Глава 2 Строки и текст (Python Дэвид Бизли).ipynb\n",
      "Глава 20 Нейронные сети(МО Крис Элбон).ipynb\n",
      "Глава 21 Сохранение и загрузка натренированных моделей(МО Крис Элбон).ipynb\n",
      "Глава 3 Упорядочение данных(MO Крис Элбон).ipynb\n",
      "Глава 3 Числа, даты и время(Python Дэвид Бизли).ipynb\n",
      "Глава 4 Итераторы и генераторы(Python Дэвид Бизли).ipynb\n",
      "Глава 4 Работа с числовыми данными(МО Крис Элбон).ipynb\n",
      "Глава 5 Работа с категориальными данными (МО Крис Элбон).ipynb\n",
      "Глава 5 Файлы и ввод-вывод(Python Дэвид Бизли).ipynb\n",
      "Глава 6 Работа с текстом(МО Крис Элбон).ipynb\n",
      "Глава 7 Работа с датами и временем(МО Крис Элбон).ipynb\n",
      "Глава 8 Работа с изображениями(МО Крис Элбон).ipynb\n",
      "Глава 9 Снижение размерности с помощью выделения признаков(МО Крис Элбон).ipynb\n",
      "Глава _6_Загрузка, хранение и форматы файлов.ipynb\n",
      "Глава_4_Основы NumPy.ipynb\n",
      "Глава_5_Pandas.ipynb\n",
      "главное меню\n",
      "Домашнее задание по градиентному бустингу.ipynb\n",
      "Лабораторная BigData2.ipynb\n",
      "Мои документы\n",
      "Оптимизация (Студенты).ipynb\n",
      "Подбор параметров и итоговая практика(студенты).ipynb\n",
      "Подбор параметров и итоговая практика_slack.ipynb\n",
      "Функции потерь и оптимизация.ipynb\n",
      "Цвета.ipynb\n",
      "Шаблоны\n"
     ]
    }
   ],
   "source": [
    "for name in files:\n",
    "    try:\n",
    "        print(name)\n",
    "    except UniccodeEncodeError:\n",
    "        print(bad_filename(name))"
   ]
  },
  {
   "cell_type": "markdown",
   "metadata": {},
   "source": [
    "Выбор того, что будет делать функция bad_filename(), во многом зависит от вас. Другая возможность – как-то перекодировать значение: "
   ]
  },
  {
   "cell_type": "code",
   "execution_count": 4,
   "metadata": {},
   "outputs": [],
   "source": [
    "def bad_filename(filename):\n",
    "    temp = filename.encode(sys.getfilesystemencoding(), \\\n",
    "                          errors = 'surrogateescape')\n",
    "    return temp.decode('latin-1')"
   ]
  },
  {
   "cell_type": "markdown",
   "metadata": {},
   "source": [
    "При использовании этой версии вы получите следующее: "
   ]
  },
  {
   "cell_type": "code",
   "execution_count": 5,
   "metadata": {},
   "outputs": [
    {
     "name": "stdout",
     "output_type": "stream",
     "text": [
      ".anaconda\n",
      ".atom\n",
      ".babel.json\n",
      ".bash_history\n",
      ".conda\n",
      ".condarc\n",
      ".config\n",
      ".git\n",
      ".gitconfig\n",
      ".idea\n",
      ".idlerc\n",
      ".ipfs\n",
      ".ipynb_checkpoints\n",
      ".ipython\n",
      ".jupyter\n",
      ".keras\n",
      ".local\n",
      ".matplotlib\n",
      ".node-gyp\n",
      ".node_repl_history\n",
      ".PyCharm2017.2\n",
      ".PyCharmCE2017.2\n",
      ".ssh\n",
      ".surprise_data\n",
      ".viminfo\n",
      ".windows-build-tools\n",
      "001-colorspace.ipynb\n",
      "001-filtering.ipynb\n",
      "001-medianfilter.ipynb\n",
      "001-sobel.ipynb\n",
      "002-cbir.ipynb\n",
      "002-digit.ipynb\n",
      "002-digit_old.ipynb\n",
      "002-matching.ipynb\n",
      "002-pca.ipynb\n",
      "003-graphcut.ipynb\n",
      "003-tracking.ipynb\n",
      "003-viola-jones.ipynb\n",
      "003-watershed.ipynb\n",
      "004-classification.ipynb\n",
      "004-logic.ipynb\n",
      "004-mnist.ipynb\n",
      "004-regression.ipynb\n",
      "005-cnn-mnist.ipynb\n",
      "005-neural-style.ipynb\n",
      "006-dogs-vs-cats.ipynb\n",
      "007-detection.ipynb\n",
      "007-segmentation.ipynb\n",
      "1 decision trees.ipynb\n",
      "1. kNN.ipynb\n",
      "1_boston.ipynb\n",
      "1_intro.ipynb\n",
      "2 competition.ipynb\n",
      "2. barley-break.ipynb\n",
      "2_classification.ipynb\n",
      "2_newspapers.ipynb\n",
      "2_RussianNER.ipynb\n",
      "2_syntax.ipynb\n",
      "2_titanic.ipynb\n",
      "3 metrics.ipynb\n",
      "3. Levenshtein distance.ipynb\n",
      "3D Objects\n",
      "4 vedomosti parsing.ipynb\n",
      "4. Jaccard.ipynb\n",
      "5 vedomosti classifying.ipynb\n",
      "5. kNN NBA.ipynb\n",
      "6 homework.ipynb\n",
      "6. kNN regression.ipynb\n",
      "7. kNN digits.ipynb\n",
      "abalone.csv\n",
      "adult.csv\n",
      "adult1.csv\n",
      "ad_campaign.csv\n",
      "ad_campaigns.xlsx\n",
      "affair_data.csv\n",
      "aml-11.1cw\n",
      "aml-11.2cw\n",
      "aml-23hw.ipynb\n",
      "aml-cw11-1.ipynb\n",
      "aml-cw11-2.ipynb\n",
      "aml-cw12-1.ipynb\n",
      "aml-cw12-2.ipynb\n",
      "aml-hw23.ipynb\n",
      "aml-hw7.ipynb\n",
      "aml-hw8.ipynb\n",
      "aml-hw9.ipynb\n",
      "Anaconda3\n",
      "Anaconda_help.ipynb\n",
      "AppData\n",
      "Application Data\n",
      "arrays_xyz.npz\n",
      "arrays_xyz_c.npz\n",
      "array_archive.npz\n",
      "array_x.csv\n",
      "array_x.npy\n",
      "array_x.txt\n",
      "athletes.csv\n",
      "athletes_classifier.ipynb\n",
      "banki_responses.json\n",
      "bd-cw4pandas.ipynb\n",
      "bd-hw4.ipynb\n",
      "bd-hw7 .ipynb\n",
      "bd_hw1.ipynb\n",
      "bigdata_final_hw.ipynb\n",
      "blockchain\n",
      "book.txt\n",
      "brand-logo-detection-dataset\n",
      "Chapter 1 - Linear Regression.ipynb\n",
      "checkpoint.hdf5\n",
      "clustering_inclass.ipynb\n",
      "coins.jpg\n",
      "Contacts\n",
      "control.csv\n",
      "Cookies\n",
      "coursera_1week.ipynb\n",
      "coursera_1week_2task.ipynb\n",
      "Creative Cloud Files\n",
      "credit_homework.csv\n",
      "crimes.csv\n",
      "cross_val_score.ipynb\n",
      "CSV1.csv\n",
      "CSV2.csv\n",
      "CSV3.csv\n",
      "CSV5.csv\n",
      "CSVexel.xlsx\n",
      "CSVnew.csv\n",
      "csv_exel_files.ipynb\n",
      "data\n",
      "data.bin\n",
      "data.csv\n",
      "data.tar.gz\n",
      "dataset.1.2.1.tsv\n",
      "data_clients.ipynb\n",
      "data_description.txt\n",
      "data_sample_example1.3.2.tsv\n",
      "derby.log\n",
      "Desktop\n",
      "dl-hw7_2.ipynb\n",
      "Documents\n",
      "dog_cats.py\n",
      "Downloads\n",
      "Dropbox\n",
      "edb_languagepack_10.exe\n",
      "example.csv\n",
      "Favorites\n",
      "gender_submission.csv\n",
      "geo.xlsx\n",
      "geo_comment.xlsx\n",
      "Gradient_descent.ipynb\n",
      "haarcascade_eye.xml\n",
      "haarcascade_frontalface_default.xml\n",
      "hackathon-final.ipynb\n",
      "hash1\n",
      "Homework 4.ipynb\n",
      "homework clustering.ipynb\n",
      "Homework Module 3 (1).ipynb\n",
      "Homework.ipynb\n",
      "Homework_8.ipynb\n",
      "homework_l7.ipynb\n",
      "house_prices.csv\n",
      "HW1_banki_TM-and-classification.ipynb\n",
      "hw6.ipynb\n",
      "hw7.ipynb\n",
      "hw_test\n",
      "hw_train\n",
      "img\n",
      "IntelGraphicsProfiles\n",
      "IntroductionToML - Homework.ipynb\n",
      "Iris_dataset.ipynb\n",
      "ItemsBasedSimilarity.ipynb\n",
      "jalapeño.txt\n",
      "kernel769896d080.ipynb\n",
      "Learning_to_Program_in_Python1_Data_types_operators_I-O.ipynb\n",
      "lecture-1.ipynb\n",
      "lecture-2.ipynb\n",
      "lena.png\n",
      "libs.ipynb\n",
      "lightfm_data\n",
      "Linear regression.ipynb\n",
      "Links\n",
      "Local Settings\n",
      "Logistic_regression_athletes_classifier.ipynb\n",
      "Logres_affair.ipynb\n",
      "lstm_text_generation_solution.ipynb\n",
      "LSTM_WKI.ipynb\n",
      "merged_file_.txt\n",
      "messi5.jpg\n",
      "metastore_db\n",
      "MicrosoftEdgeBackups\n",
      "ml-cw10-2.ipynb\n",
      "ml-cw10.ipynb\n",
      "ml-hw8.ipynb\n",
      "mnist_intro.ipynb\n",
      "monet.jpg\n",
      "moscow.jpg\n",
      "movies.csv\n",
      "Music\n",
      "my_object_detection_2.ipynb\n",
      "my_object_detection_tutorial.ipynb\n",
      "my_object_detection__.ipynb\n",
      "my_train.ipynb\n",
      "NetHood\n",
      "neural_style_0.png\n",
      "neural_style_1.png\n",
      "neural_style_2.png\n",
      "nlp-course-netology-master\n",
      "nov2017\n",
      "NTUSER.DAT\n",
      "ntuser.dat.LOG1\n",
      "ntuser.dat.LOG2\n",
      "NTUSER.DAT{b49da1ff-d007-11e9-b55c-bae30c5e365f}.TM.blf\n",
      "NTUSER.DAT{b49da1ff-d007-11e9-b55c-bae30c5e365f}.TMContainer00000000000000000001.regtrans-ms\n",
      "NTUSER.DAT{b49da1ff-d007-11e9-b55c-bae30c5e365f}.TMContainer00000000000000000002.regtrans-ms\n",
      "ntuser.ini\n",
      "Numpy(Дж_Вандер_Плас).ipynb\n",
      "Numpy.ipynb\n",
      "ocean.jpg\n",
      "OneDrive\n",
      "output.png\n",
      "pandas_dataframe1.2.1.ipynb\n",
      "pandas_indexing_selection1.3.2.ipynb\n",
      "passwd.txt\n",
      "pd1.ipynb\n",
      "pd2.ipynb\n",
      "pd3.ipynb\n",
      "picasso.jpg\n",
      "Pictures\n",
      "pipeline.config\n",
      "pipeline_cube.config\n",
      "plot_tree.py\n",
      "power.csv\n",
      "PrintHood\n",
      "pycharm-community-2017.2.1.exe\n",
      "pycharm-professional-2017.2.1.exe\n",
      "PycharmProjects\n",
      "PySpark_for_students.ipynb\n",
      "python\n",
      "Python_1.ipynb\n",
      "Python_10.ipynb\n",
      "Python_11.ipynb\n",
      "Python_12.ipynb\n",
      "Python_14.ipynb\n",
      "Python_15.ipynb\n",
      "Python_16.ipynb\n",
      "Python_17.ipynb\n",
      "Python_18.ipynb\n",
      "Python_19.ipynb\n",
      "Python_2.ipynb\n",
      "Python_20.ipynb\n",
      "Python_3.ipynb\n",
      "Python_4.ipynb\n",
      "Python_5.ipynb\n",
      "Python_6.ipynb\n",
      "Python_7.ipynb\n",
      "Python_8.ipynb\n",
      "Python_9.ipynb\n",
      "Question.ipynb\n",
      "Recent\n",
      "RecommenderHackathon.ipynb\n",
      "RecommenderSystem.ipynb\n",
      "Regression_cars.ipynb\n",
      "sample.db\n",
      "sample_submission.csv\n",
      "sample_submission_titanic.csv\n",
      "sat.txt\n",
      "SAT_model.ipynb\n",
      "Saved Games\n",
      "SciPy-Optimization1.3.4.ipynb\n",
      "Searches\n",
      "SendTo\n",
      "sept2017\n",
      "shelter\n",
      "skillfactory-dl-2-screencast.ipynb\n",
      "somefile.bin\n",
      "somefile.txt\n",
      "somefile1.txt\n",
      "somefile777.data\n",
      "somefile8.txt\n",
      "somefile9.txt\n",
      "some_array.npy\n",
      "sorted_file_1.txt\n",
      "sorted_file_2.txt\n",
      "Spark.ipynb\n",
      "SparkDataframe.ipynb\n",
      "styled_monet_0.png\n",
      "submission.txt\n",
      "submit.csv\n",
      "submit.txt\n",
      "submit2.csv\n",
      "submit_titanic.csv\n",
      "tags.csv\n",
      "test\n",
      "test.csv\n",
      "test.out\n",
      "test1.out\n",
      "test_hotdogs\n",
      "test_titanic.csv\n",
      "test_user_id.list\n",
      "test_X.pickle\n",
      "titanic.csv\n",
      "titanic.ipynb\n",
      "Tracing\n",
      "train\n",
      "train.csv\n",
      "train_hotdogs\n",
      "train_hotdogs.rar\n",
      "train_titanic.csv\n",
      "transactions.csv\n",
      "unsupervised.json\n",
      "Unsupervised_Text_SVD_KMeans.ipynb\n",
      "Untitled.ipynb\n",
      "Untitled1.ipynb\n",
      "Untitled10.ipynb\n",
      "Untitled11.ipynb\n",
      "Untitled12.ipynb\n",
      "Untitled13.ipynb\n",
      "Untitled14.ipynb\n",
      "Untitled15.ipynb\n",
      "Untitled16.ipynb\n",
      "Untitled17.ipynb\n",
      "Untitled18.ipynb\n",
      "Untitled19.ipynb\n",
      "Untitled2.ipynb\n",
      "Untitled3.ipynb\n",
      "Untitled4.ipynb\n",
      "Untitled5.ipynb\n",
      "Untitled6.ipynb\n",
      "Untitled7.ipynb\n",
      "Untitled8.ipynb\n",
      "Untitled9.ipynb\n",
      "updated_dataset.csv\n",
      "vector_operations.ipynb\n",
      "Videos\n",
      "wiki_math\n",
      "wiki_math1\n",
      "Word2Vec.ipynb\n",
      "word_vecs.py\n",
      "__pycache__\n",
      "Ансамбли (для Студентов).ipynb\n",
      "Введение_в_Python.ipynb\n",
      "Глава 1 Векторы, матрицы массивы.ipynb\n",
      "Глава 1 Структуры данных и алгоритмы.ipynb\n",
      "Глава 10 Снижение размерности с помощью отбора признаков(МО Крис Элбон).ipynb\n",
      "Глава 11 Оценивание моделей(МО Крис Элбон).ipynb\n",
      "Глава 12 Отбор моделей(МО Крис Элбон).ipynb\n",
      "Глава 13 Линейная регрессия(МО Крис Элбон).ipynb\n",
      "Глава 14 Деревья и леса(МО Крис Элбон).ipynb\n",
      "Глава 15 К ближайших соседей(МО Крис Элбон).ipynb\n",
      "Глава 16 Логистическая регрессия(МО Крис Элбон).ipynb\n",
      "Глава 17 Опорно-векторные машины(МО Крис Элбон).ipynb\n",
      "Глава 18 Наивный Байес(МО Крис Элбон).ipynb\n",
      "Глава 19 Кластеризация(МО Крис Элбон).ipynb\n",
      "Глава 2 Загрузка данных (МО Крис Элбон).ipynb\n",
      "Глава 2 Строки и текст (Python Дэвид Бизли).ipynb\n",
      "Глава 20 Нейронные сети(МО Крис Элбон).ipynb\n",
      "Глава 21 Сохранение и загрузка натренированных моделей(МО Крис Элбон).ipynb\n",
      "Глава 3 Упорядочение данных(MO Крис Элбон).ipynb\n",
      "Глава 3 Числа, даты и время(Python Дэвид Бизли).ipynb\n",
      "Глава 4 Итераторы и генераторы(Python Дэвид Бизли).ipynb\n",
      "Глава 4 Работа с числовыми данными(МО Крис Элбон).ipynb\n",
      "Глава 5 Работа с категориальными данными (МО Крис Элбон).ipynb\n",
      "Глава 5 Файлы и ввод-вывод(Python Дэвид Бизли).ipynb\n",
      "Глава 6 Работа с текстом(МО Крис Элбон).ipynb\n",
      "Глава 7 Работа с датами и временем(МО Крис Элбон).ipynb\n",
      "Глава 8 Работа с изображениями(МО Крис Элбон).ipynb\n",
      "Глава 9 Снижение размерности с помощью выделения признаков(МО Крис Элбон).ipynb\n",
      "Глава _6_Загрузка, хранение и форматы файлов.ipynb\n",
      "Глава_4_Основы NumPy.ipynb\n",
      "Глава_5_Pandas.ipynb\n",
      "главное меню\n",
      "Домашнее задание по градиентному бустингу.ipynb\n",
      "Лабораторная BigData2.ipynb\n",
      "Мои документы\n",
      "Оптимизация (Студенты).ipynb\n",
      "Подбор параметров и итоговая практика(студенты).ipynb\n",
      "Подбор параметров и итоговая практика_slack.ipynb\n",
      "Функции потерь и оптимизация.ipynb\n",
      "Цвета.ipynb\n",
      "Шаблоны\n"
     ]
    }
   ],
   "source": [
    "for name in files:\n",
    "    try:\n",
    "        print(name)\n",
    "    except UniccodeEncodeError:\n",
    "        print(bad_filename(name))"
   ]
  },
  {
   "cell_type": "markdown",
   "metadata": {},
   "source": [
    "#  Добавление или изменение кодировки уже открытого файла "
   ]
  },
  {
   "cell_type": "markdown",
   "metadata": {},
   "source": [
    "Вы хотите добавить или изменить кодировку Unicode уже открытого файла, не закрывая его."
   ]
  },
  {
   "cell_type": "markdown",
   "metadata": {},
   "source": [
    "Если вы хотите добавить кодирование/декодирование в Unicode уже существующему файловому объекту, открытому в бинарном режиме, оберните его объектом io.TextIOWrapper(). Например: "
   ]
  },
  {
   "cell_type": "code",
   "execution_count": 1,
   "metadata": {},
   "outputs": [],
   "source": [
    "import urllib.request\n",
    "import io"
   ]
  },
  {
   "cell_type": "code",
   "execution_count": 2,
   "metadata": {},
   "outputs": [],
   "source": [
    "u = urllib.request.urlopen('http://www.python.org')\n",
    "f = io.TextIOWrapper(u, encoding='utf-8')\n",
    "text = f.read()"
   ]
  },
  {
   "cell_type": "code",
   "execution_count": 3,
   "metadata": {},
   "outputs": [
    {
     "data": {
      "text/plain": [
       "48687"
      ]
     },
     "execution_count": 3,
     "metadata": {},
     "output_type": "execute_result"
    }
   ],
   "source": [
    "len(text)"
   ]
  },
  {
   "cell_type": "markdown",
   "metadata": {},
   "source": [
    "Если вы хотите изменить кодировку файла, открытого в текстовом режиме, используйте метод detach() для удаления существующего слоя текстовой кодировки перед заменой его новым. Вот пример изменения кодировки в sys.stdout: "
   ]
  },
  {
   "cell_type": "code",
   "execution_count": null,
   "metadata": {},
   "outputs": [],
   "source": [
    "stdout = sys.stdout"
   ]
  },
  {
   "cell_type": "code",
   "execution_count": 4,
   "metadata": {},
   "outputs": [
    {
     "data": {
      "text/plain": [
       "'UTF-8'"
      ]
     },
     "execution_count": 4,
     "metadata": {},
     "output_type": "execute_result"
    }
   ],
   "source": [
    "import sys\n",
    "sys.stdout.encoding"
   ]
  },
  {
   "cell_type": "code",
   "execution_count": 5,
   "metadata": {},
   "outputs": [
    {
     "ename": "UnsupportedOperation",
     "evalue": "detach",
     "output_type": "error",
     "traceback": [
      "\u001b[1;31m---------------------------------------------------------------------------\u001b[0m",
      "\u001b[1;31mUnsupportedOperation\u001b[0m                      Traceback (most recent call last)",
      "\u001b[1;32m<ipython-input-5-eaec58c0db49>\u001b[0m in \u001b[0;36m<module>\u001b[1;34m()\u001b[0m\n\u001b[1;32m----> 1\u001b[1;33m \u001b[0msys\u001b[0m\u001b[1;33m.\u001b[0m\u001b[0mstdout\u001b[0m \u001b[1;33m=\u001b[0m \u001b[0mio\u001b[0m\u001b[1;33m.\u001b[0m\u001b[0mTextIOWrapper\u001b[0m\u001b[1;33m(\u001b[0m\u001b[0msys\u001b[0m\u001b[1;33m.\u001b[0m\u001b[0mstdout\u001b[0m\u001b[1;33m.\u001b[0m\u001b[0mdetach\u001b[0m\u001b[1;33m(\u001b[0m\u001b[1;33m)\u001b[0m\u001b[1;33m,\u001b[0m \u001b[0mencoding\u001b[0m\u001b[1;33m=\u001b[0m\u001b[1;34m'latin-1'\u001b[0m\u001b[1;33m)\u001b[0m\u001b[1;33m\u001b[0m\u001b[0m\n\u001b[0m\u001b[0;32m      2\u001b[0m \u001b[0msys\u001b[0m\u001b[1;33m.\u001b[0m\u001b[0mstdout\u001b[0m\u001b[1;33m.\u001b[0m\u001b[0mencoding\u001b[0m\u001b[1;33m\u001b[0m\u001b[0m\n",
      "\u001b[1;31mUnsupportedOperation\u001b[0m: detach"
     ]
    }
   ],
   "source": [
    "sys.stdout = io.TextIOWrapper(sys.stdout.detach(), encoding='latin-1')\n",
    "sys.stdout.encoding"
   ]
  },
  {
   "cell_type": "markdown",
   "metadata": {},
   "source": [
    "Если вы это сделаете, то можете «сломать» вывод вашего терминала. Приведенный выше пример – это просто иллюстрация подхода. "
   ]
  },
  {
   "cell_type": "markdown",
   "metadata": {},
   "source": [
    "Система ввода-вывода построена на последовательности слоев. Вы можете увидеть эти слои, если попробуете сделать следующее: "
   ]
  },
  {
   "cell_type": "code",
   "execution_count": 6,
   "metadata": {},
   "outputs": [
    {
     "data": {
      "text/plain": [
       "<_io.TextIOWrapper name='book1.txt' mode='w' encoding='cp1251'>"
      ]
     },
     "execution_count": 6,
     "metadata": {},
     "output_type": "execute_result"
    }
   ],
   "source": [
    "f = open('book1.txt', 'w')\n",
    "f"
   ]
  },
  {
   "cell_type": "code",
   "execution_count": 7,
   "metadata": {},
   "outputs": [
    {
     "data": {
      "text/plain": [
       "<_io.BufferedWriter name='book1.txt'>"
      ]
     },
     "execution_count": 7,
     "metadata": {},
     "output_type": "execute_result"
    }
   ],
   "source": [
    "f.buffer"
   ]
  },
  {
   "cell_type": "code",
   "execution_count": 8,
   "metadata": {},
   "outputs": [
    {
     "data": {
      "text/plain": [
       "<_io.FileIO name='book1.txt' mode='wb' closefd=True>"
      ]
     },
     "execution_count": 8,
     "metadata": {},
     "output_type": "execute_result"
    }
   ],
   "source": [
    "f.buffer.raw"
   ]
  },
  {
   "cell_type": "markdown",
   "metadata": {},
   "source": [
    "В этом примере io.TextIOWrapper – это слой для обработки текста, который кодирует и декодирует в Unicode, ioBufferedWriter – буферизированный слой ввода-вывода, который работает с бинарными данными, а ioFileIO – «сырой файл», представляющий низкоуровневый файловый дескриптор в операционной системе. \n",
    "\n",
    "Добавление или изменение текстовой кодировки вовлекает добавление и изменение только верхнего слоя – io.TextIOWrapper. Общее правило: небезопасно напрямую манипулировать слоями, используя показанные выше атрибуты. Например, вот что произойдет, если вы попытаетесь изменить кодировку с помощью этого приема:"
   ]
  },
  {
   "cell_type": "code",
   "execution_count": 9,
   "metadata": {},
   "outputs": [
    {
     "data": {
      "text/plain": [
       "<_io.TextIOWrapper name='book1.txt' mode='w' encoding='cp1251'>"
      ]
     },
     "execution_count": 9,
     "metadata": {},
     "output_type": "execute_result"
    }
   ],
   "source": [
    "f"
   ]
  },
  {
   "cell_type": "code",
   "execution_count": 10,
   "metadata": {},
   "outputs": [
    {
     "data": {
      "text/plain": [
       "<_io.TextIOWrapper name='book1.txt' encoding='latin-1'>"
      ]
     },
     "execution_count": 10,
     "metadata": {},
     "output_type": "execute_result"
    }
   ],
   "source": [
    "f = io.TextIOWrapper(f.buffer, encoding='latin-1')\n",
    "f"
   ]
  },
  {
   "cell_type": "code",
   "execution_count": 13,
   "metadata": {},
   "outputs": [
    {
     "data": {
      "text/plain": [
       "<_io.TextIOWrapper name='book1.txt' encoding='latin-1'>"
      ]
     },
     "execution_count": 13,
     "metadata": {},
     "output_type": "execute_result"
    }
   ],
   "source": [
    "f = io.TextIOWrapper(f.buffer, encoding='latin-1')\n",
    "f"
   ]
  },
  {
   "cell_type": "code",
   "execution_count": 14,
   "metadata": {},
   "outputs": [
    {
     "data": {
      "text/plain": [
       "5"
      ]
     },
     "execution_count": 14,
     "metadata": {},
     "output_type": "execute_result"
    }
   ],
   "source": [
    "f.write('Hello')"
   ]
  },
  {
   "cell_type": "code",
   "execution_count": 15,
   "metadata": {},
   "outputs": [],
   "source": [
    "f.close()"
   ]
  },
  {
   "cell_type": "markdown",
   "metadata": {},
   "source": [
    "Метод detach() отделяет верхний слой файла и возвращает следующий, более низкоуровневый слой. Далее высший слой уже нельзя использовать. Например: "
   ]
  },
  {
   "cell_type": "code",
   "execution_count": 16,
   "metadata": {},
   "outputs": [
    {
     "data": {
      "text/plain": [
       "<_io.TextIOWrapper name='book2.txt' mode='w' encoding='cp1251'>"
      ]
     },
     "execution_count": 16,
     "metadata": {},
     "output_type": "execute_result"
    }
   ],
   "source": [
    "f = open('book2.txt', 'w')\n",
    "f"
   ]
  },
  {
   "cell_type": "code",
   "execution_count": 17,
   "metadata": {},
   "outputs": [
    {
     "data": {
      "text/plain": [
       "<_io.BufferedWriter name='book2.txt'>"
      ]
     },
     "execution_count": 17,
     "metadata": {},
     "output_type": "execute_result"
    }
   ],
   "source": [
    "b = f.detach()\n",
    "b"
   ]
  },
  {
   "cell_type": "code",
   "execution_count": 18,
   "metadata": {},
   "outputs": [
    {
     "ename": "ValueError",
     "evalue": "underlying buffer has been detached",
     "output_type": "error",
     "traceback": [
      "\u001b[1;31m---------------------------------------------------------------------------\u001b[0m",
      "\u001b[1;31mValueError\u001b[0m                                Traceback (most recent call last)",
      "\u001b[1;32m<ipython-input-18-00cba062fa3d>\u001b[0m in \u001b[0;36m<module>\u001b[1;34m()\u001b[0m\n\u001b[1;32m----> 1\u001b[1;33m \u001b[0mf\u001b[0m\u001b[1;33m.\u001b[0m\u001b[0mwrite\u001b[0m\u001b[1;33m(\u001b[0m\u001b[1;34m'hello'\u001b[0m\u001b[1;33m)\u001b[0m\u001b[1;33m\u001b[0m\u001b[0m\n\u001b[0m",
      "\u001b[1;31mValueError\u001b[0m: underlying buffer has been detached"
     ]
    }
   ],
   "source": [
    "f.write('hello')"
   ]
  },
  {
   "cell_type": "markdown",
   "metadata": {},
   "source": [
    "Однако после отделения вы можете добавить новый верхний слой возвращаемому результату. Например: "
   ]
  },
  {
   "cell_type": "code",
   "execution_count": 19,
   "metadata": {},
   "outputs": [
    {
     "data": {
      "text/plain": [
       "<_io.TextIOWrapper name='book2.txt' encoding='latin-1'>"
      ]
     },
     "execution_count": 19,
     "metadata": {},
     "output_type": "execute_result"
    }
   ],
   "source": [
    "f = io.TextIOWrapper(b, encoding='latin-1')\n",
    "f"
   ]
  },
  {
   "cell_type": "markdown",
   "metadata": {},
   "source": [
    "Хотя здесь мы показали изменение кодировки, этот прием может быть использован для изменения обработки строк, политики обработки ошибок и других аспектов работы с файлами. Например: "
   ]
  },
  {
   "cell_type": "code",
   "execution_count": 20,
   "metadata": {},
   "outputs": [
    {
     "ename": "UnsupportedOperation",
     "evalue": "detach",
     "output_type": "error",
     "traceback": [
      "\u001b[1;31m---------------------------------------------------------------------------\u001b[0m",
      "\u001b[1;31mUnsupportedOperation\u001b[0m                      Traceback (most recent call last)",
      "\u001b[1;32m<ipython-input-20-f43a8af3bb2f>\u001b[0m in \u001b[0;36m<module>\u001b[1;34m()\u001b[0m\n\u001b[1;32m----> 1\u001b[1;33m \u001b[0msys\u001b[0m\u001b[1;33m.\u001b[0m\u001b[0mstdout\u001b[0m \u001b[1;33m=\u001b[0m \u001b[0mio\u001b[0m\u001b[1;33m.\u001b[0m\u001b[0mTextIOWrapper\u001b[0m\u001b[1;33m(\u001b[0m\u001b[0msys\u001b[0m\u001b[1;33m.\u001b[0m\u001b[0mstdout\u001b[0m\u001b[1;33m.\u001b[0m\u001b[0mdetach\u001b[0m\u001b[1;33m(\u001b[0m\u001b[1;33m)\u001b[0m\u001b[1;33m,\u001b[0m \u001b[0mencoding\u001b[0m\u001b[1;33m=\u001b[0m\u001b[1;34m'ascii'\u001b[0m\u001b[1;33m,\u001b[0m \u001b[0merrors\u001b[0m\u001b[1;33m=\u001b[0m\u001b[1;34m'xmlcharrefreplace'\u001b[0m\u001b[1;33m)\u001b[0m\u001b[1;33m\u001b[0m\u001b[0m\n\u001b[0m\u001b[0;32m      2\u001b[0m \u001b[0mprint\u001b[0m\u001b[1;33m(\u001b[0m\u001b[1;34m'Jalape\\u00f1o'\u001b[0m\u001b[1;33m)\u001b[0m\u001b[1;33m\u001b[0m\u001b[0m\n",
      "\u001b[1;31mUnsupportedOperation\u001b[0m: detach"
     ]
    }
   ],
   "source": [
    "sys.stdout = io.TextIOWrapper(sys.stdout.detach(), encoding='ascii', errors='xmlcharrefreplace')\n",
    "print('Jalape\\u00f1o')"
   ]
  },
  {
   "cell_type": "markdown",
   "metadata": {},
   "source": [
    "Заметьте, как не входящий в ASCII символ ñ был заменен на &#241; в выводе. 5.17. запись байтов "
   ]
  },
  {
   "cell_type": "markdown",
   "metadata": {},
   "source": [
    "# Запись байтов в текстовый файл "
   ]
  },
  {
   "cell_type": "markdown",
   "metadata": {},
   "source": [
    "Вы хотите записать «сырые» байты в файл, открытый в текстовом режиме."
   ]
  },
  {
   "cell_type": "markdown",
   "metadata": {},
   "source": [
    "Просто запишите байтовые данные в buffer. Например: "
   ]
  },
  {
   "cell_type": "code",
   "execution_count": 21,
   "metadata": {},
   "outputs": [
    {
     "name": "stdout",
     "output_type": "stream",
     "text": [
      "Hello\n"
     ]
    }
   ],
   "source": [
    "#в терминале так не работает\n",
    "import sys\n",
    "sys.stdout.write(b'Hello\\n')"
   ]
  },
  {
   "cell_type": "code",
   "execution_count": 22,
   "metadata": {},
   "outputs": [
    {
     "ename": "AttributeError",
     "evalue": "'OutStream' object has no attribute 'buffer'",
     "output_type": "error",
     "traceback": [
      "\u001b[1;31m---------------------------------------------------------------------------\u001b[0m",
      "\u001b[1;31mAttributeError\u001b[0m                            Traceback (most recent call last)",
      "\u001b[1;32m<ipython-input-22-1ba611611e07>\u001b[0m in \u001b[0;36m<module>\u001b[1;34m()\u001b[0m\n\u001b[1;32m----> 1\u001b[1;33m \u001b[0msys\u001b[0m\u001b[1;33m.\u001b[0m\u001b[0mstdout\u001b[0m\u001b[1;33m.\u001b[0m\u001b[0mbuffer\u001b[0m\u001b[1;33m.\u001b[0m\u001b[0mwrite\u001b[0m\u001b[1;33m(\u001b[0m\u001b[1;34mb'Hello\\n'\u001b[0m\u001b[1;33m)\u001b[0m\u001b[1;33m\u001b[0m\u001b[0m\n\u001b[0m",
      "\u001b[1;31mAttributeError\u001b[0m: 'OutStream' object has no attribute 'buffer'"
     ]
    }
   ],
   "source": [
    "#в терминале так работает\n",
    "sys.stdout.buffer.write(b'Hello\\n')"
   ]
  },
  {
   "cell_type": "markdown",
   "metadata": {},
   "source": [
    "Похожим образом бинарные данные могут быть прочитаны из текстового файла путем чтения из атрибута buffer. "
   ]
  },
  {
   "cell_type": "markdown",
   "metadata": {},
   "source": [
    "Система ввода-вывода построена на слоях. Текстовые файлы конструируются путем добавления слоя кодирования/декодирования в Unicode поверх буферизованного файла, открытого в бинарном режиме. Атрибут buffer просто ссылается на этот файл. Если вы обращаетесь к нему, то обходите слой текстового кодирования/ декодирования. Пример с sys.stdout может быть рассмотрен как особый случай. По умолчанию sys.stdout всегда открывается в текстовом режиме. Однако если вы пишете скрипт, которому на самом деле нужно сбрасывать бинарные данные в стандартный вывод, то можете использовать показанный прием для обхода текстовой кодировки. "
   ]
  },
  {
   "cell_type": "markdown",
   "metadata": {},
   "source": [
    "#  Оборачивание существующего дескриптора файла для использования в качестве объекта файла "
   ]
  },
  {
   "cell_type": "markdown",
   "metadata": {},
   "source": [
    "У вас есть целочисленный файловый дескриптор, соответствующий уже открытому каналу ввода­вывода операционной системы (например, файлу, каналу, сокету и т. п.), и вы хотите обернуть его высокоуровневым объектом файла Python. "
   ]
  },
  {
   "cell_type": "markdown",
   "metadata": {},
   "source": [
    "Файловый дескриптор отличается от обычного открытого файла тем, что это просто целочисленный идентификатор, назначенный операционной системой, чтобы ссылаться на какой-то системный канал ввода-вывода. \n",
    "\n",
    "Если у вас есть дескриптор, вы можете обернуть его файловым объектом Python с помощью функции open(). Вы просто предоставляете целочисленный файловый дескриптор в качестве первого аргумента (вместо имени файла). Например: "
   ]
  },
  {
   "cell_type": "code",
   "execution_count": 5,
   "metadata": {},
   "outputs": [],
   "source": [
    "# Открыть низкоуровневый файловый дескриптор \n",
    "import os\n",
    "fd = os.open('book2.txt', os.O_WRONLY | os.O_CREAT)"
   ]
  },
  {
   "cell_type": "code",
   "execution_count": 3,
   "metadata": {},
   "outputs": [],
   "source": [
    "# Превратить в настоящий файл \n",
    "f = open(fd, 'wt')\n",
    "f.write('hello word\\n')\n",
    "f.close()"
   ]
  },
  {
   "cell_type": "markdown",
   "metadata": {},
   "source": [
    "Когда высокоуровневый файловый объект закрывается или разрушается, его файловый дескриптор тоже будет закрыт. Если это нежелательное поведение, передайте необязательный аргумент closefd=False функции open(). Например: "
   ]
  },
  {
   "cell_type": "code",
   "execution_count": 6,
   "metadata": {},
   "outputs": [],
   "source": [
    "# Создать файловый объект, но не закрывать дескриптор по завершении \n",
    "f = open(fd, 'wt', closefd=False)"
   ]
  },
  {
   "cell_type": "code",
   "execution_count": 7,
   "metadata": {},
   "outputs": [],
   "source": [
    "f.close()"
   ]
  },
  {
   "cell_type": "code",
   "execution_count": 8,
   "metadata": {},
   "outputs": [],
   "source": [
    "os.close(fd)"
   ]
  },
  {
   "cell_type": "markdown",
   "metadata": {},
   "source": [
    "В Unix этот прием оборачивания файлового дескриптора может быть удобным способом для подключения файлоподобного интерфейса на существующий канал ввода-вывода, открытый другим способом (например, каналы, сокеты и т. д.). Вот пример с использованием сокетов:"
   ]
  },
  {
   "cell_type": "code",
   "execution_count": 9,
   "metadata": {},
   "outputs": [],
   "source": [
    "from socket import socket, AF_INET, SOCK_STREAM"
   ]
  },
  {
   "cell_type": "code",
   "execution_count": 10,
   "metadata": {},
   "outputs": [],
   "source": [
    "def echo_client(client_sock, addr):\n",
    "    print('Got connection from', addr)\n",
    "    #Создать файловые обертки текстового режима для чтения/записи в сокет\n",
    "    \n",
    "    client_in =  open(client_sock.fileno(), 'rt', encoding='latin-1', closefd=False) \n",
    "    client_out = open(client_sock.fileno(), 'wt', encoding='latin-1', closefd=False)\n",
    "    \n",
    "    #Отправить клиенту, используя Echo-строки, применяя файловый ввод-вывод \n",
    "    for line in client_in:\n",
    "        client_out.write(line)\n",
    "        client_out.flush()\n",
    "    client_sock.close()\n",
    "        \n",
    "        "
   ]
  },
  {
   "cell_type": "code",
   "execution_count": 11,
   "metadata": {},
   "outputs": [],
   "source": [
    "def echo_server(address):\n",
    "    sock = socket(AF_INET, SOCK_STREAM)\n",
    "    sock.bind(address)\n",
    "    sock.listen(1)\n",
    "    while True:\n",
    "        client, addr = sock.accept()\n",
    "        echo_client(client, addr)"
   ]
  },
  {
   "cell_type": "markdown",
   "metadata": {},
   "source": [
    "Важно подчеркнуть, что вышеприведенный пример нужен только для иллюстрации возможностей встроенной функции open(), и он работает kbim в Unix. \n",
    "\n",
    "Если вы пытаетесь применить файлоподобный интерфейс к сокету и хотите, чтобы ваш код был кроссплатформенным, используйте метод сокета makefile(). \n",
    "\n",
    "Однако если переносимость вас не беспокоит, вы можете обнаружить, что представленное выше решение обладает намного большей производительностью, нежели makefile().\n",
    "\n",
    "Вы также можете использовать этот прием для создания псевдонима, который позволит уже открытому файлу использоваться немного другим способом, нежели тот, каким он был изначально открыт. \n",
    "\n",
    "Например, вот так вы можете создать файловый объект, который позволит выводить бинарные данные в stdout (который по умолчанию открыт в текстовом режиме): "
   ]
  },
  {
   "cell_type": "code",
   "execution_count": null,
   "metadata": {},
   "outputs": [],
   "source": [
    "import sys\n",
    "#Создать файл в бинарном режиме для stdout \n",
    "\n",
    "bstdout = open(sys.stdout.fileno(), 'wb', closefd=False) \n",
    "bstdout.write(b'Hello World\\n') \n",
    "bstdout.flush() \n"
   ]
  },
  {
   "cell_type": "markdown",
   "metadata": {},
   "source": [
    "Хотя можно обернуть существующий файловый дескриптор и использовать его в качестве настоящего файла, обратите внимание, что не все файловые режимы могут поддерживаться и что некоторые типы файловых дескрипторов могут обладать забавными побочными эффектами (особенно по отношению к обработке ошибок, условиям достижения конца файла и т. д.). \n",
    "\n",
    "Это поведение также может изменяться в зависимости от операционной системы. В частности, ни один из приведенных примеров не будет работать за пределами Unix. Суть в том, что вам нужно тщательно тестировать свою реализацию, чтобы убедиться в том, что она работает так, как вы ожидаете. "
   ]
  },
  {
   "cell_type": "markdown",
   "metadata": {},
   "source": [
    "# Создание временных файлов и каталогов "
   ]
  },
  {
   "cell_type": "markdown",
   "metadata": {},
   "source": [
    "Вам нужно создать временный файл или каталог, которые будут использоваться во время выполнения вашей программы. После, возможно, вы захотите, чтобы они были удалены. "
   ]
  },
  {
   "cell_type": "markdown",
   "metadata": {},
   "source": [
    "В модуле tempfile есть различные функции, которые помогут решить эту задачу. Чтобы создать безымянный временный файл, используйте tempfile.T"
   ]
  },
  {
   "cell_type": "code",
   "execution_count": 1,
   "metadata": {},
   "outputs": [],
   "source": [
    "from tempfile import TemporaryFile\n",
    "\n",
    "with TemporaryFile('w+t') as f:\n",
    "    #Чтение/запись в файл \n",
    "    f.write('Hello World\\n')\n",
    "    f.write('Testing\\n')\n",
    "    \n",
    "    #Перейти в начало и прочесть данные \n",
    "    f.seek(0)\n",
    "    data = f.read()\n",
    "    \n",
    "#Временный файл уничтожен "
   ]
  },
  {
   "cell_type": "code",
   "execution_count": 2,
   "metadata": {},
   "outputs": [
    {
     "data": {
      "text/plain": [
       "'Hello World\\nTesting\\n'"
      ]
     },
     "execution_count": 2,
     "metadata": {},
     "output_type": "execute_result"
    }
   ],
   "source": [
    "data"
   ]
  },
  {
   "cell_type": "markdown",
   "metadata": {},
   "source": [
    "Также вы можете использовать файл таким образом: "
   ]
  },
  {
   "cell_type": "code",
   "execution_count": 3,
   "metadata": {},
   "outputs": [],
   "source": [
    "f = TemporaryFile('w+t')\n",
    "#Использовать временный файл \n",
    "f.close()"
   ]
  },
  {
   "cell_type": "markdown",
   "metadata": {},
   "source": [
    "Первый аргумент, передаваемый в TemporaryFile(), – это режим файла: обычно для текстовых файлов это w+t, а для бинарных – w+b. Этот режим одновременно поддерживает чтение и запись, что в данном случае полезно, поскольку закрытие файла для смены режима разрушило бы его. TemporaryFile() дополнительно принимает те же аргументы, что и встроенная функция open(). Например: "
   ]
  },
  {
   "cell_type": "code",
   "execution_count": null,
   "metadata": {},
   "outputs": [],
   "source": [
    "with TemporaryFile('w+t', encoding='utf-8', errors='ignore') as f:\n",
    "    "
   ]
  },
  {
   "cell_type": "markdown",
   "metadata": {},
   "source": [
    "На большинстве Unix-систем файл, созданный функцией TemporaryFile(), является безымянным и даже не имеет местоположения в каталоге. Если вы хотите преодолеть это ограничение, используйте NamedTemporaryFile(). Например: "
   ]
  },
  {
   "cell_type": "code",
   "execution_count": 4,
   "metadata": {},
   "outputs": [
    {
     "name": "stdout",
     "output_type": "stream",
     "text": [
      "filename is: C:\\Users\\user\\AppData\\Local\\Temp\\tmpify1e489\n"
     ]
    }
   ],
   "source": [
    "from tempfile import NamedTemporaryFile\n",
    "\n",
    "with NamedTemporaryFile('w+t') as f:\n",
    "    print('filename is:', f.name)\n",
    "    \n",
    "# Файл автоматически уничтожается     "
   ]
  },
  {
   "cell_type": "markdown",
   "metadata": {},
   "source": [
    "Здесь атрибут f.name открытого файла содержит имя временного файла. Это может быть полезно, если оно передается какой-то другой программе, которой нужно будет открыть этот файл. Как и в случае TemporaryFile(), получившийся файл будет автоматически уничтожен после закрытия. Если вы не хотите, чтобы это произошло, передайте в функцию именованный аргумент delete=False. Например: "
   ]
  },
  {
   "cell_type": "code",
   "execution_count": 5,
   "metadata": {
    "scrolled": true
   },
   "outputs": [
    {
     "name": "stdout",
     "output_type": "stream",
     "text": [
      "filename is: C:\\Users\\user\\AppData\\Local\\Temp\\tmp876w2ex5\n"
     ]
    }
   ],
   "source": [
    "with NamedTemporaryFile('w+t', delete=False) as f:\n",
    "    print('filename is:', f.name)"
   ]
  },
  {
   "cell_type": "markdown",
   "metadata": {},
   "source": [
    "Чтобы создать временный каталог, используйте tempfile.TemporaryDirectory(). Например: "
   ]
  },
  {
   "cell_type": "code",
   "execution_count": 6,
   "metadata": {},
   "outputs": [
    {
     "name": "stdout",
     "output_type": "stream",
     "text": [
      "dirname is: C:\\Users\\user\\AppData\\Local\\Temp\\tmptt5qh2ya\n"
     ]
    }
   ],
   "source": [
    "from tempfile import TemporaryDirectory\n",
    "with TemporaryDirectory() as dirname:\n",
    "    print('dirname is:', dirname)\n",
    "    #Использовать каталог \n",
    "    \n",
    "# Каталог и все его содержимое уничтожается "
   ]
  },
  {
   "cell_type": "markdown",
   "metadata": {},
   "source": [
    "Функции TemporaryFile(), NamedTemporaryFile() и TemporaryDirectory() – вероятно, самый удобный способ работы с временными файлами и каталогами, потому что они автоматически управляются со всеми шагами создания и последующей чистки. На низком уровне вы также можете использовать mkstemp() и mkdtemp() для создания временных файлов и каталогов: "
   ]
  },
  {
   "cell_type": "code",
   "execution_count": 7,
   "metadata": {},
   "outputs": [
    {
     "data": {
      "text/plain": [
       "(4, 'C:\\\\Users\\\\user\\\\AppData\\\\Local\\\\Temp\\\\tmp5592jbmo')"
      ]
     },
     "execution_count": 7,
     "metadata": {},
     "output_type": "execute_result"
    }
   ],
   "source": [
    "import tempfile\n",
    "#создание временного файла\n",
    "tempfile.mkstemp()"
   ]
  },
  {
   "cell_type": "code",
   "execution_count": 8,
   "metadata": {},
   "outputs": [
    {
     "data": {
      "text/plain": [
       "'C:\\\\Users\\\\user\\\\AppData\\\\Local\\\\Temp\\\\tmpx2lxs5_3'"
      ]
     },
     "execution_count": 8,
     "metadata": {},
     "output_type": "execute_result"
    }
   ],
   "source": [
    "#создание временной директории\n",
    "tempfile.mkdtemp()"
   ]
  },
  {
   "cell_type": "markdown",
   "metadata": {},
   "source": [
    "Однако эти функции не заботятся о  последующем управлении. Например, функция mkstemp() просто возвращает сырой файловый дескриптор операционной системы и оставляет всю работу по превращению его в настоящий файл вам. Похожим образом вам нужно самостоятельно удалять файлы. Обычно временные файлы создаются в определенном операционной системой месте сохранения по умолчанию, таком как /var/tmp и т. п. Чтобы получить путь, используйте функцию tempfile.gettempdir(). Например: "
   ]
  },
  {
   "cell_type": "code",
   "execution_count": 9,
   "metadata": {},
   "outputs": [
    {
     "data": {
      "text/plain": [
       "'C:\\\\Users\\\\user\\\\AppData\\\\Local\\\\Temp'"
      ]
     },
     "execution_count": 9,
     "metadata": {},
     "output_type": "execute_result"
    }
   ],
   "source": [
    "tempfile.gettempdir()"
   ]
  },
  {
   "cell_type": "markdown",
   "metadata": {},
   "source": [
    "Все функции, связанные с временными файлами, позволяют вам менять этот каталог и принципы именования файлов с помощью именованных аргументов prefix, suffix и dir. Например: "
   ]
  },
  {
   "cell_type": "code",
   "execution_count": 10,
   "metadata": {},
   "outputs": [
    {
     "data": {
      "text/plain": [
       "'C:\\\\tmp\\\\mytempn8vo5vtm.txt'"
      ]
     },
     "execution_count": 10,
     "metadata": {},
     "output_type": "execute_result"
    }
   ],
   "source": [
    "f = NamedTemporaryFile(prefix='mytemp', suffix='.txt', dir='/tmp')\n",
    "f.name"
   ]
  },
  {
   "cell_type": "markdown",
   "metadata": {},
   "source": [
    "И последнее: модуль tempfile() создает временные файлы наиболее безопасным способом из всех возможных. Это включает предоставление доступа только текущему пользователю и предпринятие шагов, предотвращающих состояние гонки (race condition) при создании файлов. Однако стоит знать, что на различных платформах этот модуль работает по-разному. Чтобы уточнить свое понимание, обратитесь к официальной документации1. "
   ]
  },
  {
   "cell_type": "markdown",
   "metadata": {},
   "source": [
    "# Работа с последовательными портами"
   ]
  },
  {
   "cell_type": "markdown",
   "metadata": {},
   "source": [
    "Вы хотите читать и  записывать данные в  последовательный порт. Обычно это\n",
    "нужно для взаимодействия с каким-то устройством (например, роботом или сенсором)."
   ]
  },
  {
   "cell_type": "markdown",
   "metadata": {},
   "source": [
    "Хотя вы могли бы сделать это напрямую, используя примитивы ввода-вывода\n",
    "Python, лучшим выбором для последовательного взаимодействия является пакет\n",
    "pySerial. \n",
    "\n",
    "Начать работать с пакетом очень легко. Вы просто открываете последовательный порт:"
   ]
  },
  {
   "cell_type": "code",
   "execution_count": 2,
   "metadata": {},
   "outputs": [],
   "source": [
    "import serial"
   ]
  },
  {
   "cell_type": "code",
   "execution_count": null,
   "metadata": {},
   "outputs": [],
   "source": [
    "ser = serial.Serial('/dev/tty.usbmodem641', baudrate=9600, bytesize=8, parity='N', stopbits=1)"
   ]
  },
  {
   "cell_type": "markdown",
   "metadata": {},
   "source": [
    "Имя устройства меняется в зависимости от его типа и операционной системы.\n",
    "Например, в Windows вы можете использовать устройство 0, 1 и т. д., чтобы открыть такие порты, как “COM0” и “COM1”. Когда они открыты, вы можете читать\n",
    "и записывать данные, используя вызовы read(), readline() и write(). Например:"
   ]
  },
  {
   "cell_type": "code",
   "execution_count": null,
   "metadata": {},
   "outputs": [],
   "source": [
    "ser.write(b'G1 X50 Y50\\r\\n')\n",
    "resp = ser.readline()"
   ]
  },
  {
   "cell_type": "markdown",
   "metadata": {},
   "source": [
    "По большей части простой последовательный обмен данными весьма незамысловат."
   ]
  },
  {
   "cell_type": "markdown",
   "metadata": {},
   "source": [
    "Простая на первый взгляд, последовательная коммуникация все же может быть\n",
    "достаточно запутанной. \n",
    "\n",
    "Причина использовать пакеты типа pySerial в том, что\n",
    "они поддерживают продвинутые возможности (например, тайм-ауты, контроль\n",
    "потока, сбрасывание буфера, хендшейкинг и  т. п.). \n",
    "\n",
    "Например, если вы хотите\n",
    "включить RTS-CTS-хендшейкинг, просто передайте Serial() аргумент rtscts=True.\n",
    "\n",
    "У пакета отличная документация, поэтому нет смысла ее здесь пересказывать.\n",
    "Помните, что весь ввод-вывод с использованием последовательных портов является бинарным. Поэтому убедитесь, что ваша программа использует байты, а не\n",
    "текст (или производит правильное кодирование/декодирование). \n",
    "\n",
    "Модуль struct\n",
    "может также оказаться полезным, если вам нужно будет создавать бинарные команды или пакеты."
   ]
  },
  {
   "cell_type": "markdown",
   "metadata": {},
   "source": [
    "#  Сериализация объектов Python"
   ]
  },
  {
   "cell_type": "markdown",
   "metadata": {},
   "source": [
    "Вам нужно сериализировать объект Python в поток байтов, чтобы вы смогли сохранить их в файл либо базу данных или же передать их по сети."
   ]
  },
  {
   "cell_type": "markdown",
   "metadata": {},
   "source": [
    "Наиболее распространенный подход к сериализации данных – это использование\n",
    "модуля pickle. Чтобы сохранить объект в файл, сделайте так:"
   ]
  },
  {
   "cell_type": "code",
   "execution_count": 1,
   "metadata": {},
   "outputs": [],
   "source": [
    "import pickle"
   ]
  },
  {
   "cell_type": "code",
   "execution_count": 2,
   "metadata": {},
   "outputs": [],
   "source": [
    "data = {'a': 1, 'b': 2, 'c': 3}"
   ]
  },
  {
   "cell_type": "code",
   "execution_count": 3,
   "metadata": {},
   "outputs": [],
   "source": [
    "f = open('pickle-file', 'wb')\n",
    "pickle.dump(data, f)"
   ]
  },
  {
   "cell_type": "markdown",
   "metadata": {},
   "source": [
    "Чтобы сохранить объект в строку, используйте pickle.dumps():"
   ]
  },
  {
   "cell_type": "code",
   "execution_count": 4,
   "metadata": {},
   "outputs": [],
   "source": [
    "s = pickle.dumps(data)"
   ]
  },
  {
   "cell_type": "markdown",
   "metadata": {},
   "source": [
    "Чтобы воссоздать объект из потока байтов (byte stream), используйте либо\n",
    "pickle.load(), либо pickle.loads(). Например:"
   ]
  },
  {
   "cell_type": "code",
   "execution_count": 6,
   "metadata": {},
   "outputs": [],
   "source": [
    "# Восстановление из файла\n",
    "f = open('pickle-file', 'rb')\n",
    "data = pickle.load(f)"
   ]
  },
  {
   "cell_type": "code",
   "execution_count": null,
   "metadata": {},
   "outputs": [],
   "source": [
    "# Восстановление из строки\n",
    "data = pickle.loads(s)"
   ]
  },
  {
   "cell_type": "markdown",
   "metadata": {},
   "source": [
    "Для большинства программ использование функций dump() и load() – все, что требуется от модуля pickle. Он «просто работает» – с  большинством типов данных\n",
    "Python и экземплярами ваших собственных классов. \n",
    "\n",
    "Если вы работаете с какой-либо библиотекой, которая позволяет вам делать такие вещи, как сохранение\n",
    "и восстановление объектов Python в базах данных или передача объектов по сети,\n",
    "то очень велик шанс, что именно pickle используется для этого.\n",
    "\n",
    "pickle – это самоописывающаяся кодировка данных, специфическая для Python.\n",
    "\n",
    "Под самоописыванием мы подразумеваем, что сериализованные данные содержат информацию о начале и конце каждого объекта, а также и информацию об их\n",
    "типе. \n",
    "\n",
    "Поэтому вам не нужно переживать об определении формата записей – все\n",
    "работает «из коробки». Например, при работе с несколькими объектами вы можете сделать так:"
   ]
  },
  {
   "cell_type": "code",
   "execution_count": 7,
   "metadata": {},
   "outputs": [],
   "source": [
    "import pickle\n",
    "f = open('pickle-file1', 'wb')\n",
    "pickle.dump([1, 2, 3, 4], f)\n",
    "pickle.dump('hello', f)\n",
    "pickle.dump({'Apple', 'Pear', 'Banana'}, f)\n",
    "f.close()"
   ]
  },
  {
   "cell_type": "code",
   "execution_count": 8,
   "metadata": {},
   "outputs": [
    {
     "data": {
      "text/plain": [
       "[1, 2, 3, 4]"
      ]
     },
     "execution_count": 8,
     "metadata": {},
     "output_type": "execute_result"
    }
   ],
   "source": [
    "f = open('pickle-file1', 'rb')\n",
    "pickle.load(f)"
   ]
  },
  {
   "cell_type": "code",
   "execution_count": 9,
   "metadata": {},
   "outputs": [
    {
     "data": {
      "text/plain": [
       "'hello'"
      ]
     },
     "execution_count": 9,
     "metadata": {},
     "output_type": "execute_result"
    }
   ],
   "source": [
    "pickle.load(f)"
   ]
  },
  {
   "cell_type": "code",
   "execution_count": 10,
   "metadata": {},
   "outputs": [
    {
     "data": {
      "text/plain": [
       "{'Apple', 'Banana', 'Pear'}"
      ]
     },
     "execution_count": 10,
     "metadata": {},
     "output_type": "execute_result"
    }
   ],
   "source": [
    "pickle.load(f)"
   ]
  },
  {
   "cell_type": "markdown",
   "metadata": {},
   "source": [
    "Вы можете сериализировать функции, классы и  экземпляры, однако получающиеся данные кодируют только имена ссылок на связанные объекты кода. Например:"
   ]
  },
  {
   "cell_type": "code",
   "execution_count": 11,
   "metadata": {},
   "outputs": [
    {
     "data": {
      "text/plain": [
       "b'\\x80\\x03cmath\\ncos\\nq\\x00.'"
      ]
     },
     "execution_count": 11,
     "metadata": {},
     "output_type": "execute_result"
    }
   ],
   "source": [
    "import math\n",
    "import pickle\n",
    "#dump - запись файла, dumps - запись переменной\n",
    "pickle.dumps(math.cos)"
   ]
  },
  {
   "cell_type": "markdown",
   "metadata": {},
   "source": [
    "Когда данные десериализуются, то предполагается, что требуемый источник\n",
    "доступен. Модули, классы и функции будут автоматически импортированы при\n",
    "необходимости. \n",
    "\n",
    "Для приложений, где данные Python разделяются между интерпретаторами или разными компьютерами, это потенциально может оказаться\n",
    "проблемой, поскольку все машины должны иметь доступ к одному и тому же исходному коду.\n",
    "\n",
    "pickle.load() никогда нельзя использовать на данных из непроверенных источников. В качестве побочного эффекта загрузки pickle автоматически загрузит\n",
    "модули и создаст экземпляры. \n",
    "\n",
    "Однако злоумышленник, который знает принцип\n",
    "работы pickle, может создать специальные данные, которые заставят Python выполнить произвольные системные команды. Так что pickle можно использовать\n",
    "только внутренними данными и интерпретаторами, которые могут каким-то образом проводить аутентификацию друг друга."
   ]
  },
  {
   "cell_type": "markdown",
   "metadata": {},
   "source": [
    "Некоторые типы объектов не могут быть сериализованы. Это обычно те объекты, которые используют некоторое внешнее системное состояние, такие как\n",
    "открытые файлы, открытые сетевые соединения, потоки, процессы, фреймы стека и т. д. Определенные пользователем классы могут иногда обойти эти ограничения, предоставляя методы __getstate__() и  __setstate__(). \n",
    "\n",
    "Если они определены,\n",
    "pickle.dump() вызовет __getstate__(), чтобы получить объект, пригодный для сериализации. Похожим образом __setstate__() будет вызван при десериализации. \n",
    "\n",
    "Чтобы\n",
    "проиллюстрировать возможности, ниже приведен класс, который внутри определяет поток, но при этом может быть сериализован и десериализован:"
   ]
  },
  {
   "cell_type": "code",
   "execution_count": null,
   "metadata": {},
   "outputs": [],
   "source": [
    "import time\n",
    "import threading\n",
    "\n",
    "class Countdown:\n",
    "    def __init__(self, n):\n",
    "        self.n = n\n",
    "        self.thr = threading.Thread(target=self.run)\n",
    "        self.thr.daemon = True\n",
    "        self.thr.start()\n",
    "        \n",
    "    def run(self):\n",
    "        while self.n > 0:\n",
    "            print('T-minus', self.n)\n",
    "            self.n -= 1\n",
    "            time.sleep(5)\n",
    "        \n",
    "    def __getstate__(self):\n",
    "        return self.n\n",
    "    \n",
    "    def __setstate__(self, n):\n",
    "        self.__init__(n)"
   ]
  },
  {
   "cell_type": "markdown",
   "metadata": {},
   "source": [
    "Попробуйте применить pickle:"
   ]
  },
  {
   "cell_type": "code",
   "execution_count": null,
   "metadata": {},
   "outputs": [],
   "source": [
    "c = Countdown(30)"
   ]
  },
  {
   "cell_type": "code",
   "execution_count": null,
   "metadata": {},
   "outputs": [],
   "source": [
    "# After a few moments\n",
    "f = open('cstate.p', 'wb')\n",
    "import pickle\n",
    "pickle.dump(c, f)\n",
    "f.close()"
   ]
  },
  {
   "cell_type": "markdown",
   "metadata": {},
   "source": [
    "Теперь выйдите из Python и после перезапуска попробуйте вот это:"
   ]
  },
  {
   "cell_type": "code",
   "execution_count": null,
   "metadata": {},
   "outputs": [],
   "source": [
    "f = open('cstate.p', 'rb')\n",
    "pickle.load(f)"
   ]
  },
  {
   "cell_type": "markdown",
   "metadata": {},
   "source": [
    "Еще один пример:"
   ]
  },
  {
   "cell_type": "code",
   "execution_count": 16,
   "metadata": {},
   "outputs": [],
   "source": [
    "class Car:\n",
    "    def __init__(self, gas):\n",
    "        self.gas = gas\n",
    "    def move(self):\n",
    "        self.gas -= 1\n",
    "    def __getstate__(self):\n",
    "        return self.gas\n",
    "    def __setstate__(self, gas):\n",
    "        self.gas = 2*gas"
   ]
  },
  {
   "cell_type": "code",
   "execution_count": 17,
   "metadata": {},
   "outputs": [
    {
     "data": {
      "text/plain": [
       "58"
      ]
     },
     "execution_count": 17,
     "metadata": {},
     "output_type": "execute_result"
    }
   ],
   "source": [
    "car1 = Car(30)\n",
    "car1.move()\n",
    "car1_bytes = pickle.dumps(car1)\n",
    "car2 = pickle.loads(car1_bytes)\n",
    "car2.gas"
   ]
  },
  {
   "cell_type": "markdown",
   "metadata": {},
   "source": [
    "Вы должны увидеть, как поток волшебным образом возрождается к жизни, поднимаясь на том же месте, где он был, когда вы его сериализовали.\n",
    "\n",
    "pickle не особенно эффективен для сериализации крупных структур данных,\n",
    "таких как бинарные массивы, созданные библиотеками типа numpy или модуля\n",
    "array. \n",
    "\n",
    "Если вы перемещаете большие объемы данных в массивах туда-сюда, вам\n",
    "лучше просто сохранять массивы в файлы или использовать более стандартизованную кодировку, такую как HDF5 (поддерживается не входящими в  поставку\n",
    "Python библиотеками).\n",
    "\n",
    "pickle по своей природе привязан к Python и исходному коду, поэтому вам не\n",
    "стоит использовать его для долговременного хранения данных. \n",
    "\n",
    "Например, если\n",
    "исходный код изменится, все ваши сохраненные данные могут «сломаться»\n",
    "и стать нечитаемыми. \n",
    "\n",
    "Если честно, для хранения данных в базах данных и архивных хранилищах вам лучше использовать более стандартные кодировки, такие\n",
    "как XML, CSV или JSON. Они поддерживаются большим количеством языков программирования и более адаптируемы к изменениям в вашем исходном коде.\n",
    "\n",
    "И последнее: стоит помнить, что у pickle огромное количество различных параметров и хитрых случаев применения. \n",
    "\n",
    "В большинстве обычных ситуаций вам\n",
    "не нужно о них волноваться, но если вы создаете серьезное приложение, использующее pickle для сериализации, не забудьте прочитать официальную документацию.\n"
   ]
  },
  {
   "cell_type": "code",
   "execution_count": null,
   "metadata": {},
   "outputs": [],
   "source": []
  }
 ],
 "metadata": {
  "kernelspec": {
   "display_name": "Python 3",
   "language": "python",
   "name": "python3"
  },
  "language_info": {
   "codemirror_mode": {
    "name": "ipython",
    "version": 3
   },
   "file_extension": ".py",
   "mimetype": "text/x-python",
   "name": "python",
   "nbconvert_exporter": "python",
   "pygments_lexer": "ipython3",
   "version": "3.7.0"
  }
 },
 "nbformat": 4,
 "nbformat_minor": 2
}
