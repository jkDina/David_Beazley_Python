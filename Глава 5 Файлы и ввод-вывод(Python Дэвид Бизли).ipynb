{
 "cells": [
  {
   "cell_type": "markdown",
   "metadata": {},
   "source": [
    "# Глава 5 Файлы и ввод-вывод(Python Дэвид Бизли)"
   ]
  },
  {
   "cell_type": "markdown",
   "metadata": {},
   "source": [
    "# Чтение и запись текстовых данных "
   ]
  },
  {
   "cell_type": "markdown",
   "metadata": {},
   "source": [
    "Вам нужно прочитать или записать текстовые данные, представленные, возможно, в различных кодировках, таких как ASCII, UTF­8 или UTF­16. "
   ]
  },
  {
   "cell_type": "markdown",
   "metadata": {},
   "source": [
    "Используйте функцию open() в режиме rt для чтения текстового файла. Например:"
   ]
  },
  {
   "cell_type": "code",
   "execution_count": 2,
   "metadata": {},
   "outputs": [],
   "source": [
    "# Прочесть остаток файла в одну строку\n",
    "with open('somefile.txt', 'rt') as f:\n",
    "    data = f.read()"
   ]
  },
  {
   "cell_type": "code",
   "execution_count": 5,
   "metadata": {},
   "outputs": [
    {
     "name": "stdout",
     "output_type": "stream",
     "text": [
      "#12345\n",
      "\n",
      "#\n",
      "\n",
      "###python\n",
      "\n",
      "##6789\n",
      "\n",
      "python\n",
      "\n",
      "text\n",
      "\n",
      "password\n",
      "\n",
      "python\n"
     ]
    }
   ],
   "source": [
    "# Итерируем по строчкам файла\n",
    "with open('somefile.txt', 'rt') as f:\n",
    "    for line in f:\n",
    "        print(line)"
   ]
  },
  {
   "cell_type": "markdown",
   "metadata": {},
   "source": [
    "Похожим образом для записи в текстовый файл используйте open() в режиме wt (стирает и перезаписывает любое предыдущее содержание файла, если оно было): "
   ]
  },
  {
   "cell_type": "code",
   "execution_count": 23,
   "metadata": {},
   "outputs": [],
   "source": [
    "# Пишем чанки (кусочки) текстовых данных \n",
    "with open('somefile.txt', 'wt') as f:\n",
    "    f.write('10.12.19\\n')\n",
    "    f.write('План работы\\n')\n",
    "    f.write('Прочитать книгу')"
   ]
  },
  {
   "cell_type": "code",
   "execution_count": 9,
   "metadata": {},
   "outputs": [
    {
     "name": "stdout",
     "output_type": "stream",
     "text": [
      "10.12.19\n",
      "\n",
      "План работы\n",
      "\n",
      "Прочитать книгу\n"
     ]
    }
   ],
   "source": [
    "with open('somefile.txt', 'rt') as f:\n",
    "    for line in f:\n",
    "        print(line)"
   ]
  },
  {
   "cell_type": "code",
   "execution_count": 13,
   "metadata": {},
   "outputs": [],
   "source": [
    "# Перенаправленная инструкция print \n",
    "with open('somefile1.txt', 'wt') as f1:\n",
    "    print(\"line1\", file=f1)\n",
    "    print(\"line2\", file=f1)\n",
    "    print(\"line3\", file=f1)"
   ]
  },
  {
   "cell_type": "code",
   "execution_count": 14,
   "metadata": {},
   "outputs": [
    {
     "name": "stdout",
     "output_type": "stream",
     "text": [
      "line1\n",
      "\n",
      "line2\n",
      "\n",
      "line3\n",
      "\n"
     ]
    }
   ],
   "source": [
    "with open('somefile1.txt', 'rt') as f1:\n",
    "    for line in f1:\n",
    "        print(line)"
   ]
  },
  {
   "cell_type": "markdown",
   "metadata": {},
   "source": [
    "Чтобы добавить записываемый текст к концу существующего файла, используйте open() в режиме at. "
   ]
  },
  {
   "cell_type": "markdown",
   "metadata": {},
   "source": [
    "По умолчанию файлы читаются и записываются в дефолтной системной кодировке, информацию о которой можно получить из sys.getdefaultencoding(). На большинстве компьютеров это будет utf-8. Если вы знаете, что текст, который вы читаете или пишете, представлен в другой кодировке, передайте необязательный параметр encoding функции open(). "
   ]
  },
  {
   "cell_type": "code",
   "execution_count": 16,
   "metadata": {},
   "outputs": [
    {
     "data": {
      "text/plain": [
       "'utf-8'"
      ]
     },
     "execution_count": 16,
     "metadata": {},
     "output_type": "execute_result"
    }
   ],
   "source": [
    "import sys\n",
    "sys.getdefaultencoding()"
   ]
  },
  {
   "cell_type": "code",
   "execution_count": 24,
   "metadata": {},
   "outputs": [
    {
     "name": "stdout",
     "output_type": "stream",
     "text": [
      "10.12.19\n",
      "\n",
      "План работы\n",
      "\n",
      "Прочитать книгу\n"
     ]
    }
   ],
   "source": [
    "with open('somefile.txt', 'rt') as f:\n",
    "    for line in f:\n",
    "        print(line)\n",
    "    "
   ]
  },
  {
   "cell_type": "code",
   "execution_count": 29,
   "metadata": {},
   "outputs": [
    {
     "name": "stdout",
     "output_type": "stream",
     "text": [
      "['10.12.19\\n', 'Ïëàí ðàáîòû\\n', 'Ïðî÷èòàòü êíèãó']\n"
     ]
    }
   ],
   "source": [
    "with open('somefile.txt', 'rt', encoding='latin-1') as f:\n",
    "    print(f.readlines())"
   ]
  },
  {
   "cell_type": "markdown",
   "metadata": {},
   "source": [
    "Python понимает несколько сотен текстовых кодировок. Однако самые распространенные – ascii, latin-1, utf-8 и utf-16. \n",
    "\n",
    "UTF-8 обычно является безопасным выбором для работы с веб-приложениями. \n",
    "\n",
    "ascii соответствует 7-битным символам в диапазоне от U+0000 до U+007F. \n",
    "\n",
    "latin-1 – это прямое отображение байтов 0–255 на символы Unicode от U-0000 до U-00FF. latin-1 известна тем, что она никогда не вызовет ошибку декодирования при чтении текста в потенциально неизвестной кодировке. Чтение файла как latin-1 может не привести к получению полностью правильно декодированного текста, но этого бывает достаточно для извлечения полезных данных. Также если вы позже запишете данные обратно, первоначальные данные будут сохранены. "
   ]
  },
  {
   "cell_type": "markdown",
   "metadata": {},
   "source": [
    "Чтение и запись файлов в большинстве случаев совершенно бесхитростны. Однако есть и тонкости. \n",
    "\n",
    "Во-первых, использование инструкции with в примере устанавливает контекст, в котором будут использованы файлы. Когда поток управления покидает блок with, файл будет автоматически закрыт. Вы не обязаны использовать инструкцию with, но если вы ее не применяете, то не забудьте закрыть файл: "
   ]
  },
  {
   "cell_type": "code",
   "execution_count": 30,
   "metadata": {},
   "outputs": [],
   "source": [
    "f = open('somefile.txt', 'rt')\n",
    "data = f.read()\n",
    "f.close()"
   ]
  },
  {
   "cell_type": "markdown",
   "metadata": {},
   "source": [
    "Еще одна небольшая сложность касается распознавания новых строк, символы которых отличаются в Unix и Windows (\\n и \\r\\n). По умолчанию Python работает в так называемом «универсальном режиме новых строк». В этом режиме все распространенные символы новой строки распознаются, и все они конвертируются в единственный \\n при чтении. Похожим образом символ новой строки \\n конвертируется в дефолтный системный символ при выводе. Если вы не хотите использовать такую трансляцию, передайте функции open() аргумент newline='': "
   ]
  },
  {
   "cell_type": "markdown",
   "metadata": {},
   "source": [
    "Чтобы продемонстрировать разницу, покажем, что вы увидите на компьютере с Unix, если вы читаете содержание файла в Windows-кодировке, в котором присутствуют сырые данные hello world!\\r\\n: "
   ]
  },
  {
   "cell_type": "code",
   "execution_count": 31,
   "metadata": {},
   "outputs": [
    {
     "name": "stdout",
     "output_type": "stream",
     "text": [
      "['10.12.19\\r\\n', 'План работы\\r\\n', 'Прочитать книгу']\n"
     ]
    }
   ],
   "source": [
    "#Читаем с отключенной трансляцией новой строки \n",
    "with open('somefile.txt', 'rt', newline='') as f:  \n",
    "    print(f.readlines())"
   ]
  },
  {
   "cell_type": "code",
   "execution_count": 32,
   "metadata": {},
   "outputs": [
    {
     "name": "stdout",
     "output_type": "stream",
     "text": [
      "['10.12.19\\n', 'План работы\\n', 'Прочитать книгу']\n"
     ]
    }
   ],
   "source": [
    "#Читаем с отключенной трансляцией новой строки \n",
    "with open('somefile.txt', 'rt') as f:  \n",
    "    print(f.readlines())"
   ]
  },
  {
   "cell_type": "markdown",
   "metadata": {},
   "source": [
    "Последняя проблема касается возможных ошибок кодировки в текстовых файлах. При чтении или записи текстового файла вы можете натолкнуться на ошибку кодирования или декодирования. Например: "
   ]
  },
  {
   "cell_type": "code",
   "execution_count": 33,
   "metadata": {},
   "outputs": [
    {
     "ename": "FileNotFoundError",
     "evalue": "[Errno 2] No such file or directory: 'sample.txt'",
     "output_type": "error",
     "traceback": [
      "\u001b[1;31m---------------------------------------------------------------------------\u001b[0m",
      "\u001b[1;31mFileNotFoundError\u001b[0m                         Traceback (most recent call last)",
      "\u001b[1;32m<ipython-input-33-1a97881e2bd5>\u001b[0m in \u001b[0;36m<module>\u001b[1;34m()\u001b[0m\n\u001b[1;32m----> 1\u001b[1;33m \u001b[0mf\u001b[0m \u001b[1;33m=\u001b[0m \u001b[0mopen\u001b[0m\u001b[1;33m(\u001b[0m\u001b[1;34m'sample.txt'\u001b[0m\u001b[1;33m,\u001b[0m \u001b[1;34m'rt'\u001b[0m\u001b[1;33m,\u001b[0m \u001b[0mencoding\u001b[0m\u001b[1;33m=\u001b[0m\u001b[1;34m'ascii'\u001b[0m\u001b[1;33m)\u001b[0m\u001b[1;33m\u001b[0m\u001b[0m\n\u001b[0m\u001b[0;32m      2\u001b[0m \u001b[0mf\u001b[0m\u001b[1;33m.\u001b[0m\u001b[0mread\u001b[0m\u001b[1;33m(\u001b[0m\u001b[1;33m)\u001b[0m\u001b[1;33m\u001b[0m\u001b[0m\n",
      "\u001b[1;31mFileNotFoundError\u001b[0m: [Errno 2] No such file or directory: 'sample.txt'"
     ]
    }
   ],
   "source": [
    "f = open('sample.txt', 'rt', encoding='ascii') \n",
    "f.read()"
   ]
  },
  {
   "cell_type": "markdown",
   "metadata": {},
   "source": [
    "Если вы получили эту ошибку, это обычно означает, что вы не используете правильную кодировку для чтения файла. Вы должны внимательно прочитать спецификацию того, что вы пытаетесь прочесть, и удостовериться, что вы делаете это правильно (то есть не читаете данные как UTF-8 вместо Latin-1 и т. п.). Если ошибки кодирования все еще возникают, вы можете передать необязательный аргумент errors функции open(), чтобы обрабатывать ошибки. Вот несколько примеров типичных схем обработки ошибок: "
   ]
  },
  {
   "cell_type": "code",
   "execution_count": 34,
   "metadata": {},
   "outputs": [
    {
     "data": {
      "text/plain": [
       "'10.12.19\\n���� ������\\n��������� �����'"
      ]
     },
     "execution_count": 34,
     "metadata": {},
     "output_type": "execute_result"
    }
   ],
   "source": [
    "# Заменяем плохие символы символом замены Unicode U+fffd \n",
    "f = open('somefile.txt', 'rt', encoding='ascii', errors='replace')\n",
    "f.read()"
   ]
  },
  {
   "cell_type": "code",
   "execution_count": 35,
   "metadata": {},
   "outputs": [
    {
     "data": {
      "text/plain": [
       "'10.12.19\\n \\n '"
      ]
     },
     "execution_count": 35,
     "metadata": {},
     "output_type": "execute_result"
    }
   ],
   "source": [
    "# Полностью игнорируем плохие символы \n",
    "g = open('somefile.txt', 'rt', encoding='ascii', errors='ignore')\n",
    "g.read()"
   ]
  },
  {
   "cell_type": "markdown",
   "metadata": {},
   "source": [
    "Если вы постоянно ловите блох с кодировками, аргументом errors функции open() и изобретаете хаки, вы, вероятно, зря усложняете себе жизнь. \n",
    "\n",
    "Первое правило работы с текстом: убедитесь, что вы используете правильную кодировку. А если сомневаетесь, какую выбрать, используйте системную установку по умолчанию (обычно это UTF-8). "
   ]
  },
  {
   "cell_type": "markdown",
   "metadata": {},
   "source": [
    "# Перенаправление вывода в файл "
   ]
  },
  {
   "cell_type": "markdown",
   "metadata": {},
   "source": [
    "Вы хотите перенаправить в файл вывод функции print()."
   ]
  },
  {
   "cell_type": "markdown",
   "metadata": {},
   "source": [
    "Используйте print() c именованным аргументом file:\n"
   ]
  },
  {
   "cell_type": "code",
   "execution_count": 37,
   "metadata": {},
   "outputs": [],
   "source": [
    "with open('somefile.txt', 'wt') as f:     \n",
    "    print('Hello World!', file=f) "
   ]
  },
  {
   "cell_type": "code",
   "execution_count": 38,
   "metadata": {},
   "outputs": [
    {
     "name": "stdout",
     "output_type": "stream",
     "text": [
      "['Hello World!\\n']\n"
     ]
    }
   ],
   "source": [
    "with open('somefile.txt', 'rt') as f:  \n",
    "    print(f.readlines())"
   ]
  },
  {
   "cell_type": "markdown",
   "metadata": {},
   "source": [
    "Про вывод в файл добавить больше и нечего. Разве что убедитесь, что файл открыт в текстовом режиме. Выводить в бинарном режиме так нельзя. "
   ]
  },
  {
   "cell_type": "markdown",
   "metadata": {},
   "source": [
    "#  Вывод с другим разделителем или символом конца строки "
   ]
  },
  {
   "cell_type": "markdown",
   "metadata": {},
   "source": [
    "Вы хотите вывести данные с помощью print(), но вы также хотите поменять символ-разделитель или символ конца строки. "
   ]
  },
  {
   "cell_type": "markdown",
   "metadata": {},
   "source": [
    "Используйте именнованные аргументы sep и end с функцией print(), чтобы изменить вывод так, как вам нужно. Например:\n"
   ]
  },
  {
   "cell_type": "code",
   "execution_count": 1,
   "metadata": {},
   "outputs": [
    {
     "name": "stdout",
     "output_type": "stream",
     "text": [
      "ACME 50 91.5\n"
     ]
    }
   ],
   "source": [
    "print('ACME', 50, 91.5)"
   ]
  },
  {
   "cell_type": "code",
   "execution_count": 2,
   "metadata": {},
   "outputs": [
    {
     "name": "stdout",
     "output_type": "stream",
     "text": [
      "ACME,50,91.5\n"
     ]
    }
   ],
   "source": [
    "print('ACME', 50, 91.5, sep=',')"
   ]
  },
  {
   "cell_type": "code",
   "execution_count": 3,
   "metadata": {},
   "outputs": [
    {
     "name": "stdout",
     "output_type": "stream",
     "text": [
      "ACME,50,91.5!!\n"
     ]
    }
   ],
   "source": [
    "print('ACME', 50, 91.5, sep=',', end='!!\\n')"
   ]
  },
  {
   "cell_type": "markdown",
   "metadata": {},
   "source": [
    "Использование аргумента end также позволяет подавить добавление символа новой строки при выводе. Например:\n"
   ]
  },
  {
   "cell_type": "code",
   "execution_count": 4,
   "metadata": {},
   "outputs": [
    {
     "name": "stdout",
     "output_type": "stream",
     "text": [
      "0 1 2 3 4 "
     ]
    }
   ],
   "source": [
    "for i in range(5):\n",
    "    print(i, end=' ')"
   ]
  },
  {
   "cell_type": "markdown",
   "metadata": {},
   "source": [
    "Использование print() с разными разделителями элементов часто является самым простым способом вывести данные, когда вам нужно сделать это с другим разделителем элементов. \n",
    "\n",
    "Однако иногда вы можете увидеть, как программисты используют str.join() для выполнения этой же задачи: "
   ]
  },
  {
   "cell_type": "code",
   "execution_count": 6,
   "metadata": {},
   "outputs": [
    {
     "name": "stdout",
     "output_type": "stream",
     "text": [
      "ACME,50,91.5\n"
     ]
    }
   ],
   "source": [
    "print(','.join(('ACME', '50', '91.5')))"
   ]
  },
  {
   "cell_type": "markdown",
   "metadata": {},
   "source": [
    "Проблема str.join() в том, что он работает только со строками. Это значит, что часто необходимо выполнить различные акробатические трюки, чтобы заставить его работать. Например: "
   ]
  },
  {
   "cell_type": "code",
   "execution_count": 8,
   "metadata": {},
   "outputs": [
    {
     "ename": "TypeError",
     "evalue": "sequence item 1: expected str instance, int found",
     "output_type": "error",
     "traceback": [
      "\u001b[1;31m---------------------------------------------------------------------------\u001b[0m",
      "\u001b[1;31mTypeError\u001b[0m                                 Traceback (most recent call last)",
      "\u001b[1;32m<ipython-input-8-72ffd8911901>\u001b[0m in \u001b[0;36m<module>\u001b[1;34m()\u001b[0m\n\u001b[0;32m      1\u001b[0m \u001b[0mrow\u001b[0m \u001b[1;33m=\u001b[0m \u001b[1;33m(\u001b[0m\u001b[1;34m'ACME'\u001b[0m\u001b[1;33m,\u001b[0m \u001b[1;36m50\u001b[0m\u001b[1;33m,\u001b[0m \u001b[1;36m91.5\u001b[0m\u001b[1;33m)\u001b[0m\u001b[1;33m\u001b[0m\u001b[0m\n\u001b[1;32m----> 2\u001b[1;33m \u001b[0mprint\u001b[0m\u001b[1;33m(\u001b[0m\u001b[1;34m','\u001b[0m\u001b[1;33m.\u001b[0m\u001b[0mjoin\u001b[0m\u001b[1;33m(\u001b[0m\u001b[0mrow\u001b[0m\u001b[1;33m)\u001b[0m\u001b[1;33m)\u001b[0m\u001b[1;33m\u001b[0m\u001b[0m\n\u001b[0m",
      "\u001b[1;31mTypeError\u001b[0m: sequence item 1: expected str instance, int found"
     ]
    }
   ],
   "source": [
    "row = ('ACME', 50, 91.5)\n",
    "print(','.join(row))"
   ]
  },
  {
   "cell_type": "code",
   "execution_count": 9,
   "metadata": {},
   "outputs": [
    {
     "name": "stdout",
     "output_type": "stream",
     "text": [
      "ACME,50,91.5\n"
     ]
    }
   ],
   "source": [
    "print(','.join(str(x) for x in row))"
   ]
  },
  {
   "cell_type": "markdown",
   "metadata": {},
   "source": [
    "Вместо этого вы могли бы просто написать так: "
   ]
  },
  {
   "cell_type": "code",
   "execution_count": 10,
   "metadata": {},
   "outputs": [
    {
     "name": "stdout",
     "output_type": "stream",
     "text": [
      "ACME,50,91.5\n"
     ]
    }
   ],
   "source": [
    "print(*row, sep=',')"
   ]
  },
  {
   "cell_type": "markdown",
   "metadata": {},
   "source": [
    "# Чтение и запись бинарных данных "
   ]
  },
  {
   "cell_type": "markdown",
   "metadata": {},
   "source": [
    "Вам нужно прочесть или записать бинарные данные, такие как содержимое картинок, звуковых файлов и т. п. "
   ]
  },
  {
   "cell_type": "code",
   "execution_count": 12,
   "metadata": {},
   "outputs": [],
   "source": [
    "# Прочесть весь файл как одну байтовую строку \n",
    "with open('somefile.txt', 'rb') as f:\n",
    "    data = f.read()"
   ]
  },
  {
   "cell_type": "code",
   "execution_count": 16,
   "metadata": {},
   "outputs": [],
   "source": [
    "# Записать бинарные данные в файл\n",
    "with open('somefile.bin', 'wb') as f:\n",
    "    f.write(b'Hello Word!')"
   ]
  },
  {
   "cell_type": "code",
   "execution_count": 18,
   "metadata": {},
   "outputs": [
    {
     "name": "stdout",
     "output_type": "stream",
     "text": [
      "b'Hello Word!'\n"
     ]
    }
   ],
   "source": [
    "# Прочесть весь файл как одну байтовую строку \n",
    "with open('somefile.bin', 'rb') as f:\n",
    "    data = f.read()\n",
    "    print(data)\n"
   ]
  },
  {
   "cell_type": "markdown",
   "metadata": {},
   "source": [
    "При чтении бинарных данных важно подчеркнуть, что все получаемые данные будут в форме байтовых, а не текстовых строк. Похожим образом при записи вы должны предоставить данные в форме объектов, которые представляют данные в форме байтов (байтовые строки, объекты bytearray и т. д.). "
   ]
  },
  {
   "cell_type": "markdown",
   "metadata": {},
   "source": [
    "При чтении бинарных данных тонкие сематические различия между байтовыми и текстовыми строками могут привести к проблемам. Нужно помнить, что индексирование и итерирование возвращают целочисленное байтовое значение, а не байтовые строки. Например: "
   ]
  },
  {
   "cell_type": "code",
   "execution_count": 19,
   "metadata": {},
   "outputs": [
    {
     "data": {
      "text/plain": [
       "'H'"
      ]
     },
     "execution_count": 19,
     "metadata": {},
     "output_type": "execute_result"
    }
   ],
   "source": [
    "# Текстовая строка \n",
    "t = 'Hello World'\n",
    "t[0]"
   ]
  },
  {
   "cell_type": "code",
   "execution_count": 20,
   "metadata": {},
   "outputs": [
    {
     "name": "stdout",
     "output_type": "stream",
     "text": [
      "H\n",
      "e\n",
      "l\n",
      "l\n",
      "o\n",
      " \n",
      "W\n",
      "o\n",
      "r\n",
      "l\n",
      "d\n"
     ]
    }
   ],
   "source": [
    "for c in t:\n",
    "    print(c)"
   ]
  },
  {
   "cell_type": "code",
   "execution_count": 21,
   "metadata": {},
   "outputs": [
    {
     "data": {
      "text/plain": [
       "72"
      ]
     },
     "execution_count": 21,
     "metadata": {},
     "output_type": "execute_result"
    }
   ],
   "source": [
    "# Байтовая строка\n",
    "b = b'Hello World'\n",
    "b[0]"
   ]
  },
  {
   "cell_type": "code",
   "execution_count": 22,
   "metadata": {},
   "outputs": [
    {
     "name": "stdout",
     "output_type": "stream",
     "text": [
      "72\n",
      "101\n",
      "108\n",
      "108\n",
      "111\n",
      "32\n",
      "87\n",
      "111\n",
      "114\n",
      "108\n",
      "100\n"
     ]
    }
   ],
   "source": [
    "for c in b:\n",
    "    print(c)"
   ]
  },
  {
   "cell_type": "markdown",
   "metadata": {},
   "source": [
    "Если вам когда-либо потребуется прочесть текст из или записать в открытый в бинарном режиме файл, убедитесь, что не забыли декодировать или закодировать его. Например: "
   ]
  },
  {
   "cell_type": "code",
   "execution_count": 24,
   "metadata": {},
   "outputs": [
    {
     "name": "stdout",
     "output_type": "stream",
     "text": [
      "Hello Word!\n"
     ]
    }
   ],
   "source": [
    "with open('somefile.bin', 'rb') as f:\n",
    "    data = f.read(16)\n",
    "    text = data.decode('utf-8')\n",
    "    print(text)"
   ]
  },
  {
   "cell_type": "code",
   "execution_count": 25,
   "metadata": {},
   "outputs": [
    {
     "name": "stdout",
     "output_type": "stream",
     "text": [
      "Hello World111\n"
     ]
    }
   ],
   "source": [
    "with open('somefile.bin', 'wb') as f:\n",
    "    text = 'Hello World111'\n",
    "    f.write(text.encode('utf-8'))\n",
    "    \n",
    "with open('somefile.bin', 'rb') as f:\n",
    "    data = f.read(16)\n",
    "    text = data.decode('utf-8')\n",
    "    print(text)"
   ]
  },
  {
   "cell_type": "markdown",
   "metadata": {},
   "source": [
    "Менее известный аспект бинарного ввода-вывода заключается в том, что такие объекты, как массивы и структуры языка C, могут быть использованы для записи без какого-либо промежуточного преобразования в объект bytes. Например: "
   ]
  },
  {
   "cell_type": "code",
   "execution_count": 26,
   "metadata": {},
   "outputs": [],
   "source": [
    "import array\n",
    "nums = array.array('i', [1, 2, 3, 4])\n",
    "with open('data.bin', 'wb') as f:\n",
    "    f.write(nums)"
   ]
  },
  {
   "cell_type": "code",
   "execution_count": 28,
   "metadata": {},
   "outputs": [
    {
     "name": "stdout",
     "output_type": "stream",
     "text": [
      "b'\\x01\\x00\\x00\\x00\\x02\\x00\\x00\\x00\\x03\\x00\\x00\\x00\\x04\\x00\\x00\\x00'\n"
     ]
    }
   ],
   "source": [
    "with open('data.bin', 'rb') as f:\n",
    "    data = f.read()\n",
    "    print(data)"
   ]
  },
  {
   "cell_type": "markdown",
   "metadata": {},
   "source": [
    "Это применимо к любому объекту, в котором реализован так называемый «буферный интерфейс», который напрямую дает доступ к собственному буферу памяти операциям, которые могут с ним работать. Запись бинарных данных – одна из таких операций. \n",
    "\n",
    "Многие объекты также позволяют бинарным данным напрямую быть прочитанными в их память с помощью файлового метода readinto(). Например: "
   ]
  },
  {
   "cell_type": "code",
   "execution_count": 30,
   "metadata": {},
   "outputs": [
    {
     "name": "stdout",
     "output_type": "stream",
     "text": [
      "16\n"
     ]
    }
   ],
   "source": [
    "import array\n",
    "a = array.array('i', [0, 0, 0, 0, 0, 0, 0, 0])\n",
    "with open('data.bin', 'rb') as f:\n",
    "    print(f.readinto(a))"
   ]
  },
  {
   "cell_type": "code",
   "execution_count": 31,
   "metadata": {},
   "outputs": [
    {
     "data": {
      "text/plain": [
       "array('i', [1, 2, 3, 4, 0, 0, 0, 0])"
      ]
     },
     "execution_count": 31,
     "metadata": {},
     "output_type": "execute_result"
    }
   ],
   "source": [
    "a"
   ]
  },
  {
   "cell_type": "markdown",
   "metadata": {},
   "source": [
    "Однако нужно принять все меры предосторожности при использовании этого приема, поскольку он часто является платформозависимым и зависит от таких вещей, как размер слова, порядок следования байтов (big-endian или littleendian). Далее приведен другой пример чтения бинарных данных в изменяемый (mutable) буфер. "
   ]
  },
  {
   "cell_type": "markdown",
   "metadata": {},
   "source": [
    "# Запись в файл, которого еще нет "
   ]
  },
  {
   "cell_type": "markdown",
   "metadata": {},
   "source": [
    "Вы хотите записать данные в файл, но только в том случае, если его еще нет в файловой системе. "
   ]
  },
  {
   "cell_type": "markdown",
   "metadata": {},
   "source": [
    "Эта задача легко решается с помощью использования малоизвестного режима x работы open() (вместо обычного режима w): "
   ]
  },
  {
   "cell_type": "code",
   "execution_count": 1,
   "metadata": {},
   "outputs": [],
   "source": [
    "with open('somefile8.txt', 'wt') as f:\n",
    "    f.write('Helli\\n')"
   ]
  },
  {
   "cell_type": "code",
   "execution_count": 2,
   "metadata": {},
   "outputs": [
    {
     "ename": "FileExistsError",
     "evalue": "[Errno 17] File exists: 'somefile8.txt'",
     "output_type": "error",
     "traceback": [
      "\u001b[1;31m---------------------------------------------------------------------------\u001b[0m",
      "\u001b[1;31mFileExistsError\u001b[0m                           Traceback (most recent call last)",
      "\u001b[1;32m<ipython-input-2-135e62c1b778>\u001b[0m in \u001b[0;36m<module>\u001b[1;34m()\u001b[0m\n\u001b[1;32m----> 1\u001b[1;33m \u001b[1;32mwith\u001b[0m \u001b[0mopen\u001b[0m\u001b[1;33m(\u001b[0m\u001b[1;34m'somefile8.txt'\u001b[0m\u001b[1;33m,\u001b[0m \u001b[1;34m'xt'\u001b[0m\u001b[1;33m)\u001b[0m \u001b[1;32mas\u001b[0m \u001b[0mf\u001b[0m\u001b[1;33m:\u001b[0m\u001b[1;33m\u001b[0m\u001b[0m\n\u001b[0m\u001b[0;32m      2\u001b[0m     \u001b[0mf\u001b[0m\u001b[1;33m.\u001b[0m\u001b[0mwrite\u001b[0m\u001b[1;33m(\u001b[0m\u001b[1;34m'Hello\\n'\u001b[0m\u001b[1;33m)\u001b[0m\u001b[1;33m\u001b[0m\u001b[0m\n",
      "\u001b[1;31mFileExistsError\u001b[0m: [Errno 17] File exists: 'somefile8.txt'"
     ]
    }
   ],
   "source": [
    "#уже записать нельзя\n",
    "#проверили, что такой файл есть и больше не записываем\n",
    "with open('somefile8.txt', 'xt') as f:\n",
    "    f.write('Hello\\n')"
   ]
  },
  {
   "cell_type": "markdown",
   "metadata": {},
   "source": [
    "Если файл в бинарном режиме, используйте режим xb вместо xt. "
   ]
  },
  {
   "cell_type": "markdown",
   "metadata": {},
   "source": [
    "Этот рецепт демонстрирует удивительно элегантное решение проблемы, иногда возникающей при записи в файлы (например, случайной перезаписи существующего файла). Альтернативное решение – предварительная проверка:"
   ]
  },
  {
   "cell_type": "code",
   "execution_count": 4,
   "metadata": {},
   "outputs": [
    {
     "name": "stdout",
     "output_type": "stream",
     "text": [
      "File already exists!\n"
     ]
    }
   ],
   "source": [
    "import os\n",
    "if not os.path.exists('somefile9.txt'):\n",
    "    with open('somefile9.txt', 'wt') as f:\n",
    "        f.write('Hello\\n')\n",
    "else:\n",
    "    print('File already exists!')"
   ]
  },
  {
   "cell_type": "markdown",
   "metadata": {},
   "source": [
    "Очевидно, что использование режима x намного проще. Важно отметить, что режим x доступен для функции open() только в Python 3. Этот режим не существовал в ранних версиях Python или низкоуровневневых библиотеках на языке C, использованных в реализации Python. "
   ]
  },
  {
   "cell_type": "markdown",
   "metadata": {},
   "source": [
    "# Выполнение операций ввода-вывода над строками"
   ]
  },
  {
   "cell_type": "markdown",
   "metadata": {},
   "source": [
    "Вы хотите скормить текст или бинарную строку программе, которая способна работать с файлоподобными объектами. "
   ]
  },
  {
   "cell_type": "markdown",
   "metadata": {},
   "source": [
    "Используйте классы io.StringIO() и io.BytesIO() для создания файлоподобных объектов, которые могут работать со строковыми данными. Например: "
   ]
  },
  {
   "cell_type": "code",
   "execution_count": 6,
   "metadata": {},
   "outputs": [
    {
     "data": {
      "text/plain": [
       "12"
      ]
     },
     "execution_count": 6,
     "metadata": {},
     "output_type": "execute_result"
    }
   ],
   "source": [
    "import io\n",
    "s = io.StringIO()\n",
    "s.write('Hello World\\n')"
   ]
  },
  {
   "cell_type": "code",
   "execution_count": 7,
   "metadata": {},
   "outputs": [],
   "source": [
    "print('This is a test', file=s) "
   ]
  },
  {
   "cell_type": "code",
   "execution_count": 8,
   "metadata": {},
   "outputs": [
    {
     "data": {
      "text/plain": [
       "'Hello World\\nThis is a test\\n'"
      ]
     },
     "execution_count": 8,
     "metadata": {},
     "output_type": "execute_result"
    }
   ],
   "source": [
    "#Получить все уже записанные данные\n",
    "s.getvalue()"
   ]
  },
  {
   "cell_type": "code",
   "execution_count": 9,
   "metadata": {},
   "outputs": [
    {
     "data": {
      "text/plain": [
       "'Hell'"
      ]
     },
     "execution_count": 9,
     "metadata": {},
     "output_type": "execute_result"
    }
   ],
   "source": [
    "#Обернуть существующую строку файловым интерфейсом \n",
    "s = io.StringIO('Hello\\nWorld\\n')\n",
    "s.read(4)"
   ]
  },
  {
   "cell_type": "code",
   "execution_count": 10,
   "metadata": {},
   "outputs": [
    {
     "data": {
      "text/plain": [
       "'o\\nWorld\\n'"
      ]
     },
     "execution_count": 10,
     "metadata": {},
     "output_type": "execute_result"
    }
   ],
   "source": [
    "s.read()"
   ]
  },
  {
   "cell_type": "markdown",
   "metadata": {},
   "source": [
    "Класс io.StringIO должен быть использован только для работы с текстом. Если вы работаете с бинарными данными, используйте io.BytesIO."
   ]
  },
  {
   "cell_type": "code",
   "execution_count": 11,
   "metadata": {},
   "outputs": [
    {
     "data": {
      "text/plain": [
       "b'binary data'"
      ]
     },
     "execution_count": 11,
     "metadata": {},
     "output_type": "execute_result"
    }
   ],
   "source": [
    "s = io.BytesIO() \n",
    "s.write(b'binary data')\n",
    "s.getvalue()"
   ]
  },
  {
   "cell_type": "markdown",
   "metadata": {},
   "source": [
    "Классы StringIO и BytesIO наиболее полезны в случаях, когда вам нужно подменить обычный файл. Например, в юнит-тестах вы могли бы использовать StringIO для создания файлоподобного объекта, содержащего тестовые данные, которые скармливаются функции, предназначенной для работы с файлами. Обратите внимание, что экземпляры StringIO и BytesIO не имеют настоящего целочисленного файлового дескриптора. Поэтому они не будут работать с программами, которые требуют использования настоящих системных файлов (файлов, каналов, сокетов). "
   ]
  },
  {
   "cell_type": "markdown",
   "metadata": {},
   "source": [
    "#  Чтение и запись сжатых файлов с данными "
   ]
  },
  {
   "cell_type": "markdown",
   "metadata": {},
   "source": [
    "Вам нужно прочесть или записать данные в файл, сжатый gzip или bz2. "
   ]
  },
  {
   "cell_type": "markdown",
   "metadata": {},
   "source": [
    "Модули gzip и bz2 делают работу с такими файлами очень легкой. Оба модуля предо ставляют альтернативную реализацию функции open(). Например, чтобы прочесть сжатые файлы как текст, сделайте так: "
   ]
  },
  {
   "cell_type": "code",
   "execution_count": null,
   "metadata": {},
   "outputs": [],
   "source": [
    "# Сжатие с помощью gzip \n",
    "import gzip\n",
    "with gzip.open('somefile.gz', 'rt') as f:\n",
    "    text = f.read()"
   ]
  },
  {
   "cell_type": "code",
   "execution_count": null,
   "metadata": {},
   "outputs": [],
   "source": [
    "# Сжатие с помощью bz2 \n",
    "import bz2\n",
    "with bz2.open('somefile.bz2', 'rt') as f:\n",
    "    text = f.read()"
   ]
  },
  {
   "cell_type": "markdown",
   "metadata": {},
   "source": [
    "Как показано выше, весь ввод и вывод будет использовать текст и проводить кодирование/декодирование в Unicode. Если же вы хотите работать с бинарными данными, используйте файловый режим rb или wb. "
   ]
  },
  {
   "cell_type": "markdown",
   "metadata": {},
   "source": [
    "Чтение и запись сжатых данных по большей части просты. Однако стоит знать, что выбор правильного файлового режима критически важен. Если вы не обозначите режим явно, то будет выбран режим по умолчанию, то есть бинарный, а это сломает программы, которые ожидают получить текст. gzip.open() и bz2.open() принимают те же параметры, что и встроенная функция open(), включая encoding, errors, newline и т. д. При записи сжатых данных с помощью необязательного именованного аргумента compresslevel может быть установлен уровень компрессии."
   ]
  },
  {
   "cell_type": "code",
   "execution_count": null,
   "metadata": {},
   "outputs": [],
   "source": [
    "with gzip.open('somefile.gz', 'wt', compresslevel=5) as f:     \n",
    "    f.write(text)"
   ]
  },
  {
   "cell_type": "markdown",
   "metadata": {},
   "source": [
    "Уровень по умолчанию – это 9, то есть наивысший. Более низкие уровни увеличивают скорость, но снижают степень сжатия данных."
   ]
  },
  {
   "cell_type": "markdown",
   "metadata": {},
   "source": [
    "И последнее: малоизвестная особенность gzip.open() и bz2.open() заключается в том, что они могут работать уровнем выше существующего файла, открытого в бинарном режиме. Например, такой код работает:\n"
   ]
  },
  {
   "cell_type": "code",
   "execution_count": null,
   "metadata": {},
   "outputs": [],
   "source": [
    "import \n",
    " \n",
    "f = open('somefile.gz', 'rb') \n",
    "with gzip.open(f, 'rt') as g:     \n",
    "    text = g.read() "
   ]
  },
  {
   "cell_type": "markdown",
   "metadata": {},
   "source": [
    "Это позволяет модулям gzip и bz2 работать с различными файлоподобными объектами, такими как сокеты, каналы и файлы в оперативной памяти. "
   ]
  },
  {
   "cell_type": "markdown",
   "metadata": {},
   "source": [
    "#  Итерирование по записям фиксированного размера "
   ]
  },
  {
   "cell_type": "markdown",
   "metadata": {},
   "source": [
    "Вместо того чтобы итерировать по файлу построчно, вы хотите итерировать по коллекции записей фиксированного размера или кусочкам (\"chunk\"). "
   ]
  },
  {
   "cell_type": "markdown",
   "metadata": {},
   "source": [
    "Используйте функции iter() и functools.partial(), чтобы выполнить этот клевый фокус:\n"
   ]
  },
  {
   "cell_type": "code",
   "execution_count": 3,
   "metadata": {},
   "outputs": [],
   "source": [
    " with open('somefile777.data', 'w') as f:     \n",
    "    f.write(\"Малоизвестная возможность функции iter() заключается в том, что она может создать итератор, если вы передадите ей вызываемый объект и пороговое значение. Получившийся итератор просто снова и снова вызывает предоставленный вызываемый объект, пока он не вернет пороговое значение, что приведет к завершению итерирования. В вышеприведенном решении functools.partial используется для создания вызываемого объекта, который читает фиксированное количество байтов из файла каждый раз, когда вызывается. Пороговое значение b'' – то, что будет возвращено при попытке чтения файла, когда будет достигнут его конец.\")"
   ]
  },
  {
   "cell_type": "code",
   "execution_count": 4,
   "metadata": {},
   "outputs": [
    {
     "name": "stdout",
     "output_type": "stream",
     "text": [
      "b'\\xcc\\xe0\\xeb\\xee\\xe8\\xe7\\xe2\\xe5\\xf1\\xf2\\xed\\xe0\\xff \\xe2\\xee\\xe7\\xec\\xee\\xe6\\xed\\xee\\xf1\\xf2\\xfc \\xf4\\xf3\\xed\\xea\\xf6\\xe8'\n",
      "b'\\xe8 iter() \\xe7\\xe0\\xea\\xeb\\xfe\\xf7\\xe0\\xe5\\xf2\\xf1\\xff \\xe2\\xa0\\xf2\\xee\\xec, \\xf7\\xf2\\xee '\n",
      "b'\\xee\\xed\\xe0 \\xec\\xee\\xe6\\xe5\\xf2 \\xf1\\xee\\xe7\\xe4\\xe0\\xf2\\xfc \\xe8\\xf2\\xe5\\xf0\\xe0\\xf2\\xee\\xf0, \\xe5\\xf1\\xeb\\xe8'\n",
      "b' \\xe2\\xfb \\xef\\xe5\\xf0\\xe5\\xe4\\xe0\\xe4\\xe8\\xf2\\xe5 \\xe5\\xe9 \\xe2\\xfb\\xe7\\xfb\\xe2\\xe0\\xe5\\xec\\xfb\\xe9 \\xee\\xe1\\xfa'\n",
      "b'\\xe5\\xea\\xf2 \\xe8\\xa0\\xef\\xee\\xf0\\xee\\xe3\\xee\\xe2\\xee\\xe5 \\xe7\\xed\\xe0\\xf7\\xe5\\xed\\xe8\\xe5. \\xcf\\xee\\xeb\\xf3\\xf7\\xe8'\n",
      "b'\\xe2\\xf8\\xe8\\xe9\\xf1\\xff \\xe8\\xf2\\xe5\\xf0\\xe0\\xf2\\xee\\xf0 \\xef\\xf0\\xee\\xf1\\xf2\\xee \\xf1\\xed\\xee\\xe2\\xe0 \\xe8\\xa0\\xf1'\n",
      "b'\\xed\\xee\\xe2\\xe0 \\xe2\\xfb\\xe7\\xfb\\xe2\\xe0\\xe5\\xf2 \\xef\\xf0\\xe5\\xe4\\xee\\xf1\\xf2\\xe0\\xe2\\xeb\\xe5\\xed\\xed\\xfb\\xe9 \\xe2\\xfb'\n",
      "b'\\xe7\\xfb\\xe2\\xe0\\xe5\\xec\\xfb\\xe9 \\xee\\xe1\\xfa\\xe5\\xea\\xf2, \\xef\\xee\\xea\\xe0 \\xee\\xed \\xed\\xe5 \\xe2\\xe5\\xf0\\xed'\n",
      "b'\\xe5\\xf2 \\xef\\xee\\xf0\\xee\\xe3\\xee\\xe2\\xee\\xe5 \\xe7\\xed\\xe0\\xf7\\xe5\\xed\\xe8\\xe5, \\xf7\\xf2\\xee \\xef\\xf0\\xe8\\xe2\\xe5'\n",
      "b'\\xe4\\xe5\\xf2 \\xea\\xa0\\xe7\\xe0\\xe2\\xe5\\xf0\\xf8\\xe5\\xed\\xe8\\xfe \\xe8\\xf2\\xe5\\xf0\\xe8\\xf0\\xee\\xe2\\xe0\\xed\\xe8\\xff. \\xc2'\n",
      "b' \\xe2\\xfb\\xf8\\xe5\\xef\\xf0\\xe8\\xe2\\xe5\\xe4\\xe5\\xed\\xed\\xee\\xec \\xf0\\xe5\\xf8\\xe5\\xed\\xe8\\xe8 functoo'\n",
      "b'ls.partial \\xe8\\xf1\\xef\\xee\\xeb\\xfc\\xe7\\xf3\\xe5\\xf2\\xf1\\xff \\xe4\\xeb\\xff \\xf1\\xee\\xe7\\xe4'\n",
      "b'\\xe0\\xed\\xe8\\xff \\xe2\\xfb\\xe7\\xfb\\xe2\\xe0\\xe5\\xec\\xee\\xe3\\xee \\xee\\xe1\\xfa\\xe5\\xea\\xf2\\xe0, \\xea\\xee\\xf2\\xee\\xf0\\xfb'\n",
      "b'\\xe9 \\xf7\\xe8\\xf2\\xe0\\xe5\\xf2 \\xf4\\xe8\\xea\\xf1\\xe8\\xf0\\xee\\xe2\\xe0\\xed\\xed\\xee\\xe5 \\xea\\xee\\xeb\\xe8\\xf7\\xe5\\xf1\\xf2\\xe2'\n",
      "b'\\xee \\xe1\\xe0\\xe9\\xf2\\xee\\xe2 \\xe8\\xe7 \\xf4\\xe0\\xe9\\xeb\\xe0 \\xea\\xe0\\xe6\\xe4\\xfb\\xe9 \\xf0\\xe0\\xe7, \\xea\\xee'\n",
      "b'\\xe3\\xe4\\xe0 \\xe2\\xfb\\xe7\\xfb\\xe2\\xe0\\xe5\\xf2\\xf1\\xff. \\xcf\\xee\\xf0\\xee\\xe3\\xee\\xe2\\xee\\xe5 \\xe7\\xed\\xe0\\xf7\\xe5\\xed'\n",
      "b\"\\xe8\\xe5 b''\\xa0\\x96 \\xf2\\xee, \\xf7\\xf2\\xee \\xe1\\xf3\\xe4\\xe5\\xf2 \\xe2\\xee\\xe7\\xe2\\xf0\\xe0\\xf9\\xe5\\xed\"\n",
      "b'\\xee \\xef\\xf0\\xe8 \\xef\\xee\\xef\\xfb\\xf2\\xea\\xe5 \\xf7\\xf2\\xe5\\xed\\xe8\\xff \\xf4\\xe0\\xe9\\xeb\\xe0, \\xea\\xee\\xe3\\xe4'\n",
      "b'\\xe0 \\xe1\\xf3\\xe4\\xe5\\xf2 \\xe4\\xee\\xf1\\xf2\\xe8\\xe3\\xed\\xf3\\xf2 \\xe5\\xe3\\xee \\xea\\xee\\xed\\xe5\\xf6.'\n"
     ]
    }
   ],
   "source": [
    "from functools import partial \n",
    " \n",
    "RECORD_SIZE = 32 \n",
    " \n",
    "with open('somefile777.data', 'rb') as f:     \n",
    "    records = iter(partial(f.read, RECORD_SIZE), b'')     \n",
    "    for r in records:  \n",
    "        print(r)"
   ]
  },
  {
   "cell_type": "code",
   "execution_count": 6,
   "metadata": {},
   "outputs": [
    {
     "name": "stdout",
     "output_type": "stream",
     "text": [
      "Малоизвест\n",
      "ная возмож\n",
      "ность функ\n",
      "ции iter()\n",
      " заключает\n",
      "ся в том, \n",
      "что она мо\n",
      "жет создат\n",
      "ь итератор\n",
      ", если вы \n",
      "передадите\n",
      " ей вызыва\n",
      "емый объек\n",
      "т и порого\n",
      "вое значен\n",
      "ие. Получи\n",
      "вшийся ите\n",
      "ратор прос\n",
      "то снова и\n",
      " снова выз\n",
      "ывает пред\n",
      "оставленны\n",
      "й вызываем\n",
      "ый объект,\n",
      " пока он н\n",
      "е вернет п\n",
      "ороговое з\n",
      "начение, ч\n",
      "то приведе\n",
      "т к заверш\n",
      "ению итери\n",
      "рования. В\n",
      " вышеприве\n",
      "денном реш\n",
      "ении funct\n",
      "ools.parti\n",
      "al использ\n",
      "уется для \n",
      "создания в\n",
      "ызываемого\n",
      " объекта, \n",
      "который чи\n",
      "тает фикси\n",
      "рованное к\n",
      "оличество \n",
      "байтов из \n",
      "файла кажд\n",
      "ый раз, ко\n",
      "гда вызыва\n",
      "ется. Поро\n",
      "говое знач\n",
      "ение b'' –\n",
      " то, что б\n",
      "удет возвр\n",
      "ащено при \n",
      "попытке чт\n",
      "ения файла\n",
      ", когда бу\n",
      "дет достиг\n",
      "нут его ко\n",
      "нец.\n"
     ]
    }
   ],
   "source": [
    "from functools import partial \n",
    " \n",
    "RECORD_SIZE = 10 \n",
    " \n",
    "with open('somefile777.data', 'r') as f:     \n",
    "    records = iter(partial(f.read, RECORD_SIZE), '')     \n",
    "    for r in records:  \n",
    "        print(r)"
   ]
  },
  {
   "cell_type": "markdown",
   "metadata": {},
   "source": [
    "Объект records в этом примере является итерируемым; он будет производить кусочки фиксированного размера, пока не будет достигнут конец файла. Однако стоит отметить, что в последнем элементе может быть на несколько байтов меньше, чем ожидается, если размер файла не делится на точную длину размера записи. "
   ]
  },
  {
   "cell_type": "markdown",
   "metadata": {},
   "source": [
    "Малоизвестная возможность функции iter() заключается в том, что она может создать итератор, если вы передадите ей вызываемый объект и пороговое значение. Получившийся итератор просто снова и снова вызывает предоставленный вызываемый объект, пока он не вернет пороговое значение, что приведет к завершению итерирования. \n",
    "\n",
    "В вышеприведенном решении functools.partial используется для создания вызываемого объекта, который читает фиксированное количество байтов из файла каждый раз, когда вызывается. Пороговое значение b'' – то, что будет возвращено при попытке чтения файла, когда будет достигнут его конец. \n",
    "\n",
    "И последнее: в показанном выше решении файл был открыт в бинарном режиме. Для чтений записей фиксированного размера это является наиболее распространенным случаем. В случае же текстовых файлов более распространенным будет построчное чтение (итератор выполняет его по умолчанию). "
   ]
  },
  {
   "cell_type": "markdown",
   "metadata": {},
   "source": [
    "#  Чтение бинарных данных в изменяемый(мутабельный) буфер"
   ]
  },
  {
   "cell_type": "markdown",
   "metadata": {},
   "source": [
    "Вы хотите читать бинарные данные непосредственно в изменяемый буфер без какого-либо промежуточного копирования. Возможно, вы хотите изменить данные\n",
    "на месте и записать их обратно в файл."
   ]
  },
  {
   "cell_type": "markdown",
   "metadata": {},
   "source": [
    "Чтобы прочесть данные в  изменяемый массив, используйте файловый метод\n",
    "readinto(). Например:"
   ]
  },
  {
   "cell_type": "code",
   "execution_count": 6,
   "metadata": {},
   "outputs": [],
   "source": [
    "import os.path"
   ]
  },
  {
   "cell_type": "code",
   "execution_count": 10,
   "metadata": {},
   "outputs": [],
   "source": [
    "def read_into_buffer(filename):\n",
    "    buf =  bytearray(os.path.getsize(filename))\n",
    "    with open(filename, 'rb') as f:\n",
    "        f.readinto(buf)\n",
    "        return buf"
   ]
  },
  {
   "cell_type": "markdown",
   "metadata": {},
   "source": [
    "Вот пример использования:\n"
   ]
  },
  {
   "cell_type": "code",
   "execution_count": 11,
   "metadata": {},
   "outputs": [],
   "source": [
    "# Записываем файл примера\n",
    "with open('somefile555.txt', 'wb') as f:\n",
    "    f.write(b'Hello Word')"
   ]
  },
  {
   "cell_type": "code",
   "execution_count": 12,
   "metadata": {},
   "outputs": [
    {
     "data": {
      "text/plain": [
       "bytearray(b'Hello Word')"
      ]
     },
     "execution_count": 12,
     "metadata": {},
     "output_type": "execute_result"
    }
   ],
   "source": [
    "buf = read_into_buffer('somefile555.txt')\n",
    "buf"
   ]
  },
  {
   "cell_type": "code",
   "execution_count": 13,
   "metadata": {},
   "outputs": [
    {
     "data": {
      "text/plain": [
       "bytearray(b'Hello')"
      ]
     },
     "execution_count": 13,
     "metadata": {},
     "output_type": "execute_result"
    }
   ],
   "source": [
    "buf[0:5]"
   ]
  },
  {
   "cell_type": "code",
   "execution_count": 14,
   "metadata": {},
   "outputs": [
    {
     "data": {
      "text/plain": [
       "bytearray(b'Hello Word')"
      ]
     },
     "execution_count": 14,
     "metadata": {},
     "output_type": "execute_result"
    }
   ],
   "source": [
    "buf"
   ]
  },
  {
   "cell_type": "code",
   "execution_count": 16,
   "metadata": {},
   "outputs": [],
   "source": [
    "with open('newsomefile555.txt', 'wb') as f:\n",
    "    f.write(buf)"
   ]
  },
  {
   "cell_type": "markdown",
   "metadata": {},
   "source": [
    "Метод readinto() может быть использован для заполнения данными любого предварительно выделенного (preallocated) массива. Это даже включает массивы, созданные с помощью модуля array или библиотек типа numpy. В отличие от обычного метода read(), метод readinto() заполняет содержание текущего буфера вместо\n",
    "выделения и возвращения новых объектов. Так что вы можете использовать его,\n",
    "чтобы избежать излишних выделений памяти. Например, если вы читаете бинарный файл, состоящий из записей одинакового размера, то можете написать такую программу:"
   ]
  },
  {
   "cell_type": "code",
   "execution_count": null,
   "metadata": {},
   "outputs": [],
   "source": [
    "record_size = 32\n",
    "\n",
    "buf = bytearray(record_size)\n",
    "with open('somefile', 'rb') as f:\n",
    "    while True:\n",
    "        n = f.readinto(buf)\n",
    "        if n < record_size:\n",
    "            break\n",
    "            \n",
    "        #Используем содержимое буфера\n",
    "        "
   ]
  },
  {
   "cell_type": "markdown",
   "metadata": {},
   "source": [
    "Еще одна интересная возможность – функция memoryview(), которая позволяет\n",
    "делать срезы zero-copy1\n",
    " существующего буфера и даже менять его содержимое.\n",
    "Например:"
   ]
  },
  {
   "cell_type": "markdown",
   "metadata": {},
   "source": [
    "https://ru.wikipedia.org/wiki/Zero-copy"
   ]
  },
  {
   "cell_type": "code",
   "execution_count": 17,
   "metadata": {},
   "outputs": [
    {
     "data": {
      "text/plain": [
       "bytearray(b'Hello Word')"
      ]
     },
     "execution_count": 17,
     "metadata": {},
     "output_type": "execute_result"
    }
   ],
   "source": [
    "buf"
   ]
  },
  {
   "cell_type": "code",
   "execution_count": 18,
   "metadata": {},
   "outputs": [],
   "source": [
    "m1 = memoryview(buf)"
   ]
  },
  {
   "cell_type": "code",
   "execution_count": 19,
   "metadata": {},
   "outputs": [
    {
     "data": {
      "text/plain": [
       "<memory at 0x03DBE5E0>"
      ]
     },
     "execution_count": 19,
     "metadata": {},
     "output_type": "execute_result"
    }
   ],
   "source": [
    "m2 = m1[-5:]\n",
    "m2"
   ]
  },
  {
   "cell_type": "code",
   "execution_count": 23,
   "metadata": {},
   "outputs": [
    {
     "data": {
      "text/plain": [
       "bytearray(b'HelloWORLD')"
      ]
     },
     "execution_count": 23,
     "metadata": {},
     "output_type": "execute_result"
    }
   ],
   "source": [
    "m2[:] = b'WORLD'\n",
    "buf"
   ]
  },
  {
   "cell_type": "markdown",
   "metadata": {},
   "source": [
    "При использовании метода f.readinto() нужно соблюдать осторожность: вы\n",
    "должны всегда проверять его код возврата, который является количеством фактически прочтенных байтов.\n",
    "Если число байтов меньше размера предоставленного буфера, это может указывать на повреждение данных (например, если вы ожидали, что будет прочитано\n",
    "точное количество байтов).\n",
    "\n",
    "И последнее: посмотрите на другие функции типа «into» в различных библиотечных модулях (например, recv_into(), pack_into() и т. д.). \n",
    "\n",
    "Многие другие компоненты Python имеют поддержку прямого ввода-вывода и доступа к данным, которая\n",
    "может быть использована для заполнения или изменения содержания массивов и буферов.\n",
    "\n",
    "Далее будет приведен значительно более продвинутый пример интерпретации бинарных структур и использования представлений памяти (memoryviews)"
   ]
  },
  {
   "cell_type": "markdown",
   "metadata": {},
   "source": [
    "https://stackoverflow.com/questions/15962119/using-bytearray-with-socket-recv-into"
   ]
  },
  {
   "cell_type": "markdown",
   "metadata": {},
   "source": [
    "#  Отображаемые в память бинарные файлы"
   ]
  },
  {
   "cell_type": "markdown",
   "metadata": {},
   "source": [
    "https://ru.wikipedia.org/wiki/%D0%9E%D1%82%D0%BE%D0%B1%D1%80%D0%B0%D0%B6%D0%B5%D0%BD%D0%B8%D0%B5_%D1%84%D0%B0%D0%B9%D0%BB%D0%B0_%D0%B2_%D0%BF%D0%B0%D0%BC%D1%8F%D1%82%D1%8C"
   ]
  },
  {
   "cell_type": "markdown",
   "metadata": {},
   "source": [
    "Вы хотите отобразить в  память бинарный файл в  форме изменяемого массива\n",
    "байтов – вероятно, для произвольного доступа к его содержимому или изменений\n",
    "прямо на месте."
   ]
  },
  {
   "cell_type": "markdown",
   "metadata": {},
   "source": [
    "Используйте модуль mmap для отображения файлов в память. Вот полезная функция, с помощью которой можно открыть файл и отобразить его в память переносимым способом:"
   ]
  },
  {
   "cell_type": "code",
   "execution_count": 2,
   "metadata": {},
   "outputs": [],
   "source": [
    "import os\n",
    "import mmap"
   ]
  },
  {
   "cell_type": "code",
   "execution_count": 6,
   "metadata": {},
   "outputs": [],
   "source": [
    "def memory_map(filename, access=mmap.ACCESS_WRITE):\n",
    "    size = os.path.getsize(filename)\n",
    "    fd = os.open(filename, os.O_RDWR)\n",
    "    return mmap.mmap(fd, size, access=access)"
   ]
  },
  {
   "cell_type": "markdown",
   "metadata": {},
   "source": [
    "Чтобы использовать эту функцию, вам нужен уже созданный и наполненный\n",
    "данными файл. Вот пример того, как вы можете сначала создать файл и увеличить\n",
    "его до нужного размера:"
   ]
  },
  {
   "cell_type": "markdown",
   "metadata": {},
   "source": [
    "https://www.tutorialspoint.com/python/os_open.htm"
   ]
  },
  {
   "cell_type": "code",
   "execution_count": 7,
   "metadata": {},
   "outputs": [],
   "source": [
    "size = 1000000\n",
    "with open('data', 'wb') as f:\n",
    "    f.seek(size-1)\n",
    "    f.write(b'x00')"
   ]
  },
  {
   "cell_type": "markdown",
   "metadata": {},
   "source": [
    "А вот пример отображения содержимого в память с помощью функции memory_\n",
    "map():"
   ]
  },
  {
   "cell_type": "code",
   "execution_count": 8,
   "metadata": {},
   "outputs": [
    {
     "data": {
      "text/plain": [
       "1000002"
      ]
     },
     "execution_count": 8,
     "metadata": {},
     "output_type": "execute_result"
    }
   ],
   "source": [
    "m = memory_map('data')\n",
    "len(m)"
   ]
  },
  {
   "cell_type": "code",
   "execution_count": 9,
   "metadata": {},
   "outputs": [
    {
     "data": {
      "text/plain": [
       "b'\\x00\\x00\\x00\\x00\\x00\\x00\\x00\\x00\\x00\\x00'"
      ]
     },
     "execution_count": 9,
     "metadata": {},
     "output_type": "execute_result"
    }
   ],
   "source": [
    "m[0:10]"
   ]
  },
  {
   "cell_type": "code",
   "execution_count": 10,
   "metadata": {},
   "outputs": [
    {
     "data": {
      "text/plain": [
       "0"
      ]
     },
     "execution_count": 10,
     "metadata": {},
     "output_type": "execute_result"
    }
   ],
   "source": [
    "m[0]"
   ]
  },
  {
   "cell_type": "code",
   "execution_count": 12,
   "metadata": {},
   "outputs": [],
   "source": [
    "# Переприсваивание среза\n",
    "m[0:11] = b'Hello World'"
   ]
  },
  {
   "cell_type": "code",
   "execution_count": 13,
   "metadata": {},
   "outputs": [],
   "source": [
    "m.close()"
   ]
  },
  {
   "cell_type": "code",
   "execution_count": 14,
   "metadata": {},
   "outputs": [
    {
     "name": "stdout",
     "output_type": "stream",
     "text": [
      "b'Hello World'\n"
     ]
    }
   ],
   "source": [
    "# Проверка того, что изменения были сделаны\n",
    "with open('data', 'rb') as f:\n",
    "    print(f.read(11))"
   ]
  },
  {
   "cell_type": "markdown",
   "metadata": {},
   "source": [
    "Объект mmap, возвращаемый функцией mmap(), может быть также использован в качестве менеджера контекста. В этом случае отображенный файл закрывается автоматически. Например:"
   ]
  },
  {
   "cell_type": "code",
   "execution_count": 15,
   "metadata": {},
   "outputs": [
    {
     "name": "stdout",
     "output_type": "stream",
     "text": [
      "1000002\n",
      "b'Hello Worl'\n"
     ]
    }
   ],
   "source": [
    "with memory_map('data') as m:\n",
    "    print(len(m))\n",
    "    print(m[0:10])"
   ]
  },
  {
   "cell_type": "code",
   "execution_count": 16,
   "metadata": {},
   "outputs": [
    {
     "data": {
      "text/plain": [
       "<function mmap.close>"
      ]
     },
     "execution_count": 16,
     "metadata": {},
     "output_type": "execute_result"
    }
   ],
   "source": [
    "m.close"
   ]
  },
  {
   "cell_type": "markdown",
   "metadata": {},
   "source": [
    "По умолчанию показанная функция memory_map() открывает файл и на чтение,\n",
    "и на запись. Любые изменения данных копируются в исходный файл. Если требуется организовать доступ только для чтения, предоставьте mmap.ACCESS_READ\n",
    "в качестве аргумента access. Например:\n"
   ]
  },
  {
   "cell_type": "code",
   "execution_count": null,
   "metadata": {},
   "outputs": [],
   "source": [
    "#filename это 'data'\n",
    "m = memory_map(filename, mmap.ACCESS_READ)"
   ]
  },
  {
   "cell_type": "markdown",
   "metadata": {},
   "source": [
    "Если вы намерены локально изменять данные, но не хотите, чтобы изменения\n",
    "записывались в исходный файл, используйте mmap.ACCESS_COPY:"
   ]
  },
  {
   "cell_type": "code",
   "execution_count": null,
   "metadata": {},
   "outputs": [],
   "source": [
    "m = memory_map(filename, mmap.ACCESS_COPY)"
   ]
  },
  {
   "cell_type": "markdown",
   "metadata": {},
   "source": [
    "Использование mmap для отображения файлов в память может стать элегантным\n",
    "и эффективным решением для произвольного доступа к содержимому файла. Например, вместо открытия файла и выполнения различных комбинаций вызовов\n",
    "seek(), read() и write() вы просто отображаете файл и получаете доступ к любым\n",
    "данным через операции извлечения срезов.\n",
    "Обычно память, выделяемая mmap(), выглядит как объект bytearray. Однако вы\n",
    "можете интерпретировать данные по-разному, используя функцию memoryview.\n",
    "Например:"
   ]
  },
  {
   "cell_type": "code",
   "execution_count": 18,
   "metadata": {},
   "outputs": [],
   "source": [
    "m = memory_map('data')"
   ]
  },
  {
   "cell_type": "code",
   "execution_count": null,
   "metadata": {},
   "outputs": [],
   "source": [
    "# Представление памяти беззнаковых целых чисел\n",
    "v = memoryview(m).cast('I')\n",
    "v[0] = 7\n",
    "m[0:4]"
   ]
  },
  {
   "cell_type": "code",
   "execution_count": null,
   "metadata": {},
   "outputs": [],
   "source": [
    "m[0:4] = b'\\x07\\x01\\x00\\x00'\n",
    "v[0]\n",
    "#263"
   ]
  },
  {
   "cell_type": "markdown",
   "metadata": {},
   "source": [
    "Стоит отметить, что отображение файла в память не вызывает чтения файла\n",
    "в память целиком. Он не копируется в некий буфер памяти или массив. Вместо\n",
    "этого операционная система выделяет участок виртуальной памяти под содержимое файла. По мере того как вы обращаетесь к различным участкам, эти куски\n",
    "файла будут читаться и отображаться в участок памяти по мере необходимости.\n",
    "Однако части файла, к  которым никогда не производился доступ, останутся на\n",
    "диске.\n",
    "Если не единственный интерпретатор Python отображает в память один и тот\n",
    "же файл, получившийся объект mmap может быть использован для обмена данными между интерпретаторами. Интерпретаторы могут читать и  записывать\n",
    "данные одновременно, и изменения, которые были сделаны в одном интерпретаторе, автоматически будут доступны в других. Очевидно, что синхронизация требует дополнительного внимания, но этот подход иногда используется в качестве\n",
    "альтернативы передаче данных через каналы или сокеты."
   ]
  },
  {
   "cell_type": "markdown",
   "metadata": {},
   "source": [
    "Показанный выше рецепт написан максимально обобщенно, он работает\n",
    "и в Windows, и в Unix. Однако стоит отметить, что есть специфические для каждой\n",
    "платформы отличия в том, как «под капотом» работает mmap(). Также есть возможности по созданию анонимно отображенных участков памяти. Если вас это\n",
    "интересует, прочтите соответствующий раздел документации Python1\n",
    "."
   ]
  },
  {
   "cell_type": "markdown",
   "metadata": {},
   "source": [
    "https://docs.python.org/3/library/mmap.html"
   ]
  },
  {
   "cell_type": "markdown",
   "metadata": {},
   "source": [
    "# Манипулирование путями к файлам"
   ]
  },
  {
   "cell_type": "markdown",
   "metadata": {},
   "source": [
    "Вам нужно манипулировать путями к файлам, чтобы найти имя файла, название\n",
    "каталога, абсолютный путь и т. д."
   ]
  },
  {
   "cell_type": "markdown",
   "metadata": {},
   "source": [
    "Для работы с  файловыми путями используйте функции из модуля os.path. Вот\n",
    "пример, который иллюстрирует несколько ключевых возможностей:"
   ]
  },
  {
   "cell_type": "code",
   "execution_count": 1,
   "metadata": {},
   "outputs": [],
   "source": [
    "import os"
   ]
  },
  {
   "cell_type": "code",
   "execution_count": 3,
   "metadata": {},
   "outputs": [],
   "source": [
    "path = r'C:\\Users\\user\\data'"
   ]
  },
  {
   "cell_type": "code",
   "execution_count": 4,
   "metadata": {},
   "outputs": [
    {
     "data": {
      "text/plain": [
       "'data'"
      ]
     },
     "execution_count": 4,
     "metadata": {},
     "output_type": "execute_result"
    }
   ],
   "source": [
    "# Получение последнего компонента пути\n",
    "os.path.basename(path)\n",
    "    "
   ]
  },
  {
   "cell_type": "code",
   "execution_count": 5,
   "metadata": {},
   "outputs": [
    {
     "data": {
      "text/plain": [
       "'C:\\\\Users\\\\user'"
      ]
     },
     "execution_count": 5,
     "metadata": {},
     "output_type": "execute_result"
    }
   ],
   "source": [
    "# Получение имени каталога\n",
    "os.path.dirname(path)"
   ]
  },
  {
   "cell_type": "code",
   "execution_count": 6,
   "metadata": {},
   "outputs": [
    {
     "data": {
      "text/plain": [
       "'tmp\\\\data\\\\data'"
      ]
     },
     "execution_count": 6,
     "metadata": {},
     "output_type": "execute_result"
    }
   ],
   "source": [
    "# Соединение компонентов пути\n",
    "os.path.join('tmp', 'data', os.path.basename(path))"
   ]
  },
  {
   "cell_type": "code",
   "execution_count": null,
   "metadata": {},
   "outputs": [],
   "source": [
    "# Раскрытие домашнего каталога пользователя\n",
    "path = '~/user/data'"
   ]
  },
  {
   "cell_type": "code",
   "execution_count": 7,
   "metadata": {},
   "outputs": [
    {
     "data": {
      "text/plain": [
       "'C:\\\\Users\\\\user\\\\data'"
      ]
     },
     "execution_count": 7,
     "metadata": {},
     "output_type": "execute_result"
    }
   ],
   "source": [
    "os.path.expanduser(path)"
   ]
  },
  {
   "cell_type": "code",
   "execution_count": 9,
   "metadata": {},
   "outputs": [
    {
     "data": {
      "text/plain": [
       "('C:\\\\Users\\\\user\\\\data', '')"
      ]
     },
     "execution_count": 9,
     "metadata": {},
     "output_type": "execute_result"
    }
   ],
   "source": [
    "# Отделение расширения файла\n",
    "os.path.splitext(path)"
   ]
  },
  {
   "cell_type": "markdown",
   "metadata": {},
   "source": [
    "Для любых манипуляций с  именами файлов вы должны использовать модуль\n",
    "os.path, а  не изобретать собственный код из стандартных строковых операций.\n",
    "Во-первых, это важно для переносимости. Модуль os.path понимает различия\n",
    "между Unix и Windows и  может надежно работать с  именами типа Data/data.csv\n",
    "и Data\\data.csv. Во-вторых, вы не должны тратить время на изобретение колеса.\n",
    "Обычно лучше использовать готовые решения."
   ]
  },
  {
   "cell_type": "markdown",
   "metadata": {},
   "source": [
    "Стоит отметить, что в модуле os.path намного больше возможностей, чем показано в этом рецепте. Обратитесь к документации, чтобы узнать о функциях для\n",
    "тестирования файлов, работы с символическими ссылками и тд"
   ]
  },
  {
   "cell_type": "markdown",
   "metadata": {},
   "source": [
    "# Проверка существования файла\n"
   ]
  },
  {
   "cell_type": "markdown",
   "metadata": {},
   "source": [
    "Вам нужно выяснить, существует ли файл или каталог"
   ]
  },
  {
   "cell_type": "markdown",
   "metadata": {},
   "source": [
    "Используйте os.path, чтобы проверить, существует ли файл или каталог. Например:"
   ]
  },
  {
   "cell_type": "code",
   "execution_count": 10,
   "metadata": {},
   "outputs": [
    {
     "data": {
      "text/plain": [
       "False"
      ]
     },
     "execution_count": 10,
     "metadata": {},
     "output_type": "execute_result"
    }
   ],
   "source": [
    "import os\n",
    "os.path.exists('/etc/passwd')"
   ]
  },
  {
   "cell_type": "code",
   "execution_count": 12,
   "metadata": {},
   "outputs": [
    {
     "data": {
      "text/plain": [
       "True"
      ]
     },
     "execution_count": 12,
     "metadata": {},
     "output_type": "execute_result"
    }
   ],
   "source": [
    "os.path.exists(r'C:\\Users\\user\\data')"
   ]
  },
  {
   "cell_type": "markdown",
   "metadata": {},
   "source": [
    "Вы можете выполнить дополнительные тесты, чтобы проверить тип файла. Эти\n",
    "проверки возвращают False, если файл не существует:"
   ]
  },
  {
   "cell_type": "code",
   "execution_count": 13,
   "metadata": {},
   "outputs": [
    {
     "data": {
      "text/plain": [
       "True"
      ]
     },
     "execution_count": 13,
     "metadata": {},
     "output_type": "execute_result"
    }
   ],
   "source": [
    "# Это обычный файл?\n",
    "os.path.isfile(r'C:\\Users\\user\\data')"
   ]
  },
  {
   "cell_type": "code",
   "execution_count": 14,
   "metadata": {},
   "outputs": [
    {
     "data": {
      "text/plain": [
       "False"
      ]
     },
     "execution_count": 14,
     "metadata": {},
     "output_type": "execute_result"
    }
   ],
   "source": [
    "# Это каталог?\n",
    "os.path.isdir(r'C:\\Users\\user\\data')"
   ]
  },
  {
   "cell_type": "code",
   "execution_count": 15,
   "metadata": {},
   "outputs": [
    {
     "data": {
      "text/plain": [
       "False"
      ]
     },
     "execution_count": 15,
     "metadata": {},
     "output_type": "execute_result"
    }
   ],
   "source": [
    "# Это символическая ссылка?\n",
    "os.path.islink(r'C:\\Users\\user\\data')"
   ]
  },
  {
   "cell_type": "code",
   "execution_count": 16,
   "metadata": {},
   "outputs": [
    {
     "data": {
      "text/plain": [
       "'C:\\\\Users\\\\user\\\\data'"
      ]
     },
     "execution_count": 16,
     "metadata": {},
     "output_type": "execute_result"
    }
   ],
   "source": [
    "# Получить прилинкованный файл\n",
    "os.path.realpath(r'C:\\Users\\user\\data')"
   ]
  },
  {
   "cell_type": "markdown",
   "metadata": {},
   "source": [
    "Если вам нужно получить метаданные (например, размер или дату изменения\n",
    "файла), это тоже можно сделать с помощью модуля os.path:"
   ]
  },
  {
   "cell_type": "code",
   "execution_count": 17,
   "metadata": {},
   "outputs": [
    {
     "data": {
      "text/plain": [
       "1000002"
      ]
     },
     "execution_count": 17,
     "metadata": {},
     "output_type": "execute_result"
    }
   ],
   "source": [
    "os.path.getsize(r'C:\\Users\\user\\data')"
   ]
  },
  {
   "cell_type": "code",
   "execution_count": 18,
   "metadata": {},
   "outputs": [
    {
     "data": {
      "text/plain": [
       "1576584624.7296865"
      ]
     },
     "execution_count": 18,
     "metadata": {},
     "output_type": "execute_result"
    }
   ],
   "source": [
    "os.path.getmtime(r'C:\\Users\\user\\data')"
   ]
  },
  {
   "cell_type": "code",
   "execution_count": 21,
   "metadata": {},
   "outputs": [
    {
     "data": {
      "text/plain": [
       "'Tue Dec 17 12:10:24 2019'"
      ]
     },
     "execution_count": 21,
     "metadata": {},
     "output_type": "execute_result"
    }
   ],
   "source": [
    "import time\n",
    "time.ctime(os.path.getmtime(r'C:\\Users\\user\\data'))"
   ]
  },
  {
   "cell_type": "markdown",
   "metadata": {},
   "source": [
    "Проверка файлов с помощью os.path становится очень простой операцией. Единственное, о чем стоит помнить, – так это о разрешениях, особенно при операциях\n",
    "получения метаданных. Например:\n"
   ]
  },
  {
   "cell_type": "code",
   "execution_count": null,
   "metadata": {},
   "outputs": [],
   "source": [
    "#os.path.getsize('/Users/guido/Desktop/foo.txt')"
   ]
  },
  {
   "cell_type": "markdown",
   "metadata": {},
   "source": [
    "# Получение содержимого каталога"
   ]
  },
  {
   "cell_type": "markdown",
   "metadata": {},
   "source": [
    "Вы хотите получить список файлов, содержащихся в каталоге файловой системы."
   ]
  },
  {
   "cell_type": "markdown",
   "metadata": {},
   "source": [
    "Используйте функцию os.listdir() для получения списка файлов в каталоге:"
   ]
  },
  {
   "cell_type": "code",
   "execution_count": 1,
   "metadata": {},
   "outputs": [],
   "source": [
    "import os\n",
    "names = os.listdir(r'C:\\Users\\user\\Desktop\\tocit')"
   ]
  },
  {
   "cell_type": "markdown",
   "metadata": {},
   "source": [
    "Вы получите «сырой» список содержимого каталога, включающий все файлы,\n",
    "подкаталоги, символические ссылки и т. п. Если вам нужно как-то отфильтровать\n",
    "эти данные, используйте генератор списков вместе с  различными функциями\n",
    "библиотеки os.path(). Например:"
   ]
  },
  {
   "cell_type": "code",
   "execution_count": 2,
   "metadata": {},
   "outputs": [],
   "source": [
    "import os.path\n",
    "tocit = r'C:\\Users\\user\\Desktop\\tocit'\n",
    "#Получить все обычные файлы\n",
    "names = [name for name in os.listdir(tocit)\n",
    "        if os.path.isfile(os.path.join(tocit, name))]"
   ]
  },
  {
   "cell_type": "code",
   "execution_count": 4,
   "metadata": {},
   "outputs": [
    {
     "data": {
      "text/plain": [
       "['.DS_Store',\n",
       " '.gitignore',\n",
       " 'about.txt',\n",
       " 'admin.py',\n",
       " 'api.py',\n",
       " 'index.py',\n",
       " 'init-db',\n",
       " 'models.py',\n",
       " 'run.py',\n",
       " 'settings.py',\n",
       " 'test.py']"
      ]
     },
     "execution_count": 4,
     "metadata": {},
     "output_type": "execute_result"
    }
   ],
   "source": [
    "names"
   ]
  },
  {
   "cell_type": "code",
   "execution_count": 3,
   "metadata": {},
   "outputs": [],
   "source": [
    "# Получить все каталоги\n",
    "dirnames = [name for name in os.listdir(tocit)\n",
    "           if os.path.isdir(os.path.join(tocit, name))]"
   ]
  },
  {
   "cell_type": "code",
   "execution_count": 5,
   "metadata": {},
   "outputs": [
    {
     "data": {
      "text/plain": [
       "['.git', 'static', 'templates', 'utils', '__pycache__']"
      ]
     },
     "execution_count": 5,
     "metadata": {},
     "output_type": "execute_result"
    }
   ],
   "source": [
    "dirnames"
   ]
  },
  {
   "cell_type": "markdown",
   "metadata": {},
   "source": [
    "Строковые методы startswith() и endswith() также могут быть полезны для фильтрации содержимого каталога. Например:"
   ]
  },
  {
   "cell_type": "code",
   "execution_count": 6,
   "metadata": {},
   "outputs": [
    {
     "data": {
      "text/plain": [
       "['admin.py',\n",
       " 'api.py',\n",
       " 'index.py',\n",
       " 'models.py',\n",
       " 'run.py',\n",
       " 'settings.py',\n",
       " 'test.py']"
      ]
     },
     "execution_count": 6,
     "metadata": {},
     "output_type": "execute_result"
    }
   ],
   "source": [
    "pyfiles = [name for name in os.listdir(tocit)\n",
    "          if name.endswith('.py')]\n",
    "pyfiles"
   ]
  },
  {
   "cell_type": "markdown",
   "metadata": {},
   "source": [
    "Для поиска совпадений по имени файла вы можете использовать модули glob\n",
    "или fnmatch. Например:"
   ]
  },
  {
   "cell_type": "code",
   "execution_count": 11,
   "metadata": {},
   "outputs": [
    {
     "data": {
      "text/plain": [
       "['C:\\\\Users\\\\user\\\\Desktop\\\\tocit\\\\admin.py',\n",
       " 'C:\\\\Users\\\\user\\\\Desktop\\\\tocit\\\\api.py',\n",
       " 'C:\\\\Users\\\\user\\\\Desktop\\\\tocit\\\\index.py',\n",
       " 'C:\\\\Users\\\\user\\\\Desktop\\\\tocit\\\\models.py',\n",
       " 'C:\\\\Users\\\\user\\\\Desktop\\\\tocit\\\\run.py',\n",
       " 'C:\\\\Users\\\\user\\\\Desktop\\\\tocit\\\\settings.py',\n",
       " 'C:\\\\Users\\\\user\\\\Desktop\\\\tocit\\\\test.py']"
      ]
     },
     "execution_count": 11,
     "metadata": {},
     "output_type": "execute_result"
    }
   ],
   "source": [
    "import glob\n",
    "pyfiles = glob.glob(os.path.join(tocit, '*.py'))\n",
    "pyfiles"
   ]
  },
  {
   "cell_type": "code",
   "execution_count": 12,
   "metadata": {},
   "outputs": [
    {
     "data": {
      "text/plain": [
       "['admin.py',\n",
       " 'api.py',\n",
       " 'index.py',\n",
       " 'models.py',\n",
       " 'run.py',\n",
       " 'settings.py',\n",
       " 'test.py']"
      ]
     },
     "execution_count": 12,
     "metadata": {},
     "output_type": "execute_result"
    }
   ],
   "source": [
    "from fnmatch import fnmatch\n",
    "pyfile = [name for name in os.listdir(tocit)\n",
    "         if fnmatch(name, '*.py')]\n",
    "pyfile"
   ]
  },
  {
   "cell_type": "code",
   "execution_count": 14,
   "metadata": {},
   "outputs": [
    {
     "data": {
      "text/plain": [
       "['settings.py']"
      ]
     },
     "execution_count": 14,
     "metadata": {},
     "output_type": "execute_result"
    }
   ],
   "source": [
    "from fnmatch import fnmatch\n",
    "pyfile = [name for name in os.listdir(tocit)\n",
    "         if fnmatch(name, 'set*')]\n",
    "pyfile"
   ]
  },
  {
   "cell_type": "code",
   "execution_count": 16,
   "metadata": {},
   "outputs": [
    {
     "data": {
      "text/plain": [
       "['test.py']"
      ]
     },
     "execution_count": 16,
     "metadata": {},
     "output_type": "execute_result"
    }
   ],
   "source": [
    "from fnmatch import fnmatch\n",
    "pyfile = [name for name in os.listdir(tocit)\n",
    "         if fnmatch(name, 'test*')]\n",
    "pyfile"
   ]
  },
  {
   "cell_type": "markdown",
   "metadata": {},
   "source": [
    "Получить содержимое каталога просто, но эта операция дает вам просто имена\n",
    "элементов в каталоге. Если вы хотите получить дополнительные метаданные, такие как размеры файлов, даты изменений и т. д., вам нужны либо дополнительные функции модуля os.path, либо функция os.stat(). Например:\n"
   ]
  },
  {
   "cell_type": "code",
   "execution_count": 22,
   "metadata": {},
   "outputs": [],
   "source": [
    "# Пример получения содержимого каталога\n",
    "import os\n",
    "import os.path\n",
    "import glob\n",
    "\n",
    "\n",
    "pyfiles = glob.glob(os.path.join(tocit, '*.py'))"
   ]
  },
  {
   "cell_type": "markdown",
   "metadata": {},
   "source": [
    "Получение размеров файлов и дат модификации"
   ]
  },
  {
   "cell_type": "code",
   "execution_count": 24,
   "metadata": {},
   "outputs": [
    {
     "name": "stdout",
     "output_type": "stream",
     "text": [
      "C:\\Users\\user\\Desktop\\tocit\\admin.py 4933 1575554599.9916384\n",
      "C:\\Users\\user\\Desktop\\tocit\\api.py 19560 1575554599.9926395\n",
      "C:\\Users\\user\\Desktop\\tocit\\index.py 4811 1575554599.9926395\n",
      "C:\\Users\\user\\Desktop\\tocit\\models.py 7830 1575554599.9936404\n",
      "C:\\Users\\user\\Desktop\\tocit\\run.py 3350 1575554599.9946408\n",
      "C:\\Users\\user\\Desktop\\tocit\\settings.py 257 1575554599.9946408\n",
      "C:\\Users\\user\\Desktop\\tocit\\test.py 421 1575554600.0366712\n"
     ]
    }
   ],
   "source": [
    "name_sz_date = [(name, os.path.getsize(name), os.path.getmtime(name))\n",
    "    for name in pyfiles]\n",
    "\n",
    "for name, size, mtime in name_sz_date:\n",
    "    print(name, size, mtime)\n",
    "    \n",
    "#print(pyfiles)"
   ]
  },
  {
   "cell_type": "code",
   "execution_count": 25,
   "metadata": {},
   "outputs": [
    {
     "name": "stdout",
     "output_type": "stream",
     "text": [
      "C:\\Users\\user\\Desktop\\tocit\\admin.py 4933 1575554599.9916384\n",
      "C:\\Users\\user\\Desktop\\tocit\\api.py 19560 1575554599.9926395\n",
      "C:\\Users\\user\\Desktop\\tocit\\index.py 4811 1575554599.9926395\n",
      "C:\\Users\\user\\Desktop\\tocit\\models.py 7830 1575554599.9936404\n",
      "C:\\Users\\user\\Desktop\\tocit\\run.py 3350 1575554599.9946408\n",
      "C:\\Users\\user\\Desktop\\tocit\\settings.py 257 1575554599.9946408\n",
      "C:\\Users\\user\\Desktop\\tocit\\test.py 421 1575554600.0366712\n"
     ]
    }
   ],
   "source": [
    "# Альтернатива: получение метаданных\n",
    "file_metadata = [(name, os.stat(name)) for name in pyfiles]\n",
    "for name, meta in file_metadata:\n",
    "    print(name, meta.st_size, meta.st_mtime)"
   ]
  },
  {
   "cell_type": "markdown",
   "metadata": {},
   "source": [
    "И последнее: в работе с именами файлов есть тонкие моменты, связанные с кодировками. Обычно записи, возвращаемые функциями типа os.listdir(), декодируются согласно установленной по умолчанию в системе кодировке имен файлов.\n",
    "Однако возможно, что при некоторых обстоятельствах вам придется столкнуться\n",
    "с недекодируемыми именами файлов. "
   ]
  },
  {
   "cell_type": "markdown",
   "metadata": {},
   "source": [
    "https://www.tutorialspoint.com/python/os_stat.htm"
   ]
  },
  {
   "cell_type": "markdown",
   "metadata": {},
   "source": [
    "#  Обход кодировки имен файлов"
   ]
  },
  {
   "cell_type": "markdown",
   "metadata": {},
   "source": [
    "Вы хотите выполнить операции ввода-вывода, используя «сырые» имена файлов, которые не декодируются и не кодируются с помощью системной кодировки\n",
    "имен файлов по умолчанию."
   ]
  },
  {
   "cell_type": "markdown",
   "metadata": {},
   "source": [
    "По умолчанию все имена файлов кодируются и декодируются согласно кодировке,\n",
    "возвращаемой sys.getfilesystemencoding(). Например:"
   ]
  },
  {
   "cell_type": "code",
   "execution_count": 15,
   "metadata": {},
   "outputs": [
    {
     "data": {
      "text/plain": [
       "'utf-8'"
      ]
     },
     "execution_count": 15,
     "metadata": {},
     "output_type": "execute_result"
    }
   ],
   "source": [
    "import sys\n",
    "sys.getfilesystemencoding()"
   ]
  },
  {
   "cell_type": "markdown",
   "metadata": {},
   "source": [
    "Если вы по какой-то причине хотите обойти эту кодировку, определите имя\n",
    "файла, используя «сырую» строку байтов. Например:"
   ]
  },
  {
   "cell_type": "code",
   "execution_count": 16,
   "metadata": {},
   "outputs": [],
   "source": [
    "# Запись файла с использованием имени в Unicode\n",
    "with open('jalape\\xf1o.txt', 'w') as f:\n",
    "    f.write('Spicy')"
   ]
  },
  {
   "cell_type": "code",
   "execution_count": 17,
   "metadata": {},
   "outputs": [
    {
     "data": {
      "text/plain": [
       "['.anaconda',\n",
       " '.atom',\n",
       " '.conda',\n",
       " '.condarc',\n",
       " '.gitconfig',\n",
       " '.idlerc',\n",
       " '.ipynb_checkpoints',\n",
       " '.ipython',\n",
       " '.jupyter',\n",
       " '.pgAdmin4.1057243102.addr',\n",
       " '.pgAdmin4.1057243102.log',\n",
       " '.pgAdmin4.startup.log',\n",
       " 'AppData',\n",
       " 'Application Data',\n",
       " 'Contacts',\n",
       " 'Cookies',\n",
       " 'data',\n",
       " 'Desktop',\n",
       " 'Documents',\n",
       " 'Downloads',\n",
       " 'Favorites',\n",
       " 'GCSE_Computer_Science_10_The_internet.ipynb',\n",
       " 'GCSE_Computer_Science_11_Software.ipynb',\n",
       " 'GCSE_Computer_Science_12_Systems_software.ipynb',\n",
       " 'GCSE_Computer_Science_13_Computational_thinking_and_algorithms.ipynb',\n",
       " 'GCSE_Computer_Science_14_Programming_techniques.ipynb',\n",
       " 'GCSE_Computer_Science_15_Writing_reliable_programs.ipynb',\n",
       " 'GCSE_Computer_Science_16_Data_representation_conversion_and_arithmetic.ipynb',\n",
       " 'GCSE_Computer_Science_17_Logic.ipynb',\n",
       " 'GCSE_Computer_Science_18_Translators_and_proogramming_tools.ipynb',\n",
       " 'GCSE_Computer_Science_19_Legal_ethical_cultural_and_environmental_issues.ipynb',\n",
       " 'GCSE_Computer_Science_1_The importance_of_computational_thinking.ipynb',\n",
       " 'GCSE_Computer_Science_2_Systems_architecture.ipynb',\n",
       " 'GCSE_Computer_Science_3_Primary_storage.ipynb',\n",
       " 'GCSE_Computer_Science_4_Secondary_storage.ipynb',\n",
       " 'GCSE_Computer_Science_5_Networks_introductions.ipynb',\n",
       " 'GCSE_Computer_Science_6_Networks_topologies_and_protocols.ipynb',\n",
       " 'GCSE_Computer_Science_7_Networks_layering.ipynb',\n",
       " 'GCSE_Computer_Science_8_Connections.ipynb',\n",
       " 'GCSE_Computer_Science_9_security.ipynb',\n",
       " 'jalapeño.txt',\n",
       " 'Learning_to_Program_in_Python10_Databases_and_SQL.ipynb',\n",
       " \"Learning_to_Program_in_Python11_Python's_SQLite_module.ipynb\",\n",
       " 'Learning_to_Program_in_Python12_Introduction_to_Tkinter.ipynb',\n",
       " 'Learning_to_Program_in_Python13_Developing_an_application_using_Tkinter.ipynb',\n",
       " 'Learning_to_Program_in_Python14_Program_design.ipynb',\n",
       " 'Learning_to_Program_in_Python15_Testing_and_debugging.ipynb',\n",
       " 'Learning_to_Program_in_Python1_Data_types_operators_I-O.ipynb',\n",
       " 'Learning_to_Program_in_Python2_String_and_numbers.ipynb',\n",
       " 'Learning_to_Program_in_Python3_Selection.ipynb',\n",
       " 'Learning_to_Program_in_Python3_Selection_withAns.ipynb',\n",
       " 'Learning_to_Program_in_Python4_Iteration.ipynb',\n",
       " 'Learning_to_Program_in_Python5_Lists_and_tuples.ipynb',\n",
       " 'Learning_to_Program_in_Python6_Validating_user_input.ipynb',\n",
       " 'Learning_to_Program_in_Python7_Searching_and_sorting.ipynb',\n",
       " 'Learning_to_Program_in_Python8_Functions.ipynb',\n",
       " 'Learning_to_Program_in_Python9_Reading_and_writing_files.ipynb',\n",
       " 'Links',\n",
       " 'Local Settings',\n",
       " 'Music',\n",
       " 'mydata.csv',\n",
       " 'NetHood',\n",
       " 'newfile.csv',\n",
       " 'newsomefile555.txt',\n",
       " 'NTUSER.DAT',\n",
       " 'ntuser.dat.LOG1',\n",
       " 'ntuser.dat.LOG2',\n",
       " 'NTUSER.DAT{bbed3e3b-0b41-11e3-8249-d6927d06400b}.TM.blf',\n",
       " 'NTUSER.DAT{bbed3e3b-0b41-11e3-8249-d6927d06400b}.TMContainer00000000000000000001.regtrans-ms',\n",
       " 'NTUSER.DAT{bbed3e3b-0b41-11e3-8249-d6927d06400b}.TMContainer00000000000000000002.regtrans-ms',\n",
       " 'ntuser.ini',\n",
       " 'OneDrive',\n",
       " 'Pictures',\n",
       " 'PrintHood',\n",
       " 'Python_11.ipynb',\n",
       " 'Python_13.ipynb',\n",
       " 'Question.ipynb',\n",
       " 'Recent',\n",
       " 'Roaming',\n",
       " 'Saved Games',\n",
       " 'Searches',\n",
       " 'SendTo',\n",
       " 'SkyDrive',\n",
       " 'somefile555.txt',\n",
       " 'Untitled Folder',\n",
       " 'Untitled.ipynb',\n",
       " 'Videos',\n",
       " '__pycache__',\n",
       " 'Глава 1 Структуры данных и алгоритмы.ipynb',\n",
       " 'Глава 14 Деревья и леса(МО Крис Элбон).ipynb',\n",
       " 'Глава 5 Файлы и ввод-вывод(Python Дэвид Бизли).ipynb',\n",
       " 'Глава _6_Загрузка, хранение и форматы файлов.ipynb',\n",
       " 'Глава_5_Pandas.ipynb',\n",
       " 'главное меню',\n",
       " 'Мои документы',\n",
       " 'Шаблоны']"
      ]
     },
     "execution_count": 17,
     "metadata": {},
     "output_type": "execute_result"
    }
   ],
   "source": [
    "# Содержимое каталога (декодировано)\n",
    "import os\n",
    "os.listdir('.')"
   ]
  },
  {
   "cell_type": "code",
   "execution_count": 19,
   "metadata": {
    "scrolled": false
   },
   "outputs": [
    {
     "data": {
      "text/plain": [
       "[b'.anaconda',\n",
       " b'.atom',\n",
       " b'.conda',\n",
       " b'.condarc',\n",
       " b'.gitconfig',\n",
       " b'.idlerc',\n",
       " b'.ipynb_checkpoints',\n",
       " b'.ipython',\n",
       " b'.jupyter',\n",
       " b'.pgAdmin4.1057243102.addr',\n",
       " b'.pgAdmin4.1057243102.log',\n",
       " b'.pgAdmin4.startup.log',\n",
       " b'AppData',\n",
       " b'Application Data',\n",
       " b'Contacts',\n",
       " b'Cookies',\n",
       " b'data',\n",
       " b'Desktop',\n",
       " b'Documents',\n",
       " b'Downloads',\n",
       " b'Favorites',\n",
       " b'GCSE_Computer_Science_10_The_internet.ipynb',\n",
       " b'GCSE_Computer_Science_11_Software.ipynb',\n",
       " b'GCSE_Computer_Science_12_Systems_software.ipynb',\n",
       " b'GCSE_Computer_Science_13_Computational_thinking_and_algorithms.ipynb',\n",
       " b'GCSE_Computer_Science_14_Programming_techniques.ipynb',\n",
       " b'GCSE_Computer_Science_15_Writing_reliable_programs.ipynb',\n",
       " b'GCSE_Computer_Science_16_Data_representation_conversion_and_arithmetic.ipynb',\n",
       " b'GCSE_Computer_Science_17_Logic.ipynb',\n",
       " b'GCSE_Computer_Science_18_Translators_and_proogramming_tools.ipynb',\n",
       " b'GCSE_Computer_Science_19_Legal_ethical_cultural_and_environmental_issues.ipynb',\n",
       " b'GCSE_Computer_Science_1_The importance_of_computational_thinking.ipynb',\n",
       " b'GCSE_Computer_Science_2_Systems_architecture.ipynb',\n",
       " b'GCSE_Computer_Science_3_Primary_storage.ipynb',\n",
       " b'GCSE_Computer_Science_4_Secondary_storage.ipynb',\n",
       " b'GCSE_Computer_Science_5_Networks_introductions.ipynb',\n",
       " b'GCSE_Computer_Science_6_Networks_topologies_and_protocols.ipynb',\n",
       " b'GCSE_Computer_Science_7_Networks_layering.ipynb',\n",
       " b'GCSE_Computer_Science_8_Connections.ipynb',\n",
       " b'GCSE_Computer_Science_9_security.ipynb',\n",
       " b'jalape\\xc3\\xb1o.txt',\n",
       " b'Learning_to_Program_in_Python10_Databases_and_SQL.ipynb',\n",
       " b\"Learning_to_Program_in_Python11_Python's_SQLite_module.ipynb\",\n",
       " b'Learning_to_Program_in_Python12_Introduction_to_Tkinter.ipynb',\n",
       " b'Learning_to_Program_in_Python13_Developing_an_application_using_Tkinter.ipynb',\n",
       " b'Learning_to_Program_in_Python14_Program_design.ipynb',\n",
       " b'Learning_to_Program_in_Python15_Testing_and_debugging.ipynb',\n",
       " b'Learning_to_Program_in_Python1_Data_types_operators_I-O.ipynb',\n",
       " b'Learning_to_Program_in_Python2_String_and_numbers.ipynb',\n",
       " b'Learning_to_Program_in_Python3_Selection.ipynb',\n",
       " b'Learning_to_Program_in_Python3_Selection_withAns.ipynb',\n",
       " b'Learning_to_Program_in_Python4_Iteration.ipynb',\n",
       " b'Learning_to_Program_in_Python5_Lists_and_tuples.ipynb',\n",
       " b'Learning_to_Program_in_Python6_Validating_user_input.ipynb',\n",
       " b'Learning_to_Program_in_Python7_Searching_and_sorting.ipynb',\n",
       " b'Learning_to_Program_in_Python8_Functions.ipynb',\n",
       " b'Learning_to_Program_in_Python9_Reading_and_writing_files.ipynb',\n",
       " b'Links',\n",
       " b'Local Settings',\n",
       " b'Music',\n",
       " b'mydata.csv',\n",
       " b'NetHood',\n",
       " b'newfile.csv',\n",
       " b'newsomefile555.txt',\n",
       " b'NTUSER.DAT',\n",
       " b'ntuser.dat.LOG1',\n",
       " b'ntuser.dat.LOG2',\n",
       " b'NTUSER.DAT{bbed3e3b-0b41-11e3-8249-d6927d06400b}.TM.blf',\n",
       " b'NTUSER.DAT{bbed3e3b-0b41-11e3-8249-d6927d06400b}.TMContainer00000000000000000001.regtrans-ms',\n",
       " b'NTUSER.DAT{bbed3e3b-0b41-11e3-8249-d6927d06400b}.TMContainer00000000000000000002.regtrans-ms',\n",
       " b'ntuser.ini',\n",
       " b'OneDrive',\n",
       " b'Pictures',\n",
       " b'PrintHood',\n",
       " b'Python_11.ipynb',\n",
       " b'Python_13.ipynb',\n",
       " b'Question.ipynb',\n",
       " b'Recent',\n",
       " b'Roaming',\n",
       " b'Saved Games',\n",
       " b'Searches',\n",
       " b'SendTo',\n",
       " b'SkyDrive',\n",
       " b'somefile555.txt',\n",
       " b'Untitled Folder',\n",
       " b'Untitled.ipynb',\n",
       " b'Videos',\n",
       " b'__pycache__',\n",
       " b'\\xd0\\x93\\xd0\\xbb\\xd0\\xb0\\xd0\\xb2\\xd0\\xb0 1 \\xd0\\xa1\\xd1\\x82\\xd1\\x80\\xd1\\x83\\xd0\\xba\\xd1\\x82\\xd1\\x83\\xd1\\x80\\xd1\\x8b \\xd0\\xb4\\xd0\\xb0\\xd0\\xbd\\xd0\\xbd\\xd1\\x8b\\xd1\\x85 \\xd0\\xb8 \\xd0\\xb0\\xd0\\xbb\\xd0\\xb3\\xd0\\xbe\\xd1\\x80\\xd0\\xb8\\xd1\\x82\\xd0\\xbc\\xd1\\x8b.ipynb',\n",
       " b'\\xd0\\x93\\xd0\\xbb\\xd0\\xb0\\xd0\\xb2\\xd0\\xb0 14 \\xd0\\x94\\xd0\\xb5\\xd1\\x80\\xd0\\xb5\\xd0\\xb2\\xd1\\x8c\\xd1\\x8f \\xd0\\xb8 \\xd0\\xbb\\xd0\\xb5\\xd1\\x81\\xd0\\xb0(\\xd0\\x9c\\xd0\\x9e \\xd0\\x9a\\xd1\\x80\\xd0\\xb8\\xd1\\x81 \\xd0\\xad\\xd0\\xbb\\xd0\\xb1\\xd0\\xbe\\xd0\\xbd).ipynb',\n",
       " b'\\xd0\\x93\\xd0\\xbb\\xd0\\xb0\\xd0\\xb2\\xd0\\xb0 5 \\xd0\\xa4\\xd0\\xb0\\xd0\\xb9\\xd0\\xbb\\xd1\\x8b \\xd0\\xb8 \\xd0\\xb2\\xd0\\xb2\\xd0\\xbe\\xd0\\xb4-\\xd0\\xb2\\xd1\\x8b\\xd0\\xb2\\xd0\\xbe\\xd0\\xb4(Python \\xd0\\x94\\xd1\\x8d\\xd0\\xb2\\xd0\\xb8\\xd0\\xb4 \\xd0\\x91\\xd0\\xb8\\xd0\\xb7\\xd0\\xbb\\xd0\\xb8).ipynb',\n",
       " b'\\xd0\\x93\\xd0\\xbb\\xd0\\xb0\\xd0\\xb2\\xd0\\xb0 _6_\\xd0\\x97\\xd0\\xb0\\xd0\\xb3\\xd1\\x80\\xd1\\x83\\xd0\\xb7\\xd0\\xba\\xd0\\xb0, \\xd1\\x85\\xd1\\x80\\xd0\\xb0\\xd0\\xbd\\xd0\\xb5\\xd0\\xbd\\xd0\\xb8\\xd0\\xb5 \\xd0\\xb8 \\xd1\\x84\\xd0\\xbe\\xd1\\x80\\xd0\\xbc\\xd0\\xb0\\xd1\\x82\\xd1\\x8b \\xd1\\x84\\xd0\\xb0\\xd0\\xb9\\xd0\\xbb\\xd0\\xbe\\xd0\\xb2.ipynb',\n",
       " b'\\xd0\\x93\\xd0\\xbb\\xd0\\xb0\\xd0\\xb2\\xd0\\xb0_5_Pandas.ipynb',\n",
       " b'\\xd0\\xb3\\xd0\\xbb\\xd0\\xb0\\xd0\\xb2\\xd0\\xbd\\xd0\\xbe\\xd0\\xb5 \\xd0\\xbc\\xd0\\xb5\\xd0\\xbd\\xd1\\x8e',\n",
       " b'\\xd0\\x9c\\xd0\\xbe\\xd0\\xb8 \\xd0\\xb4\\xd0\\xbe\\xd0\\xba\\xd1\\x83\\xd0\\xbc\\xd0\\xb5\\xd0\\xbd\\xd1\\x82\\xd1\\x8b',\n",
       " b'\\xd0\\xa8\\xd0\\xb0\\xd0\\xb1\\xd0\\xbb\\xd0\\xbe\\xd0\\xbd\\xd1\\x8b']"
      ]
     },
     "execution_count": 19,
     "metadata": {},
     "output_type": "execute_result"
    }
   ],
   "source": [
    "# Содержимое каталога (сырое)\n",
    "os.listdir(b'.')   #байтовая строка"
   ]
  },
  {
   "cell_type": "code",
   "execution_count": 21,
   "metadata": {},
   "outputs": [
    {
     "name": "stdout",
     "output_type": "stream",
     "text": [
      "Spicy\n"
     ]
    }
   ],
   "source": [
    "with open(b'jalape\\xc3\\xb1o.txt') as f:\n",
    "    print(f.read())"
   ]
  },
  {
   "cell_type": "markdown",
   "metadata": {},
   "source": [
    "Как вы можете видеть в двух последних операциях, обращение с именами файлов немного меняется, когда байтовые строки передаются связанным с файлами\n",
    "функциям, таким как open() и os.listdir()."
   ]
  },
  {
   "cell_type": "markdown",
   "metadata": {},
   "source": [
    "В обычных обстоятельствах вам не нужно волноваться о кодировании и декодировании имен файлов – обычные операции с именами файлов «просто работают».\n",
    "Однако многие операционные системы могут позволить пользователю случайно\n",
    "или по злому умыслу создать файлы, которые не соответствуют ожидаемым правилам кодировки. Такие имена файлов могут загадочным образом сломать программы на Python, которые работают с большим количеством файлов.\n",
    "Чтение каталогов и работа с именами файлов как сырыми недекодированными\n",
    "байтами может решить эту проблему, хотя и за счет некоторых неудобств при программировании"
   ]
  },
  {
   "cell_type": "code",
   "execution_count": null,
   "metadata": {},
   "outputs": [],
   "source": []
  }
 ],
 "metadata": {
  "kernelspec": {
   "display_name": "Python 3",
   "language": "python",
   "name": "python3"
  },
  "language_info": {
   "codemirror_mode": {
    "name": "ipython",
    "version": 3
   },
   "file_extension": ".py",
   "mimetype": "text/x-python",
   "name": "python",
   "nbconvert_exporter": "python",
   "pygments_lexer": "ipython3",
   "version": "3.7.3"
  }
 },
 "nbformat": 4,
 "nbformat_minor": 2
}
