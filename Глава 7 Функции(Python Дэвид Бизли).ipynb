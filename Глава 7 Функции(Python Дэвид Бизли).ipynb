{
 "cells": [
  {
   "cell_type": "markdown",
   "metadata": {},
   "source": [
    "# Глава 7 Функции(Python Дэвид Бизли)"
   ]
  },
  {
   "cell_type": "markdown",
   "metadata": {},
   "source": [
    "Определение функций с  помощью инструкции def – краеугольный камень всех программ. \n",
    "\n",
    "Цель этой главы состоит в том, чтобы представить несколько продвинутых и необычных определений функций и паттернов их использования. \n",
    "\n",
    "Темы рассматривают аргументы по умолчанию, функции, способные принимать любое\n",
    "количество аргументов или только именованные аргументы, аннотации и  замыкания. \n",
    "\n",
    "Также мы рассмотрим несколько непростых задач контроля потока управления и передачи данных, которые относятся к функциям обратного вызова\n",
    "(callback functions).\n"
   ]
  },
  {
   "cell_type": "markdown",
   "metadata": {},
   "source": [
    "# 7.1. Определение функций, принимающих любое количество аргументов"
   ]
  },
  {
   "cell_type": "markdown",
   "metadata": {},
   "source": [
    "Вы хотите определить функцию, которая принимает любое количество аргументов."
   ]
  },
  {
   "cell_type": "markdown",
   "metadata": {},
   "source": [
    "Чтобы определить функцию, которая принимает любое количество позиционных\n",
    "аргументов, используйте аргумент со звездочкой (*argument):"
   ]
  },
  {
   "cell_type": "code",
   "execution_count": 1,
   "metadata": {},
   "outputs": [
    {
     "data": {
      "text/plain": [
       "1.5"
      ]
     },
     "execution_count": 1,
     "metadata": {},
     "output_type": "execute_result"
    }
   ],
   "source": [
    "def avg(first, *rest):\n",
    "    return (first + sum(rest)) / (1 + len(rest))\n",
    "# Пример использования\n",
    "avg(1, 2) # 1.5"
   ]
  },
  {
   "cell_type": "code",
   "execution_count": 2,
   "metadata": {},
   "outputs": [
    {
     "data": {
      "text/plain": [
       "2.5"
      ]
     },
     "execution_count": 2,
     "metadata": {},
     "output_type": "execute_result"
    }
   ],
   "source": [
    "avg(1, 2, 3, 4) # 2.5"
   ]
  },
  {
   "cell_type": "markdown",
   "metadata": {},
   "source": [
    "В этом примере rest – это кортеж всех дополнительных позиционных аргументов. Код обрабатывает его как последовательность при выполнении вычислений.\n",
    "\n",
    "Чтобы принять любое количество именованных аргументов, используйте аргумент, который начинается с **. Например:"
   ]
  },
  {
   "cell_type": "code",
   "execution_count": 3,
   "metadata": {},
   "outputs": [
    {
     "data": {
      "text/plain": [
       "'<item size=\"large\" quantity=\"6\">Albatross</item>'"
      ]
     },
     "execution_count": 3,
     "metadata": {},
     "output_type": "execute_result"
    }
   ],
   "source": [
    "import html\n",
    "\n",
    "def make_element(name, value, **attrs):\n",
    "    keyvals = [' %s=\"%s\"' % item for item in attrs.items()]\n",
    "    attr_str = ''.join(keyvals)\n",
    "    element = '<{name}{attrs}>{value}</{name}>'.format(name=name, \n",
    "                                                       attrs=attr_str, \n",
    "                                                       value=html.escape(value))\n",
    "    return element\n",
    "\n",
    "\n",
    "# Пример\n",
    "# Создает '<item size=\"large\" quantity=\"6\">Albatross</item>'\n",
    "make_element('item', 'Albatross', size='large', quantity=6)\n"
   ]
  },
  {
   "cell_type": "code",
   "execution_count": 4,
   "metadata": {},
   "outputs": [
    {
     "data": {
      "text/plain": [
       "'<p>&lt;spam&gt;</p>'"
      ]
     },
     "execution_count": 4,
     "metadata": {},
     "output_type": "execute_result"
    }
   ],
   "source": [
    "# Создает '<p>&lt;spam&gt;</p>'\n",
    "make_element('p', '<spam>')"
   ]
  },
  {
   "cell_type": "markdown",
   "metadata": {},
   "source": [
    "Здесь attrs – это словарь, который хранит переданные именованные аргументы\n",
    "(если они были предоставлены).\n",
    "\n",
    "Если вам нужна функция, которая может принимать и любое количество позиционных, и любое количество именованных аргументов, используйте * и ** вместе. Например:"
   ]
  },
  {
   "cell_type": "code",
   "execution_count": 6,
   "metadata": {},
   "outputs": [
    {
     "name": "stdout",
     "output_type": "stream",
     "text": [
      "('one',)\n",
      "{'two': 2, 'three': 3}\n"
     ]
    }
   ],
   "source": [
    "def anyargs(*args, **kwargs):\n",
    "    print(args) # Кортеж\n",
    "    print(kwargs) # Словарь\n",
    "    \n",
    "anyargs('one', two=2, three=3)"
   ]
  },
  {
   "cell_type": "markdown",
   "metadata": {},
   "source": [
    "В этой функции позиционные аргументы попадают в кортеж args, а все именованные аргументы – в словарь kwargs."
   ]
  },
  {
   "cell_type": "markdown",
   "metadata": {},
   "source": [
    "Аргумент со * может быть только последним в списке позиционных аргументов\n",
    "в определении функции. \n",
    "\n",
    "Аргумент с ** может быть только последним.\n",
    "\n",
    "Тонкость тут в том, что аргумент без звездочки может идти и после аргумента со звездочкой:"
   ]
  },
  {
   "cell_type": "code",
   "execution_count": 12,
   "metadata": {},
   "outputs": [
    {
     "name": "stdout",
     "output_type": "stream",
     "text": [
      "1 (2, 3) 4\n"
     ]
    }
   ],
   "source": [
    "def a(x, *args, y):\n",
    "    print(x, args, y)\n",
    "a(1, 2, 3, y=4)"
   ]
  },
  {
   "cell_type": "code",
   "execution_count": 15,
   "metadata": {},
   "outputs": [
    {
     "name": "stdout",
     "output_type": "stream",
     "text": [
      "1 (2, 3) 4 {'five': 5, 'six': 6}\n"
     ]
    }
   ],
   "source": [
    "def b(x, *args, y, **kwargs):\n",
    "    print(x, args, y, kwargs)\n",
    "b(1, 2, 3, y=4, five=5, six=6)"
   ]
  },
  {
   "cell_type": "markdown",
   "metadata": {},
   "source": [
    "Такие аргументы известны как «обязательные именованные аргументы», они\n",
    "обсуждаются далее в рецепте 7.2."
   ]
  },
  {
   "cell_type": "markdown",
   "metadata": {},
   "source": [
    "# 7.2. Определение функций, принимающих только именованные аргументы\n"
   ]
  },
  {
   "cell_type": "markdown",
   "metadata": {},
   "source": [
    "Вам нужна функция, которая принимает только именованные аргументы."
   ]
  },
  {
   "cell_type": "markdown",
   "metadata": {},
   "source": [
    "Эту возможность легко реализовать, если вы поместите именованные аргументы\n",
    "после аргумента со звездочкой или символа звездочки. Например:"
   ]
  },
  {
   "cell_type": "code",
   "execution_count": 18,
   "metadata": {},
   "outputs": [
    {
     "ename": "TypeError",
     "evalue": "recv() takes 1 positional argument but 2 were given",
     "output_type": "error",
     "traceback": [
      "\u001b[1;31m---------------------------------------------------------------------------\u001b[0m",
      "\u001b[1;31mTypeError\u001b[0m                                 Traceback (most recent call last)",
      "\u001b[1;32m<ipython-input-18-cc23c3f84cc4>\u001b[0m in \u001b[0;36m<module>\u001b[1;34m()\u001b[0m\n\u001b[0;32m      3\u001b[0m     \u001b[0mprint\u001b[0m\u001b[1;33m(\u001b[0m\u001b[0mmaxsize\u001b[0m\u001b[1;33m,\u001b[0m \u001b[0mblock\u001b[0m\u001b[1;33m)\u001b[0m\u001b[1;33m\u001b[0m\u001b[0m\n\u001b[0;32m      4\u001b[0m \u001b[1;33m\u001b[0m\u001b[0m\n\u001b[1;32m----> 5\u001b[1;33m \u001b[0mrecv\u001b[0m\u001b[1;33m(\u001b[0m\u001b[1;36m1024\u001b[0m\u001b[1;33m,\u001b[0m \u001b[1;32mTrue\u001b[0m\u001b[1;33m)\u001b[0m \u001b[1;31m# TypeError\u001b[0m\u001b[1;33m\u001b[0m\u001b[0m\n\u001b[0m",
      "\u001b[1;31mTypeError\u001b[0m: recv() takes 1 positional argument but 2 were given"
     ]
    }
   ],
   "source": [
    "def recv(maxsize, *, block):\n",
    "    'Receives a message'\n",
    "    print(maxsize, block)\n",
    "\n",
    "recv(1024, True) # TypeError"
   ]
  },
  {
   "cell_type": "code",
   "execution_count": 19,
   "metadata": {},
   "outputs": [
    {
     "name": "stdout",
     "output_type": "stream",
     "text": [
      "1024 True\n"
     ]
    }
   ],
   "source": [
    "recv(1024, block=True) # Ok"
   ]
  },
  {
   "cell_type": "markdown",
   "metadata": {},
   "source": [
    "Этот прием может быть также использован для определения именованных \n",
    "аргументов в функциях, которые принимают различное количество позиционных\n",
    "аргументов. Например:"
   ]
  },
  {
   "cell_type": "code",
   "execution_count": 21,
   "metadata": {},
   "outputs": [
    {
     "data": {
      "text/plain": [
       "-5"
      ]
     },
     "execution_count": 21,
     "metadata": {},
     "output_type": "execute_result"
    }
   ],
   "source": [
    "def minimum(*values, clip=None):\n",
    "    m = min(values)\n",
    "    if clip is not None:\n",
    "        m = clip if clip > m else m\n",
    "    return m\n",
    "\n",
    "minimum(1, 5, 2, -5, 10) # Вернет -5"
   ]
  },
  {
   "cell_type": "code",
   "execution_count": 22,
   "metadata": {},
   "outputs": [
    {
     "data": {
      "text/plain": [
       "0"
      ]
     },
     "execution_count": 22,
     "metadata": {},
     "output_type": "execute_result"
    }
   ],
   "source": [
    "minimum(1, 5, 2, -5, 10, clip=0) # Вернет 0"
   ]
  },
  {
   "cell_type": "markdown",
   "metadata": {},
   "source": [
    "Обязательные именованные аргументы часто являются хорошим способом увеличить понятность кода при определении необязательных аргументов. \n",
    "\n",
    "Например, посмотрите на такой вызов:"
   ]
  },
  {
   "cell_type": "code",
   "execution_count": 23,
   "metadata": {},
   "outputs": [
    {
     "ename": "TypeError",
     "evalue": "recv() takes 1 positional argument but 2 were given",
     "output_type": "error",
     "traceback": [
      "\u001b[1;31m---------------------------------------------------------------------------\u001b[0m",
      "\u001b[1;31mTypeError\u001b[0m                                 Traceback (most recent call last)",
      "\u001b[1;32m<ipython-input-23-1a23324331cb>\u001b[0m in \u001b[0;36m<module>\u001b[1;34m()\u001b[0m\n\u001b[1;32m----> 1\u001b[1;33m \u001b[0mmsg\u001b[0m \u001b[1;33m=\u001b[0m \u001b[0mrecv\u001b[0m\u001b[1;33m(\u001b[0m\u001b[1;36m1024\u001b[0m\u001b[1;33m,\u001b[0m \u001b[1;32mFalse\u001b[0m\u001b[1;33m)\u001b[0m\u001b[1;33m\u001b[0m\u001b[0m\n\u001b[0m",
      "\u001b[1;31mTypeError\u001b[0m: recv() takes 1 positional argument but 2 were given"
     ]
    }
   ],
   "source": [
    "msg = recv(1024, False)"
   ]
  },
  {
   "cell_type": "markdown",
   "metadata": {},
   "source": [
    "Пользователь, который незнаком с  функцией recv, не имеет представления о том, что означает аргумент False. \n",
    "\n",
    "С другой стороны, такой вызов будет намного\n",
    "более ясным:"
   ]
  },
  {
   "cell_type": "code",
   "execution_count": 25,
   "metadata": {},
   "outputs": [
    {
     "name": "stdout",
     "output_type": "stream",
     "text": [
      "1024 False\n"
     ]
    }
   ],
   "source": [
    "msg = recv(1024, block=False)"
   ]
  },
  {
   "cell_type": "markdown",
   "metadata": {},
   "source": [
    "Использование обязательных именованных аргументов часто предпочтительнее трюков с  применением **kwargs, поскольку они правильно показываются,\n",
    "когда пользователь просит помощи:"
   ]
  },
  {
   "cell_type": "code",
   "execution_count": 26,
   "metadata": {},
   "outputs": [
    {
     "name": "stdout",
     "output_type": "stream",
     "text": [
      "Help on function recv in module __main__:\n",
      "\n",
      "recv(maxsize, *, block)\n",
      "    Receives a message\n",
      "\n"
     ]
    }
   ],
   "source": [
    "help(recv)\n",
    "#Help on function recv in module __main__:\n",
    "#recv(maxsize, *, block)\n",
    "#Receives a message\n"
   ]
  },
  {
   "cell_type": "markdown",
   "metadata": {},
   "source": [
    "Обязательные именованные аргументы также полезны в  более продвинутых применениях. \n",
    "\n",
    "Например, они могут быть использованы для внедрения аргументов в функции, которые применяют правила использования *args и **kwargs для\n",
    "получения всех входных параметров. \n",
    "См. рецепт 9.11."
   ]
  },
  {
   "cell_type": "markdown",
   "metadata": {},
   "source": [
    "# 7.3. Прикрепление информационных метаданных к аргументам функций"
   ]
  },
  {
   "cell_type": "markdown",
   "metadata": {},
   "source": [
    "Вы определили функцию, но хотели бы прикрепить дополнительную информацию к аргументам, чтобы другим людям было легче понять, что делает эта функция."
   ]
  },
  {
   "cell_type": "markdown",
   "metadata": {},
   "source": [
    "Аннотации аргументов могут быть полезны, чтобы помочь программистам разобраться в том, как нужно применять функцию. \n",
    "\n",
    "Например, рассмотрим такую аннотированную функцию:"
   ]
  },
  {
   "cell_type": "code",
   "execution_count": 1,
   "metadata": {},
   "outputs": [],
   "source": [
    "def add(x:int, y:int) -> int:\n",
    "    return x + y"
   ]
  },
  {
   "cell_type": "code",
   "execution_count": 2,
   "metadata": {},
   "outputs": [
    {
     "data": {
      "text/plain": [
       "3"
      ]
     },
     "execution_count": 2,
     "metadata": {},
     "output_type": "execute_result"
    }
   ],
   "source": [
    "add(1, 2)"
   ]
  },
  {
   "cell_type": "markdown",
   "metadata": {},
   "source": [
    "Интерпретатор Python не прикрепляет никакого семантического смысла к аннотациям.\n",
    "\n",
    "Это не проверки типов, они вообще никак не влияют на поведение Python. \n",
    "\n",
    "Однако они могут помогать другим людям читать исходный код и понимать, что вы имели в виду. \n",
    "\n",
    "А вот сторонние инструменты и фреймворки могут прикреплять к  аннотациям семантический смысл. \n",
    "\n",
    "Также они появляются в документации:\n"
   ]
  },
  {
   "cell_type": "code",
   "execution_count": 3,
   "metadata": {},
   "outputs": [
    {
     "name": "stdout",
     "output_type": "stream",
     "text": [
      "Help on function add in module __main__:\n",
      "\n",
      "add(x: int, y: int) -> int\n",
      "\n"
     ]
    }
   ],
   "source": [
    "help(add)\n",
    "#Help on function add in module __main__:\n",
    "#add(x: int, y: int) -> int"
   ]
  },
  {
   "cell_type": "markdown",
   "metadata": {},
   "source": [
    "Хотя вы можете прикрепить любой объект к  функции в  качестве аннотации (например, числа, строки, экземпляры и т. д.), использование классов или строк имеет наибольший смысл."
   ]
  },
  {
   "cell_type": "markdown",
   "metadata": {},
   "source": [
    "Аннотации функции хранятся в атрибуте функции __annotations__. Например:"
   ]
  },
  {
   "cell_type": "code",
   "execution_count": 4,
   "metadata": {},
   "outputs": [
    {
     "data": {
      "text/plain": [
       "{'x': int, 'y': int, 'return': int}"
      ]
     },
     "execution_count": 4,
     "metadata": {},
     "output_type": "execute_result"
    }
   ],
   "source": [
    "add.__annotations__\n",
    "#{'y': <class 'int'>, 'return': <class 'int'>, 'x': <class 'int'>}"
   ]
  },
  {
   "cell_type": "markdown",
   "metadata": {},
   "source": [
    "Хотя можно придумать немало потенциальных применений аннотаций, обычно их используют для документации. \n",
    "\n",
    "Поскольку в Python нет объявлений типов, часто бывает сложно понять, что нужно передавать в функцию, когда вы просто читаете исходный код. \n",
    "\n",
    "Аннотации дают дополнительную информацию.\n",
    "\n",
    "См. продвинутый пример в рецепте 9.20, который показывает, как использовать аннотации для реализации множественной диспетчеризации (т. е. перегруженных функций)."
   ]
  },
  {
   "cell_type": "markdown",
   "metadata": {},
   "source": [
    "# 7.4. Возвращение функцией нескольких значений"
   ]
  },
  {
   "cell_type": "markdown",
   "metadata": {},
   "source": [
    "Вы хотите, чтобы функция возвращала несколько значений."
   ]
  },
  {
   "cell_type": "markdown",
   "metadata": {},
   "source": [
    "Чтобы вернуть несколько значений из функции, просто сделайте возвращаемым значением кортеж. \n",
    "\n",
    "Например:"
   ]
  },
  {
   "cell_type": "code",
   "execution_count": 5,
   "metadata": {},
   "outputs": [],
   "source": [
    "def myfun():\n",
    "    return 1, 2, 3"
   ]
  },
  {
   "cell_type": "code",
   "execution_count": 6,
   "metadata": {},
   "outputs": [],
   "source": [
    "a, b, c = myfun()"
   ]
  },
  {
   "cell_type": "code",
   "execution_count": 7,
   "metadata": {},
   "outputs": [
    {
     "data": {
      "text/plain": [
       "1"
      ]
     },
     "execution_count": 7,
     "metadata": {},
     "output_type": "execute_result"
    }
   ],
   "source": [
    "a"
   ]
  },
  {
   "cell_type": "code",
   "execution_count": 8,
   "metadata": {},
   "outputs": [
    {
     "data": {
      "text/plain": [
       "2"
      ]
     },
     "execution_count": 8,
     "metadata": {},
     "output_type": "execute_result"
    }
   ],
   "source": [
    "b"
   ]
  },
  {
   "cell_type": "code",
   "execution_count": 9,
   "metadata": {},
   "outputs": [
    {
     "data": {
      "text/plain": [
       "3"
      ]
     },
     "execution_count": 9,
     "metadata": {},
     "output_type": "execute_result"
    }
   ],
   "source": [
    "c"
   ]
  },
  {
   "cell_type": "markdown",
   "metadata": {},
   "source": [
    "Хотя это выглядит так, будто myfun() возвращает несколько значений, на самом\n",
    "деле создается кортеж. \n",
    "\n",
    "Это кажется немного замысловатым, но дело в том, что\n",
    "кортеж задается не скобками, а запятыми. \n",
    "\n",
    "Например:"
   ]
  },
  {
   "cell_type": "code",
   "execution_count": 10,
   "metadata": {},
   "outputs": [
    {
     "data": {
      "text/plain": [
       "(1, 2)"
      ]
     },
     "execution_count": 10,
     "metadata": {},
     "output_type": "execute_result"
    }
   ],
   "source": [
    "a = (1, 2) # Со скобками\n",
    "a"
   ]
  },
  {
   "cell_type": "code",
   "execution_count": 11,
   "metadata": {},
   "outputs": [
    {
     "data": {
      "text/plain": [
       "(1, 2)"
      ]
     },
     "execution_count": 11,
     "metadata": {},
     "output_type": "execute_result"
    }
   ],
   "source": [
    "b = 1, 2 # Без скобок\n",
    "b"
   ]
  },
  {
   "cell_type": "markdown",
   "metadata": {},
   "source": [
    "При вызове функций, которые возвращают кортеж, часто результат присваивают нескольким переменным. \n",
    "\n",
    "Это просто распаковка кортежа, описанная в рецепте 1.1. Возвращаемое значение также может быть присвоено одной переменной:"
   ]
  },
  {
   "cell_type": "code",
   "execution_count": 12,
   "metadata": {},
   "outputs": [
    {
     "data": {
      "text/plain": [
       "(1, 2, 3)"
      ]
     },
     "execution_count": 12,
     "metadata": {},
     "output_type": "execute_result"
    }
   ],
   "source": [
    "x = myfun()\n",
    "x"
   ]
  },
  {
   "cell_type": "markdown",
   "metadata": {},
   "source": [
    "# 7.5. Определение функций с аргументами по умолчанию"
   ]
  },
  {
   "cell_type": "markdown",
   "metadata": {},
   "source": [
    "Вы хотите определить функцию или метод, где один или более аргументов являются необязательными и имеют значение по умолчанию."
   ]
  },
  {
   "cell_type": "code",
   "execution_count": 1,
   "metadata": {},
   "outputs": [
    {
     "name": "stdout",
     "output_type": "stream",
     "text": [
      "1 42\n"
     ]
    }
   ],
   "source": [
    "def spam(a, b=42):\n",
    "    print(a, b)\n",
    "    \n",
    "spam(1) # Ok. a=1, b=42"
   ]
  },
  {
   "cell_type": "code",
   "execution_count": 2,
   "metadata": {},
   "outputs": [
    {
     "name": "stdout",
     "output_type": "stream",
     "text": [
      "1 2\n"
     ]
    }
   ],
   "source": [
    "spam(1, 2) # Ok. a=1, b=2"
   ]
  },
  {
   "cell_type": "markdown",
   "metadata": {},
   "source": [
    "Если значение по умолчанию – это изменяемый (мутабельный) контейнер, такой как список, множество или словарь, используйте None в качестве значения по\n",
    "умолчанию:"
   ]
  },
  {
   "cell_type": "code",
   "execution_count": null,
   "metadata": {},
   "outputs": [],
   "source": [
    "# Использование списка в качестве значения по умолчанию\n",
    "def spam(a, b=None):\n",
    "    if b is None:\n",
    "        b = []\n"
   ]
  },
  {
   "cell_type": "markdown",
   "metadata": {},
   "source": [
    "Если вместо предоставления значения по умолчанию вы хотите написать код, который просто проверяет, передано ли в необязательном аргументе целевое значение, используйте такую идиому:"
   ]
  },
  {
   "cell_type": "code",
   "execution_count": 9,
   "metadata": {},
   "outputs": [],
   "source": [
    "_no_value = object()\n",
    "\n",
    "def spam(a, b=_no_value):\n",
    "    if b is _no_value:\n",
    "        print('No b value supplied')\n",
    "    else:\n",
    "        print('b =', b)\n"
   ]
  },
  {
   "cell_type": "markdown",
   "metadata": {},
   "source": [
    "Вот как эта функция себя ведет:\n"
   ]
  },
  {
   "cell_type": "code",
   "execution_count": 7,
   "metadata": {},
   "outputs": [
    {
     "name": "stdout",
     "output_type": "stream",
     "text": [
      "No b value supplied\n"
     ]
    }
   ],
   "source": [
    "spam(1)"
   ]
  },
  {
   "cell_type": "code",
   "execution_count": 10,
   "metadata": {},
   "outputs": [
    {
     "name": "stdout",
     "output_type": "stream",
     "text": [
      "b = 2\n"
     ]
    }
   ],
   "source": [
    "spam(1, 2) # b = 2"
   ]
  },
  {
   "cell_type": "code",
   "execution_count": 11,
   "metadata": {},
   "outputs": [
    {
     "name": "stdout",
     "output_type": "stream",
     "text": [
      "b = None\n"
     ]
    }
   ],
   "source": [
    "spam(1, None) # b = None"
   ]
  },
  {
   "cell_type": "markdown",
   "metadata": {},
   "source": [
    "Понаблюдайте за разницей между отсутствием переданного значения и передачей значения None."
   ]
  },
  {
   "cell_type": "markdown",
   "metadata": {},
   "source": [
    "Определение функций с аргументами по умолчанию – несложное дело, но не без тонкостей.\n",
    "\n",
    "Во-первых, значения, назначенные значениями по умолчанию, связываются только один раз, во время определения функции. \n",
    "\n",
    "Попробуйте поэкспериментировать:"
   ]
  },
  {
   "cell_type": "code",
   "execution_count": 12,
   "metadata": {},
   "outputs": [
    {
     "name": "stdout",
     "output_type": "stream",
     "text": [
      "1 42\n"
     ]
    }
   ],
   "source": [
    "x = 42\n",
    "def spam(a, b=x):\n",
    "    print(a, b)\n",
    "    \n",
    "spam(1) # Эффекта нет"
   ]
  },
  {
   "cell_type": "code",
   "execution_count": 13,
   "metadata": {},
   "outputs": [
    {
     "name": "stdout",
     "output_type": "stream",
     "text": [
      "1 42\n"
     ]
    }
   ],
   "source": [
    "x = 23\n",
    "spam(1)"
   ]
  },
  {
   "cell_type": "markdown",
   "metadata": {},
   "source": [
    "Заметьте, как изменение переменной x (которая была использована в качестве\n",
    "значения по умолчанию) не оказывает влияния на последующие события.\n",
    "\n",
    "Во-вторых, значения, назначенные значениями по умолчанию, всегда должны\n",
    "быть неизменяемыми объектами, такими как None, True, False, числа или строки.\n",
    "Никогда не пишите такой код:\n"
   ]
  },
  {
   "cell_type": "code",
   "execution_count": null,
   "metadata": {},
   "outputs": [],
   "source": [
    "def spam(a, b=[]): # НЕТ!\n"
   ]
  },
  {
   "cell_type": "markdown",
   "metadata": {},
   "source": [
    "Если вы это сделаете, то столкнетесь со всеми возможными неприятностями, если значение по умолчанию когда-либо покинет пределы функции и будет изменено. \n",
    "\n",
    "Такие изменения навсегда поменяют значение по умолчанию и подействуют на все будущие вызовы функции. \n",
    "\n",
    "Например:"
   ]
  },
  {
   "cell_type": "code",
   "execution_count": 14,
   "metadata": {},
   "outputs": [
    {
     "name": "stdout",
     "output_type": "stream",
     "text": [
      "[]\n"
     ]
    },
    {
     "data": {
      "text/plain": [
       "[]"
      ]
     },
     "execution_count": 14,
     "metadata": {},
     "output_type": "execute_result"
    }
   ],
   "source": [
    "def spam(a, b=[]):\n",
    "    print(b)\n",
    "    return b\n",
    "\n",
    "x = spam(1)\n",
    "x"
   ]
  },
  {
   "cell_type": "code",
   "execution_count": 15,
   "metadata": {},
   "outputs": [
    {
     "data": {
      "text/plain": [
       "[99, 'Yow!']"
      ]
     },
     "execution_count": 15,
     "metadata": {},
     "output_type": "execute_result"
    }
   ],
   "source": [
    "x.append(99)\n",
    "x.append('Yow!')\n",
    "x"
   ]
  },
  {
   "cell_type": "code",
   "execution_count": 16,
   "metadata": {},
   "outputs": [
    {
     "name": "stdout",
     "output_type": "stream",
     "text": [
      "[99, 'Yow!']\n"
     ]
    },
    {
     "data": {
      "text/plain": [
       "[99, 'Yow!']"
      ]
     },
     "execution_count": 16,
     "metadata": {},
     "output_type": "execute_result"
    }
   ],
   "source": [
    "spam(1) # Возвращается измененный список!"
   ]
  },
  {
   "cell_type": "markdown",
   "metadata": {},
   "source": [
    "Вероятно, вы хотели не этого. Чтобы избежать таких проблем, лучше назначить в качестве значения по умолчанию None и проверить его затем в функции, как показано в решении.\n",
    "\n",
    "Использование оператора is при проверке None – важнейшая часть этого рецепта. \n",
    "\n",
    "Некоторые делают такую ошибку:"
   ]
  },
  {
   "cell_type": "code",
   "execution_count": 17,
   "metadata": {},
   "outputs": [],
   "source": [
    "def spam(a, b=None):\n",
    "    if not b: # НЕТ! Вместо этого используйте 'b is None'\n",
    "        b = []"
   ]
  },
  {
   "cell_type": "code",
   "execution_count": null,
   "metadata": {},
   "outputs": [],
   "source": [
    "def spam(a, b=None):\n",
    "    if b is None: # Да! Правильно!\n",
    "        b = []"
   ]
  },
  {
   "cell_type": "markdown",
   "metadata": {},
   "source": [
    "Хотя None выдает значение False, многие другие объекты (например, строки нулевой длины, пустые списки, кортежи и словари) ведут себя так же. \n",
    "\n",
    "Так что показанная выше проверка будет ошибочно считать некоторые входные значения\n",
    "отсутствующими. Например:"
   ]
  },
  {
   "cell_type": "code",
   "execution_count": 18,
   "metadata": {},
   "outputs": [],
   "source": [
    "spam(1)"
   ]
  },
  {
   "cell_type": "code",
   "execution_count": 19,
   "metadata": {},
   "outputs": [],
   "source": [
    "x = []"
   ]
  },
  {
   "cell_type": "code",
   "execution_count": 20,
   "metadata": {},
   "outputs": [],
   "source": [
    "spam(1, x)"
   ]
  },
  {
   "cell_type": "code",
   "execution_count": 21,
   "metadata": {},
   "outputs": [],
   "source": [
    "spam(1, 0)"
   ]
  },
  {
   "cell_type": "code",
   "execution_count": 22,
   "metadata": {},
   "outputs": [],
   "source": [
    "spam(1, '')"
   ]
  },
  {
   "cell_type": "code",
   "execution_count": null,
   "metadata": {},
   "outputs": [],
   "source": [
    "spam(1) # ОК\n",
    "x = []\n",
    "spam(1, x) # Невидимая ошибка. Значение x перезаписывается по умолчанию\n",
    "spam(1, 0) # Невидимая ошибка. 0 игнорируется\n",
    "spam(1, '') # Невидимая ошибка. '' игнорируется"
   ]
  },
  {
   "cell_type": "markdown",
   "metadata": {},
   "source": [
    "Последняя часть этого рецепта – это особенно тонкий момент: функция, которая выполняет проверку, передано ли значение (любое) в необязательном аргументе. \n",
    "\n",
    "Хитрость в том, что вы не можете использовать None, 0 или False в качестве значения по умолчанию при проверке присутствия предоставленного пользователем аргумента (поскольку все они являются вполне допустимыми аргументами\n",
    "и пользователь может передать их в функцию). \n",
    "\n",
    "Так что вам нужно делать проверку как-то по-другому.\n",
    "Чтобы решить эту проблему, вы можете создать уникальный частный экземпляр object, как показано в решении (переменная _no_value). \n",
    "\n",
    "Затем вы проверяете предоставленный аргумент в функции, сравнивая его с этим специальным зна-чением, чтобы узнать, передан аргумент или нет. Идея в том, что крайне маловероятно, что пользователь передаст в  качестве входного значения экземпляр\n",
    "_no_value. \n",
    "\n",
    "Поэтому это безопасное значение для проверки того, предоставлен ли экземпляр.\n",
    "\n",
    "\n",
    "Использование object() может показаться необычным. \n",
    "\n",
    "object – это класс, который является обычным базовым классом (суперклассом) практически всех объектов Python. \n",
    "\n",
    "Вы можете создавать экземпляры object, но они не особенно интересны, поскольку не имеют каких-то полезных методов или атрибутов (в них нет словаря экземпляра, так что вы не можете присвоить им атрибуты). \n",
    "\n",
    "В общем-то, проверка идентичности – единственная вещь, для которой они полезны. \n",
    "\n",
    "Их можно использовать в качестве специальных значений, как и показано в вышеописанном решении."
   ]
  },
  {
   "cell_type": "markdown",
   "metadata": {},
   "source": [
    "# 7.6. Определение анонимных функций или встроенных функций (inline)"
   ]
  },
  {
   "cell_type": "markdown",
   "metadata": {},
   "source": [
    "Вам нужно предоставить короткую функцию обратного вызова для использования в операции типа sort(), но вы не хотите определять отдельную однострочную функцию с  помощью инструкции def. \n",
    "\n",
    "Вместо этого вам бы пригодился способ\n",
    "определить функцию «в строке».\n"
   ]
  },
  {
   "cell_type": "markdown",
   "metadata": {},
   "source": [
    "Простые функции, которые просто вычисляют результат выражения, могут быть заменены инструкцией lambda. Например:"
   ]
  },
  {
   "cell_type": "code",
   "execution_count": 1,
   "metadata": {},
   "outputs": [
    {
     "data": {
      "text/plain": [
       "5"
      ]
     },
     "execution_count": 1,
     "metadata": {},
     "output_type": "execute_result"
    }
   ],
   "source": [
    "add = lambda x, y: x + y\n",
    "add(2,3)"
   ]
  },
  {
   "cell_type": "code",
   "execution_count": 2,
   "metadata": {},
   "outputs": [
    {
     "data": {
      "text/plain": [
       "'helloworld'"
      ]
     },
     "execution_count": 2,
     "metadata": {},
     "output_type": "execute_result"
    }
   ],
   "source": [
    "add('hello', 'world')"
   ]
  },
  {
   "cell_type": "markdown",
   "metadata": {},
   "source": [
    "Использование lambda абсолютно равноценно такому примеру:"
   ]
  },
  {
   "cell_type": "code",
   "execution_count": 3,
   "metadata": {},
   "outputs": [
    {
     "data": {
      "text/plain": [
       "5"
      ]
     },
     "execution_count": 3,
     "metadata": {},
     "output_type": "execute_result"
    }
   ],
   "source": [
    "def add(x, y):\n",
    "    return x + y\n",
    "\n",
    "add(2,3)"
   ]
  },
  {
   "cell_type": "markdown",
   "metadata": {},
   "source": [
    "Обычно lambda используется в контексте какой-то другой операции, такой как сортировка или свертка (reduction) данных:"
   ]
  },
  {
   "cell_type": "code",
   "execution_count": 4,
   "metadata": {},
   "outputs": [
    {
     "data": {
      "text/plain": [
       "['Ned Batchelder', 'David Beazley', 'Raymond Hettinger', 'Brian Jones']"
      ]
     },
     "execution_count": 4,
     "metadata": {},
     "output_type": "execute_result"
    }
   ],
   "source": [
    "names = ['David Beazley', \n",
    "         'Brian Jones', \n",
    "         'Raymond Hettinger', \n",
    "         'Ned Batchelder']\n",
    "sorted(names, key=lambda name: name.split()[-1].lower())"
   ]
  },
  {
   "cell_type": "markdown",
   "metadata": {},
   "source": [
    "Хотя lambda позволяет определить простую функцию, ее возможности сильно ограничены. \n",
    "\n",
    "В  частности, может быть определено только одно выражение, результат которого станет возвращаемым значением. \n",
    "\n",
    "Это значит, что никакие другие возможности языка, в  т. ч. множественные инструкции, условия, итерации\n",
    "и обработка исключений, использоваться не могут.\n",
    "\n",
    "Вы можете замечательно писать код на Python без использования lambda. \n",
    "\n",
    "Однако вы наверняка натолкнетесь на них в написанной кем-то программе, в которой используется множество маленьких функций для вычисления результатов выражений, или же в программе, которая требует от пользователей предоставлять\n",
    "функции обратного вызова (callback functions)."
   ]
  },
  {
   "cell_type": "markdown",
   "metadata": {},
   "source": [
    "# 7.7.Захват переменных в анонимных функциях"
   ]
  },
  {
   "cell_type": "markdown",
   "metadata": {},
   "source": [
    "Вы определили анонимную функцию, используя lambda, но вы также хотите захватить значения некоторых переменных во время определения."
   ]
  },
  {
   "cell_type": "markdown",
   "metadata": {},
   "source": [
    "Рассмотрим поведение следующей программы:"
   ]
  },
  {
   "cell_type": "code",
   "execution_count": 1,
   "metadata": {},
   "outputs": [],
   "source": [
    "x = 10\n",
    "a = lambda y: x + y\n",
    "x = 20\n",
    "b = lambda y: x + y"
   ]
  },
  {
   "cell_type": "markdown",
   "metadata": {},
   "source": [
    "А теперь задайте себе вопрос: какими будут значения a(10) и b(10)? \n",
    "\n",
    "Если вы думаете, что 20 и 30, то ошибаетесь:\n"
   ]
  },
  {
   "cell_type": "code",
   "execution_count": 2,
   "metadata": {
    "scrolled": true
   },
   "outputs": [
    {
     "data": {
      "text/plain": [
       "30"
      ]
     },
     "execution_count": 2,
     "metadata": {},
     "output_type": "execute_result"
    }
   ],
   "source": [
    "a(10)\n",
    "#30"
   ]
  },
  {
   "cell_type": "code",
   "execution_count": 3,
   "metadata": {},
   "outputs": [
    {
     "data": {
      "text/plain": [
       "30"
      ]
     },
     "execution_count": 3,
     "metadata": {},
     "output_type": "execute_result"
    }
   ],
   "source": [
    "b(10)\n",
    "#30"
   ]
  },
  {
   "cell_type": "markdown",
   "metadata": {},
   "source": [
    "Проблема в том, что значение x, используемое в lambda-выражении, является свободной переменной, которая связывается во время выполнения, а не во время\n",
    "определения. \n",
    "\n",
    "Так что значение x в lambda-выражениях будет таким, каким ему случится быть во время выполнения. \n",
    "\n",
    "Например:\n"
   ]
  },
  {
   "cell_type": "code",
   "execution_count": 4,
   "metadata": {},
   "outputs": [
    {
     "data": {
      "text/plain": [
       "25"
      ]
     },
     "execution_count": 4,
     "metadata": {},
     "output_type": "execute_result"
    }
   ],
   "source": [
    "x = 15\n",
    "a(10)\n",
    "#25"
   ]
  },
  {
   "cell_type": "code",
   "execution_count": 5,
   "metadata": {},
   "outputs": [
    {
     "data": {
      "text/plain": [
       "13"
      ]
     },
     "execution_count": 5,
     "metadata": {},
     "output_type": "execute_result"
    }
   ],
   "source": [
    "x = 3\n",
    "a(10)\n",
    "#13"
   ]
  },
  {
   "cell_type": "markdown",
   "metadata": {},
   "source": [
    "Если же вы хотите, чтобы анонимная функция захватывала значение во время определения и сохраняла его, используйте значение по умолчанию:"
   ]
  },
  {
   "cell_type": "code",
   "execution_count": 6,
   "metadata": {},
   "outputs": [
    {
     "data": {
      "text/plain": [
       "20"
      ]
     },
     "execution_count": 6,
     "metadata": {},
     "output_type": "execute_result"
    }
   ],
   "source": [
    "x = 10\n",
    "a = lambda y, x=x: x + y\n",
    "x = 20\n",
    "b = lambda y, x=x: x + y\n",
    "a(10)\n",
    "#20"
   ]
  },
  {
   "cell_type": "code",
   "execution_count": 7,
   "metadata": {},
   "outputs": [
    {
     "data": {
      "text/plain": [
       "30"
      ]
     },
     "execution_count": 7,
     "metadata": {},
     "output_type": "execute_result"
    }
   ],
   "source": [
    "b(10)\n",
    "#30"
   ]
  },
  {
   "cell_type": "markdown",
   "metadata": {},
   "source": [
    "Проблема, которую мы рассматриваем в этом рецепте, возникает, когда случается перемудрить с lambda-функциями. \n",
    "\n",
    "Например, вы можете ожидать, что при создании списка lambda-выражений с использованием генератора списка или цикла lambda-функции запомнят итерационные переменные во время определения.\n",
    "\n",
    "Например:"
   ]
  },
  {
   "cell_type": "code",
   "execution_count": 8,
   "metadata": {},
   "outputs": [
    {
     "name": "stdout",
     "output_type": "stream",
     "text": [
      "4\n",
      "4\n",
      "4\n",
      "4\n",
      "4\n"
     ]
    }
   ],
   "source": [
    "funcs = [lambda x: x+n for n in range(5)]\n",
    "for f in funcs:\n",
    "    print(f(0))\n"
   ]
  },
  {
   "cell_type": "code",
   "execution_count": 9,
   "metadata": {},
   "outputs": [
    {
     "name": "stdout",
     "output_type": "stream",
     "text": [
      "0\n",
      "1\n",
      "2\n",
      "3\n",
      "4\n"
     ]
    }
   ],
   "source": [
    "funcs = (lambda x: x+n for n in range(5))\n",
    "for f in funcs:\n",
    "    print(f(0))"
   ]
  },
  {
   "cell_type": "markdown",
   "metadata": {},
   "source": [
    "Обратите внимание, что все функции считают, что n имеет последнее значение, полученное в ходе итераций. \n",
    "\n",
    "Теперь сравните со следующим:"
   ]
  },
  {
   "cell_type": "code",
   "execution_count": 10,
   "metadata": {},
   "outputs": [
    {
     "name": "stdout",
     "output_type": "stream",
     "text": [
      "0\n",
      "1\n",
      "2\n",
      "3\n",
      "4\n"
     ]
    }
   ],
   "source": [
    "funcs = [lambda x, n=n: x+n for n in range(5)]\n",
    "for f in funcs:\n",
    "    print(f(0))\n"
   ]
  },
  {
   "cell_type": "markdown",
   "metadata": {},
   "source": [
    "Как вы видите, теперь функции захватывают значения n во время определения."
   ]
  },
  {
   "cell_type": "markdown",
   "metadata": {},
   "source": [
    "#  7.8.Заставляем вызываемый объект с N аргументами работать так же, как вызываемый объект с меньшим количеством аргументов"
   ]
  },
  {
   "cell_type": "markdown",
   "metadata": {},
   "source": [
    "У вас есть вызываемый объект, который вы хотели бы использовать в какой-то программе Python – возможно, в  качестве функции обратного вызова (callback function) или обработчика (handler), но он принимает слишком много аргументов и при вызове возбуждает исключение."
   ]
  },
  {
   "cell_type": "markdown",
   "metadata": {},
   "source": [
    "Если вам нужно уменьшить количество аргументов функции, используйте functools.partial(). \n",
    "\n",
    "Функция partial() позволяет присваивать фиксированные значения одному или более аргументам, что уменьшает количество аргументов, которые должны быть переданы в последующих вызовах. \n",
    "\n",
    "Например, у вас есть вот такая функция:"
   ]
  },
  {
   "cell_type": "code",
   "execution_count": 1,
   "metadata": {},
   "outputs": [],
   "source": [
    "def spam(a, b, c, d):\n",
    "    print(a, b, c, d)"
   ]
  },
  {
   "cell_type": "markdown",
   "metadata": {},
   "source": [
    "А теперь попробуем partial(), чтобы зафиксировать значения некоторых аргументов:"
   ]
  },
  {
   "cell_type": "code",
   "execution_count": 2,
   "metadata": {},
   "outputs": [
    {
     "name": "stdout",
     "output_type": "stream",
     "text": [
      "1 2 3 4\n"
     ]
    }
   ],
   "source": [
    "from functools import partial\n",
    "s1 = partial(spam, 1) # a = 1\n",
    "s1(2, 3, 4)\n",
    "#1 2 3 4"
   ]
  },
  {
   "cell_type": "code",
   "execution_count": 3,
   "metadata": {},
   "outputs": [
    {
     "name": "stdout",
     "output_type": "stream",
     "text": [
      "1 4 5 6\n"
     ]
    }
   ],
   "source": [
    "s1(4, 5, 6)\n",
    "#1 4 5 6"
   ]
  },
  {
   "cell_type": "code",
   "execution_count": 4,
   "metadata": {},
   "outputs": [
    {
     "name": "stdout",
     "output_type": "stream",
     "text": [
      "1 2 3 42\n"
     ]
    }
   ],
   "source": [
    "s2 = partial(spam, d=42) # d = 42\n",
    "s2(1, 2, 3)\n",
    "#1 2 3 42"
   ]
  },
  {
   "cell_type": "code",
   "execution_count": 5,
   "metadata": {},
   "outputs": [
    {
     "name": "stdout",
     "output_type": "stream",
     "text": [
      "4 5 5 42\n"
     ]
    }
   ],
   "source": [
    "s2(4, 5, 5)\n",
    "#4 5 5 42"
   ]
  },
  {
   "cell_type": "code",
   "execution_count": 7,
   "metadata": {},
   "outputs": [
    {
     "name": "stdout",
     "output_type": "stream",
     "text": [
      "88 99 3 42\n"
     ]
    }
   ],
   "source": [
    "s3 = partial(spam, 88, 99, d=42) # a = 88, b = 99, d = 42\n",
    "s3(3)\n",
    "#88 99 3 42"
   ]
  },
  {
   "cell_type": "code",
   "execution_count": 8,
   "metadata": {},
   "outputs": [
    {
     "name": "stdout",
     "output_type": "stream",
     "text": [
      "88 99 4 42\n"
     ]
    }
   ],
   "source": [
    "s3(4)\n",
    "#88 99 4 42"
   ]
  },
  {
   "cell_type": "code",
   "execution_count": 9,
   "metadata": {},
   "outputs": [
    {
     "name": "stdout",
     "output_type": "stream",
     "text": [
      "88 99 5 42\n"
     ]
    }
   ],
   "source": [
    "s3(5)\n",
    "#88 99 5 42"
   ]
  },
  {
   "cell_type": "markdown",
   "metadata": {},
   "source": [
    "Понаблюдайте, как partial() фиксирует значения некоторых аргументов и возвращает новый вызываемый объект. \n",
    "\n",
    "Этот новый вызываемый объект принимает\n",
    "пока еще не получившие значения аргументы, объединяя их с аргументами, переданными в partial(), и передает все в изначальную функцию."
   ]
  },
  {
   "cell_type": "markdown",
   "metadata": {},
   "source": [
    "Этот рецепт на самом деле связан с решением задачи обеспечения совместной работы, казалось бы, несовместимого кода. \n",
    "\n",
    "Проиллюстрируем это серией примеров.\n",
    "\n",
    "Первый пример. \n",
    "\n",
    "Предположим, что у  вас есть список точек, представленных как кортежи координат (x, y). \n",
    "\n",
    "Вы можете использовать такую функцию для вычисления расстояния между двумя точками:"
   ]
  },
  {
   "cell_type": "code",
   "execution_count": 10,
   "metadata": {},
   "outputs": [],
   "source": [
    "points = [ (1, 2), (3, 4), (5, 6), (7, 8) ]\n",
    "import math\n",
    "def distance(p1, p2):\n",
    "    x1, y1 = p1\n",
    "    x2, y2 = p2\n",
    "    return math.hypot(x2 - x1, y2 - y1)"
   ]
  },
  {
   "cell_type": "code",
   "execution_count": 12,
   "metadata": {},
   "outputs": [
    {
     "name": "stdout",
     "output_type": "stream",
     "text": [
      "Растояние между фиксированной точкой (1,2) и точкой (4,6) равно  5.0\n"
     ]
    }
   ],
   "source": [
    "dist = partial(distance, points[0])\n",
    "print('Растояние между фиксированной точкой (1,2) и точкой (4,6) равно ', dist((4,6)))\n"
   ]
  },
  {
   "cell_type": "code",
   "execution_count": 14,
   "metadata": {},
   "outputs": [
    {
     "name": "stdout",
     "output_type": "stream",
     "text": [
      "Растояние между фиксированной точкой (1,2) и точкой (3,5) равно  1.0\n"
     ]
    }
   ],
   "source": [
    "dist = partial(distance, points[1])\n",
    "print('Растояние между фиксированной точкой (1,2) и точкой (3,5) равно ', dist((3,5)))"
   ]
  },
  {
   "cell_type": "code",
   "execution_count": 15,
   "metadata": {},
   "outputs": [],
   "source": [
    "points1 = [ (1, 2), (2, 5), (4, 7), (11, 20), (6, 7), (12, 13), (16, 18), (15, 17) ]"
   ]
  },
  {
   "cell_type": "code",
   "execution_count": 17,
   "metadata": {},
   "outputs": [
    {
     "data": {
      "text/plain": [
       "[(2, 5), (1, 2), (4, 7), (6, 7), (12, 13)]"
      ]
     },
     "execution_count": 17,
     "metadata": {},
     "output_type": "execute_result"
    }
   ],
   "source": [
    "#найти 5 ближайших точек к заданной\n",
    "# pt - заданная точка\n",
    "pt = (4, 3)\n",
    "points1.sort(key=partial(distance,pt))\n",
    "points1[:5]"
   ]
  },
  {
   "cell_type": "markdown",
   "metadata": {},
   "source": [
    "А теперь предположим, что вы хотите отсортировать все точки по их расстоянию до какой-то другой точки. \n",
    "\n",
    "Метод списков sort() принимает аргумент key,\n",
    "который может быть использован для настройки поиска, но он работает только с функциями, которые принимают один аргумент (то есть distance() не подходит).\n",
    "\n",
    "Вот как вы можете использовать partial(), чтобы решить данную проблему:"
   ]
  },
  {
   "cell_type": "code",
   "execution_count": 18,
   "metadata": {},
   "outputs": [
    {
     "data": {
      "text/plain": [
       "[(3, 4), (1, 2), (5, 6), (7, 8)]"
      ]
     },
     "execution_count": 18,
     "metadata": {},
     "output_type": "execute_result"
    }
   ],
   "source": [
    "pt = (4, 3)\n",
    "points.sort(key=partial(distance,pt))\n",
    "points\n",
    "#[(3, 4), (1, 2), (5, 6), (7, 8)]"
   ]
  },
  {
   "cell_type": "markdown",
   "metadata": {},
   "source": [
    "Развивая эту идею, заметим, что partial() часто может использоваться для настройки сигнатур аргументов функций обратного вызова, используемых в других\n",
    "библиотеках. \n",
    "\n",
    "Например, вот пример кода, который использует multiprocessing для асинхронного вычисления результата, который передается функции обратного вызова, принимающей результат и необязательный аргумент настройки логирования:"
   ]
  },
  {
   "cell_type": "code",
   "execution_count": 19,
   "metadata": {},
   "outputs": [],
   "source": [
    "def output_result(result, log=None):\n",
    "    if log is not None:\n",
    "        log.debug('Got: %r', result)"
   ]
  },
  {
   "cell_type": "code",
   "execution_count": null,
   "metadata": {},
   "outputs": [],
   "source": [
    "# Функция-пример\n",
    "def add(x, y):\n",
    "    return x + y\n",
    "\n",
    "\n",
    "import logging\n",
    "from multiprocessing import Pool\n",
    "from functools import partial\n",
    "logging.basicConfig(level=logging.DEBUG)\n",
    "log = logging.getLogger('test')\n",
    "p = Pool()\n",
    "p.apply_async(add, (3, 4), callback=partial(output_result, log=log))\n",
    "p.close()\n",
    "p.join()"
   ]
  },
  {
   "cell_type": "markdown",
   "metadata": {},
   "source": [
    "При передаче функции обратного вызова с использованием apply_async() дополнительный аргумент настройки логирования передается с  использованием partial(). \n",
    "\n",
    "А  multiprocessing просто вызывает функцию обратного вызова с  единственным значением.\n",
    "\n",
    "В качестве похожего примера рассмотрим задачу написания сетевых серверов.\n",
    "\n",
    "Модуль socketserver позволяет сделать это без особого труда. \n",
    "\n",
    "Например, вот простой эхо-сервер:"
   ]
  },
  {
   "cell_type": "code",
   "execution_count": null,
   "metadata": {},
   "outputs": [],
   "source": [
    "from socketserver import StreamRequestHandler, TCPServer\n",
    "class EchoHandler(StreamRequestHandler):\n",
    "    def handle(self):\n",
    "        for line in self.rfile:\n",
    "            self.wfile.write(b'GOT:' + line)\n",
    "            \n",
    "serv = TCPServer(('', 15000), EchoHandler)\n",
    "serv.serve_forever()"
   ]
  },
  {
   "cell_type": "markdown",
   "metadata": {},
   "source": [
    "Предположим, что вы хотите наделить класс EchoHandler методом __init__(), который принимает дополнительный конфигурирующий аргумент. \n",
    "\n",
    "Например:"
   ]
  },
  {
   "cell_type": "code",
   "execution_count": null,
   "metadata": {},
   "outputs": [],
   "source": [
    "class EchoHandler(StreamRequestHandler):\n",
    "    # ack – это добавленный обязательный именованный аргумент.\n",
    "    # *args, **kwargs – это любые обычные предоставленные параметры\n",
    "    # (которые переданы)\n",
    "    def __init__(self, *args, ack, **kwargs):\n",
    "        self.ack = ack\n",
    "        super().__init__(*args, **kwargs)\n",
    "    def handle(self):\n",
    "        for line in self.rfile:\n",
    "            self.wfile.write(self.ack + line)\n"
   ]
  },
  {
   "cell_type": "markdown",
   "metadata": {},
   "source": [
    "Если вы внесете это изменение, то обнаружите, что больше нет очевидного пути вставить его в класс TCPServer. \n",
    "\n",
    "На самом деле вы обнаружите, что код начал возбуждать такие исключения:"
   ]
  },
  {
   "cell_type": "markdown",
   "metadata": {},
   "source": [
    "Exception happened during processing of request from ('127.0.0.1', 59834)\n",
    "Traceback (most recent call last):\n",
    " ...\n",
    "TypeError: __init__() missing 1 required keyword-only argument: 'ack'"
   ]
  },
  {
   "cell_type": "markdown",
   "metadata": {},
   "source": [
    "На первый взгляд кажется невозможным исправить этот код без попыток поправить исходник socketserver или еще какого-то странного обходного решения.\n",
    "\n",
    "Однако задача легко решается с помощью partial() – используйте ее, чтобы предоставить значение аргумента ack:"
   ]
  },
  {
   "cell_type": "code",
   "execution_count": null,
   "metadata": {},
   "outputs": [],
   "source": [
    "from functools import partial\n",
    "serv = TCPServer(('', 15000), partial(EchoHandler, ack=b'RECEIVED:'))\n",
    "serv.serve_forever()"
   ]
  },
  {
   "cell_type": "markdown",
   "metadata": {},
   "source": [
    "В этом примере определение аргумента ack в методе __init__() может показаться немного странным, но он определяется как обязательный именованный аргумент. \n",
    "\n",
    "Это подробно рассматривается в рецепте 7.2.\n",
    "Иногда функциональность partial() заменяется lambda-выражением. \n",
    "\n",
    "Например, в предыдущем примере можно применить такие инструкции:"
   ]
  },
  {
   "cell_type": "code",
   "execution_count": null,
   "metadata": {},
   "outputs": [],
   "source": [
    "points.sort(key=lambda p: distance(pt, p))\n",
    "p.apply_async(add, (3, 4), callback=lambda result: output_result(result,log))\n",
    "serv = TCPServer(('', 15000), \n",
    "                 lambda *args, **kwargs: EchoHandler(*args, \n",
    "                                                     ack=b'RECEIVED:', \n",
    "                                                     **kwargs))"
   ]
  },
  {
   "cell_type": "markdown",
   "metadata": {},
   "source": [
    "Этот код работает, но он более многословен и может запутать того, кто его читает. \n",
    "\n",
    "Использование partial() более явно сообщает о вашем намерении (передать значения некоторым аргументам)."
   ]
  },
  {
   "cell_type": "markdown",
   "metadata": {},
   "source": [
    "# 7.9. Замена классов с одним методом функциями"
   ]
  },
  {
   "cell_type": "markdown",
   "metadata": {},
   "source": [
    "У вас есть класс, который определяет только один метод, кроме __init__(). \n",
    "\n",
    "Однако для упрощения вашего кода вы бы хотели заменить его на простую функцию."
   ]
  },
  {
   "cell_type": "markdown",
   "metadata": {},
   "source": [
    "Во многих случаях классы с одним методом могут быть превращены в функции с помощью замыканий. \n",
    "\n",
    "Рассмотрите, например, следующий класс, который позволяет пользователю загружать страницы по URL с использованием некой шаблонной схемы:"
   ]
  },
  {
   "cell_type": "code",
   "execution_count": 4,
   "metadata": {},
   "outputs": [
    {
     "name": "stdout",
     "output_type": "stream",
     "text": [
      "{\"quoteSummary\":{\"result\":[{\"assetProfile\":{\"address1\":\"One Apple Park Way\",\"city\":\"Cupertino\",\"state\":\"CA\",\"zip\":\"95014\",\"country\":\"United States\",\"phone\":\"408-996-1010\",\"website\":\"http://www.apple.com\",\"industry\":\"Consumer Electronics\",\"sector\":\"Technology\",\"longBusinessSummary\":\"Apple Inc. designs, manufactures, and markets smartphones, personal computers, tablets, wearables, and accessories worldwide. It also sells various related services. The company offers iPhone, a line of smartphones; Mac, a line of personal computers; iPad, a line of multi-purpose tablets; and wearables, home, and accessories comprising AirPods, Apple TV, Apple Watch, Beats products, HomePod, iPod touch, and other Apple-branded and third-party accessories. It also provides digital content stores and streaming services; AppleCare support services; and iCloud, a cloud service, which stores music, photos, contacts, calendars, mail, documents, and others. In addition, the company offers various service, such as Apple Arcade, a game subscription service; Apple Card, a co-branded credit card; Apple News+, a subscription news and magazine service; and Apple Pay, a cashless payment service, as well as licenses its intellectual property, and provides other related services. The company serves consumers, and small and mid-sized businesses; and the education, enterprise, and government markets. It sells and delivers third-party applications for its products through the App Store, Mac App Store, and Watch App Store. The company also sells its products through its retail and online stores, and direct sales force; and third-party cellular network carriers, wholesalers, retailers, and resellers. Apple Inc. was founded in 1977 and is headquartered in Cupertino, California.\",\"fullTimeEmployees\":137000,\"companyOfficers\":[{\"maxAge\":1,\"name\":\"Mr. Timothy D. Cook\",\"age\":58,\"title\":\"CEO & Director\",\"yearBorn\":1961,\"fiscalYear\":2019,\"totalPay\":{\"raw\":11555466,\"fmt\":\"11.56M\",\"longFmt\":\"11,555,466\"},\"exercisedValue\":{\"raw\":0,\"fmt\":null,\"longFmt\":\"0\"},\"unexercisedValue\":{\"raw\":0,\"fmt\":null,\"longFmt\":\"0\"}},{\"maxAge\":1,\"name\":\"Mr. Luca  Maestri\",\"age\":55,\"title\":\"CFO & Sr. VP\",\"yearBorn\":1964,\"fiscalYear\":2019,\"totalPay\":{\"raw\":3576221,\"fmt\":\"3.58M\",\"longFmt\":\"3,576,221\"},\"exercisedValue\":{\"raw\":0,\"fmt\":null,\"longFmt\":\"0\"},\"unexercisedValue\":{\"raw\":0,\"fmt\":null,\"longFmt\":\"0\"}},{\"maxAge\":1,\"name\":\"Mr. Jeffrey E. Williams\",\"age\":55,\"title\":\"Chief Operating Officer\",\"yearBorn\":1964,\"fiscalYear\":2019,\"totalPay\":{\"raw\":3574503,\"fmt\":\"3.57M\",\"longFmt\":\"3,574,503\"},\"exercisedValue\":{\"raw\":0,\"fmt\":null,\"longFmt\":\"0\"},\"unexercisedValue\":{\"raw\":0,\"fmt\":null,\"longFmt\":\"0\"}},{\"maxAge\":1,\"name\":\"Ms. Katherine L. Adams\",\"age\":55,\"title\":\"Sr. VP, Gen. Counsel & Sec.\",\"yearBorn\":1964,\"fiscalYear\":2019,\"totalPay\":{\"raw\":3598384,\"fmt\":\"3.6M\",\"longFmt\":\"3,598,384\"},\"exercisedValue\":{\"raw\":0,\"fmt\":null,\"longFmt\":\"0\"},\"unexercisedValue\":{\"raw\":0,\"fmt\":null,\"longFmt\":\"0\"}},{\"maxAge\":1,\"name\":\"Ms. Deirdre  O'Brien\",\"age\":52,\"title\":\"Sr. VP of People & Retail\",\"yearBorn\":1967,\"fiscalYear\":2019,\"totalPay\":{\"raw\":2690253,\"fmt\":\"2.69M\",\"longFmt\":\"2,690,253\"},\"exercisedValue\":{\"raw\":0,\"fmt\":null,\"longFmt\":\"0\"},\"unexercisedValue\":{\"raw\":0,\"fmt\":null,\"longFmt\":\"0\"}}],\"auditRisk\":1,\"boardRisk\":2,\"compensationRisk\":5,\"shareHolderRightsRisk\":1,\"overallRisk\":1,\"governanceEpochDate\":1580688000,\"compensationAsOfEpochDate\":1577750400,\"maxAge\":86400}}],\"error\":null}}\n"
     ]
    }
   ],
   "source": [
    "from urllib.request import urlopen\n",
    "\n",
    "class UrlTemplate:\n",
    "    def __init__(self, template):\n",
    "        self.template = template\n",
    "    def open(self, **kwargs):\n",
    "        return urlopen(self.template.format_map(kwargs))\n",
    "    \n",
    "# Пример использования. Скачать данные об акциях с Yahoo\n",
    "yahoo = UrlTemplate('https://query1.finance.yahoo.com/v10/finance/quoteSummary/{ticker}?modules={modules}')\n",
    "for line in yahoo.open(ticker='AAPL', modules='assetProfile'):\n",
    "    print(line.decode('utf-8'))"
   ]
  },
  {
   "cell_type": "markdown",
   "metadata": {},
   "source": [
    "Этот класс может быть заменен намного более простой функцией:"
   ]
  },
  {
   "cell_type": "code",
   "execution_count": 5,
   "metadata": {},
   "outputs": [
    {
     "name": "stdout",
     "output_type": "stream",
     "text": [
      "{\"quoteSummary\":{\"result\":[{\"assetProfile\":{\"address1\":\"One Apple Park Way\",\"city\":\"Cupertino\",\"state\":\"CA\",\"zip\":\"95014\",\"country\":\"United States\",\"phone\":\"408-996-1010\",\"website\":\"http://www.apple.com\",\"industry\":\"Consumer Electronics\",\"sector\":\"Technology\",\"longBusinessSummary\":\"Apple Inc. designs, manufactures, and markets smartphones, personal computers, tablets, wearables, and accessories worldwide. It also sells various related services. The company offers iPhone, a line of smartphones; Mac, a line of personal computers; iPad, a line of multi-purpose tablets; and wearables, home, and accessories comprising AirPods, Apple TV, Apple Watch, Beats products, HomePod, iPod touch, and other Apple-branded and third-party accessories. It also provides digital content stores and streaming services; AppleCare support services; and iCloud, a cloud service, which stores music, photos, contacts, calendars, mail, documents, and others. In addition, the company offers various service, such as Apple Arcade, a game subscription service; Apple Card, a co-branded credit card; Apple News+, a subscription news and magazine service; and Apple Pay, a cashless payment service, as well as licenses its intellectual property, and provides other related services. The company serves consumers, and small and mid-sized businesses; and the education, enterprise, and government markets. It sells and delivers third-party applications for its products through the App Store, Mac App Store, and Watch App Store. The company also sells its products through its retail and online stores, and direct sales force; and third-party cellular network carriers, wholesalers, retailers, and resellers. Apple Inc. was founded in 1977 and is headquartered in Cupertino, California.\",\"fullTimeEmployees\":137000,\"companyOfficers\":[{\"maxAge\":1,\"name\":\"Mr. Timothy D. Cook\",\"age\":58,\"title\":\"CEO & Director\",\"yearBorn\":1961,\"fiscalYear\":2019,\"totalPay\":{\"raw\":11555466,\"fmt\":\"11.56M\",\"longFmt\":\"11,555,466\"},\"exercisedValue\":{\"raw\":0,\"fmt\":null,\"longFmt\":\"0\"},\"unexercisedValue\":{\"raw\":0,\"fmt\":null,\"longFmt\":\"0\"}},{\"maxAge\":1,\"name\":\"Mr. Luca  Maestri\",\"age\":55,\"title\":\"CFO & Sr. VP\",\"yearBorn\":1964,\"fiscalYear\":2019,\"totalPay\":{\"raw\":3576221,\"fmt\":\"3.58M\",\"longFmt\":\"3,576,221\"},\"exercisedValue\":{\"raw\":0,\"fmt\":null,\"longFmt\":\"0\"},\"unexercisedValue\":{\"raw\":0,\"fmt\":null,\"longFmt\":\"0\"}},{\"maxAge\":1,\"name\":\"Mr. Jeffrey E. Williams\",\"age\":55,\"title\":\"Chief Operating Officer\",\"yearBorn\":1964,\"fiscalYear\":2019,\"totalPay\":{\"raw\":3574503,\"fmt\":\"3.57M\",\"longFmt\":\"3,574,503\"},\"exercisedValue\":{\"raw\":0,\"fmt\":null,\"longFmt\":\"0\"},\"unexercisedValue\":{\"raw\":0,\"fmt\":null,\"longFmt\":\"0\"}},{\"maxAge\":1,\"name\":\"Ms. Katherine L. Adams\",\"age\":55,\"title\":\"Sr. VP, Gen. Counsel & Sec.\",\"yearBorn\":1964,\"fiscalYear\":2019,\"totalPay\":{\"raw\":3598384,\"fmt\":\"3.6M\",\"longFmt\":\"3,598,384\"},\"exercisedValue\":{\"raw\":0,\"fmt\":null,\"longFmt\":\"0\"},\"unexercisedValue\":{\"raw\":0,\"fmt\":null,\"longFmt\":\"0\"}},{\"maxAge\":1,\"name\":\"Ms. Deirdre  O'Brien\",\"age\":52,\"title\":\"Sr. VP of People & Retail\",\"yearBorn\":1967,\"fiscalYear\":2019,\"totalPay\":{\"raw\":2690253,\"fmt\":\"2.69M\",\"longFmt\":\"2,690,253\"},\"exercisedValue\":{\"raw\":0,\"fmt\":null,\"longFmt\":\"0\"},\"unexercisedValue\":{\"raw\":0,\"fmt\":null,\"longFmt\":\"0\"}}],\"auditRisk\":1,\"boardRisk\":2,\"compensationRisk\":5,\"shareHolderRightsRisk\":1,\"overallRisk\":1,\"governanceEpochDate\":1580688000,\"compensationAsOfEpochDate\":1577750400,\"maxAge\":86400}}],\"error\":null}}\n"
     ]
    }
   ],
   "source": [
    "def urltemplate(template):\n",
    "    def opener(**kwargs):\n",
    "        return urlopen(template.format_map(kwargs))\n",
    "    return opener\n",
    "\n",
    "# Пример использования\n",
    "yahoo = urltemplate('https://query1.finance.yahoo.com/v10/finance/quoteSummary/{ticker}?modules={modules}')\n",
    "for line in yahoo(ticker='AAPL', modules='assetProfile'):\n",
    "    print(line.decode('utf-8'))\n"
   ]
  },
  {
   "cell_type": "markdown",
   "metadata": {},
   "source": [
    "Во многих случаях единственной причиной использовать класс с одним методом является необходимость сохранять дополнительное состояние для использования в методе. \n",
    "\n",
    "Например, единственное назначение класса UrlTemplate заключается в сохранении значения template, чтобы оно могло быть использовано в методе open().\n",
    "\n",
    "Использование вложенной функции (замыкания), как показано выше, часто будет намного более элегантным решением. \n",
    "\n",
    "Замыкание – это просто функция, но с  дополнительным окружением переменных, которые используются внутри\n",
    "функции. \n",
    "\n",
    "Ключевое преимущество замыкания в том, что оно запоминает окружение, в котором было определено. \n",
    "\n",
    "Поэтому в примере функция opener() запоминает значение аргумента template() и использует его в последующих вызовах."
   ]
  },
  {
   "cell_type": "markdown",
   "metadata": {},
   "source": [
    "Всякий раз, когда вы пишете код и встречаетесь с задачей прикрепления дополнительного состояния к функции, вспоминайте о замыканиях. \n",
    "\n",
    "Они часто являются более минималистичным и элегантным решением, нежели альтернатива (превращение функции в полноценный класс)."
   ]
  },
  {
   "cell_type": "markdown",
   "metadata": {},
   "source": [
    "# 7.10. Передача дополнительного состояния с функциями обратного вызова"
   ]
  },
  {
   "cell_type": "markdown",
   "metadata": {},
   "source": [
    "Вы пишете код, который опирается на использование функций обратного вызова (например, на обработчики событий, функции обратного вызова на завершения\n",
    "и т. п.), но вы хотите получить функцию обратного вызова, переносящую дополнительное состояние для использования в функции обратного вызова."
   ]
  },
  {
   "cell_type": "markdown",
   "metadata": {},
   "source": [
    "Этот рецепт относится к способу использования функций обратного вызова, который можно обнаружить во многих библиотеках и фреймворках – особенно тех, которые связаны с асинхронной обработкой. \n",
    "\n",
    "Рассмотрим следующую функцию, которая вызывает функцию обратного вызова:"
   ]
  },
  {
   "cell_type": "code",
   "execution_count": 1,
   "metadata": {},
   "outputs": [],
   "source": [
    "def apply_async(func, args, *, callback):\n",
    " # Вычислить результат\n",
    " result = func(*args)\n",
    "    \n",
    " # Вызвать функцию обратного вызова с результатом\n",
    " callback(result)"
   ]
  },
  {
   "cell_type": "markdown",
   "metadata": {},
   "source": [
    "В реальной жизни такой код может выполнять различные типы продвинутой обработки, включающей потоки, процессы и таймеры, но в данном случае это не\n",
    "главное. \n",
    "\n",
    "Мы просто сосредоточимся на вызове функции обратного вызова. \n",
    "\n",
    "Вот пример использования приведенного выше кода:\n"
   ]
  },
  {
   "cell_type": "code",
   "execution_count": 2,
   "metadata": {},
   "outputs": [
    {
     "name": "stdout",
     "output_type": "stream",
     "text": [
      "Got: 5\n"
     ]
    }
   ],
   "source": [
    "def print_result(result):\n",
    "    print('Got:', result)\n",
    "\n",
    "def add(x, y):\n",
    "    return x + y\n",
    "\n",
    "apply_async(add, (2, 3), callback=print_result)\n",
    "#Got: 5\n"
   ]
  },
  {
   "cell_type": "code",
   "execution_count": 3,
   "metadata": {},
   "outputs": [
    {
     "name": "stdout",
     "output_type": "stream",
     "text": [
      "Got: helloworld\n"
     ]
    }
   ],
   "source": [
    "apply_async(add, ('hello', 'world'), callback=print_result)\n",
    "#Got: helloworld"
   ]
  },
  {
   "cell_type": "markdown",
   "metadata": {},
   "source": [
    "Как вы можете видеть, функция print_result() принимает только один аргумент, который представляет собой результат. \n",
    "\n",
    "Никакая другая информация не передается. \n",
    "\n",
    "Это отсутствие информации иногда может представлять собой проблему, когда вы хотите, чтобы функция обратного вызова взаимодействовала с другими переменными или частями окружения."
   ]
  },
  {
   "cell_type": "markdown",
   "metadata": {},
   "source": [
    "Способ передать дополнительную информацию в функцию обратного вызова – это использование связанного метода вместо простой функции. \n",
    "\n",
    "Например, этот класс хранит внутренний последовательный номер, который инкрементально\n",
    "увеличивается каждый раз, когда получен результат:\n"
   ]
  },
  {
   "cell_type": "code",
   "execution_count": 4,
   "metadata": {},
   "outputs": [],
   "source": [
    "class ResultHandler:\n",
    "    def __init__(self):\n",
    "        self.sequence = 0\n",
    "        \n",
    "    def handler(self, result):\n",
    "        self.sequence += 1\n",
    "        print('[{}] Got: {}'.format(self.sequence, result))"
   ]
  },
  {
   "cell_type": "markdown",
   "metadata": {},
   "source": [
    "Чтобы использовать этот класс, вы могли бы создать экземпляр и использовать связанный метод handler в качестве функции обратного вызова:\n"
   ]
  },
  {
   "cell_type": "code",
   "execution_count": 5,
   "metadata": {},
   "outputs": [
    {
     "name": "stdout",
     "output_type": "stream",
     "text": [
      "[1] Got: 5\n"
     ]
    }
   ],
   "source": [
    "r = ResultHandler()\n",
    "apply_async(add, (2, 3), callback=r.handler)\n",
    "#[1] Got: 5"
   ]
  },
  {
   "cell_type": "code",
   "execution_count": 6,
   "metadata": {},
   "outputs": [
    {
     "name": "stdout",
     "output_type": "stream",
     "text": [
      "[2] Got: helloworld\n"
     ]
    }
   ],
   "source": [
    "apply_async(add, ('hello', 'world'), callback=r.handler)\n",
    "#[2] Got: helloworld"
   ]
  },
  {
   "cell_type": "markdown",
   "metadata": {},
   "source": [
    "В качестве альтернативы классу вы также можете использовать для хранения состояния замыкание:"
   ]
  },
  {
   "cell_type": "code",
   "execution_count": 9,
   "metadata": {},
   "outputs": [],
   "source": [
    "def make_handler():\n",
    "    sequence = 0\n",
    "    def handler(result):\n",
    "        nonlocal sequence\n",
    "        sequence += 1\n",
    "        print('[{}] Got: {}'.format(sequence, result))\n",
    "    return handler"
   ]
  },
  {
   "cell_type": "markdown",
   "metadata": {},
   "source": [
    "Вот пример использования такого варианта:"
   ]
  },
  {
   "cell_type": "code",
   "execution_count": 10,
   "metadata": {},
   "outputs": [
    {
     "name": "stdout",
     "output_type": "stream",
     "text": [
      "[1] Got: 5\n"
     ]
    }
   ],
   "source": [
    "handler = make_handler()\n",
    "apply_async(add, (2, 3), callback=handler)\n",
    "#[1] Got: 5"
   ]
  },
  {
   "cell_type": "code",
   "execution_count": 11,
   "metadata": {},
   "outputs": [
    {
     "name": "stdout",
     "output_type": "stream",
     "text": [
      "[2] Got: helloworld\n"
     ]
    }
   ],
   "source": [
    "apply_async(add, ('hello', 'world'), callback=handler)\n",
    "#[2] Got: helloworld"
   ]
  },
  {
   "cell_type": "markdown",
   "metadata": {},
   "source": [
    "В качестве еще одной вариации на эту тему вы также иногда можете использовать корутину (coroutine (сопрограмма)) для выполнения той же задачи:\n"
   ]
  },
  {
   "cell_type": "code",
   "execution_count": 13,
   "metadata": {},
   "outputs": [],
   "source": [
    "def make_handler():\n",
    "    sequence = 0\n",
    "    while True:\n",
    "        result = yield\n",
    "        sequence += 1\n",
    "        print('[{}] Got: {}'.format(sequence, result))\n"
   ]
  },
  {
   "cell_type": "markdown",
   "metadata": {},
   "source": [
    "Для корутины вы можете использовать метод send() в  качестве функции обратного вызова:"
   ]
  },
  {
   "cell_type": "code",
   "execution_count": 14,
   "metadata": {},
   "outputs": [
    {
     "name": "stdout",
     "output_type": "stream",
     "text": [
      "[1] Got: 5\n"
     ]
    }
   ],
   "source": [
    "handler = make_handler()\n",
    "next(handler) # Продвигаемся к yield\n",
    "apply_async(add, (2, 3), callback=handler.send)\n",
    "#[1] Got: 5"
   ]
  },
  {
   "cell_type": "code",
   "execution_count": 15,
   "metadata": {},
   "outputs": [
    {
     "name": "stdout",
     "output_type": "stream",
     "text": [
      "[2] Got: helloworld\n"
     ]
    }
   ],
   "source": [
    "apply_async(add, ('hello', 'world'), callback=handler.send)\n",
    "#[2] Got: helloworld"
   ]
  },
  {
   "cell_type": "markdown",
   "metadata": {},
   "source": [
    "И последнее: вы также можете передать состояние в функцию обратного вызова, используя дополнительный аргумент и применяя функцию partial(). \n",
    "\n",
    "Например:"
   ]
  },
  {
   "cell_type": "code",
   "execution_count": 16,
   "metadata": {},
   "outputs": [
    {
     "name": "stdout",
     "output_type": "stream",
     "text": [
      "[1] Got: 5\n"
     ]
    }
   ],
   "source": [
    "class SequenceNo:\n",
    "    def __init__(self):\n",
    "        self.sequence = 0\n",
    "\n",
    "def handler(result, seq):\n",
    "    seq.sequence += 1\n",
    "    print('[{}] Got: {}'.format(seq.sequence, result))\n",
    "    \n",
    "seq = SequenceNo()\n",
    "from functools import partial\n",
    "apply_async(add, (2, 3), callback=partial(handler, seq=seq))\n",
    "#[1] Got: 5"
   ]
  },
  {
   "cell_type": "code",
   "execution_count": 17,
   "metadata": {},
   "outputs": [
    {
     "name": "stdout",
     "output_type": "stream",
     "text": [
      "[2] Got: helloworld\n"
     ]
    }
   ],
   "source": [
    "apply_async(add, ('hello', 'world'), callback=partial(handler, seq=seq))\n",
    "#[2] Got: helloworld"
   ]
  },
  {
   "cell_type": "markdown",
   "metadata": {},
   "source": [
    "Программы, основанные на функциях обратного вызова, часто подвержены риску превратиться в огромную беспорядочную кучу. \n",
    "\n",
    "Частично эта проблема возникает, потому что функция обратного вызова нередко отсоединена от кода, который делает первоначальный запрос, приводящий к ее выполнению. \n",
    "\n",
    "Поэтому окружение выполнения между созданием запроса и обработкой результата теряется. \n",
    "\n",
    "Если вы хотите продолжить функцию обратного вызова в процедуре из нескольких шагов, вам нужно понять, как сохранить и восстановить ассоциированное состояние.\n",
    "\n",
    "Существует два основных подхода, которые полезны для захвата и  переноса состояния.\n",
    "\n",
    "Вы можете переносить его в экземпляре (например, прикрепленном к связанному методу), или же вы можете переносить его в замыкании (вложенной функции). \n",
    "\n",
    "Из этих двух приемов замыкания, вероятно, немного более легковесны и естественны, поскольку просто создаются из функций. \n",
    "\n",
    "Они также автоматически захватывают все использованные переменные. \n",
    "\n",
    "Это освобождает вас от необходимости беспокоиться по поводу того, какое именно состояние нужно сохранить (это автоматически определяется вашим кодом).\n",
    "\n",
    "При использовании замыканий вам нужно осторожно обращаться с изменяемыми (мутабельными) переменными. \n",
    "\n",
    "В вышеприведенном решении объявление nonlocal используется для обозначения того, что переменная sequence изменяется изнутри функции обратного вызова. \n",
    "\n",
    "Без этого объявления вы бы получили ошибку.\n",
    "\n",
    "Использование корутины (сопрограммы) в  качестве обработчика функций обратного вызова интересно тем, что это тесно связано с подходом с использованием замыканий. \n",
    "\n",
    "В  некотором смысле он даже прозрачнее, поскольку представляет собой одну функцию. \n",
    "\n",
    "Более того, переменные можно свободно изменять и  не беспокоиться об объявлениях nonlocal. \n",
    "\n",
    "Потенциальный недостаток в  том, что корутины не так легко понять, как другие компоненты Python. \n",
    "\n",
    "Есть также несколько тонких моментов – таких как необходимость вызывать next() на корутине,\n",
    "перед тем как ее использовать. \n",
    "\n",
    "Тем не менее корутины можно использовать и подругому – например, для определения встроенной функции обратного вызова (см.следующий рецепт).\n",
    "\n",
    "Последний прием с использованием partial() полезен, если вам нужно просто передать дополнительные значения в функцию обратного вызова. \n",
    "\n",
    "Иногда вместо partial() мы можем достичь того же с помощью lambda:\n"
   ]
  },
  {
   "cell_type": "code",
   "execution_count": null,
   "metadata": {},
   "outputs": [],
   "source": [
    "apply_async(add, (2, 3), callback=lambda r: handler(r, seq))\n",
    "#[1] Got: 5"
   ]
  },
  {
   "cell_type": "markdown",
   "metadata": {},
   "source": [
    "Дополнительные примеры мы можете найти в рецепте 7.8, где показывается использование partial() для изменения аргументных сигнатур."
   ]
  },
  {
   "cell_type": "markdown",
   "metadata": {},
   "source": [
    "# 7.11. Встроенные функции обратного вызова"
   ]
  },
  {
   "cell_type": "markdown",
   "metadata": {},
   "source": [
    "Вы пишете код, в котором используются функции обратного вызова, но вас беспокоит быстрое размножение маленьких функций и излишняя сложность потока\n",
    "управления. \n",
    "\n",
    "Вы бы хотели как-то заставить код выглядеть более похожим на нормальную последовательность процедурных шагов."
   ]
  },
  {
   "cell_type": "markdown",
   "metadata": {},
   "source": [
    "Функции обратного вызова могут быть встроены в  функцию путем использования генераторов и  корутин (сопрограмм). \n",
    "\n",
    "Предположим, у  вас есть функция,\n",
    "которая выполняет какую-то работу и вызывает функцию обратного вызова (см.\n",
    "рецепт 7.10):"
   ]
  },
  {
   "cell_type": "code",
   "execution_count": 1,
   "metadata": {},
   "outputs": [],
   "source": [
    "def apply_async(func, args, *, callback):\n",
    " # Вычисляем результат\n",
    " result = func(*args)\n",
    " # Вызываем функцию обратного вызова с результатом\n",
    " callback(result)"
   ]
  },
  {
   "cell_type": "markdown",
   "metadata": {},
   "source": [
    "Теперь взгляните на поддерживающий код, который использует класс Async и декоратор inlined_async:"
   ]
  },
  {
   "cell_type": "code",
   "execution_count": 2,
   "metadata": {},
   "outputs": [],
   "source": [
    "from queue import Queue\n",
    "from functools import wraps\n",
    "\n",
    "class Async:\n",
    "    def __init__(self, func, args):\n",
    "        self.func = func\n",
    "        self.args = args\n",
    "        \n",
    "def inlined_async(func):\n",
    "    @wraps(func)\n",
    "    def wrapper(*args):\n",
    "        f = func(*args)\n",
    "        result_queue = Queue()\n",
    "        result_queue.put(None)\n",
    "        while True:\n",
    "            result = result_queue.get()\n",
    "            try:\n",
    "                a = f.send(result)\n",
    "                apply_async(a.func, a.args, callback=result_queue.put)\n",
    "            except StopIteration:\n",
    "                break\n",
    "    return wrapper"
   ]
  },
  {
   "cell_type": "markdown",
   "metadata": {},
   "source": [
    "Эти два фрагмента кода позволят вам встроить в строку шаги функции обратного вызова, используя инструкции yield. \n",
    "\n",
    "Например:"
   ]
  },
  {
   "cell_type": "code",
   "execution_count": 3,
   "metadata": {},
   "outputs": [],
   "source": [
    "def add(x, y):\n",
    "    return x + y\n",
    "\n",
    "@inlined_async\n",
    "def test():\n",
    "    r = yield Async(add, (2, 3))\n",
    "    print(r)\n",
    "    r = yield Async(add, ('hello', 'world'))\n",
    "    print(r)\n",
    "    for n in range(10):\n",
    "        r = yield Async(add, (n, n))\n",
    "        print(r)\n",
    "    print('Goodbye')\n"
   ]
  },
  {
   "cell_type": "code",
   "execution_count": 4,
   "metadata": {},
   "outputs": [
    {
     "name": "stdout",
     "output_type": "stream",
     "text": [
      "5\n",
      "helloworld\n",
      "0\n",
      "2\n",
      "4\n",
      "6\n",
      "8\n",
      "10\n",
      "12\n",
      "14\n",
      "16\n",
      "18\n",
      "Goodbye\n"
     ]
    }
   ],
   "source": [
    "test()"
   ]
  },
  {
   "cell_type": "markdown",
   "metadata": {},
   "source": [
    "Если вы вызовете test(), то получите такой вывод:"
   ]
  },
  {
   "cell_type": "markdown",
   "metadata": {},
   "source": [
    "5\n",
    "helloworld\n",
    "0\n",
    "2\n",
    "4\n",
    "6\n",
    "8\n",
    "10\n",
    "12\n",
    "14\n",
    "16\n",
    "18\n",
    "Goodbye"
   ]
  },
  {
   "cell_type": "markdown",
   "metadata": {},
   "source": [
    "Если исключить специальный декоратор и использование yield, то вы заметите, что функции обратного вызова нигде не появляются (только «под капотом»)."
   ]
  },
  {
   "cell_type": "markdown",
   "metadata": {},
   "source": [
    "Этот рецепт – испытание для ваших знаний в области функций обратного вызова, генераторов и потока управления."
   ]
  },
  {
   "cell_type": "markdown",
   "metadata": {},
   "source": [
    "Во-первых, основная фишка кода с  функциями обратного вызова в том, что текущее вычисление приостанавливается и  возобновляется в  какой-то момент времени позже (т. е. асинхронно). \n",
    "\n",
    "Когда вычисление возобновляется, для продолжения обработки выполняется функция обратного вызова. \n",
    "\n",
    "Функция apply_sync() иллюстрирует важнейшие составляющие выполнения функции обратного вызова, хотя в реальном мире процесс может быть намного сложнее (в нем могут использоваться потоки, процессы, обработчики событий и т. п.).\n",
    "\n",
    "Идея того, что вычисление приостановится и возобновится, естественным образом отображается на модель выполнения генератора. Если точнее, то операция\n",
    "yield заставляет генератор выдавать значение и приостанавливаться. \n",
    "\n",
    "Последующие вызовы методов генератора __next__() или send() заставят его снова запуститься.\n",
    "\n",
    "Имея это в виду, мы можем понять, что суть этого рецепта заключена в декораторе inline_async(). \n",
    "\n",
    "Главная идея в том, что декоратор пошагово проводит генератор через все его инструкции yield. \n",
    "\n",
    "Чтобы это сделать, создается очередь результатов и  изначально наполняется значениями None. \n",
    "\n",
    "Затем инициируется цикл,в котором результат вынимается из очереди и посылается в генератор. \n",
    "\n",
    "Это вызывает следующий yield, где принимается экземпляр Async. \n",
    "\n",
    "Затем цикл смотрит на функцию и аргументы и вызывает асинхронное вычисление apply_sync(). \n",
    "\n",
    "Однако наиболее хитрая часть этого вычисления в том, что вместо использования обычной функции обратного вызова функция обратного вызова установлена на метод\n",
    "очереди put().\n",
    "\n",
    "В этот момент остается открытым вопрос о том, что произойдет. \n",
    "\n",
    "Главный цикл немедленно возвращается наверх и просто выполняет операцию get() на очереди. \n",
    "\n",
    "Если данные присутствуют, то это должен быть результат, помещенный туда функцией обратного вызова put(). \n",
    "\n",
    "Если же ничего нет, операция блокируется\n",
    "и ждет, когда придет результат. \n",
    "\n",
    "Как это может произойти – зависит от конкретной\n",
    "реализации функции apply_async().\n",
    "\n",
    "Если вы сомневаетесь, что такая безумная штука может работать, вы можете попробовать ее с библиотекой multiprocessing и заставить асинхронные операции\n",
    "выполняться в отдельных процессах:"
   ]
  },
  {
   "cell_type": "code",
   "execution_count": null,
   "metadata": {},
   "outputs": [],
   "source": [
    "import multiprocessing\n",
    "pool = multiprocessing.Pool()\n",
    "apply_async = pool.apply_async\n",
    "# Запускаем тестовую функцию\n",
    "test()"
   ]
  },
  {
   "cell_type": "markdown",
   "metadata": {},
   "source": [
    "Вы обнаружите, что это работает, но чтобы разобраться в потоке управления, вам потребуется немало кофе.\n",
    "\n",
    "Прием скрытия нетривиального потока управления за генераторами можно найти повсеместно в  стандартной библиотеке и  сторонних пакетах. \n",
    "\n",
    "Например, декоратор @contextmanager из библиотеки contextlib выполняет похожий безумный фокус, который через инструкцию yield склеивает вход в менеджер контекста и выход из него. \n",
    "\n",
    "Популярный пакет Twisted тоже использует похожие встроенные функции обратного вызова."
   ]
  },
  {
   "cell_type": "markdown",
   "metadata": {},
   "source": [
    "# 7.12. Доступ к переменным, определенным внутри замыкания"
   ]
  },
  {
   "cell_type": "markdown",
   "metadata": {},
   "source": [
    "Вы хотите добавить в  замыкание функции, которые позволят получать доступ и изменять внутренние переменные."
   ]
  },
  {
   "cell_type": "markdown",
   "metadata": {},
   "source": [
    "В обычном случае внутренние переменные замыкания полностью скрыты от внешнего мира. \n",
    "\n",
    "Однако вы можете предоставить доступ путем написания функций для доступа и прикрепления их к замыканию в качестве атрибутов функции.\n",
    "\n",
    "Например:"
   ]
  },
  {
   "cell_type": "code",
   "execution_count": 10,
   "metadata": {},
   "outputs": [],
   "source": [
    "def sample():\n",
    "    n = 0\n",
    "    # Функция-замыкание\n",
    "    def func():\n",
    "        print('n = ', n)\n",
    "        \n",
    "    #Методы доступа к n\n",
    "    def get_n():\n",
    "        return n\n",
    "    \n",
    "    def set_n(value):\n",
    "        nonlocal n\n",
    "        n = value\n",
    "        \n",
    "    # Прикрепление в качестве атрибутов функции\n",
    "    func.get_n = get_n\n",
    "    func.set_n = set_n\n",
    "    return func"
   ]
  },
  {
   "cell_type": "markdown",
   "metadata": {},
   "source": [
    "Вот пример использования этого кода:"
   ]
  },
  {
   "cell_type": "code",
   "execution_count": 12,
   "metadata": {},
   "outputs": [
    {
     "name": "stdout",
     "output_type": "stream",
     "text": [
      "n =  0\n"
     ]
    }
   ],
   "source": [
    "f = sample()\n",
    "f()\n",
    "#n = 0"
   ]
  },
  {
   "cell_type": "code",
   "execution_count": 11,
   "metadata": {},
   "outputs": [
    {
     "name": "stdout",
     "output_type": "stream",
     "text": [
      "n =  10\n"
     ]
    }
   ],
   "source": [
    "f.set_n(10)\n",
    "f()\n",
    "#n = 10"
   ]
  },
  {
   "cell_type": "code",
   "execution_count": 9,
   "metadata": {},
   "outputs": [
    {
     "data": {
      "text/plain": [
       "10"
      ]
     },
     "execution_count": 9,
     "metadata": {},
     "output_type": "execute_result"
    }
   ],
   "source": [
    "f.get_n()\n",
    "#10"
   ]
  },
  {
   "cell_type": "markdown",
   "metadata": {},
   "source": [
    "Две главные возможности языка позволяют этому рецепту работать. \n",
    "\n",
    "Во-первых, инструкции nonlocal делают возможным написание функций, которые изменяют внутренние  переменные. \n",
    "\n",
    "Во-вторых, атрибуты функции дают возможность напрямую прикреплять методы для доступа к замыканию, и они работают практически так же, как методы экземпляра (хотя классы тут не используются)."
   ]
  },
  {
   "cell_type": "markdown",
   "metadata": {},
   "source": [
    "Небольшое дополнение к  этому рецепту позволит замыканиям эмулировать экземпляры класса. \n",
    "\n",
    "Все, что вам нужно, – это скопировать внутренние функции в словарь экземпляра и возвратить его. \n",
    "\n",
    "Например:"
   ]
  },
  {
   "cell_type": "code",
   "execution_count": 13,
   "metadata": {},
   "outputs": [],
   "source": [
    "import sys\n",
    "\n",
    "class ClosureInstance:\n",
    "    def __init__(self, locals=None):\n",
    "        if locals is None:\n",
    "            locals = sys._getframe(1).f_locals\n",
    "            \n",
    "        # Обновить словарь экземпляра вызываемыми объектами\n",
    "        self.__dict__.update((key,value) for key, value in locals.items()\n",
    "                             if callable(value) )\n",
    "        # перегружаем специальные методы\n",
    "    def __len__(self):\n",
    "        return self.__dict__['__len__']()"
   ]
  },
  {
   "cell_type": "code",
   "execution_count": 14,
   "metadata": {},
   "outputs": [],
   "source": [
    "# Пример использования\n",
    "def Stack():\n",
    "    items = []\n",
    "    \n",
    "    def push(item):\n",
    "        items.append(item)\n",
    "\n",
    "    def pop():\n",
    "        return items.pop()\n",
    "\n",
    "    def __len__():\n",
    "        return len(items)\n",
    "    return ClosureInstance()"
   ]
  },
  {
   "cell_type": "markdown",
   "metadata": {},
   "source": [
    "Вот интерактивный сеанс, который показывает, как все это работает:"
   ]
  },
  {
   "cell_type": "code",
   "execution_count": 15,
   "metadata": {},
   "outputs": [
    {
     "data": {
      "text/plain": [
       "<__main__.ClosureInstance at 0x17a5e4d06a0>"
      ]
     },
     "execution_count": 15,
     "metadata": {},
     "output_type": "execute_result"
    }
   ],
   "source": [
    "s = Stack()\n",
    "s\n",
    "#<__main__.ClosureInstance object at 0x10069ed10>"
   ]
  },
  {
   "cell_type": "code",
   "execution_count": 16,
   "metadata": {},
   "outputs": [
    {
     "data": {
      "text/plain": [
       "3"
      ]
     },
     "execution_count": 16,
     "metadata": {},
     "output_type": "execute_result"
    }
   ],
   "source": [
    "s.push(10)\n",
    "s.push(20)\n",
    "s.push('Hello')\n",
    "len(s)\n",
    "#3"
   ]
  },
  {
   "cell_type": "code",
   "execution_count": 17,
   "metadata": {},
   "outputs": [
    {
     "data": {
      "text/plain": [
       "'Hello'"
      ]
     },
     "execution_count": 17,
     "metadata": {},
     "output_type": "execute_result"
    }
   ],
   "source": [
    "s.pop()\n",
    "#'Hello'"
   ]
  },
  {
   "cell_type": "code",
   "execution_count": 18,
   "metadata": {},
   "outputs": [
    {
     "data": {
      "text/plain": [
       "20"
      ]
     },
     "execution_count": 18,
     "metadata": {},
     "output_type": "execute_result"
    }
   ],
   "source": [
    "s.pop()\n",
    "#20"
   ]
  },
  {
   "cell_type": "code",
   "execution_count": 19,
   "metadata": {},
   "outputs": [
    {
     "data": {
      "text/plain": [
       "10"
      ]
     },
     "execution_count": 19,
     "metadata": {},
     "output_type": "execute_result"
    }
   ],
   "source": [
    "s.pop()\n",
    "#10"
   ]
  },
  {
   "cell_type": "markdown",
   "metadata": {},
   "source": [
    "Интересно, что этот код работает немного быстрее аналога, использующего обычное определение класса. \n",
    "\n",
    "Например, вы можете проверить производительность по сравнению с таким классом:"
   ]
  },
  {
   "cell_type": "code",
   "execution_count": 20,
   "metadata": {},
   "outputs": [],
   "source": [
    "class Stack2:\n",
    "    def __init__(self):\n",
    "        self.items = []\n",
    "        \n",
    "    def push(self, item):\n",
    "        self.items.append(item)\n",
    "        \n",
    "    def pop(self):\n",
    "        return self.items.pop()\n",
    "    \n",
    "    def __len__(self):\n",
    "        return len(self.items)"
   ]
  },
  {
   "cell_type": "markdown",
   "metadata": {},
   "source": [
    "Если вы это сделаете, то получите похожие результаты:"
   ]
  },
  {
   "cell_type": "code",
   "execution_count": 21,
   "metadata": {},
   "outputs": [
    {
     "data": {
      "text/plain": [
       "0.8244574000000284"
      ]
     },
     "execution_count": 21,
     "metadata": {},
     "output_type": "execute_result"
    }
   ],
   "source": [
    "from timeit import timeit\n",
    "# Тест с использованием замыканий\n",
    "s = Stack()\n",
    "timeit('s.push(1);s.pop()', 'from __main__ import s')\n",
    "#0.9874754269840196"
   ]
  },
  {
   "cell_type": "code",
   "execution_count": 22,
   "metadata": {},
   "outputs": [
    {
     "data": {
      "text/plain": [
       "0.8457025000002432"
      ]
     },
     "execution_count": 22,
     "metadata": {},
     "output_type": "execute_result"
    }
   ],
   "source": [
    "# Тест с использованием класса\n",
    "s = Stack2()\n",
    "timeit('s.push(1);s.pop()', 'from __main__ import s')\n",
    "#1.0707052160287276"
   ]
  },
  {
   "cell_type": "markdown",
   "metadata": {},
   "source": [
    "Как показано выше, версия на базе замыкания работает на 8 % быстрее. \n",
    "\n",
    "По большей части выигрыш возникает за счет прямого доступа к переменным экземпляра. \n",
    "\n",
    "Замыкания быстрее, потому что не используют дополнительную переменную self.\n",
    "\n",
    "Рэймонд Хеттингер предложил еще более дьявольский вариант этой идеи. \n",
    "\n",
    "Однако если вы склоняетесь использовать что-то такое в своей программе, помните, что это просто диковинная замена настоящему классу. \n",
    "\n",
    "Например, ключевые возможности типа наследования, свойств, дескрипторов или методов класса работать не будут. \n",
    "\n",
    "Вам также придется поплясать с бубном, чтобы заставить специальные методы работать (например, обратите внимание на реализацию метода __len__() в ClosureInstance).\n",
    "\n",
    "И последнее: вы рискуете затруднить жизнь людям, которые будут читать ваш код и размышлять о том, почему в нем нет нормального определения класса (конечно, они также задумаются, почему ваша версия работает быстрее). \n",
    "\n",
    "Но, в любом случае, это интересный пример того, чего можно достичь, предоставляя доступ\n",
    "к «внутренностям» замыкания.\n",
    "\n",
    "Добавление методов в замыкания может иметь больше смысла в задачах, в рамках которых вам нужно делать вещи типа сброса внутреннего состояния, сброса\n",
    "буферов, очистки кеша или реализации какого-то механизма обратной связи."
   ]
  }
 ],
 "metadata": {
  "kernelspec": {
   "display_name": "Python 3",
   "language": "python",
   "name": "python3"
  },
  "language_info": {
   "codemirror_mode": {
    "name": "ipython",
    "version": 3
   },
   "file_extension": ".py",
   "mimetype": "text/x-python",
   "name": "python",
   "nbconvert_exporter": "python",
   "pygments_lexer": "ipython3",
   "version": "3.7.0"
  }
 },
 "nbformat": 4,
 "nbformat_minor": 2
}
